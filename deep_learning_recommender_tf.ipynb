{
 "cells": [
  {
   "cell_type": "markdown",
   "metadata": {
    "gradient": {
     "editing": false,
     "id": "ccda213f-debb-4fa1-9b72-8f10c112b3fe",
     "kernelId": ""
    },
    "id": "1zKrxVlfnqvM"
   },
   "source": [
    "# Deep Learning Recommenders in TensorFlow\n",
    "\n",
    "Dr. Nick Ball  \n",
    "Data-Scientist-in-Residence, Paperspace\n",
    "\n",
    "Last updated: Nov 12th 2021\n",
    "\n",
    "This self-contained notebook shows the use of Paperspace Gradient to implement a recommender system using TensorFlow. It accompanies the 6-part blog series \"Gradient End-to-End: A Recommender System using Notebooks and Workflows\" on the [Paperspace blog](https://blog.paperspace.com), and the associated [Git Repository](https://github.com/gradient-ai/Deep-Learning-Recommender-TF).\n",
    "\n",
    "The project includes these main highlights:\n",
    "\n",
    "1. Show a real-world-style example of machine learning on Gradient\n",
    "2. End-to-end dataflow incorporating both Gradient Notebooks and Workflows\n",
    "3. Modern data science methodology based on Gradient's integrations with Git\n",
    "4. Use TensorFlow 2 and TensorFlow Recommenders (TFRS) to train a recommender model that includes deep learning\n",
    "5. Use training data that reflects what real-world projects deal with (not just demo data)\n",
    "6. Construct a custom model using the full TensorFlow subclassing API\n",
    "7. Show working hyperparameter tuning that improves the results\n",
    "8. Deploy model using Gradient Deployments and its TensorFlow Serving integrations\n",
    "9. Accompanying material: self-contained working Jupyter notebook, and Git repository\n",
    "10. Aimed at a broad technical audience: data scientists who are not engineers, engineers who are not data scientists, those who span the two disciplines, and others\n",
    "\n",
    "The project is not a complete enterprise-grade recommender system: they would typically take teams of several people months to construct, and result in an amount of code far greater than shown here, but it aims to be more than just a simple demonstration or toy model, by showcasing real data science techniques. In the Appendix we discuss some of the steps one might take to go from the project here to a full system, with a focus on Gradient's capabilities.\n",
    "\n",
    "We assume the reader of this notebook is somewhat technical, but not necessarily an expert in recommender systems, deep learning, TensorFlow, or Paperspace."
   ]
  },
  {
   "cell_type": "markdown",
   "metadata": {
    "gradient": {
     "editing": false,
     "id": "1c6661f1-13d8-4a0c-a567-2f68f08a5bdc",
     "kernelId": ""
    }
   },
   "source": [
    "## Note: Section 5 is coming soon!\n",
    "\n",
    "Model deployment support in the Gradient product on public clusters is currently pending, expected in Sept. 2021. Therefore section 5 of the Notebook on model deployment is shown but will not yet run.\n"
   ]
  },
  {
   "cell_type": "markdown",
   "metadata": {
    "gradient": {
     "editing": false,
     "id": "b53f6968-20b4-499e-9cec-e491c4e37097",
     "kernelId": ""
    }
   },
   "source": [
    "### Requirements\n",
    "\n",
    "The notebook is designed to run on Paperspace Gradient\n",
    "\n",
    " - In the Gradient GUI, create a Project with a name, e.g., Deep Learning Recommender\n",
    " - Within the project, create a Notebook with the following settings:\n",
    "   - Don't select any of the boxes under Select a runtime\n",
    "   - Select a machine = C4 (C5, P4000, etc., will also work)\n",
    "   - Public/private = set to preferred option\n",
    "   - Under Advanced options:\n",
    "     - Set the Workspace URL field to https://github.com/gradient-ai/Deep-Learning-Recommender-TF to point to this repository.\n",
    "     - Set the Container name field to `tensorflow/tensorflow:2.4.1-gpu-jupyter`\n",
    "     - Set the Container command to `jupyter notebook --allow-root --ip=0.0.0.0 --no-browser --NotebookApp.trust_xheaders=True --NotebookApp.disable_check_xsrf=False --NotebookApp.allow_remote_access=True --NotebookApp.allow_origin='*'`\n",
    "     - The other options can remain the same.\n",
    " - Start the Notebook\n",
    "\n",
    "Once the Notebook has started, click `deep_learning_recommender_tf.ipynb` to run in the usual way by clicking Run under each cell in turn.\n",
    "\n",
    "Notebook creation can also be done on the command line if desired, via gradient notebooks create. For more details on Notebooks, see the documentation.\n",
    "\n",
    "Alternatively, you can clone the Git repository and run in your own notebook setup\n",
    "\n",
    " - `git clone https://github.com/gradient-ai/Deep-Learning-Recommender-TF.git` (the repo is public, so Git's ssh command form is not required)\n",
    " - Be able to run Python 3, and import modules as in Section 2 below: Matplotlib, NumPy, TensorFlow 2, TFDS, TFRS\n",
    " - We use some notebook cell magic lines, such as `%matplotlib`"
   ]
  },
  {
   "cell_type": "markdown",
   "metadata": {
    "gradient": {
     "editing": false,
     "id": "5b638cdd-222a-4188-953b-e15a349b64a2",
     "kernelId": ""
    }
   },
   "source": [
    "### Additional requirements to run Gradient Workflows and model deployment (sections 4.3+)\n",
    "\n",
    "In addition to the above, to run the Gradient Workflows in section 4.3 and the model deployment in section 5 requires some more setup.\n",
    "\n",
    "This step is optional:\n",
    "\n",
    " - Use or create a [Gradient Private Cluster](https://docs.paperspace.com/gradient/gradient-private-cloud/about/setup/managed-installation) and [get its ID](https://docs.paperspace.com/gradient/gradient-private-cloud/about/usage#finding-your-cluster-id). If no cluster ID is specified, the Gradient public cluster will be used.\n",
    "\n",
    "These requirements will remain, being associated with Workflows as the enterprise-grade production part of Gradient:\n",
    "\n",
    " - [Create a project](https://docs.paperspace.com/gradient/get-started/managing-projects#create-a-project) and [get its ID](https://docs.paperspace.com/gradient/get-started/managing-projects#get-your-projects-id)\n",
    " - [Generate an API key](https://docs.paperspace.com/gradient/get-started/quick-start/install-the-cli#obtaining-an-api-key) for your project to allow access\n",
    " - [Store the API key](https://docs.paperspace.com/gradient/get-started/managing-projects/storing-an-api-key-as-a-secret) as a secret in your project\n",
    "\n",
    "These steps will go away as the product matures around Workflows:\n",
    "\n",
    " - [Create the two workflows](https://docs.paperspace.com/gradient/explore-train-deploy/workflows/getting-started-with-workflows#creating-gradient-workflows) named `recommender-train-model` and `recommender-deploy-model`, and [get their IDs](https://docs.paperspace.com/gradient/explore-train-deploy/workflows/getting-started-with-workflows#running-your-first-workflow-run)\n",
    " - [Create an output dataset](https://docs.paperspace.com/gradient/data/data-overview/private-datasets-repository#creating-a-dataset-and-dataset-version) for the training workflow, named `recommender`\n",
    " \n",
    "The create workflow step and create output dataset can be done via the GUI, or the [command line interface](https://docs.paperspace.com/gradient/get-started/quick-start/install-the-cli) (CLI). The commands for the latter look like\n",
    "\n",
    "`gradient storageProviders list --apiKey <your API key>` \n",
    " \n",
    "Note the `storage provider ID` for **Gradient Managed** storage.\n",
    "\n",
    "`gradient datasets create --name recommender --storageProviderId <your storage provider ID> --apiKey <your API key>`  \n",
    "`gradient workflows create --name Recommender-Train-Model --projectId <your project ID> --apiKey <your API key>`  \n",
    "`gradient workflows create --name Recommender-Deploy-Model --projectId <your project ID> --apiKey <your API key>`\n",
    "\n",
    "The usage of `--apiKey` on the command line is optional: you can also store a key in a JSON file, e.g., `~/.paperspace/config.json` to avoid having to add it to each command. Here we leave it present. Another option is the environment variable `PAPERSPACE_API_KEY`. See [connecting your account](https://docs.paperspace.com/gradient/get-started/quick-start/install-the-cli#connecting-your-account) for more details.\n",
    "\n",
    "Note that one thing that is *not* required for this project is any setup on your own machine, unless you choose to use the CLI. This is because the Workflows are invoked from this Notebook, via the SDK."
   ]
  },
  {
   "cell_type": "markdown",
   "metadata": {
    "gradient": {
     "editing": false,
     "id": "080fde46-2160-4aef-82f2-6cd9ceec9a92",
     "kernelId": ""
    }
   },
   "source": [
    "### Format of notebook text\n",
    "\n",
    "The main text is shown as MarkDown, like this."
   ]
  },
  {
   "cell_type": "code",
   "execution_count": null,
   "metadata": {
    "gradient": {
     "editing": false,
     "id": "73b20b1b-b9c4-4454-a715-7068f7a48f81",
     "kernelId": ""
    }
   },
   "outputs": [],
   "source": [
    "# Optional extra information is in cell comments, like this."
   ]
  },
  {
   "cell_type": "markdown",
   "metadata": {
    "gradient": {
     "editing": false,
     "id": "17f2ea5b-5a7b-4590-b3d1-fb11f08d4754",
     "kernelId": ""
    }
   },
   "source": [
    "### Recommenders\n",
    "\n",
    "Recommender systems are widely used in modern artificial intelligence, most prominently in retail and entertainment content. However, many of these systems in businesses still use classical methods such as matrix factorization that may not capture all of the information now available.\n",
    "\n",
    "The addition of the fully nonlinear mappings allowed by machine learning, for example deep learning neural network layers, can improve the performance of recommender systems by both capturing more of the complex patterns of information that are present, and by making it easier to add new information in the form of further data feature columns, such as detailed text descriptions or reviews, multiple user and item information columns, or timestamps.\n",
    "\n",
    "Here, we use the new TensorFlow Recommenders library to show how the addition of deep learning to a recommender model improves its performance."
   ]
  },
  {
   "cell_type": "markdown",
   "metadata": {
    "gradient": {
     "editing": false,
     "id": "185f3b48-0dca-441c-8c34-7d5fd0a5e9ce",
     "kernelId": ""
    },
    "id": "VAsFUrkgyYAu"
   },
   "source": [
    "# Contents\n",
    "\n",
    "1. Introduction: Recommender systems and deep learning\n",
    "2. Setup\n",
    "3. Preparing the dataset\n",
    "4. Build the recommender models\n",
    "5. Deploy the final model\n",
    "6. Conclusions\n",
    "\n",
    "Next Steps  \n",
    "Appendices"
   ]
  },
  {
   "cell_type": "markdown",
   "metadata": {
    "gradient": {
     "editing": false,
     "id": "f4b12273-0446-4da1-96cf-8868d3dd1d3f",
     "kernelId": ""
    },
    "id": "tnDTzpDQ_hUS"
   },
   "source": [
    "## 1: Introduction: Recommender systems and deep learning\n",
    "\n",
    "A good way to describe most recommender systems is:\n",
    "\n",
    "*Present suggested new items to a user that users similar to them already liked.*\n",
    "\n",
    "This is on the assumption that if users similar to them liked something, there is a better-than-random chance that they will like it too.\n",
    "\n",
    "The short sentence above involves several concepts, including information about a user, how to measure if they are similar to another user, what items the other users liked, how to choose candidate items to present from the whole list, and how to rank those choices.\n",
    "\n",
    "(There are further ideas as well, such as whether a user rated an item explicitly or just implicitly liked it by watching or buying it, and using other similarities such as item-item as well as user-user similarity.)\n",
    "\n",
    "Here, we use the well-known MovieLens dataset, containing information about which movies users watched, along with details of the movies, the users, and the times of viewing. The idea is to present to a user suggested movies that they might like to watch next.\n",
    "\n",
    "While not a huge modern dataset with millions of viewings from millions of users, it has been widely used, and is \"real enough\" to show both how deep learning can improve recommender models, and how to set up and end-to-end data science workflow.\n",
    "\n",
    "The content of this notebook is based on the tutorials of the [TensorFlow Recommenders (TFRS) library](https://www.tensorflow.org/recommenders), modified to include more real-world data science steps, and showing a model being deployed into production.\n",
    "\n",
    "As described there, recommender models commonly consist of two parts:\n",
    "\n",
    " - Retrieval, which selects possible candidates from the whole list of items that could be recommended, in this case being movies the user might be interested in\n",
    " - Ranking, which narrows down this list to a refined set of items to recommend\n",
    "\n",
    "We concentrate on the ranking portion, showing how the addition of deep learning layers, data features, and hyperparameter tuning, improves the performance of the model.\n",
    "\n",
    "We then show how the resulting model can be easily deployed with Gradient Deployments.\n",
    "\n",
    "The concentration on just one part of the models to be built is so that we can show more fully realized data science steps, the end-to-end process using both Gradient Notebooks and Workflows, and some of the corresponding functionaity, without the project becoming overly long or repetitive."
   ]
  },
  {
   "cell_type": "markdown",
   "metadata": {
    "gradient": {
     "editing": false,
     "id": "cd8dc7dd-a9be-421a-a3ea-1414e9c6c096",
     "kernelId": ""
    },
    "id": "3EeRY5DQI5VV"
   },
   "source": [
    "## 2: Setup\n",
    "\n",
    "This project uses [TensorFlow Datasets (TFDS)](https://www.tensorflow.org/datasets) and the TensorFlow Recommenders library (TFRS) in addition to the basic TensorFlow 2 and Python 3.\n",
    "\n",
    "TFRS was created as a separate library because recommender systems typically do not correspond to the simple setup of supervised learning models, but have a more complex arrangement of processing steps associated with them. So rather than using a few layers in the high-level TensorFlow Keras Sequential or [Functional](https://www.tensorflow.org/guide/keras/functional) APIs, they need the custom model and custom layer setup in the lower level representation of writing the model classes and subclasses directly.\n",
    "\n",
    "However, recommenders do contain their own common components, such as the FactorizedTopK performance metric for retrieval, that mean usage of a library is considerably more convenient than writing something from scratch in TensorFlow.\n",
    "\n",
    "We use TensorFlow Datasets as the emphases in this project are recommenders, Gradient functionality, end-to-end, and showing some model tuning, rather than data gathering, cleaning, and preparation. Of course, in a full enterprise system this would be a more prominent aspect of the dataflow.\n",
    "\n",
    "Let's install TFDS, TFRS, and import these and the Python modules that we need."
   ]
  },
  {
   "cell_type": "code",
   "execution_count": null,
   "metadata": {
    "gradient": {
     "editing": false,
     "id": "dbe8232b-9934-495c-87cd-55f403afc2b2",
     "kernelId": ""
    },
    "id": "9gG3jLOGbaUv"
   },
   "outputs": [
    {
     "name": "stdout",
     "output_type": "stream",
     "text": [
      "Collecting pip\n",
      "  Downloading pip-21.3.1-py3-none-any.whl (1.7 MB)\n",
      "\u001b[K     |████████████████████████████████| 1.7 MB 18.4 MB/s eta 0:00:01\n",
      "\u001b[?25hInstalling collected packages: pip\n",
      "  Attempting uninstall: pip\n",
      "    Found existing installation: pip 20.2.4\n",
      "    Uninstalling pip-20.2.4:\n",
      "      Successfully uninstalled pip-20.2.4\n",
      "Successfully installed pip-21.3.1\n",
      "\u001b[33mWARNING: Running pip as the 'root' user can result in broken permissions and conflicting behaviour with the system package manager. It is recommended to use a virtual environment instead: https://pip.pypa.io/warnings/venv\u001b[0m\n",
      "\u001b[33mWARNING: Running pip as the 'root' user can result in broken permissions and conflicting behaviour with the system package manager. It is recommended to use a virtual environment instead: https://pip.pypa.io/warnings/venv\u001b[0m\n"
     ]
    }
   ],
   "source": [
    "# Currently the notebook is using pip install, which would not be ideal in a production environment.\n",
    "# This is because the install changes the environment and the versions of libraries being installed are\n",
    "# not necessarily fixed, meaning the environment is not fixed and hence reproducibility is not guaranteed.\n",
    "# One could use requirements.txt, but this also does not necessarily fix things due to secondary dependencies.\n",
    "\n",
    "# Various solutions exist, but for rigorous work, Gradient allows the user to build a custom container\n",
    "# containing the correct dependencies, which removes the need for pip install.\n",
    "\n",
    "# Here, the container we use fixes versions, except for TFDS and TFRS, whose versions we therefore fix.\n",
    "\n",
    "!pip install --upgrade pip\n",
    "!pip install -q tensorflow-recommenders==0.4.0\n",
    "!pip install -q --upgrade tensorflow-datasets==4.2.0"
   ]
  },
  {
   "cell_type": "code",
   "execution_count": null,
   "metadata": {
    "gradient": {
     "editing": false,
     "id": "951710e0-dcad-4a49-ad0e-ac4d3227671c",
     "kernelId": ""
    },
    "id": "SZGYDaF-m5wZ"
   },
   "outputs": [],
   "source": [
    "import os\n",
    "import platform\n",
    "\n",
    "# This is Python's function for more nicely or compactly printing variables or data\n",
    "import pprint\n",
    "\n",
    "# Python 3 allows hints on variable types to be given\n",
    "# Here they are used in the model class definitions\n",
    "from typing import Dict, Text\n",
    "\n",
    "# NumPy is used, e.g., for viewing the data in TensorFlow tensors\n",
    "# TensorFlow tensors are built on NumPy arrays\n",
    "import numpy as np\n",
    "\n",
    "# This allows simple inline plots of, e.g., model training history\n",
    "%matplotlib inline\n",
    "import matplotlib.pyplot as plt\n",
    "plt.style.use('seaborn-whitegrid') # Following TFRS tutorials\n",
    "\n",
    "# TensorFlow, TFDS, TFRS\n",
    "import tensorflow as tf\n",
    "import tensorflow_datasets as tfds\n",
    "import tensorflow_recommenders as tfrs"
   ]
  },
  {
   "cell_type": "markdown",
   "metadata": {
    "gradient": {
     "editing": false,
     "id": "351e3deb-5d51-4db2-a0e8-88e4e6501049",
     "kernelId": ""
    },
    "id": "ecPlfiYXJDQe"
   },
   "source": [
    "We can see some basic information about the versions of software that we are using. In principle, the container could be accessed to find out more."
   ]
  },
  {
   "cell_type": "code",
   "execution_count": null,
   "metadata": {
    "colab": {
     "base_uri": "https://localhost:8080/"
    },
    "gradient": {
     "editing": false,
     "id": "01073185-dfff-499a-ae9b-a123ac8f48b9",
     "kernelId": ""
    },
    "id": "Nc5Um6Y44D-Q",
    "outputId": "df8fe35b-e2e5-4a09-be4a-13c63c757ebe"
   },
   "outputs": [
    {
     "name": "stdout",
     "output_type": "stream",
     "text": [
      "NumPy version: 1.19.5\n",
      "Python version: 3.6.9\n",
      "TensorFlow version: 2.4.0\n",
      "TensorFlow Datasets version: 4.2.0\n",
      "TensorFlow Recommenders version: v0.4.0\n"
     ]
    }
   ],
   "source": [
    "print('NumPy version: {}'.format(np.__version__))\n",
    "print('Python version: {}'.format(platform.python_version()))\n",
    "print('TensorFlow version: {}'.format(tf.__version__))\n",
    "print('TensorFlow Datasets version: {}'.format(tfds.__version__))\n",
    "print('TensorFlow Recommenders version: {}'.format(tfrs.__version__))"
   ]
  },
  {
   "cell_type": "markdown",
   "metadata": {
    "gradient": {
     "editing": false,
     "id": "d9913690-51b7-479c-8b13-036b5d136f8e",
     "kernelId": ""
    },
    "id": "GJORoRytYAGI"
   },
   "source": [
    "We can see if GPUs, etc., are available, or just CPU. Here we do not currently specify devices other than the default, as the processing run is not large enough to require a GPU."
   ]
  },
  {
   "cell_type": "code",
   "execution_count": null,
   "metadata": {
    "colab": {
     "base_uri": "https://localhost:8080/"
    },
    "gradient": {
     "editing": false,
     "id": "f8318f17-c47b-47c8-a50a-4f23abf8e99e",
     "kernelId": ""
    },
    "id": "o914Boo2YDYz",
    "outputId": "1c553eac-8a74-4955-990e-6a6245fc14da"
   },
   "outputs": [
    {
     "name": "stdout",
     "output_type": "stream",
     "text": [
      "[name: \"/device:CPU:0\"\n",
      "device_type: \"CPU\"\n",
      "memory_limit: 268435456\n",
      "locality {\n",
      "}\n",
      "incarnation: 11116880676765012419\n",
      "]\n"
     ]
    }
   ],
   "source": [
    "from tensorflow.python.client import device_lib\n",
    "print(device_lib.list_local_devices())"
   ]
  },
  {
   "cell_type": "markdown",
   "metadata": {
    "gradient": {
     "editing": false,
     "id": "aca0175a-a3f1-4788-9cec-b9fe76a4a9c0",
     "kernelId": ""
    },
    "id": "5PAqjR4a1RR4"
   },
   "source": [
    "## 3: Preparing the dataset\n",
    "\n",
    "Load the MovieLens data from TensorFlow Datasets."
   ]
  },
  {
   "cell_type": "code",
   "execution_count": null,
   "metadata": {
    "gradient": {
     "editing": false,
     "id": "01ab5e7e-104b-4139-8078-dcb3c0e30c7d",
     "kernelId": ""
    },
    "id": "aaQhqcLGP0jL"
   },
   "outputs": [
    {
     "name": "stdout",
     "output_type": "stream",
     "text": [
      "\u001b[1mDownloading and preparing dataset 4.70 MiB (download: 4.70 MiB, generated: 32.41 MiB, total: 37.10 MiB) to /root/tensorflow_datasets/movielens/100k-ratings/0.1.0...\u001b[0m\n"
     ]
    },
    {
     "data": {
      "application/vnd.jupyter.widget-view+json": {
       "model_id": "3255d04c6ca949fba8dca13c54a5d952",
       "version_major": 2,
       "version_minor": 0
      },
      "text/plain": [
       "Dl Completed...: 0 url [00:00, ? url/s]"
      ]
     },
     "metadata": {},
     "output_type": "display_data"
    },
    {
     "data": {
      "application/vnd.jupyter.widget-view+json": {
       "model_id": "a5c5859755424e0ea931c2a3ffd6e08e",
       "version_major": 2,
       "version_minor": 0
      },
      "text/plain": [
       "Dl Size...: 0 MiB [00:00, ? MiB/s]"
      ]
     },
     "metadata": {},
     "output_type": "display_data"
    },
    {
     "data": {
      "application/vnd.jupyter.widget-view+json": {
       "model_id": "7949e5a980044e5db2b8698044520d13",
       "version_major": 2,
       "version_minor": 0
      },
      "text/plain": [
       "Extraction completed...: 0 file [00:00, ? file/s]"
      ]
     },
     "metadata": {},
     "output_type": "display_data"
    },
    {
     "name": "stdout",
     "output_type": "stream",
     "text": [
      "\n",
      "\n",
      "\n"
     ]
    },
    {
     "data": {
      "application/vnd.jupyter.widget-view+json": {
       "model_id": "345c14be36064a8fbe548521780c9ccc",
       "version_major": 2,
       "version_minor": 0
      },
      "text/plain": [
       "Generating splits...:   0%|          | 0/1 [00:00<?, ? splits/s]"
      ]
     },
     "metadata": {},
     "output_type": "display_data"
    },
    {
     "data": {
      "application/vnd.jupyter.widget-view+json": {
       "model_id": "9bd95f5d1911415293a7d59af6b829ae",
       "version_major": 2,
       "version_minor": 0
      },
      "text/plain": [
       "Generating train examples...:   0%|          | 0/100000 [00:00<?, ? examples/s]"
      ]
     },
     "metadata": {},
     "output_type": "display_data"
    },
    {
     "data": {
      "application/vnd.jupyter.widget-view+json": {
       "model_id": "35c0b43291f94d4a8e4cae1e78224b4e",
       "version_major": 2,
       "version_minor": 0
      },
      "text/plain": [
       "Shuffling movielens-train.tfrecord...:   0%|          | 0/100000 [00:00<?, ? examples/s]"
      ]
     },
     "metadata": {},
     "output_type": "display_data"
    },
    {
     "name": "stdout",
     "output_type": "stream",
     "text": [
      "\u001b[1mDataset movielens downloaded and prepared to /root/tensorflow_datasets/movielens/100k-ratings/0.1.0. Subsequent calls will reuse this data.\u001b[0m\n"
     ]
    }
   ],
   "source": [
    "# This loads the data from the official TensorFlow datasets repository\n",
    "# at https://www.tensorflow.org/datasets/catalog/movielens\n",
    "# The -ratings suffix indicates that we are loading the dataset with the\n",
    "# movies data joined to the ratings data\n",
    "\n",
    "ratings_raw = tfds.load('movielens/100k-ratings', split='train')"
   ]
  },
  {
   "cell_type": "code",
   "execution_count": null,
   "metadata": {
    "colab": {
     "base_uri": "https://localhost:8080/"
    },
    "gradient": {
     "editing": false,
     "id": "f68becde-80ae-40c5-a75a-1e3ba526f11f",
     "kernelId": ""
    },
    "id": "X_sx4C_Bw4sc",
    "outputId": "aff47275-f87a-482c-eb1f-a8093d449c97"
   },
   "outputs": [
    {
     "data": {
      "text/plain": [
       "<PrefetchDataset shapes: {bucketized_user_age: (), movie_genres: (None,), movie_id: (), movie_title: (), raw_user_age: (), timestamp: (), user_gender: (), user_id: (), user_occupation_label: (), user_occupation_text: (), user_rating: (), user_zip_code: ()}, types: {bucketized_user_age: tf.float32, movie_genres: tf.int64, movie_id: tf.string, movie_title: tf.string, raw_user_age: tf.float32, timestamp: tf.int64, user_gender: tf.bool, user_id: tf.string, user_occupation_label: tf.int64, user_occupation_text: tf.string, user_rating: tf.float32, user_zip_code: tf.string}>"
      ]
     },
     "execution_count": 6,
     "metadata": {},
     "output_type": "execute_result"
    }
   ],
   "source": [
    "# It is loaded as a TensorFlow PrefetchDataset\n",
    "ratings_raw"
   ]
  },
  {
   "cell_type": "markdown",
   "metadata": {
    "gradient": {
     "editing": false,
     "id": "fd129db8-c8df-43cc-aabb-86e618e517c2",
     "kernelId": ""
    },
    "id": "9VReDbPf4QRU"
   },
   "source": [
    "Data science workflows, especially in the experimental and model training stage as here, should contain a strong component of viewing the actual data throughout the analysis. This is both for the understanding of the experimenter, other readers, and for sanity checking.\n",
    "\n",
    "Here we see that various columns (features) are available, including information about the user, the movie they watched, and outcomes such as the user's rating of the movie.\n",
    "\n",
    "It is important to distinguish between information that is available before a user watches a movie from that which is only available after, as the latter cannot be used as a feature for training a recommender model. This is because the data to be fed into it when it is deployed must be available before the user has watched the movie that is being recommended to them.\n",
    "\n",
    "In this case, the requirement manifests as the `user_rating` column being a training target and not a feature, and a timestamp column that should be normalized into something that is cyclical like a day of week / month / year, and not an absolute date. Such a date won't come around again in the future when the model has been deployed on unseen data.\n",
    "\n",
    "We also immediately see issues with the data that may manifest further along in the dataflow, such as some of the columns being byte-encoded (strings like `b'357'` instead of just `'357'`). If the setup of TensorFlow Serving plus the RESTful API is to be used for deployment, these will have to be converted to be able to be represented in JSON for passing to the model when it is deployed.\n",
    "\n",
    "The end-to-end mentality of having deployment in scope from the start, enabled by Gradient, has encouraged us to look for and notice these issues right here, rather than spending time training the model and only then noticing them. The latter approach could result in signficant wasted effort if it turns out that the deployment issues are not solvable.\n",
    "\n",
    "The top 2 rows of data are shown."
   ]
  },
  {
   "cell_type": "code",
   "execution_count": null,
   "metadata": {
    "colab": {
     "base_uri": "https://localhost:8080/"
    },
    "gradient": {
     "editing": false,
     "id": "4cdf7d0d-e4fc-4f1a-b6b4-ae18fac1b47b",
     "kernelId": ""
    },
    "id": "JdNMayvVzhP9",
    "outputId": "2790ba40-5156-4601-aded-36340dc6db31"
   },
   "outputs": [
    {
     "name": "stdout",
     "output_type": "stream",
     "text": [
      "{'bucketized_user_age': 45.0,\n",
      " 'movie_genres': array([7]),\n",
      " 'movie_id': b'357',\n",
      " 'movie_title': b\"One Flew Over the Cuckoo's Nest (1975)\",\n",
      " 'raw_user_age': 46.0,\n",
      " 'timestamp': 879024327,\n",
      " 'user_gender': True,\n",
      " 'user_id': b'138',\n",
      " 'user_occupation_label': 4,\n",
      " 'user_occupation_text': b'doctor',\n",
      " 'user_rating': 4.0,\n",
      " 'user_zip_code': b'53211'}\n",
      "{'bucketized_user_age': 25.0,\n",
      " 'movie_genres': array([ 4, 14]),\n",
      " 'movie_id': b'709',\n",
      " 'movie_title': b'Strictly Ballroom (1992)',\n",
      " 'raw_user_age': 32.0,\n",
      " 'timestamp': 875654590,\n",
      " 'user_gender': True,\n",
      " 'user_id': b'92',\n",
      " 'user_occupation_label': 5,\n",
      " 'user_occupation_text': b'entertainment',\n",
      " 'user_rating': 2.0,\n",
      " 'user_zip_code': b'80525'}\n"
     ]
    }
   ],
   "source": [
    "# Just saying print(ratings) results in the output <PrefetchDataset shapes: ... as above\n",
    "# So the data is extracted from the TensorFlow tensor format using NumPy\n",
    "\n",
    "for x in ratings_raw.take(2).as_numpy_iterator():\n",
    "    pprint.pprint(x)"
   ]
  },
  {
   "cell_type": "markdown",
   "metadata": {
    "gradient": {
     "editing": false,
     "id": "73b20e58-b9a5-4997-9044-c6a99b88c9a9",
     "kernelId": ""
    },
    "id": "Eo1v4Oac63Te"
   },
   "source": [
    "TensorFlow's `.map()` applies the function in the brackets to each element of a dataset, so with the lambda inline Python function we can reduce the data down to just the columns that we are going to use. Currently these are the movie title, the time of viewing, the user who viewed it, and their rating of the movie."
   ]
  },
  {
   "cell_type": "code",
   "execution_count": null,
   "metadata": {
    "gradient": {
     "editing": false,
     "id": "de74ac2e-cca6-4c0a-82a9-39e029e2ace7",
     "kernelId": ""
    },
    "id": "fPH5ffpdw0RR"
   },
   "outputs": [],
   "source": [
    "ratings = ratings_raw.map(lambda x: {\n",
    "    'movie_title': x['movie_title'],\n",
    "    'timestamp': x['timestamp'],\n",
    "    'user_id': x['user_id'],\n",
    "    'user_rating': x['user_rating']\n",
    "})"
   ]
  },
  {
   "cell_type": "markdown",
   "metadata": {
    "gradient": {
     "editing": false,
     "id": "9bb019fa-669d-4d9b-8618-4474612a4eef",
     "kernelId": ""
    },
    "id": "Iu4XSa_G1nyN"
   },
   "source": [
    "We perform the canonical 80:20 random split of 80% training data and 20% testing data, with in turn 20% of the training data being used for model validation.\n",
    "\n",
    "As mentioned above, we want to avoid leakage of information from the testing set into the training and validation sets, so we split by timestamp. The testing data comes from later times than the training & validation data. Currently the timestamp used is still absolute rather than cyclic (day of week, month of year, etc.), but that would likely just dampen its utility as a feature, so long as the model is not overfitting to it.\n",
    "\n",
    "TensorFlow allows global and local random seeds to be set, which can ensure, e.g., that we get the same 80:20 split each time here.\n",
    "\n",
    "However, randomness remains in the machine learning models when they are run, which is harder to remove. We have not attempted to do so in this project so results may vary when the notebook is rerun, but they should show the same overall pattern, i.e., they are statistically reproducible even if not exactly reproducible."
   ]
  },
  {
   "cell_type": "code",
   "execution_count": null,
   "metadata": {
    "gradient": {
     "editing": false,
     "id": "48387436-5687-4085-af88-8a6b4fcf48bd",
     "kernelId": ""
    },
    "id": "jjyIcUVEMmmP"
   },
   "outputs": [],
   "source": [
    "# Get times as a list so we can get the minimum and maximum time values\n",
    "# In the original data they are dictionaries, so a list is needed\n",
    "# Following the TFRS deep model tutorial (https://www.tensorflow.org/recommenders/examples/deep_recommenders)\n",
    "# a quick way to do this is\n",
    "\n",
    "timestamps = np.concatenate(list(ratings.map(lambda x: x['timestamp']).batch(100)))"
   ]
  },
  {
   "cell_type": "code",
   "execution_count": null,
   "metadata": {
    "colab": {
     "base_uri": "https://localhost:8080/"
    },
    "gradient": {
     "editing": false,
     "id": "a29e2097-97ef-4472-a6db-f45c19adcabe",
     "kernelId": ""
    },
    "id": "MD5dhCphMm2I",
    "outputId": "3c10d169-d485-44f7-9018-308fc8e68501"
   },
   "outputs": [
    {
     "name": "stdout",
     "output_type": "stream",
     "text": [
      "Minimum time value = 874724710\n",
      "Maximum time value = 893286638\n"
     ]
    }
   ],
   "source": [
    "# Get minimum and maximum time values\n",
    "\n",
    "max_time = timestamps.max()\n",
    "min_time = timestamps.min()\n",
    "\n",
    "print('Minimum time value = {}'.format(min_time))\n",
    "print('Maximum time value = {}'.format(max_time))"
   ]
  },
  {
   "cell_type": "code",
   "execution_count": null,
   "metadata": {
    "colab": {
     "base_uri": "https://localhost:8080/"
    },
    "gradient": {
     "editing": false,
     "id": "bdbcfdf8-d5dd-48a1-9c43-fea0ef95d11a",
     "kernelId": ""
    },
    "id": "BE16LGI8Mxry",
    "outputId": "0db255df-29ad-428c-8ea3-c5257029b1bd"
   },
   "outputs": [
    {
     "name": "stdout",
     "output_type": "stream",
     "text": [
      "60th percentile time = 885861866.8\n",
      "80th percentile time = 889574252.4\n"
     ]
    }
   ],
   "source": [
    "# Get 60th & 80th percentile times\n",
    "\n",
    "sixtieth_percentile = min_time + 0.6*(max_time - min_time)\n",
    "eightieth_percentile = min_time + 0.8*(max_time - min_time)\n",
    "\n",
    "print('60th percentile time = {}'.format(sixtieth_percentile))\n",
    "print('80th percentile time = {}'.format(eightieth_percentile))"
   ]
  },
  {
   "cell_type": "code",
   "execution_count": null,
   "metadata": {
    "gradient": {
     "editing": false,
     "id": "a560dec8-e102-4b2c-826f-44a4810be5f4",
     "kernelId": ""
    },
    "id": "ayX_o1YkMxx6"
   },
   "outputs": [],
   "source": [
    "# Filter original data so that\n",
    "\n",
    "# Training set <= 60th percentile time\n",
    "# 60th < Validation set <= 80th\n",
    "# Testing set > 80th\n",
    "\n",
    "train =      ratings.filter(lambda x: x['timestamp'] <= sixtieth_percentile)\n",
    "validation = ratings.filter(lambda x: x['timestamp'] > sixtieth_percentile and x['timestamp'] <= eightieth_percentile)\n",
    "test =       ratings.filter(lambda x: x['timestamp'] > eightieth_percentile)"
   ]
  },
  {
   "cell_type": "code",
   "execution_count": null,
   "metadata": {
    "colab": {
     "base_uri": "https://localhost:8080/"
    },
    "gradient": {
     "editing": false,
     "id": "e2da07fd-01b4-46c3-885c-8e77d2aa3bf6",
     "kernelId": ""
    },
    "id": "Jwlwp7-MMx03",
    "outputId": "2c6df211-27f6-40e6-c891-aac0428ddd96"
   },
   "outputs": [
    {
     "name": "stdout",
     "output_type": "stream",
     "text": [
      "Number of rows in training set = 65336\n",
      "Number of rows in validation set = 15778\n",
      "Number of rows in testing set = 18886\n",
      "Total number of rows = 100000\n"
     ]
    }
   ],
   "source": [
    "# We are splitting on time percentiles and not row percentiles,\n",
    "# which means that we have assumed the times are roughly evenly distributed\n",
    "\n",
    "# So check the number of rows in the training, validation, and testing sets is as expected\n",
    "\n",
    "# We could also do row percentiles, which would involve sorting the data by time then shuffling after splitting\n",
    "# As written, the counting is a little slow, but .__len__() doesn't work on the FilterDataset from above\n",
    "\n",
    "# The lengths sum to the number of rows in the original data, currently 100,000, as expected\n",
    "\n",
    "ntimes_tr = 0\n",
    "ntimes_va = 0\n",
    "ntimes_te = 0\n",
    "\n",
    "for x in train.take(-1).as_numpy_iterator():\n",
    "    ntimes_tr += 1\n",
    "\n",
    "for x in validation.take(-1).as_numpy_iterator():\n",
    "    ntimes_va += 1\n",
    "\n",
    "for x in test.take(-1).as_numpy_iterator():\n",
    "    ntimes_te += 1\n",
    "    \n",
    "print('Number of rows in training set = {}'.format(ntimes_tr))\n",
    "print('Number of rows in validation set = {}'.format(ntimes_va))\n",
    "print('Number of rows in testing set = {}'.format(ntimes_te))\n",
    "print('Total number of rows = {}'.format(ntimes_tr + ntimes_va + ntimes_te))"
   ]
  },
  {
   "cell_type": "code",
   "execution_count": null,
   "metadata": {
    "gradient": {
     "editing": false,
     "id": "c510727f-c6d9-4ca4-a55d-c7b6774a3eb1",
     "kernelId": ""
    },
    "id": "rS0eDfkjnjJL"
   },
   "outputs": [],
   "source": [
    "# A validation set is created here because validation_split in model.fit() \n",
    "# is not supported for datasets - its input would have to be tensors\n",
    "# ( [1] ValueError: `validation_split` is only supported for Tensors or NumPy arrays, \n",
    "# found following types in the input: \n",
    "# [<class 'tensorflow.python.data.ops.dataset_ops.CacheDataset'>] )\n",
    "\n",
    "train = train.shuffle(ntimes_tr)\n",
    "validation = validation.shuffle(ntimes_va)\n",
    "test = test.shuffle(ntimes_te)"
   ]
  },
  {
   "cell_type": "markdown",
   "metadata": {
    "gradient": {
     "editing": false,
     "id": "430c558a-7986-484e-8afb-3d2827d7f961",
     "kernelId": ""
    },
    "id": "RNIIbzfYDMVt"
   },
   "source": [
    "We also need to extract from the data the list of unique user IDs and unique movie titles.\n",
    "\n",
    "This is because these variables are categorical, and when we use embedding vectors (see below), they map each category onto its own vector."
   ]
  },
  {
   "cell_type": "code",
   "execution_count": null,
   "metadata": {
    "gradient": {
     "editing": false,
     "id": "e0235d9d-17d6-40f4-a4a7-d02d4aadf6ac",
     "kernelId": ""
    },
    "id": "MKROCiPo_5LJ"
   },
   "outputs": [],
   "source": [
    "movie_titles = ratings.batch(1_000_000).map(lambda x: x['movie_title'])\n",
    "user_ids = ratings.batch(1_000_000).map(lambda x: x['user_id'])"
   ]
  },
  {
   "cell_type": "code",
   "execution_count": null,
   "metadata": {
    "gradient": {
     "editing": false,
     "id": "197d0fcf-6ffd-41c8-a50d-6f627e818c43",
     "kernelId": ""
    },
    "id": "6NfVEmLiz9jq"
   },
   "outputs": [],
   "source": [
    "unique_movie_titles = np.unique(np.concatenate(list(movie_titles)))\n",
    "unique_user_ids = np.unique(np.concatenate(list(user_ids)))"
   ]
  },
  {
   "cell_type": "markdown",
   "metadata": {
    "gradient": {
     "editing": false,
     "id": "2bab6eed-8340-4d89-8ad3-1af2483a5d5f",
     "kernelId": ""
    },
    "id": "4-Vj9nHb48pn"
   },
   "source": [
    "## 4: Build the recommender models\n",
    "\n",
    "As mentioned above, recommender systems are often composed of a retrieval model and a ranking model. We will be focusing on the ranking model.\n",
    "\n",
    "We will build two models:\n",
    "\n",
    " - Basic ranking\n",
    " - Tuned ranking\n",
    "\n",
    "and show that the tuned ranking model gives the best performance. This shows the importance of tuning and not just engineering a pipeline using a model off-the-shelf.\n",
    "\n",
    "Recommenders are more complex than basic supervised models, so in the hierarchy of increased flexibility but decreased simplicity or ease of use from the Keras Sequential API, through the Keras functional API, to full definition of model classes and subclasses, the latter approach is used. The classes don't have to be written entirely from scratch, however, as the TFRS library contains various convenience classes and functions, and higher level Keras models and layers can still be used when they fit the purpose.\n",
    "\n",
    "In these models, some of the feature preprocessing can be incorporated as part of the model. This reduces the chance of errors being introduced when it is deployed in production in a different place from where it was trained, because the preprocessing of data from the raw inputs to those correct for the model does not need to be duplicated.\n",
    "\n",
    "The various preprocessing steps and modeling components are combined into a recommender model that can then be trained. The model is described by a Python class that inherits from the TFRS base class.\n",
    "\n",
    "It includes:\n",
    "\n",
    " - Movie embeddings\n",
    " - User ID embeddings\n",
    " - Deep learning layer to compute the rankings\n",
    " - Task layer to compute mean squared error\n",
    " - The `call()` method\n",
    " - The `compute_loss()` method\n",
    "\n",
    "The movie and user ID *embeddings* are using this common method of reducing a column that contains a large number of unique categories to something more manageable. The raw categories get mapped onto integers (known as a vocabulary), which in turn are converted to embeddings. The embedding itself is a vector that represents the mapping from a space with many dimensions (the number of categories) to a continuous vector space with a much lower dimension, e.g., 32.\n",
    "\n",
    "The deep learning layer is a typical set of densely connected layers (every neuron connected to all the others) that allows an arbitrary nonlinear mapping between the inputs and outputs. Deep learning is typically more compute-intensive, but for ranking in a full production system only a small subset of the movies are being used, having been selected by the retrieval model, so this helps.\n",
    "\n",
    "The task layer computes mean squared error between a given ground truth target and the model's prediction. This feeds into `compute_loss()`. `Task` is a TFRS layer that is combining computing the loss, i.e., the measure by which the model training is iterated, and the metric, the measure by which the model performance is reported to the human user. In this case the loss is mean squared error and the metric is root mean squared error, so they are quite similar.\n",
    "\n",
    "The `compute_loss()` method measures how well the model is performing after each iteration of training. This is a built-in method to TFRS and is therefore automatically called during model training with a `tfrs.models.Model` class (the training loop).\n",
    "\n",
    "The `call()` method executes the various steps when the model is run, and is important for the model to be able to be saved for later deployment.\n",
    "\n",
    "The overall result is that for a given user ID and movie title fed to the model, the output is a prediction of what rating that user would give to that movie if they were to watch it. The movies with the highest predicted ratings therefore become the recommendations for that user."
   ]
  },
  {
   "cell_type": "markdown",
   "metadata": {
    "gradient": {
     "editing": false,
     "id": "eebe086a-eda0-4da6-9e8f-d9ee03edc5ab",
     "kernelId": ""
    },
    "id": "2xiUI74SGklF"
   },
   "source": [
    "### 4.1: Basic ranking model\n",
    "\n",
    "The basic model shows what happens when a model is set up with some default parameters, without attempting to tune any of them.\n",
    "\n",
    "The model is similar to the one in the [TFRS multitask tutorial](https://www.tensorflow.org/recommenders/examples/multitask), here doing a single task."
   ]
  },
  {
   "cell_type": "code",
   "execution_count": null,
   "metadata": {
    "gradient": {
     "editing": false,
     "id": "b7dde266-5c0e-4950-8521-2bdbbc5305d5",
     "kernelId": ""
    }
   },
   "outputs": [],
   "source": [
    "class MovielensModelBasicRanking(tfrs.models.Model):\n",
    "\n",
    "    def __init__(self) -> None:\n",
    "        super().__init__()\n",
    "        embedding_dimension = 32\n",
    "\n",
    "        # The embeddings use Keras's preprocessing layers\n",
    "\n",
    "        # Embeddings for movies\n",
    "        self.movie_model: tf.keras.layers.Layer = tf.keras.Sequential([\n",
    "            tf.keras.layers.experimental.preprocessing.StringLookup(\n",
    "                vocabulary=unique_movie_titles, mask_token=None),\n",
    "            tf.keras.layers.Embedding(len(unique_movie_titles) + 1, embedding_dimension)\n",
    "        ])\n",
    "\n",
    "        # Embeddings for users\n",
    "        self.user_model: tf.keras.layers.Layer = tf.keras.Sequential([\n",
    "            tf.keras.layers.experimental.preprocessing.StringLookup(\n",
    "                vocabulary=unique_user_ids, mask_token=None),\n",
    "            tf.keras.layers.Embedding(len(unique_user_ids) + 1, embedding_dimension)\n",
    "        ])\n",
    "\n",
    "        # Predicted ratings\n",
    "        # This is where deep learning is being used in the recommender system\n",
    "        # The predictions are output by the final layer, hence its size of 1\n",
    "\n",
    "        self.rating_model = tf.keras.Sequential([\n",
    "            tf.keras.layers.Dense(256, activation='relu'),\n",
    "            tf.keras.layers.Dense(64, activation='relu'),\n",
    "            tf.keras.layers.Dense(1)\n",
    "        ])\n",
    "\n",
    "        # Ranking is written as a TFRS task\n",
    "        self.task: tf.keras.layers.Layer = tfrs.tasks.Ranking(\n",
    "            loss = tf.keras.losses.MeanSquaredError(),\n",
    "            metrics=[tf.keras.metrics.RootMeanSquaredError()]\n",
    "        )\n",
    "\n",
    "    # The call method allows the model to be run, and saved\n",
    "    # The embeddings are passed into the model\n",
    "    # The embeddings and predicted rating are returned\n",
    "\n",
    "    def call(self, features: Dict[Text, tf.Tensor]) -> tf.Tensor:\n",
    "        user_embeddings = self.user_model(features['user_id'])\n",
    "        movie_embeddings = self.movie_model(features['movie_title'])\n",
    "\n",
    "        return (\n",
    "            user_embeddings,\n",
    "            movie_embeddings,\n",
    "            self.rating_model(\n",
    "                tf.concat([user_embeddings, movie_embeddings], axis=1)\n",
    "            ),\n",
    "        )\n",
    "\n",
    "    # This is the TFRS built-in method that computes the model loss function during training\n",
    "    def compute_loss(self, features: Dict[Text, tf.Tensor], training=False) -> tf.Tensor:\n",
    "\n",
    "        ratings = features.pop('user_rating')\n",
    "        user_embeddings, movie_embeddings, rating_predictions = self(features)\n",
    "\n",
    "        rating_loss = self.task(\n",
    "            labels=ratings,\n",
    "            predictions=rating_predictions,\n",
    "        )\n",
    "\n",
    "        return rating_loss"
   ]
  },
  {
   "cell_type": "markdown",
   "metadata": {
    "gradient": {
     "editing": false,
     "id": "473fa8ca-a169-437a-9553-b69ba4e6a704",
     "kernelId": ""
    },
    "id": "SfAqxdgYH1Hl"
   },
   "source": [
    "As at the start of the dataflow, we should view the data at the training stage.\n",
    "\n",
    "The training data is quite similar to the original loaded data, now just movie title, timestamp, user ID, and rating."
   ]
  },
  {
   "cell_type": "code",
   "execution_count": null,
   "metadata": {
    "colab": {
     "base_uri": "https://localhost:8080/"
    },
    "gradient": {
     "editing": false,
     "id": "1260d00f-c4ba-48d6-a63f-e307951d6a99",
     "kernelId": ""
    },
    "id": "X4wN-Oxqbqxa",
    "outputId": "bc70082f-74d0-4b6a-aeda-084cfbcb4d96"
   },
   "outputs": [
    {
     "data": {
      "text/plain": [
       "<ShuffleDataset shapes: {movie_title: (), timestamp: (), user_id: (), user_rating: ()}, types: {movie_title: tf.string, timestamp: tf.int64, user_id: tf.string, user_rating: tf.float32}>"
      ]
     },
     "execution_count": 18,
     "metadata": {},
     "output_type": "execute_result"
    }
   ],
   "source": [
    "# Format is now a TensorFlow ShuffleDataset\n",
    "train"
   ]
  },
  {
   "cell_type": "code",
   "execution_count": null,
   "metadata": {
    "colab": {
     "base_uri": "https://localhost:8080/"
    },
    "gradient": {
     "editing": false,
     "id": "cf46ea32-3705-45ec-824d-2116a1f066d4",
     "kernelId": ""
    },
    "id": "7qByPgKIbjMH",
    "outputId": "1b202622-742c-47bc-a0b7-8115683aa920"
   },
   "outputs": [
    {
     "name": "stdout",
     "output_type": "stream",
     "text": [
      "{'movie_title': b'Jumanji (1995)',\n",
      " 'timestamp': 884673910,\n",
      " 'user_id': b'921',\n",
      " 'user_rating': 4.0}\n",
      "{'movie_title': b'Firm, The (1993)',\n",
      " 'timestamp': 883327040,\n",
      " 'user_id': b'60',\n",
      " 'user_rating': 4.0}\n",
      "{'movie_title': b'Leaving Las Vegas (1995)',\n",
      " 'timestamp': 878746982,\n",
      " 'user_id': b'150',\n",
      " 'user_rating': 5.0}\n"
     ]
    }
   ],
   "source": [
    "for x in train.take(3).as_numpy_iterator():\n",
    "    pprint.pprint(x)"
   ]
  },
  {
   "cell_type": "markdown",
   "metadata": {
    "gradient": {
     "editing": false,
     "id": "13426db7-64d0-4683-b393-ee2eb4f7de89",
     "kernelId": ""
    },
    "id": "AdJbchJlqexl"
   },
   "source": [
    "The model performance, especially at scale, can be improved by caching the data into memory.\n",
    "\n",
    "It is also important that the data rows are in a random order. This is because many parts of machine learning algorithms are assuming that each data row is independent of those around it.\n",
    "\n",
    "An example of that is batching the data, which is also done here. Batching causes consecutive elements to be combined into batches, and so if there were, say, some periodicity in the data, it could interact with the batch size and produce highly non-random samples.\n",
    "\n",
    "Note that since a batch size may not divide perfectly into the number of rows in a dataset (or when data is being fed into the system a batch may not be full), its shape may not be known for every batch, and is therefore given as None."
   ]
  },
  {
   "cell_type": "code",
   "execution_count": null,
   "metadata": {
    "gradient": {
     "editing": false,
     "id": "fd58bcc4-771f-4242-b956-9d40ad4ac216",
     "kernelId": ""
    },
    "id": "umCAS0aBdtYB"
   },
   "outputs": [],
   "source": [
    "cached_train = train.shuffle(ntimes_tr).batch(8192).cache()\n",
    "cached_validation = validation.shuffle(ntimes_va).batch(8192).cache()\n",
    "cached_test = test.batch(4096).cache()"
   ]
  },
  {
   "cell_type": "markdown",
   "metadata": {
    "gradient": {
     "editing": false,
     "id": "498396b5-e170-4b1b-8341-d42b627ed10c",
     "kernelId": ""
    },
    "id": "YO4SF6-Vqmi5"
   },
   "source": [
    "Since the actual data being fed into the model is the cached and batched set, this should be viewed too. We can see that it is now batched and the batches are formed by arrays."
   ]
  },
  {
   "cell_type": "code",
   "execution_count": null,
   "metadata": {
    "colab": {
     "base_uri": "https://localhost:8080/"
    },
    "gradient": {
     "editing": false,
     "id": "03acff5d-761b-4531-8893-9cd10e3e4399",
     "kernelId": ""
    },
    "id": "aU6QtxRHbs3q",
    "outputId": "93f1e3b3-c4ea-4a63-bf65-246a46f87a90"
   },
   "outputs": [
    {
     "data": {
      "text/plain": [
       "<CacheDataset shapes: {movie_title: (None,), timestamp: (None,), user_id: (None,), user_rating: (None,)}, types: {movie_title: tf.string, timestamp: tf.int64, user_id: tf.string, user_rating: tf.float32}>"
      ]
     },
     "execution_count": 21,
     "metadata": {},
     "output_type": "execute_result"
    }
   ],
   "source": [
    "# The shape could be changed, e.g., from None to 8192 by adding drop_remainder=True to the .batch() line above\n",
    "cached_train"
   ]
  },
  {
   "cell_type": "code",
   "execution_count": null,
   "metadata": {
    "colab": {
     "base_uri": "https://localhost:8080/"
    },
    "gradient": {
     "editing": false,
     "id": "dec8245f-c409-4bdc-8376-7880600b2571",
     "kernelId": ""
    },
    "id": "dmjmVqnIbzxn",
    "outputId": "a26a618a-0bf8-4f9d-f4c9-e732ad0a55d3"
   },
   "outputs": [
    {
     "name": "stdout",
     "output_type": "stream",
     "text": [
      "{'movie_title': array([b'Bridge on the River Kwai, The (1957)',\n",
      "       b'Manchurian Candidate, The (1962)', b'Mask, The (1994)', ...,\n",
      "       b'Seven (Se7en) (1995)', b'Cape Fear (1991)',\n",
      "       b'Butch Cassidy and the Sundance Kid (1969)'], dtype=object),\n",
      " 'timestamp': array([877816302, 877723882, 880607365, ..., 875335124, 882670057,\n",
      "       882374332]),\n",
      " 'user_id': array([b'594', b'16', b'244', ..., b'287', b'622', b'450'], dtype=object),\n",
      " 'user_rating': array([4., 5., 4., ..., 5., 3., 4.], dtype=float32)}\n",
      "{'movie_title': array([b'Shining, The (1980)', b'Contact (1997)',\n",
      "       b'Monty Python and the Holy Grail (1974)', ..., b'Bound (1996)',\n",
      "       b'Truth About Cats & Dogs, The (1996)', b'High School High (1996)'],\n",
      "      dtype=object),\n",
      " 'timestamp': array([877833632, 880353585, 882387773, ..., 875244331, 879647768,\n",
      "       883767108]),\n",
      " 'user_id': array([b'900', b'360', b'429', ..., b'221', b'417', b'795'], dtype=object),\n",
      " 'user_rating': array([2., 4., 5., ..., 5., 3., 3.], dtype=float32)}\n",
      "{'movie_title': array([b'Brady Bunch Movie, The (1995)', b'2001: A Space Odyssey (1968)',\n",
      "       b'Casino (1995)', ..., b'Mission: Impossible (1996)',\n",
      "       b'Alien (1979)', b'Psycho (1960)'], dtype=object),\n",
      " 'timestamp': array([884498292, 874873157, 877891575, ..., 879544027, 878769848,\n",
      "       875217033]),\n",
      " 'user_id': array([b'318', b'506', b'314', ..., b'277', b'82', b'130'], dtype=object),\n",
      " 'user_rating': array([3., 5., 3., ..., 3., 3., 5.], dtype=float32)}\n"
     ]
    }
   ],
   "source": [
    "for x in cached_train.take(3).as_numpy_iterator():\n",
    "    pprint.pprint(x)"
   ]
  },
  {
   "cell_type": "markdown",
   "metadata": {
    "gradient": {
     "editing": false,
     "id": "f3922add-ae4d-4fec-812b-116844773b3b",
     "kernelId": ""
    },
    "id": "LsfOKQ30Iewj"
   },
   "source": [
    "#### 4.1.1: Train and evaluate the basic ranking model"
   ]
  },
  {
   "cell_type": "markdown",
   "metadata": {
    "gradient": {
     "editing": false,
     "id": "3e7a86f5-e4c5-4147-bc43-12ed8695bba8",
     "kernelId": ""
    },
    "id": "k_Pe7NpXq_r2"
   },
   "source": [
    "Train the model, outputting the accuracy on the training set and also on the validation set."
   ]
  },
  {
   "cell_type": "code",
   "execution_count": null,
   "metadata": {
    "gradient": {
     "editing": false,
     "id": "8db3b98b-3ff4-402b-a45e-a8ceb7516819",
     "kernelId": ""
    },
    "id": "x7Kirx8U1Cww"
   },
   "outputs": [],
   "source": [
    "model_br = MovielensModelBasicRanking()"
   ]
  },
  {
   "cell_type": "code",
   "execution_count": null,
   "metadata": {
    "gradient": {
     "editing": false,
     "id": "51648d7c-bebe-4299-b7b0-0dc8aa2d0855",
     "kernelId": ""
    },
    "id": "dzDwd1Rp1EbO"
   },
   "outputs": [],
   "source": [
    "model_br.compile(optimizer=tf.keras.optimizers.Adagrad(learning_rate=0.1))"
   ]
  },
  {
   "cell_type": "code",
   "execution_count": null,
   "metadata": {
    "colab": {
     "base_uri": "https://localhost:8080/"
    },
    "gradient": {
     "editing": false,
     "id": "3d784ba9-7faf-431b-927f-192109bc9195",
     "kernelId": ""
    },
    "id": "SieQYr041H90",
    "outputId": "5851b673-7e8a-4868-8de6-be40cd33efef"
   },
   "outputs": [
    {
     "name": "stdout",
     "output_type": "stream",
     "text": [
      "Epoch 1/3\n",
      "8/8 [==============================] - 38s 3s/step - root_mean_squared_error: 2.2442 - loss: 4.6202 - regularization_loss: 0.0000e+00 - total_loss: 4.6202 - val_root_mean_squared_error: 1.1901 - val_loss: 1.4150 - val_regularization_loss: 0.0000e+00 - val_total_loss: 1.4150\n",
      "Epoch 2/3\n",
      "8/8 [==============================] - 2s 199ms/step - root_mean_squared_error: 1.1857 - loss: 1.3937 - regularization_loss: 0.0000e+00 - total_loss: 1.3937 - val_root_mean_squared_error: 1.1451 - val_loss: 1.3040 - val_regularization_loss: 0.0000e+00 - val_total_loss: 1.3040\n",
      "Epoch 3/3\n",
      "8/8 [==============================] - 2s 212ms/step - root_mean_squared_error: 1.1299 - loss: 1.2713 - regularization_loss: 0.0000e+00 - total_loss: 1.2713 - val_root_mean_squared_error: 1.1300 - val_loss: 1.2642 - val_regularization_loss: 0.0000e+00 - val_total_loss: 1.2642\n"
     ]
    }
   ],
   "source": [
    "history_br = model_br.fit(cached_train, epochs=3, validation_data=cached_validation)"
   ]
  },
  {
   "cell_type": "markdown",
   "metadata": {
    "gradient": {
     "editing": false,
     "id": "ff62f927-0311-4688-a688-3ab2cf2d2ebf",
     "kernelId": ""
    },
    "id": "hI7yE0XerkjM"
   },
   "source": [
    "The full model history contains quite a lot of information:\n",
    "\n",
    " - Loss = the value of the loss function\n",
    " - Regularization loss = 0, since we are not applying regularization in the basic model\n",
    " - Root mean squared error = the model performance metric we are recording\n",
    " - Total loss = loss + regularization loss, so the same as loss here\n",
    " - The same four again, but for the validation set instead of the training set"
   ]
  },
  {
   "cell_type": "code",
   "execution_count": null,
   "metadata": {
    "colab": {
     "base_uri": "https://localhost:8080/"
    },
    "gradient": {
     "editing": false,
     "id": "3fec0c40-4aff-4848-92b4-0dfda46b7558",
     "kernelId": ""
    },
    "id": "aUk4iIRG0Uqf",
    "outputId": "f548679f-70b7-4510-ce02-4168f7778054"
   },
   "outputs": [
    {
     "name": "stdout",
     "output_type": "stream",
     "text": [
      "{'loss': [1.37828528881073, 1.2994478940963745, 1.230413794517517],\n",
      " 'regularization_loss': [0, 0, 0],\n",
      " 'root_mean_squared_error': [2.2442262172698975,\n",
      "                             1.1856619119644165,\n",
      "                             1.1298515796661377],\n",
      " 'total_loss': [1.37828528881073, 1.2994478940963745, 1.230413794517517],\n",
      " 'val_loss': [1.4149616956710815, 1.3039723634719849, 1.264164924621582],\n",
      " 'val_regularization_loss': [0, 0, 0],\n",
      " 'val_root_mean_squared_error': [1.1901212930679321,\n",
      "                                 1.1451194286346436,\n",
      "                                 1.1300477981567383],\n",
      " 'val_total_loss': [1.4149616956710815, 1.3039723634719849, 1.264164924621582]}\n"
     ]
    }
   ],
   "source": [
    "pprint.pprint(history_br.history)"
   ]
  },
  {
   "cell_type": "markdown",
   "metadata": {
    "gradient": {
     "editing": false,
     "id": "93b08052-d4c3-4050-83be-51ec659989ae",
     "kernelId": ""
    },
    "id": "Zs6U0oW5sVl8"
   },
   "source": [
    "We can report the most relevant numbers from the history, and make a simple plot of the tuning. Here we look at the value of the performance metric.\n",
    "\n",
    "The model has a performance of root mean squared error (RMSE) between predicted and true user ratings of movies of about 1.1, and the value is similar for training and validation, indicating that with the short training duration here the model has not overfit.\n",
    "\n",
    "A more sophisticated option than making these plots would be to load and use TensorBoard, but the overall conclusion drawn would be the same."
   ]
  },
  {
   "cell_type": "code",
   "execution_count": null,
   "metadata": {
    "colab": {
     "base_uri": "https://localhost:8080/"
    },
    "gradient": {
     "editing": false,
     "id": "4928953e-0599-4f5e-ac74-86b1eac94de7",
     "kernelId": ""
    },
    "id": "VY8Bt23jJAp1",
    "outputId": "13dbf653-a882-45cf-f0df-b225956c448c"
   },
   "outputs": [
    {
     "name": "stdout",
     "output_type": "stream",
     "text": [
      "Root mean squared error in user rating from training: 1.13\n",
      "Root mean squared error in user rating from validation: 1.13\n"
     ]
    }
   ],
   "source": [
    "rmse_br = history_br.history['root_mean_squared_error'][-1]\n",
    "print(f'Root mean squared error in user rating from training: {rmse_br:.2f}')\n",
    "\n",
    "val_rmse_br = history_br.history['val_root_mean_squared_error'][-1]\n",
    "print(f'Root mean squared error in user rating from validation: {val_rmse_br:.2f}')"
   ]
  },
  {
   "cell_type": "code",
   "execution_count": null,
   "metadata": {
    "gradient": {
     "editing": false,
     "id": "515e6d5f-66ff-4b90-8d24-67388ed8c951",
     "kernelId": ""
    },
    "id": "bFCCtUTyJnBF"
   },
   "outputs": [],
   "source": [
    "# This sets up the x axis of the plot\n",
    "num_validation_runs = len(history_br.history['root_mean_squared_error']) # Or val_ ; is same here\n",
    "\n",
    "# The TFRS tutorials include values of validation frequency >1 to accommodate training runs where it was set >1 for faster training\n",
    "# Here it is left as 1\n",
    "validation_freq = 1\n",
    "epochs = [(x + 1) * validation_freq for x in range(num_validation_runs)] # E.g., 3,6,9 ... if validation_freq = 3"
   ]
  },
  {
   "cell_type": "code",
   "execution_count": null,
   "metadata": {
    "colab": {
     "base_uri": "https://localhost:8080/",
     "height": 308
    },
    "gradient": {
     "editing": false,
     "id": "d144c734-567c-493d-a91c-96f20bb6d9e1",
     "kernelId": ""
    },
    "id": "FOZthVRbJ5iW",
    "outputId": "884a1cdc-52e7-4edb-f04f-523c3fd64fdb"
   },
   "outputs": [
    {
     "data": {
      "text/plain": [
       "<matplotlib.legend.Legend at 0x7f9aa03de128>"
      ]
     },
     "execution_count": 29,
     "metadata": {},
     "output_type": "execute_result"
    },
    {
     "data": {
      "image/png": "[encoded data removed]",
      "text/plain": [
       "<Figure size 432x288 with 1 Axes>"
      ]
     },
     "metadata": {},
     "output_type": "display_data"
    }
   ],
   "source": [
    "# Simple plot with Matplotlib\n",
    "plt.plot(epochs, history_br.history['root_mean_squared_error'], label='Training')\n",
    "plt.plot(epochs, history_br.history['val_root_mean_squared_error'], label='Validation')\n",
    "plt.title('Root mean squared error in user rating vs. training epoch')\n",
    "plt.xlabel('Training epoch')\n",
    "plt.ylabel('Root mean squared error in user rating')\n",
    "plt.legend()"
   ]
  },
  {
   "cell_type": "markdown",
   "metadata": {
    "gradient": {
     "editing": false,
     "id": "8c965473-5607-4009-adc9-428cb402fbc8",
     "kernelId": ""
    },
    "id": "2n7xDu0C1JCg"
   },
   "source": [
    "We can see the model architecture via `.summary()`, showing the deep learning layers. Even for this small model, the number of parameters is over 100,000, which is greater than the number of movies in the dataset. This shows the importance of setting up the model to not overfit when trained for longer, which we will do in the tuned model below."
   ]
  },
  {
   "cell_type": "code",
   "execution_count": null,
   "metadata": {
    "colab": {
     "base_uri": "https://localhost:8080/"
    },
    "gradient": {
     "editing": false,
     "id": "3e2352bc-7502-450c-b1d4-68978ec8c04d",
     "kernelId": ""
    },
    "id": "v44Elq721cSy",
    "outputId": "a2fb073d-eae5-4c62-954f-b3a17b6d42eb"
   },
   "outputs": [
    {
     "name": "stdout",
     "output_type": "stream",
     "text": [
      "Model: \"movielens_model_basic_ranking\"\n",
      "_________________________________________________________________\n",
      "Layer (type)                 Output Shape              Param #   \n",
      "=================================================================\n",
      "sequential (Sequential)      (None, 32)                53280     \n",
      "_________________________________________________________________\n",
      "sequential_1 (Sequential)    (None, 32)                30208     \n",
      "_________________________________________________________________\n",
      "sequential_2 (Sequential)    (None, 1)                 33153     \n",
      "_________________________________________________________________\n",
      "ranking (Ranking)            multiple                  2         \n",
      "=================================================================\n",
      "Total params: 116,643\n",
      "Trainable params: 116,641\n",
      "Non-trainable params: 2\n",
      "_________________________________________________________________\n"
     ]
    }
   ],
   "source": [
    "model_br.summary()"
   ]
  },
  {
   "cell_type": "markdown",
   "metadata": {
    "gradient": {
     "editing": false,
     "id": "a23c6ade-3262-40a4-a95d-a9a0288002cc",
     "kernelId": ""
    },
    "id": "XoBOlpc4-_hG"
   },
   "source": [
    "The model's performance can be measured on unseen test data for which what the user did in fact rate the movie (the ground truth) is still available.\n",
    "\n",
    "It is important that the test data is not used as part of the model training or validation, either directly (overlap between training and testing data), or indirectly (performance on testing data being used to influence subsequent training runs).\n",
    "\n",
    "Both of these would produce a result biased high in performance compared to expected performance on new unseen data when the model is deployed in production.\n",
    "\n",
    "As expected following the validation, the RMSE on the unseen testing set is also approximately 1.1."
   ]
  },
  {
   "cell_type": "code",
   "execution_count": null,
   "metadata": {
    "colab": {
     "base_uri": "https://localhost:8080/"
    },
    "gradient": {
     "editing": false,
     "id": "4ebfbe03-ef3e-412c-b34a-e8a85be9e0db",
     "kernelId": ""
    },
    "id": "bt8TsSix1cXX",
    "outputId": "0f7c32fe-4a23-472b-db4c-6068fd087cc5"
   },
   "outputs": [
    {
     "name": "stdout",
     "output_type": "stream",
     "text": [
      "5/5 [==============================] - 15s 77ms/step - root_mean_squared_error: 1.1209 - loss: 1.2642 - regularization_loss: 0.0000e+00 - total_loss: 1.2642\n"
     ]
    }
   ],
   "source": [
    "eval_br = model_br.evaluate(cached_test, return_dict=True)"
   ]
  },
  {
   "cell_type": "code",
   "execution_count": null,
   "metadata": {
    "colab": {
     "base_uri": "https://localhost:8080/"
    },
    "gradient": {
     "editing": false,
     "id": "9ceb9623-8856-41f4-89ce-b0027733d2df",
     "kernelId": ""
    },
    "id": "Pp84Btjd3Ovt",
    "outputId": "766d686e-80a5-4211-ee8a-607345432fc3"
   },
   "outputs": [
    {
     "data": {
      "text/plain": [
       "{'root_mean_squared_error': 1.120877981185913,\n",
       " 'loss': 1.2902494668960571,\n",
       " 'regularization_loss': 0,\n",
       " 'total_loss': 1.2902494668960571}"
      ]
     },
     "execution_count": 32,
     "metadata": {},
     "output_type": "execute_result"
    }
   ],
   "source": [
    "eval_br"
   ]
  },
  {
   "cell_type": "code",
   "execution_count": null,
   "metadata": {
    "colab": {
     "base_uri": "https://localhost:8080/"
    },
    "gradient": {
     "editing": false,
     "id": "eafab91a-2d7e-40a7-a5c8-4976a9041746",
     "kernelId": ""
    },
    "id": "kHu2-zfTKL34",
    "outputId": "9eb7222a-45ee-42a8-cd06-8172078e06c2"
   },
   "outputs": [
    {
     "name": "stdout",
     "output_type": "stream",
     "text": [
      "Root mean squared error in user rating from evaluation: 1.12\n"
     ]
    }
   ],
   "source": [
    "rmse_eval_br = eval_br['root_mean_squared_error']\n",
    "print(f'Root mean squared error in user rating from evaluation: {rmse_eval_br:.2f}')"
   ]
  },
  {
   "cell_type": "markdown",
   "metadata": {
    "gradient": {
     "editing": false,
     "id": "bc608826-156e-4e90-9c39-43cd6f3ccd37",
     "kernelId": ""
    },
    "id": "rWqyrily-JE6"
   },
   "source": [
    "Calling `.predict()` on the model, i.e., sending it data from the testing set in the same manner as new data would be sent to it when deployed, yields the user & movie embeddings for each new data point, and the predicted user ratings for those data points.\n",
    "\n",
    "Here the testing data still has ground truth user ratings that these predictions can be compared to (as in evaluate, above), but of course in production the return will be just the predicted ratings (and embeddings, in this case)."
   ]
  },
  {
   "cell_type": "code",
   "execution_count": null,
   "metadata": {
    "colab": {
     "base_uri": "https://localhost:8080/"
    },
    "gradient": {
     "editing": false,
     "id": "a077da3b-683b-427d-ad4b-ce7b432d7566",
     "kernelId": ""
    },
    "id": "eA7_9Lgi1cav",
    "outputId": "5a39f4c6-50c2-4643-cf8e-082b4e215c8a"
   },
   "outputs": [
    {
     "data": {
      "text/plain": [
       "(array([[-0.03964598, -0.03422852,  0.04101512, ...,  0.00219501,\n",
       "          0.01934109, -0.01082342],\n",
       "        [-0.04646686, -0.00338645, -0.03383372, ...,  0.00051974,\n",
       "          0.02353701, -0.02411617],\n",
       "        [ 0.0054427 ,  0.04025881, -0.01628982, ...,  0.0322423 ,\n",
       "          0.01506004, -0.00209037],\n",
       "        ...,\n",
       "        [-0.0052987 ,  0.03847931, -0.03077863, ..., -0.03886672,\n",
       "          0.01689538, -0.01025091],\n",
       "        [-0.01464785, -0.01887847,  0.01075666, ..., -0.02833327,\n",
       "          0.02839414,  0.02894009],\n",
       "        [-0.0038248 , -0.03222672, -0.0437872 , ...,  0.01673976,\n",
       "         -0.04672277, -0.00335848]], dtype=float32),\n",
       " array([[ 0.0146039 , -0.02525433,  0.0283344 , ...,  0.01268173,\n",
       "          0.03344029, -0.00479257],\n",
       "        [-0.03651332, -0.01501979, -0.04718434, ...,  0.02178776,\n",
       "          0.01717076,  0.01619942],\n",
       "        [-0.01173977,  0.03963666, -0.00660629, ..., -0.01299132,\n",
       "         -0.03898761, -0.03248708],\n",
       "        ...,\n",
       "        [-0.01738477,  0.03932676,  0.03252422, ..., -0.01226671,\n",
       "         -0.03862289,  0.00027237],\n",
       "        [ 0.00951628,  0.00578687, -0.0146631 , ...,  0.0293301 ,\n",
       "          0.02951677,  0.02755978],\n",
       "        [-0.0288859 , -0.03771396, -0.01316686, ...,  0.02185896,\n",
       "         -0.00954689, -0.02850651]], dtype=float32),\n",
       " array([[3.4749115],\n",
       "        [3.3650532],\n",
       "        [3.3401022],\n",
       "        ...,\n",
       "        [3.4586565],\n",
       "        [3.4256346],\n",
       "        [3.431732 ]], dtype=float32))"
      ]
     },
     "execution_count": 34,
     "metadata": {},
     "output_type": "execute_result"
    }
   ],
   "source": [
    "# As written, the model prediction returns both the embeddings and predicted ratings\n",
    "model_br.predict(cached_test)"
   ]
  },
  {
   "cell_type": "markdown",
   "metadata": {
    "gradient": {
     "editing": false,
     "id": "c5106c30-dd8d-410c-bc86-e33023696c9e",
     "kernelId": ""
    },
    "id": "5CNURtsNIfC2"
   },
   "source": [
    "### 4.2: Tuned ranking model\n",
    "\n",
    "For most machine learning models, a model that has not had its hyperparameters tuned is unlikely to be giving best performance. It would be a bit like choosing random clothes from a store instead of clothes that are your size.\n",
    "\n",
    "The combination of being able to be tuned to higher performance, and the ability to easily add new training set features of many different kinds (categorical, numerical, text, time series, etc.) is what enables deep learning (or other nonlinear ML such as decision trees) to outperform classical non-ML methods on complex data. As written, the deep learning layers component of the model can be whatever arbitrary set of layers, so long as it outputs a single rating at the end.\n",
    "\n",
    "Here we perform some basic tuning on the neural network layer by training it for more epochs and allowing its initial learning rate to vary. We also add regularization to help avoid overfitting that could result from longer training.\n",
    "\n",
    "For more extensive tuning, other parameters can be tuned similarly, including within the network, e.g., size & number of layers, and within the whole model, such as the number of dimensions in the embeddings.\n",
    "\n",
    "If one plans to do more extensive tuning, then for a recommender system like this one, it also makes sense to include more features, such as user age, do more feature engineering, such as cyclic and not absolute times like day of week, and to build more complex models like multitask and deep cross networks as in the TFRS tutorials. To keep this showcase to a manageable length, we do not attempt all of that here."
   ]
  },
  {
   "cell_type": "code",
   "execution_count": null,
   "metadata": {
    "gradient": {
     "editing": false,
     "id": "6ce6d1c1-01d5-4ffc-853c-125a61f0da25",
     "kernelId": ""
    }
   },
   "outputs": [],
   "source": [
    "# This model is similar to the basic model, but L2 regularization has been added\n",
    "\n",
    "class MovielensModelTunedRanking(tfrs.models.Model):\n",
    "\n",
    "    def __init__(self) -> None:\n",
    "        super().__init__()\n",
    "        embedding_dimension = 32\n",
    "\n",
    "        self.movie_model: tf.keras.layers.Layer = tf.keras.Sequential([\n",
    "            tf.keras.layers.experimental.preprocessing.StringLookup(\n",
    "                vocabulary=unique_movie_titles, mask_token=None),\n",
    "            tf.keras.layers.Embedding(len(unique_movie_titles) + 1, embedding_dimension)\n",
    "        ])\n",
    "\n",
    "        self.user_model: tf.keras.layers.Layer = tf.keras.Sequential([\n",
    "            tf.keras.layers.experimental.preprocessing.StringLookup(\n",
    "                vocabulary=unique_user_ids, mask_token=None),\n",
    "            tf.keras.layers.Embedding(len(unique_user_ids) + 1, embedding_dimension)\n",
    "        ])\n",
    "\n",
    "        # Regularization is added here\n",
    "        self.rating_model = tf.keras.Sequential([\n",
    "            tf.keras.layers.Dense(256, activation='relu', kernel_regularizer=tf.keras.regularizers.l2(0.01)),\n",
    "            tf.keras.layers.Dense(64, activation='relu', kernel_regularizer=tf.keras.regularizers.l2(0.01)),\n",
    "            tf.keras.layers.Dense(1)\n",
    "        ])\n",
    "\n",
    "        self.task: tf.keras.layers.Layer = tfrs.tasks.Ranking(\n",
    "            loss = tf.keras.losses.MeanSquaredError(),\n",
    "            metrics=[tf.keras.metrics.RootMeanSquaredError()]\n",
    "        )\n",
    "\n",
    "    def call(self, features: Dict[Text, tf.Tensor]) -> tf.Tensor:\n",
    "\n",
    "        user_embeddings = self.user_model(features['user_id'])\n",
    "        movie_embeddings = self.movie_model(features['movie_title'])\n",
    "\n",
    "        return (\n",
    "            user_embeddings,\n",
    "            movie_embeddings,\n",
    "            self.rating_model(\n",
    "                tf.concat([user_embeddings, movie_embeddings], axis=1)\n",
    "            ),\n",
    "        )\n",
    "\n",
    "    def compute_loss(self, features: Dict[Text, tf.Tensor], training=False) -> tf.Tensor:\n",
    "\n",
    "        ratings = features.pop('user_rating')\n",
    "        user_embeddings, movie_embeddings, rating_predictions = self(features)\n",
    "\n",
    "        rating_loss = self.task(\n",
    "            labels=ratings,\n",
    "            predictions=rating_predictions,\n",
    "        )\n",
    "\n",
    "        return rating_loss"
   ]
  },
  {
   "cell_type": "markdown",
   "metadata": {
    "gradient": {
     "editing": false,
     "id": "d08c49a3-cac2-429b-83b7-6e013fb0ea92",
     "kernelId": ""
    },
    "id": "HVp_55ctAF48"
   },
   "source": [
    "When tuning hyperparameters using the grid approach, it is common to test a range of values across a logarithmic scale, then fine-tune by using a linear scale in the range suggested to be best by the logarithmic scale. (For example, try learning rates of 0.01, 0.02, 0.05, 0.1, 0.2, 0.5, and 1, and if the performance is best for 0.1, then try 0.06, 0.07, 0.08, 0.09, 0.1, 0.11, 0.12, 0.13, 0.14, and 0.15.)\n",
    "\n",
    "Here we only show a small number of values to avoid excessive processing time."
   ]
  },
  {
   "cell_type": "markdown",
   "metadata": {
    "gradient": {
     "editing": false,
     "id": "faa9dba0-307a-4480-899a-bcd49aa093cf",
     "kernelId": ""
    },
    "id": "0WH4-3S7HOCC"
   },
   "source": [
    "Let's set the values we are tuning so they are not hidden in the calls to the model."
   ]
  },
  {
   "cell_type": "code",
   "execution_count": null,
   "metadata": {
    "gradient": {
     "editing": false,
     "id": "2ff69570-3732-40ae-a648-d3af648c7b0d",
     "kernelId": ""
    },
    "id": "o2fF4CN5HUj0"
   },
   "outputs": [],
   "source": [
    "learning_rates_logarithmic = [0.001, 0.01, 0.1, 1]\n",
    "epochs = 30"
   ]
  },
  {
   "cell_type": "markdown",
   "metadata": {
    "gradient": {
     "editing": false,
     "id": "254d8530-29be-4139-8c7c-7f72642192d7",
     "kernelId": ""
    },
    "id": "jvxCoGSDHxb-"
   },
   "source": [
    "Run the logarithmic grid. As with the basic model, the indicator of performance is the RMSE error, shown in the output."
   ]
  },
  {
   "cell_type": "code",
   "execution_count": null,
   "metadata": {
    "colab": {
     "base_uri": "https://localhost:8080/"
    },
    "gradient": {
     "editing": false,
     "id": "6ae980f3-c158-49a3-bfc4-cd93a214cc79",
     "kernelId": ""
    },
    "id": "IIWlPgqD4Hr6",
    "outputId": "e051920a-cec9-4b54-d688-68dcf6a6c627",
    "scrolled": true
   },
   "outputs": [
    {
     "name": "stdout",
     "output_type": "stream",
     "text": [
      "Learning rate = 0.001\n",
      "Epoch 1/30\n",
      "8/8 [==============================] - 4s 274ms/step - root_mean_squared_error: 3.6710 - loss: 13.4524 - regularization_loss: 2.0560 - total_loss: 15.5084 - val_root_mean_squared_error: 3.5643 - val_loss: 12.7940 - val_regularization_loss: 2.0550 - val_total_loss: 14.8490\n",
      "Epoch 2/30\n",
      "8/8 [==============================] - 2s 285ms/step - root_mean_squared_error: 3.6315 - loss: 13.1681 - regularization_loss: 2.0541 - total_loss: 15.2222 - val_root_mean_squared_error: 3.5305 - val_loss: 12.5533 - val_regularization_loss: 2.0531 - val_total_loss: 14.6065\n",
      "Epoch 3/30\n",
      "8/8 [==============================] - 2s 198ms/step - root_mean_squared_error: 3.5991 - loss: 12.9350 - regularization_loss: 2.0523 - total_loss: 14.9873 - val_root_mean_squared_error: 3.5004 - val_loss: 12.3406 - val_regularization_loss: 2.0514 - val_total_loss: 14.3920\n",
      "Epoch 4/30\n",
      "8/8 [==============================] - 1s 187ms/step - root_mean_squared_error: 3.5696 - loss: 12.7245 - regularization_loss: 2.0505 - total_loss: 14.7750 - val_root_mean_squared_error: 3.4723 - val_loss: 12.1441 - val_regularization_loss: 2.0496 - val_total_loss: 14.1938\n",
      "Epoch 5/30\n",
      "8/8 [==============================] - 2s 210ms/step - root_mean_squared_error: 3.5417 - loss: 12.5272 - regularization_loss: 2.0488 - total_loss: 14.5760 - val_root_mean_squared_error: 3.4454 - val_loss: 11.9572 - val_regularization_loss: 2.0480 - val_total_loss: 14.0051\n",
      "Epoch 6/30\n",
      "8/8 [==============================] - 2s 215ms/step - root_mean_squared_error: 3.5148 - loss: 12.3375 - regularization_loss: 2.0472 - total_loss: 14.3847 - val_root_mean_squared_error: 3.4191 - val_loss: 11.7758 - val_regularization_loss: 2.0464 - val_total_loss: 13.8221\n",
      "Epoch 7/30\n",
      "8/8 [==============================] - 2s 202ms/step - root_mean_squared_error: 3.4883 - loss: 12.1522 - regularization_loss: 2.0456 - total_loss: 14.1978 - val_root_mean_squared_error: 3.3930 - val_loss: 11.5973 - val_regularization_loss: 2.0448 - val_total_loss: 13.6421\n",
      "Epoch 8/30\n",
      "8/8 [==============================] - 2s 202ms/step - root_mean_squared_error: 3.4620 - loss: 11.9688 - regularization_loss: 2.0441 - total_loss: 14.0129 - val_root_mean_squared_error: 3.3669 - val_loss: 11.4200 - val_regularization_loss: 2.0433 - val_total_loss: 13.4633\n",
      "Epoch 9/30\n",
      "8/8 [==============================] - 2s 200ms/step - root_mean_squared_error: 3.4355 - loss: 11.7861 - regularization_loss: 2.0426 - total_loss: 13.8288 - val_root_mean_squared_error: 3.3406 - val_loss: 11.2428 - val_regularization_loss: 2.0419 - val_total_loss: 13.2846\n",
      "Epoch 10/30\n",
      "8/8 [==============================] - 2s 201ms/step - root_mean_squared_error: 3.4087 - loss: 11.6031 - regularization_loss: 2.0412 - total_loss: 13.6443 - val_root_mean_squared_error: 3.3140 - val_loss: 11.0648 - val_regularization_loss: 2.0405 - val_total_loss: 13.1053\n",
      "Epoch 11/30\n",
      "8/8 [==============================] - 2s 210ms/step - root_mean_squared_error: 3.3816 - loss: 11.4189 - regularization_loss: 2.0398 - total_loss: 13.4588 - val_root_mean_squared_error: 3.2870 - val_loss: 10.8857 - val_regularization_loss: 2.0392 - val_total_loss: 12.9248\n",
      "Epoch 12/30\n",
      "8/8 [==============================] - 3s 326ms/step - root_mean_squared_error: 3.3540 - loss: 11.2332 - regularization_loss: 2.0385 - total_loss: 13.2718 - val_root_mean_squared_error: 3.2595 - val_loss: 10.7048 - val_regularization_loss: 2.0379 - val_total_loss: 12.7427\n",
      "Epoch 13/30\n",
      "8/8 [==============================] - 3s 357ms/step - root_mean_squared_error: 3.3260 - loss: 11.0456 - regularization_loss: 2.0373 - total_loss: 13.0829 - val_root_mean_squared_error: 3.2314 - val_loss: 10.5221 - val_regularization_loss: 2.0366 - val_total_loss: 12.5587\n",
      "Epoch 14/30\n",
      "8/8 [==============================] - 3s 355ms/step - root_mean_squared_error: 3.2973 - loss: 10.8559 - regularization_loss: 2.0360 - total_loss: 12.8919 - val_root_mean_squared_error: 3.2029 - val_loss: 10.3372 - val_regularization_loss: 2.0354 - val_total_loss: 12.3726\n",
      "Epoch 15/30\n",
      "8/8 [==============================] - 3s 371ms/step - root_mean_squared_error: 3.2681 - loss: 10.6638 - regularization_loss: 2.0349 - total_loss: 12.6987 - val_root_mean_squared_error: 3.1737 - val_loss: 10.1501 - val_regularization_loss: 2.0343 - val_total_loss: 12.1844\n",
      "Epoch 16/30\n",
      "8/8 [==============================] - 3s 410ms/step - root_mean_squared_error: 3.2382 - loss: 10.4694 - regularization_loss: 2.0337 - total_loss: 12.5032 - val_root_mean_squared_error: 3.1439 - val_loss: 9.9609 - val_regularization_loss: 2.0331 - val_total_loss: 11.9940\n",
      "Epoch 17/30\n",
      "8/8 [==============================] - 3s 357ms/step - root_mean_squared_error: 3.2077 - loss: 10.2727 - regularization_loss: 2.0326 - total_loss: 12.3053 - val_root_mean_squared_error: 3.1134 - val_loss: 9.7695 - val_regularization_loss: 2.0321 - val_total_loss: 11.8015\n",
      "Epoch 18/30\n",
      "8/8 [==============================] - 3s 360ms/step - root_mean_squared_error: 3.1765 - loss: 10.0737 - regularization_loss: 2.0316 - total_loss: 12.1052 - val_root_mean_squared_error: 3.0823 - val_loss: 9.5759 - val_regularization_loss: 2.0310 - val_total_loss: 11.6069\n",
      "Epoch 19/30\n",
      "8/8 [==============================] - 3s 398ms/step - root_mean_squared_error: 3.1447 - loss: 9.8724 - regularization_loss: 2.0305 - total_loss: 11.9029 - val_root_mean_squared_error: 3.0506 - val_loss: 9.3804 - val_regularization_loss: 2.0300 - val_total_loss: 11.4104\n",
      "Epoch 20/30\n",
      "8/8 [==============================] - 3s 381ms/step - root_mean_squared_error: 3.1122 - loss: 9.6690 - regularization_loss: 2.0295 - total_loss: 11.6985 - val_root_mean_squared_error: 3.0183 - val_loss: 9.1829 - val_regularization_loss: 2.0290 - val_total_loss: 11.2120\n",
      "Epoch 21/30\n",
      "8/8 [==============================] - 3s 373ms/step - root_mean_squared_error: 3.0791 - loss: 9.4637 - regularization_loss: 2.0286 - total_loss: 11.4922 - val_root_mean_squared_error: 2.9853 - val_loss: 8.9838 - val_regularization_loss: 2.0281 - val_total_loss: 11.0119\n",
      "Epoch 22/30\n",
      "8/8 [==============================] - 3s 396ms/step - root_mean_squared_error: 3.0452 - loss: 9.2566 - regularization_loss: 2.0276 - total_loss: 11.2843 - val_root_mean_squared_error: 2.9517 - val_loss: 8.7833 - val_regularization_loss: 2.0272 - val_total_loss: 10.8104\n",
      "Epoch 23/30\n",
      "8/8 [==============================] - 3s 340ms/step - root_mean_squared_error: 3.0108 - loss: 9.0481 - regularization_loss: 2.0267 - total_loss: 11.0748 - val_root_mean_squared_error: 2.9175 - val_loss: 8.5815 - val_regularization_loss: 2.0263 - val_total_loss: 10.6078\n",
      "Epoch 24/30\n",
      "8/8 [==============================] - 3s 359ms/step - root_mean_squared_error: 2.9758 - loss: 8.8383 - regularization_loss: 2.0259 - total_loss: 10.8642 - val_root_mean_squared_error: 2.8827 - val_loss: 8.3788 - val_regularization_loss: 2.0254 - val_total_loss: 10.4043\n",
      "Epoch 25/30\n",
      "8/8 [==============================] - 3s 319ms/step - root_mean_squared_error: 2.9402 - loss: 8.6277 - regularization_loss: 2.0250 - total_loss: 10.6527 - val_root_mean_squared_error: 2.8475 - val_loss: 8.1756 - val_regularization_loss: 2.0246 - val_total_loss: 10.2002\n",
      "Epoch 26/30\n",
      "8/8 [==============================] - 3s 344ms/step - root_mean_squared_error: 2.9040 - loss: 8.4166 - regularization_loss: 2.0242 - total_loss: 10.4408 - val_root_mean_squared_error: 2.8117 - val_loss: 7.9722 - val_regularization_loss: 2.0238 - val_total_loss: 9.9960\n",
      "Epoch 27/30\n",
      "8/8 [==============================] - 3s 369ms/step - root_mean_squared_error: 2.8674 - loss: 8.2053 - regularization_loss: 2.0234 - total_loss: 10.2287 - val_root_mean_squared_error: 2.7755 - val_loss: 7.7689 - val_regularization_loss: 2.0230 - val_total_loss: 9.7919\n",
      "Epoch 28/30\n",
      "8/8 [==============================] - 3s 360ms/step - root_mean_squared_error: 2.8303 - loss: 7.9942 - regularization_loss: 2.0227 - total_loss: 10.0168 - val_root_mean_squared_error: 2.7390 - val_loss: 7.5660 - val_regularization_loss: 2.0223 - val_total_loss: 9.5883\n",
      "Epoch 29/30\n",
      "8/8 [==============================] - 2s 315ms/step - root_mean_squared_error: 2.7929 - loss: 7.7836 - regularization_loss: 2.0219 - total_loss: 9.8055 - val_root_mean_squared_error: 2.7020 - val_loss: 7.3639 - val_regularization_loss: 2.0216 - val_total_loss: 9.3855\n"
     ]
    },
    {
     "name": "stdout",
     "output_type": "stream",
     "text": [
      "Epoch 30/30\n",
      "8/8 [==============================] - 3s 356ms/step - root_mean_squared_error: 2.7551 - loss: 7.5739 - regularization_loss: 2.0212 - total_loss: 9.5951 - val_root_mean_squared_error: 2.6648 - val_loss: 7.1630 - val_regularization_loss: 2.0208 - val_total_loss: 9.1839\n",
      "Learning rate = 0.01\n",
      "Epoch 1/30\n",
      "8/8 [==============================] - 7s 476ms/step - root_mean_squared_error: 3.4480 - loss: 11.6461 - regularization_loss: 2.0333 - total_loss: 13.6794 - val_root_mean_squared_error: 2.9485 - val_loss: 8.7637 - val_regularization_loss: 2.0254 - val_total_loss: 10.7891\n",
      "Epoch 2/30\n",
      "8/8 [==============================] - 3s 358ms/step - root_mean_squared_error: 2.5971 - loss: 6.4708 - regularization_loss: 2.0222 - total_loss: 8.4930 - val_root_mean_squared_error: 1.8883 - val_loss: 3.5994 - val_regularization_loss: 2.0204 - val_total_loss: 5.6198\n",
      "Epoch 3/30\n",
      "8/8 [==============================] - 2s 313ms/step - root_mean_squared_error: 1.5748 - loss: 2.3776 - regularization_loss: 2.0190 - total_loss: 4.3966 - val_root_mean_squared_error: 1.2034 - val_loss: 1.4490 - val_regularization_loss: 2.0159 - val_total_loss: 3.4649\n",
      "Epoch 4/30\n",
      "8/8 [==============================] - 3s 342ms/step - root_mean_squared_error: 1.1607 - loss: 1.3379 - regularization_loss: 2.0095 - total_loss: 3.3474 - val_root_mean_squared_error: 1.1334 - val_loss: 1.2740 - val_regularization_loss: 2.0013 - val_total_loss: 3.2753\n",
      "Epoch 5/30\n",
      "8/8 [==============================] - 3s 329ms/step - root_mean_squared_error: 1.1235 - loss: 1.2610 - regularization_loss: 1.9924 - total_loss: 3.2533 - val_root_mean_squared_error: 1.1336 - val_loss: 1.2725 - val_regularization_loss: 1.9826 - val_total_loss: 3.2551\n",
      "Epoch 6/30\n",
      "8/8 [==============================] - 3s 329ms/step - root_mean_squared_error: 1.1203 - loss: 1.2542 - regularization_loss: 1.9733 - total_loss: 3.2275 - val_root_mean_squared_error: 1.1335 - val_loss: 1.2721 - val_regularization_loss: 1.9633 - val_total_loss: 3.2354\n",
      "Epoch 7/30\n",
      "8/8 [==============================] - 3s 359ms/step - root_mean_squared_error: 1.1185 - loss: 1.2502 - regularization_loss: 1.9540 - total_loss: 3.2042 - val_root_mean_squared_error: 1.1331 - val_loss: 1.2710 - val_regularization_loss: 1.9441 - val_total_loss: 3.2151\n",
      "Epoch 8/30\n",
      "8/8 [==============================] - 2s 300ms/step - root_mean_squared_error: 1.1168 - loss: 1.2464 - regularization_loss: 1.9349 - total_loss: 3.1813 - val_root_mean_squared_error: 1.1326 - val_loss: 1.2699 - val_regularization_loss: 1.9251 - val_total_loss: 3.1950\n",
      "Epoch 9/30\n",
      "8/8 [==============================] - 3s 344ms/step - root_mean_squared_error: 1.1151 - loss: 1.2427 - regularization_loss: 1.9161 - total_loss: 3.1587 - val_root_mean_squared_error: 1.1321 - val_loss: 1.2687 - val_regularization_loss: 1.9064 - val_total_loss: 3.1751\n",
      "Epoch 10/30\n",
      "8/8 [==============================] - 3s 369ms/step - root_mean_squared_error: 1.1135 - loss: 1.2390 - regularization_loss: 1.8974 - total_loss: 3.1364 - val_root_mean_squared_error: 1.1316 - val_loss: 1.2676 - val_regularization_loss: 1.8878 - val_total_loss: 3.1554\n",
      "Epoch 11/30\n",
      "8/8 [==============================] - 3s 330ms/step - root_mean_squared_error: 1.1118 - loss: 1.2352 - regularization_loss: 1.8789 - total_loss: 3.1142 - val_root_mean_squared_error: 1.1311 - val_loss: 1.2665 - val_regularization_loss: 1.8695 - val_total_loss: 3.1360\n",
      "Epoch 12/30\n",
      "8/8 [==============================] - 3s 357ms/step - root_mean_squared_error: 1.1101 - loss: 1.2315 - regularization_loss: 1.8607 - total_loss: 3.0922 - val_root_mean_squared_error: 1.1306 - val_loss: 1.2654 - val_regularization_loss: 1.8513 - val_total_loss: 3.1167\n",
      "Epoch 13/30\n",
      "8/8 [==============================] - 3s 373ms/step - root_mean_squared_error: 1.1084 - loss: 1.2277 - regularization_loss: 1.8427 - total_loss: 3.0704 - val_root_mean_squared_error: 1.1301 - val_loss: 1.2642 - val_regularization_loss: 1.8334 - val_total_loss: 3.0977\n",
      "Epoch 14/30\n",
      "8/8 [==============================] - 3s 346ms/step - root_mean_squared_error: 1.1067 - loss: 1.2239 - regularization_loss: 1.8248 - total_loss: 3.0487 - val_root_mean_squared_error: 1.1296 - val_loss: 1.2631 - val_regularization_loss: 1.8157 - val_total_loss: 3.0788\n",
      "Epoch 15/30\n",
      "8/8 [==============================] - 3s 384ms/step - root_mean_squared_error: 1.1049 - loss: 1.2200 - regularization_loss: 1.8072 - total_loss: 3.0272 - val_root_mean_squared_error: 1.1291 - val_loss: 1.2620 - val_regularization_loss: 1.7982 - val_total_loss: 3.0602\n",
      "Epoch 16/30\n",
      "8/8 [==============================] - 2s 328ms/step - root_mean_squared_error: 1.1031 - loss: 1.2160 - regularization_loss: 1.7898 - total_loss: 3.0058 - val_root_mean_squared_error: 1.1286 - val_loss: 1.2609 - val_regularization_loss: 1.7808 - val_total_loss: 3.0417\n",
      "Epoch 17/30\n",
      "8/8 [==============================] - 3s 337ms/step - root_mean_squared_error: 1.1012 - loss: 1.2119 - regularization_loss: 1.7726 - total_loss: 2.9845 - val_root_mean_squared_error: 1.1280 - val_loss: 1.2597 - val_regularization_loss: 1.7637 - val_total_loss: 3.0234\n",
      "Epoch 18/30\n",
      "8/8 [==============================] - 3s 369ms/step - root_mean_squared_error: 1.0993 - loss: 1.2078 - regularization_loss: 1.7556 - total_loss: 2.9634 - val_root_mean_squared_error: 1.1275 - val_loss: 1.2586 - val_regularization_loss: 1.7468 - val_total_loss: 3.0054\n",
      "Epoch 19/30\n",
      "8/8 [==============================] - 3s 345ms/step - root_mean_squared_error: 1.0974 - loss: 1.2035 - regularization_loss: 1.7387 - total_loss: 2.9423 - val_root_mean_squared_error: 1.1270 - val_loss: 1.2574 - val_regularization_loss: 1.7301 - val_total_loss: 2.9874\n",
      "Epoch 20/30\n",
      "8/8 [==============================] - 3s 413ms/step - root_mean_squared_error: 1.0954 - loss: 1.1992 - regularization_loss: 1.7221 - total_loss: 2.9213 - val_root_mean_squared_error: 1.1264 - val_loss: 1.2562 - val_regularization_loss: 1.7135 - val_total_loss: 2.9697\n",
      "Epoch 21/30\n",
      "8/8 [==============================] - 3s 356ms/step - root_mean_squared_error: 1.0933 - loss: 1.1947 - regularization_loss: 1.7057 - total_loss: 2.9004 - val_root_mean_squared_error: 1.1258 - val_loss: 1.2549 - val_regularization_loss: 1.6972 - val_total_loss: 2.9521\n",
      "Epoch 22/30\n",
      "8/8 [==============================] - 3s 341ms/step - root_mean_squared_error: 1.0912 - loss: 1.1901 - regularization_loss: 1.6894 - total_loss: 2.8796 - val_root_mean_squared_error: 1.1253 - val_loss: 1.2537 - val_regularization_loss: 1.6811 - val_total_loss: 2.9347\n",
      "Epoch 23/30\n",
      "8/8 [==============================] - 3s 382ms/step - root_mean_squared_error: 1.0891 - loss: 1.1855 - regularization_loss: 1.6733 - total_loss: 2.8588 - val_root_mean_squared_error: 1.1247 - val_loss: 1.2524 - val_regularization_loss: 1.6651 - val_total_loss: 2.9175\n",
      "Epoch 24/30\n",
      "8/8 [==============================] - 3s 363ms/step - root_mean_squared_error: 1.0869 - loss: 1.1807 - regularization_loss: 1.6575 - total_loss: 2.8382 - val_root_mean_squared_error: 1.1241 - val_loss: 1.2511 - val_regularization_loss: 1.6493 - val_total_loss: 2.9004\n",
      "Epoch 25/30\n",
      "8/8 [==============================] - 3s 357ms/step - root_mean_squared_error: 1.0846 - loss: 1.1758 - regularization_loss: 1.6418 - total_loss: 2.8176 - val_root_mean_squared_error: 1.1234 - val_loss: 1.2497 - val_regularization_loss: 1.6337 - val_total_loss: 2.8834\n",
      "Epoch 26/30\n",
      "8/8 [==============================] - 3s 345ms/step - root_mean_squared_error: 1.0823 - loss: 1.1709 - regularization_loss: 1.6263 - total_loss: 2.7971 - val_root_mean_squared_error: 1.1228 - val_loss: 1.2483 - val_regularization_loss: 1.6183 - val_total_loss: 2.8666\n",
      "Epoch 27/30\n",
      "8/8 [==============================] - 3s 358ms/step - root_mean_squared_error: 1.0800 - loss: 1.1659 - regularization_loss: 1.6109 - total_loss: 2.7768 - val_root_mean_squared_error: 1.1221 - val_loss: 1.2469 - val_regularization_loss: 1.6030 - val_total_loss: 2.8500\n",
      "Epoch 28/30\n",
      "8/8 [==============================] - 3s 343ms/step - root_mean_squared_error: 1.0776 - loss: 1.1608 - regularization_loss: 1.5958 - total_loss: 2.7565 - val_root_mean_squared_error: 1.1215 - val_loss: 1.2455 - val_regularization_loss: 1.5880 - val_total_loss: 2.8334\n",
      "Epoch 29/30\n"
     ]
    },
    {
     "name": "stdout",
     "output_type": "stream",
     "text": [
      "8/8 [==============================] - 3s 342ms/step - root_mean_squared_error: 1.0752 - loss: 1.1556 - regularization_loss: 1.5808 - total_loss: 2.7364 - val_root_mean_squared_error: 1.1208 - val_loss: 1.2440 - val_regularization_loss: 1.5731 - val_total_loss: 2.8171\n",
      "Epoch 30/30\n",
      "8/8 [==============================] - 2s 300ms/step - root_mean_squared_error: 1.0728 - loss: 1.1504 - regularization_loss: 1.5660 - total_loss: 2.7164 - val_root_mean_squared_error: 1.1200 - val_loss: 1.2424 - val_regularization_loss: 1.5584 - val_total_loss: 2.8008\n",
      "Learning rate = 0.1\n",
      "Epoch 1/30\n",
      "8/8 [==============================] - 7s 459ms/step - root_mean_squared_error: 2.3946 - loss: 5.2584 - regularization_loss: 1.9514 - total_loss: 7.2098 - val_root_mean_squared_error: 1.1550 - val_loss: 1.3157 - val_regularization_loss: 1.8641 - val_total_loss: 3.1798\n",
      "Epoch 2/30\n",
      "8/8 [==============================] - 3s 370ms/step - root_mean_squared_error: 1.1206 - loss: 1.2539 - regularization_loss: 1.7756 - total_loss: 3.0295 - val_root_mean_squared_error: 1.1333 - val_loss: 1.2704 - val_regularization_loss: 1.6868 - val_total_loss: 2.9572\n",
      "Epoch 3/30\n",
      "8/8 [==============================] - 2s 326ms/step - root_mean_squared_error: 1.1118 - loss: 1.2347 - regularization_loss: 1.6085 - total_loss: 2.8432 - val_root_mean_squared_error: 1.1309 - val_loss: 1.2651 - val_regularization_loss: 1.5288 - val_total_loss: 2.7940\n",
      "Epoch 4/30\n",
      "8/8 [==============================] - 3s 398ms/step - root_mean_squared_error: 1.1025 - loss: 1.2137 - regularization_loss: 1.4586 - total_loss: 2.6724 - val_root_mean_squared_error: 1.1282 - val_loss: 1.2592 - val_regularization_loss: 1.3872 - val_total_loss: 2.6464\n",
      "Epoch 5/30\n",
      "8/8 [==============================] - 3s 350ms/step - root_mean_squared_error: 1.0900 - loss: 1.1862 - regularization_loss: 1.3244 - total_loss: 2.5106 - val_root_mean_squared_error: 1.1248 - val_loss: 1.2518 - val_regularization_loss: 1.2605 - val_total_loss: 2.5123\n",
      "Epoch 6/30\n",
      "8/8 [==============================] - 3s 453ms/step - root_mean_squared_error: 1.0747 - loss: 1.1531 - regularization_loss: 1.2044 - total_loss: 2.3575 - val_root_mean_squared_error: 1.1205 - val_loss: 1.2426 - val_regularization_loss: 1.1473 - val_total_loss: 2.3898\n",
      "Epoch 7/30\n",
      "8/8 [==============================] - 3s 354ms/step - root_mean_squared_error: 1.0581 - loss: 1.1180 - regularization_loss: 1.0970 - total_loss: 2.2150 - val_root_mean_squared_error: 1.1152 - val_loss: 1.2311 - val_regularization_loss: 1.0458 - val_total_loss: 2.2769\n",
      "Epoch 8/30\n",
      "8/8 [==============================] - 3s 396ms/step - root_mean_squared_error: 1.0420 - loss: 1.0845 - regularization_loss: 1.0006 - total_loss: 2.0851 - val_root_mean_squared_error: 1.1088 - val_loss: 1.2175 - val_regularization_loss: 0.9545 - val_total_loss: 2.1721\n",
      "Epoch 9/30\n",
      "8/8 [==============================] - 3s 383ms/step - root_mean_squared_error: 1.0268 - loss: 1.0533 - regularization_loss: 0.9138 - total_loss: 1.9671 - val_root_mean_squared_error: 1.1018 - val_loss: 1.2026 - val_regularization_loss: 0.8723 - val_total_loss: 2.0750\n",
      "Epoch 10/30\n",
      "8/8 [==============================] - 2s 318ms/step - root_mean_squared_error: 1.0127 - loss: 1.0247 - regularization_loss: 0.8355 - total_loss: 1.8602 - val_root_mean_squared_error: 1.0946 - val_loss: 1.1877 - val_regularization_loss: 0.7981 - val_total_loss: 1.9858\n",
      "Epoch 11/30\n",
      "8/8 [==============================] - 3s 311ms/step - root_mean_squared_error: 1.0000 - loss: 0.9992 - regularization_loss: 0.7648 - total_loss: 1.7640 - val_root_mean_squared_error: 1.0879 - val_loss: 1.1739 - val_regularization_loss: 0.7310 - val_total_loss: 1.9049\n",
      "Epoch 12/30\n",
      "8/8 [==============================] - 3s 338ms/step - root_mean_squared_error: 0.9889 - loss: 0.9773 - regularization_loss: 0.7007 - total_loss: 1.6780 - val_root_mean_squared_error: 1.0820 - val_loss: 1.1621 - val_regularization_loss: 0.6702 - val_total_loss: 1.8323\n",
      "Epoch 13/30\n",
      "8/8 [==============================] - 3s 385ms/step - root_mean_squared_error: 0.9795 - loss: 0.9590 - regularization_loss: 0.6425 - total_loss: 1.6016 - val_root_mean_squared_error: 1.0771 - val_loss: 1.1526 - val_regularization_loss: 0.6148 - val_total_loss: 1.7674\n",
      "Epoch 14/30\n",
      "8/8 [==============================] - 3s 354ms/step - root_mean_squared_error: 0.9718 - loss: 0.9441 - regularization_loss: 0.5895 - total_loss: 1.5336 - val_root_mean_squared_error: 1.0733 - val_loss: 1.1452 - val_regularization_loss: 0.5644 - val_total_loss: 1.7097\n",
      "Epoch 15/30\n",
      "8/8 [==============================] - 3s 346ms/step - root_mean_squared_error: 0.9655 - loss: 0.9320 - regularization_loss: 0.5413 - total_loss: 1.4732 - val_root_mean_squared_error: 1.0704 - val_loss: 1.1399 - val_regularization_loss: 0.5185 - val_total_loss: 1.6584\n",
      "Epoch 16/30\n",
      "8/8 [==============================] - 3s 355ms/step - root_mean_squared_error: 0.9604 - loss: 0.9221 - regularization_loss: 0.4973 - total_loss: 1.4195 - val_root_mean_squared_error: 1.0685 - val_loss: 1.1363 - val_regularization_loss: 0.4768 - val_total_loss: 1.6131\n",
      "Epoch 17/30\n",
      "8/8 [==============================] - 3s 356ms/step - root_mean_squared_error: 0.9562 - loss: 0.9142 - regularization_loss: 0.4573 - total_loss: 1.3715 - val_root_mean_squared_error: 1.0673 - val_loss: 1.1342 - val_regularization_loss: 0.4388 - val_total_loss: 1.5730\n",
      "Epoch 18/30\n",
      "8/8 [==============================] - 3s 369ms/step - root_mean_squared_error: 0.9528 - loss: 0.9079 - regularization_loss: 0.4209 - total_loss: 1.3288 - val_root_mean_squared_error: 1.0667 - val_loss: 1.1332 - val_regularization_loss: 0.4043 - val_total_loss: 1.5375\n",
      "Epoch 19/30\n",
      "8/8 [==============================] - 3s 357ms/step - root_mean_squared_error: 0.9501 - loss: 0.9029 - regularization_loss: 0.3878 - total_loss: 1.2907 - val_root_mean_squared_error: 1.0664 - val_loss: 1.1329 - val_regularization_loss: 0.3729 - val_total_loss: 1.5058\n",
      "Epoch 20/30\n",
      "8/8 [==============================] - 3s 371ms/step - root_mean_squared_error: 0.9479 - loss: 0.8986 - regularization_loss: 0.3577 - total_loss: 1.2563 - val_root_mean_squared_error: 1.0660 - val_loss: 1.1324 - val_regularization_loss: 0.3443 - val_total_loss: 1.4767\n",
      "Epoch 21/30\n",
      "8/8 [==============================] - 3s 345ms/step - root_mean_squared_error: 0.9457 - loss: 0.8946 - regularization_loss: 0.3304 - total_loss: 1.2250 - val_root_mean_squared_error: 1.0653 - val_loss: 1.1311 - val_regularization_loss: 0.3184 - val_total_loss: 1.4494\n",
      "Epoch 22/30\n",
      "8/8 [==============================] - 3s 345ms/step - root_mean_squared_error: 0.9436 - loss: 0.8906 - regularization_loss: 0.3056 - total_loss: 1.1962 - val_root_mean_squared_error: 1.0641 - val_loss: 1.1289 - val_regularization_loss: 0.2948 - val_total_loss: 1.4237\n",
      "Epoch 23/30\n",
      "8/8 [==============================] - 3s 356ms/step - root_mean_squared_error: 0.9415 - loss: 0.8866 - regularization_loss: 0.2831 - total_loss: 1.1697 - val_root_mean_squared_error: 1.0627 - val_loss: 1.1262 - val_regularization_loss: 0.2734 - val_total_loss: 1.3996\n",
      "Epoch 24/30\n",
      "8/8 [==============================] - 3s 389ms/step - root_mean_squared_error: 0.9395 - loss: 0.8828 - regularization_loss: 0.2627 - total_loss: 1.1454 - val_root_mean_squared_error: 1.0613 - val_loss: 1.1236 - val_regularization_loss: 0.2539 - val_total_loss: 1.3775\n",
      "Epoch 25/30\n",
      "8/8 [==============================] - 2s 318ms/step - root_mean_squared_error: 0.9377 - loss: 0.8793 - regularization_loss: 0.2441 - total_loss: 1.1234 - val_root_mean_squared_error: 1.0601 - val_loss: 1.1214 - val_regularization_loss: 0.2362 - val_total_loss: 1.3576\n",
      "Epoch 26/30\n",
      "8/8 [==============================] - 3s 342ms/step - root_mean_squared_error: 0.9361 - loss: 0.8762 - regularization_loss: 0.2273 - total_loss: 1.1035 - val_root_mean_squared_error: 1.0591 - val_loss: 1.1196 - val_regularization_loss: 0.2202 - val_total_loss: 1.3398\n",
      "Epoch 27/30\n",
      "8/8 [==============================] - 2s 312ms/step - root_mean_squared_error: 0.9346 - loss: 0.8736 - regularization_loss: 0.2119 - total_loss: 1.0855 - val_root_mean_squared_error: 1.0584 - val_loss: 1.1183 - val_regularization_loss: 0.2056 - val_total_loss: 1.3239\n",
      "Epoch 28/30\n"
     ]
    },
    {
     "name": "stdout",
     "output_type": "stream",
     "text": [
      "8/8 [==============================] - 3s 374ms/step - root_mean_squared_error: 0.9334 - loss: 0.8713 - regularization_loss: 0.1980 - total_loss: 1.0693 - val_root_mean_squared_error: 1.0578 - val_loss: 1.1173 - val_regularization_loss: 0.1924 - val_total_loss: 1.3097\n",
      "Epoch 29/30\n",
      "8/8 [==============================] - 3s 371ms/step - root_mean_squared_error: 0.9323 - loss: 0.8692 - regularization_loss: 0.1854 - total_loss: 1.0546 - val_root_mean_squared_error: 1.0574 - val_loss: 1.1165 - val_regularization_loss: 0.1804 - val_total_loss: 1.2969\n",
      "Epoch 30/30\n",
      "8/8 [==============================] - 3s 343ms/step - root_mean_squared_error: 0.9313 - loss: 0.8673 - regularization_loss: 0.1739 - total_loss: 1.0412 - val_root_mean_squared_error: 1.0570 - val_loss: 1.1159 - val_regularization_loss: 0.1694 - val_total_loss: 1.2854\n",
      "Learning rate = 1\n",
      "Epoch 1/30\n",
      "8/8 [==============================] - 7s 429ms/step - root_mean_squared_error: 2071.8096 - loss: 7760938.5627 - regularization_loss: 84.7088 - total_loss: 7761023.5475 - val_root_mean_squared_error: 888.0635 - val_loss: 798920.3750 - val_regularization_loss: 242.2545 - val_total_loss: 799162.6250\n",
      "Epoch 2/30\n",
      "8/8 [==============================] - 3s 387ms/step - root_mean_squared_error: 894.9608 - loss: 709788.7989 - regularization_loss: 260.6176 - total_loss: 710049.4230 - val_root_mean_squared_error: 3.8737 - val_loss: 15.1633 - val_regularization_loss: 263.4356 - val_total_loss: 278.5989\n",
      "Epoch 3/30\n",
      "8/8 [==============================] - 3s 328ms/step - root_mean_squared_error: 3.8618 - loss: 14.9130 - regularization_loss: 261.0048 - total_loss: 275.9177 - val_root_mean_squared_error: 3.8611 - val_loss: 15.0659 - val_regularization_loss: 258.6389 - val_total_loss: 273.7048\n",
      "Epoch 4/30\n",
      "8/8 [==============================] - 2s 326ms/step - root_mean_squared_error: 3.7977 - loss: 14.4017 - regularization_loss: 256.6370 - total_loss: 271.0388 - val_root_mean_squared_error: 3.8412 - val_loss: 14.8977 - val_regularization_loss: 254.6685 - val_total_loss: 269.5662\n",
      "Epoch 5/30\n",
      "8/8 [==============================] - 3s 330ms/step - root_mean_squared_error: 3.6698 - loss: 13.4056 - regularization_loss: 252.9429 - total_loss: 266.3485 - val_root_mean_squared_error: 3.7998 - val_loss: 14.5562 - val_regularization_loss: 251.2335 - val_total_loss: 265.7897\n",
      "Epoch 6/30\n",
      "8/8 [==============================] - 3s 361ms/step - root_mean_squared_error: 3.4077 - loss: 11.4893 - regularization_loss: 249.7031 - total_loss: 261.1925 - val_root_mean_squared_error: 3.7340 - val_loss: 14.0847 - val_regularization_loss: 248.1804 - val_total_loss: 262.2651\n",
      "Epoch 7/30\n",
      "8/8 [==============================] - 3s 354ms/step - root_mean_squared_error: 3.0598 - loss: 9.2718 - regularization_loss: 246.7961 - total_loss: 256.0679 - val_root_mean_squared_error: 3.6701 - val_loss: 13.6314 - val_regularization_loss: 245.4151 - val_total_loss: 259.0465\n",
      "Epoch 8/30\n",
      "8/8 [==============================] - 2s 328ms/step - root_mean_squared_error: 2.8230 - loss: 7.9193 - regularization_loss: 244.1454 - total_loss: 252.0647 - val_root_mean_squared_error: 3.6249 - val_loss: 13.2967 - val_regularization_loss: 242.8770 - val_total_loss: 256.1737\n",
      "Epoch 9/30\n",
      "8/8 [==============================] - 3s 342ms/step - root_mean_squared_error: 2.6852 - loss: 7.1819 - regularization_loss: 241.7007 - total_loss: 248.8825 - val_root_mean_squared_error: 3.5857 - val_loss: 13.0176 - val_regularization_loss: 240.5242 - val_total_loss: 253.5417\n",
      "Epoch 10/30\n",
      "8/8 [==============================] - 3s 357ms/step - root_mean_squared_error: 2.5905 - loss: 6.6924 - regularization_loss: 239.4256 - total_loss: 246.1180 - val_root_mean_squared_error: 3.5522 - val_loss: 12.7776 - val_regularization_loss: 238.3257 - val_total_loss: 251.1033\n",
      "Epoch 11/30\n",
      "8/8 [==============================] - 3s 357ms/step - root_mean_squared_error: 2.5154 - loss: 6.3158 - regularization_loss: 237.2930 - total_loss: 243.6089 - val_root_mean_squared_error: 3.5195 - val_loss: 12.5445 - val_regularization_loss: 236.2583 - val_total_loss: 248.8028\n",
      "Epoch 12/30\n",
      "8/8 [==============================] - 3s 354ms/step - root_mean_squared_error: 2.4521 - loss: 6.0055 - regularization_loss: 235.2827 - total_loss: 241.2882 - val_root_mean_squared_error: 3.4872 - val_loss: 12.3129 - val_regularization_loss: 234.3045 - val_total_loss: 246.6174\n",
      "Epoch 13/30\n",
      "8/8 [==============================] - 3s 371ms/step - root_mean_squared_error: 2.3991 - loss: 5.7524 - regularization_loss: 233.3786 - total_loss: 239.1311 - val_root_mean_squared_error: 3.4582 - val_loss: 12.1127 - val_regularization_loss: 232.4491 - val_total_loss: 244.5618\n",
      "Epoch 14/30\n",
      "8/8 [==============================] - 3s 344ms/step - root_mean_squared_error: 2.3545 - loss: 5.5429 - regularization_loss: 231.5678 - total_loss: 237.1107 - val_root_mean_squared_error: 3.4317 - val_loss: 11.9279 - val_regularization_loss: 230.6826 - val_total_loss: 242.6105\n",
      "Epoch 15/30\n",
      "8/8 [==============================] - 2s 300ms/step - root_mean_squared_error: 2.3168 - loss: 5.3682 - regularization_loss: 229.8411 - total_loss: 235.2092 - val_root_mean_squared_error: 3.4087 - val_loss: 11.7670 - val_regularization_loss: 228.9965 - val_total_loss: 240.7635\n",
      "Epoch 16/30\n",
      "8/8 [==============================] - 3s 400ms/step - root_mean_squared_error: 2.2850 - loss: 5.2245 - regularization_loss: 228.1894 - total_loss: 233.4139 - val_root_mean_squared_error: 3.3874 - val_loss: 11.6208 - val_regularization_loss: 227.3779 - val_total_loss: 238.9987\n",
      "Epoch 17/30\n",
      "8/8 [==============================] - 3s 315ms/step - root_mean_squared_error: 2.2584 - loss: 5.1041 - regularization_loss: 226.6051 - total_loss: 231.7092 - val_root_mean_squared_error: 3.3678 - val_loss: 11.4879 - val_regularization_loss: 225.8309 - val_total_loss: 237.3188\n",
      "Epoch 18/30\n",
      "8/8 [==============================] - 3s 345ms/step - root_mean_squared_error: 2.2357 - loss: 5.0052 - regularization_loss: 225.0843 - total_loss: 230.0895 - val_root_mean_squared_error: 3.3507 - val_loss: 11.3728 - val_regularization_loss: 224.3321 - val_total_loss: 235.7049\n",
      "Epoch 19/30\n",
      "8/8 [==============================] - 3s 343ms/step - root_mean_squared_error: 2.2165 - loss: 4.9194 - regularization_loss: 223.6156 - total_loss: 228.5350 - val_root_mean_squared_error: 3.3353 - val_loss: 11.2700 - val_regularization_loss: 222.8983 - val_total_loss: 234.1683\n",
      "Epoch 20/30\n",
      "8/8 [==============================] - 3s 327ms/step - root_mean_squared_error: 2.1992 - loss: 4.8453 - regularization_loss: 222.2035 - total_loss: 227.0489 - val_root_mean_squared_error: 3.3218 - val_loss: 11.1797 - val_regularization_loss: 221.5046 - val_total_loss: 232.6842\n",
      "Epoch 21/30\n",
      "8/8 [==============================] - 3s 372ms/step - root_mean_squared_error: 2.1849 - loss: 4.7839 - regularization_loss: 220.8334 - total_loss: 225.6173 - val_root_mean_squared_error: 3.3098 - val_loss: 11.1001 - val_regularization_loss: 220.1582 - val_total_loss: 231.2583\n",
      "Epoch 22/30\n",
      "8/8 [==============================] - 3s 357ms/step - root_mean_squared_error: 2.1716 - loss: 4.7264 - regularization_loss: 219.5093 - total_loss: 224.2357 - val_root_mean_squared_error: 3.2986 - val_loss: 11.0255 - val_regularization_loss: 218.8584 - val_total_loss: 229.8839\n",
      "Epoch 23/30\n",
      "8/8 [==============================] - 3s 455ms/step - root_mean_squared_error: 2.1596 - loss: 4.6765 - regularization_loss: 218.2271 - total_loss: 222.9036 - val_root_mean_squared_error: 3.2891 - val_loss: 10.9636 - val_regularization_loss: 217.5909 - val_total_loss: 228.5545\n",
      "Epoch 24/30\n",
      "8/8 [==============================] - 3s 360ms/step - root_mean_squared_error: 2.1492 - loss: 4.6313 - regularization_loss: 216.9799 - total_loss: 221.6112 - val_root_mean_squared_error: 3.2798 - val_loss: 10.9024 - val_regularization_loss: 216.3665 - val_total_loss: 227.2689\n",
      "Epoch 25/30\n",
      "8/8 [==============================] - 3s 386ms/step - root_mean_squared_error: 2.1390 - loss: 4.5884 - regularization_loss: 215.7716 - total_loss: 220.3600 - val_root_mean_squared_error: 3.2717 - val_loss: 10.8508 - val_regularization_loss: 215.1730 - val_total_loss: 226.0238\n",
      "Epoch 26/30\n"
     ]
    },
    {
     "name": "stdout",
     "output_type": "stream",
     "text": [
      "8/8 [==============================] - 2s 303ms/step - root_mean_squared_error: 2.1302 - loss: 4.5512 - regularization_loss: 214.5942 - total_loss: 219.1455 - val_root_mean_squared_error: 3.2643 - val_loss: 10.8026 - val_regularization_loss: 214.0116 - val_total_loss: 224.8142\n",
      "Epoch 27/30\n",
      "8/8 [==============================] - 3s 343ms/step - root_mean_squared_error: 2.1223 - loss: 4.5182 - regularization_loss: 213.4480 - total_loss: 217.9662 - val_root_mean_squared_error: 3.2578 - val_loss: 10.7615 - val_regularization_loss: 212.8802 - val_total_loss: 223.6417\n",
      "Epoch 28/30\n",
      "8/8 [==============================] - 3s 342ms/step - root_mean_squared_error: 2.1153 - loss: 4.4887 - regularization_loss: 212.3310 - total_loss: 216.8197 - val_root_mean_squared_error: 3.2516 - val_loss: 10.7215 - val_regularization_loss: 211.7774 - val_total_loss: 222.4989\n",
      "Epoch 29/30\n",
      "8/8 [==============================] - 2s 301ms/step - root_mean_squared_error: 2.1089 - loss: 4.4618 - regularization_loss: 211.2417 - total_loss: 215.7034 - val_root_mean_squared_error: 3.2460 - val_loss: 10.6864 - val_regularization_loss: 210.7012 - val_total_loss: 221.3876\n",
      "Epoch 30/30\n",
      "8/8 [==============================] - 3s 385ms/step - root_mean_squared_error: 2.1028 - loss: 4.4367 - regularization_loss: 210.1783 - total_loss: 214.6150 - val_root_mean_squared_error: 3.2406 - val_loss: 10.6512 - val_regularization_loss: 209.6506 - val_total_loss: 220.3018\n"
     ]
    }
   ],
   "source": [
    "# Store the training histories in a dictionary\n",
    "# This can probably be done better or more securely than here, because we are creating \n",
    "# variable names from values, but it serves the purpose here of plotting the tuning\n",
    "\n",
    "histories_tr = {}\n",
    "\n",
    "# For each learning rate:\n",
    "\n",
    "# - Create an instance of the model class that can be used as the model\n",
    "# - Compile the model to set its initial parameters\n",
    "# - Train the model using .fit, minimizing the loss on the neural network predictions of the user ratings\n",
    "\n",
    "for val in learning_rates_logarithmic:\n",
    "    print('Learning rate = {}'.format(val))\n",
    "    model_tr = MovielensModelTunedRanking()\n",
    "    model_tr.compile(optimizer=tf.keras.optimizers.Adagrad(learning_rate=val))\n",
    "\n",
    "    lr = str(val)\n",
    "    histories_tr[lr] = model_tr.fit(cached_train, epochs=epochs, validation_data=cached_validation)"
   ]
  },
  {
   "cell_type": "markdown",
   "metadata": {
    "gradient": {
     "editing": false,
     "id": "c18f258b-0236-4e3a-af01-00f2d70e910c",
     "kernelId": ""
    },
    "id": "w_mymY1K_Dlz"
   },
   "source": [
    "As above, we can view and plot the tuning history, now for multiple hyperparameter tuning grid points."
   ]
  },
  {
   "cell_type": "code",
   "execution_count": null,
   "metadata": {
    "colab": {
     "base_uri": "https://localhost:8080/"
    },
    "gradient": {
     "editing": false,
     "id": "2d701649-2114-432a-9faf-bd40b95bb140",
     "kernelId": ""
    },
    "id": "yWoxGpqX99tl",
    "outputId": "0ef9d914-47d8-4593-d9f1-5d18c0e18972"
   },
   "outputs": [
    {
     "data": {
      "text/plain": [
       "{'0.001': <tensorflow.python.keras.callbacks.History at 0x7f9aa04cf128>,\n",
       " '0.01': <tensorflow.python.keras.callbacks.History at 0x7f9aa129f198>,\n",
       " '0.1': <tensorflow.python.keras.callbacks.History at 0x7f9aa00cb160>,\n",
       " '1': <tensorflow.python.keras.callbacks.History at 0x7f9aa129df98>}"
      ]
     },
     "execution_count": 38,
     "metadata": {},
     "output_type": "execute_result"
    }
   ],
   "source": [
    "# All 4 histories\n",
    "histories_tr"
   ]
  },
  {
   "cell_type": "code",
   "execution_count": null,
   "metadata": {
    "colab": {
     "base_uri": "https://localhost:8080/"
    },
    "gradient": {
     "editing": false,
     "id": "5f456498-efa9-420f-95b8-b5b80615014c",
     "kernelId": ""
    },
    "id": "XgssZ1Tm-JDv",
    "outputId": "83900cad-51a5-4642-89ba-c0754ab8c1a3"
   },
   "outputs": [
    {
     "name": "stdout",
     "output_type": "stream",
     "text": [
      "{'loss': [1.5540858507156372, 1.2402164936065674, 1.2230890989303589,\n",
      "          1.2006103992462158, 1.1718666553497314, 1.1388752460479736,\n",
      "          1.1056896448135376, 1.0743016004562378, 1.0446979999542236,\n",
      "          1.017435073852539, 0.993242621421814, 0.9725803136825562,\n",
      "          0.9554118514060974, 0.9413831830024719, 0.9300297498703003,\n",
      "          0.9209375381469727, 0.9137428998947144, 0.9081310033798218,\n",
      "          0.9036752581596375, 0.8997374773025513, 0.8958032131195068,\n",
      "          0.891607940196991, 0.8873361945152283, 0.8833000659942627,\n",
      "          0.8796865940093994, 0.8765696883201599, 0.8738776445388794,\n",
      "          0.8715494275093079, 0.8694984316825867, 0.8676631450653076],\n",
      " 'regularization_loss': [1.8798547983169556, 1.7072715759277344,\n",
      "                         1.5472103357315063, 1.403624176979065,\n",
      "                         1.2751632928848267, 1.1603707075119019,\n",
      "                         1.0575551986694336, 0.9650678038597107,\n",
      "                         0.881732165813446, 0.8065289258956909,\n",
      "                         0.7385134696960449, 0.676810622215271,\n",
      "                         0.6206827163696289, 0.569566547870636,\n",
      "                         0.5229963064193726, 0.480575293302536,\n",
      "                         0.4419557750225067, 0.4068121314048767,\n",
      "                         0.37485820055007935, 0.34583303332328796,\n",
      "                         0.31949499249458313, 0.2956126630306244,\n",
      "                         0.2739558815956116, 0.2543036937713623,\n",
      "                         0.23645879328250885, 0.2202446460723877,\n",
      "                         0.20550742745399475, 0.19211097061634064,\n",
      "                         0.17992961406707764, 0.16885241866111755],\n",
      " 'root_mean_squared_error': [2.3946194648742676, 1.1205579042434692,\n",
      "                             1.1118359565734863, 1.1024526357650757,\n",
      "                             1.0899866819381714, 1.0746896266937256,\n",
      "                             1.0581010580062866, 1.0420153141021729,\n",
      "                             1.0268492698669434, 1.0127372741699219,\n",
      "                             0.9999881386756897, 0.9888959527015686,\n",
      "                             0.9795485138893127, 0.9718303680419922,\n",
      "                             0.9655119180679321, 0.960365355014801,\n",
      "                             0.9561956524848938, 0.9528457522392273,\n",
      "                             0.950143039226532, 0.947860062122345,\n",
      "                             0.9457486271858215, 0.943641185760498,\n",
      "                             0.9415334463119507, 0.9395133256912231,\n",
      "                             0.9376744627952576, 0.9360506534576416,\n",
      "                             0.9346335530281067, 0.9333892464637756,\n",
      "                             0.9322865009307861, 0.9312934875488281],\n",
      " 'total_loss': [3.4339406490325928, 2.9474880695343018, 2.7702994346618652,\n",
      "                2.6042346954345703, 2.4470300674438477, 2.299245834350586,\n",
      "                2.1632447242736816, 2.0393693447113037, 1.9264302253723145,\n",
      "                1.82396399974823, 1.7317560911178589, 1.6493909358978271,\n",
      "                1.576094627380371, 1.510949730873108, 1.4530260562896729,\n",
      "                1.401512861251831, 1.3556987047195435, 1.3149430751800537,\n",
      "                1.2785334587097168, 1.2455705404281616, 1.2152981758117676,\n",
      "                1.187220573425293, 1.1612920761108398, 1.137603759765625,\n",
      "                1.116145372390747, 1.0968143939971924, 1.0793850421905518,\n",
      "                1.0636603832244873, 1.0494279861450195, 1.0365155935287476],\n",
      " 'val_loss': [1.315698266029358, 1.270391821861267, 1.2651339769363403,\n",
      "              1.2591829299926758, 1.251847267150879, 1.2425673007965088,\n",
      "              1.2311241626739502, 1.2175358533859253, 1.2026360034942627,\n",
      "              1.1876848936080933, 1.1738951206207275, 1.1620861291885376,\n",
      "              1.1525545120239258, 1.1452206373214722, 1.139862298965454,\n",
      "              1.136267066001892, 1.1341702938079834, 1.1332271099090576,\n",
      "              1.1329139471054077, 1.1323633193969727, 1.1310547590255737,\n",
      "              1.1288717985153198, 1.1262222528457642, 1.1236107349395752,\n",
      "              1.1213583946228027, 1.119627594947815, 1.11830735206604,\n",
      "              1.1173189878463745, 1.1165449619293213, 1.11592435836792],\n",
      " 'val_regularization_loss': [1.8640761375427246, 1.6868009567260742,\n",
      "                             1.5288249254226685, 1.3871841430664062,\n",
      "                             1.2604882717132568, 1.1472665071487427,\n",
      "                             1.0458130836486816, 0.9545428156852722,\n",
      "                             0.8723210096359253, 0.7981371879577637,\n",
      "                             0.731042742729187, 0.6701783537864685,\n",
      "                             0.614822506904602, 0.5644314289093018,\n",
      "                             0.5185474753379822, 0.4767850339412689,\n",
      "                             0.4387976825237274, 0.4042584002017975,\n",
      "                             0.3728638291358948, 0.34432512521743774,\n",
      "                             0.318382203578949, 0.29480013251304626,\n",
      "                             0.27337560057640076, 0.25391727685928345,\n",
      "                             0.23624931275844574, 0.2202063351869583,\n",
      "                             0.2056346833705902, 0.19239851832389832,\n",
      "                             0.18036869168281555, 0.1694314181804657],\n",
      " 'val_root_mean_squared_error': [1.1549818515777588, 1.1333231925964355,\n",
      "                                 1.1309270858764648, 1.1282113790512085,\n",
      "                                 1.124839186668396, 1.1205458641052246,\n",
      "                                 1.1152172088623047, 1.108842372894287,\n",
      "                                 1.1017853021621704, 1.0946006774902344,\n",
      "                                 1.0878533124923706, 1.0819581747055054,\n",
      "                                 1.0771009922027588, 1.0732868909835815,\n",
      "                                 1.0704429149627686, 1.0684864521026611,\n",
      "                                 1.0672937631607056, 1.0666937828063965,\n",
      "                                 1.066421627998352, 1.0660394430160522,\n",
      "                                 1.0652858018875122, 1.0640995502471924,\n",
      "                                 1.06268310546875, 1.061289668083191,\n",
      "                                 1.060080647468567, 1.059138536453247,\n",
      "                                 1.0584076642990112, 1.0578471422195435,\n",
      "                                 1.0573976039886475, 1.0570285320281982],\n",
      " 'val_total_loss': [3.179774284362793, 2.957192897796631, 2.793958902359009,\n",
      "                    2.646367073059082, 2.5123355388641357, 2.389833927154541,\n",
      "                    2.276937246322632, 2.1720786094665527, 2.0749568939208984,\n",
      "                    1.985822081565857, 1.9049378633499146, 1.8322644233703613,\n",
      "                    1.7673770189285278, 1.709652066230774, 1.658409833908081,\n",
      "                    1.6130521297454834, 1.5729680061340332, 1.5374854803085327,\n",
      "                    1.5057778358459473, 1.4766883850097656, 1.449436902999878,\n",
      "                    1.4236719608306885, 1.3995978832244873, 1.3775279521942139,\n",
      "                    1.3576077222824097, 1.3398339748382568, 1.3239420652389526,\n",
      "                    1.3097175359725952, 1.2969136238098145, 1.285355806350708]}\n"
     ]
    }
   ],
   "source": [
    "# History for learning rate 0.1\n",
    "pprint.pprint(histories_tr['0.1'].history, compact=True)"
   ]
  },
  {
   "cell_type": "code",
   "execution_count": null,
   "metadata": {
    "colab": {
     "base_uri": "https://localhost:8080/"
    },
    "gradient": {
     "editing": false,
     "id": "499ce88a-3029-4058-8cf7-da9362d5303f",
     "kernelId": ""
    },
    "id": "03HKT4aLKr4i",
    "outputId": "03f7636d-4e71-40f2-a382-0c90e6750c03"
   },
   "outputs": [
    {
     "name": "stdout",
     "output_type": "stream",
     "text": [
      "Root mean squared error in user rating from training   for learning rate 0.001 = 2.755063772201538\n",
      "Root mean squared error in user rating from validation for learning rate 0.001 = 2.6648380756378174\n",
      "Root mean squared error in user rating from training   for learning rate 0.01 = 1.0728036165237427\n",
      "Root mean squared error in user rating from validation for learning rate 0.01 = 1.1200450658798218\n",
      "Root mean squared error in user rating from training   for learning rate 0.1 = 0.9312934875488281\n",
      "Root mean squared error in user rating from validation for learning rate 0.1 = 1.0570285320281982\n",
      "Root mean squared error in user rating from training   for learning rate 1 = 2.10284423828125\n",
      "Root mean squared error in user rating from validation for learning rate 1 = 3.240593910217285\n"
     ]
    }
   ],
   "source": [
    "for val in learning_rates_logarithmic:\n",
    "    lr = str(val)\n",
    "\n",
    "    rmse_tr = histories_tr[lr].history['root_mean_squared_error'][-1]\n",
    "    print('Root mean squared error in user rating from training   for learning rate {} = {}'.format(lr, rmse_tr))\n",
    "\n",
    "    val_rmse_tr = histories_tr[lr].history['val_root_mean_squared_error'][-1]\n",
    "    print('Root mean squared error in user rating from validation for learning rate {} = {}'.format(lr, val_rmse_tr))"
   ]
  },
  {
   "cell_type": "code",
   "execution_count": null,
   "metadata": {
    "gradient": {
     "editing": false,
     "id": "af10d42c-c3b0-44a3-842a-a918b54da9e3",
     "kernelId": ""
    },
    "id": "NT6elfwzLa67"
   },
   "outputs": [],
   "source": [
    "num_validation_runs = len(histories_tr['0.1'].history['root_mean_squared_error']) # Or any of the learning rates; they are all the same\n",
    "validation_freq = 1\n",
    "epochs_x = [(x + 1) * validation_freq for x in range(num_validation_runs)]"
   ]
  },
  {
   "cell_type": "code",
   "execution_count": null,
   "metadata": {
    "colab": {
     "base_uri": "https://localhost:8080/",
     "height": 308
    },
    "gradient": {
     "editing": false,
     "id": "436d1862-a1a8-40e9-a431-51b225c3e9de",
     "kernelId": ""
    },
    "id": "M0tpT1fJLqO0",
    "outputId": "1576e6e6-bc69-4b15-8337-decb7bd6cd68"
   },
   "outputs": [
    {
     "data": {
      "text/plain": [
       "<matplotlib.legend.Legend at 0x7f9aa02fd588>"
      ]
     },
     "execution_count": 42,
     "metadata": {},
     "output_type": "execute_result"
    },
    {
     "data": {
      "image/png": "[encoded data removed]",
      "text/plain": [
       "<Figure size 432x288 with 1 Axes>"
      ]
     },
     "metadata": {},
     "output_type": "display_data"
    }
   ],
   "source": [
    "for val in learning_rates_logarithmic:\n",
    "    lr = str(val)\n",
    "    plt.plot(epochs_x, histories_tr[lr].history['root_mean_squared_error'], label=lr)\n",
    "    plt.plot(epochs_x, histories_tr[lr].history['val_root_mean_squared_error'], label=lr, linestyle='dotted')\n",
    "\n",
    "plt.title('Root mean squared error in user rating vs. training epoch')\n",
    "plt.xlabel('Training epoch')\n",
    "plt.ylabel('Root mean squared error in user rating')\n",
    "plt.yscale('log')\n",
    "plt.legend()"
   ]
  },
  {
   "cell_type": "markdown",
   "metadata": {
    "gradient": {
     "editing": false,
     "id": "2553c5ba-b5c4-41a2-b6df-12ce597f7b88",
     "kernelId": ""
    },
    "id": "WegveKxPIAaV"
   },
   "source": [
    "It looks like learning rates closer in magnitude to 0.1 than 0.01 or 1 are best, so we zoom in on those.\n",
    "\n",
    "Again a production system would test more values so the results are less noisy, but this shows the idea.\n",
    "\n",
    "The RMSE has improved from about 1.1 in the basic model to about 0.9 here, although a little higher on the validation set."
   ]
  },
  {
   "cell_type": "code",
   "execution_count": null,
   "metadata": {
    "colab": {
     "base_uri": "https://localhost:8080/"
    },
    "gradient": {
     "editing": false,
     "id": "833e5c9e-84f6-4f9f-99e6-43a15d9e1ac9",
     "kernelId": ""
    },
    "id": "ZaSvBMAWEXxf",
    "outputId": "245286e0-0f53-4216-f735-2e5a56b72292",
    "scrolled": true
   },
   "outputs": [
    {
     "name": "stdout",
     "output_type": "stream",
     "text": [
      "Learning rate = 0.05\n",
      "Epoch 1/30\n",
      "8/8 [==============================] - 5s 443ms/step - root_mean_squared_error: 2.3571 - loss: 5.0667 - regularization_loss: 2.0123 - total_loss: 7.0790 - val_root_mean_squared_error: 1.1353 - val_loss: 1.2770 - val_regularization_loss: 1.9704 - val_total_loss: 3.2474\n",
      "Epoch 2/30\n",
      "8/8 [==============================] - 2s 300ms/step - root_mean_squared_error: 1.1227 - loss: 1.2591 - regularization_loss: 1.9236 - total_loss: 3.1827 - val_root_mean_squared_error: 1.1389 - val_loss: 1.2832 - val_regularization_loss: 1.8747 - val_total_loss: 3.1580\n",
      "Epoch 3/30\n",
      "8/8 [==============================] - 2s 199ms/step - root_mean_squared_error: 1.1190 - loss: 1.2510 - regularization_loss: 1.8298 - total_loss: 3.0808 - val_root_mean_squared_error: 1.1387 - val_loss: 1.2826 - val_regularization_loss: 1.7835 - val_total_loss: 3.0661\n",
      "Epoch 4/30\n",
      "8/8 [==============================] - 2s 216ms/step - root_mean_squared_error: 1.1156 - loss: 1.2432 - regularization_loss: 1.7409 - total_loss: 2.9840 - val_root_mean_squared_error: 1.1382 - val_loss: 1.2816 - val_regularization_loss: 1.6970 - val_total_loss: 2.9786\n",
      "Epoch 5/30\n",
      "8/8 [==============================] - 2s 203ms/step - root_mean_squared_error: 1.1115 - loss: 1.2342 - regularization_loss: 1.6566 - total_loss: 2.8908 - val_root_mean_squared_error: 1.1378 - val_loss: 1.2807 - val_regularization_loss: 1.6150 - val_total_loss: 2.8957\n",
      "Epoch 6/30\n",
      "8/8 [==============================] - 2s 203ms/step - root_mean_squared_error: 1.1067 - loss: 1.2233 - regularization_loss: 1.5768 - total_loss: 2.8001 - val_root_mean_squared_error: 1.1374 - val_loss: 1.2798 - val_regularization_loss: 1.5375 - val_total_loss: 2.8173\n",
      "Epoch 7/30\n",
      "8/8 [==============================] - 2s 211ms/step - root_mean_squared_error: 1.1008 - loss: 1.2103 - regularization_loss: 1.5014 - total_loss: 2.7117 - val_root_mean_squared_error: 1.1370 - val_loss: 1.2788 - val_regularization_loss: 1.4642 - val_total_loss: 2.7430\n",
      "Epoch 8/30\n",
      "8/8 [==============================] - 2s 201ms/step - root_mean_squared_error: 1.0939 - loss: 1.1952 - regularization_loss: 1.4300 - total_loss: 2.6252 - val_root_mean_squared_error: 1.1365 - val_loss: 1.2778 - val_regularization_loss: 1.3949 - val_total_loss: 2.6727\n",
      "Epoch 9/30\n",
      "8/8 [==============================] - 2s 202ms/step - root_mean_squared_error: 1.0862 - loss: 1.1782 - regularization_loss: 1.3626 - total_loss: 2.5409 - val_root_mean_squared_error: 1.1360 - val_loss: 1.2767 - val_regularization_loss: 1.3295 - val_total_loss: 2.6061\n",
      "Epoch 10/30\n",
      "8/8 [==============================] - 1s 187ms/step - root_mean_squared_error: 1.0777 - loss: 1.1601 - regularization_loss: 1.2989 - total_loss: 2.4590 - val_root_mean_squared_error: 1.1353 - val_loss: 1.2753 - val_regularization_loss: 1.2676 - val_total_loss: 2.5429\n",
      "Epoch 11/30\n",
      "8/8 [==============================] - 2s 200ms/step - root_mean_squared_error: 1.0690 - loss: 1.1413 - regularization_loss: 1.2388 - total_loss: 2.3800 - val_root_mean_squared_error: 1.1345 - val_loss: 1.2733 - val_regularization_loss: 1.2092 - val_total_loss: 2.4825\n",
      "Epoch 12/30\n",
      "8/8 [==============================] - 2s 214ms/step - root_mean_squared_error: 1.0600 - loss: 1.1224 - regularization_loss: 1.1818 - total_loss: 2.3043 - val_root_mean_squared_error: 1.1333 - val_loss: 1.2708 - val_regularization_loss: 1.1539 - val_total_loss: 2.4247\n",
      "Epoch 13/30\n",
      "8/8 [==============================] - 1s 200ms/step - root_mean_squared_error: 1.0512 - loss: 1.1040 - regularization_loss: 1.1279 - total_loss: 2.2319 - val_root_mean_squared_error: 1.1318 - val_loss: 1.2676 - val_regularization_loss: 1.1014 - val_total_loss: 2.3691\n",
      "Epoch 14/30\n",
      "8/8 [==============================] - 2s 202ms/step - root_mean_squared_error: 1.0427 - loss: 1.0862 - regularization_loss: 1.0768 - total_loss: 2.1630 - val_root_mean_squared_error: 1.1300 - val_loss: 1.2638 - val_regularization_loss: 1.0517 - val_total_loss: 2.3156\n",
      "Epoch 15/30\n",
      "8/8 [==============================] - 2s 216ms/step - root_mean_squared_error: 1.0344 - loss: 1.0691 - regularization_loss: 1.0283 - total_loss: 2.0974 - val_root_mean_squared_error: 1.1280 - val_loss: 1.2595 - val_regularization_loss: 1.0046 - val_total_loss: 2.2641\n",
      "Epoch 16/30\n",
      "8/8 [==============================] - 1s 189ms/step - root_mean_squared_error: 1.0264 - loss: 1.0528 - regularization_loss: 0.9823 - total_loss: 2.0351 - val_root_mean_squared_error: 1.1260 - val_loss: 1.2551 - val_regularization_loss: 0.9598 - val_total_loss: 2.2149\n",
      "Epoch 17/30\n",
      "8/8 [==============================] - 2s 201ms/step - root_mean_squared_error: 1.0189 - loss: 1.0375 - regularization_loss: 0.9385 - total_loss: 1.9761 - val_root_mean_squared_error: 1.1243 - val_loss: 1.2514 - val_regularization_loss: 0.9173 - val_total_loss: 2.1687\n",
      "Epoch 18/30\n",
      "8/8 [==============================] - 2s 216ms/step - root_mean_squared_error: 1.0119 - loss: 1.0235 - regularization_loss: 0.8970 - total_loss: 1.9205 - val_root_mean_squared_error: 1.1233 - val_loss: 1.2493 - val_regularization_loss: 0.8769 - val_total_loss: 2.1262\n",
      "Epoch 19/30\n",
      "8/8 [==============================] - 2s 212ms/step - root_mean_squared_error: 1.0058 - loss: 1.0113 - regularization_loss: 0.8574 - total_loss: 1.8688 - val_root_mean_squared_error: 1.1237 - val_loss: 1.2499 - val_regularization_loss: 0.8385 - val_total_loss: 2.0884\n",
      "Epoch 20/30\n",
      "8/8 [==============================] - 2s 211ms/step - root_mean_squared_error: 1.0008 - loss: 1.0017 - regularization_loss: 0.8198 - total_loss: 1.8215 - val_root_mean_squared_error: 1.1253 - val_loss: 1.2534 - val_regularization_loss: 0.8020 - val_total_loss: 2.0553\n",
      "Epoch 21/30\n",
      "8/8 [==============================] - 2s 212ms/step - root_mean_squared_error: 0.9970 - loss: 0.9942 - regularization_loss: 0.7839 - total_loss: 1.7782 - val_root_mean_squared_error: 1.1265 - val_loss: 1.2560 - val_regularization_loss: 0.7672 - val_total_loss: 2.0232\n",
      "Epoch 22/30\n",
      "8/8 [==============================] - 2s 217ms/step - root_mean_squared_error: 0.9930 - loss: 0.9863 - regularization_loss: 0.7498 - total_loss: 1.7361 - val_root_mean_squared_error: 1.1243 - val_loss: 1.2515 - val_regularization_loss: 0.7339 - val_total_loss: 1.9854\n",
      "Epoch 23/30\n",
      "8/8 [==============================] - 2s 214ms/step - root_mean_squared_error: 0.9876 - loss: 0.9754 - regularization_loss: 0.7172 - total_loss: 1.6927 - val_root_mean_squared_error: 1.1188 - val_loss: 1.2397 - val_regularization_loss: 0.7020 - val_total_loss: 1.9417\n",
      "Epoch 24/30\n",
      "8/8 [==============================] - 2s 213ms/step - root_mean_squared_error: 0.9816 - loss: 0.9633 - regularization_loss: 0.6862 - total_loss: 1.6495 - val_root_mean_squared_error: 1.1125 - val_loss: 1.2266 - val_regularization_loss: 0.6716 - val_total_loss: 1.8982\n",
      "Epoch 25/30\n",
      "8/8 [==============================] - 2s 217ms/step - root_mean_squared_error: 0.9760 - loss: 0.9525 - regularization_loss: 0.6566 - total_loss: 1.6091 - val_root_mean_squared_error: 1.1074 - val_loss: 1.2159 - val_regularization_loss: 0.6427 - val_total_loss: 1.8586\n",
      "Epoch 26/30\n",
      "8/8 [==============================] - 2s 200ms/step - root_mean_squared_error: 0.9715 - loss: 0.9436 - regularization_loss: 0.6283 - total_loss: 1.5720 - val_root_mean_squared_error: 1.1037 - val_loss: 1.2082 - val_regularization_loss: 0.6151 - val_total_loss: 1.8233\n",
      "Epoch 27/30\n",
      "8/8 [==============================] - 2s 262ms/step - root_mean_squared_error: 0.9677 - loss: 0.9363 - regularization_loss: 0.6014 - total_loss: 1.5377 - val_root_mean_squared_error: 1.1010 - val_loss: 1.2027 - val_regularization_loss: 0.5887 - val_total_loss: 1.7914\n",
      "Epoch 28/30\n",
      "8/8 [==============================] - 3s 368ms/step - root_mean_squared_error: 0.9645 - loss: 0.9301 - regularization_loss: 0.5757 - total_loss: 1.5058 - val_root_mean_squared_error: 1.0990 - val_loss: 1.1986 - val_regularization_loss: 0.5637 - val_total_loss: 1.7622\n",
      "Epoch 29/30\n",
      "8/8 [==============================] - 3s 357ms/step - root_mean_squared_error: 0.9617 - loss: 0.9248 - regularization_loss: 0.5512 - total_loss: 1.4759 - val_root_mean_squared_error: 1.0974 - val_loss: 1.1953 - val_regularization_loss: 0.5397 - val_total_loss: 1.7350\n",
      "Epoch 30/30\n"
     ]
    },
    {
     "name": "stdout",
     "output_type": "stream",
     "text": [
      "8/8 [==============================] - 3s 378ms/step - root_mean_squared_error: 0.9592 - loss: 0.9199 - regularization_loss: 0.5278 - total_loss: 1.4477 - val_root_mean_squared_error: 1.0959 - val_loss: 1.1923 - val_regularization_loss: 0.5169 - val_total_loss: 1.7092\n",
      "Learning rate = 0.1\n",
      "Epoch 1/30\n",
      "8/8 [==============================] - 6s 448ms/step - root_mean_squared_error: 2.4597 - loss: 5.5787 - regularization_loss: 1.9637 - total_loss: 7.5425 - val_root_mean_squared_error: 1.1518 - val_loss: 1.3085 - val_regularization_loss: 1.8805 - val_total_loss: 3.1890\n",
      "Epoch 2/30\n",
      "8/8 [==============================] - 3s 342ms/step - root_mean_squared_error: 1.1209 - loss: 1.2547 - regularization_loss: 1.7916 - total_loss: 3.0464 - val_root_mean_squared_error: 1.1352 - val_loss: 1.2740 - val_regularization_loss: 1.7022 - val_total_loss: 2.9762\n",
      "Epoch 3/30\n",
      "8/8 [==============================] - 3s 371ms/step - root_mean_squared_error: 1.1137 - loss: 1.2389 - regularization_loss: 1.6233 - total_loss: 2.8622 - val_root_mean_squared_error: 1.1335 - val_loss: 1.2700 - val_regularization_loss: 1.5430 - val_total_loss: 2.8130\n",
      "Epoch 4/30\n",
      "8/8 [==============================] - 3s 342ms/step - root_mean_squared_error: 1.1056 - loss: 1.2207 - regularization_loss: 1.4721 - total_loss: 2.6929 - val_root_mean_squared_error: 1.1316 - val_loss: 1.2656 - val_regularization_loss: 1.4000 - val_total_loss: 2.6656\n",
      "Epoch 5/30\n",
      "8/8 [==============================] - 3s 342ms/step - root_mean_squared_error: 1.0949 - loss: 1.1969 - regularization_loss: 1.3365 - total_loss: 2.5334 - val_root_mean_squared_error: 1.1292 - val_loss: 1.2601 - val_regularization_loss: 1.2719 - val_total_loss: 2.5321\n",
      "Epoch 6/30\n",
      "8/8 [==============================] - 3s 356ms/step - root_mean_squared_error: 1.0814 - loss: 1.1674 - regularization_loss: 1.2151 - total_loss: 2.3825 - val_root_mean_squared_error: 1.1262 - val_loss: 1.2531 - val_regularization_loss: 1.1574 - val_total_loss: 2.4105\n",
      "Epoch 7/30\n",
      "8/8 [==============================] - 3s 340ms/step - root_mean_squared_error: 1.0660 - loss: 1.1345 - regularization_loss: 1.1065 - total_loss: 2.2411 - val_root_mean_squared_error: 1.1222 - val_loss: 1.2442 - val_regularization_loss: 1.0549 - val_total_loss: 2.2991\n",
      "Epoch 8/30\n",
      "8/8 [==============================] - 2s 315ms/step - root_mean_squared_error: 1.0503 - loss: 1.1016 - regularization_loss: 1.0092 - total_loss: 2.1108 - val_root_mean_squared_error: 1.1171 - val_loss: 1.2331 - val_regularization_loss: 0.9628 - val_total_loss: 2.1960\n",
      "Epoch 9/30\n",
      "8/8 [==============================] - 3s 374ms/step - root_mean_squared_error: 1.0353 - loss: 1.0706 - regularization_loss: 0.9218 - total_loss: 1.9923 - val_root_mean_squared_error: 1.1112 - val_loss: 1.2204 - val_regularization_loss: 0.8800 - val_total_loss: 2.1003\n",
      "Epoch 10/30\n",
      "8/8 [==============================] - 3s 344ms/step - root_mean_squared_error: 1.0214 - loss: 1.0421 - regularization_loss: 0.8429 - total_loss: 1.8850 - val_root_mean_squared_error: 1.1047 - val_loss: 1.2067 - val_regularization_loss: 0.8053 - val_total_loss: 2.0120\n",
      "Epoch 11/30\n",
      "8/8 [==============================] - 3s 343ms/step - root_mean_squared_error: 1.0086 - loss: 1.0164 - regularization_loss: 0.7718 - total_loss: 1.7882 - val_root_mean_squared_error: 1.0983 - val_loss: 1.1932 - val_regularization_loss: 0.7378 - val_total_loss: 1.9310\n",
      "Epoch 12/30\n",
      "8/8 [==============================] - 3s 359ms/step - root_mean_squared_error: 0.9973 - loss: 0.9937 - regularization_loss: 0.7074 - total_loss: 1.7011 - val_root_mean_squared_error: 1.0922 - val_loss: 1.1807 - val_regularization_loss: 0.6767 - val_total_loss: 1.8574\n",
      "Epoch 13/30\n",
      "8/8 [==============================] - 3s 372ms/step - root_mean_squared_error: 0.9874 - loss: 0.9743 - regularization_loss: 0.6491 - total_loss: 1.6233 - val_root_mean_squared_error: 1.0868 - val_loss: 1.1697 - val_regularization_loss: 0.6212 - val_total_loss: 1.7909\n",
      "Epoch 14/30\n",
      "8/8 [==============================] - 3s 358ms/step - root_mean_squared_error: 0.9790 - loss: 0.9579 - regularization_loss: 0.5960 - total_loss: 1.5539 - val_root_mean_squared_error: 1.0821 - val_loss: 1.1605 - val_regularization_loss: 0.5707 - val_total_loss: 1.7312\n",
      "Epoch 15/30\n",
      "8/8 [==============================] - 3s 358ms/step - root_mean_squared_error: 0.9720 - loss: 0.9442 - regularization_loss: 0.5477 - total_loss: 1.4919 - val_root_mean_squared_error: 1.0782 - val_loss: 1.1527 - val_regularization_loss: 0.5247 - val_total_loss: 1.6775\n",
      "Epoch 16/30\n",
      "8/8 [==============================] - 2s 317ms/step - root_mean_squared_error: 0.9660 - loss: 0.9328 - regularization_loss: 0.5037 - total_loss: 1.4365 - val_root_mean_squared_error: 1.0749 - val_loss: 1.1463 - val_regularization_loss: 0.4829 - val_total_loss: 1.6292\n",
      "Epoch 17/30\n",
      "8/8 [==============================] - 3s 341ms/step - root_mean_squared_error: 0.9610 - loss: 0.9231 - regularization_loss: 0.4637 - total_loss: 1.3868 - val_root_mean_squared_error: 1.0720 - val_loss: 1.1409 - val_regularization_loss: 0.4448 - val_total_loss: 1.5857\n",
      "Epoch 18/30\n",
      "8/8 [==============================] - 3s 338ms/step - root_mean_squared_error: 0.9567 - loss: 0.9149 - regularization_loss: 0.4272 - total_loss: 1.3421 - val_root_mean_squared_error: 1.0697 - val_loss: 1.1364 - val_regularization_loss: 0.4101 - val_total_loss: 1.5465\n",
      "Epoch 19/30\n",
      "8/8 [==============================] - 2s 302ms/step - root_mean_squared_error: 0.9530 - loss: 0.9078 - regularization_loss: 0.3941 - total_loss: 1.3019 - val_root_mean_squared_error: 1.0677 - val_loss: 1.1326 - val_regularization_loss: 0.3786 - val_total_loss: 1.5112\n",
      "Epoch 20/30\n",
      "8/8 [==============================] - 3s 342ms/step - root_mean_squared_error: 0.9497 - loss: 0.9017 - regularization_loss: 0.3640 - total_loss: 1.2656 - val_root_mean_squared_error: 1.0660 - val_loss: 1.1294 - val_regularization_loss: 0.3499 - val_total_loss: 1.4793\n",
      "Epoch 21/30\n",
      "8/8 [==============================] - 3s 415ms/step - root_mean_squared_error: 0.9469 - loss: 0.8963 - regularization_loss: 0.3366 - total_loss: 1.2329 - val_root_mean_squared_error: 1.0645 - val_loss: 1.1266 - val_regularization_loss: 0.3239 - val_total_loss: 1.4505\n",
      "Epoch 22/30\n",
      "8/8 [==============================] - 3s 370ms/step - root_mean_squared_error: 0.9444 - loss: 0.8915 - regularization_loss: 0.3117 - total_loss: 1.2032 - val_root_mean_squared_error: 1.0632 - val_loss: 1.1242 - val_regularization_loss: 0.3002 - val_total_loss: 1.4245\n",
      "Epoch 23/30\n",
      "8/8 [==============================] - 3s 356ms/step - root_mean_squared_error: 0.9421 - loss: 0.8873 - regularization_loss: 0.2891 - total_loss: 1.1764 - val_root_mean_squared_error: 1.0621 - val_loss: 1.1222 - val_regularization_loss: 0.2788 - val_total_loss: 1.4009\n",
      "Epoch 24/30\n",
      "8/8 [==============================] - 3s 331ms/step - root_mean_squared_error: 0.9401 - loss: 0.8835 - regularization_loss: 0.2686 - total_loss: 1.1521 - val_root_mean_squared_error: 1.0611 - val_loss: 1.1204 - val_regularization_loss: 0.2592 - val_total_loss: 1.3797\n",
      "Epoch 25/30\n",
      "8/8 [==============================] - 3s 355ms/step - root_mean_squared_error: 0.9383 - loss: 0.8801 - regularization_loss: 0.2499 - total_loss: 1.1300 - val_root_mean_squared_error: 1.0603 - val_loss: 1.1189 - val_regularization_loss: 0.2415 - val_total_loss: 1.3604\n",
      "Epoch 26/30\n",
      "8/8 [==============================] - 3s 369ms/step - root_mean_squared_error: 0.9367 - loss: 0.8770 - regularization_loss: 0.2330 - total_loss: 1.1100 - val_root_mean_squared_error: 1.0596 - val_loss: 1.1176 - val_regularization_loss: 0.2254 - val_total_loss: 1.3430\n",
      "Epoch 27/30\n",
      "8/8 [==============================] - 3s 342ms/step - root_mean_squared_error: 0.9352 - loss: 0.8743 - regularization_loss: 0.2176 - total_loss: 1.0918 - val_root_mean_squared_error: 1.0590 - val_loss: 1.1165 - val_regularization_loss: 0.2108 - val_total_loss: 1.3273\n",
      "Epoch 28/30\n",
      "8/8 [==============================] - 3s 355ms/step - root_mean_squared_error: 0.9338 - loss: 0.8717 - regularization_loss: 0.2036 - total_loss: 1.0753 - val_root_mean_squared_error: 1.0585 - val_loss: 1.1156 - val_regularization_loss: 0.1974 - val_total_loss: 1.3130\n",
      "Epoch 29/30\n"
     ]
    },
    {
     "name": "stdout",
     "output_type": "stream",
     "text": [
      "8/8 [==============================] - 3s 345ms/step - root_mean_squared_error: 0.9326 - loss: 0.8694 - regularization_loss: 0.1908 - total_loss: 1.0603 - val_root_mean_squared_error: 1.0580 - val_loss: 1.1148 - val_regularization_loss: 0.1853 - val_total_loss: 1.3001\n",
      "Epoch 30/30\n",
      "8/8 [==============================] - 3s 345ms/step - root_mean_squared_error: 0.9315 - loss: 0.8674 - regularization_loss: 0.1793 - total_loss: 1.0466 - val_root_mean_squared_error: 1.0576 - val_loss: 1.1142 - val_regularization_loss: 0.1743 - val_total_loss: 1.2885\n",
      "Learning rate = 0.15\n",
      "Epoch 1/30\n",
      "8/8 [==============================] - 7s 455ms/step - root_mean_squared_error: 3.7227 - loss: 13.4011 - regularization_loss: 2.0415 - total_loss: 15.4426 - val_root_mean_squared_error: 2.8891 - val_loss: 8.4150 - val_regularization_loss: 1.9622 - val_total_loss: 10.3772\n",
      "Epoch 2/30\n",
      "8/8 [==============================] - 3s 346ms/step - root_mean_squared_error: 1.9410 - loss: 3.4817 - regularization_loss: 1.8603 - total_loss: 5.3420 - val_root_mean_squared_error: 1.1358 - val_loss: 1.2769 - val_regularization_loss: 1.7462 - val_total_loss: 3.0230\n",
      "Epoch 3/30\n",
      "8/8 [==============================] - 3s 343ms/step - root_mean_squared_error: 1.1219 - loss: 1.2574 - regularization_loss: 1.6369 - total_loss: 2.8943 - val_root_mean_squared_error: 1.1351 - val_loss: 1.2752 - val_regularization_loss: 1.5267 - val_total_loss: 2.8019\n",
      "Epoch 4/30\n",
      "8/8 [==============================] - 3s 344ms/step - root_mean_squared_error: 1.1170 - loss: 1.2463 - regularization_loss: 1.4325 - total_loss: 2.6788 - val_root_mean_squared_error: 1.1344 - val_loss: 1.2734 - val_regularization_loss: 1.3375 - val_total_loss: 2.6109\n",
      "Epoch 5/30\n",
      "8/8 [==============================] - 3s 357ms/step - root_mean_squared_error: 1.1108 - loss: 1.2325 - regularization_loss: 1.2564 - total_loss: 2.4889 - val_root_mean_squared_error: 1.1335 - val_loss: 1.2713 - val_regularization_loss: 1.1746 - val_total_loss: 2.4459\n",
      "Epoch 6/30\n",
      "8/8 [==============================] - 2s 314ms/step - root_mean_squared_error: 1.1025 - loss: 1.2138 - regularization_loss: 1.1048 - total_loss: 2.3186 - val_root_mean_squared_error: 1.1323 - val_loss: 1.2686 - val_regularization_loss: 1.0346 - val_total_loss: 2.3031\n",
      "Epoch 7/30\n",
      "8/8 [==============================] - 3s 358ms/step - root_mean_squared_error: 1.0915 - loss: 1.1897 - regularization_loss: 0.9748 - total_loss: 2.1645 - val_root_mean_squared_error: 1.1307 - val_loss: 1.2649 - val_regularization_loss: 0.9146 - val_total_loss: 2.1795\n",
      "Epoch 8/30\n",
      "8/8 [==============================] - 3s 441ms/step - root_mean_squared_error: 1.0786 - loss: 1.1617 - regularization_loss: 0.8633 - total_loss: 2.0250 - val_root_mean_squared_error: 1.1285 - val_loss: 1.2600 - val_regularization_loss: 0.8117 - val_total_loss: 2.0717\n",
      "Epoch 9/30\n",
      "8/8 [==============================] - 3s 357ms/step - root_mean_squared_error: 1.0649 - loss: 1.1326 - regularization_loss: 0.7676 - total_loss: 1.9002 - val_root_mean_squared_error: 1.1256 - val_loss: 1.2536 - val_regularization_loss: 0.7232 - val_total_loss: 1.9769\n",
      "Epoch 10/30\n",
      "8/8 [==============================] - 3s 344ms/step - root_mean_squared_error: 1.0516 - loss: 1.1048 - regularization_loss: 0.6852 - total_loss: 1.7900 - val_root_mean_squared_error: 1.1219 - val_loss: 1.2456 - val_regularization_loss: 0.6469 - val_total_loss: 1.8924\n",
      "Epoch 11/30\n",
      "8/8 [==============================] - 3s 341ms/step - root_mean_squared_error: 1.0391 - loss: 1.0789 - regularization_loss: 0.6139 - total_loss: 1.6928 - val_root_mean_squared_error: 1.1175 - val_loss: 1.2361 - val_regularization_loss: 0.5807 - val_total_loss: 1.8168\n",
      "Epoch 12/30\n",
      "8/8 [==============================] - 3s 371ms/step - root_mean_squared_error: 1.0273 - loss: 1.0546 - regularization_loss: 0.5521 - total_loss: 1.6067 - val_root_mean_squared_error: 1.1129 - val_loss: 1.2260 - val_regularization_loss: 0.5234 - val_total_loss: 1.7494\n",
      "Epoch 13/30\n",
      "8/8 [==============================] - 3s 328ms/step - root_mean_squared_error: 1.0161 - loss: 1.0320 - regularization_loss: 0.4984 - total_loss: 1.5303 - val_root_mean_squared_error: 1.1087 - val_loss: 1.2169 - val_regularization_loss: 0.4736 - val_total_loss: 1.6905\n",
      "Epoch 14/30\n",
      "8/8 [==============================] - 3s 353ms/step - root_mean_squared_error: 1.0060 - loss: 1.0117 - regularization_loss: 0.4517 - total_loss: 1.4633 - val_root_mean_squared_error: 1.1063 - val_loss: 1.2117 - val_regularization_loss: 0.4304 - val_total_loss: 1.6421\n",
      "Epoch 15/30\n",
      "8/8 [==============================] - 3s 331ms/step - root_mean_squared_error: 0.9979 - loss: 0.9962 - regularization_loss: 0.4109 - total_loss: 1.4071 - val_root_mean_squared_error: 1.1073 - val_loss: 1.2135 - val_regularization_loss: 0.3928 - val_total_loss: 1.6064\n",
      "Epoch 16/30\n",
      "8/8 [==============================] - 3s 341ms/step - root_mean_squared_error: 0.9919 - loss: 0.9841 - regularization_loss: 0.3753 - total_loss: 1.3594 - val_root_mean_squared_error: 1.1034 - val_loss: 1.2055 - val_regularization_loss: 0.3597 - val_total_loss: 1.5652\n",
      "Epoch 17/30\n",
      "8/8 [==============================] - 3s 370ms/step - root_mean_squared_error: 0.9834 - loss: 0.9670 - regularization_loss: 0.3440 - total_loss: 1.3111 - val_root_mean_squared_error: 1.0949 - val_loss: 1.1883 - val_regularization_loss: 0.3302 - val_total_loss: 1.5185\n",
      "Epoch 18/30\n",
      "8/8 [==============================] - 3s 339ms/step - root_mean_squared_error: 0.9757 - loss: 0.9521 - regularization_loss: 0.3163 - total_loss: 1.2684 - val_root_mean_squared_error: 1.0899 - val_loss: 1.1781 - val_regularization_loss: 0.3041 - val_total_loss: 1.4822\n",
      "Epoch 19/30\n",
      "8/8 [==============================] - 3s 371ms/step - root_mean_squared_error: 0.9702 - loss: 0.9415 - regularization_loss: 0.2917 - total_loss: 1.2332 - val_root_mean_squared_error: 1.0874 - val_loss: 1.1733 - val_regularization_loss: 0.2810 - val_total_loss: 1.4543\n",
      "Epoch 20/30\n",
      "8/8 [==============================] - 3s 372ms/step - root_mean_squared_error: 0.9660 - loss: 0.9335 - regularization_loss: 0.2697 - total_loss: 1.2032 - val_root_mean_squared_error: 1.0858 - val_loss: 1.1704 - val_regularization_loss: 0.2604 - val_total_loss: 1.4308\n",
      "Epoch 21/30\n",
      "8/8 [==============================] - 3s 373ms/step - root_mean_squared_error: 0.9624 - loss: 0.9265 - regularization_loss: 0.2502 - total_loss: 1.1767 - val_root_mean_squared_error: 1.0837 - val_loss: 1.1662 - val_regularization_loss: 0.2421 - val_total_loss: 1.4083\n",
      "Epoch 22/30\n",
      "8/8 [==============================] - 3s 355ms/step - root_mean_squared_error: 0.9588 - loss: 0.9195 - regularization_loss: 0.2328 - total_loss: 1.1524 - val_root_mean_squared_error: 1.0809 - val_loss: 1.1610 - val_regularization_loss: 0.2256 - val_total_loss: 1.3866\n",
      "Epoch 23/30\n",
      "8/8 [==============================] - 3s 397ms/step - root_mean_squared_error: 0.9554 - loss: 0.9130 - regularization_loss: 0.2173 - total_loss: 1.1303 - val_root_mean_squared_error: 1.0785 - val_loss: 1.1562 - val_regularization_loss: 0.2110 - val_total_loss: 1.3672\n",
      "Epoch 24/30\n",
      "8/8 [==============================] - 3s 414ms/step - root_mean_squared_error: 0.9524 - loss: 0.9074 - regularization_loss: 0.2034 - total_loss: 1.1108 - val_root_mean_squared_error: 1.0766 - val_loss: 1.1525 - val_regularization_loss: 0.1979 - val_total_loss: 1.3504\n",
      "Epoch 25/30\n",
      "8/8 [==============================] - 3s 327ms/step - root_mean_squared_error: 0.9499 - loss: 0.9026 - regularization_loss: 0.1910 - total_loss: 1.0935 - val_root_mean_squared_error: 1.0752 - val_loss: 1.1499 - val_regularization_loss: 0.1861 - val_total_loss: 1.3360\n",
      "Epoch 26/30\n",
      "8/8 [==============================] - 3s 344ms/step - root_mean_squared_error: 0.9477 - loss: 0.8984 - regularization_loss: 0.1798 - total_loss: 1.0783 - val_root_mean_squared_error: 1.0741 - val_loss: 1.1478 - val_regularization_loss: 0.1756 - val_total_loss: 1.3235\n",
      "Epoch 27/30\n",
      "8/8 [==============================] - 3s 394ms/step - root_mean_squared_error: 0.9458 - loss: 0.8947 - regularization_loss: 0.1699 - total_loss: 1.0646 - val_root_mean_squared_error: 1.0730 - val_loss: 1.1459 - val_regularization_loss: 0.1662 - val_total_loss: 1.3121\n",
      "Epoch 28/30\n"
     ]
    },
    {
     "name": "stdout",
     "output_type": "stream",
     "text": [
      "8/8 [==============================] - 3s 414ms/step - root_mean_squared_error: 0.9440 - loss: 0.8912 - regularization_loss: 0.1609 - total_loss: 1.0521 - val_root_mean_squared_error: 1.0719 - val_loss: 1.1438 - val_regularization_loss: 0.1577 - val_total_loss: 1.3015\n",
      "Epoch 29/30\n",
      "8/8 [==============================] - 2s 326ms/step - root_mean_squared_error: 0.9422 - loss: 0.8879 - regularization_loss: 0.1528 - total_loss: 1.0407 - val_root_mean_squared_error: 1.0708 - val_loss: 1.1417 - val_regularization_loss: 0.1500 - val_total_loss: 1.2917\n",
      "Epoch 30/30\n",
      "8/8 [==============================] - 3s 373ms/step - root_mean_squared_error: 0.9406 - loss: 0.8848 - regularization_loss: 0.1455 - total_loss: 1.0303 - val_root_mean_squared_error: 1.0698 - val_loss: 1.1398 - val_regularization_loss: 0.1431 - val_total_loss: 1.2829\n"
     ]
    }
   ],
   "source": [
    "# Here we start a new dictionary of training histories, but these could also be appended to the above one\n",
    "histories_tr_li = {}\n",
    "\n",
    "# Learning rate linear grid\n",
    "learning_rates_linear = [0.05, 0.1, 0.15]\n",
    "\n",
    "for val in learning_rates_linear:\n",
    "    print('Learning rate = {}'.format(val))\n",
    "    model_tr = MovielensModelTunedRanking()\n",
    "    model_tr.compile(optimizer=tf.keras.optimizers.Adagrad(learning_rate=val))\n",
    "\n",
    "    lr = str(val)\n",
    "    histories_tr_li[lr] = model_tr.fit(cached_train, epochs=epochs, validation_data=cached_validation)"
   ]
  },
  {
   "cell_type": "code",
   "execution_count": null,
   "metadata": {
    "colab": {
     "base_uri": "https://localhost:8080/"
    },
    "gradient": {
     "editing": false,
     "id": "920eb7a9-d9f3-4338-aa25-17f87d089172",
     "kernelId": ""
    },
    "id": "d2ojspFOEpb-",
    "outputId": "89d73d93-96b7-4336-f5f7-ecd8266477e6"
   },
   "outputs": [
    {
     "data": {
      "text/plain": [
       "{'0.05': <tensorflow.python.keras.callbacks.History at 0x7f9aa016df98>,\n",
       " '0.1': <tensorflow.python.keras.callbacks.History at 0x7f9aa0e19748>,\n",
       " '0.15': <tensorflow.python.keras.callbacks.History at 0x7f9aa0cf09e8>}"
      ]
     },
     "execution_count": 44,
     "metadata": {},
     "output_type": "execute_result"
    }
   ],
   "source": [
    "histories_tr_li"
   ]
  },
  {
   "cell_type": "code",
   "execution_count": null,
   "metadata": {
    "colab": {
     "base_uri": "https://localhost:8080/"
    },
    "gradient": {
     "editing": false,
     "id": "cfa34d18-4f33-4ce9-8b3c-001f1a9a9ffc",
     "kernelId": ""
    },
    "id": "ujCXSvC6MLa4",
    "outputId": "f3a5dcd8-0a59-4a46-9498-ea81f6b7413e"
   },
   "outputs": [
    {
     "name": "stdout",
     "output_type": "stream",
     "text": [
      "Root mean squared error in user rating from training   for learning rate 0.05 = 0.959184467792511\n",
      "Root mean squared error in user rating from validation for learning rate 0.05 = 1.0959491729736328\n",
      "Root mean squared error in user rating from training   for learning rate 0.1 = 0.9314886331558228\n",
      "Root mean squared error in user rating from validation for learning rate 0.1 = 1.0576249361038208\n",
      "Root mean squared error in user rating from training   for learning rate 0.15 = 0.940582275390625\n",
      "Root mean squared error in user rating from validation for learning rate 0.15 = 1.0697743892669678\n"
     ]
    }
   ],
   "source": [
    "for val in learning_rates_linear:\n",
    "    lr = str(val)\n",
    "\n",
    "    rmse_tr = histories_tr_li[lr].history['root_mean_squared_error'][-1]\n",
    "    print('Root mean squared error in user rating from training   for learning rate {} = {}'.format(lr, rmse_tr))\n",
    "\n",
    "    val_rmse_tr = histories_tr_li[lr].history['val_root_mean_squared_error'][-1]\n",
    "    print('Root mean squared error in user rating from validation for learning rate {} = {}'.format(lr, val_rmse_tr))"
   ]
  },
  {
   "cell_type": "code",
   "execution_count": null,
   "metadata": {
    "gradient": {
     "editing": false,
     "id": "90483cd1-2336-4714-a1ae-4dcd8f60c7a0",
     "kernelId": ""
    },
    "id": "SJmfaxQ1MeTl"
   },
   "outputs": [],
   "source": [
    "num_validation_runs = len(histories_tr_li['0.1'].history['root_mean_squared_error'])\n",
    "validation_freq = 1\n",
    "epochs_x = [(x + 1) * validation_freq for x in range(num_validation_runs)]"
   ]
  },
  {
   "cell_type": "code",
   "execution_count": null,
   "metadata": {
    "colab": {
     "base_uri": "https://localhost:8080/",
     "height": 308
    },
    "gradient": {
     "editing": false,
     "id": "32c3620c-1597-410b-8cf6-c2b1c5f17304",
     "kernelId": ""
    },
    "id": "31udS6_AMniY",
    "outputId": "fdc30bc0-ae31-4d06-cc1b-2ddd83ebf1e9"
   },
   "outputs": [
    {
     "data": {
      "text/plain": [
       "<matplotlib.legend.Legend at 0x7f9aa0b57978>"
      ]
     },
     "execution_count": 47,
     "metadata": {},
     "output_type": "execute_result"
    },
    {
     "data": {
      "image/png": "[encoded data removed]",
      "text/plain": [
       "<Figure size 432x288 with 1 Axes>"
      ]
     },
     "metadata": {},
     "output_type": "display_data"
    }
   ],
   "source": [
    "for val in learning_rates_linear:\n",
    "    lr = str(val)\n",
    "    plt.plot(epochs_x, histories_tr_li[lr].history['root_mean_squared_error'], label=lr)\n",
    "    plt.plot(epochs_x, histories_tr_li[lr].history['val_root_mean_squared_error'], label=lr, linestyle='dotted')\n",
    "\n",
    "plt.title('Root mean squared error in user rating vs. training epoch')\n",
    "plt.xlabel('Training epoch')\n",
    "plt.ylabel('Root mean squared error in user rating')\n",
    "plt.yscale('log')\n",
    "plt.legend()"
   ]
  },
  {
   "cell_type": "markdown",
   "metadata": {
    "gradient": {
     "editing": false,
     "id": "700c2e5a-f89b-4099-82c6-6a8a78a98fce",
     "kernelId": ""
    },
    "id": "jB1WWJdbK6AW"
   },
   "source": [
    "The best performances for the linear grid search look quite similar to each other, so let's stick with learning rate 0.1 and train the final model."
   ]
  },
  {
   "cell_type": "code",
   "execution_count": null,
   "metadata": {
    "colab": {
     "base_uri": "https://localhost:8080/"
    },
    "gradient": {
     "editing": false,
     "id": "b4d6e762-25be-496c-8877-f82e571c9d35",
     "kernelId": ""
    },
    "id": "AF5eXjeMGZ2b",
    "outputId": "2e2562d1-fbd2-4d16-81f2-29b8a68dc5fa",
    "scrolled": true
   },
   "outputs": [
    {
     "name": "stdout",
     "output_type": "stream",
     "text": [
      "Epoch 1/50\n",
      "8/8 [==============================] - 6s 485ms/step - root_mean_squared_error: 2.1949 - loss: 4.4692 - regularization_loss: 1.9675 - total_loss: 6.4367 - val_root_mean_squared_error: 1.5287 - val_loss: 2.3558 - val_regularization_loss: 1.8621 - val_total_loss: 4.2179\n",
      "Epoch 2/50\n",
      "8/8 [==============================] - 3s 357ms/step - root_mean_squared_error: 1.2900 - loss: 1.6246 - regularization_loss: 1.7852 - total_loss: 3.4098 - val_root_mean_squared_error: 1.1523 - val_loss: 1.3225 - val_regularization_loss: 1.6935 - val_total_loss: 3.0159\n",
      "Epoch 3/50\n",
      "8/8 [==============================] - 2s 315ms/step - root_mean_squared_error: 1.1325 - loss: 1.2762 - regularization_loss: 1.6178 - total_loss: 2.8940 - val_root_mean_squared_error: 1.1282 - val_loss: 1.2607 - val_regularization_loss: 1.5364 - val_total_loss: 2.7971\n",
      "Epoch 4/50\n",
      "8/8 [==============================] - 2s 214ms/step - root_mean_squared_error: 1.1048 - loss: 1.2183 - regularization_loss: 1.4665 - total_loss: 2.6848 - val_root_mean_squared_error: 1.1302 - val_loss: 1.2623 - val_regularization_loss: 1.3943 - val_total_loss: 2.6566\n",
      "Epoch 5/50\n",
      "8/8 [==============================] - 1s 187ms/step - root_mean_squared_error: 1.0918 - loss: 1.1903 - regularization_loss: 1.3308 - total_loss: 2.5210 - val_root_mean_squared_error: 1.1331 - val_loss: 1.2674 - val_regularization_loss: 1.2667 - val_total_loss: 2.5341\n",
      "Epoch 6/50\n",
      "8/8 [==============================] - 2s 315ms/step - root_mean_squared_error: 1.0793 - loss: 1.1637 - regularization_loss: 1.2094 - total_loss: 2.3731 - val_root_mean_squared_error: 1.1365 - val_loss: 1.2741 - val_regularization_loss: 1.1525 - val_total_loss: 2.4266\n",
      "Epoch 7/50\n",
      "8/8 [==============================] - 3s 345ms/step - root_mean_squared_error: 1.0678 - loss: 1.1399 - regularization_loss: 1.1006 - total_loss: 2.2405 - val_root_mean_squared_error: 1.1417 - val_loss: 1.2848 - val_regularization_loss: 1.0502 - val_total_loss: 2.3350\n",
      "Epoch 8/50\n",
      "8/8 [==============================] - 3s 372ms/step - root_mean_squared_error: 1.0594 - loss: 1.1229 - regularization_loss: 1.0030 - total_loss: 2.1259 - val_root_mean_squared_error: 1.1484 - val_loss: 1.2992 - val_regularization_loss: 0.9584 - val_total_loss: 2.2576\n",
      "Epoch 9/50\n",
      "8/8 [==============================] - 3s 389ms/step - root_mean_squared_error: 1.0524 - loss: 1.1083 - regularization_loss: 0.9153 - total_loss: 2.0235 - val_root_mean_squared_error: 1.1485 - val_loss: 1.2993 - val_regularization_loss: 0.8755 - val_total_loss: 2.1748\n",
      "Epoch 10/50\n",
      "8/8 [==============================] - 3s 342ms/step - root_mean_squared_error: 1.0399 - loss: 1.0815 - regularization_loss: 0.8363 - total_loss: 1.9178 - val_root_mean_squared_error: 1.1385 - val_loss: 1.2775 - val_regularization_loss: 0.8006 - val_total_loss: 2.0781\n",
      "Epoch 11/50\n",
      "8/8 [==============================] - 3s 340ms/step - root_mean_squared_error: 1.0239 - loss: 1.0484 - regularization_loss: 0.7651 - total_loss: 1.8134 - val_root_mean_squared_error: 1.1268 - val_loss: 1.2523 - val_regularization_loss: 0.7328 - val_total_loss: 1.9851\n",
      "Epoch 12/50\n",
      "8/8 [==============================] - 3s 331ms/step - root_mean_squared_error: 1.0096 - loss: 1.0195 - regularization_loss: 0.7007 - total_loss: 1.7202 - val_root_mean_squared_error: 1.1172 - val_loss: 1.2320 - val_regularization_loss: 0.6715 - val_total_loss: 1.9034\n",
      "Epoch 13/50\n",
      "8/8 [==============================] - 3s 355ms/step - root_mean_squared_error: 0.9984 - loss: 0.9972 - regularization_loss: 0.6423 - total_loss: 1.6395 - val_root_mean_squared_error: 1.1103 - val_loss: 1.2178 - val_regularization_loss: 0.6159 - val_total_loss: 1.8337\n",
      "Epoch 14/50\n",
      "8/8 [==============================] - 2s 290ms/step - root_mean_squared_error: 0.9896 - loss: 0.9797 - regularization_loss: 0.5892 - total_loss: 1.5690 - val_root_mean_squared_error: 1.1046 - val_loss: 1.2060 - val_regularization_loss: 0.5654 - val_total_loss: 1.7714\n",
      "Epoch 15/50\n",
      "8/8 [==============================] - 2s 317ms/step - root_mean_squared_error: 0.9820 - loss: 0.9648 - regularization_loss: 0.5410 - total_loss: 1.5058 - val_root_mean_squared_error: 1.0990 - val_loss: 1.1948 - val_regularization_loss: 0.5194 - val_total_loss: 1.7142\n",
      "Epoch 16/50\n",
      "8/8 [==============================] - 3s 359ms/step - root_mean_squared_error: 0.9752 - loss: 0.9514 - regularization_loss: 0.4971 - total_loss: 1.4484 - val_root_mean_squared_error: 1.0935 - val_loss: 1.1839 - val_regularization_loss: 0.4775 - val_total_loss: 1.6614\n",
      "Epoch 17/50\n",
      "8/8 [==============================] - 3s 327ms/step - root_mean_squared_error: 0.9690 - loss: 0.9394 - regularization_loss: 0.4572 - total_loss: 1.3966 - val_root_mean_squared_error: 1.0886 - val_loss: 1.1740 - val_regularization_loss: 0.4395 - val_total_loss: 1.6135\n",
      "Epoch 18/50\n",
      "8/8 [==============================] - 3s 330ms/step - root_mean_squared_error: 0.9637 - loss: 0.9290 - regularization_loss: 0.4209 - total_loss: 1.3499 - val_root_mean_squared_error: 1.0843 - val_loss: 1.1656 - val_regularization_loss: 0.4049 - val_total_loss: 1.5705\n",
      "Epoch 19/50\n",
      "8/8 [==============================] - 3s 384ms/step - root_mean_squared_error: 0.9591 - loss: 0.9202 - regularization_loss: 0.3879 - total_loss: 1.3082 - val_root_mean_squared_error: 1.0807 - val_loss: 1.1585 - val_regularization_loss: 0.3735 - val_total_loss: 1.5320\n",
      "Epoch 20/50\n",
      "8/8 [==============================] - 3s 360ms/step - root_mean_squared_error: 0.9552 - loss: 0.9127 - regularization_loss: 0.3580 - total_loss: 1.2707 - val_root_mean_squared_error: 1.0776 - val_loss: 1.1525 - val_regularization_loss: 0.3449 - val_total_loss: 1.4974\n",
      "Epoch 21/50\n",
      "8/8 [==============================] - 3s 370ms/step - root_mean_squared_error: 0.9518 - loss: 0.9062 - regularization_loss: 0.3308 - total_loss: 1.2370 - val_root_mean_squared_error: 1.0750 - val_loss: 1.1475 - val_regularization_loss: 0.3190 - val_total_loss: 1.4665\n",
      "Epoch 22/50\n",
      "8/8 [==============================] - 3s 374ms/step - root_mean_squared_error: 0.9488 - loss: 0.9005 - regularization_loss: 0.3061 - total_loss: 1.2066 - val_root_mean_squared_error: 1.0728 - val_loss: 1.1433 - val_regularization_loss: 0.2955 - val_total_loss: 1.4388\n",
      "Epoch 23/50\n",
      "8/8 [==============================] - 3s 358ms/step - root_mean_squared_error: 0.9462 - loss: 0.8956 - regularization_loss: 0.2837 - total_loss: 1.1792 - val_root_mean_squared_error: 1.0709 - val_loss: 1.1396 - val_regularization_loss: 0.2741 - val_total_loss: 1.4138\n",
      "Epoch 24/50\n",
      "8/8 [==============================] - 3s 343ms/step - root_mean_squared_error: 0.9439 - loss: 0.8912 - regularization_loss: 0.2633 - total_loss: 1.1545 - val_root_mean_squared_error: 1.0693 - val_loss: 1.1364 - val_regularization_loss: 0.2548 - val_total_loss: 1.3912\n",
      "Epoch 25/50\n",
      "8/8 [==============================] - 3s 342ms/step - root_mean_squared_error: 0.9418 - loss: 0.8872 - regularization_loss: 0.2448 - total_loss: 1.1321 - val_root_mean_squared_error: 1.0678 - val_loss: 1.1336 - val_regularization_loss: 0.2372 - val_total_loss: 1.3708\n",
      "Epoch 26/50\n",
      "8/8 [==============================] - 3s 361ms/step - root_mean_squared_error: 0.9400 - loss: 0.8837 - regularization_loss: 0.2280 - total_loss: 1.1117 - val_root_mean_squared_error: 1.0664 - val_loss: 1.1310 - val_regularization_loss: 0.2212 - val_total_loss: 1.3522\n",
      "Epoch 27/50\n",
      "8/8 [==============================] - 3s 442ms/step - root_mean_squared_error: 0.9382 - loss: 0.8804 - regularization_loss: 0.2128 - total_loss: 1.0932 - val_root_mean_squared_error: 1.0652 - val_loss: 1.1286 - val_regularization_loss: 0.2067 - val_total_loss: 1.3353\n",
      "Epoch 28/50\n",
      "8/8 [==============================] - 3s 360ms/step - root_mean_squared_error: 0.9367 - loss: 0.8775 - regularization_loss: 0.1990 - total_loss: 1.0764 - val_root_mean_squared_error: 1.0640 - val_loss: 1.1265 - val_regularization_loss: 0.1935 - val_total_loss: 1.3200\n",
      "Epoch 29/50\n",
      "8/8 [==============================] - 3s 341ms/step - root_mean_squared_error: 0.9353 - loss: 0.8748 - regularization_loss: 0.1864 - total_loss: 1.0612 - val_root_mean_squared_error: 1.0631 - val_loss: 1.1247 - val_regularization_loss: 0.1815 - val_total_loss: 1.3062\n",
      "Epoch 30/50\n"
     ]
    },
    {
     "name": "stdout",
     "output_type": "stream",
     "text": [
      "8/8 [==============================] - 3s 328ms/step - root_mean_squared_error: 0.9340 - loss: 0.8723 - regularization_loss: 0.1750 - total_loss: 1.0473 - val_root_mean_squared_error: 1.0622 - val_loss: 1.1230 - val_regularization_loss: 0.1706 - val_total_loss: 1.2936\n",
      "Epoch 31/50\n",
      "8/8 [==============================] - 3s 345ms/step - root_mean_squared_error: 0.9328 - loss: 0.8701 - regularization_loss: 0.1646 - total_loss: 1.0347 - val_root_mean_squared_error: 1.0614 - val_loss: 1.1215 - val_regularization_loss: 0.1607 - val_total_loss: 1.2822\n",
      "Epoch 32/50\n",
      "8/8 [==============================] - 3s 400ms/step - root_mean_squared_error: 0.9316 - loss: 0.8680 - regularization_loss: 0.1551 - total_loss: 1.0231 - val_root_mean_squared_error: 1.0606 - val_loss: 1.1201 - val_regularization_loss: 0.1517 - val_total_loss: 1.2718\n",
      "Epoch 33/50\n",
      "8/8 [==============================] - 3s 357ms/step - root_mean_squared_error: 0.9306 - loss: 0.8661 - regularization_loss: 0.1465 - total_loss: 1.0126 - val_root_mean_squared_error: 1.0599 - val_loss: 1.1188 - val_regularization_loss: 0.1435 - val_total_loss: 1.2623\n",
      "Epoch 34/50\n",
      "8/8 [==============================] - 3s 417ms/step - root_mean_squared_error: 0.9297 - loss: 0.8643 - regularization_loss: 0.1387 - total_loss: 1.0030 - val_root_mean_squared_error: 1.0593 - val_loss: 1.1176 - val_regularization_loss: 0.1361 - val_total_loss: 1.2537\n",
      "Epoch 35/50\n",
      "8/8 [==============================] - 3s 345ms/step - root_mean_squared_error: 0.9288 - loss: 0.8627 - regularization_loss: 0.1316 - total_loss: 0.9943 - val_root_mean_squared_error: 1.0587 - val_loss: 1.1166 - val_regularization_loss: 0.1293 - val_total_loss: 1.2459\n",
      "Epoch 36/50\n",
      "8/8 [==============================] - 3s 339ms/step - root_mean_squared_error: 0.9280 - loss: 0.8612 - regularization_loss: 0.1251 - total_loss: 0.9863 - val_root_mean_squared_error: 1.0582 - val_loss: 1.1157 - val_regularization_loss: 0.1231 - val_total_loss: 1.2388\n",
      "Epoch 37/50\n",
      "8/8 [==============================] - 3s 356ms/step - root_mean_squared_error: 0.9272 - loss: 0.8597 - regularization_loss: 0.1192 - total_loss: 0.9790 - val_root_mean_squared_error: 1.0577 - val_loss: 1.1148 - val_regularization_loss: 0.1174 - val_total_loss: 1.2323\n",
      "Epoch 38/50\n",
      "8/8 [==============================] - 2s 316ms/step - root_mean_squared_error: 0.9265 - loss: 0.8584 - regularization_loss: 0.1138 - total_loss: 0.9723 - val_root_mean_squared_error: 1.0573 - val_loss: 1.1141 - val_regularization_loss: 0.1123 - val_total_loss: 1.2264\n",
      "Epoch 39/50\n",
      "8/8 [==============================] - 3s 369ms/step - root_mean_squared_error: 0.9259 - loss: 0.8572 - regularization_loss: 0.1089 - total_loss: 0.9661 - val_root_mean_squared_error: 1.0569 - val_loss: 1.1134 - val_regularization_loss: 0.1076 - val_total_loss: 1.2210\n",
      "Epoch 40/50\n",
      "8/8 [==============================] - 3s 386ms/step - root_mean_squared_error: 0.9253 - loss: 0.8561 - regularization_loss: 0.1044 - total_loss: 0.9605 - val_root_mean_squared_error: 1.0566 - val_loss: 1.1128 - val_regularization_loss: 0.1033 - val_total_loss: 1.2162\n",
      "Epoch 41/50\n",
      "8/8 [==============================] - 3s 369ms/step - root_mean_squared_error: 0.9247 - loss: 0.8550 - regularization_loss: 0.1003 - total_loss: 0.9554 - val_root_mean_squared_error: 1.0563 - val_loss: 1.1123 - val_regularization_loss: 0.0994 - val_total_loss: 1.2117\n",
      "Epoch 42/50\n",
      "8/8 [==============================] - 3s 375ms/step - root_mean_squared_error: 0.9242 - loss: 0.8541 - regularization_loss: 0.0966 - total_loss: 0.9506 - val_root_mean_squared_error: 1.0560 - val_loss: 1.1118 - val_regularization_loss: 0.0958 - val_total_loss: 1.2076\n",
      "Epoch 43/50\n",
      "8/8 [==============================] - 3s 402ms/step - root_mean_squared_error: 0.9237 - loss: 0.8531 - regularization_loss: 0.0932 - total_loss: 0.9463 - val_root_mean_squared_error: 1.0558 - val_loss: 1.1114 - val_regularization_loss: 0.0925 - val_total_loss: 1.2039\n",
      "Epoch 44/50\n",
      "8/8 [==============================] - 3s 360ms/step - root_mean_squared_error: 0.9232 - loss: 0.8523 - regularization_loss: 0.0900 - total_loss: 0.9423 - val_root_mean_squared_error: 1.0556 - val_loss: 1.1110 - val_regularization_loss: 0.0895 - val_total_loss: 1.2005\n",
      "Epoch 45/50\n",
      "8/8 [==============================] - 3s 329ms/step - root_mean_squared_error: 0.9228 - loss: 0.8515 - regularization_loss: 0.0871 - total_loss: 0.9386 - val_root_mean_squared_error: 1.0554 - val_loss: 1.1108 - val_regularization_loss: 0.0868 - val_total_loss: 1.1975\n",
      "Epoch 46/50\n",
      "8/8 [==============================] - 3s 383ms/step - root_mean_squared_error: 0.9224 - loss: 0.8507 - regularization_loss: 0.0845 - total_loss: 0.9352 - val_root_mean_squared_error: 1.0553 - val_loss: 1.1106 - val_regularization_loss: 0.0842 - val_total_loss: 1.1948\n",
      "Epoch 47/50\n",
      "8/8 [==============================] - 3s 369ms/step - root_mean_squared_error: 0.9220 - loss: 0.8500 - regularization_loss: 0.0821 - total_loss: 0.9321 - val_root_mean_squared_error: 1.0552 - val_loss: 1.1104 - val_regularization_loss: 0.0819 - val_total_loss: 1.1923\n",
      "Epoch 48/50\n",
      "8/8 [==============================] - 3s 419ms/step - root_mean_squared_error: 0.9216 - loss: 0.8493 - regularization_loss: 0.0798 - total_loss: 0.9292 - val_root_mean_squared_error: 1.0550 - val_loss: 1.1101 - val_regularization_loss: 0.0798 - val_total_loss: 1.1899\n",
      "Epoch 49/50\n",
      "8/8 [==============================] - 3s 369ms/step - root_mean_squared_error: 0.9213 - loss: 0.8487 - regularization_loss: 0.0778 - total_loss: 0.9265 - val_root_mean_squared_error: 1.0549 - val_loss: 1.1099 - val_regularization_loss: 0.0778 - val_total_loss: 1.1877\n",
      "Epoch 50/50\n",
      "8/8 [==============================] - 3s 348ms/step - root_mean_squared_error: 0.9210 - loss: 0.8481 - regularization_loss: 0.0759 - total_loss: 0.9240 - val_root_mean_squared_error: 1.0548 - val_loss: 1.1097 - val_regularization_loss: 0.0760 - val_total_loss: 1.1857\n"
     ]
    }
   ],
   "source": [
    "model_tr = MovielensModelTunedRanking()\n",
    "model_tr.compile(optimizer=tf.keras.optimizers.Adagrad(learning_rate=0.1))\n",
    "history_tr = model_tr.fit(cached_train, epochs=50, validation_data=cached_validation)"
   ]
  },
  {
   "cell_type": "code",
   "execution_count": null,
   "metadata": {
    "colab": {
     "base_uri": "https://localhost:8080/"
    },
    "gradient": {
     "editing": false,
     "id": "29090536-2177-4e2f-9d54-ed66262d149f",
     "kernelId": ""
    },
    "id": "3GrSMwIYNAl7",
    "outputId": "bdb1cc54-d0ba-4aad-d4f2-4bd8fdb433f8"
   },
   "outputs": [
    {
     "name": "stdout",
     "output_type": "stream",
     "text": [
      "Root mean squared error in user rating from training: 0.92\n",
      "Root mean squared error in user rating from validation: 1.05\n"
     ]
    }
   ],
   "source": [
    "rmse_tr = history_tr.history['root_mean_squared_error'][-1]\n",
    "print(f'Root mean squared error in user rating from training: {rmse_tr:.2f}')\n",
    "\n",
    "val_rmse_tr = history_tr.history['val_root_mean_squared_error'][-1]\n",
    "print(f'Root mean squared error in user rating from validation: {val_rmse_tr:.2f}')"
   ]
  },
  {
   "cell_type": "code",
   "execution_count": null,
   "metadata": {
    "gradient": {
     "editing": false,
     "id": "11101a8e-a01e-4775-a590-22b7f2a0d613",
     "kernelId": ""
    },
    "id": "WG0EsFs3NRx1"
   },
   "outputs": [],
   "source": [
    "num_validation_runs = len(history_tr.history['root_mean_squared_error'])\n",
    "validation_freq = 1\n",
    "epochs_x = [(x + 1) * validation_freq for x in range(num_validation_runs)]"
   ]
  },
  {
   "cell_type": "code",
   "execution_count": null,
   "metadata": {
    "colab": {
     "base_uri": "https://localhost:8080/",
     "height": 308
    },
    "gradient": {
     "editing": false,
     "id": "66abe45e-1ba4-4bd0-a7ba-75ea34093ef0",
     "kernelId": ""
    },
    "id": "Wmi3EAi3NYrM",
    "outputId": "0825f5e6-f49a-4513-abad-b493e5da70d5"
   },
   "outputs": [
    {
     "data": {
      "text/plain": [
       "<matplotlib.legend.Legend at 0x7f9aa0aa2b38>"
      ]
     },
     "execution_count": 51,
     "metadata": {},
     "output_type": "execute_result"
    },
    {
     "data": {
      "image/png": "[encoded data removed]",
      "text/plain": [
       "<Figure size 432x288 with 1 Axes>"
      ]
     },
     "metadata": {},
     "output_type": "display_data"
    }
   ],
   "source": [
    "plt.plot(epochs_x, history_tr.history['root_mean_squared_error'], label='Training')\n",
    "plt.plot(epochs_x, history_tr.history['val_root_mean_squared_error'], label='Validation')\n",
    "plt.title('Root mean squared error in user rating vs. training epoch')\n",
    "plt.xlabel('Training epoch')\n",
    "plt.ylabel('Root mean squared error in user rating')\n",
    "plt.legend()"
   ]
  },
  {
   "cell_type": "markdown",
   "metadata": {
    "gradient": {
     "editing": false,
     "id": "fe159d93-44f2-4a1b-b625-90a34e473f42",
     "kernelId": ""
    },
    "id": "QdiaiJ38IdwD"
   },
   "source": [
    "As mentioned, this is a very basic hyperparameter tuning. Some obvious improvements to this use of a grid for tuning include:\n",
    "\n",
    "- Use a larger grid of learning rates (log + linear fine-tuning)\n",
    "- More epochs in model.fit(): 100s, not 30 or 50\n",
    "- Use `keras.tuner` and/or TensorFlow callbacks to retain the best model, and retrain it with both the training and validation data once found\n",
    "- Use callbacks to stop training when the improvement rate drops below a threshold (early stopping), instead of training for a fixed number of epochs\n",
    "- Tune layer size or number of layers, as in [the TFRS multitask tutorial](https://www.tensorflow.org/recommenders/examples/multitask)\n",
    "- Tune the L2 regularization factor, currently set to the default 0.01\n",
    "- The [regularizer](https://www.tensorflow.org/tutorials/keras/overfit_and_underfit#strategies_to_prevent_overfitting) can be dropout as well as L2 (aka. weight decay), or it can be both\n",
    "- Tune embedding size (vary the number of dimensions from 32 and the number of  categories that can be fit: more is better unless it causes overfitting or too-slow training)\n",
    "- Optimizers other than Adagrad, e.g., SGD, RMSprop, Adam, Nadam\n",
    "- Activation functions other than ReLU, e.g., SELU with LecunNormal weight initialization\n",
    "- Keras tuner or [TensorBoard HParams](https://www.tensorflow.org/tensorboard/hyperparameter_tuning_with_hparams) for multi-parameter search, or smart search. The I/O would need to match the recommender model, but often smart search will find better hyperparameter sets then manual tuning, even by experts\n",
    "- Add [other metrics](https://www.tensorflow.org/guide/effective_tf2#tfmetrics_aggregates_data_and_tfsummary_logs_them) besides RMSE to the plotted tuning history\n",
    "\n",
    "One thing that is clear from the above code, however, is that managing and plotting much more extensive tuning from a single notebook can quickly become unwieldy, error-prone, and hard to reproduce due to the combinatorial explosion of parameters and their differing types and amounts. So the desirability of eking out further model performance needs to be balanced against this.\n",
    "\n",
    "There are various further improvements beyond tuning that should therefore also be considered - see the appendix."
   ]
  },
  {
   "cell_type": "markdown",
   "metadata": {
    "gradient": {
     "editing": false,
     "id": "0906b49d-f8c9-46b4-a2bd-578abfad4694",
     "kernelId": ""
    },
    "id": "Q6X66dBfK-5o"
   },
   "source": [
    "As in previous sections, we can see a summary of the final model architecture."
   ]
  },
  {
   "cell_type": "code",
   "execution_count": null,
   "metadata": {
    "colab": {
     "base_uri": "https://localhost:8080/"
    },
    "gradient": {
     "editing": false,
     "id": "10168324-e2a7-4b01-8339-08a57b6cbdb1",
     "kernelId": ""
    },
    "id": "mfS8RD5aQK8M",
    "outputId": "756dc9ae-d628-445b-b222-57f7e96da255"
   },
   "outputs": [
    {
     "name": "stdout",
     "output_type": "stream",
     "text": [
      "Model: \"movielens_model_tuned_ranking_7\"\n",
      "_________________________________________________________________\n",
      "Layer (type)                 Output Shape              Param #   \n",
      "=================================================================\n",
      "sequential_24 (Sequential)   (None, 32)                53280     \n",
      "_________________________________________________________________\n",
      "sequential_25 (Sequential)   (None, 32)                30208     \n",
      "_________________________________________________________________\n",
      "sequential_26 (Sequential)   (None, 1)                 33153     \n",
      "_________________________________________________________________\n",
      "ranking_8 (Ranking)          multiple                  2         \n",
      "=================================================================\n",
      "Total params: 116,643\n",
      "Trainable params: 116,641\n",
      "Non-trainable params: 2\n",
      "_________________________________________________________________\n"
     ]
    }
   ],
   "source": [
    "model_tr.summary()"
   ]
  },
  {
   "cell_type": "markdown",
   "metadata": {
    "gradient": {
     "editing": false,
     "id": "c5a7c14b-d71d-4f4a-92e2-f59bf7cf1928",
     "kernelId": ""
    },
    "id": "0YzUHtmUWcKB"
   },
   "source": [
    "As with the basic model, the performance of the model on the unseen testing data is similar to the validation performance, at about RMSE ~ 1."
   ]
  },
  {
   "cell_type": "code",
   "execution_count": null,
   "metadata": {
    "colab": {
     "base_uri": "https://localhost:8080/"
    },
    "gradient": {
     "editing": false,
     "id": "b2c8c8ee-5c3f-4717-9fa7-72bb8ee6411b",
     "kernelId": ""
    },
    "id": "9hw7_atTIUul",
    "outputId": "f992c83a-ef5d-4215-a5dc-58210995158c"
   },
   "outputs": [
    {
     "name": "stdout",
     "output_type": "stream",
     "text": [
      "5/5 [==============================] - 0s 46ms/step - root_mean_squared_error: 1.0425 - loss: 1.0852 - regularization_loss: 0.0760 - total_loss: 1.1612\n"
     ]
    }
   ],
   "source": [
    "eval_tr = model_tr.evaluate(cached_test, return_dict=True)"
   ]
  },
  {
   "cell_type": "code",
   "execution_count": null,
   "metadata": {
    "colab": {
     "base_uri": "https://localhost:8080/"
    },
    "gradient": {
     "editing": false,
     "id": "dfc8e11d-4617-4096-a4df-1c1e44e582fb",
     "kernelId": ""
    },
    "id": "8M151XaeN3PU",
    "outputId": "71b14698-3b31-4c8a-9778-0ec80dbed269"
   },
   "outputs": [
    {
     "name": "stdout",
     "output_type": "stream",
     "text": [
      "Root mean squared error in user rating from evaluation: 1.04\n"
     ]
    }
   ],
   "source": [
    "rmse_eval_tr = eval_tr['root_mean_squared_error']\n",
    "print(f'Root mean squared error in user rating from evaluation: {rmse_eval_tr:.2f}')"
   ]
  },
  {
   "cell_type": "markdown",
   "metadata": {
    "gradient": {
     "editing": false,
     "id": "22416d64-f737-4bcc-a4c1-96af0766b509",
     "kernelId": ""
    },
    "id": "5m5kalp0IdiT"
   },
   "source": [
    "And as above, new data can now be sent to the model."
   ]
  },
  {
   "cell_type": "code",
   "execution_count": null,
   "metadata": {
    "colab": {
     "base_uri": "https://localhost:8080/"
    },
    "gradient": {
     "editing": false,
     "id": "8fd23701-edd6-4f6f-a4b9-bed907c2e8dc",
     "kernelId": ""
    },
    "id": "NFlR-80oPCwE",
    "outputId": "06095776-9182-40dc-f069-a45140fc8f1b"
   },
   "outputs": [
    {
     "data": {
      "text/plain": [
       "(array([[-0.01599463, -0.01055228, -0.02221618, ..., -0.01906449,\n",
       "          0.04442017, -0.03814405],\n",
       "        [ 0.02423078, -0.01416612,  0.01702574, ..., -0.02954013,\n",
       "          0.00190766, -0.02335664],\n",
       "        [-0.04309475, -0.01668103,  0.04777174, ...,  0.02514784,\n",
       "         -0.00918088, -0.01495119],\n",
       "        ...,\n",
       "        [ 0.02673849,  0.00282248,  0.03548862, ..., -0.0486567 ,\n",
       "          0.00030612,  0.02901635],\n",
       "        [ 0.04502031, -0.00617316, -0.01457147, ...,  0.01931692,\n",
       "          0.03053618,  0.02292163],\n",
       "        [-0.02470502, -0.04607438,  0.0107521 , ...,  0.01385686,\n",
       "          0.03638986, -0.03269116]], dtype=float32),\n",
       " array([[ 0.01336183,  0.0081979 , -0.08344426, ...,  0.01188743,\n",
       "         -0.02522285, -0.01290849],\n",
       "        [-0.00645981, -0.01125804, -0.04637397, ..., -0.04546694,\n",
       "         -0.05494253,  0.04731755],\n",
       "        [ 0.02507247,  0.02180111, -0.09156391, ..., -0.07275239,\n",
       "         -0.00564508,  0.03217689],\n",
       "        ...,\n",
       "        [-0.00655081,  0.00954236, -0.05609792, ...,  0.00201023,\n",
       "         -0.01886941,  0.00410194],\n",
       "        [-0.02748255, -0.04893187, -0.09806128, ...,  0.00627433,\n",
       "         -0.06668411,  0.0403745 ],\n",
       "        [ 0.01200923, -0.01158033, -0.00928549, ..., -0.02470468,\n",
       "         -0.02466385, -0.04442108]], dtype=float32),\n",
       " array([[3.9796207],\n",
       "        [3.822532 ],\n",
       "        [4.188107 ],\n",
       "        ...,\n",
       "        [3.73436  ],\n",
       "        [4.283823 ],\n",
       "        [3.4162066]], dtype=float32))"
      ]
     },
     "execution_count": 55,
     "metadata": {},
     "output_type": "execute_result"
    }
   ],
   "source": [
    "# Again returns the embeddings and predicted ratings\n",
    "model_tr.predict(cached_test)"
   ]
  },
  {
   "cell_type": "markdown",
   "metadata": {
    "gradient": {
     "editing": false,
     "id": "da6550d1-b162-493f-9d77-07909dc714ec",
     "kernelId": ""
    }
   },
   "source": [
    "### 4.3: Model as Gradient Workflow\n",
    "\n",
    "**This section requires the user to input their settings - see below.**  \n",
    "**Gradient Workflows is still a maturing product and it is expected that all of the setup steps currently given here will disappear in time.**\n",
    "\n",
    "Having completed creating and training the models in our notebook here, in principle we have a model that can be deployed into production.\n",
    "\n",
    "What can be seen from the above, however, is that even though we only trained 3 models - the wide grid, narrow grid, and final, already the notebook is quite long, and there are quite a few loops and things to keep track of. Adding further models, data preparation, feature engineering, etc., will quickly result in this getting out of hand, with too many things to keep track of. Considering that a typical real project might have 100s of models, when we get to that scale, a more rigorous way of working is indicated.\n",
    "\n",
    "There are good reasons to start with a notebook, which is why we have done so here, but when a project gets large, we can switch from Gradient's Notebook way of working to its Workflows. This does, however, require more setup and structure than a notebook.\n",
    "\n",
    "This section shows an example of a Workflow, where we put the code we need into a script, and instead of training the model from the notebook, we run that. Our script is `workflow_train_model.py`, and we show training the final model from section 4.2 above. The code is a subset of the notebook, with a few minor changes for lines that work in cells but not a .py (or vice versa), for example, `!pip install -q tensorflow-recommenders==0.4.0` becomes `subprocess.run('pip install -q tensorflow-recommenders==0.4.0', shell=True, check=True, stdout=subprocess.PIPE, universal_newlines=True)`. Another example would be `%` or `%%` line and cell magics.\n",
    "\n",
    "Since they run via script and parameter files (YAML), Workflows can be used without requiring a notebook at all. Here, to preserve continuity and keep the project within one end-to-end setting, we call the Workflow from the notebook. This involves setting up access to it and calling the YAML file with the settings, which in turn calls `workflow_train_model.py`.\n",
    "\n",
    "Aside from the advantages or organization, reproducibility, etc., Gradient also allows the setup to be straightforwardly extended to using GPU instead of CPU, by choosing a GPU instance, and using multiple machines instead of a single machine, by using multinode instead of single node. Since Gradient can use the Paperspace infrastructure, the user does not need to set up their own GPUs or be an expert in distributed computing to access this power."
   ]
  },
  {
   "cell_type": "markdown",
   "metadata": {
    "gradient": {
     "editing": false,
     "id": "8baa1b9a-f9a2-4af4-9dd5-f949d5b59689",
     "kernelId": ""
    }
   },
   "source": [
    "#### Workflow setup\n",
    "\n",
    "To run the Workflow requires the user to supply the following settings:\n",
    "\n",
    " - `api_key` = API key to access Gradient. This is part of setting up one's user account\n",
    " - `workflow_train_id` = Currently Workflows need to be created in the GUI or CLI\n",
    " - `workflow_deploy_id` = Similarly for deployment Workflow in section 5\n",
    " \n",
    "To obtain these, follow the steps under *Additional requirements to run Gradient Workflows and model deployment (sections 4.3+)* near the start of the notebook.\n",
    "\n",
    "If you are using a Gradient private cluster, you should also specify `cluster_id`. If cluster ID is not specified, the Gradient public cluster will be used.\n",
    "\n",
    "When all is set up, add your settings to the next cell, then run it.\n",
    "\n",
    "They will look similar to this:\n",
    "\n",
    "`cluster_id = 'cdefghijk'` (optional)  \n",
    "`workflow_id_train = '6789abcd-01ef-23gh-45ij-678901klmnop'`  \n",
    "`workflow_id_deploy = '6789abcd-01ef-23gh-45ij-678901klmnoq'`"
   ]
  },
  {
   "cell_type": "code",
   "execution_count": null,
   "metadata": {
    "gradient": {
     "editing": false,
     "id": "3f1b13da-8a06-4be2-b70c-351e5bfc6d05",
     "kernelId": ""
    }
   },
   "outputs": [],
   "source": [
    "workflow_id_train = '6c325f57-9979-402e-8560-fe09951990cc' # Created workflows in GUI/CLI\n",
    "workflow_id_deploy = '1f116f34-388e-4e47-8f47-570cd2218795'"
   ]
  },
  {
   "cell_type": "markdown",
   "metadata": {
    "gradient": {
     "editing": false,
     "id": "745a2bad-ebb5-4e12-b3e1-0b93e2d412ce",
     "kernelId": ""
    }
   },
   "source": [
    "The API key could also be given here as a string, but since it is a credential that allows access to the system for you as a user, it is better to not do so. Gradient will in future support accessing its Secrets from the Notebook via the SDK. For now, we can read the key, supplied by the user, from a file. Best is to create key.txt with the key in it, upload it here, then delete when done. The API key looks like `0123456789abcdef0123456789abcd`."
   ]
  },
  {
   "cell_type": "code",
   "execution_count": null,
   "metadata": {
    "gradient": {
     "editing": false,
     "id": "6a94fd95-1579-4281-962b-047e63498bca",
     "kernelId": ""
    }
   },
   "outputs": [],
   "source": [
    "file = './key.txt'\n",
    "\n",
    "with open(file) as f:\n",
    "    out = f.readlines()\n",
    "\n",
    "api_key = ''.join(out).strip('\\n')"
   ]
  },
  {
   "cell_type": "markdown",
   "metadata": {
    "gradient": {
     "editing": false,
     "id": "5755c405-348b-4160-8379-df9f6c1c5db0",
     "kernelId": ""
    }
   },
   "source": [
    "#### Access Gradient\n",
    "Aside from its graphical interface (GUI), Gradient has command line and SDK interfaces that allow interaction to achieve most of the same things that can be done with the GUI. The lines here set up access to the SDK.\n",
    "\n",
    "Here, we install the Gradient SDK using pip. If you are running the notebook on your own machine rather than the Gradient Notebook, then this will also work."
   ]
  },
  {
   "cell_type": "code",
   "execution_count": null,
   "metadata": {
    "gradient": {
     "editing": false,
     "id": "385c11cb-2ffe-4fcc-b73b-2614fb889e14",
     "kernelId": ""
    },
    "scrolled": true
   },
   "outputs": [
    {
     "name": "stdout",
     "output_type": "stream",
     "text": [
      "/usr/lib/python3/dist-packages/secretstorage/dhcrypto.py:15: CryptographyDeprecationWarning: int_from_bytes is deprecated, use int.from_bytes instead\n",
      "  from cryptography.utils import int_from_bytes\n",
      "/usr/lib/python3/dist-packages/secretstorage/util.py:19: CryptographyDeprecationWarning: int_from_bytes is deprecated, use int.from_bytes instead\n",
      "  from cryptography.utils import int_from_bytes\n",
      "Requirement already satisfied: gradient in /usr/local/lib/python3.6/dist-packages (1.7.1)\n",
      "Requirement already satisfied: requests[security] in /usr/local/lib/python3.6/dist-packages (from gradient) (2.25.1)\n",
      "Requirement already satisfied: halo in /usr/local/lib/python3.6/dist-packages (from gradient) (0.0.31)\n",
      "Requirement already satisfied: progressbar2 in /usr/local/lib/python3.6/dist-packages (from gradient) (3.53.1)\n",
      "Requirement already satisfied: marshmallow<3.0 in /usr/local/lib/python3.6/dist-packages (from gradient) (2.21.0)\n",
      "Requirement already satisfied: click-help-colors in /usr/local/lib/python3.6/dist-packages (from gradient) (0.9.1)\n",
      "Requirement already satisfied: attrs<=19 in /usr/local/lib/python3.6/dist-packages (from gradient) (18.2.0)\n",
      "Requirement already satisfied: gradient-utils>=0.1.2 in /usr/local/lib/python3.6/dist-packages (from gradient) (0.3.2)\n",
      "Requirement already satisfied: click-completion in /usr/local/lib/python3.6/dist-packages (from gradient) (0.5.2)\n",
      "Requirement already satisfied: click==7.1.2 in /usr/local/lib/python3.6/dist-packages (from gradient) (7.1.2)\n",
      "Requirement already satisfied: python-dateutil==2.* in /usr/local/lib/python3.6/dist-packages (from gradient) (2.8.1)\n",
      "Requirement already satisfied: terminaltables in /usr/local/lib/python3.6/dist-packages (from gradient) (3.1.0)\n",
      "Requirement already satisfied: websocket-client==0.57.* in /usr/local/lib/python3.6/dist-packages (from gradient) (0.57.0)\n",
      "Requirement already satisfied: click-didyoumean in /usr/local/lib/python3.6/dist-packages (from gradient) (0.0.3)\n",
      "Requirement already satisfied: six in /usr/local/lib/python3.6/dist-packages (from gradient) (1.15.0)\n",
      "Requirement already satisfied: colorama==0.4.3 in /usr/local/lib/python3.6/dist-packages (from gradient) (0.4.3)\n",
      "Requirement already satisfied: PyYAML==5.* in /usr/local/lib/python3.6/dist-packages (from gradient) (5.4.1)\n",
      "Requirement already satisfied: requests-toolbelt in /usr/local/lib/python3.6/dist-packages (from gradient) (0.9.1)\n",
      "Requirement already satisfied: hyperopt==0.1.2 in /usr/local/lib/python3.6/dist-packages (from gradient-utils>=0.1.2->gradient) (0.1.2)\n",
      "Collecting numpy==1.18.5\n",
      "  Using cached numpy-1.18.5-cp36-cp36m-manylinux1_x86_64.whl (20.1 MB)\n",
      "Requirement already satisfied: pymongo<4.0.0,>=3.11.0 in /usr/local/lib/python3.6/dist-packages (from gradient-utils>=0.1.2->gradient) (3.12.0)\n",
      "Requirement already satisfied: wheel<0.36.0,>=0.35.1 in /usr/local/lib/python3.6/dist-packages (from gradient-utils>=0.1.2->gradient) (0.35.1)\n",
      "Requirement already satisfied: prometheus-client<0.10,>=0.8 in /usr/local/lib/python3.6/dist-packages (from gradient-utils>=0.1.2->gradient) (0.9.0)\n",
      "Requirement already satisfied: networkx in /usr/local/lib/python3.6/dist-packages (from hyperopt==0.1.2->gradient-utils>=0.1.2->gradient) (2.5.1)\n",
      "Requirement already satisfied: scipy in /usr/local/lib/python3.6/dist-packages (from hyperopt==0.1.2->gradient-utils>=0.1.2->gradient) (1.5.4)\n",
      "Requirement already satisfied: tqdm in /usr/local/lib/python3.6/dist-packages (from hyperopt==0.1.2->gradient-utils>=0.1.2->gradient) (4.62.0)\n",
      "Requirement already satisfied: future in /usr/local/lib/python3.6/dist-packages (from hyperopt==0.1.2->gradient-utils>=0.1.2->gradient) (0.18.2)\n",
      "Requirement already satisfied: shellingham in /usr/local/lib/python3.6/dist-packages (from click-completion->gradient) (1.4.0)\n",
      "Requirement already satisfied: jinja2 in /usr/local/lib/python3.6/dist-packages (from click-completion->gradient) (2.11.2)\n",
      "Requirement already satisfied: log-symbols>=0.0.14 in /usr/local/lib/python3.6/dist-packages (from halo->gradient) (0.0.14)\n",
      "Requirement already satisfied: termcolor>=1.1.0 in /usr/local/lib/python3.6/dist-packages (from halo->gradient) (1.1.0)\n",
      "Requirement already satisfied: spinners>=0.0.24 in /usr/local/lib/python3.6/dist-packages (from halo->gradient) (0.0.24)\n",
      "Requirement already satisfied: MarkupSafe>=0.23 in /usr/local/lib/python3.6/dist-packages (from jinja2->click-completion->gradient) (1.1.1)\n",
      "Requirement already satisfied: decorator<5,>=4.3 in /usr/local/lib/python3.6/dist-packages (from networkx->hyperopt==0.1.2->gradient-utils>=0.1.2->gradient) (4.4.2)\n",
      "Requirement already satisfied: python-utils>=2.3.0 in /usr/local/lib/python3.6/dist-packages (from progressbar2->gradient) (2.5.6)\n",
      "Requirement already satisfied: chardet<5,>=3.0.2 in /usr/local/lib/python3.6/dist-packages (from requests[security]->gradient) (4.0.0)\n",
      "Requirement already satisfied: certifi>=2017.4.17 in /usr/local/lib/python3.6/dist-packages (from requests[security]->gradient) (2020.12.5)\n",
      "Requirement already satisfied: idna<3,>=2.5 in /usr/lib/python3/dist-packages (from requests[security]->gradient) (2.6)\n",
      "Requirement already satisfied: urllib3<1.27,>=1.21.1 in /usr/local/lib/python3.6/dist-packages (from requests[security]->gradient) (1.26.2)\n",
      "Requirement already satisfied: cryptography>=1.3.4 in /usr/local/lib/python3.6/dist-packages (from requests[security]->gradient) (3.4.7)\n",
      "Requirement already satisfied: pyOpenSSL>=0.14 in /usr/local/lib/python3.6/dist-packages (from requests[security]->gradient) (20.0.1)\n",
      "Requirement already satisfied: cffi>=1.12 in /usr/local/lib/python3.6/dist-packages (from cryptography>=1.3.4->requests[security]->gradient) (1.14.4)\n",
      "Requirement already satisfied: pycparser in /usr/local/lib/python3.6/dist-packages (from cffi>=1.12->cryptography>=1.3.4->requests[security]->gradient) (2.20)\n",
      "Installing collected packages: numpy\n",
      "  Attempting uninstall: numpy\n",
      "    Found existing installation: numpy 1.19.5\n",
      "    Uninstalling numpy-1.19.5:\n",
      "      Successfully uninstalled numpy-1.19.5\n",
      "\u001b[31mERROR: pip's dependency resolver does not currently take into account all the packages that are installed. This behaviour is the source of the following dependency conflicts.\n",
      "tensorflow 2.4.0 requires numpy~=1.19.2, but you have numpy 1.18.5 which is incompatible.\n",
      "tensorflow-gpu 2.4.1 requires numpy~=1.19.2, but you have numpy 1.18.5 which is incompatible.\u001b[0m\n",
      "Successfully installed numpy-1.18.5\n",
      "\u001b[33mWARNING: Running pip as the 'root' user can result in broken permissions and conflicting behaviour with the system package manager. It is recommended to use a virtual environment instead: https://pip.pypa.io/warnings/venv\u001b[0m\n"
     ]
    }
   ],
   "source": [
    "!pip install -U gradient # -U means upgrade any existing installed packages that this would have installed"
   ]
  },
  {
   "cell_type": "markdown",
   "metadata": {
    "gradient": {
     "editing": false,
     "id": "7a68c742-5b44-454c-a1bb-5a20a7c3dacc",
     "kernelId": ""
    }
   },
   "source": [
    "Functionality such as Workflows and deployments are under `SdkClient`. Aside from the ones shown, there are about [20 more](https://paperspace.github.io/gradient-cli/gradient.api_sdk.clients.html)."
   ]
  },
  {
   "cell_type": "code",
   "execution_count": null,
   "metadata": {
    "gradient": {
     "editing": false,
     "id": "d5b1d972-e8a3-4ae8-8f88-5e1a1e03ea44",
     "kernelId": ""
    }
   },
   "outputs": [],
   "source": [
    "# Access Gradient from the SDK, i.e., this notebook\n",
    "from gradient import sdk_client\n",
    "\n",
    "# Enable SDK to access YAML file\n",
    "import yaml\n",
    "\n",
    "# SDK clients\n",
    "# All can be accessed from client, or shorthanded for convenience as here\n",
    "client = sdk_client.SdkClient(api_key)\n",
    "deployments_client = sdk_client.DeploymentsClient(api_key)\n",
    "workflows_client  = sdk_client.WorkflowsClient(api_key)"
   ]
  },
  {
   "cell_type": "markdown",
   "metadata": {
    "gradient": {
     "editing": false,
     "id": "0cc6958a-0fc2-4463-9395-e35f46c5a0e8",
     "kernelId": ""
    }
   },
   "source": [
    "When running workflows in Gradient, they can be associated with a user's project, which here we created above as part of the currently required manual setup steps.\n",
    "\n",
    "In other notebooks, you may want to create a project from the notebook, which can be done with\n",
    "\n",
    "`project_id = client.projects.create('My project')`\n",
    "\n",
    "With a project ID, you can also see information about project contents, such as the workflows\n",
    "\n",
    "`workflows = workflows_client.list(project_id=project_id)\n",
    "print(workflows)`\n",
    "\n",
    "After a project is created, it will also be visible under the Projects tab in the GUI, and to the command line."
   ]
  },
  {
   "cell_type": "markdown",
   "metadata": {
    "gradient": {
     "editing": false,
     "id": "dd50d0bc-e429-4708-bdbe-ec4f72ee1672",
     "kernelId": ""
    }
   },
   "source": [
    "#### Run the Workflow\n",
    "\n",
    "Now we are setup, we can run the Workflow by referring to its YAML file, `workflow-train-model.yaml`. Use of YAML is part of what makes this production-grade, as opposed to just for experimenting.\n",
    "\n",
    "The YAML file contains two jobs: `CloneRepo` and `RecommenderTrain`. The first one accesses the GitHub repository to obtain the training script, and the second runs the model training. For more details about YAML, see part 4 of the blog series, and the [Workflows documentation](https://docs.paperspace.com/gradient/explore-train-deploy/workflows)."
   ]
  },
  {
   "cell_type": "code",
   "execution_count": null,
   "metadata": {
    "gradient": {
     "editing": false,
     "id": "ab147359-3132-4efa-85c8-0e511ab61553",
     "kernelId": ""
    }
   },
   "outputs": [],
   "source": [
    "# Train model\n",
    "spec_path = './workflow-train-model.yaml'\n",
    "\n",
    "yaml_spec = open(spec_path, 'r')\n",
    "train_spec = yaml.safe_load(yaml_spec)\n",
    "\n",
    "# If you are using a Gradient private cluster, add the cluster_id here as another argument\n",
    "workflow_param_train = {\n",
    "    'workflow_id' : workflow_id_train,\n",
    "    'spec': train_spec,\n",
    "    'inputs': None\n",
    "}\n",
    "\n",
    "workflow_run_train = workflows_client.run_workflow(**workflow_param_train) # \"**\" is used because parameters is a dictionary"
   ]
  },
  {
   "cell_type": "markdown",
   "metadata": {
    "gradient": {
     "editing": false,
     "id": "edfae3e0-204d-4d35-ba42-e0a301fc78f4",
     "kernelId": ""
    }
   },
   "source": [
    "If you have your team name, project ID, and Workflow ID, you can access the Workflow directly at its URL in the GUI:\n",
    "\n",
    "`https://console.paperspace.com/<team name>/projects/<project_id>/workflows/<workflow ID>`\n",
    "\n",
    "e.g., like\n",
    "\n",
    "`https://console.paperspace.com/my_team/projects/pqrstuvwx/workflows/6789abcd-01ef-23gh-45ij-678901klmnop`\n",
    "\n",
    "Or navigate there via the Workflows tab.\n",
    "\n",
    "Information about the Workflow can also be retrieved from the output of its invocation above (`workflow_run_train`)."
   ]
  },
  {
   "cell_type": "code",
   "execution_count": null,
   "metadata": {
    "gradient": {
     "editing": false,
     "id": "9eb48c0f-5aad-4577-8477-0b38de410aab",
     "kernelId": ""
    }
   },
   "outputs": [
    {
     "data": {
      "text/plain": [
       "{'id': 10,\n",
       " 'cluster': {'id': 'clg07azjl'},\n",
       " 'spec': {'jobs': {'CloneRecRepo': {'uses': 'git-checkout@v1',\n",
       "    'with': {'url': 'https://github.com/gradient-ai/Deep-Learning-Recommender-TF'},\n",
       "    'outputs': {'repoRec': {'type': 'volume'}}},\n",
       "   'RecommenderTrain': {'env': {'HP_FINAL_LR': '0.1', 'HP_FINAL_EPOCHS': '50'},\n",
       "    'uses': 'script@v1',\n",
       "    'with': {'image': 'tensorflow/tensorflow:2.4.1-jupyter',\n",
       "     'script': 'cp -R /inputs/repoRec /Deep-Learning-Recommender-TF\\ncd /Deep-Learning-Recommender-TF\\npython workflow_train_model.py'},\n",
       "    'needs': ['CloneRecRepo'],\n",
       "    'inputs': {'repoRec': 'CloneRecRepo.outputs.repoRec'},\n",
       "    'outputs': {'trainedRecommender': {'type': 'dataset',\n",
       "      'with': {'ref': 'recommender'}}}}},\n",
       "  'defaults': {'env': {'PAPERSPACE_API_KEY': 'secret:api_key_recommender'},\n",
       "   'resources': {'instance-type': 'P4000'}}},\n",
       " 'status': {'phase': 'SUBMITTING',\n",
       "  'logId': 'wfr5574a82d07a24e11ac423cdfbefdd042',\n",
       "  'jobs': {'RecommenderTrain': {'phase': 'SUBMITTING',\n",
       "    'logId': 'wfrjaa920d9c0be743f592b8b11f91083c30',\n",
       "    'outputs': {'trainedRecommender': {'dataset': {'id': 'recommender:5vvsad5',\n",
       "       'isCommitted': False}}}},\n",
       "   'CloneRecRepo': {'phase': 'SUBMITTING',\n",
       "    'logId': 'wfrjd8d8078fe7af47529d389ac51296e43f'}}}}"
      ]
     },
     "execution_count": 64,
     "metadata": {},
     "output_type": "execute_result"
    }
   ],
   "source": [
    "workflow_run_train"
   ]
  },
  {
   "cell_type": "markdown",
   "metadata": {
    "gradient": {
     "editing": false,
     "id": "d90faa00-42b0-4e16-9f98-49972bfa1065",
     "kernelId": ""
    }
   },
   "source": [
    "Like most Gradient functionality, invoking the Workflow from the GUI or SDK has an equivalent in the command line. Here we don't run it, since it would just rerun the same computation, but for reference, it is:\n",
    "\n",
    "`gradient workflows run \\`  \n",
    "`  --id <workflow_id_train> \\`  \n",
    "`  --clusterId <cluster_id> \\`  \n",
    "`  --path <path_to_yaml_file>`\n",
    "\n",
    "i.e., like\n",
    "\n",
    "`gradient workflows run \\`  \n",
    "` --id 6789abcd-01ef-23gh-45ij-678901klmnop \\`  \n",
    "` --clusterId cdefghijk \\`  \n",
    "` --path ./workflow-train-model.yaml`\n",
    "  \n",
    "There are other parameters available which we did not use here. See the [API documentation on Workflows](https://paperspace.github.io/gradient-cli/gradient.api_sdk.clients.html#module-gradient.api_sdk.clients.workflow_client) for information on those, and the [command line](https://paperspace.github.io/gradient-cli/gradient.cli.html) section under Workflows for more on CLI equivalents."
   ]
  },
  {
   "cell_type": "markdown",
   "metadata": {
    "gradient": {
     "editing": false,
     "id": "c5d2d13f-e009-412b-93ff-245d86072700",
     "kernelId": ""
    }
   },
   "source": [
    "# NOT YET SUPPORTED HERE TO END\n",
    "\n",
    "Section 5 is pending support of model deployment from Workflows, and availability of deployments on public clusters. These will both be available circa Q4 2021, so we show the rest of the Notebook for completeness, but it will not yet run correctly."
   ]
  },
  {
   "cell_type": "markdown",
   "metadata": {
    "gradient": {
     "editing": false,
     "id": "f877ab80-f6b1-4fb9-802f-6ede6cc0de0b",
     "kernelId": ""
    },
    "id": "Wf7US2o2LYDL"
   },
   "source": [
    "## 5: Deploy the final model\n",
    "\n",
    "A major part of any production data science end-to-end dataflow is that the trained model must be deployed so that it can generate output on new data being fed to it (inference). Many enterprise projects fail at the production stage, even if a model was successfully trained and showed good performance.\n",
    "\n",
    "In this project, the necessity of using a lower level model representation, i.e., the subclassing API, for recommender systems also adds to the potential complexity of deployment. Solving many real business problems will also require the subclassing API because of some custom requirement or business logic, and face similar issues.\n",
    "\n",
    "While it is possible to take one or more of the models generated from the notebook in sections 4.1 and 4.2 above, and then setup TensorFlow Serving to deploy, the process is so much easier on Gradient that we do not attempt this, and instead go directly to deploying the final model from section 4.3.\n",
    "\n",
    "In an enterprise production system, after model deployment comes dealing with model output to make it actionable to the business, model monitoring (especially for concept / data / model drift), retraining or updating the model when it does drift, and periodic updates with stakeholders to be sure the model is still being used and providing value. Some of these are mentioned again in the appendices below regarding improvements to the analysis and extensions to the project."
   ]
  },
  {
   "cell_type": "markdown",
   "metadata": {
    "gradient": {
     "editing": false,
     "id": "a2fae2df-55dd-488d-936c-7a0549b47466",
     "kernelId": ""
    }
   },
   "source": [
    "### 5.1: Create and start model deployment using Workflows\n",
    "\n",
    "Running `workflow_train_model.py` from section 4.3 above produces a saved model, which we will deploy here.\n",
    "\n",
    "For reference, the lines in the Workflow's `workflow_train_model.py` to save the model are the standard `model.save` form from TensorFlow. The output directory is the location specified in the `workflow-train-model.yaml` file\n",
    "\n",
    "`export_path = '/outputs/trainedRecommender'`  \n",
    "`print('export_path = {}\\n'.format(export_path))`  \n",
    "`model_tr.save(export_path)`\n",
    "\n",
    "Viewing this in the GUI, one can see that the model is on disk and has the usual TensorFlow SavedModel structure:\n",
    "\n",
    " - `saved_model.pb` = code for the model, including its architecture\n",
    " - `variables/` = trained model weights\n",
    " - `assets/` = internal information for restoring the model if needed, here empty so not shown. An example would be a text file for initializing a vocabulary.\n",
    " \n",
    "The model is present and ready to be deployed. The process is similar to running the training, and shows the advantage of using this setup: the machine, cluster configuration, and container are all already available, and the deployments will be organized and versioned similar to how the models are.\n",
    "\n",
    "As with the training, there is a corresponding YAML file, `workflow-deploy-model.yaml` that here contains 3 jobs: `UploadModel`, `CreateDeployment`, and `StartDeployment`. `UploadModel` accesses the desired model version and makes it accessible to the Workflow, then create and start are separate steps since in general not all created deployments will want to be started immediately, and a deployment may want to be stopped without being deleted.\n",
    "\n",
    "Unlike the training, in the deployment here, a further `.py` Python script is not needed.\n",
    "\n",
    "As with training, there are more parameters available, as described in the [API documentation for deployment creation](https://paperspace.github.io/gradient-cli/gradient.api_sdk.clients.html#module-gradient.api_sdk.clients.deployment_client)."
   ]
  },
  {
   "cell_type": "code",
   "execution_count": null,
   "metadata": {
    "gradient": {
     "editing": false,
     "id": "b6900355-0727-4417-8226-86436fe7e62b",
     "kernelId": ""
    }
   },
   "outputs": [],
   "source": [
    "spec_path = './workflow-deploy-model.yaml'\n",
    "\n",
    "yaml_spec = open(spec_path, 'r')\n",
    "deploy_spec = yaml.safe_load(yaml_spec)\n",
    "\n",
    "workflow_param_deploy = {\n",
    "    'workflow_id' : workflow_id_deploy,\n",
    "    'spec': deploy_spec,\n",
    "    'inputs': None\n",
    "}\n",
    "\n",
    "workflow_run_deploy = workflows_client.run_workflow(**workflow_param_deploy)"
   ]
  },
  {
   "cell_type": "markdown",
   "metadata": {
    "gradient": {
     "editing": false,
     "id": "f91af6df-7611-40a2-9aef-05ddbf30af27",
     "kernelId": ""
    }
   },
   "source": [
    "As with training, we can view the deployment details."
   ]
  },
  {
   "cell_type": "code",
   "execution_count": null,
   "metadata": {
    "gradient": {
     "editing": false,
     "id": "263b3d65-9531-4f0f-83b8-a27f9f7e0228",
     "kernelId": ""
    }
   },
   "outputs": [],
   "source": [
    "workflow_run_deploy"
   ]
  },
  {
   "cell_type": "markdown",
   "metadata": {
    "gradient": {
     "editing": false,
     "id": "3c3d6b9b-a66f-48d6-a2ad-e884d4eb6525",
     "kernelId": ""
    }
   },
   "source": [
    "### 5.2: Send predictions to the model\n",
    "\n",
    "When a model is deployed with Gradient Deployments (or TensorFlow Serving), there is a choice between using the Google gRPC API and the http [REST API](https://www.tensorflow.org/tfx/serving/api_rest#predict_api).\n",
    "\n",
    "Here, we use the REST API.\n",
    "\n",
    "With this API, to send new data (requests) to the deployed model, and have it return predicted movie ratings for that data (predictions), the requests must be formatted as JSON rather than TensorFlow tensors. So we can't just use the same format as the loaded TFDS dataset, or the `cached_train` that we passed in during training above.\n",
    "\n",
    "As a reminder, the raw data loaded in looked like this:"
   ]
  },
  {
   "cell_type": "code",
   "execution_count": null,
   "metadata": {
    "colab": {
     "base_uri": "https://localhost:8080/"
    },
    "gradient": {
     "editing": false,
     "id": "6fd3fc17-be81-4d94-a3f6-a1b9605b5e6f",
     "kernelId": ""
    },
    "id": "pFn7DEMhLGHj",
    "outputId": "6c0bef38-87d7-4f8d-a390-7ec83d8116dd"
   },
   "outputs": [],
   "source": [
    "for x in ratings_raw.take(2).as_numpy_iterator():\n",
    "    pprint.pprint(x)"
   ]
  },
  {
   "cell_type": "markdown",
   "metadata": {
    "gradient": {
     "editing": false,
     "id": "e7996bc6-eba5-48f8-8f46-a504730c7362",
     "kernelId": ""
    },
    "id": "WM0-SD87Leza"
   },
   "source": [
    "and the data passed to the model during training looked like this:"
   ]
  },
  {
   "cell_type": "code",
   "execution_count": null,
   "metadata": {
    "colab": {
     "base_uri": "https://localhost:8080/"
    },
    "gradient": {
     "editing": false,
     "id": "8934b224-1d97-4b0f-b76f-2632c7b2920c",
     "kernelId": ""
    },
    "id": "2mKEL5fYLiPO",
    "outputId": "f8260544-0980-45a2-c2d6-79e1056e2f2b"
   },
   "outputs": [],
   "source": [
    "for x in cached_train.take(2).as_numpy_iterator():\n",
    "    pprint.pprint(x)"
   ]
  },
  {
   "cell_type": "markdown",
   "metadata": {
    "gradient": {
     "editing": false,
     "id": "cac357c5-09b9-4016-a8fc-ac3092acebe2",
     "kernelId": ""
    },
    "id": "dki19It0KzXR"
   },
   "source": [
    "But for JSON, the data needs to look more like this:\n",
    "\n",
    "```\n",
    "{\n",
    " \"instances\": [\n",
    "   {\n",
    "     \"tag\": \"foo\",\n",
    "     \"signal\": [1, 2, 3, 4, 5],\n",
    "     \"sensor\": [[1, 2], [3, 4]]\n",
    "   },\n",
    "   {\n",
    "     \"tag\": \"bar\",\n",
    "     \"signal\": [3, 4, 1, 2, 5]],\n",
    "     \"sensor\": [[4, 5], [6, 8]]\n",
    "   }\n",
    " ]\n",
    "}\n",
    "```\n",
    "\n",
    "From [the TFX API page](https://www.tensorflow.org/tfx/serving/api_rest#specifying_input_tensors_in_row_format): \"For multiple named inputs, each item is expected to be an object containing input name/tensor value pair, one for each named input. ... a request with two instances, each with a set of three named input tensors\".\n",
    "\n",
    "To create JSON-formatted data, the easiest way at the scale of data in this notebook is to use Python's json module. Then to send it, the requests module is used to enable it to be sent to the REST API via POST."
   ]
  },
  {
   "cell_type": "code",
   "execution_count": null,
   "metadata": {
    "gradient": {
     "editing": true,
     "id": "a6c8c79e-82c4-4589-b50b-6b6ef8ff0a9c",
     "kernelId": ""
    },
    "id": "tjvE00XnPtRP"
   },
   "outputs": [],
   "source": [
    "import requests\n",
    "import json"
   ]
  },
  {
   "cell_type": "markdown",
   "metadata": {
    "gradient": {
     "editing": false,
     "id": "fab34b0c-ce6a-4444-89aa-68eeccd8c085",
     "kernelId": ""
    },
    "id": "wRUt3IqsND5k"
   },
   "source": [
    "The correct format of a some data rows (instances) then looks like this:"
   ]
  },
  {
   "cell_type": "code",
   "execution_count": null,
   "metadata": {
    "gradient": {
     "editing": false,
     "id": "227dac03-4424-4ece-bf9d-0e6e32e4c61e",
     "kernelId": ""
    },
    "id": "s0MOEitGXtaM"
   },
   "outputs": [],
   "source": [
    "test_rows_1 = {'movie_title': 'Devils Advocate, The (1997)',\n",
    " 'timestamp': 892870992,\n",
    " 'user_id': '587'}\n",
    "\n",
    "test_rows_2 = {'movie_title': 'Donnie Brasco (1997)',\n",
    " 'timestamp': 891499278,\n",
    " 'user_id': '782'}\n",
    "\n",
    "test_rows_3 = {'movie_title': 'Craft, The (1996)',\n",
    " 'timestamp': 891700850,\n",
    " 'user_id': '280'}"
   ]
  },
  {
   "cell_type": "markdown",
   "metadata": {
    "gradient": {
     "editing": false,
     "id": "9008316e-b2f5-463a-8d80-df2d4a87c570",
     "kernelId": ""
    },
    "id": "GcIMvYUlNNIa"
   },
   "source": [
    "And it can be converted to JSON with .dumps (dump string), with the instances as a list."
   ]
  },
  {
   "cell_type": "code",
   "execution_count": null,
   "metadata": {
    "colab": {
     "base_uri": "https://localhost:8080/",
     "height": 69
    },
    "gradient": {
     "editing": false,
     "id": "d6279a5b-44f3-4efc-a54f-af5c570c3c2c",
     "kernelId": ""
    },
    "id": "OYHYMjEPM56U",
    "outputId": "b5b1d6b6-a8ea-45a2-8585-837924748186"
   },
   "outputs": [],
   "source": [
    "data = json.dumps({'signature_name': 'serving_default', 'instances': [test_rows_1, test_rows_2, test_rows_3]})\n",
    "data"
   ]
  },
  {
   "cell_type": "markdown",
   "metadata": {
    "gradient": {
     "editing": false,
     "id": "7290f223-cc62-4887-bcb6-cd95d934697f",
     "kernelId": ""
    },
    "id": "uW5bnvRTNU_j"
   },
   "source": [
    "Then the data can be sent to the deployed model via POST, and the returned output extracted from the full response by `.json()`. We can get the model's endpoint from the deployment properties, as shown above."
   ]
  },
  {
   "cell_type": "code",
   "execution_count": null,
   "metadata": {
    "colab": {
     "base_uri": "https://localhost:8080/"
    },
    "gradient": {
     "editing": false,
     "id": "786844f4-f120-44a0-b20f-e664e576d138",
     "kernelId": ""
    },
    "id": "ry8Qk0roM59h",
    "outputId": "ad54ad32-2381-475c-c4a3-5cc49128748f"
   },
   "outputs": [],
   "source": [
    "endpoint = deployment[0].endpoint\n",
    "headers = {'content-type': 'application/json'}\n",
    "json_response = requests.post(endpoint, data=data, headers=headers)\n",
    "pprint.pprint(json_response.json(), compact=True)"
   ]
  },
  {
   "cell_type": "markdown",
   "metadata": {
    "gradient": {
     "editing": false,
     "id": "05a7020f-c9f7-4940-b6bf-ac8563af93fe",
     "kernelId": ""
    },
    "id": "Cys2R1B0Nwz4"
   },
   "source": [
    "As with `.predict()` in training above, this has returned both the embeddings and the predictions. We can also extract just the predictions."
   ]
  },
  {
   "cell_type": "code",
   "execution_count": null,
   "metadata": {
    "colab": {
     "base_uri": "https://localhost:8080/"
    },
    "gradient": {
     "editing": false,
     "id": "87524732-ca53-4734-a544-ef1afa4a33b7",
     "kernelId": ""
    },
    "id": "-VV6ZKFuZHNt",
    "outputId": "79cd51bb-2624-4985-a00e-3572cbebaaa5"
   },
   "outputs": [],
   "source": [
    "predictions = json.loads(json_response.text)['predictions']\n",
    "\n",
    "print(predictions[0]['output_3'])\n",
    "print(predictions[1]['output_3'])\n",
    "print(predictions[2]['output_3'])"
   ]
  },
  {
   "cell_type": "markdown",
   "metadata": {
    "gradient": {
     "editing": false,
     "id": "d863b194-c567-48fa-be74-dfe7d73c9366",
     "kernelId": ""
    },
    "id": "0SFYXBQ9NzUj"
   },
   "source": [
    "One thing to note about the above of course is that we wrote the example lines of new data here to send to the model, instead of loading them. This could be improved by, say loading more data from TFDS. In this particular case, more steps would be required in converting the byte-encoded fields into the above format before passing to JSON, because byte-encoded fields are not JSON serializable."
   ]
  },
  {
   "cell_type": "markdown",
   "metadata": {
    "gradient": {
     "editing": false,
     "id": "9b0c261b-2a80-4662-8b73-1538b603e1ba",
     "kernelId": ""
    }
   },
   "source": [
    "### 5.3: Stop deployment\n",
    "\n",
    "Once we are done with the deployment, we can stop it again to avoid leaving it consuming compute resources."
   ]
  },
  {
   "cell_type": "code",
   "execution_count": null,
   "metadata": {
    "gradient": {
     "editing": false,
     "id": "947d7b52-8985-430b-897d-f8d029115101",
     "kernelId": ""
    }
   },
   "outputs": [],
   "source": [
    "deployments_client.stop(deployment_id)"
   ]
  },
  {
   "cell_type": "markdown",
   "metadata": {
    "gradient": {
     "editing": false,
     "id": "1c2ceec6-2b58-4c08-b9c7-5da637595392",
     "kernelId": ""
    },
    "id": "tAE5YcD_IW0u"
   },
   "source": [
    "## 6: Conclusions\n",
    "\n",
    "We have shown an end-to-end example of deep learning recommender models in TensorFlow, using the TensorFlow Recommenders (TFRS) library, and the implementation of this using Paperspace Gradient.\n",
    "\n",
    "The main takeaways are:\n",
    "\n",
    " - We showed a real-world-style example of machine learning on Gradient\n",
    " - This is within an end-to-end dataflow incorporating both Gradient Notebooks and Workflows\n",
    " - Modern data science methodology based on Gradient's integrations with Git was used\n",
    " - We used TensorFlow 2 and TensorFlow Recommenders (TFRS) to train a recommender model that includes deep learning\n",
    " - We used training data that reflects what real-world projects deal with (not just demo data)\n",
    " - We constructed a custom model using the full TensorFlow subclassing API\n",
    " - Feature engineering and hyperparameter tuning improved model performance versus a basic model (RMSE between predicted and user ratings from ~ 1.1 to ~ 1)\n",
    " - The model was deployed using Gradient Deployments and its TensorFlow Serving integrations\n",
    " - Accompanying material is available: the 6 part blog series, and Git repository\n",
    " - We have aimed at a broad technical audience: data scientists who are not engineers, engineers who are not data scientists, those who span the two disciplines, and others\n",
    "\n",
    "The project is not a complete enterprise-grade recommender system: they would typically take teams of several people months to construct, but it aims to be more than just a simple demonstration or toy model, by showcasing real data science techniques."
   ]
  },
  {
   "cell_type": "markdown",
   "metadata": {
    "gradient": {
     "editing": false,
     "id": "03ae4fe8-bcd6-43ec-8ac5-e78a84554300",
     "kernelId": ""
    },
    "id": "efApI0Ii6srB"
   },
   "source": [
    "# Next steps\n",
    "\n",
    "Now that you have seen recommender systems, deep learning, and Paperspace Gradient, if you are interested in taking some next steps, some options are:\n",
    "\n",
    " - Sign up for [Paperspace](https://paperspace.com), if not done already\n",
    " - Run this notebook on [Gradient](https://gradient.paperspace.com), if not done already\n",
    " - Read the accompanying [blog series](https://blog.paperspace.com) to this notebook\n",
    " - See more projects on our [ML Showcase](https://ml-showcase.paperspace.com)\n",
    " - View the Gradient [documentation](https://docs.paperspace.com) or [API reference](https://paperspace.github.io/gradient-cli)\n",
    " - Learn more about recommenders at [TFRS](https://www.tensorflow.org/recommenders)\n",
    " - Check out more links and references in the [final part]() of the blog\n",
    " - [Contact sales](https://info.paperspace.com/contact-sales)"
   ]
  },
  {
   "cell_type": "markdown",
   "metadata": {
    "gradient": {
     "editing": false,
     "id": "65574fe3-57e5-4507-a8c6-fe9723fe1281",
     "kernelId": ""
    },
    "id": "Flxm19Sos2Xz"
   },
   "source": [
    "# Appendices\n",
    "\n",
    "These show ways the project can be extended, either generically, or in ways specifically aided by Paperspace Gradient."
   ]
  },
  {
   "cell_type": "markdown",
   "metadata": {
    "gradient": {
     "editing": false,
     "id": "71f3537d-c887-4b5c-86d2-4e0854304da1",
     "kernelId": ""
    },
    "id": "z2-iK1-LHo-1"
   },
   "source": [
    "## Appendix 1: Improvements to the analysis\n",
    "\n",
    "These are some ways that the analysis could be improved while telling the same story. These are given in the order in which they would appear in the dataflow.\n",
    "\n",
    "They are relatively briefly described here. For more details, see the final part of the blog.\n",
    "\n",
    "A few minor detail improvements were also included in various code comments throughout the notebook.\n",
    "\n",
    " - Add more to the business story: here it is showing the generic concept of a deep learning recommender improving upon a basic model, but it is not translated into specific quantified business value for a given use case.\n",
    " - Use a bigger dataset: Aside from movielens-100k, the available datasets include 1M, 20M, and 25M. 20M and 25M contain less demographic information but still include user ratings.\n",
    " - Data larger than 25M can be produced via simulation if we wish to show scaling to bigger sizes, e.g., the [original MovieLens site](https://grouplens.org/datasets/movielens) contains a synthetic dataset called MovieLens-1B, which can go to numbers of interactions in the billions.\n",
    " - Add data exploration for information and sanity checking.\n",
    " - Use more [features](https://www.tensorflow.org/recommenders/examples/featurization) and [context](https://www.tensorflow.org/recommenders/examples/context_features) from the dataset to improve model performance, including preprocessing with word embedding, text tokenization, normalizaton of numerical values, and timestamps.\n",
    " - Feature selection / engineering, e.g., day of week or time of day.\n",
    " - Hyperparameter tuning improvements noted in section 4.2 above.\n",
    " - Turning metric calculation off in training for [retrieval models](https://www.tensorflow.org/recommenders/examples/basic_retrieval) (compute_metrics in task as False) can make training faster.\n",
    " - Examine the model output predicted ratings in more detail - most are currently around 3-4, and since most reviews are 3-5 out of 5, just saying 3.5ish every time might give the best RMSE.\n",
    " - Remove all randomness in execution of the ML models, making their results exactly reproducible. This may not be possible in some environments such as a distributed system.\n",
    " - Use Paperspace's GPU instances for faster training of large models."
   ]
  },
  {
   "cell_type": "markdown",
   "metadata": {
    "gradient": {
     "editing": false,
     "id": "67d905f8-c1e5-40bb-a48f-ec8b7d158dfe",
     "kernelId": ""
    },
    "id": "q3ltn-uGIGkU"
   },
   "source": [
    "## Appendix 2: Extensions to the project\n",
    "\n",
    "These are possible extensions to the analysis that would add to the story, again in approximate dataflow order.\n",
    "\n",
    "### Generic\n",
    "\n",
    " - Address [fairness, bias, etc.](https://www.tensorflow.org/tfx/guide/fairness_indicators), in feature selection and model training.\n",
    " - Show dealing with missing data and out-of-vocabulary categoricals.\n",
    " - Show improving performance via [feature crosses](https://www.tensorflow.org/recommenders/examples/dcn).\n",
    " - Add the retrieval model and hence a [combined model](https://www.tensorflow.org/recommenders/examples/multitask) for both retrieval and ranking.\n",
    " - Show dealing with the \"cold start\" problem of what to recommend to a new user who hasn't watched any movies but whose information we possess.\n",
    " - Use data from common tasks to help model rarer tasks via transfer learning.\n",
    " - Add an option to exclude already-watched shows or movies from a user's recommendations, or add extra variety versus the baseline choices.\n",
    " - Visualize the trained model with TensorBoard or [TFMA](https://www.tensorflow.org/tfx/model_analysis/metrics).\n",
    " - Provide [explanations](https://www.tensorflow.org/recommenders/examples/dcn) for the models' choices of recommendations.\n",
    " - For retrieval, deploy with [ScaNN approximate nearest neighbors](https://www.tensorflow.org/recommenders/examples/efficient_serving) to speed up model inference. Tune the layer for better performance/accuracy tradeoff.\n",
    " - Monitor the deployed model for drift and/or anomalies using a monitoring tool.\n",
    "\n",
    "### Paperspace Gradient-specific\n",
    "\n",
    " - Show the relation between working in Notebooks, Workflows, and Gradient's GradientCI GitHub integration capabilities, e.g., versioning of notebooks, when they are supported by Workflows.\n",
    " - Show getting the data from somewhere that is not TensorFlow's prepackaged datasets (TFDS), that Gradient easily connects to, e.g., Amazon S3.\n",
    " - Show distributed training with Gradient's multinode capability.\n",
    " - Combine multinode, GPU, and GradientCI to show distributed GPU training that follows good versioning practices and GitHub integration.\n",
    " - Show full specification of the end-to-end data flow (software, versions, licenses, security) in a way that makes it easy for an enterprise IT department to approve it.\n",
    " - Show production of an audit trail from the end-to-end process, making it auditable and hence FAccT (fair, accountable, and transparent).\n",
    " - Show how other users can query the deployed model.\n",
    " - Show retraining being triggered with Gradient's jobs function, e.g., if deployed model has drifted.\n",
    " - Show rollback to an earlier deployed model.\n",
    " - Show a GUI application (e.g., Streamlit) that accesses the deployed model's API endpoint, making its functionality accessible to non-technical as well as technical users."
   ]
  }
 ],
 "metadata": {
  "colab": {
   "collapsed_sections": [
    "tnDTzpDQ_hUS",
    "tAE5YcD_IW0u",
    "efApI0Ii6srB"
   ],
   "name": "deep_learning_recommender_tf.ipynb",
   "provenance": [],
   "toc_visible": true
  },
  "kernelspec": {
   "display_name": "Python 3",
   "language": "python",
   "name": "python3"
  },
  "language_info": {
   "codemirror_mode": {
    "name": "ipython",
    "version": 3
   },
   "file_extension": ".py",
   "mimetype": "text/x-python",
   "name": "python",
   "nbconvert_exporter": "python",
   "pygments_lexer": "ipython3",
   "version": "3.6.9"
  }
 },
 "nbformat": 4,
 "nbformat_minor": 4
}
