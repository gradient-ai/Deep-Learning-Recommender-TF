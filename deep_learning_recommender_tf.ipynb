{
 "cells": [
  {
   "cell_type": "markdown",
   "metadata": {},
   "source": [
    "# TO DO\n",
    "\n",
    "Any items marked in the below content as TODO need to be done before this notebook is made public (e.g., removing my user credentials/settings used while writing/testing it; won't run past step in section 5 to use started deployment until that is supported)."
   ]
  },
  {
   "cell_type": "markdown",
   "metadata": {
    "id": "1zKrxVlfnqvM"
   },
   "source": [
    "# Deep Learning Recommenders in TensorFlow\n",
    "\n",
    "Dr. Nick Ball  \n",
    "Data-Scientist-in-Residence, Paperspace\n",
    "\n",
    "Last updated: Jun 11th 2021\n",
    "\n",
    "This self-contained notebook shows the use of Paperspace Gradient to implement a recommender system using TensorFlow. It accompanies the 6-part blog series \"Gradient End-to-End: A Recommender System using Notebooks and Workflows\" on the [Paperspace blog](https://blog.paperspace.com), and the associated [Git Repository](https://github.com/gradient-ai/Deep-Learning-Recommender-TF).\n",
    "\n",
    "**TODO**: Link blog title to part 1 entry if we can\n",
    "\n",
    "The project includes these main highlights:\n",
    "\n",
    "1. Show a real-world-style example of machine learning on Gradient\n",
    "2. End-to-end dataflow incorporating both Gradient Notebooks and Workflows\n",
    "3. Modern data science methodology based on Gradient's integrations with Git\n",
    "4. Use TensorFlow 2 and TensorFlow Recommenders (TFRS) to train a recommender model that includes deep learning\n",
    "5. Use training data that reflects what real-world projects deal with (not just demo data)\n",
    "6. Construct a custom model using the full TensorFlow subclassing API\n",
    "7. Show working hyperparameter tuning that improves the results\n",
    "8. Deploy model using Gradient Deployments and its TensorFlow Serving integrations\n",
    "9. Accompanying material: self-contained working Jupyter notebook, and Git repository\n",
    "10. Aimed at a broad technical audience: data scientists who are not engineers, engineers who are not data scientists, those who span the two disciplines, and others\n",
    "\n",
    "The project is not a complete enterprise-grade recommender system: they would typically take teams of several people months to construct, and result in an amount of code far greater than shown here, but it aims to be more than just a simple demonstration or toy model, by showcasing real data science techniques. In the Appendix we discuss some of the steps one might take to go from the project here to a full system, with a focus on Gradient's capabilities.\n",
    "\n",
    "We assume the reader of this notebook is somewhat technical, but not necessarily an expert in recommender systems, deep learning, TensorFlow, or Paperspace."
   ]
  },
  {
   "cell_type": "markdown",
   "metadata": {},
   "source": [
    "### Requirements\n",
    "\n",
    " - The notebook is designed to run on Paperspace Gradient\n",
    " - Accessing the project from Gradient will start the notebook in a container that contains the correct dependencies\n",
    "\n",
    "Alternatively, you can clone the Git repo and run in your own notebook setup\n",
    "\n",
    " - `git clone https://github.com/gradient-ai/Deep-Learning-Recommender-TF.git` (the repo is public, so Git's ssh command form is not required)\n",
    " - Be able to run Python 3, and import modules as in section 2 below: Matplotlib, NumPy, TensorFlow 2, TFDS, TFRS\n",
    " - We use some notebook cell magic lines, such as `%matplotlib`"
   ]
  },
  {
   "cell_type": "markdown",
   "metadata": {},
   "source": [
    "### Additional requirements to run Gradient Workflows and model deployment (sections 4.3+)\n",
    "\n",
    "In addition to the above, to run the Gradient Workflows in section 4.3 and the model deployment in section 5 requires some more setup. This is because the Workflows product is still in a beta state.\n",
    "\n",
    "These steps will go away as the product matures around Workflows:\n",
    "\n",
    " - Use or create a [Gradient Private Cluster](https://docs.paperspace.com/gradient/gradient-private-cloud/about/setup/managed-installation) and [get its ID](https://docs.paperspace.com/gradient/gradient-private-cloud/about/usage#finding-your-cluster-id)\n",
    " - [Create the two workflows](https://docs.paperspace.com/gradient/explore-train-deploy/workflows/getting-started-with-workflows#creating-gradient-workflows) via the GUI or the [command line interface](https://docs.paperspace.com/gradient/get-started/quick-start/install-the-cli) (CLI) and [get their IDs](https://docs.paperspace.com/gradient/explore-train-deploy/workflows/getting-started-with-workflows#running-your-first-workflow-run)\n",
    " - [Create output datasets](https://docs.paperspace.com/gradient/data/data-overview/private-datasets-repository#creating-a-dataset-and-dataset-version) for the two workflows\n",
    " - [Import a placeholder file](https://docs.paperspace.com/gradient/data/data-overview/private-datasets-repository#creating-a-dataset-and-dataset-version) into each created output dataset\n",
    "\n",
    "These requirements will remain, being associated with Workflows as the enterprise-grade production part of Gradient:\n",
    "\n",
    " - [Create a project](https://docs.paperspace.com/gradient/get-started/managing-projects#create-a-project) and [get its ID](https://docs.paperspace.com/gradient/get-started/managing-projects#get-your-projects-id)\n",
    " - [Generate an API key](https://docs.paperspace.com/gradient/get-started/quick-start/install-the-cli#obtaining-an-api-key) for your project to allow access\n",
    " - [Store the API key](https://docs.paperspace.com/gradient/get-started/managing-projects/storing-an-api-key-as-a-secret) as a secret in your project\n",
    " \n",
    "One thing that is *not* required for this project, even in the current beta state, is any setup on your own machine (unless you choose to use the CLI). This is because the Workflows are invoked from this notebook, via the SDK."
   ]
  },
  {
   "cell_type": "markdown",
   "metadata": {},
   "source": [
    "### Format of notebook text\n",
    "\n",
    "The main text is shown as MarkDown, like this."
   ]
  },
  {
   "cell_type": "code",
   "execution_count": 1,
   "metadata": {},
   "outputs": [],
   "source": [
    "# Optional extra information is in cell comments, like this."
   ]
  },
  {
   "cell_type": "markdown",
   "metadata": {},
   "source": [
    "### Recommenders\n",
    "\n",
    "Recommender systems are widely used in modern artificial intelligence, most prominently in retail and entertainment content. However, many of these systems in businesses still use classical methods such as matrix factorization that may not capture all of the information now available.\n",
    "\n",
    "The addition of the fully nonlinear mappings allowed by machine learning, for example deep learning neural network layers, can improve the performance of recommender systems by both capturing more of the complex patterns of information that are present, and by making it easier to add new information in the form of further data feature columns, such as detailed text descriptions or reviews, multiple user and item information columns, or timestamps.\n",
    "\n",
    "Here, we use the new TensorFlow Recommenders library to show how the addition of deep learning to a recommender model improves its performance."
   ]
  },
  {
   "cell_type": "markdown",
   "metadata": {
    "id": "VAsFUrkgyYAu"
   },
   "source": [
    "# Contents\n",
    "\n",
    "1. Introduction: Recommender systems and deep learning\n",
    "2. Setup\n",
    "3. Preparing the dataset\n",
    "4. Build the recommender models\n",
    "5. Deploy the final model\n",
    "6. Conclusions\n",
    "\n",
    "Next Steps  \n",
    "Appendices"
   ]
  },
  {
   "cell_type": "markdown",
   "metadata": {
    "id": "tnDTzpDQ_hUS"
   },
   "source": [
    "## 1: Introduction: Recommender systems and deep learning\n",
    "\n",
    "A good way to describe most recommender systems is:\n",
    "\n",
    "*Present suggested new items to a user that users similar to them already liked.*\n",
    "\n",
    "This is on the assumption that if users similar to them liked something, there is a better-than-random chance that they will like it too.\n",
    "\n",
    "The short sentence above involves several concepts, including information about a user, how to measure if they are similar to another user, what items the other users liked, how to choose candidate items to present from the whole list, and how to rank those choices.\n",
    "\n",
    "(There are further ideas as well, such as whether a user rated an item explicitly or just implicitly liked it by watching or buying it, and using other similarities such as item-item as well as user-user similarity.)\n",
    "\n",
    "Here, we use the well-known MovieLens dataset, containing information about which movies users watched, along with details of the movies, the users, and the times of viewing. The idea is to present to a user suggested movies that they might like to watch next.\n",
    "\n",
    "While not a huge modern dataset with millions of viewings from millions of users, it has been widely used, and is \"real enough\" to show both how deep learning can improve recommender models, and how to set up and end-to-end data science workflow.\n",
    "\n",
    "The content of this notebook is based on the tutorials of the [TensorFlow Recommenders (TFRS) library](https://www.tensorflow.org/recommenders), modified to include more real-world data science steps, and showing a model being deployed into production.\n",
    "\n",
    "As described there, recommender models commonly consist of two parts:\n",
    "\n",
    " - Retrieval, which selects possible candidates from the whole list of items that could be recommended, in this case being movies the user might be interested in\n",
    " - Ranking, which narrows down this list to a refined set of items to recommend\n",
    "\n",
    "We concentrate on the ranking portion, showing how the addition of deep learning layers, data features, and hyperparameter tuning, improves the performance of the model.\n",
    "\n",
    "We then show how the resulting model can be easily deployed with Gradient Deployments.\n",
    "\n",
    "The concentration on just one part of the models to be built is so that we can show more fully realized data science steps, the end-to-end process using both Gradient Notebooks and Workflows, and some of the corresponding functionaity, without the project becoming overly long or repetitive."
   ]
  },
  {
   "cell_type": "markdown",
   "metadata": {
    "id": "3EeRY5DQI5VV"
   },
   "source": [
    "## 2: Setup\n",
    "\n",
    "This project uses [TensorFlow Datasets (TFDS)](https://www.tensorflow.org/datasets) and the TensorFlow Recommenders library (TFRS) in addition to the basic TensorFlow 2 and Python 3.\n",
    "\n",
    "TFRS was created as a separate library because recommender systems typically do not correspond to the simple setup of supervised learning models, but have a more complex arrangement of processing steps associated with them. So rather than using a few layers in the high-level TensorFlow Keras Sequential or [Functional](https://www.tensorflow.org/guide/keras/functional) APIs, they need the custom model and custom layer setup in the lower level representation of writing the model classes and subclasses directly.\n",
    "\n",
    "However, recommenders do contain their own common components, such as the FactorizedTopK performance metric for retrieval, that mean usage of a library is considerably more convenient than writing something from scratch in TensorFlow.\n",
    "\n",
    "We use TensorFlow Datasets as the emphases in this project are recommenders, Gradient functionality, end-to-end, and showing some model tuning, rather than data gathering, cleaning, and preparation. Of course, in a full enterprise system this would be a more prominent aspect of the dataflow.\n",
    "\n",
    "Let's install TFDS, TFRS, and import these and the Python modules that we need."
   ]
  },
  {
   "cell_type": "code",
   "execution_count": 2,
   "metadata": {
    "id": "9gG3jLOGbaUv"
   },
   "outputs": [
    {
     "name": "stdout",
     "output_type": "stream",
     "text": [
      "/usr/lib/python3/dist-packages/secretstorage/dhcrypto.py:15: CryptographyDeprecationWarning: int_from_bytes is deprecated, use int.from_bytes instead\n",
      "  from cryptography.utils import int_from_bytes\n",
      "/usr/lib/python3/dist-packages/secretstorage/util.py:19: CryptographyDeprecationWarning: int_from_bytes is deprecated, use int.from_bytes instead\n",
      "  from cryptography.utils import int_from_bytes\n",
      "Requirement already satisfied: pip in /usr/local/lib/python3.6/dist-packages (21.1.2)\n",
      "\u001b[33mWARNING: Running pip as root will break packages and permissions. You should install packages reliably by using venv: https://pip.pypa.io/warnings/venv\u001b[0m\n",
      "/usr/lib/python3/dist-packages/secretstorage/dhcrypto.py:15: CryptographyDeprecationWarning: int_from_bytes is deprecated, use int.from_bytes instead\n",
      "  from cryptography.utils import int_from_bytes\n",
      "/usr/lib/python3/dist-packages/secretstorage/util.py:19: CryptographyDeprecationWarning: int_from_bytes is deprecated, use int.from_bytes instead\n",
      "  from cryptography.utils import int_from_bytes\n",
      "\u001b[33mWARNING: Running pip as root will break packages and permissions. You should install packages reliably by using venv: https://pip.pypa.io/warnings/venv\u001b[0m\n",
      "/usr/lib/python3/dist-packages/secretstorage/dhcrypto.py:15: CryptographyDeprecationWarning: int_from_bytes is deprecated, use int.from_bytes instead\n",
      "  from cryptography.utils import int_from_bytes\n",
      "/usr/lib/python3/dist-packages/secretstorage/util.py:19: CryptographyDeprecationWarning: int_from_bytes is deprecated, use int.from_bytes instead\n",
      "  from cryptography.utils import int_from_bytes\n",
      "\u001b[33mWARNING: Running pip as root will break packages and permissions. You should install packages reliably by using venv: https://pip.pypa.io/warnings/venv\u001b[0m\n"
     ]
    }
   ],
   "source": [
    "# Currently the notebook is using pip install, which would not be ideal in a production environment.\n",
    "# This is because the install changes the environment and the versions of libraries being installed are\n",
    "# not necessarily fixed, meaning the environment is not fixed and hence reproducibility is not guaranteed.\n",
    "\n",
    "# One could use requirements.txt, but this also does not necessarily fix things due to secondary dependencies.\n",
    "\n",
    "# Various solutions exist, but for rigorous work, Gradient allows the user to build a custom container\n",
    "# containing the correct dependencies, which removes the need for pip install.\n",
    "\n",
    "# Here, the container we use fixes versions, except for TFDS and TFRS, whose versions we therefore fix.\n",
    "\n",
    "!pip install --upgrade pip\n",
    "!pip install -q tensorflow-recommenders==0.4.0\n",
    "!pip install -q --upgrade tensorflow-datasets==4.2.0"
   ]
  },
  {
   "cell_type": "code",
   "execution_count": 3,
   "metadata": {
    "id": "SZGYDaF-m5wZ"
   },
   "outputs": [],
   "source": [
    "import os\n",
    "import platform\n",
    "\n",
    "# This is Python's function for more nicely or compactly printing variables or data\n",
    "import pprint\n",
    "\n",
    "# Python 3 allows hints on variable types to be given\n",
    "# Here they are used in the model class definitions\n",
    "from typing import Dict, Text\n",
    "\n",
    "# NumPy is used, e.g., for viewing the data in TensorFlow tensors\n",
    "# TensorFlow tensors are built on NumPy arrays\n",
    "import numpy as np\n",
    "\n",
    "# This allows simple inline plots of, e.g., model training history\n",
    "%matplotlib inline\n",
    "import matplotlib.pyplot as plt\n",
    "plt.style.use('seaborn-whitegrid') # Following TFRS tutorials\n",
    "\n",
    "# TensorFlow, TFDS, TFRS\n",
    "import tensorflow as tf\n",
    "import tensorflow_datasets as tfds\n",
    "import tensorflow_recommenders as tfrs"
   ]
  },
  {
   "cell_type": "markdown",
   "metadata": {
    "id": "ecPlfiYXJDQe"
   },
   "source": [
    "We can see some basic information about the versions of software that we are using. In principle, the container could be accessed to find out more."
   ]
  },
  {
   "cell_type": "code",
   "execution_count": 4,
   "metadata": {
    "colab": {
     "base_uri": "https://localhost:8080/"
    },
    "id": "Nc5Um6Y44D-Q",
    "outputId": "df8fe35b-e2e5-4a09-be4a-13c63c757ebe"
   },
   "outputs": [
    {
     "name": "stdout",
     "output_type": "stream",
     "text": [
      "NumPy version: 1.19.5\n",
      "Python version: 3.6.8\n",
      "TensorFlow version: 2.4.0\n",
      "TensorFlow Datasets version: 4.2.0\n",
      "TensorFlow Recommenders version: v0.4.0\n"
     ]
    }
   ],
   "source": [
    "print('NumPy version: {}'.format(np.__version__))\n",
    "print('Python version: {}'.format(platform.python_version()))\n",
    "print('TensorFlow version: {}'.format(tf.__version__))\n",
    "print('TensorFlow Datasets version: {}'.format(tfds.__version__))\n",
    "print('TensorFlow Recommenders version: {}'.format(tfrs.__version__))"
   ]
  },
  {
   "cell_type": "markdown",
   "metadata": {
    "id": "GJORoRytYAGI"
   },
   "source": [
    "We can see if GPUs, etc., are available, or just CPU. Here we do not currently specify devices other than the default, as the processing run is not large enough to require a GPU."
   ]
  },
  {
   "cell_type": "code",
   "execution_count": 5,
   "metadata": {
    "colab": {
     "base_uri": "https://localhost:8080/"
    },
    "id": "o914Boo2YDYz",
    "outputId": "1c553eac-8a74-4955-990e-6a6245fc14da"
   },
   "outputs": [
    {
     "name": "stdout",
     "output_type": "stream",
     "text": [
      "[name: \"/device:CPU:0\"\n",
      "device_type: \"CPU\"\n",
      "memory_limit: 268435456\n",
      "locality {\n",
      "}\n",
      "incarnation: 2768809213117627638\n",
      "]\n"
     ]
    }
   ],
   "source": [
    "from tensorflow.python.client import device_lib\n",
    "print(device_lib.list_local_devices())"
   ]
  },
  {
   "cell_type": "markdown",
   "metadata": {
    "id": "5PAqjR4a1RR4"
   },
   "source": [
    "## 3: Preparing the dataset\n",
    "\n",
    "Load the MovieLens data from TensorFlow Datasets."
   ]
  },
  {
   "cell_type": "code",
   "execution_count": 6,
   "metadata": {
    "id": "aaQhqcLGP0jL"
   },
   "outputs": [],
   "source": [
    "# This loads the data from the official TensorFlow datasets repository\n",
    "# at https://www.tensorflow.org/datasets/catalog/movielens\n",
    "# The -ratings suffix indicates that we are loading the dataset with the\n",
    "# movies data joined to the ratings data\n",
    "\n",
    "ratings_raw = tfds.load('movielens/100k-ratings', split='train')"
   ]
  },
  {
   "cell_type": "code",
   "execution_count": 7,
   "metadata": {
    "colab": {
     "base_uri": "https://localhost:8080/"
    },
    "id": "X_sx4C_Bw4sc",
    "outputId": "aff47275-f87a-482c-eb1f-a8093d449c97"
   },
   "outputs": [
    {
     "data": {
      "text/plain": [
       "<PrefetchDataset shapes: {bucketized_user_age: (), movie_genres: (None,), movie_id: (), movie_title: (), raw_user_age: (), timestamp: (), user_gender: (), user_id: (), user_occupation_label: (), user_occupation_text: (), user_rating: (), user_zip_code: ()}, types: {bucketized_user_age: tf.float32, movie_genres: tf.int64, movie_id: tf.string, movie_title: tf.string, raw_user_age: tf.float32, timestamp: tf.int64, user_gender: tf.bool, user_id: tf.string, user_occupation_label: tf.int64, user_occupation_text: tf.string, user_rating: tf.float32, user_zip_code: tf.string}>"
      ]
     },
     "execution_count": 7,
     "metadata": {},
     "output_type": "execute_result"
    }
   ],
   "source": [
    "# It is loaded as a TensorFlow PrefetchDataset\n",
    "ratings_raw"
   ]
  },
  {
   "cell_type": "markdown",
   "metadata": {
    "id": "9VReDbPf4QRU"
   },
   "source": [
    "Data science workflows, especially in the experimental and model training stage as here, should contain a strong component of viewing the actual data throughout the analysis. This is both for the understanding of the experimenter, other readers, and for sanity checking.\n",
    "\n",
    "Here we see that various columns (features) are available, including information about the user, the movie they watched, and outcomes such as the user's rating of the movie.\n",
    "\n",
    "It is important to distinguish between information that is available before a user watches a movie from that which is only available after, as the latter cannot be used as a feature for training a recommender model. This is because the data to be fed into it when it is deployed must be available before the user has watched the movie that is being recommended to them.\n",
    "\n",
    "In this case, the requirement manifests as the `user_rating` column being a training target and not a feature, and a timestamp column that should be normalized into something that is cyclical like a day of week / month / year, and not an absolute date. Such a date won't come around again in the future when the model has been deployed on unseen data.\n",
    "\n",
    "We also immediately see issues with the data that may manifest further along in the dataflow, such as some of the columns being byte-encoded (strings like `b'357'` instead of just `'357'`). If the setup of TensorFlow Serving plus the RESTful API is to be used for deployment, these will have to be converted to be able to be represented in JSON for passing to the model when it is deployed.\n",
    "\n",
    "The end-to-end mentality of having deployment in scope from the start, enabled by Gradient, has encouraged us to look for and notice these issues right here, rather than spending time training the model and only then noticing them. The latter approach could result in signficant wasted effort if it turns out that the deployment issues are not solvable.\n",
    "\n",
    "The top 2 rows of data are shown."
   ]
  },
  {
   "cell_type": "code",
   "execution_count": 8,
   "metadata": {
    "colab": {
     "base_uri": "https://localhost:8080/"
    },
    "id": "JdNMayvVzhP9",
    "outputId": "2790ba40-5156-4601-aded-36340dc6db31"
   },
   "outputs": [
    {
     "name": "stdout",
     "output_type": "stream",
     "text": [
      "{'bucketized_user_age': 45.0,\n",
      " 'movie_genres': array([7]),\n",
      " 'movie_id': b'357',\n",
      " 'movie_title': b\"One Flew Over the Cuckoo's Nest (1975)\",\n",
      " 'raw_user_age': 46.0,\n",
      " 'timestamp': 879024327,\n",
      " 'user_gender': True,\n",
      " 'user_id': b'138',\n",
      " 'user_occupation_label': 4,\n",
      " 'user_occupation_text': b'doctor',\n",
      " 'user_rating': 4.0,\n",
      " 'user_zip_code': b'53211'}\n",
      "{'bucketized_user_age': 25.0,\n",
      " 'movie_genres': array([ 4, 14]),\n",
      " 'movie_id': b'709',\n",
      " 'movie_title': b'Strictly Ballroom (1992)',\n",
      " 'raw_user_age': 32.0,\n",
      " 'timestamp': 875654590,\n",
      " 'user_gender': True,\n",
      " 'user_id': b'92',\n",
      " 'user_occupation_label': 5,\n",
      " 'user_occupation_text': b'entertainment',\n",
      " 'user_rating': 2.0,\n",
      " 'user_zip_code': b'80525'}\n"
     ]
    }
   ],
   "source": [
    "# Just saying print(ratings) results in the output <PrefetchDataset shapes: ... as above\n",
    "# So the data is extracted from the TensorFlow tensor format using NumPy\n",
    "\n",
    "for x in ratings_raw.take(2).as_numpy_iterator():\n",
    "    pprint.pprint(x)"
   ]
  },
  {
   "cell_type": "markdown",
   "metadata": {
    "id": "Eo1v4Oac63Te"
   },
   "source": [
    "TensorFlow's `.map()` applies the function in the brackets to each element of a dataset, so with the lambda inline Python function we can reduce the data down to just the columns that we are going to use. Currently these are the movie title, the time of viewing, the user who viewed it, and their rating of the movie."
   ]
  },
  {
   "cell_type": "code",
   "execution_count": 9,
   "metadata": {
    "id": "fPH5ffpdw0RR"
   },
   "outputs": [],
   "source": [
    "ratings = ratings_raw.map(lambda x: {\n",
    "    'movie_title': x['movie_title'],\n",
    "    'timestamp': x['timestamp'],\n",
    "    'user_id': x['user_id'],\n",
    "    'user_rating': x['user_rating']\n",
    "})"
   ]
  },
  {
   "cell_type": "markdown",
   "metadata": {
    "id": "Iu4XSa_G1nyN"
   },
   "source": [
    "We perform the canonical 80:20 random split of 80% training data and 20% testing data, with in turn 20% of the training data being used for model validation.\n",
    "\n",
    "As mentioned above, we want to avoid leakage of information from the testing set into the training and validation sets, so we split by timestamp. The testing data comes from later times than the training & validation data. Currently the timestamp used is still absolute rather than cyclic (day of week, month of year, etc.), but that would likely just dampen its utility as a feature, so long as the model is not overfitting to it.\n",
    "\n",
    "TensorFlow allows global and local random seeds to be set, which can ensure, e.g., that we get the same 80:20 split each time here.\n",
    "\n",
    "However, randomness remains in the machine learning models when they are run, which is harder to remove. We have not attempted to do so in this project so results may vary when the notebook is rerun, but they should show the same overall pattern, i.e., they are statistically reproducible even if not exactly reproducible."
   ]
  },
  {
   "cell_type": "code",
   "execution_count": 10,
   "metadata": {
    "id": "jjyIcUVEMmmP"
   },
   "outputs": [],
   "source": [
    "# Get times as a list so we can get the minimum and maximum time values\n",
    "# In the original data they are dictionaries, so a list is needed\n",
    "# Following the TFRS deep model tutorial (https://www.tensorflow.org/recommenders/examples/deep_recommenders)\n",
    "# a quick way to do this is\n",
    "\n",
    "timestamps = np.concatenate(list(ratings.map(lambda x: x['timestamp']).batch(100)))"
   ]
  },
  {
   "cell_type": "code",
   "execution_count": 11,
   "metadata": {
    "colab": {
     "base_uri": "https://localhost:8080/"
    },
    "id": "MD5dhCphMm2I",
    "outputId": "3c10d169-d485-44f7-9018-308fc8e68501"
   },
   "outputs": [
    {
     "name": "stdout",
     "output_type": "stream",
     "text": [
      "Minimum time value = 874724710\n",
      "Maximum time value = 893286638\n"
     ]
    }
   ],
   "source": [
    "# Get minimum and maximum time values\n",
    "\n",
    "max_time = timestamps.max()\n",
    "min_time = timestamps.min()\n",
    "\n",
    "print('Minimum time value = {}'.format(min_time))\n",
    "print('Maximum time value = {}'.format(max_time))"
   ]
  },
  {
   "cell_type": "code",
   "execution_count": 12,
   "metadata": {
    "colab": {
     "base_uri": "https://localhost:8080/"
    },
    "id": "BE16LGI8Mxry",
    "outputId": "0db255df-29ad-428c-8ea3-c5257029b1bd"
   },
   "outputs": [
    {
     "name": "stdout",
     "output_type": "stream",
     "text": [
      "60th percentile time = 885861866.8\n",
      "80th percentile time = 889574252.4\n"
     ]
    }
   ],
   "source": [
    "# Get 60th & 80th percentile times\n",
    "\n",
    "sixtieth_percentile = min_time + 0.6*(max_time - min_time)\n",
    "eightieth_percentile = min_time + 0.8*(max_time - min_time)\n",
    "\n",
    "print('60th percentile time = {}'.format(sixtieth_percentile))\n",
    "print('80th percentile time = {}'.format(eightieth_percentile))"
   ]
  },
  {
   "cell_type": "code",
   "execution_count": 13,
   "metadata": {
    "id": "ayX_o1YkMxx6"
   },
   "outputs": [],
   "source": [
    "# Filter original data so that\n",
    "\n",
    "# Training set <= 60th percentile time\n",
    "# 60th < Validation set <= 80th\n",
    "# Testing set > 80th\n",
    "\n",
    "train =      ratings.filter(lambda x: x['timestamp'] <= sixtieth_percentile)\n",
    "validation = ratings.filter(lambda x: x['timestamp'] > sixtieth_percentile and x['timestamp'] <= eightieth_percentile)\n",
    "test =       ratings.filter(lambda x: x['timestamp'] > eightieth_percentile)"
   ]
  },
  {
   "cell_type": "code",
   "execution_count": 14,
   "metadata": {
    "colab": {
     "base_uri": "https://localhost:8080/"
    },
    "id": "Jwlwp7-MMx03",
    "outputId": "2c6df211-27f6-40e6-c891-aac0428ddd96"
   },
   "outputs": [
    {
     "name": "stdout",
     "output_type": "stream",
     "text": [
      "Number of rows in training set = 65336\n",
      "Number of rows in validation set = 15778\n",
      "Number of rows in testing set = 18886\n",
      "Total number of rows = 100000\n"
     ]
    }
   ],
   "source": [
    "# We are splitting on time percentiles and not row percentiles,\n",
    "# which means that we have assumed the times are roughly evenly distributed\n",
    "\n",
    "# So check the number of rows in the training, validation, and testing sets is as expected\n",
    "\n",
    "# We could also do row percentiles, which would involve sorting the data by time then shuffling after splitting\n",
    "# As written, the counting is a little slow, but .__len__() doesn't work on the FilterDataset from above\n",
    "\n",
    "# The lengths sum to the number of rows in the original data, currently 100,000, as expected\n",
    "\n",
    "ntimes_tr = 0\n",
    "ntimes_va = 0\n",
    "ntimes_te = 0\n",
    "\n",
    "for x in train.take(-1).as_numpy_iterator():\n",
    "    ntimes_tr += 1\n",
    "\n",
    "for x in validation.take(-1).as_numpy_iterator():\n",
    "    ntimes_va += 1\n",
    "\n",
    "for x in test.take(-1).as_numpy_iterator():\n",
    "    ntimes_te += 1\n",
    "    \n",
    "print('Number of rows in training set = {}'.format(ntimes_tr))\n",
    "print('Number of rows in validation set = {}'.format(ntimes_va))\n",
    "print('Number of rows in testing set = {}'.format(ntimes_te))\n",
    "print('Total number of rows = {}'.format(ntimes_tr + ntimes_va + ntimes_te))"
   ]
  },
  {
   "cell_type": "code",
   "execution_count": 15,
   "metadata": {
    "id": "rS0eDfkjnjJL"
   },
   "outputs": [],
   "source": [
    "# A validation set is created here because validation_split in model.fit() \n",
    "# is not supported for datasets - its input would have to be tensors\n",
    "# ( [1] ValueError: `validation_split` is only supported for Tensors or NumPy arrays, \n",
    "# found following types in the input: \n",
    "# [<class 'tensorflow.python.data.ops.dataset_ops.CacheDataset'>] )\n",
    "\n",
    "train = train.shuffle(ntimes_tr)\n",
    "validation = validation.shuffle(ntimes_va)\n",
    "test = test.shuffle(ntimes_te)"
   ]
  },
  {
   "cell_type": "markdown",
   "metadata": {
    "id": "RNIIbzfYDMVt"
   },
   "source": [
    "We also need to extract from the data the list of unique user IDs and unique movie titles.\n",
    "\n",
    "This is because these variables are categorical, and when we use embedding vectors (see below), they map each category onto its own vector."
   ]
  },
  {
   "cell_type": "code",
   "execution_count": 16,
   "metadata": {
    "id": "MKROCiPo_5LJ"
   },
   "outputs": [],
   "source": [
    "movie_titles = ratings.batch(1_000_000).map(lambda x: x['movie_title'])\n",
    "user_ids = ratings.batch(1_000_000).map(lambda x: x['user_id'])"
   ]
  },
  {
   "cell_type": "code",
   "execution_count": 17,
   "metadata": {
    "id": "6NfVEmLiz9jq"
   },
   "outputs": [],
   "source": [
    "unique_movie_titles = np.unique(np.concatenate(list(movie_titles)))\n",
    "unique_user_ids = np.unique(np.concatenate(list(user_ids)))"
   ]
  },
  {
   "cell_type": "markdown",
   "metadata": {
    "id": "4-Vj9nHb48pn"
   },
   "source": [
    "## 4: Build the recommender models\n",
    "\n",
    "As mentioned above, recommender systems are often composed of a retrieval model and a ranking model. We will be focusing on the ranking model.\n",
    "\n",
    "We will build two models:\n",
    "\n",
    " - Basic ranking\n",
    " - Tuned ranking\n",
    "\n",
    "and show that the tuned ranking model gives the best performance. This shows the importance of tuning and not just engineering a pipeline using a model off-the-shelf.\n",
    "\n",
    "Recommenders are more complex than basic supervised models, so in the hierarchy of increased flexibility but decreased simplicity or ease of use from the Keras Sequential API, through the Keras functional API, to full definition of model classes and subclasses, the latter approach is used. The classes don't have to be written entirely from scratch, however, as the TFRS library contains various convenience classes and functions, and higher level Keras models and layers can still be used when they fit the purpose.\n",
    "\n",
    "In these models, some of the feature preprocessing can be incorporated as part of the model. This reduces the chance of errors being introduced when it is deployed in production in a different place from where it was trained, because the preprocessing of data from the raw inputs to those correct for the model does not need to be duplicated.\n",
    "\n",
    "The various preprocessing steps and modeling components are combined into a recommender model that can then be trained. The model is described by a Python class that inherits from the TFRS base class.\n",
    "\n",
    "It includes:\n",
    "\n",
    " - Movie embeddings\n",
    " - User ID embeddings\n",
    " - Deep learning layer to compute the rankings\n",
    " - Task layer to compute mean squared error\n",
    " - The `call()` method\n",
    " - The `compute_loss()` method\n",
    "\n",
    "The movie and user ID *embeddings* are using this common method of reducing a column that contains a large number of unique categories to something more manageable. The raw categories get mapped onto integers (known as a vocabulary), which in turn are converted to embeddings. The embedding itself is a vector that represents the mapping from a space with many dimensions (the number of categories) to a continuous vector space with a much lower dimension, e.g., 32.\n",
    "\n",
    "The deep learning layer is a typical set of densely connected layers (every neuron connected to all the others) that allows an arbitrary nonlinear mapping between the inputs and outputs. Deep learning is typically more compute-intensive, but for ranking in a full production system only a small subset of the movies are being used, having been selected by the retrieval model, so this helps.\n",
    "\n",
    "The task layer computes mean squared error between a given ground truth target and the model's prediction. This feeds into `compute_loss()`. `Task` is a TFRS layer that is combining computing the loss, i.e., the measure by which the model training is iterated, and the metric, the measure by which the model performance is reported to the human user. In this case the loss is mean squared error and the metric is root mean squared error, so they are quite similar.\n",
    "\n",
    "The `compute_loss()` method measures how well the model is performing after each iteration of training. This is a built-in method to TFRS and is therefore automatically called during model training with a `tfrs.models.Model` class (the training loop).\n",
    "\n",
    "The `call()` method executes the various steps when the model is run, and is important for the model to be able to be saved for later deployment.\n",
    "\n",
    "The overall result is that for a given user ID and movie title fed to the model, the output is a prediction of what rating that user would give to that movie if they were to watch it. The movies with the highest predicted ratings therefore become the recommendations for that user."
   ]
  },
  {
   "cell_type": "markdown",
   "metadata": {
    "id": "2xiUI74SGklF"
   },
   "source": [
    "### 4.1: Basic ranking model\n",
    "\n",
    "The basic model shows what happens when a model is set up with some default parameters, without attempting to tune any of them.\n",
    "\n",
    "The model is similar to the one in the [TFRS multitask tutorial](https://www.tensorflow.org/recommenders/examples/multitask), here doing a single task."
   ]
  },
  {
   "cell_type": "code",
   "execution_count": 18,
   "metadata": {},
   "outputs": [],
   "source": [
    "class MovielensModelBasicRanking(tfrs.models.Model):\n",
    "\n",
    "    def __init__(self) -> None:\n",
    "        super().__init__()\n",
    "        embedding_dimension = 32\n",
    "\n",
    "        # The embeddings use Keras's preprocessing layers\n",
    "\n",
    "        # Embeddings for movies\n",
    "        self.movie_model: tf.keras.layers.Layer = tf.keras.Sequential([\n",
    "            tf.keras.layers.experimental.preprocessing.StringLookup(\n",
    "                vocabulary=unique_movie_titles, mask_token=None),\n",
    "            tf.keras.layers.Embedding(len(unique_movie_titles) + 1, embedding_dimension)\n",
    "        ])\n",
    "\n",
    "        # Embeddings for users\n",
    "        self.user_model: tf.keras.layers.Layer = tf.keras.Sequential([\n",
    "            tf.keras.layers.experimental.preprocessing.StringLookup(\n",
    "                vocabulary=unique_user_ids, mask_token=None),\n",
    "            tf.keras.layers.Embedding(len(unique_user_ids) + 1, embedding_dimension)\n",
    "        ])\n",
    "\n",
    "        # Predicted ratings\n",
    "        # This is where deep learning is being used in the recommender system\n",
    "        # The predictions are output by the final layer, hence its size of 1\n",
    "\n",
    "        self.rating_model = tf.keras.Sequential([\n",
    "            tf.keras.layers.Dense(256, activation='relu'),\n",
    "            tf.keras.layers.Dense(64, activation='relu'),\n",
    "            tf.keras.layers.Dense(1)\n",
    "        ])\n",
    "\n",
    "        # Ranking is written as a TFRS task\n",
    "        self.task: tf.keras.layers.Layer = tfrs.tasks.Ranking(\n",
    "            loss = tf.keras.losses.MeanSquaredError(),\n",
    "            metrics=[tf.keras.metrics.RootMeanSquaredError()]\n",
    "        )\n",
    "\n",
    "    # The call method allows the model to be run, and saved\n",
    "    # The embeddings are passed into the model\n",
    "    # The embeddings and predicted rating are returned\n",
    "\n",
    "    def call(self, features: Dict[Text, tf.Tensor]) -> tf.Tensor:\n",
    "        user_embeddings = self.user_model(features['user_id'])\n",
    "        movie_embeddings = self.movie_model(features['movie_title'])\n",
    "\n",
    "        return (\n",
    "            user_embeddings,\n",
    "            movie_embeddings,\n",
    "            self.rating_model(\n",
    "                tf.concat([user_embeddings, movie_embeddings], axis=1)\n",
    "            ),\n",
    "        )\n",
    "\n",
    "    # This is the TFRS built-in method that computes the model loss function during training\n",
    "    def compute_loss(self, features: Dict[Text, tf.Tensor], training=False) -> tf.Tensor:\n",
    "\n",
    "        ratings = features.pop('user_rating')\n",
    "        user_embeddings, movie_embeddings, rating_predictions = self(features)\n",
    "\n",
    "        rating_loss = self.task(\n",
    "            labels=ratings,\n",
    "            predictions=rating_predictions,\n",
    "        )\n",
    "\n",
    "        return rating_loss"
   ]
  },
  {
   "cell_type": "markdown",
   "metadata": {
    "id": "SfAqxdgYH1Hl"
   },
   "source": [
    "As at the start of the dataflow, we should view the data at the training stage.\n",
    "\n",
    "The training data is quite similar to the original loaded data, now just movie title, timestamp, user ID, and rating."
   ]
  },
  {
   "cell_type": "code",
   "execution_count": 19,
   "metadata": {
    "colab": {
     "base_uri": "https://localhost:8080/"
    },
    "id": "X4wN-Oxqbqxa",
    "outputId": "bc70082f-74d0-4b6a-aeda-084cfbcb4d96"
   },
   "outputs": [
    {
     "data": {
      "text/plain": [
       "<ShuffleDataset shapes: {movie_title: (), timestamp: (), user_id: (), user_rating: ()}, types: {movie_title: tf.string, timestamp: tf.int64, user_id: tf.string, user_rating: tf.float32}>"
      ]
     },
     "execution_count": 19,
     "metadata": {},
     "output_type": "execute_result"
    }
   ],
   "source": [
    "# Format is now a TensorFlow ShuffleDataset\n",
    "train"
   ]
  },
  {
   "cell_type": "code",
   "execution_count": 20,
   "metadata": {
    "colab": {
     "base_uri": "https://localhost:8080/"
    },
    "id": "7qByPgKIbjMH",
    "outputId": "1b202622-742c-47bc-a0b7-8115683aa920"
   },
   "outputs": [
    {
     "name": "stdout",
     "output_type": "stream",
     "text": [
      "{'movie_title': b'Donnie Brasco (1997)',\n",
      " 'timestamp': 879178455,\n",
      " 'user_id': b'470',\n",
      " 'user_rating': 4.0}\n",
      "{'movie_title': b'Dead Man Walking (1995)',\n",
      " 'timestamp': 882622505,\n",
      " 'user_id': b'697',\n",
      " 'user_rating': 4.0}\n",
      "{'movie_title': b'Pump Up the Volume (1990)',\n",
      " 'timestamp': 881375351,\n",
      " 'user_id': b'456',\n",
      " 'user_rating': 3.0}\n"
     ]
    }
   ],
   "source": [
    "for x in train.take(3).as_numpy_iterator():\n",
    "    pprint.pprint(x)"
   ]
  },
  {
   "cell_type": "markdown",
   "metadata": {
    "id": "AdJbchJlqexl"
   },
   "source": [
    "The model performance, especially at scale, can be improved by caching the data into memory.\n",
    "\n",
    "It is also important that the data rows are in a random order. This is because many parts of machine learning algorithms are assuming that each data row is independent of those around it.\n",
    "\n",
    "An example of that is batching the data, which is also done here. Batching causes consecutive elements to be combined into batches, and so if there were, say, some periodicity in the data, it could interact with the batch size and produce highly non-random samples.\n",
    "\n",
    "Note that since a batch size may not divide perfectly into the number of rows in a dataset (or when data is being fed into the system a batch may not be full), its shape may not be known for every batch, and is therefore given as None."
   ]
  },
  {
   "cell_type": "code",
   "execution_count": 21,
   "metadata": {
    "id": "umCAS0aBdtYB"
   },
   "outputs": [],
   "source": [
    "cached_train = train.shuffle(ntimes_tr).batch(8192).cache()\n",
    "cached_validation = validation.shuffle(ntimes_va).batch(8192).cache()\n",
    "cached_test = test.batch(4096).cache()"
   ]
  },
  {
   "cell_type": "markdown",
   "metadata": {
    "id": "YO4SF6-Vqmi5"
   },
   "source": [
    "Since the actual data being fed into the model is the cached and batched set, this should be viewed too. We can see that it is now batched and the batches are formed by arrays."
   ]
  },
  {
   "cell_type": "code",
   "execution_count": 22,
   "metadata": {
    "colab": {
     "base_uri": "https://localhost:8080/"
    },
    "id": "aU6QtxRHbs3q",
    "outputId": "93f1e3b3-c4ea-4a63-bf65-246a46f87a90"
   },
   "outputs": [
    {
     "data": {
      "text/plain": [
       "<CacheDataset shapes: {movie_title: (None,), timestamp: (None,), user_id: (None,), user_rating: (None,)}, types: {movie_title: tf.string, timestamp: tf.int64, user_id: tf.string, user_rating: tf.float32}>"
      ]
     },
     "execution_count": 22,
     "metadata": {},
     "output_type": "execute_result"
    }
   ],
   "source": [
    "# The shape could be changed, e.g., from None to 8192 by adding drop_remainder=True to the .batch() line above\n",
    "cached_train"
   ]
  },
  {
   "cell_type": "code",
   "execution_count": 23,
   "metadata": {
    "colab": {
     "base_uri": "https://localhost:8080/"
    },
    "id": "dmjmVqnIbzxn",
    "outputId": "a26a618a-0bf8-4f9d-f4c9-e732ad0a55d3"
   },
   "outputs": [
    {
     "name": "stdout",
     "output_type": "stream",
     "text": [
      "{'movie_title': array([b'Rumble in the Bronx (1995)', b'Alien: Resurrection (1997)',\n",
      "       b'Saint, The (1997)', ..., b'Dead Poets Society (1989)',\n",
      "       b'Fried Green Tomatoes (1991)', b'Courage Under Fire (1996)'],\n",
      "      dtype=object),\n",
      " 'timestamp': array([879380097, 883504771, 880485488, ..., 875981190, 878769848,\n",
      "       878146986]),\n",
      " 'user_id': array([b'921', b'443', b'159', ..., b'43', b'82', b'606'], dtype=object),\n",
      " 'user_rating': array([3., 5., 3., ..., 4., 5., 4.], dtype=float32)}\n",
      "{'movie_title': array([b'Grumpier Old Men (1995)', b'Four Weddings and a Funeral (1994)',\n",
      "       b'Grosse Pointe Blank (1997)', ..., b'Toy Story (1995)',\n",
      "       b'Kids (1995)', b'Love Affair (1994)'], dtype=object),\n",
      " 'timestamp': array([881106072, 883601427, 883681262, ..., 876231938, 881698881,\n",
      "       879542847]),\n",
      " 'user_id': array([b'42', b'6', b'131', ..., b'554', b'805', b'151'], dtype=object),\n",
      " 'user_rating': array([4., 3., 3., ..., 3., 3., 1.], dtype=float32)}\n",
      "{'movie_title': array([b'Die Hard: With a Vengeance (1995)',\n",
      "       b'Ghost and Mrs. Muir, The (1947)', b'Groundhog Day (1993)', ...,\n",
      "       b'Everyone Says I Love You (1996)', b'L.A. Confidential (1997)',\n",
      "       b'Twelve Monkeys (1995)'], dtype=object),\n",
      " 'timestamp': array([879848475, 879797303, 878759384, ..., 879962096, 882811836,\n",
      "       875145879]),\n",
      " 'user_id': array([b'709', b'716', b'684', ..., b'555', b'854', b'658'], dtype=object),\n",
      " 'user_rating': array([3., 4., 4., ..., 5., 3., 4.], dtype=float32)}\n"
     ]
    }
   ],
   "source": [
    "for x in cached_train.take(3).as_numpy_iterator():\n",
    "    pprint.pprint(x)"
   ]
  },
  {
   "cell_type": "markdown",
   "metadata": {
    "id": "LsfOKQ30Iewj"
   },
   "source": [
    "#### 4.1.1: Train and evaluate the basic ranking model"
   ]
  },
  {
   "cell_type": "markdown",
   "metadata": {
    "id": "k_Pe7NpXq_r2"
   },
   "source": [
    "Train the model, outputting the accuracy on the training set and also on the validation set."
   ]
  },
  {
   "cell_type": "code",
   "execution_count": 24,
   "metadata": {
    "id": "x7Kirx8U1Cww"
   },
   "outputs": [],
   "source": [
    "model_br = MovielensModelBasicRanking()"
   ]
  },
  {
   "cell_type": "code",
   "execution_count": 25,
   "metadata": {
    "id": "dzDwd1Rp1EbO"
   },
   "outputs": [],
   "source": [
    "model_br.compile(optimizer=tf.keras.optimizers.Adagrad(learning_rate=0.1))"
   ]
  },
  {
   "cell_type": "code",
   "execution_count": 26,
   "metadata": {
    "colab": {
     "base_uri": "https://localhost:8080/"
    },
    "id": "SieQYr041H90",
    "outputId": "5851b673-7e8a-4868-8de6-be40cd33efef"
   },
   "outputs": [
    {
     "name": "stdout",
     "output_type": "stream",
     "text": [
      "Epoch 1/3\n",
      "8/8 [==============================] - 22s 2s/step - root_mean_squared_error: 2.2698 - loss: 4.7097 - regularization_loss: 0.0000e+00 - total_loss: 4.7097 - val_root_mean_squared_error: 1.1528 - val_loss: 1.3530 - val_regularization_loss: 0.0000e+00 - val_total_loss: 1.3530\n",
      "Epoch 2/3\n",
      "8/8 [==============================] - 0s 31ms/step - root_mean_squared_error: 1.1346 - loss: 1.2911 - regularization_loss: 0.0000e+00 - total_loss: 1.2911 - val_root_mean_squared_error: 1.1904 - val_loss: 1.4433 - val_regularization_loss: 0.0000e+00 - val_total_loss: 1.4433\n",
      "Epoch 3/3\n",
      "8/8 [==============================] - 0s 29ms/step - root_mean_squared_error: 1.1450 - loss: 1.3103 - regularization_loss: 0.0000e+00 - total_loss: 1.3103 - val_root_mean_squared_error: 1.1867 - val_loss: 1.4340 - val_regularization_loss: 0.0000e+00 - val_total_loss: 1.4340\n"
     ]
    }
   ],
   "source": [
    "history_br = model_br.fit(cached_train, epochs=3, validation_data=cached_validation)"
   ]
  },
  {
   "cell_type": "markdown",
   "metadata": {
    "id": "hI7yE0XerkjM"
   },
   "source": [
    "The full model history contains quite a lot of information:\n",
    "\n",
    " - Loss = the value of the loss function\n",
    " - Regularization loss = 0, since we are not applying regularization in the basic model\n",
    " - Root mean squared error = the model performance metric we are recording\n",
    " - Total loss = loss + regularization loss, so the same as loss here\n",
    " - The same four again, but for the validation set instead of the training set"
   ]
  },
  {
   "cell_type": "code",
   "execution_count": 27,
   "metadata": {
    "colab": {
     "base_uri": "https://localhost:8080/"
    },
    "id": "aUk4iIRG0Uqf",
    "outputId": "f548679f-70b7-4510-ce02-4168f7778054"
   },
   "outputs": [
    {
     "name": "stdout",
     "output_type": "stream",
     "text": [
      "{'loss': [1.266960859298706, 1.3205143213272095, 1.3056833744049072],\n",
      " 'regularization_loss': [0, 0, 0],\n",
      " 'root_mean_squared_error': [2.269787073135376,\n",
      "                             1.1346112489700317,\n",
      "                             1.1449569463729858],\n",
      " 'total_loss': [1.266960859298706, 1.3205143213272095, 1.3056833744049072],\n",
      " 'val_loss': [1.3530035018920898, 1.4433138370513916, 1.4339743852615356],\n",
      " 'val_regularization_loss': [0, 0, 0],\n",
      " 'val_root_mean_squared_error': [1.1528475284576416,\n",
      "                                 1.1903784275054932,\n",
      "                                 1.1866860389709473],\n",
      " 'val_total_loss': [1.3530035018920898, 1.4433138370513916, 1.4339743852615356]}\n"
     ]
    }
   ],
   "source": [
    "pprint.pprint(history_br.history)"
   ]
  },
  {
   "cell_type": "markdown",
   "metadata": {
    "id": "Zs6U0oW5sVl8"
   },
   "source": [
    "We can report the most relevant numbers from the history, and make a simple plot of the tuning. Here we look at the value of the performance metric.\n",
    "\n",
    "The model has a performance of root mean squared error (RMSE) between predicted and true user ratings of movies of about 1.1, and the value is similar for training and validation, indicating that with the short training duration here the model has not overfit.\n",
    "\n",
    "A more sophisticated option than making these plots would be to load and use TensorBoard, but the overall conclusion drawn would be the same."
   ]
  },
  {
   "cell_type": "code",
   "execution_count": 28,
   "metadata": {
    "colab": {
     "base_uri": "https://localhost:8080/"
    },
    "id": "VY8Bt23jJAp1",
    "outputId": "13dbf653-a882-45cf-f0df-b225956c448c"
   },
   "outputs": [
    {
     "name": "stdout",
     "output_type": "stream",
     "text": [
      "Root mean squared error in user rating from training: 1.14\n",
      "Root mean squared error in user rating from validation: 1.19\n"
     ]
    }
   ],
   "source": [
    "rmse_br = history_br.history['root_mean_squared_error'][-1]\n",
    "print(f'Root mean squared error in user rating from training: {rmse_br:.2f}')\n",
    "\n",
    "val_rmse_br = history_br.history['val_root_mean_squared_error'][-1]\n",
    "print(f'Root mean squared error in user rating from validation: {val_rmse_br:.2f}')"
   ]
  },
  {
   "cell_type": "code",
   "execution_count": 29,
   "metadata": {
    "id": "bFCCtUTyJnBF"
   },
   "outputs": [],
   "source": [
    "# This sets up the x axis of the plot\n",
    "num_validation_runs = len(history_br.history['root_mean_squared_error']) # Or val_ ; is same here\n",
    "\n",
    "# The TFRS tutorials include values of validation frequency >1 to accommodate training runs where it was set >1 for faster training\n",
    "# Here it is left as 1\n",
    "validation_freq = 1\n",
    "epochs = [(x + 1) * validation_freq for x in range(num_validation_runs)] # E.g., 3,6,9 ... if validation_freq = 3"
   ]
  },
  {
   "cell_type": "code",
   "execution_count": 30,
   "metadata": {
    "colab": {
     "base_uri": "https://localhost:8080/",
     "height": 308
    },
    "id": "FOZthVRbJ5iW",
    "outputId": "884a1cdc-52e7-4edb-f04f-523c3fd64fdb"
   },
   "outputs": [
    {
     "data": {
      "text/plain": [
       "<matplotlib.legend.Legend at 0x7f69f85ab7f0>"
      ]
     },
     "execution_count": 30,
     "metadata": {},
     "output_type": "execute_result"
    },
    {
     "data": {
      "image/png": "[encoded data removed]",
      "text/plain": [
       "<Figure size 432x288 with 1 Axes>"
      ]
     },
     "metadata": {
      "needs_background": "light"
     },
     "output_type": "display_data"
    }
   ],
   "source": [
    "# Simple plot with Matplotlib\n",
    "plt.plot(epochs, history_br.history['root_mean_squared_error'], label='Training')\n",
    "plt.plot(epochs, history_br.history['val_root_mean_squared_error'], label='Validation')\n",
    "plt.title('Root mean squared error in user rating vs. training epoch')\n",
    "plt.xlabel('Training epoch')\n",
    "plt.ylabel('Root mean squared error in user rating')\n",
    "plt.legend()"
   ]
  },
  {
   "cell_type": "markdown",
   "metadata": {
    "id": "2n7xDu0C1JCg"
   },
   "source": [
    "We can see the model architecture via `.summary()`, showing the deep learning layers. Even for this small model, the number of parameters is over 100,000, which is greater than the number of movies in the dataset. This shows the importance of setting up the model to not overfit when trained for longer, which we will do in the tuned model below."
   ]
  },
  {
   "cell_type": "code",
   "execution_count": 31,
   "metadata": {
    "colab": {
     "base_uri": "https://localhost:8080/"
    },
    "id": "v44Elq721cSy",
    "outputId": "a2fb073d-eae5-4c62-954f-b3a17b6d42eb"
   },
   "outputs": [
    {
     "name": "stdout",
     "output_type": "stream",
     "text": [
      "Model: \"movielens_model_basic_ranking\"\n",
      "_________________________________________________________________\n",
      "Layer (type)                 Output Shape              Param #   \n",
      "=================================================================\n",
      "sequential (Sequential)      (None, 32)                53280     \n",
      "_________________________________________________________________\n",
      "sequential_1 (Sequential)    (None, 32)                30208     \n",
      "_________________________________________________________________\n",
      "sequential_2 (Sequential)    (None, 1)                 33153     \n",
      "_________________________________________________________________\n",
      "ranking (Ranking)            multiple                  2         \n",
      "=================================================================\n",
      "Total params: 116,643\n",
      "Trainable params: 116,641\n",
      "Non-trainable params: 2\n",
      "_________________________________________________________________\n"
     ]
    }
   ],
   "source": [
    "model_br.summary()"
   ]
  },
  {
   "cell_type": "markdown",
   "metadata": {
    "id": "XoBOlpc4-_hG"
   },
   "source": [
    "The model's performance can be measured on unseen test data for which what the user did in fact rate the movie (the ground truth) is still available.\n",
    "\n",
    "It is important that the test data is not used as part of the model training or validation, either directly (overlap between training and testing data), or indirectly (performance on testing data being used to influence subsequent training runs).\n",
    "\n",
    "Both of these would produce a result biased high in performance compared to expected performance on new unseen data when the model is deployed in production.\n",
    "\n",
    "As expected following the validation, the RMSE on the unseen testing set is also approximately 1.1."
   ]
  },
  {
   "cell_type": "code",
   "execution_count": 32,
   "metadata": {
    "colab": {
     "base_uri": "https://localhost:8080/"
    },
    "id": "bt8TsSix1cXX",
    "outputId": "0f7c32fe-4a23-472b-db4c-6068fd087cc5"
   },
   "outputs": [
    {
     "name": "stdout",
     "output_type": "stream",
     "text": [
      "5/5 [==============================] - 9s 23ms/step - root_mean_squared_error: 1.1359 - loss: 1.2888 - regularization_loss: 0.0000e+00 - total_loss: 1.2888\n"
     ]
    }
   ],
   "source": [
    "eval_br = model_br.evaluate(cached_test, return_dict=True)"
   ]
  },
  {
   "cell_type": "code",
   "execution_count": 33,
   "metadata": {
    "colab": {
     "base_uri": "https://localhost:8080/"
    },
    "id": "Pp84Btjd3Ovt",
    "outputId": "766d686e-80a5-4211-ee8a-607345432fc3"
   },
   "outputs": [
    {
     "data": {
      "text/plain": [
       "{'root_mean_squared_error': 1.1358704566955566,\n",
       " 'loss': 1.2841321229934692,\n",
       " 'regularization_loss': 0,\n",
       " 'total_loss': 1.2841321229934692}"
      ]
     },
     "execution_count": 33,
     "metadata": {},
     "output_type": "execute_result"
    }
   ],
   "source": [
    "eval_br"
   ]
  },
  {
   "cell_type": "code",
   "execution_count": 34,
   "metadata": {
    "colab": {
     "base_uri": "https://localhost:8080/"
    },
    "id": "kHu2-zfTKL34",
    "outputId": "9eb7222a-45ee-42a8-cd06-8172078e06c2"
   },
   "outputs": [
    {
     "name": "stdout",
     "output_type": "stream",
     "text": [
      "Root mean squared error in user rating from evaluation: 1.14\n"
     ]
    }
   ],
   "source": [
    "rmse_eval_br = eval_br['root_mean_squared_error']\n",
    "print(f'Root mean squared error in user rating from evaluation: {rmse_eval_br:.2f}')"
   ]
  },
  {
   "cell_type": "markdown",
   "metadata": {
    "id": "rWqyrily-JE6"
   },
   "source": [
    "Calling `.predict()` on the model, i.e., sending it data from the testing set in the same manner as new data would be sent to it when deployed, yields the user & movie embeddings for each new data point, and the predicted user ratings for those data points.\n",
    "\n",
    "Here the testing data still has ground truth user ratings that these predictions can be compared to (as in evaluate, above), but of course in production the return will be just the predicted ratings (and embeddings, in this case)."
   ]
  },
  {
   "cell_type": "code",
   "execution_count": 35,
   "metadata": {
    "colab": {
     "base_uri": "https://localhost:8080/"
    },
    "id": "eA7_9Lgi1cav",
    "outputId": "5a39f4c6-50c2-4643-cf8e-082b4e215c8a"
   },
   "outputs": [
    {
     "data": {
      "text/plain": [
       "(array([[-0.02105329, -0.02987837, -0.0236177 , ...,  0.00049992,\n",
       "          0.00528622, -0.01361426],\n",
       "        [ 0.04989753,  0.01344423, -0.03069643, ..., -0.03978487,\n",
       "          0.01408762, -0.00822129],\n",
       "        [-0.03957194,  0.02474704,  0.03840676, ...,  0.02689203,\n",
       "         -0.04507528, -0.01018219],\n",
       "        ...,\n",
       "        [-0.04160658, -0.01903526,  0.03122986, ..., -0.0481449 ,\n",
       "          0.04947037,  0.00376609],\n",
       "        [-0.04634735,  0.01403139,  0.01568796, ...,  0.02757597,\n",
       "          0.01993343,  0.02520209],\n",
       "        [-0.04988411,  0.03926507, -0.01878033, ..., -0.01722155,\n",
       "          0.01547618, -0.02128835]], dtype=float32),\n",
       " array([[-0.00854218, -0.02433761, -0.00524413, ...,  0.01705239,\n",
       "         -0.00625989, -0.03407368],\n",
       "        [-0.02747048,  0.00969758, -0.00657778, ..., -0.01233946,\n",
       "          0.02630682, -0.02030235],\n",
       "        [ 0.01380365,  0.04274812,  0.00696239, ...,  0.03458152,\n",
       "          0.02453773, -0.04015974],\n",
       "        ...,\n",
       "        [-0.04212496, -0.04154638,  0.02888761, ...,  0.00598711,\n",
       "          0.01358375,  0.02115084],\n",
       "        [ 0.01634336, -0.00054621,  0.01585081, ...,  0.03582417,\n",
       "         -0.02958908,  0.04834513],\n",
       "        [ 0.03013618, -0.04326633,  0.03655835, ...,  0.03215782,\n",
       "         -0.01702532,  0.04079137]], dtype=float32),\n",
       " array([[3.7466865],\n",
       "        [3.7563474],\n",
       "        [3.8787673],\n",
       "        ...,\n",
       "        [3.776678 ],\n",
       "        [3.8945003],\n",
       "        [3.854766 ]], dtype=float32))"
      ]
     },
     "execution_count": 35,
     "metadata": {},
     "output_type": "execute_result"
    }
   ],
   "source": [
    "# As written, the model prediction returns both the embeddings and predicted ratings\n",
    "model_br.predict(cached_test)"
   ]
  },
  {
   "cell_type": "markdown",
   "metadata": {
    "id": "5CNURtsNIfC2"
   },
   "source": [
    "### 4.2: Tuned ranking model\n",
    "\n",
    "For most machine learning models, a model that has not had its hyperparameters tuned is unlikely to be giving best performance. It would be a bit like choosing random clothes from a store instead of clothes that are your size.\n",
    "\n",
    "The combination of being able to be tuned to higher performance, and the ability to easily add new training set features of many different kinds (categorical, numerical, text, time series, etc.) is what enables deep learning (or other nonlinear ML such as decision trees) to outperform classical non-ML methods on complex data. As written, the deep learning layers component of the model can be whatever arbitrary set of layers, so long as it outputs a single rating at the end.\n",
    "\n",
    "Here we perform some basic tuning on the neural network layer by training it for more epochs and allowing its initial learning rate to vary. We also add regularization to help avoid overfitting that could result from longer training.\n",
    "\n",
    "For more extensive tuning, other parameters can be tuned similarly, including within the network, e.g., size & number of layers, and within the whole model, such as the number of dimensions in the embeddings.\n",
    "\n",
    "If one plans to do more extensive tuning, then for a recommender system like this one, it also makes sense to include more features, such as user age, do more feature engineering, such as cyclic and not absolute times like day of week, and to build more complex models like multitask and deep cross networks as in the TFRS tutorials. To keep this showcase to a manageable length, we do not attempt all of that here."
   ]
  },
  {
   "cell_type": "code",
   "execution_count": 36,
   "metadata": {},
   "outputs": [],
   "source": [
    "# This model is similar to the basic model, but L2 regularization has been added\n",
    "\n",
    "class MovielensModelTunedRanking(tfrs.models.Model):\n",
    "\n",
    "    def __init__(self) -> None:\n",
    "        super().__init__()\n",
    "        embedding_dimension = 32\n",
    "\n",
    "        self.movie_model: tf.keras.layers.Layer = tf.keras.Sequential([\n",
    "            tf.keras.layers.experimental.preprocessing.StringLookup(\n",
    "                vocabulary=unique_movie_titles, mask_token=None),\n",
    "            tf.keras.layers.Embedding(len(unique_movie_titles) + 1, embedding_dimension)\n",
    "        ])\n",
    "\n",
    "        self.user_model: tf.keras.layers.Layer = tf.keras.Sequential([\n",
    "            tf.keras.layers.experimental.preprocessing.StringLookup(\n",
    "                vocabulary=unique_user_ids, mask_token=None),\n",
    "            tf.keras.layers.Embedding(len(unique_user_ids) + 1, embedding_dimension)\n",
    "        ])\n",
    "\n",
    "        # Regularization is added here\n",
    "        self.rating_model = tf.keras.Sequential([\n",
    "            tf.keras.layers.Dense(256, activation='relu', kernel_regularizer=tf.keras.regularizers.l2(0.01)),\n",
    "            tf.keras.layers.Dense(64, activation='relu', kernel_regularizer=tf.keras.regularizers.l2(0.01)),\n",
    "            tf.keras.layers.Dense(1)\n",
    "        ])\n",
    "\n",
    "        self.task: tf.keras.layers.Layer = tfrs.tasks.Ranking(\n",
    "            loss = tf.keras.losses.MeanSquaredError(),\n",
    "            metrics=[tf.keras.metrics.RootMeanSquaredError()]\n",
    "        )\n",
    "\n",
    "    def call(self, features: Dict[Text, tf.Tensor]) -> tf.Tensor:\n",
    "\n",
    "        user_embeddings = self.user_model(features['user_id'])\n",
    "        movie_embeddings = self.movie_model(features['movie_title'])\n",
    "\n",
    "        return (\n",
    "            user_embeddings,\n",
    "            movie_embeddings,\n",
    "            self.rating_model(\n",
    "                tf.concat([user_embeddings, movie_embeddings], axis=1)\n",
    "            ),\n",
    "        )\n",
    "\n",
    "    def compute_loss(self, features: Dict[Text, tf.Tensor], training=False) -> tf.Tensor:\n",
    "\n",
    "        ratings = features.pop('user_rating')\n",
    "        user_embeddings, movie_embeddings, rating_predictions = self(features)\n",
    "\n",
    "        rating_loss = self.task(\n",
    "            labels=ratings,\n",
    "            predictions=rating_predictions,\n",
    "        )\n",
    "\n",
    "        return rating_loss"
   ]
  },
  {
   "cell_type": "markdown",
   "metadata": {
    "id": "HVp_55ctAF48"
   },
   "source": [
    "When tuning hyperparameters using the grid approach, it is common to test a range of values across a logarithmic scale, then fine-tune by using a linear scale in the range suggested to be best by the logarithmic scale. (For example, try learning rates of 0.01, 0.02, 0.05, 0.1, 0.2, 0.5, and 1, and if the performance is best for 0.1, then try 0.06, 0.07, 0.08, 0.09, 0.1, 0.11, 0.12, 0.13, 0.14, and 0.15.)\n",
    "\n",
    "Here we only show a small number of values to avoid excessive processing time."
   ]
  },
  {
   "cell_type": "markdown",
   "metadata": {
    "id": "0WH4-3S7HOCC"
   },
   "source": [
    "Let's set the values we are tuning so they are not hidden in the calls to the model."
   ]
  },
  {
   "cell_type": "code",
   "execution_count": 37,
   "metadata": {
    "id": "o2fF4CN5HUj0"
   },
   "outputs": [],
   "source": [
    "learning_rates_logarithmic = [0.001, 0.01, 0.1, 1]\n",
    "epochs = 30"
   ]
  },
  {
   "cell_type": "markdown",
   "metadata": {
    "id": "jvxCoGSDHxb-"
   },
   "source": [
    "Run the logarithmic grid. As with the basic model, the indicator of performance is the RMSE error, shown in the output."
   ]
  },
  {
   "cell_type": "code",
   "execution_count": 38,
   "metadata": {
    "colab": {
     "base_uri": "https://localhost:8080/"
    },
    "id": "IIWlPgqD4Hr6",
    "outputId": "e051920a-cec9-4b54-d688-68dcf6a6c627",
    "scrolled": true
   },
   "outputs": [
    {
     "name": "stdout",
     "output_type": "stream",
     "text": [
      "Learning rate = 0.001\n",
      "Epoch 1/30\n",
      "8/8 [==============================] - 1s 59ms/step - root_mean_squared_error: 3.6834 - loss: 13.5602 - regularization_loss: 2.0521 - total_loss: 15.6122 - val_root_mean_squared_error: 3.5702 - val_loss: 12.7090 - val_regularization_loss: 2.0510 - val_total_loss: 14.7600\n",
      "Epoch 2/30\n",
      "8/8 [==============================] - 0s 40ms/step - root_mean_squared_error: 3.6369 - loss: 13.2252 - regularization_loss: 2.0501 - total_loss: 15.2752 - val_root_mean_squared_error: 3.5321 - val_loss: 12.4390 - val_regularization_loss: 2.0491 - val_total_loss: 14.4881\n",
      "Epoch 3/30\n",
      "8/8 [==============================] - 0s 32ms/step - root_mean_squared_error: 3.6010 - loss: 12.9673 - regularization_loss: 2.0482 - total_loss: 15.0154 - val_root_mean_squared_error: 3.4989 - val_loss: 12.2061 - val_regularization_loss: 2.0472 - val_total_loss: 14.2533\n",
      "Epoch 4/30\n",
      "8/8 [==============================] - 0s 34ms/step - root_mean_squared_error: 3.5687 - loss: 12.7363 - regularization_loss: 2.0463 - total_loss: 14.7827 - val_root_mean_squared_error: 3.4679 - val_loss: 11.9908 - val_regularization_loss: 2.0454 - val_total_loss: 14.0362\n",
      "Epoch 5/30\n",
      "8/8 [==============================] - 0s 32ms/step - root_mean_squared_error: 3.5381 - loss: 12.5188 - regularization_loss: 2.0446 - total_loss: 14.5634 - val_root_mean_squared_error: 3.4380 - val_loss: 11.7847 - val_regularization_loss: 2.0437 - val_total_loss: 13.8284\n",
      "Epoch 6/30\n",
      "8/8 [==============================] - 0s 39ms/step - root_mean_squared_error: 3.5082 - loss: 12.3084 - regularization_loss: 2.0429 - total_loss: 14.3513 - val_root_mean_squared_error: 3.4085 - val_loss: 11.5835 - val_regularization_loss: 2.0420 - val_total_loss: 13.6255\n",
      "Epoch 7/30\n",
      "8/8 [==============================] - 0s 40ms/step - root_mean_squared_error: 3.4786 - loss: 12.1016 - regularization_loss: 2.0412 - total_loss: 14.1429 - val_root_mean_squared_error: 3.3791 - val_loss: 11.3846 - val_regularization_loss: 2.0404 - val_total_loss: 13.4250\n",
      "Epoch 8/30\n",
      "8/8 [==============================] - 0s 35ms/step - root_mean_squared_error: 3.4489 - loss: 11.8961 - regularization_loss: 2.0397 - total_loss: 13.9358 - val_root_mean_squared_error: 3.3496 - val_loss: 11.1862 - val_regularization_loss: 2.0389 - val_total_loss: 13.2251\n",
      "Epoch 9/30\n",
      "8/8 [==============================] - 0s 36ms/step - root_mean_squared_error: 3.4190 - loss: 11.6904 - regularization_loss: 2.0382 - total_loss: 13.7286 - val_root_mean_squared_error: 3.3197 - val_loss: 10.9872 - val_regularization_loss: 2.0374 - val_total_loss: 13.0247\n",
      "Epoch 10/30\n",
      "8/8 [==============================] - 0s 56ms/step - root_mean_squared_error: 3.3886 - loss: 11.4834 - regularization_loss: 2.0368 - total_loss: 13.5202 - val_root_mean_squared_error: 3.2893 - val_loss: 10.7868 - val_regularization_loss: 2.0360 - val_total_loss: 12.8228\n",
      "Epoch 11/30\n",
      "8/8 [==============================] - 0s 36ms/step - root_mean_squared_error: 3.3577 - loss: 11.2743 - regularization_loss: 2.0354 - total_loss: 13.3097 - val_root_mean_squared_error: 3.2583 - val_loss: 10.5841 - val_regularization_loss: 2.0347 - val_total_loss: 12.6188\n",
      "Epoch 12/30\n",
      "8/8 [==============================] - 0s 39ms/step - root_mean_squared_error: 3.3260 - loss: 11.0626 - regularization_loss: 2.0341 - total_loss: 13.0966 - val_root_mean_squared_error: 3.2266 - val_loss: 10.3790 - val_regularization_loss: 2.0334 - val_total_loss: 12.4124\n",
      "Epoch 13/30\n",
      "8/8 [==============================] - 0s 32ms/step - root_mean_squared_error: 3.2936 - loss: 10.8479 - regularization_loss: 2.0328 - total_loss: 12.8807 - val_root_mean_squared_error: 3.1941 - val_loss: 10.1711 - val_regularization_loss: 2.0322 - val_total_loss: 12.2033\n",
      "Epoch 14/30\n",
      "8/8 [==============================] - 0s 34ms/step - root_mean_squared_error: 3.2605 - loss: 10.6301 - regularization_loss: 2.0316 - total_loss: 12.6617 - val_root_mean_squared_error: 3.1609 - val_loss: 9.9604 - val_regularization_loss: 2.0310 - val_total_loss: 11.9914\n",
      "Epoch 15/30\n",
      "8/8 [==============================] - 0s 32ms/step - root_mean_squared_error: 3.2265 - loss: 10.4093 - regularization_loss: 2.0305 - total_loss: 12.4398 - val_root_mean_squared_error: 3.1268 - val_loss: 9.7470 - val_regularization_loss: 2.0299 - val_total_loss: 11.7769\n",
      "Epoch 16/30\n",
      "8/8 [==============================] - 0s 37ms/step - root_mean_squared_error: 3.1916 - loss: 10.1856 - regularization_loss: 2.0294 - total_loss: 12.2149 - val_root_mean_squared_error: 3.0921 - val_loss: 9.5312 - val_regularization_loss: 2.0288 - val_total_loss: 11.5600\n",
      "Epoch 17/30\n",
      "8/8 [==============================] - 0s 33ms/step - root_mean_squared_error: 3.1560 - loss: 9.9592 - regularization_loss: 2.0283 - total_loss: 11.9875 - val_root_mean_squared_error: 3.0565 - val_loss: 9.3132 - val_regularization_loss: 2.0278 - val_total_loss: 11.3410\n",
      "Epoch 18/30\n",
      "8/8 [==============================] - 0s 31ms/step - root_mean_squared_error: 3.1196 - loss: 9.7304 - regularization_loss: 2.0273 - total_loss: 11.7577 - val_root_mean_squared_error: 3.0202 - val_loss: 9.0932 - val_regularization_loss: 2.0268 - val_total_loss: 11.1200\n",
      "Epoch 19/30\n",
      "8/8 [==============================] - 0s 35ms/step - root_mean_squared_error: 3.0824 - loss: 9.4995 - regularization_loss: 2.0263 - total_loss: 11.5259 - val_root_mean_squared_error: 2.9832 - val_loss: 8.8717 - val_regularization_loss: 2.0259 - val_total_loss: 10.8976\n",
      "Epoch 20/30\n",
      "8/8 [==============================] - 0s 32ms/step - root_mean_squared_error: 3.0445 - loss: 9.2670 - regularization_loss: 2.0254 - total_loss: 11.2924 - val_root_mean_squared_error: 2.9455 - val_loss: 8.6490 - val_regularization_loss: 2.0249 - val_total_loss: 10.6739\n",
      "Epoch 21/30\n",
      "8/8 [==============================] - 0s 33ms/step - root_mean_squared_error: 3.0059 - loss: 9.0333 - regularization_loss: 2.0245 - total_loss: 11.0578 - val_root_mean_squared_error: 2.9072 - val_loss: 8.4254 - val_regularization_loss: 2.0241 - val_total_loss: 10.4495\n",
      "Epoch 22/30\n",
      "8/8 [==============================] - 0s 31ms/step - root_mean_squared_error: 2.9667 - loss: 8.7987 - regularization_loss: 2.0237 - total_loss: 10.8224 - val_root_mean_squared_error: 2.8683 - val_loss: 8.2016 - val_regularization_loss: 2.0232 - val_total_loss: 10.2248\n",
      "Epoch 23/30\n",
      "8/8 [==============================] - 0s 35ms/step - root_mean_squared_error: 2.9268 - loss: 8.5638 - regularization_loss: 2.0229 - total_loss: 10.5867 - val_root_mean_squared_error: 2.8290 - val_loss: 7.9778 - val_regularization_loss: 2.0224 - val_total_loss: 10.0003\n",
      "Epoch 24/30\n",
      "8/8 [==============================] - 0s 36ms/step - root_mean_squared_error: 2.8865 - loss: 8.3290 - regularization_loss: 2.0221 - total_loss: 10.3511 - val_root_mean_squared_error: 2.7891 - val_loss: 7.7546 - val_regularization_loss: 2.0217 - val_total_loss: 9.7763\n",
      "Epoch 25/30\n",
      "8/8 [==============================] - 0s 33ms/step - root_mean_squared_error: 2.8456 - loss: 8.0948 - regularization_loss: 2.0213 - total_loss: 10.1162 - val_root_mean_squared_error: 2.7488 - val_loss: 7.5324 - val_regularization_loss: 2.0209 - val_total_loss: 9.5533\n",
      "Epoch 26/30\n",
      "8/8 [==============================] - 0s 32ms/step - root_mean_squared_error: 2.8044 - loss: 7.8617 - regularization_loss: 2.0206 - total_loss: 9.8823 - val_root_mean_squared_error: 2.7082 - val_loss: 7.3115 - val_regularization_loss: 2.0202 - val_total_loss: 9.3318\n",
      "Epoch 27/30\n",
      "8/8 [==============================] - 0s 29ms/step - root_mean_squared_error: 2.7628 - loss: 7.6300 - regularization_loss: 2.0199 - total_loss: 9.6499 - val_root_mean_squared_error: 2.6674 - val_loss: 7.0925 - val_regularization_loss: 2.0195 - val_total_loss: 9.1120\n",
      "Epoch 28/30\n",
      "8/8 [==============================] - 0s 33ms/step - root_mean_squared_error: 2.7209 - loss: 7.4001 - regularization_loss: 2.0192 - total_loss: 9.4193 - val_root_mean_squared_error: 2.6262 - val_loss: 6.8756 - val_regularization_loss: 2.0189 - val_total_loss: 8.8944\n",
      "Epoch 29/30\n",
      "8/8 [==============================] - 0s 32ms/step - root_mean_squared_error: 2.6787 - loss: 7.1725 - regularization_loss: 2.0185 - total_loss: 9.1911 - val_root_mean_squared_error: 2.5850 - val_loss: 6.6612 - val_regularization_loss: 2.0182 - val_total_loss: 8.6794\n",
      "Epoch 30/30\n",
      "8/8 [==============================] - 0s 32ms/step - root_mean_squared_error: 2.6364 - loss: 6.9476 - regularization_loss: 2.0179 - total_loss: 8.9655 - val_root_mean_squared_error: 2.5436 - val_loss: 6.4496 - val_regularization_loss: 2.0176 - val_total_loss: 8.4672\n",
      "Learning rate = 0.01\n",
      "Epoch 1/30\n",
      "8/8 [==============================] - 1s 55ms/step - root_mean_squared_error: 3.4364 - loss: 11.5793 - regularization_loss: 2.0538 - total_loss: 13.6332 - val_root_mean_squared_error: 2.9276 - val_loss: 8.5474 - val_regularization_loss: 2.0466 - val_total_loss: 10.5941\n",
      "Epoch 2/30\n",
      "8/8 [==============================] - 0s 36ms/step - root_mean_squared_error: 2.5747 - loss: 6.3704 - regularization_loss: 2.0443 - total_loss: 8.4147 - val_root_mean_squared_error: 1.8725 - val_loss: 3.5024 - val_regularization_loss: 2.0435 - val_total_loss: 5.5458\n",
      "Epoch 3/30\n",
      "8/8 [==============================] - 0s 32ms/step - root_mean_squared_error: 1.5716 - loss: 2.3745 - regularization_loss: 2.0424 - total_loss: 4.4169 - val_root_mean_squared_error: 1.2071 - val_loss: 1.4705 - val_regularization_loss: 2.0397 - val_total_loss: 3.5102\n",
      "Epoch 4/30\n",
      "8/8 [==============================] - 0s 30ms/step - root_mean_squared_error: 1.1644 - loss: 1.3479 - regularization_loss: 2.0333 - total_loss: 3.3812 - val_root_mean_squared_error: 1.1342 - val_loss: 1.3060 - val_regularization_loss: 2.0254 - val_total_loss: 3.3314\n",
      "Epoch 5/30\n",
      "8/8 [==============================] - 0s 36ms/step - root_mean_squared_error: 1.1253 - loss: 1.2661 - regularization_loss: 2.0164 - total_loss: 3.2826 - val_root_mean_squared_error: 1.1350 - val_loss: 1.3090 - val_regularization_loss: 2.0067 - val_total_loss: 3.3157\n",
      "Epoch 6/30\n",
      "8/8 [==============================] - 0s 35ms/step - root_mean_squared_error: 1.1226 - loss: 1.2604 - regularization_loss: 1.9972 - total_loss: 3.2576 - val_root_mean_squared_error: 1.1354 - val_loss: 1.3100 - val_regularization_loss: 1.9872 - val_total_loss: 3.2973\n",
      "Epoch 7/30\n",
      "8/8 [==============================] - 0s 35ms/step - root_mean_squared_error: 1.1214 - loss: 1.2576 - regularization_loss: 1.9778 - total_loss: 3.2354 - val_root_mean_squared_error: 1.1352 - val_loss: 1.3096 - val_regularization_loss: 1.9678 - val_total_loss: 3.2775\n",
      "Epoch 8/30\n",
      "8/8 [==============================] - 0s 29ms/step - root_mean_squared_error: 1.1202 - loss: 1.2550 - regularization_loss: 1.9585 - total_loss: 3.2135 - val_root_mean_squared_error: 1.1349 - val_loss: 1.3089 - val_regularization_loss: 1.9486 - val_total_loss: 3.2576\n",
      "Epoch 9/30\n",
      "8/8 [==============================] - 0s 33ms/step - root_mean_squared_error: 1.1191 - loss: 1.2525 - regularization_loss: 1.9393 - total_loss: 3.1918 - val_root_mean_squared_error: 1.1346 - val_loss: 1.3082 - val_regularization_loss: 1.9296 - val_total_loss: 3.2378\n",
      "Epoch 10/30\n",
      "8/8 [==============================] - 0s 32ms/step - root_mean_squared_error: 1.1179 - loss: 1.2499 - regularization_loss: 1.9204 - total_loss: 3.1704 - val_root_mean_squared_error: 1.1343 - val_loss: 1.3075 - val_regularization_loss: 1.9108 - val_total_loss: 3.2183\n",
      "Epoch 11/30\n",
      "8/8 [==============================] - 0s 33ms/step - root_mean_squared_error: 1.1168 - loss: 1.2474 - regularization_loss: 1.9017 - total_loss: 3.1491 - val_root_mean_squared_error: 1.1340 - val_loss: 1.3068 - val_regularization_loss: 1.8922 - val_total_loss: 3.1990\n",
      "Epoch 12/30\n",
      "8/8 [==============================] - 0s 34ms/step - root_mean_squared_error: 1.1156 - loss: 1.2448 - regularization_loss: 1.8832 - total_loss: 3.1280 - val_root_mean_squared_error: 1.1337 - val_loss: 1.3060 - val_regularization_loss: 1.8738 - val_total_loss: 3.1799\n",
      "Epoch 13/30\n",
      "8/8 [==============================] - 0s 32ms/step - root_mean_squared_error: 1.1144 - loss: 1.2422 - regularization_loss: 1.8649 - total_loss: 3.1071 - val_root_mean_squared_error: 1.1334 - val_loss: 1.3053 - val_regularization_loss: 1.8557 - val_total_loss: 3.1609\n",
      "Epoch 14/30\n",
      "8/8 [==============================] - 0s 33ms/step - root_mean_squared_error: 1.1132 - loss: 1.2395 - regularization_loss: 1.8469 - total_loss: 3.0863 - val_root_mean_squared_error: 1.1331 - val_loss: 1.3045 - val_regularization_loss: 1.8377 - val_total_loss: 3.1422\n",
      "Epoch 15/30\n",
      "8/8 [==============================] - 0s 30ms/step - root_mean_squared_error: 1.1120 - loss: 1.2367 - regularization_loss: 1.8290 - total_loss: 3.0657 - val_root_mean_squared_error: 1.1328 - val_loss: 1.3037 - val_regularization_loss: 1.8199 - val_total_loss: 3.1236\n",
      "Epoch 16/30\n",
      "8/8 [==============================] - 0s 53ms/step - root_mean_squared_error: 1.1107 - loss: 1.2339 - regularization_loss: 1.8113 - total_loss: 3.0452 - val_root_mean_squared_error: 1.1324 - val_loss: 1.3029 - val_regularization_loss: 1.8023 - val_total_loss: 3.1052\n",
      "Epoch 17/30\n",
      "8/8 [==============================] - 0s 34ms/step - root_mean_squared_error: 1.1093 - loss: 1.2309 - regularization_loss: 1.7938 - total_loss: 3.0247 - val_root_mean_squared_error: 1.1321 - val_loss: 1.3021 - val_regularization_loss: 1.7849 - val_total_loss: 3.0870\n",
      "Epoch 18/30\n",
      "8/8 [==============================] - 0s 32ms/step - root_mean_squared_error: 1.1080 - loss: 1.2279 - regularization_loss: 1.7765 - total_loss: 3.0044 - val_root_mean_squared_error: 1.1317 - val_loss: 1.3013 - val_regularization_loss: 1.7677 - val_total_loss: 3.0690\n",
      "Epoch 19/30\n",
      "8/8 [==============================] - 0s 36ms/step - root_mean_squared_error: 1.1065 - loss: 1.2248 - regularization_loss: 1.7594 - total_loss: 2.9842 - val_root_mean_squared_error: 1.1314 - val_loss: 1.3004 - val_regularization_loss: 1.7507 - val_total_loss: 3.0512\n",
      "Epoch 20/30\n",
      "8/8 [==============================] - 0s 32ms/step - root_mean_squared_error: 1.1051 - loss: 1.2215 - regularization_loss: 1.7425 - total_loss: 2.9640 - val_root_mean_squared_error: 1.1310 - val_loss: 1.2996 - val_regularization_loss: 1.7339 - val_total_loss: 3.0335\n",
      "Epoch 21/30\n",
      "8/8 [==============================] - 0s 32ms/step - root_mean_squared_error: 1.1036 - loss: 1.2182 - regularization_loss: 1.7258 - total_loss: 2.9439 - val_root_mean_squared_error: 1.1307 - val_loss: 1.2987 - val_regularization_loss: 1.7173 - val_total_loss: 3.0160\n",
      "Epoch 22/30\n",
      "8/8 [==============================] - 0s 29ms/step - root_mean_squared_error: 1.1020 - loss: 1.2147 - regularization_loss: 1.7092 - total_loss: 2.9239 - val_root_mean_squared_error: 1.1303 - val_loss: 1.2978 - val_regularization_loss: 1.7008 - val_total_loss: 2.9987\n",
      "Epoch 23/30\n",
      "8/8 [==============================] - 0s 35ms/step - root_mean_squared_error: 1.1003 - loss: 1.2111 - regularization_loss: 1.6929 - total_loss: 2.9040 - val_root_mean_squared_error: 1.1299 - val_loss: 1.2969 - val_regularization_loss: 1.6846 - val_total_loss: 2.9815\n",
      "Epoch 24/30\n",
      "8/8 [==============================] - 0s 32ms/step - root_mean_squared_error: 1.0987 - loss: 1.2075 - regularization_loss: 1.6767 - total_loss: 2.8842 - val_root_mean_squared_error: 1.1295 - val_loss: 1.2960 - val_regularization_loss: 1.6685 - val_total_loss: 2.9645\n",
      "Epoch 25/30\n",
      "8/8 [==============================] - 0s 33ms/step - root_mean_squared_error: 1.0969 - loss: 1.2036 - regularization_loss: 1.6607 - total_loss: 2.8644 - val_root_mean_squared_error: 1.1292 - val_loss: 1.2950 - val_regularization_loss: 1.6526 - val_total_loss: 2.9476\n",
      "Epoch 26/30\n",
      "8/8 [==============================] - 0s 31ms/step - root_mean_squared_error: 1.0951 - loss: 1.1997 - regularization_loss: 1.6449 - total_loss: 2.8447 - val_root_mean_squared_error: 1.1287 - val_loss: 1.2940 - val_regularization_loss: 1.6369 - val_total_loss: 2.9310\n",
      "Epoch 27/30\n",
      "8/8 [==============================] - 0s 35ms/step - root_mean_squared_error: 1.0932 - loss: 1.1957 - regularization_loss: 1.6293 - total_loss: 2.8250 - val_root_mean_squared_error: 1.1283 - val_loss: 1.2930 - val_regularization_loss: 1.6214 - val_total_loss: 2.9144\n",
      "Epoch 28/30\n",
      "8/8 [==============================] - 0s 34ms/step - root_mean_squared_error: 1.0913 - loss: 1.1915 - regularization_loss: 1.6139 - total_loss: 2.8054 - val_root_mean_squared_error: 1.1279 - val_loss: 1.2919 - val_regularization_loss: 1.6061 - val_total_loss: 2.8980\n",
      "Epoch 29/30\n",
      "8/8 [==============================] - 0s 30ms/step - root_mean_squared_error: 1.0894 - loss: 1.1872 - regularization_loss: 1.5986 - total_loss: 2.7859 - val_root_mean_squared_error: 1.1274 - val_loss: 1.2908 - val_regularization_loss: 1.5909 - val_total_loss: 2.8817\n",
      "Epoch 30/30\n",
      "8/8 [==============================] - 0s 31ms/step - root_mean_squared_error: 1.0873 - loss: 1.1829 - regularization_loss: 1.5835 - total_loss: 2.7664 - val_root_mean_squared_error: 1.1270 - val_loss: 1.2897 - val_regularization_loss: 1.5759 - val_total_loss: 2.8656\n",
      "Learning rate = 0.1\n",
      "Epoch 1/30\n",
      "8/8 [==============================] - 1s 52ms/step - root_mean_squared_error: 2.2857 - loss: 4.7789 - regularization_loss: 1.9595 - total_loss: 6.7384 - val_root_mean_squared_error: 1.1384 - val_loss: 1.3130 - val_regularization_loss: 1.8650 - val_total_loss: 3.1780\n",
      "Epoch 2/30\n",
      "8/8 [==============================] - 0s 29ms/step - root_mean_squared_error: 1.1241 - loss: 1.2622 - regularization_loss: 1.7792 - total_loss: 3.0414 - val_root_mean_squared_error: 1.1383 - val_loss: 1.3163 - val_regularization_loss: 1.6901 - val_total_loss: 3.0064\n",
      "Epoch 3/30\n",
      "8/8 [==============================] - 0s 30ms/step - root_mean_squared_error: 1.1164 - loss: 1.2464 - regularization_loss: 1.6109 - total_loss: 2.8573 - val_root_mean_squared_error: 1.1445 - val_loss: 1.3309 - val_regularization_loss: 1.5314 - val_total_loss: 2.8623\n",
      "Epoch 4/30\n",
      "8/8 [==============================] - 0s 31ms/step - root_mean_squared_error: 1.1110 - loss: 1.2342 - regularization_loss: 1.4597 - total_loss: 2.6939 - val_root_mean_squared_error: 1.1453 - val_loss: 1.3323 - val_regularization_loss: 1.3886 - val_total_loss: 2.7209\n",
      "Epoch 5/30\n",
      "8/8 [==============================] - 0s 30ms/step - root_mean_squared_error: 1.1011 - loss: 1.2121 - regularization_loss: 1.3242 - total_loss: 2.5363 - val_root_mean_squared_error: 1.1445 - val_loss: 1.3298 - val_regularization_loss: 1.2607 - val_total_loss: 2.5905\n",
      "Epoch 6/30\n",
      "8/8 [==============================] - 0s 30ms/step - root_mean_squared_error: 1.0884 - loss: 1.1843 - regularization_loss: 1.2030 - total_loss: 2.3873 - val_root_mean_squared_error: 1.1437 - val_loss: 1.3271 - val_regularization_loss: 1.1464 - val_total_loss: 2.4735\n",
      "Epoch 7/30\n",
      "8/8 [==============================] - 0s 31ms/step - root_mean_squared_error: 1.0745 - loss: 1.1544 - regularization_loss: 1.0945 - total_loss: 2.2489 - val_root_mean_squared_error: 1.1422 - val_loss: 1.3225 - val_regularization_loss: 1.0440 - val_total_loss: 2.3665\n",
      "Epoch 8/30\n",
      "8/8 [==============================] - 0s 33ms/step - root_mean_squared_error: 1.0607 - loss: 1.1252 - regularization_loss: 0.9972 - total_loss: 2.1223 - val_root_mean_squared_error: 1.1397 - val_loss: 1.3158 - val_regularization_loss: 0.9519 - val_total_loss: 2.2677\n",
      "Epoch 9/30\n",
      "8/8 [==============================] - 0s 31ms/step - root_mean_squared_error: 1.0479 - loss: 1.0984 - regularization_loss: 0.9096 - total_loss: 2.0079 - val_root_mean_squared_error: 1.1367 - val_loss: 1.3081 - val_regularization_loss: 0.8691 - val_total_loss: 2.1772\n",
      "Epoch 10/30\n",
      "8/8 [==============================] - 0s 29ms/step - root_mean_squared_error: 1.0361 - loss: 1.0740 - regularization_loss: 0.8307 - total_loss: 1.9047 - val_root_mean_squared_error: 1.1336 - val_loss: 1.3001 - val_regularization_loss: 0.7946 - val_total_loss: 2.0947\n",
      "Epoch 11/30\n",
      "8/8 [==============================] - 0s 27ms/step - root_mean_squared_error: 1.0253 - loss: 1.0519 - regularization_loss: 0.7597 - total_loss: 1.8116 - val_root_mean_squared_error: 1.1297 - val_loss: 1.2904 - val_regularization_loss: 0.7274 - val_total_loss: 2.0179\n",
      "Epoch 12/30\n",
      "8/8 [==============================] - 0s 34ms/step - root_mean_squared_error: 1.0150 - loss: 1.0308 - regularization_loss: 0.6956 - total_loss: 1.7264 - val_root_mean_squared_error: 1.1241 - val_loss: 1.2770 - val_regularization_loss: 0.6666 - val_total_loss: 1.9436\n",
      "Epoch 13/30\n",
      "8/8 [==============================] - 0s 32ms/step - root_mean_squared_error: 1.0047 - loss: 1.0099 - regularization_loss: 0.6375 - total_loss: 1.6475 - val_root_mean_squared_error: 1.1169 - val_loss: 1.2601 - val_regularization_loss: 0.6114 - val_total_loss: 1.8715\n",
      "Epoch 14/30\n",
      "8/8 [==============================] - 0s 32ms/step - root_mean_squared_error: 0.9946 - loss: 0.9899 - regularization_loss: 0.5848 - total_loss: 1.5747 - val_root_mean_squared_error: 1.1093 - val_loss: 1.2424 - val_regularization_loss: 0.5611 - val_total_loss: 1.8035\n",
      "Epoch 15/30\n",
      "8/8 [==============================] - 0s 31ms/step - root_mean_squared_error: 0.9856 - loss: 0.9721 - regularization_loss: 0.5368 - total_loss: 1.5088 - val_root_mean_squared_error: 1.1025 - val_loss: 1.2265 - val_regularization_loss: 0.5153 - val_total_loss: 1.7417\n",
      "Epoch 16/30\n",
      "8/8 [==============================] - 0s 32ms/step - root_mean_squared_error: 0.9779 - loss: 0.9570 - regularization_loss: 0.4931 - total_loss: 1.4501 - val_root_mean_squared_error: 1.0966 - val_loss: 1.2129 - val_regularization_loss: 0.4736 - val_total_loss: 1.6865\n",
      "Epoch 17/30\n",
      "8/8 [==============================] - 0s 30ms/step - root_mean_squared_error: 0.9714 - loss: 0.9445 - regularization_loss: 0.4533 - total_loss: 1.3978 - val_root_mean_squared_error: 1.0917 - val_loss: 1.2015 - val_regularization_loss: 0.4357 - val_total_loss: 1.6372\n",
      "Epoch 18/30\n",
      "8/8 [==============================] - 0s 31ms/step - root_mean_squared_error: 0.9659 - loss: 0.9340 - regularization_loss: 0.4171 - total_loss: 1.3512 - val_root_mean_squared_error: 1.0876 - val_loss: 1.1921 - val_regularization_loss: 0.4012 - val_total_loss: 1.5932\n",
      "Epoch 19/30\n",
      "8/8 [==============================] - 0s 31ms/step - root_mean_squared_error: 0.9613 - loss: 0.9252 - regularization_loss: 0.3843 - total_loss: 1.3095 - val_root_mean_squared_error: 1.0842 - val_loss: 1.1841 - val_regularization_loss: 0.3699 - val_total_loss: 1.5539\n",
      "Epoch 20/30\n",
      "8/8 [==============================] - 0s 30ms/step - root_mean_squared_error: 0.9574 - loss: 0.9177 - regularization_loss: 0.3544 - total_loss: 1.2721 - val_root_mean_squared_error: 1.0812 - val_loss: 1.1772 - val_regularization_loss: 0.3414 - val_total_loss: 1.5186\n",
      "Epoch 21/30\n",
      "8/8 [==============================] - 0s 31ms/step - root_mean_squared_error: 0.9539 - loss: 0.9111 - regularization_loss: 0.3273 - total_loss: 1.2384 - val_root_mean_squared_error: 1.0786 - val_loss: 1.1711 - val_regularization_loss: 0.3156 - val_total_loss: 1.4867\n",
      "Epoch 22/30\n",
      "8/8 [==============================] - 0s 29ms/step - root_mean_squared_error: 0.9509 - loss: 0.9054 - regularization_loss: 0.3026 - total_loss: 1.2080 - val_root_mean_squared_error: 1.0763 - val_loss: 1.1659 - val_regularization_loss: 0.2921 - val_total_loss: 1.4580\n",
      "Epoch 23/30\n",
      "8/8 [==============================] - 0s 29ms/step - root_mean_squared_error: 0.9482 - loss: 0.9004 - regularization_loss: 0.2803 - total_loss: 1.1806 - val_root_mean_squared_error: 1.0743 - val_loss: 1.1612 - val_regularization_loss: 0.2708 - val_total_loss: 1.4321\n",
      "Epoch 24/30\n",
      "8/8 [==============================] - 0s 32ms/step - root_mean_squared_error: 0.9458 - loss: 0.8958 - regularization_loss: 0.2600 - total_loss: 1.1558 - val_root_mean_squared_error: 1.0725 - val_loss: 1.1571 - val_regularization_loss: 0.2515 - val_total_loss: 1.4085\n",
      "Epoch 25/30\n",
      "8/8 [==============================] - 0s 31ms/step - root_mean_squared_error: 0.9437 - loss: 0.8918 - regularization_loss: 0.2415 - total_loss: 1.1333 - val_root_mean_squared_error: 1.0708 - val_loss: 1.1533 - val_regularization_loss: 0.2339 - val_total_loss: 1.3872\n",
      "Epoch 26/30\n",
      "8/8 [==============================] - 0s 29ms/step - root_mean_squared_error: 0.9417 - loss: 0.8881 - regularization_loss: 0.2248 - total_loss: 1.1129 - val_root_mean_squared_error: 1.0694 - val_loss: 1.1500 - val_regularization_loss: 0.2180 - val_total_loss: 1.3680\n",
      "Epoch 27/30\n",
      "8/8 [==============================] - 0s 30ms/step - root_mean_squared_error: 0.9400 - loss: 0.8848 - regularization_loss: 0.2096 - total_loss: 1.0944 - val_root_mean_squared_error: 1.0680 - val_loss: 1.1470 - val_regularization_loss: 0.2035 - val_total_loss: 1.3505\n",
      "Epoch 28/30\n",
      "8/8 [==============================] - 0s 53ms/step - root_mean_squared_error: 0.9384 - loss: 0.8818 - regularization_loss: 0.1958 - total_loss: 1.0777 - val_root_mean_squared_error: 1.0669 - val_loss: 1.1443 - val_regularization_loss: 0.1904 - val_total_loss: 1.3347\n",
      "Epoch 29/30\n",
      "8/8 [==============================] - 0s 31ms/step - root_mean_squared_error: 0.9369 - loss: 0.8791 - regularization_loss: 0.1833 - total_loss: 1.0624 - val_root_mean_squared_error: 1.0658 - val_loss: 1.1419 - val_regularization_loss: 0.1785 - val_total_loss: 1.3203\n",
      "Epoch 30/30\n",
      "8/8 [==============================] - 0s 34ms/step - root_mean_squared_error: 0.9356 - loss: 0.8766 - regularization_loss: 0.1719 - total_loss: 1.0486 - val_root_mean_squared_error: 1.0648 - val_loss: 1.1397 - val_regularization_loss: 0.1676 - val_total_loss: 1.3073\n",
      "Learning rate = 1\n",
      "Epoch 1/30\n",
      "8/8 [==============================] - 1s 49ms/step - root_mean_squared_error: 8.2958 - loss: 62.3243 - regularization_loss: 30.0719 - total_loss: 92.3962 - val_root_mean_squared_error: 3.0564 - val_loss: 9.3134 - val_regularization_loss: 36.7198 - val_total_loss: 46.0332\n",
      "Epoch 2/30\n",
      "8/8 [==============================] - 0s 31ms/step - root_mean_squared_error: 2.5506 - loss: 6.1111 - regularization_loss: 34.6625 - total_loss: 40.7736 - val_root_mean_squared_error: 1.4758 - val_loss: 2.1824 - val_regularization_loss: 32.6252 - val_total_loss: 34.8076\n",
      "Epoch 3/30\n",
      "8/8 [==============================] - 0s 30ms/step - root_mean_squared_error: 1.2525 - loss: 1.5358 - regularization_loss: 30.9575 - total_loss: 32.4933 - val_root_mean_squared_error: 1.1375 - val_loss: 1.3153 - val_regularization_loss: 29.3470 - val_total_loss: 30.6623\n",
      "Epoch 4/30\n",
      "8/8 [==============================] - 0s 29ms/step - root_mean_squared_error: 1.1256 - loss: 1.2670 - regularization_loss: 28.0651 - total_loss: 29.3321 - val_root_mean_squared_error: 1.1412 - val_loss: 1.3247 - val_regularization_loss: 26.8000 - val_total_loss: 28.1247\n",
      "Epoch 5/30\n",
      "8/8 [==============================] - 0s 32ms/step - root_mean_squared_error: 1.1252 - loss: 1.2662 - regularization_loss: 25.7532 - total_loss: 27.0193 - val_root_mean_squared_error: 1.1412 - val_loss: 1.3249 - val_regularization_loss: 24.7057 - val_total_loss: 26.0306\n",
      "Epoch 6/30\n",
      "8/8 [==============================] - 0s 33ms/step - root_mean_squared_error: 1.1252 - loss: 1.2661 - regularization_loss: 23.8176 - total_loss: 25.0837 - val_root_mean_squared_error: 1.1411 - val_loss: 1.3247 - val_regularization_loss: 22.9210 - val_total_loss: 24.2456\n",
      "Epoch 7/30\n",
      "8/8 [==============================] - 0s 32ms/step - root_mean_squared_error: 1.1252 - loss: 1.2661 - regularization_loss: 22.1485 - total_loss: 23.4146 - val_root_mean_squared_error: 1.1411 - val_loss: 1.3245 - val_regularization_loss: 21.3642 - val_total_loss: 22.6887\n",
      "Epoch 8/30\n",
      "8/8 [==============================] - 0s 31ms/step - root_mean_squared_error: 1.1252 - loss: 1.2661 - regularization_loss: 20.6812 - total_loss: 21.9473 - val_root_mean_squared_error: 1.1410 - val_loss: 1.3244 - val_regularization_loss: 19.9848 - val_total_loss: 21.3092\n",
      "Epoch 9/30\n",
      "8/8 [==============================] - 0s 33ms/step - root_mean_squared_error: 1.1252 - loss: 1.2661 - regularization_loss: 19.3737 - total_loss: 20.6398 - val_root_mean_squared_error: 1.1410 - val_loss: 1.3244 - val_regularization_loss: 18.7488 - val_total_loss: 20.0732\n",
      "Epoch 10/30\n",
      "8/8 [==============================] - 0s 30ms/step - root_mean_squared_error: 1.1252 - loss: 1.2660 - regularization_loss: 18.1973 - total_loss: 19.4633 - val_root_mean_squared_error: 1.1410 - val_loss: 1.3244 - val_regularization_loss: 17.6320 - val_total_loss: 18.9564\n",
      "Epoch 11/30\n",
      "8/8 [==============================] - 0s 30ms/step - root_mean_squared_error: 1.1252 - loss: 1.2660 - regularization_loss: 17.1308 - total_loss: 18.3968 - val_root_mean_squared_error: 1.1410 - val_loss: 1.3244 - val_regularization_loss: 16.6162 - val_total_loss: 17.9405\n",
      "Epoch 12/30\n",
      "8/8 [==============================] - 0s 31ms/step - root_mean_squared_error: 1.1252 - loss: 1.2660 - regularization_loss: 16.1582 - total_loss: 17.4242 - val_root_mean_squared_error: 1.1410 - val_loss: 1.3245 - val_regularization_loss: 15.6872 - val_total_loss: 17.0117\n",
      "Epoch 13/30\n",
      "8/8 [==============================] - 0s 30ms/step - root_mean_squared_error: 1.1251 - loss: 1.2660 - regularization_loss: 15.2668 - total_loss: 16.5328 - val_root_mean_squared_error: 1.1410 - val_loss: 1.3246 - val_regularization_loss: 14.8339 - val_total_loss: 16.1584\n",
      "Epoch 14/30\n",
      "8/8 [==============================] - 0s 31ms/step - root_mean_squared_error: 1.1251 - loss: 1.2659 - regularization_loss: 14.4465 - total_loss: 15.7124 - val_root_mean_squared_error: 1.1411 - val_loss: 1.3246 - val_regularization_loss: 14.0471 - val_total_loss: 15.3717\n",
      "Epoch 15/30\n",
      "8/8 [==============================] - 0s 30ms/step - root_mean_squared_error: 1.1251 - loss: 1.2659 - regularization_loss: 13.6889 - total_loss: 14.9548 - val_root_mean_squared_error: 1.1411 - val_loss: 1.3247 - val_regularization_loss: 13.3192 - val_total_loss: 14.6440\n",
      "Epoch 16/30\n",
      "8/8 [==============================] - 0s 32ms/step - root_mean_squared_error: 1.1251 - loss: 1.2659 - regularization_loss: 12.9871 - total_loss: 14.2530 - val_root_mean_squared_error: 1.1411 - val_loss: 1.3248 - val_regularization_loss: 12.6440 - val_total_loss: 13.9688\n",
      "Epoch 17/30\n",
      "8/8 [==============================] - 0s 32ms/step - root_mean_squared_error: 1.1251 - loss: 1.2659 - regularization_loss: 12.3351 - total_loss: 13.6010 - val_root_mean_squared_error: 1.1411 - val_loss: 1.3248 - val_regularization_loss: 12.0159 - val_total_loss: 13.3407\n",
      "Epoch 18/30\n",
      "8/8 [==============================] - 0s 34ms/step - root_mean_squared_error: 1.1251 - loss: 1.2659 - regularization_loss: 11.7281 - total_loss: 12.9940 - val_root_mean_squared_error: 1.1411 - val_loss: 1.3249 - val_regularization_loss: 11.4304 - val_total_loss: 12.7553\n",
      "Epoch 19/30\n",
      "8/8 [==============================] - 0s 35ms/step - root_mean_squared_error: 1.1251 - loss: 1.2659 - regularization_loss: 11.1616 - total_loss: 12.4275 - val_root_mean_squared_error: 1.1412 - val_loss: 1.3249 - val_regularization_loss: 10.8834 - val_total_loss: 12.2083\n",
      "Epoch 20/30\n",
      "8/8 [==============================] - 0s 34ms/step - root_mean_squared_error: 1.1251 - loss: 1.2659 - regularization_loss: 10.6319 - total_loss: 11.8978 - val_root_mean_squared_error: 1.1412 - val_loss: 1.3249 - val_regularization_loss: 10.3715 - val_total_loss: 11.6964\n",
      "Epoch 21/30\n",
      "8/8 [==============================] - 0s 37ms/step - root_mean_squared_error: 1.1251 - loss: 1.2658 - regularization_loss: 10.1357 - total_loss: 11.4016 - val_root_mean_squared_error: 1.1412 - val_loss: 1.3249 - val_regularization_loss: 9.8915 - val_total_loss: 11.2164\n",
      "Epoch 22/30\n",
      "8/8 [==============================] - 0s 32ms/step - root_mean_squared_error: 1.1251 - loss: 1.2658 - regularization_loss: 9.6702 - total_loss: 10.9360 - val_root_mean_squared_error: 1.1411 - val_loss: 1.3248 - val_regularization_loss: 9.4408 - val_total_loss: 10.7657\n",
      "Epoch 23/30\n",
      "8/8 [==============================] - 0s 32ms/step - root_mean_squared_error: 1.1251 - loss: 1.2658 - regularization_loss: 9.2328 - total_loss: 10.4985 - val_root_mean_squared_error: 1.1411 - val_loss: 1.3248 - val_regularization_loss: 9.0170 - val_total_loss: 10.3418\n",
      "Epoch 24/30\n",
      "8/8 [==============================] - 0s 30ms/step - root_mean_squared_error: 1.1250 - loss: 1.2657 - regularization_loss: 8.8211 - total_loss: 10.0869 - val_root_mean_squared_error: 1.1411 - val_loss: 1.3247 - val_regularization_loss: 8.6179 - val_total_loss: 9.9426\n",
      "Epoch 25/30\n",
      "8/8 [==============================] - 0s 35ms/step - root_mean_squared_error: 1.1250 - loss: 1.2657 - regularization_loss: 8.4333 - total_loss: 9.6990 - val_root_mean_squared_error: 1.1410 - val_loss: 1.3246 - val_regularization_loss: 8.2417 - val_total_loss: 9.5662\n",
      "Epoch 26/30\n",
      "8/8 [==============================] - 0s 33ms/step - root_mean_squared_error: 1.1250 - loss: 1.2656 - regularization_loss: 8.0674 - total_loss: 9.3330 - val_root_mean_squared_error: 1.1410 - val_loss: 1.3244 - val_regularization_loss: 7.8865 - val_total_loss: 9.2109\n",
      "Epoch 27/30\n",
      "8/8 [==============================] - 0s 34ms/step - root_mean_squared_error: 1.1249 - loss: 1.2655 - regularization_loss: 7.7219 - total_loss: 8.9874 - val_root_mean_squared_error: 1.1410 - val_loss: 1.3243 - val_regularization_loss: 7.5509 - val_total_loss: 8.8752\n",
      "Epoch 28/30\n",
      "8/8 [==============================] - 0s 34ms/step - root_mean_squared_error: 1.1249 - loss: 1.2654 - regularization_loss: 7.3952 - total_loss: 8.6606 - val_root_mean_squared_error: 1.1409 - val_loss: 1.3242 - val_regularization_loss: 7.2334 - val_total_loss: 8.5576\n",
      "Epoch 29/30\n",
      "8/8 [==============================] - 0s 34ms/step - root_mean_squared_error: 1.1248 - loss: 1.2652 - regularization_loss: 7.0860 - total_loss: 8.3512 - val_root_mean_squared_error: 1.1409 - val_loss: 1.3241 - val_regularization_loss: 6.9328 - val_total_loss: 8.2569\n",
      "Epoch 30/30\n",
      "8/8 [==============================] - 0s 32ms/step - root_mean_squared_error: 1.1247 - loss: 1.2650 - regularization_loss: 6.7931 - total_loss: 8.0581 - val_root_mean_squared_error: 1.1409 - val_loss: 1.3240 - val_regularization_loss: 6.6479 - val_total_loss: 7.9719\n"
     ]
    }
   ],
   "source": [
    "# Store the training histories in a dictionary\n",
    "# This can probably be done better or more securely than here, because we are creating \n",
    "# variable names from values, but it serves the purpose here of plotting the tuning\n",
    "\n",
    "histories_tr = {}\n",
    "\n",
    "# For each learning rate:\n",
    "\n",
    "# - Create an instance of the model class that can be used as the model\n",
    "# - Compile the model to set its initial parameters\n",
    "# - Train the model using .fit, minimizing the loss on the neural network predictions of the user ratings\n",
    "\n",
    "for val in learning_rates_logarithmic:\n",
    "    print('Learning rate = {}'.format(val))\n",
    "    model_tr = MovielensModelTunedRanking()\n",
    "    model_tr.compile(optimizer=tf.keras.optimizers.Adagrad(learning_rate=val))\n",
    "\n",
    "    lr = str(val)\n",
    "    histories_tr[lr] = model_tr.fit(cached_train, epochs=epochs, validation_data=cached_validation)"
   ]
  },
  {
   "cell_type": "markdown",
   "metadata": {
    "id": "w_mymY1K_Dlz"
   },
   "source": [
    "As above, we can view and plot the tuning history, now for multiple hyperparameter tuning grid points."
   ]
  },
  {
   "cell_type": "code",
   "execution_count": 39,
   "metadata": {
    "colab": {
     "base_uri": "https://localhost:8080/"
    },
    "id": "yWoxGpqX99tl",
    "outputId": "0ef9d914-47d8-4593-d9f1-5d18c0e18972"
   },
   "outputs": [
    {
     "data": {
      "text/plain": [
       "{'0.001': <tensorflow.python.keras.callbacks.History at 0x7f69f85ef518>,\n",
       " '0.01': <tensorflow.python.keras.callbacks.History at 0x7f69f86ab4e0>,\n",
       " '0.1': <tensorflow.python.keras.callbacks.History at 0x7f69f86a9048>,\n",
       " '1': <tensorflow.python.keras.callbacks.History at 0x7f69f84c2390>}"
      ]
     },
     "execution_count": 39,
     "metadata": {},
     "output_type": "execute_result"
    }
   ],
   "source": [
    "# All 4 histories\n",
    "histories_tr"
   ]
  },
  {
   "cell_type": "code",
   "execution_count": 40,
   "metadata": {
    "colab": {
     "base_uri": "https://localhost:8080/"
    },
    "id": "XgssZ1Tm-JDv",
    "outputId": "83900cad-51a5-4642-89ba-c0754ab8c1a3"
   },
   "outputs": [
    {
     "name": "stdout",
     "output_type": "stream",
     "text": [
      "{'loss': [1.309243083000183, 1.2522639036178589, 1.2477599382400513,\n",
      "          1.2326867580413818, 1.2090638875961304, 1.1816613674163818,\n",
      "          1.1529940366744995, 1.1256237030029297, 1.1003986597061157,\n",
      "          1.077469825744629, 1.056337594985962, 1.0355181694030762,\n",
      "          1.0145463943481445, 0.994793176651001, 0.9776598215103149,\n",
      "          0.9634072780609131, 0.951555609703064, 0.9416896104812622,\n",
      "          0.9333528280258179, 0.9262052774429321, 0.9199953079223633,\n",
      "          0.9145632386207581, 0.9097347259521484, 0.9054068922996521,\n",
      "          0.9015343189239502, 0.8980690836906433, 0.8949482440948486,\n",
      "          0.8921136856079102, 0.8895449042320251, 0.8872078657150269],\n",
      " 'regularization_loss': [1.89263117313385, 1.7108107805252075,\n",
      "                         1.5487741231918335, 1.4037666320800781,\n",
      "                         1.2740445137023926, 1.1580241918563843,\n",
      "                         1.0541282892227173, 0.9607217907905579,\n",
      "                         0.876612663269043, 0.8008889555931091,\n",
      "                         0.7326128482818604, 0.670909583568573,\n",
      "                         0.615015983581543, 0.5642530918121338,\n",
      "                         0.518068790435791, 0.4760188162326813,\n",
      "                         0.437751442193985, 0.40294545888900757,\n",
      "                         0.3713110685348511, 0.3425750136375427,\n",
      "                         0.3164752125740051, 0.2927793562412262,\n",
      "                         0.27126869559288025, 0.25174400210380554,\n",
      "                         0.23402263224124908, 0.21793414652347565,\n",
      "                         0.20332734286785126, 0.19006122648715973,\n",
      "                         0.1780112385749817, 0.16706104576587677],\n",
      " 'root_mean_squared_error': [2.2857213020324707, 1.12405526638031,\n",
      "                             1.1163520812988281, 1.1110100746154785,\n",
      "                             1.1011124849319458, 1.0884063243865967,\n",
      "                             1.0744915008544922, 1.0607153177261353,\n",
      "                             1.0479003190994263, 1.0361324548721313,\n",
      "                             1.0253221988677979, 1.0149872303009033,\n",
      "                             1.0046617984771729, 0.9946296215057373,\n",
      "                             0.9855729937553406, 0.977860689163208,\n",
      "                             0.9713813066482544, 0.965935468673706,\n",
      "                             0.9613372087478638, 0.9573872089385986,\n",
      "                             0.9539362192153931, 0.9509177207946777,\n",
      "                             0.9482399821281433, 0.9458326101303101,\n",
      "                             0.943665623664856, 0.9417150616645813,\n",
      "                             0.9399557709693909, 0.9383553862571716,\n",
      "                             0.9368978142738342, 0.935568630695343],\n",
      " 'total_loss': [3.201874256134033, 2.9630746841430664, 2.7965340614318848,\n",
      "                2.63645339012146, 2.4831085205078125, 2.3396854400634766,\n",
      "                2.207122325897217, 2.0863454341888428, 1.9770113229751587,\n",
      "                1.8783588409423828, 1.7889504432678223, 1.706427812576294,\n",
      "                1.6295623779296875, 1.5590462684631348, 1.495728611946106,\n",
      "                1.439426064491272, 1.3893070220947266, 1.344635009765625,\n",
      "                1.304663896560669, 1.26878023147583, 1.2364704608917236,\n",
      "                1.2073426246643066, 1.181003451347351, 1.1571508646011353,\n",
      "                1.135556936264038, 1.1160032749176025, 1.0982755422592163,\n",
      "                1.0821748971939087, 1.0675561428070068, 1.0542689561843872],\n",
      " 'val_loss': [1.3130124807357788, 1.3162546157836914, 1.3309351205825806,\n",
      "              1.3323090076446533, 1.3297632932662964, 1.327091932296753,\n",
      "              1.322511076927185, 1.3157907724380493, 1.3080562353134155,\n",
      "              1.3001184463500977, 1.2904285192489624, 1.2769991159439087,\n",
      "              1.260101556777954, 1.2424097061157227, 1.226450800895691,\n",
      "              1.2128889560699463, 1.201511263847351, 1.1920599937438965,\n",
      "              1.1840543746948242, 1.1771504878997803, 1.1711481809616089,\n",
      "              1.1659287214279175, 1.1612403392791748, 1.1570591926574707,\n",
      "              1.153299331665039, 1.149971604347229, 1.1469756364822388,\n",
      "              1.1442792415618896, 1.1418628692626953, 1.1396842002868652],\n",
      " 'val_regularization_loss': [1.8650237321853638, 1.6901493072509766,\n",
      "                             1.5314098596572876, 1.3886077404022217,\n",
      "                             1.2607111930847168, 1.1463717222213745,\n",
      "                             1.043967843055725, 0.951911449432373,\n",
      "                             0.8691025376319885, 0.7946184277534485,\n",
      "                             0.7274445295333862, 0.6666156053543091,\n",
      "                             0.6113576292991638, 0.5610651969909668,\n",
      "                             0.5152736306190491, 0.4735892117023468,\n",
      "                             0.4356672167778015, 0.401187002658844,\n",
      "                             0.36986106634140015, 0.34141069650650024,\n",
      "                             0.315572589635849, 0.2921142578125,\n",
      "                             0.2708183825016022, 0.2514839768409729,\n",
      "                             0.23393385112285614, 0.2180010974407196,\n",
      "                             0.2035360038280487, 0.1903965324163437,\n",
      "                             0.17846007645130157, 0.16761285066604614],\n",
      " 'val_root_mean_squared_error': [1.1384243965148926, 1.1383055448532104,\n",
      "                                 1.1445311307907104, 1.1453115940093994,\n",
      "                                 1.1445186138153076, 1.1437402963638306,\n",
      "                                 1.1421846151351929, 1.139689326286316,\n",
      "                                 1.1367087364196777, 1.1335922479629517,\n",
      "                                 1.129668116569519, 1.1240694522857666,\n",
      "                                 1.1169052124023438, 1.109334111213684,\n",
      "                                 1.1024699211120605, 1.0966209173202515,\n",
      "                                 1.0917071104049683, 1.0876247882843018,\n",
      "                                 1.0841662883758545, 1.0811809301376343,\n",
      "                                 1.07858145236969, 1.076317310333252,\n",
      "                                 1.074277639389038, 1.0724537372589111,\n",
      "                                 1.0708099603652954, 1.069352388381958,\n",
      "                                 1.0680382251739502, 1.0668535232543945,\n",
      "                                 1.0657908916473389, 1.0648318529129028],\n",
      " 'val_total_loss': [3.1780362129211426, 3.006403923034668, 2.862344980239868,\n",
      "                    2.720916748046875, 2.5904746055603027, 2.473463535308838,\n",
      "                    2.36647891998291, 2.267702102661133, 2.177158832550049,\n",
      "                    2.0947368144989014, 2.0178730487823486, 1.9436147212982178,\n",
      "                    1.8714592456817627, 1.8034749031066895, 1.7417244911193848,\n",
      "                    1.6864781379699707, 1.6371784210205078, 1.5932469367980957,\n",
      "                    1.5539155006408691, 1.5185611248016357, 1.4867208003997803,\n",
      "                    1.4580429792404175, 1.4320586919784546, 1.4085431098937988,\n",
      "                    1.3872331380844116, 1.367972731590271, 1.3505116701126099,\n",
      "                    1.3346757888793945, 1.3203229904174805,\n",
      "                    1.3072969913482666]}\n"
     ]
    }
   ],
   "source": [
    "# History for learning rate 0.1\n",
    "pprint.pprint(histories_tr['0.1'].history, compact=True)"
   ]
  },
  {
   "cell_type": "code",
   "execution_count": 41,
   "metadata": {
    "colab": {
     "base_uri": "https://localhost:8080/"
    },
    "id": "03HKT4aLKr4i",
    "outputId": "03f7636d-4e71-40f2-a382-0c90e6750c03"
   },
   "outputs": [
    {
     "name": "stdout",
     "output_type": "stream",
     "text": [
      "Root mean squared error in user rating from training   for learning rate 0.001 = 2.6364080905914307\n",
      "Root mean squared error in user rating from validation for learning rate 0.001 = 2.543578624725342\n",
      "Root mean squared error in user rating from training   for learning rate 0.01 = 1.0873459577560425\n",
      "Root mean squared error in user rating from validation for learning rate 0.01 = 1.1269526481628418\n",
      "Root mean squared error in user rating from training   for learning rate 0.1 = 0.935568630695343\n",
      "Root mean squared error in user rating from validation for learning rate 0.1 = 1.0648318529129028\n",
      "Root mean squared error in user rating from training   for learning rate 1 = 1.1247271299362183\n",
      "Root mean squared error in user rating from validation for learning rate 1 = 1.1408766508102417\n"
     ]
    }
   ],
   "source": [
    "for val in learning_rates_logarithmic:\n",
    "    lr = str(val)\n",
    "\n",
    "    rmse_tr = histories_tr[lr].history['root_mean_squared_error'][-1]\n",
    "    print('Root mean squared error in user rating from training   for learning rate {} = {}'.format(lr, rmse_tr))\n",
    "\n",
    "    val_rmse_tr = histories_tr[lr].history['val_root_mean_squared_error'][-1]\n",
    "    print('Root mean squared error in user rating from validation for learning rate {} = {}'.format(lr, val_rmse_tr))"
   ]
  },
  {
   "cell_type": "code",
   "execution_count": 42,
   "metadata": {
    "id": "NT6elfwzLa67"
   },
   "outputs": [],
   "source": [
    "num_validation_runs = len(histories_tr['0.1'].history['root_mean_squared_error']) # Or any of the learning rates; they are all the same\n",
    "validation_freq = 1\n",
    "epochs_x = [(x + 1) * validation_freq for x in range(num_validation_runs)]"
   ]
  },
  {
   "cell_type": "code",
   "execution_count": 43,
   "metadata": {
    "colab": {
     "base_uri": "https://localhost:8080/",
     "height": 308
    },
    "id": "M0tpT1fJLqO0",
    "outputId": "1576e6e6-bc69-4b15-8337-decb7bd6cd68"
   },
   "outputs": [
    {
     "data": {
      "text/plain": [
       "<matplotlib.legend.Legend at 0x7f6a18190278>"
      ]
     },
     "execution_count": 43,
     "metadata": {},
     "output_type": "execute_result"
    },
    {
     "data": {
      "image/png": "[encoded data removed]",
      "text/plain": [
       "<Figure size 432x288 with 1 Axes>"
      ]
     },
     "metadata": {
      "needs_background": "light"
     },
     "output_type": "display_data"
    }
   ],
   "source": [
    "for val in learning_rates_logarithmic:\n",
    "    lr = str(val)\n",
    "    plt.plot(epochs_x, histories_tr[lr].history['root_mean_squared_error'], label=lr)\n",
    "    plt.plot(epochs_x, histories_tr[lr].history['val_root_mean_squared_error'], label=lr, linestyle='dotted')\n",
    "\n",
    "plt.title('Root mean squared error in user rating vs. training epoch')\n",
    "plt.xlabel('Training epoch')\n",
    "plt.ylabel('Root mean squared error in user rating')\n",
    "plt.yscale('log')\n",
    "plt.legend()"
   ]
  },
  {
   "cell_type": "markdown",
   "metadata": {
    "id": "WegveKxPIAaV"
   },
   "source": [
    "It looks like learning rates closer in magnitude to 0.1 than 0.01 or 1 are best, so we zoom in on those.\n",
    "\n",
    "Again a production system would test more values so the results are less noisy, but this shows the idea.\n",
    "\n",
    "The RMSE has improved from about 1.1 in the basic model to about 0.9 here, although a little higher on the validation set."
   ]
  },
  {
   "cell_type": "code",
   "execution_count": 44,
   "metadata": {
    "colab": {
     "base_uri": "https://localhost:8080/"
    },
    "id": "ZaSvBMAWEXxf",
    "outputId": "245286e0-0f53-4216-f735-2e5a56b72292",
    "scrolled": true
   },
   "outputs": [
    {
     "name": "stdout",
     "output_type": "stream",
     "text": [
      "Learning rate = 0.05\n",
      "Epoch 1/30\n",
      "8/8 [==============================] - 1s 72ms/step - root_mean_squared_error: 2.1751 - loss: 4.3480 - regularization_loss: 2.0231 - total_loss: 6.3711 - val_root_mean_squared_error: 1.1765 - val_loss: 1.4112 - val_regularization_loss: 1.9809 - val_total_loss: 3.3921\n",
      "Epoch 2/30\n",
      "8/8 [==============================] - 0s 30ms/step - root_mean_squared_error: 1.1335 - loss: 1.2828 - regularization_loss: 1.9315 - total_loss: 3.2143 - val_root_mean_squared_error: 1.1477 - val_loss: 1.3417 - val_regularization_loss: 1.8831 - val_total_loss: 3.2249\n",
      "Epoch 3/30\n",
      "8/8 [==============================] - 0s 29ms/step - root_mean_squared_error: 1.1209 - loss: 1.2561 - regularization_loss: 1.8373 - total_loss: 3.0934 - val_root_mean_squared_error: 1.1441 - val_loss: 1.3330 - val_regularization_loss: 1.7914 - val_total_loss: 3.1244\n",
      "Epoch 4/30\n",
      "8/8 [==============================] - 0s 28ms/step - root_mean_squared_error: 1.1158 - loss: 1.2447 - regularization_loss: 1.7482 - total_loss: 2.9929 - val_root_mean_squared_error: 1.1429 - val_loss: 1.3300 - val_regularization_loss: 1.7047 - val_total_loss: 3.0347\n",
      "Epoch 5/30\n",
      "8/8 [==============================] - 0s 31ms/step - root_mean_squared_error: 1.1105 - loss: 1.2331 - regularization_loss: 1.6637 - total_loss: 2.8968 - val_root_mean_squared_error: 1.1420 - val_loss: 1.3277 - val_regularization_loss: 1.6226 - val_total_loss: 2.9504\n",
      "Epoch 6/30\n",
      "8/8 [==============================] - 0s 31ms/step - root_mean_squared_error: 1.1045 - loss: 1.2195 - regularization_loss: 1.5839 - total_loss: 2.8034 - val_root_mean_squared_error: 1.1410 - val_loss: 1.3255 - val_regularization_loss: 1.5450 - val_total_loss: 2.8706\n",
      "Epoch 7/30\n",
      "8/8 [==============================] - 0s 33ms/step - root_mean_squared_error: 1.0973 - loss: 1.2038 - regularization_loss: 1.5084 - total_loss: 2.7122 - val_root_mean_squared_error: 1.1401 - val_loss: 1.3232 - val_regularization_loss: 1.4717 - val_total_loss: 2.7950\n",
      "Epoch 8/30\n",
      "8/8 [==============================] - 0s 33ms/step - root_mean_squared_error: 1.0891 - loss: 1.1860 - regularization_loss: 1.4371 - total_loss: 2.6230 - val_root_mean_squared_error: 1.1390 - val_loss: 1.3207 - val_regularization_loss: 1.4025 - val_total_loss: 2.7232\n",
      "Epoch 9/30\n",
      "8/8 [==============================] - 0s 35ms/step - root_mean_squared_error: 1.0802 - loss: 1.1666 - regularization_loss: 1.3697 - total_loss: 2.5364 - val_root_mean_squared_error: 1.1378 - val_loss: 1.3177 - val_regularization_loss: 1.3371 - val_total_loss: 2.6548\n",
      "Epoch 10/30\n",
      "8/8 [==============================] - 0s 30ms/step - root_mean_squared_error: 1.0709 - loss: 1.1467 - regularization_loss: 1.3061 - total_loss: 2.4528 - val_root_mean_squared_error: 1.1364 - val_loss: 1.3144 - val_regularization_loss: 1.2753 - val_total_loss: 2.5897\n",
      "Epoch 11/30\n",
      "8/8 [==============================] - 0s 30ms/step - root_mean_squared_error: 1.0617 - loss: 1.1272 - regularization_loss: 1.2459 - total_loss: 2.3731 - val_root_mean_squared_error: 1.1349 - val_loss: 1.3107 - val_regularization_loss: 1.2168 - val_total_loss: 2.5275\n",
      "Epoch 12/30\n",
      "8/8 [==============================] - 0s 31ms/step - root_mean_squared_error: 1.0527 - loss: 1.1084 - regularization_loss: 1.1889 - total_loss: 2.2972 - val_root_mean_squared_error: 1.1331 - val_loss: 1.3063 - val_regularization_loss: 1.1614 - val_total_loss: 2.4677\n",
      "Epoch 13/30\n",
      "8/8 [==============================] - 0s 31ms/step - root_mean_squared_error: 1.0441 - loss: 1.0904 - regularization_loss: 1.1348 - total_loss: 2.2252 - val_root_mean_squared_error: 1.1310 - val_loss: 1.3011 - val_regularization_loss: 1.1088 - val_total_loss: 2.4099\n",
      "Epoch 14/30\n",
      "8/8 [==============================] - 0s 30ms/step - root_mean_squared_error: 1.0359 - loss: 1.0734 - regularization_loss: 1.0835 - total_loss: 2.1569 - val_root_mean_squared_error: 1.1286 - val_loss: 1.2952 - val_regularization_loss: 1.0589 - val_total_loss: 2.3541\n",
      "Epoch 15/30\n",
      "8/8 [==============================] - 0s 31ms/step - root_mean_squared_error: 1.0280 - loss: 1.0572 - regularization_loss: 1.0348 - total_loss: 2.0921 - val_root_mean_squared_error: 1.1259 - val_loss: 1.2889 - val_regularization_loss: 1.0116 - val_total_loss: 2.3004\n",
      "Epoch 16/30\n",
      "8/8 [==============================] - 0s 32ms/step - root_mean_squared_error: 1.0206 - loss: 1.0420 - regularization_loss: 0.9886 - total_loss: 2.0305 - val_root_mean_squared_error: 1.1230 - val_loss: 1.2817 - val_regularization_loss: 0.9666 - val_total_loss: 2.2482\n",
      "Epoch 17/30\n",
      "8/8 [==============================] - 0s 29ms/step - root_mean_squared_error: 1.0134 - loss: 1.0275 - regularization_loss: 0.9446 - total_loss: 1.9721 - val_root_mean_squared_error: 1.1198 - val_loss: 1.2741 - val_regularization_loss: 0.9238 - val_total_loss: 2.1979\n",
      "Epoch 18/30\n",
      "8/8 [==============================] - 0s 29ms/step - root_mean_squared_error: 1.0067 - loss: 1.0139 - regularization_loss: 0.9028 - total_loss: 1.9167 - val_root_mean_squared_error: 1.1165 - val_loss: 1.2661 - val_regularization_loss: 0.8831 - val_total_loss: 2.1492\n",
      "Epoch 19/30\n",
      "8/8 [==============================] - 0s 32ms/step - root_mean_squared_error: 1.0004 - loss: 1.0013 - regularization_loss: 0.8630 - total_loss: 1.8643 - val_root_mean_squared_error: 1.1131 - val_loss: 1.2581 - val_regularization_loss: 0.8443 - val_total_loss: 2.1024\n",
      "Epoch 20/30\n",
      "8/8 [==============================] - 0s 30ms/step - root_mean_squared_error: 0.9945 - loss: 0.9896 - regularization_loss: 0.8251 - total_loss: 1.8147 - val_root_mean_squared_error: 1.1096 - val_loss: 1.2498 - val_regularization_loss: 0.8073 - val_total_loss: 2.0571\n",
      "Epoch 21/30\n",
      "8/8 [==============================] - 0s 30ms/step - root_mean_squared_error: 0.9890 - loss: 0.9788 - regularization_loss: 0.7890 - total_loss: 1.7677 - val_root_mean_squared_error: 1.1061 - val_loss: 1.2416 - val_regularization_loss: 0.7720 - val_total_loss: 2.0136\n",
      "Epoch 22/30\n",
      "8/8 [==============================] - 0s 33ms/step - root_mean_squared_error: 0.9839 - loss: 0.9688 - regularization_loss: 0.7545 - total_loss: 1.7233 - val_root_mean_squared_error: 1.1027 - val_loss: 1.2335 - val_regularization_loss: 0.7384 - val_total_loss: 1.9719\n",
      "Epoch 23/30\n",
      "8/8 [==============================] - 0s 33ms/step - root_mean_squared_error: 0.9793 - loss: 0.9598 - regularization_loss: 0.7216 - total_loss: 1.6814 - val_root_mean_squared_error: 1.0995 - val_loss: 1.2260 - val_regularization_loss: 0.7063 - val_total_loss: 1.9323\n",
      "Epoch 24/30\n",
      "8/8 [==============================] - 0s 32ms/step - root_mean_squared_error: 0.9751 - loss: 0.9516 - regularization_loss: 0.6902 - total_loss: 1.6418 - val_root_mean_squared_error: 1.0965 - val_loss: 1.2190 - val_regularization_loss: 0.6756 - val_total_loss: 1.8946\n",
      "Epoch 25/30\n",
      "8/8 [==============================] - 0s 33ms/step - root_mean_squared_error: 0.9713 - loss: 0.9442 - regularization_loss: 0.6603 - total_loss: 1.6045 - val_root_mean_squared_error: 1.0937 - val_loss: 1.2124 - val_regularization_loss: 0.6464 - val_total_loss: 1.8588\n",
      "Epoch 26/30\n",
      "8/8 [==============================] - 0s 31ms/step - root_mean_squared_error: 0.9678 - loss: 0.9374 - regularization_loss: 0.6317 - total_loss: 1.5691 - val_root_mean_squared_error: 1.0911 - val_loss: 1.2062 - val_regularization_loss: 0.6185 - val_total_loss: 1.8248\n",
      "Epoch 27/30\n",
      "8/8 [==============================] - 0s 29ms/step - root_mean_squared_error: 0.9646 - loss: 0.9312 - regularization_loss: 0.6045 - total_loss: 1.5358 - val_root_mean_squared_error: 1.0887 - val_loss: 1.2007 - val_regularization_loss: 0.5919 - val_total_loss: 1.7926\n",
      "Epoch 28/30\n",
      "8/8 [==============================] - 0s 30ms/step - root_mean_squared_error: 0.9616 - loss: 0.9257 - regularization_loss: 0.5786 - total_loss: 1.5042 - val_root_mean_squared_error: 1.0865 - val_loss: 1.1955 - val_regularization_loss: 0.5666 - val_total_loss: 1.7621\n",
      "Epoch 29/30\n",
      "8/8 [==============================] - 0s 30ms/step - root_mean_squared_error: 0.9590 - loss: 0.9205 - regularization_loss: 0.5538 - total_loss: 1.4743 - val_root_mean_squared_error: 1.0844 - val_loss: 1.1907 - val_regularization_loss: 0.5424 - val_total_loss: 1.7331\n",
      "Epoch 30/30\n",
      "8/8 [==============================] - 0s 35ms/step - root_mean_squared_error: 0.9565 - loss: 0.9158 - regularization_loss: 0.5302 - total_loss: 1.4461 - val_root_mean_squared_error: 1.0824 - val_loss: 1.1863 - val_regularization_loss: 0.5194 - val_total_loss: 1.7057\n",
      "Learning rate = 0.1\n",
      "Epoch 1/30\n",
      "8/8 [==============================] - 1s 52ms/step - root_mean_squared_error: 2.3305 - loss: 4.9569 - regularization_loss: 1.9538 - total_loss: 6.9107 - val_root_mean_squared_error: 1.1388 - val_loss: 1.3200 - val_regularization_loss: 1.8630 - val_total_loss: 3.1830\n",
      "Epoch 2/30\n",
      "8/8 [==============================] - 0s 29ms/step - root_mean_squared_error: 1.1232 - loss: 1.2618 - regularization_loss: 1.7751 - total_loss: 3.0369 - val_root_mean_squared_error: 1.1463 - val_loss: 1.3379 - val_regularization_loss: 1.6870 - val_total_loss: 3.0250\n",
      "Epoch 3/30\n",
      "8/8 [==============================] - 0s 29ms/step - root_mean_squared_error: 1.1211 - loss: 1.2569 - regularization_loss: 1.6073 - total_loss: 2.8642 - val_root_mean_squared_error: 1.1477 - val_loss: 1.3411 - val_regularization_loss: 1.5283 - val_total_loss: 2.8693\n",
      "Epoch 4/30\n",
      "8/8 [==============================] - 0s 29ms/step - root_mean_squared_error: 1.1150 - loss: 1.2428 - regularization_loss: 1.4564 - total_loss: 2.6992 - val_root_mean_squared_error: 1.1460 - val_loss: 1.3368 - val_regularization_loss: 1.3855 - val_total_loss: 2.7223\n",
      "Epoch 5/30\n",
      "8/8 [==============================] - 0s 29ms/step - root_mean_squared_error: 1.1052 - loss: 1.2209 - regularization_loss: 1.3210 - total_loss: 2.5418 - val_root_mean_squared_error: 1.1434 - val_loss: 1.3304 - val_regularization_loss: 1.2576 - val_total_loss: 2.5880\n",
      "Epoch 6/30\n",
      "8/8 [==============================] - 0s 30ms/step - root_mean_squared_error: 1.0924 - loss: 1.1928 - regularization_loss: 1.1998 - total_loss: 2.3926 - val_root_mean_squared_error: 1.1403 - val_loss: 1.3229 - val_regularization_loss: 1.1433 - val_total_loss: 2.4662\n",
      "Epoch 7/30\n",
      "8/8 [==============================] - 0s 30ms/step - root_mean_squared_error: 1.0777 - loss: 1.1608 - regularization_loss: 1.0915 - total_loss: 2.2523 - val_root_mean_squared_error: 1.1366 - val_loss: 1.3138 - val_regularization_loss: 1.0410 - val_total_loss: 2.3548\n",
      "Epoch 8/30\n",
      "8/8 [==============================] - 0s 30ms/step - root_mean_squared_error: 1.0624 - loss: 1.1284 - regularization_loss: 0.9945 - total_loss: 2.1230 - val_root_mean_squared_error: 1.1323 - val_loss: 1.3031 - val_regularization_loss: 0.9494 - val_total_loss: 2.2525\n",
      "Epoch 9/30\n",
      "8/8 [==============================] - 0s 29ms/step - root_mean_squared_error: 1.0480 - loss: 1.0983 - regularization_loss: 0.9074 - total_loss: 2.0057 - val_root_mean_squared_error: 1.1273 - val_loss: 1.2909 - val_regularization_loss: 0.8669 - val_total_loss: 2.1578\n",
      "Epoch 10/30\n",
      "8/8 [==============================] - 0s 32ms/step - root_mean_squared_error: 1.0347 - loss: 1.0707 - regularization_loss: 0.8289 - total_loss: 1.8997 - val_root_mean_squared_error: 1.1219 - val_loss: 1.2777 - val_regularization_loss: 0.7926 - val_total_loss: 2.0703\n",
      "Epoch 11/30\n",
      "8/8 [==============================] - 0s 31ms/step - root_mean_squared_error: 1.0225 - loss: 1.0457 - regularization_loss: 0.7582 - total_loss: 1.8039 - val_root_mean_squared_error: 1.1163 - val_loss: 1.2642 - val_regularization_loss: 0.7256 - val_total_loss: 1.9898\n",
      "Epoch 12/30\n",
      "8/8 [==============================] - 0s 31ms/step - root_mean_squared_error: 1.0114 - loss: 1.0234 - regularization_loss: 0.6943 - total_loss: 1.7177 - val_root_mean_squared_error: 1.1109 - val_loss: 1.2510 - val_regularization_loss: 0.6651 - val_total_loss: 1.9160\n",
      "Epoch 13/30\n",
      "8/8 [==============================] - 0s 31ms/step - root_mean_squared_error: 1.0016 - loss: 1.0038 - regularization_loss: 0.6365 - total_loss: 1.6402 - val_root_mean_squared_error: 1.1057 - val_loss: 1.2383 - val_regularization_loss: 0.6101 - val_total_loss: 1.8484\n",
      "Epoch 14/30\n",
      "8/8 [==============================] - 0s 28ms/step - root_mean_squared_error: 0.9930 - loss: 0.9867 - regularization_loss: 0.5839 - total_loss: 1.5707 - val_root_mean_squared_error: 1.1006 - val_loss: 1.2261 - val_regularization_loss: 0.5602 - val_total_loss: 1.7862\n",
      "Epoch 15/30\n",
      "8/8 [==============================] - 0s 53ms/step - root_mean_squared_error: 0.9854 - loss: 0.9718 - regularization_loss: 0.5361 - total_loss: 1.5079 - val_root_mean_squared_error: 1.0955 - val_loss: 1.2141 - val_regularization_loss: 0.5146 - val_total_loss: 1.7287\n",
      "Epoch 16/30\n",
      "8/8 [==============================] - 0s 28ms/step - root_mean_squared_error: 0.9786 - loss: 0.9584 - regularization_loss: 0.4926 - total_loss: 1.4510 - val_root_mean_squared_error: 1.0906 - val_loss: 1.2024 - val_regularization_loss: 0.4732 - val_total_loss: 1.6756\n",
      "Epoch 17/30\n",
      "8/8 [==============================] - 0s 30ms/step - root_mean_squared_error: 0.9724 - loss: 0.9464 - regularization_loss: 0.4530 - total_loss: 1.3995 - val_root_mean_squared_error: 1.0860 - val_loss: 1.1915 - val_regularization_loss: 0.4354 - val_total_loss: 1.6269\n",
      "Epoch 18/30\n",
      "8/8 [==============================] - 0s 29ms/step - root_mean_squared_error: 0.9670 - loss: 0.9359 - regularization_loss: 0.4170 - total_loss: 1.3529 - val_root_mean_squared_error: 1.0818 - val_loss: 1.1817 - val_regularization_loss: 0.4011 - val_total_loss: 1.5828\n",
      "Epoch 19/30\n",
      "8/8 [==============================] - 0s 30ms/step - root_mean_squared_error: 0.9622 - loss: 0.9268 - regularization_loss: 0.3842 - total_loss: 1.3110 - val_root_mean_squared_error: 1.0782 - val_loss: 1.1732 - val_regularization_loss: 0.3698 - val_total_loss: 1.5431\n",
      "Epoch 20/30\n",
      "8/8 [==============================] - 0s 32ms/step - root_mean_squared_error: 0.9581 - loss: 0.9189 - regularization_loss: 0.3545 - total_loss: 1.2734 - val_root_mean_squared_error: 1.0750 - val_loss: 1.1660 - val_regularization_loss: 0.3415 - val_total_loss: 1.5075\n",
      "Epoch 21/30\n",
      "8/8 [==============================] - 0s 30ms/step - root_mean_squared_error: 0.9545 - loss: 0.9120 - regularization_loss: 0.3274 - total_loss: 1.2395 - val_root_mean_squared_error: 1.0724 - val_loss: 1.1598 - val_regularization_loss: 0.3157 - val_total_loss: 1.4755\n",
      "Epoch 22/30\n",
      "8/8 [==============================] - 0s 29ms/step - root_mean_squared_error: 0.9513 - loss: 0.9061 - regularization_loss: 0.3029 - total_loss: 1.2090 - val_root_mean_squared_error: 1.0701 - val_loss: 1.1544 - val_regularization_loss: 0.2924 - val_total_loss: 1.4468\n",
      "Epoch 23/30\n",
      "8/8 [==============================] - 0s 31ms/step - root_mean_squared_error: 0.9485 - loss: 0.9008 - regularization_loss: 0.2806 - total_loss: 1.1814 - val_root_mean_squared_error: 1.0680 - val_loss: 1.1498 - val_regularization_loss: 0.2711 - val_total_loss: 1.4209\n",
      "Epoch 24/30\n",
      "8/8 [==============================] - 0s 28ms/step - root_mean_squared_error: 0.9461 - loss: 0.8962 - regularization_loss: 0.2604 - total_loss: 1.1566 - val_root_mean_squared_error: 1.0663 - val_loss: 1.1458 - val_regularization_loss: 0.2519 - val_total_loss: 1.3977\n",
      "Epoch 25/30\n",
      "8/8 [==============================] - 0s 30ms/step - root_mean_squared_error: 0.9439 - loss: 0.8920 - regularization_loss: 0.2420 - total_loss: 1.1340 - val_root_mean_squared_error: 1.0647 - val_loss: 1.1422 - val_regularization_loss: 0.2344 - val_total_loss: 1.3766\n",
      "Epoch 26/30\n",
      "8/8 [==============================] - 0s 30ms/step - root_mean_squared_error: 0.9419 - loss: 0.8883 - regularization_loss: 0.2253 - total_loss: 1.1136 - val_root_mean_squared_error: 1.0633 - val_loss: 1.1390 - val_regularization_loss: 0.2185 - val_total_loss: 1.3575\n",
      "Epoch 27/30\n",
      "8/8 [==============================] - 0s 31ms/step - root_mean_squared_error: 0.9401 - loss: 0.8849 - regularization_loss: 0.2102 - total_loss: 1.0951 - val_root_mean_squared_error: 1.0621 - val_loss: 1.1362 - val_regularization_loss: 0.2040 - val_total_loss: 1.3403\n",
      "Epoch 28/30\n",
      "8/8 [==============================] - 0s 33ms/step - root_mean_squared_error: 0.9384 - loss: 0.8819 - regularization_loss: 0.1964 - total_loss: 1.0783 - val_root_mean_squared_error: 1.0610 - val_loss: 1.1336 - val_regularization_loss: 0.1909 - val_total_loss: 1.3245\n",
      "Epoch 29/30\n",
      "8/8 [==============================] - 0s 31ms/step - root_mean_squared_error: 0.9369 - loss: 0.8790 - regularization_loss: 0.1839 - total_loss: 1.0630 - val_root_mean_squared_error: 1.0599 - val_loss: 1.1313 - val_regularization_loss: 0.1790 - val_total_loss: 1.3103\n",
      "Epoch 30/30\n",
      "8/8 [==============================] - 0s 30ms/step - root_mean_squared_error: 0.9355 - loss: 0.8765 - regularization_loss: 0.1726 - total_loss: 1.0491 - val_root_mean_squared_error: 1.0590 - val_loss: 1.1292 - val_regularization_loss: 0.1682 - val_total_loss: 1.2974\n",
      "Learning rate = 0.15\n",
      "Epoch 1/30\n",
      "8/8 [==============================] - 1s 48ms/step - root_mean_squared_error: 3.4214 - loss: 10.7359 - regularization_loss: 2.0295 - total_loss: 12.7654 - val_root_mean_squared_error: 1.1376 - val_loss: 1.3171 - val_regularization_loss: 1.9614 - val_total_loss: 3.2785\n",
      "Epoch 2/30\n",
      "8/8 [==============================] - 0s 33ms/step - root_mean_squared_error: 1.1248 - loss: 1.2649 - regularization_loss: 1.8341 - total_loss: 3.0990 - val_root_mean_squared_error: 1.1452 - val_loss: 1.3357 - val_regularization_loss: 1.7079 - val_total_loss: 3.0437\n",
      "Epoch 3/30\n",
      "8/8 [==============================] - 0s 32ms/step - root_mean_squared_error: 1.1177 - loss: 1.2484 - regularization_loss: 1.5979 - total_loss: 2.8463 - val_root_mean_squared_error: 1.1446 - val_loss: 1.3344 - val_regularization_loss: 1.4902 - val_total_loss: 2.8246\n",
      "Epoch 4/30\n",
      "8/8 [==============================] - 0s 32ms/step - root_mean_squared_error: 1.1024 - loss: 1.2138 - regularization_loss: 1.3961 - total_loss: 2.6099 - val_root_mean_squared_error: 1.1404 - val_loss: 1.3245 - val_regularization_loss: 1.3042 - val_total_loss: 2.6288\n",
      "Epoch 5/30\n",
      "8/8 [==============================] - 0s 30ms/step - root_mean_squared_error: 1.0824 - loss: 1.1703 - regularization_loss: 1.2239 - total_loss: 2.3942 - val_root_mean_squared_error: 1.1358 - val_loss: 1.3140 - val_regularization_loss: 1.1455 - val_total_loss: 2.4595\n",
      "Epoch 6/30\n",
      "8/8 [==============================] - 0s 29ms/step - root_mean_squared_error: 1.0622 - loss: 1.1274 - regularization_loss: 1.0765 - total_loss: 2.2038 - val_root_mean_squared_error: 1.1304 - val_loss: 1.3014 - val_regularization_loss: 1.0094 - val_total_loss: 2.3107\n",
      "Epoch 7/30\n",
      "8/8 [==============================] - 0s 29ms/step - root_mean_squared_error: 1.0430 - loss: 1.0871 - regularization_loss: 0.9497 - total_loss: 2.0368 - val_root_mean_squared_error: 1.1234 - val_loss: 1.2850 - val_regularization_loss: 0.8922 - val_total_loss: 2.1772\n",
      "Epoch 8/30\n",
      "8/8 [==============================] - 0s 31ms/step - root_mean_squared_error: 1.0248 - loss: 1.0498 - regularization_loss: 0.8405 - total_loss: 1.8902 - val_root_mean_squared_error: 1.1148 - val_loss: 1.2648 - val_regularization_loss: 0.7911 - val_total_loss: 2.0559\n",
      "Epoch 9/30\n",
      "8/8 [==============================] - 0s 29ms/step - root_mean_squared_error: 1.0080 - loss: 1.0159 - regularization_loss: 0.7462 - total_loss: 1.7621 - val_root_mean_squared_error: 1.1055 - val_loss: 1.2432 - val_regularization_loss: 0.7037 - val_total_loss: 1.9468\n",
      "Epoch 10/30\n",
      "8/8 [==============================] - 0s 32ms/step - root_mean_squared_error: 0.9934 - loss: 0.9871 - regularization_loss: 0.6644 - total_loss: 1.6514 - val_root_mean_squared_error: 1.0967 - val_loss: 1.2229 - val_regularization_loss: 0.6276 - val_total_loss: 1.8504\n",
      "Epoch 11/30\n",
      "8/8 [==============================] - 0s 28ms/step - root_mean_squared_error: 0.9814 - loss: 0.9637 - regularization_loss: 0.5930 - total_loss: 1.5567 - val_root_mean_squared_error: 1.0890 - val_loss: 1.2051 - val_regularization_loss: 0.5610 - val_total_loss: 1.7661\n",
      "Epoch 12/30\n",
      "8/8 [==============================] - 0s 32ms/step - root_mean_squared_error: 0.9718 - loss: 0.9450 - regularization_loss: 0.5306 - total_loss: 1.4756 - val_root_mean_squared_error: 1.0826 - val_loss: 1.1904 - val_regularization_loss: 0.5026 - val_total_loss: 1.6930\n",
      "Epoch 13/30\n",
      "8/8 [==============================] - 0s 32ms/step - root_mean_squared_error: 0.9641 - loss: 0.9303 - regularization_loss: 0.4758 - total_loss: 1.4061 - val_root_mean_squared_error: 1.0775 - val_loss: 1.1785 - val_regularization_loss: 0.4515 - val_total_loss: 1.6299\n",
      "Epoch 14/30\n",
      "8/8 [==============================] - 0s 30ms/step - root_mean_squared_error: 0.9579 - loss: 0.9185 - regularization_loss: 0.4279 - total_loss: 1.3464 - val_root_mean_squared_error: 1.0732 - val_loss: 1.1686 - val_regularization_loss: 0.4066 - val_total_loss: 1.5752\n",
      "Epoch 15/30\n",
      "8/8 [==============================] - 0s 30ms/step - root_mean_squared_error: 0.9528 - loss: 0.9088 - regularization_loss: 0.3858 - total_loss: 1.2947 - val_root_mean_squared_error: 1.0696 - val_loss: 1.1604 - val_regularization_loss: 0.3673 - val_total_loss: 1.5277\n",
      "Epoch 16/30\n",
      "8/8 [==============================] - 0s 35ms/step - root_mean_squared_error: 0.9486 - loss: 0.9010 - regularization_loss: 0.3490 - total_loss: 1.2499 - val_root_mean_squared_error: 1.0672 - val_loss: 1.1547 - val_regularization_loss: 0.3328 - val_total_loss: 1.4875\n",
      "Epoch 17/30\n",
      "8/8 [==============================] - 0s 35ms/step - root_mean_squared_error: 0.9452 - loss: 0.8947 - regularization_loss: 0.3166 - total_loss: 1.2114 - val_root_mean_squared_error: 1.0651 - val_loss: 1.1499 - val_regularization_loss: 0.3026 - val_total_loss: 1.4525\n",
      "Epoch 18/30\n",
      "8/8 [==============================] - 0s 36ms/step - root_mean_squared_error: 0.9423 - loss: 0.8892 - regularization_loss: 0.2883 - total_loss: 1.1775 - val_root_mean_squared_error: 1.0632 - val_loss: 1.1453 - val_regularization_loss: 0.2761 - val_total_loss: 1.4214\n",
      "Epoch 19/30\n",
      "8/8 [==============================] - 0s 33ms/step - root_mean_squared_error: 0.9397 - loss: 0.8845 - regularization_loss: 0.2634 - total_loss: 1.1479 - val_root_mean_squared_error: 1.0621 - val_loss: 1.1427 - val_regularization_loss: 0.2528 - val_total_loss: 1.3955\n",
      "Epoch 20/30\n",
      "8/8 [==============================] - 0s 35ms/step - root_mean_squared_error: 0.9379 - loss: 0.8810 - regularization_loss: 0.2415 - total_loss: 1.1225 - val_root_mean_squared_error: 1.0613 - val_loss: 1.1407 - val_regularization_loss: 0.2324 - val_total_loss: 1.3730\n",
      "Epoch 21/30\n",
      "8/8 [==============================] - 0s 34ms/step - root_mean_squared_error: 0.9360 - loss: 0.8775 - regularization_loss: 0.2222 - total_loss: 1.0998 - val_root_mean_squared_error: 1.0600 - val_loss: 1.1376 - val_regularization_loss: 0.2143 - val_total_loss: 1.3519\n",
      "Epoch 22/30\n",
      "8/8 [==============================] - 0s 33ms/step - root_mean_squared_error: 0.9342 - loss: 0.8742 - regularization_loss: 0.2053 - total_loss: 1.0795 - val_root_mean_squared_error: 1.0588 - val_loss: 1.1347 - val_regularization_loss: 0.1984 - val_total_loss: 1.3331\n",
      "Epoch 23/30\n",
      "8/8 [==============================] - 0s 37ms/step - root_mean_squared_error: 0.9326 - loss: 0.8712 - regularization_loss: 0.1903 - total_loss: 1.0615 - val_root_mean_squared_error: 1.0580 - val_loss: 1.1327 - val_regularization_loss: 0.1843 - val_total_loss: 1.3170\n",
      "Epoch 24/30\n",
      "8/8 [==============================] - 0s 36ms/step - root_mean_squared_error: 0.9315 - loss: 0.8692 - regularization_loss: 0.1770 - total_loss: 1.0462 - val_root_mean_squared_error: 1.0585 - val_loss: 1.1337 - val_regularization_loss: 0.1718 - val_total_loss: 1.3055\n",
      "Epoch 25/30\n",
      "8/8 [==============================] - 0s 32ms/step - root_mean_squared_error: 0.9307 - loss: 0.8677 - regularization_loss: 0.1652 - total_loss: 1.0329 - val_root_mean_squared_error: 1.0583 - val_loss: 1.1331 - val_regularization_loss: 0.1607 - val_total_loss: 1.2938\n",
      "Epoch 26/30\n",
      "8/8 [==============================] - 0s 31ms/step - root_mean_squared_error: 0.9296 - loss: 0.8657 - regularization_loss: 0.1547 - total_loss: 1.0204 - val_root_mean_squared_error: 1.0573 - val_loss: 1.1308 - val_regularization_loss: 0.1509 - val_total_loss: 1.2817\n",
      "Epoch 27/30\n",
      "8/8 [==============================] - 0s 32ms/step - root_mean_squared_error: 0.9284 - loss: 0.8634 - regularization_loss: 0.1455 - total_loss: 1.0089 - val_root_mean_squared_error: 1.0564 - val_loss: 1.1285 - val_regularization_loss: 0.1422 - val_total_loss: 1.2707\n",
      "Epoch 28/30\n",
      "8/8 [==============================] - 0s 32ms/step - root_mean_squared_error: 0.9273 - loss: 0.8614 - regularization_loss: 0.1373 - total_loss: 0.9987 - val_root_mean_squared_error: 1.0556 - val_loss: 1.1268 - val_regularization_loss: 0.1344 - val_total_loss: 1.2611\n",
      "Epoch 29/30\n",
      "8/8 [==============================] - 0s 33ms/step - root_mean_squared_error: 0.9264 - loss: 0.8597 - regularization_loss: 0.1299 - total_loss: 0.9896 - val_root_mean_squared_error: 1.0550 - val_loss: 1.1254 - val_regularization_loss: 0.1274 - val_total_loss: 1.2529\n",
      "Epoch 30/30\n",
      "8/8 [==============================] - 0s 32ms/step - root_mean_squared_error: 0.9255 - loss: 0.8582 - regularization_loss: 0.1234 - total_loss: 0.9816 - val_root_mean_squared_error: 1.0546 - val_loss: 1.1244 - val_regularization_loss: 0.1212 - val_total_loss: 1.2457\n"
     ]
    }
   ],
   "source": [
    "# Here we start a new dictionary of training histories, but these could also be appended to the above one\n",
    "histories_tr_li = {}\n",
    "\n",
    "# Learning rate linear grid\n",
    "learning_rates_linear = [0.05, 0.1, 0.15]\n",
    "\n",
    "for val in learning_rates_linear:\n",
    "    print('Learning rate = {}'.format(val))\n",
    "    model_tr = MovielensModelTunedRanking()\n",
    "    model_tr.compile(optimizer=tf.keras.optimizers.Adagrad(learning_rate=val))\n",
    "\n",
    "    lr = str(val)\n",
    "    histories_tr_li[lr] = model_tr.fit(cached_train, epochs=epochs, validation_data=cached_validation)"
   ]
  },
  {
   "cell_type": "code",
   "execution_count": 45,
   "metadata": {
    "colab": {
     "base_uri": "https://localhost:8080/"
    },
    "id": "d2ojspFOEpb-",
    "outputId": "89d73d93-96b7-4336-f5f7-ecd8266477e6"
   },
   "outputs": [
    {
     "data": {
      "text/plain": [
       "{'0.05': <tensorflow.python.keras.callbacks.History at 0x7f6a18149be0>,\n",
       " '0.1': <tensorflow.python.keras.callbacks.History at 0x7f69984d1828>,\n",
       " '0.15': <tensorflow.python.keras.callbacks.History at 0x7f6998483320>}"
      ]
     },
     "execution_count": 45,
     "metadata": {},
     "output_type": "execute_result"
    }
   ],
   "source": [
    "histories_tr_li"
   ]
  },
  {
   "cell_type": "code",
   "execution_count": 46,
   "metadata": {
    "colab": {
     "base_uri": "https://localhost:8080/"
    },
    "id": "ujCXSvC6MLa4",
    "outputId": "f3a5dcd8-0a59-4a46-9498-ea81f6b7413e"
   },
   "outputs": [
    {
     "name": "stdout",
     "output_type": "stream",
     "text": [
      "Root mean squared error in user rating from training   for learning rate 0.05 = 0.9564903378486633\n",
      "Root mean squared error in user rating from validation for learning rate 0.05 = 1.0824493169784546\n",
      "Root mean squared error in user rating from training   for learning rate 0.1 = 0.9355355501174927\n",
      "Root mean squared error in user rating from validation for learning rate 0.1 = 1.0590083599090576\n",
      "Root mean squared error in user rating from training   for learning rate 0.15 = 0.9255496859550476\n",
      "Root mean squared error in user rating from validation for learning rate 0.15 = 1.0546382665634155\n"
     ]
    }
   ],
   "source": [
    "for val in learning_rates_linear:\n",
    "    lr = str(val)\n",
    "\n",
    "    rmse_tr = histories_tr_li[lr].history['root_mean_squared_error'][-1]\n",
    "    print('Root mean squared error in user rating from training   for learning rate {} = {}'.format(lr, rmse_tr))\n",
    "\n",
    "    val_rmse_tr = histories_tr_li[lr].history['val_root_mean_squared_error'][-1]\n",
    "    print('Root mean squared error in user rating from validation for learning rate {} = {}'.format(lr, val_rmse_tr))"
   ]
  },
  {
   "cell_type": "code",
   "execution_count": 47,
   "metadata": {
    "id": "SJmfaxQ1MeTl"
   },
   "outputs": [],
   "source": [
    "num_validation_runs = len(histories_tr_li['0.1'].history['root_mean_squared_error'])\n",
    "validation_freq = 1\n",
    "epochs_x = [(x + 1) * validation_freq for x in range(num_validation_runs)]"
   ]
  },
  {
   "cell_type": "code",
   "execution_count": 48,
   "metadata": {
    "colab": {
     "base_uri": "https://localhost:8080/",
     "height": 308
    },
    "id": "31udS6_AMniY",
    "outputId": "fdc30bc0-ae31-4d06-cc1b-2ddd83ebf1e9"
   },
   "outputs": [
    {
     "data": {
      "text/plain": [
       "<matplotlib.legend.Legend at 0x7f699822b438>"
      ]
     },
     "execution_count": 48,
     "metadata": {},
     "output_type": "execute_result"
    },
    {
     "data": {
      "image/png": "[encoded data removed]",
      "text/plain": [
       "<Figure size 432x288 with 1 Axes>"
      ]
     },
     "metadata": {
      "needs_background": "light"
     },
     "output_type": "display_data"
    }
   ],
   "source": [
    "for val in learning_rates_linear:\n",
    "    lr = str(val)\n",
    "    plt.plot(epochs_x, histories_tr_li[lr].history['root_mean_squared_error'], label=lr)\n",
    "    plt.plot(epochs_x, histories_tr_li[lr].history['val_root_mean_squared_error'], label=lr, linestyle='dotted')\n",
    "\n",
    "plt.title('Root mean squared error in user rating vs. training epoch')\n",
    "plt.xlabel('Training epoch')\n",
    "plt.ylabel('Root mean squared error in user rating')\n",
    "plt.yscale('log')\n",
    "plt.legend()"
   ]
  },
  {
   "cell_type": "markdown",
   "metadata": {
    "id": "jB1WWJdbK6AW"
   },
   "source": [
    "The best performances for the linear grid search look quite similar to each other, so let's stick with learning rate 0.1 and train the final model."
   ]
  },
  {
   "cell_type": "code",
   "execution_count": 49,
   "metadata": {
    "colab": {
     "base_uri": "https://localhost:8080/"
    },
    "id": "AF5eXjeMGZ2b",
    "outputId": "2e2562d1-fbd2-4d16-81f2-29b8a68dc5fa",
    "scrolled": true
   },
   "outputs": [
    {
     "name": "stdout",
     "output_type": "stream",
     "text": [
      "Epoch 1/50\n",
      "8/8 [==============================] - 1s 49ms/step - root_mean_squared_error: 2.4564 - loss: 5.4908 - regularization_loss: 1.9700 - total_loss: 7.4608 - val_root_mean_squared_error: 1.1370 - val_loss: 1.3134 - val_regularization_loss: 1.8790 - val_total_loss: 3.1924\n",
      "Epoch 2/50\n",
      "8/8 [==============================] - 0s 31ms/step - root_mean_squared_error: 1.1194 - loss: 1.2526 - regularization_loss: 1.7914 - total_loss: 3.0439 - val_root_mean_squared_error: 1.1418 - val_loss: 1.3253 - val_regularization_loss: 1.7022 - val_total_loss: 3.0275\n",
      "Epoch 3/50\n",
      "8/8 [==============================] - 0s 29ms/step - root_mean_squared_error: 1.1132 - loss: 1.2385 - regularization_loss: 1.6229 - total_loss: 2.8613 - val_root_mean_squared_error: 1.1412 - val_loss: 1.3240 - val_regularization_loss: 1.5427 - val_total_loss: 2.8667\n",
      "Epoch 4/50\n",
      "8/8 [==============================] - 0s 29ms/step - root_mean_squared_error: 1.1043 - loss: 1.2187 - regularization_loss: 1.4715 - total_loss: 2.6902 - val_root_mean_squared_error: 1.1407 - val_loss: 1.3224 - val_regularization_loss: 1.3997 - val_total_loss: 2.7221\n",
      "Epoch 5/50\n",
      "8/8 [==============================] - 0s 30ms/step - root_mean_squared_error: 1.0925 - loss: 1.1927 - regularization_loss: 1.3359 - total_loss: 2.5285 - val_root_mean_squared_error: 1.1398 - val_loss: 1.3201 - val_regularization_loss: 1.2717 - val_total_loss: 2.5918\n",
      "Epoch 6/50\n",
      "8/8 [==============================] - 0s 28ms/step - root_mean_squared_error: 1.0782 - loss: 1.1614 - regularization_loss: 1.2145 - total_loss: 2.3760 - val_root_mean_squared_error: 1.1385 - val_loss: 1.3166 - val_regularization_loss: 1.1572 - val_total_loss: 2.4738\n",
      "Epoch 7/50\n",
      "8/8 [==============================] - 0s 29ms/step - root_mean_squared_error: 1.0628 - loss: 1.1286 - regularization_loss: 1.1059 - total_loss: 2.2345 - val_root_mean_squared_error: 1.1363 - val_loss: 1.3110 - val_regularization_loss: 1.0545 - val_total_loss: 2.3655\n",
      "Epoch 8/50\n",
      "8/8 [==============================] - 0s 29ms/step - root_mean_squared_error: 1.0476 - loss: 1.0969 - regularization_loss: 1.0083 - total_loss: 2.1052 - val_root_mean_squared_error: 1.1329 - val_loss: 1.3028 - val_regularization_loss: 0.9622 - val_total_loss: 2.2650\n",
      "Epoch 9/50\n",
      "8/8 [==============================] - 0s 29ms/step - root_mean_squared_error: 1.0331 - loss: 1.0668 - regularization_loss: 0.9205 - total_loss: 1.9873 - val_root_mean_squared_error: 1.1288 - val_loss: 1.2927 - val_regularization_loss: 0.8792 - val_total_loss: 2.1719\n",
      "Epoch 10/50\n",
      "8/8 [==============================] - 0s 29ms/step - root_mean_squared_error: 1.0193 - loss: 1.0386 - regularization_loss: 0.8416 - total_loss: 1.8801 - val_root_mean_squared_error: 1.1244 - val_loss: 1.2823 - val_regularization_loss: 0.8045 - val_total_loss: 2.0867\n",
      "Epoch 11/50\n",
      "8/8 [==============================] - 0s 31ms/step - root_mean_squared_error: 1.0068 - loss: 1.0133 - regularization_loss: 0.7703 - total_loss: 1.7837 - val_root_mean_squared_error: 1.1209 - val_loss: 1.2738 - val_regularization_loss: 0.7370 - val_total_loss: 2.0108\n",
      "Epoch 12/50\n",
      "8/8 [==============================] - 0s 27ms/step - root_mean_squared_error: 0.9963 - loss: 0.9926 - regularization_loss: 0.7059 - total_loss: 1.6984 - val_root_mean_squared_error: 1.1189 - val_loss: 1.2688 - val_regularization_loss: 0.6759 - val_total_loss: 1.9447\n",
      "Epoch 13/50\n",
      "8/8 [==============================] - 0s 29ms/step - root_mean_squared_error: 0.9882 - loss: 0.9769 - regularization_loss: 0.6472 - total_loss: 1.6241 - val_root_mean_squared_error: 1.1178 - val_loss: 1.2661 - val_regularization_loss: 0.6201 - val_total_loss: 1.8862\n",
      "Epoch 14/50\n",
      "8/8 [==============================] - 0s 30ms/step - root_mean_squared_error: 0.9819 - loss: 0.9646 - regularization_loss: 0.5937 - total_loss: 1.5583 - val_root_mean_squared_error: 1.1158 - val_loss: 1.2611 - val_regularization_loss: 0.5692 - val_total_loss: 1.8303\n",
      "Epoch 15/50\n",
      "8/8 [==============================] - 0s 31ms/step - root_mean_squared_error: 0.9759 - loss: 0.9529 - regularization_loss: 0.5449 - total_loss: 1.4978 - val_root_mean_squared_error: 1.1117 - val_loss: 1.2513 - val_regularization_loss: 0.5227 - val_total_loss: 1.7740\n",
      "Epoch 16/50\n",
      "8/8 [==============================] - 0s 31ms/step - root_mean_squared_error: 0.9698 - loss: 0.9410 - regularization_loss: 0.5004 - total_loss: 1.4414 - val_root_mean_squared_error: 1.1067 - val_loss: 1.2394 - val_regularization_loss: 0.4803 - val_total_loss: 1.7197\n",
      "Epoch 17/50\n",
      "8/8 [==============================] - 0s 31ms/step - root_mean_squared_error: 0.9641 - loss: 0.9301 - regularization_loss: 0.4600 - total_loss: 1.3901 - val_root_mean_squared_error: 1.1020 - val_loss: 1.2285 - val_regularization_loss: 0.4418 - val_total_loss: 1.6704\n",
      "Epoch 18/50\n",
      "8/8 [==============================] - 0s 32ms/step - root_mean_squared_error: 0.9593 - loss: 0.9209 - regularization_loss: 0.4233 - total_loss: 1.3442 - val_root_mean_squared_error: 1.0983 - val_loss: 1.2197 - val_regularization_loss: 0.4069 - val_total_loss: 1.6266\n",
      "Epoch 19/50\n",
      "8/8 [==============================] - 0s 33ms/step - root_mean_squared_error: 0.9553 - loss: 0.9133 - regularization_loss: 0.3900 - total_loss: 1.3032 - val_root_mean_squared_error: 1.0954 - val_loss: 1.2128 - val_regularization_loss: 0.3751 - val_total_loss: 1.5878\n",
      "Epoch 20/50\n",
      "8/8 [==============================] - 0s 34ms/step - root_mean_squared_error: 0.9519 - loss: 0.9069 - regularization_loss: 0.3597 - total_loss: 1.2665 - val_root_mean_squared_error: 1.0929 - val_loss: 1.2071 - val_regularization_loss: 0.3462 - val_total_loss: 1.5533\n",
      "Epoch 21/50\n",
      "8/8 [==============================] - 0s 29ms/step - root_mean_squared_error: 0.9489 - loss: 0.9014 - regularization_loss: 0.3321 - total_loss: 1.2335 - val_root_mean_squared_error: 1.0909 - val_loss: 1.2022 - val_regularization_loss: 0.3200 - val_total_loss: 1.5222\n",
      "Epoch 22/50\n",
      "8/8 [==============================] - 0s 30ms/step - root_mean_squared_error: 0.9464 - loss: 0.8966 - regularization_loss: 0.3072 - total_loss: 1.2037 - val_root_mean_squared_error: 1.0890 - val_loss: 1.1979 - val_regularization_loss: 0.2963 - val_total_loss: 1.4941\n",
      "Epoch 23/50\n",
      "8/8 [==============================] - 0s 31ms/step - root_mean_squared_error: 0.9441 - loss: 0.8923 - regularization_loss: 0.2845 - total_loss: 1.1767 - val_root_mean_squared_error: 1.0874 - val_loss: 1.1939 - val_regularization_loss: 0.2747 - val_total_loss: 1.4686\n",
      "Epoch 24/50\n",
      "8/8 [==============================] - 0s 31ms/step - root_mean_squared_error: 0.9420 - loss: 0.8884 - regularization_loss: 0.2639 - total_loss: 1.1522 - val_root_mean_squared_error: 1.0858 - val_loss: 1.1902 - val_regularization_loss: 0.2551 - val_total_loss: 1.4453\n",
      "Epoch 25/50\n",
      "8/8 [==============================] - 0s 30ms/step - root_mean_squared_error: 0.9401 - loss: 0.8848 - regularization_loss: 0.2452 - total_loss: 1.1300 - val_root_mean_squared_error: 1.0843 - val_loss: 1.1868 - val_regularization_loss: 0.2373 - val_total_loss: 1.4241\n",
      "Epoch 26/50\n",
      "8/8 [==============================] - 0s 32ms/step - root_mean_squared_error: 0.9384 - loss: 0.8816 - regularization_loss: 0.2282 - total_loss: 1.1098 - val_root_mean_squared_error: 1.0830 - val_loss: 1.1838 - val_regularization_loss: 0.2211 - val_total_loss: 1.4049\n",
      "Epoch 27/50\n",
      "8/8 [==============================] - 0s 29ms/step - root_mean_squared_error: 0.9368 - loss: 0.8787 - regularization_loss: 0.2128 - total_loss: 1.0915 - val_root_mean_squared_error: 1.0819 - val_loss: 1.1811 - val_regularization_loss: 0.2064 - val_total_loss: 1.3875\n",
      "Epoch 28/50\n",
      "8/8 [==============================] - 0s 34ms/step - root_mean_squared_error: 0.9354 - loss: 0.8761 - regularization_loss: 0.1987 - total_loss: 1.0749 - val_root_mean_squared_error: 1.0808 - val_loss: 1.1786 - val_regularization_loss: 0.1930 - val_total_loss: 1.3717\n",
      "Epoch 29/50\n",
      "8/8 [==============================] - 0s 29ms/step - root_mean_squared_error: 0.9341 - loss: 0.8737 - regularization_loss: 0.1860 - total_loss: 1.0598 - val_root_mean_squared_error: 1.0799 - val_loss: 1.1764 - val_regularization_loss: 0.1809 - val_total_loss: 1.3573\n",
      "Epoch 30/50\n",
      "8/8 [==============================] - 0s 32ms/step - root_mean_squared_error: 0.9329 - loss: 0.8716 - regularization_loss: 0.1744 - total_loss: 1.0460 - val_root_mean_squared_error: 1.0790 - val_loss: 1.1743 - val_regularization_loss: 0.1699 - val_total_loss: 1.3442\n",
      "Epoch 31/50\n",
      "8/8 [==============================] - 0s 30ms/step - root_mean_squared_error: 0.9318 - loss: 0.8696 - regularization_loss: 0.1639 - total_loss: 1.0335 - val_root_mean_squared_error: 1.0782 - val_loss: 1.1724 - val_regularization_loss: 0.1598 - val_total_loss: 1.3323\n",
      "Epoch 32/50\n",
      "8/8 [==============================] - 0s 30ms/step - root_mean_squared_error: 0.9308 - loss: 0.8677 - regularization_loss: 0.1543 - total_loss: 1.0221 - val_root_mean_squared_error: 1.0774 - val_loss: 1.1707 - val_regularization_loss: 0.1507 - val_total_loss: 1.3214\n",
      "Epoch 33/50\n",
      "8/8 [==============================] - 0s 29ms/step - root_mean_squared_error: 0.9299 - loss: 0.8660 - regularization_loss: 0.1456 - total_loss: 1.0117 - val_root_mean_squared_error: 1.0767 - val_loss: 1.1690 - val_regularization_loss: 0.1424 - val_total_loss: 1.3114\n",
      "Epoch 34/50\n",
      "8/8 [==============================] - 0s 31ms/step - root_mean_squared_error: 0.9290 - loss: 0.8644 - regularization_loss: 0.1377 - total_loss: 1.0022 - val_root_mean_squared_error: 1.0760 - val_loss: 1.1675 - val_regularization_loss: 0.1349 - val_total_loss: 1.3023\n",
      "Epoch 35/50\n",
      "8/8 [==============================] - 0s 29ms/step - root_mean_squared_error: 0.9282 - loss: 0.8630 - regularization_loss: 0.1305 - total_loss: 0.9935 - val_root_mean_squared_error: 1.0754 - val_loss: 1.1661 - val_regularization_loss: 0.1280 - val_total_loss: 1.2941\n",
      "Epoch 36/50\n",
      "8/8 [==============================] - 0s 28ms/step - root_mean_squared_error: 0.9275 - loss: 0.8616 - regularization_loss: 0.1239 - total_loss: 0.9855 - val_root_mean_squared_error: 1.0749 - val_loss: 1.1648 - val_regularization_loss: 0.1217 - val_total_loss: 1.2865\n",
      "Epoch 37/50\n",
      "8/8 [==============================] - 0s 29ms/step - root_mean_squared_error: 0.9268 - loss: 0.8603 - regularization_loss: 0.1179 - total_loss: 0.9783 - val_root_mean_squared_error: 1.0743 - val_loss: 1.1635 - val_regularization_loss: 0.1160 - val_total_loss: 1.2795\n",
      "Epoch 38/50\n",
      "8/8 [==============================] - 0s 33ms/step - root_mean_squared_error: 0.9262 - loss: 0.8592 - regularization_loss: 0.1125 - total_loss: 0.9716 - val_root_mean_squared_error: 1.0738 - val_loss: 1.1624 - val_regularization_loss: 0.1108 - val_total_loss: 1.2732\n",
      "Epoch 39/50\n",
      "8/8 [==============================] - 0s 29ms/step - root_mean_squared_error: 0.9255 - loss: 0.8580 - regularization_loss: 0.1075 - total_loss: 0.9655 - val_root_mean_squared_error: 1.0734 - val_loss: 1.1613 - val_regularization_loss: 0.1060 - val_total_loss: 1.2673\n",
      "Epoch 40/50\n",
      "8/8 [==============================] - 0s 31ms/step - root_mean_squared_error: 0.9250 - loss: 0.8570 - regularization_loss: 0.1030 - total_loss: 0.9599 - val_root_mean_squared_error: 1.0729 - val_loss: 1.1603 - val_regularization_loss: 0.1017 - val_total_loss: 1.2619\n",
      "Epoch 41/50\n",
      "8/8 [==============================] - 0s 30ms/step - root_mean_squared_error: 0.9244 - loss: 0.8560 - regularization_loss: 0.0988 - total_loss: 0.9548 - val_root_mean_squared_error: 1.0725 - val_loss: 1.1593 - val_regularization_loss: 0.0977 - val_total_loss: 1.2570\n",
      "Epoch 42/50\n",
      "8/8 [==============================] - 0s 29ms/step - root_mean_squared_error: 0.9239 - loss: 0.8551 - regularization_loss: 0.0950 - total_loss: 0.9501 - val_root_mean_squared_error: 1.0722 - val_loss: 1.1585 - val_regularization_loss: 0.0941 - val_total_loss: 1.2525\n",
      "Epoch 43/50\n",
      "8/8 [==============================] - 0s 34ms/step - root_mean_squared_error: 0.9235 - loss: 0.8542 - regularization_loss: 0.0915 - total_loss: 0.9458 - val_root_mean_squared_error: 1.0718 - val_loss: 1.1577 - val_regularization_loss: 0.0907 - val_total_loss: 1.2484\n",
      "Epoch 44/50\n",
      "8/8 [==============================] - 0s 32ms/step - root_mean_squared_error: 0.9230 - loss: 0.8534 - regularization_loss: 0.0884 - total_loss: 0.9418 - val_root_mean_squared_error: 1.0715 - val_loss: 1.1569 - val_regularization_loss: 0.0877 - val_total_loss: 1.2445\n",
      "Epoch 45/50\n",
      "8/8 [==============================] - 0s 31ms/step - root_mean_squared_error: 0.9226 - loss: 0.8526 - regularization_loss: 0.0854 - total_loss: 0.9381 - val_root_mean_squared_error: 1.0712 - val_loss: 1.1561 - val_regularization_loss: 0.0849 - val_total_loss: 1.2410\n",
      "Epoch 46/50\n",
      "8/8 [==============================] - 0s 29ms/step - root_mean_squared_error: 0.9222 - loss: 0.8519 - regularization_loss: 0.0828 - total_loss: 0.9347 - val_root_mean_squared_error: 1.0708 - val_loss: 1.1554 - val_regularization_loss: 0.0823 - val_total_loss: 1.2377\n",
      "Epoch 47/50\n",
      "8/8 [==============================] - 0s 29ms/step - root_mean_squared_error: 0.9218 - loss: 0.8512 - regularization_loss: 0.0803 - total_loss: 0.9315 - val_root_mean_squared_error: 1.0706 - val_loss: 1.1547 - val_regularization_loss: 0.0800 - val_total_loss: 1.2347\n",
      "Epoch 48/50\n",
      "8/8 [==============================] - 0s 29ms/step - root_mean_squared_error: 0.9214 - loss: 0.8506 - regularization_loss: 0.0781 - total_loss: 0.9286 - val_root_mean_squared_error: 1.0703 - val_loss: 1.1541 - val_regularization_loss: 0.0778 - val_total_loss: 1.2319\n",
      "Epoch 49/50\n",
      "8/8 [==============================] - 0s 28ms/step - root_mean_squared_error: 0.9211 - loss: 0.8499 - regularization_loss: 0.0760 - total_loss: 0.9260 - val_root_mean_squared_error: 1.0701 - val_loss: 1.1535 - val_regularization_loss: 0.0758 - val_total_loss: 1.2294\n",
      "Epoch 50/50\n",
      "8/8 [==============================] - 0s 30ms/step - root_mean_squared_error: 0.9208 - loss: 0.8494 - regularization_loss: 0.0741 - total_loss: 0.9235 - val_root_mean_squared_error: 1.0698 - val_loss: 1.1530 - val_regularization_loss: 0.0740 - val_total_loss: 1.2270\n"
     ]
    }
   ],
   "source": [
    "model_tr = MovielensModelTunedRanking()\n",
    "model_tr.compile(optimizer=tf.keras.optimizers.Adagrad(learning_rate=0.1))\n",
    "history_tr = model_tr.fit(cached_train, epochs=50, validation_data=cached_validation)"
   ]
  },
  {
   "cell_type": "code",
   "execution_count": 50,
   "metadata": {
    "colab": {
     "base_uri": "https://localhost:8080/"
    },
    "id": "3GrSMwIYNAl7",
    "outputId": "bdb1cc54-d0ba-4aad-d4f2-4bd8fdb433f8"
   },
   "outputs": [
    {
     "name": "stdout",
     "output_type": "stream",
     "text": [
      "Root mean squared error in user rating from training: 0.92\n",
      "Root mean squared error in user rating from validation: 1.07\n"
     ]
    }
   ],
   "source": [
    "rmse_tr = history_tr.history['root_mean_squared_error'][-1]\n",
    "print(f'Root mean squared error in user rating from training: {rmse_tr:.2f}')\n",
    "\n",
    "val_rmse_tr = history_tr.history['val_root_mean_squared_error'][-1]\n",
    "print(f'Root mean squared error in user rating from validation: {val_rmse_tr:.2f}')"
   ]
  },
  {
   "cell_type": "code",
   "execution_count": 51,
   "metadata": {
    "id": "WG0EsFs3NRx1"
   },
   "outputs": [],
   "source": [
    "num_validation_runs = len(history_tr.history['root_mean_squared_error'])\n",
    "validation_freq = 1\n",
    "epochs_x = [(x + 1) * validation_freq for x in range(num_validation_runs)]"
   ]
  },
  {
   "cell_type": "code",
   "execution_count": 52,
   "metadata": {
    "colab": {
     "base_uri": "https://localhost:8080/",
     "height": 308
    },
    "id": "Wmi3EAi3NYrM",
    "outputId": "0825f5e6-f49a-4513-abad-b493e5da70d5"
   },
   "outputs": [
    {
     "data": {
      "text/plain": [
       "<matplotlib.legend.Legend at 0x7f697cf9fdd8>"
      ]
     },
     "execution_count": 52,
     "metadata": {},
     "output_type": "execute_result"
    },
    {
     "data": {
      "image/png": "[encoded data removed]",
      "text/plain": [
       "<Figure size 432x288 with 1 Axes>"
      ]
     },
     "metadata": {
      "needs_background": "light"
     },
     "output_type": "display_data"
    }
   ],
   "source": [
    "plt.plot(epochs_x, history_tr.history['root_mean_squared_error'], label='Training')\n",
    "plt.plot(epochs_x, history_tr.history['val_root_mean_squared_error'], label='Validation')\n",
    "plt.title('Root mean squared error in user rating vs. training epoch')\n",
    "plt.xlabel('Training epoch')\n",
    "plt.ylabel('Root mean squared error in user rating')\n",
    "plt.legend()"
   ]
  },
  {
   "cell_type": "markdown",
   "metadata": {
    "id": "QdiaiJ38IdwD"
   },
   "source": [
    "As mentioned, this is a very basic hyperparameter tuning. Some obvious improvements to this use of a grid for tuning include:\n",
    "\n",
    "- Use a larger grid of learning rates (log + linear fine-tuning)\n",
    "- More epochs in model.fit(): 100s, not 30 or 50\n",
    "- Use `keras.tuner` and/or TensorFlow callbacks to retain the best model, and retrain it with both the training and validation data once found\n",
    "- Use callbacks to stop training when the improvement rate drops below a threshold (early stopping), instead of training for a fixed number of epochs\n",
    "- Tune layer size or number of layers, as in [the TFRS multitask tutorial](https://www.tensorflow.org/recommenders/examples/multitask)\n",
    "- Tune the L2 regularization factor, currently set to the default 0.01\n",
    "- The [regularizer](https://www.tensorflow.org/tutorials/keras/overfit_and_underfit#strategies_to_prevent_overfitting) can be dropout as well as L2 (aka. weight decay), or it can be both\n",
    "- Tune embedding size (vary the number of dimensions from 32 and the number of  categories that can be fit: more is better unless it causes overfitting or too-slow training)\n",
    "- Optimizers other than Adagrad, e.g., SGD, RMSprop, Adam, Nadam\n",
    "- Activation functions other than ReLU, e.g., SELU with LecunNormal weight initialization\n",
    "- Keras tuner or [TensorBoard HParams](https://www.tensorflow.org/tensorboard/hyperparameter_tuning_with_hparams) for multi-parameter search, or smart search. The I/O would need to match the recommender model, but often smart search will find better hyperparameter sets then manual tuning, even by experts\n",
    "- Add [other metrics](https://www.tensorflow.org/guide/effective_tf2#tfmetrics_aggregates_data_and_tfsummary_logs_them) besides RMSE to the plotted tuning history\n",
    "\n",
    "One thing that is clear from the above code, however, is that managing and plotting much more extensive tuning from a single notebook can quickly become unwieldy, error-prone, and hard to reproduce due to the combinatorial explosion of parameters and their differing types and amounts. So the desirability of eking out further model performance needs to be balanced against this.\n",
    "\n",
    "There are various further improvements beyond tuning that should therefore also be considered - see the appendix."
   ]
  },
  {
   "cell_type": "markdown",
   "metadata": {
    "id": "Q6X66dBfK-5o"
   },
   "source": [
    "As in previous sections, we can see a summary of the final model architecture."
   ]
  },
  {
   "cell_type": "code",
   "execution_count": 53,
   "metadata": {
    "colab": {
     "base_uri": "https://localhost:8080/"
    },
    "id": "mfS8RD5aQK8M",
    "outputId": "756dc9ae-d628-445b-b222-57f7e96da255"
   },
   "outputs": [
    {
     "name": "stdout",
     "output_type": "stream",
     "text": [
      "Model: \"movielens_model_tuned_ranking_7\"\n",
      "_________________________________________________________________\n",
      "Layer (type)                 Output Shape              Param #   \n",
      "=================================================================\n",
      "sequential_24 (Sequential)   (None, 32)                53280     \n",
      "_________________________________________________________________\n",
      "sequential_25 (Sequential)   (None, 32)                30208     \n",
      "_________________________________________________________________\n",
      "sequential_26 (Sequential)   (None, 1)                 33153     \n",
      "_________________________________________________________________\n",
      "ranking_8 (Ranking)          multiple                  2         \n",
      "=================================================================\n",
      "Total params: 116,643\n",
      "Trainable params: 116,641\n",
      "Non-trainable params: 2\n",
      "_________________________________________________________________\n"
     ]
    }
   ],
   "source": [
    "model_tr.summary()"
   ]
  },
  {
   "cell_type": "markdown",
   "metadata": {
    "id": "0YzUHtmUWcKB"
   },
   "source": [
    "As with the basic model, the performance of the model on the unseen testing data is similar to the validation performance, at about RMSE ~ 1."
   ]
  },
  {
   "cell_type": "code",
   "execution_count": 54,
   "metadata": {
    "colab": {
     "base_uri": "https://localhost:8080/"
    },
    "id": "9hw7_atTIUul",
    "outputId": "f992c83a-ef5d-4215-a5dc-58210995158c"
   },
   "outputs": [
    {
     "name": "stdout",
     "output_type": "stream",
     "text": [
      "5/5 [==============================] - 0s 5ms/step - root_mean_squared_error: 1.0435 - loss: 1.0837 - regularization_loss: 0.0740 - total_loss: 1.1577\n"
     ]
    }
   ],
   "source": [
    "eval_tr = model_tr.evaluate(cached_test, return_dict=True)"
   ]
  },
  {
   "cell_type": "code",
   "execution_count": 55,
   "metadata": {
    "colab": {
     "base_uri": "https://localhost:8080/"
    },
    "id": "8M151XaeN3PU",
    "outputId": "71b14698-3b31-4c8a-9778-0ec80dbed269"
   },
   "outputs": [
    {
     "name": "stdout",
     "output_type": "stream",
     "text": [
      "Root mean squared error in user rating from evaluation: 1.04\n"
     ]
    }
   ],
   "source": [
    "rmse_eval_tr = eval_tr['root_mean_squared_error']\n",
    "print(f'Root mean squared error in user rating from evaluation: {rmse_eval_tr:.2f}')"
   ]
  },
  {
   "cell_type": "markdown",
   "metadata": {
    "id": "5m5kalp0IdiT"
   },
   "source": [
    "And as above, new data can now be sent to the model."
   ]
  },
  {
   "cell_type": "code",
   "execution_count": 56,
   "metadata": {
    "colab": {
     "base_uri": "https://localhost:8080/"
    },
    "id": "NFlR-80oPCwE",
    "outputId": "06095776-9182-40dc-f069-a45140fc8f1b"
   },
   "outputs": [
    {
     "data": {
      "text/plain": [
       "(array([[-0.01654576,  0.04827089, -0.02812417, ...,  0.0387341 ,\n",
       "          0.01202729, -0.01982239],\n",
       "        [-0.00894935,  0.040899  ,  0.02178613, ..., -0.04620764,\n",
       "          0.00013078, -0.02461514],\n",
       "        [-0.00186764, -0.03352356,  0.00020238, ..., -0.0230618 ,\n",
       "          0.00848347,  0.01666406],\n",
       "        ...,\n",
       "        [-0.00329784, -0.02608389,  0.00752645, ..., -0.01587511,\n",
       "          0.01100268, -0.01759173],\n",
       "        [-0.01503685, -0.0456687 ,  0.01308416, ..., -0.05282753,\n",
       "         -0.0368066 ,  0.00147771],\n",
       "        [-0.04146503,  0.04204572, -0.04823573, ...,  0.02748347,\n",
       "          0.01537405, -0.00168005]], dtype=float32),\n",
       " array([[ 0.01423332,  0.01766468, -0.02264714, ..., -0.02963961,\n",
       "          0.00404076, -0.00843166],\n",
       "        [-0.00218975, -0.05156397, -0.02932873, ...,  0.01523044,\n",
       "          0.03127723,  0.02029585],\n",
       "        [ 0.04268833,  0.00668138, -0.05893931, ...,  0.00024827,\n",
       "         -0.03477856,  0.00149949],\n",
       "        ...,\n",
       "        [-0.04521199,  0.02976512, -0.01660616, ..., -0.02394628,\n",
       "          0.00750253, -0.02667813],\n",
       "        [-0.02224614,  0.04161705,  0.04227826, ...,  0.00777033,\n",
       "          0.03475382,  0.01161971],\n",
       "        [-0.03325041, -0.03120468,  0.02684557, ..., -0.00229934,\n",
       "          0.02608182,  0.05236936]], dtype=float32),\n",
       " array([[2.9688058],\n",
       "        [3.468102 ],\n",
       "        [3.0048623],\n",
       "        ...,\n",
       "        [3.525487 ],\n",
       "        [3.610073 ],\n",
       "        [2.757818 ]], dtype=float32))"
      ]
     },
     "execution_count": 56,
     "metadata": {},
     "output_type": "execute_result"
    }
   ],
   "source": [
    "# Again returns the embeddings and predicted ratings\n",
    "model_tr.predict(cached_test)"
   ]
  },
  {
   "cell_type": "markdown",
   "metadata": {},
   "source": [
    "### 4.3: Model as Gradient Workflow\n",
    "\n",
    "**This section requires the user to input their settings - see below.**  \n",
    "**Gradient Workflows is still a maturing product and it is expected that all of the setup steps currently given here will disappear in time.**\n",
    "\n",
    "Having completed creating and training the models in our notebook here, in principle we have a model that can be deployed into production.\n",
    "\n",
    "What can be seen from the above, however, is that even though we only trained 3 models - the wide grid, narrow grid, and final, already the notebook is quite long, and there are quite a few loops and things to keep track of. Adding further models, data preparation, feature engineering, etc., will quickly result in this getting out of hand, with too many things to keep track of. Considering that a typical real project might have 100s of models, when we get to that scale, a more rigorous way of working is indicated.\n",
    "\n",
    "There are good reasons to start with a notebook, which is why we have done so here, but when a project gets large, we can switch from Gradient's Notebook way of working to its Workflows. This does, however, require more setup and structure than a notebook.\n",
    "\n",
    "This section shows an example of a Workflow, where we put the code we need into a script, and instead of training the model from the notebook, we run that. Our script is `workflow_train_model.py`, and we show training the final model from section 4.2 above. The code is a subset of the notebook, with a few minor changes for lines that work in cells but not a .py (or vice versa), for example, `!pip install -q tensorflow-recommenders==0.4.0` becomes `subprocess.run('pip install -q tensorflow-recommenders==0.4.0', shell=True, check=True, stdout=subprocess.PIPE, universal_newlines=True)`. Another example would be `%` or `%%` line and cell magics.\n",
    "\n",
    "Since they run via script and parameter files (YAML), Workflows can be used without requiring a notebook at all. Here, to preserve continuity and keep the project within one end-to-end setting, we call the Workflow from the notebook. This involves setting up access to it and calling the YAML file with the settings, which in turn calls `workflow_train_model.py`.\n",
    "\n",
    "Aside from the advantages or organization, reproducibility, etc., Gradient also allows the setup to be straightforwardly extended to using GPU instead of CPU, by choosing a GPU instance, and using multiple machines instead of a single machine, by using multinode instead of single node. Since Gradient can use the Paperspace infrastructure, the user does not need to set up their own GPUs or be an expert in distributed computing to access this power."
   ]
  },
  {
   "cell_type": "markdown",
   "metadata": {},
   "source": [
    "#### Workflow setup\n",
    "\n",
    "To run the Workflow requires the user to supply the following settings:\n",
    "\n",
    " - `api_key` = API key to access Gradient. This is part of setting up one's user account\n",
    " - `cluster_id` = Currently Workflows require a Gradient Private cluster, whose ID is given here\n",
    " - `workflow_train_id` = Currently Workflows need to be created in the GUI or CLI\n",
    " - `workflow_deploy_id` = Similarly for deployment Workflow in section 5\n",
    " \n",
    "To obtain these, do\n",
    "\n",
    " - [Create a project](https://docs.paperspace.com/gradient/get-started/managing-projects#create-a-project) and optionally [get its ID](https://docs.paperspace.com/gradient/get-started/managing-projects#get-your-projects-id)\n",
    " - [Generate an API key](https://docs.paperspace.com/gradient/get-started/quick-start/install-the-cli#obtaining-an-api-key) for your project to allow access\n",
    " - Use or create a [Gradient Private cluster](https://docs.paperspace.com/gradient/gradient-private-cloud/about/setup/managed-installation) and [its ID](https://docs.paperspace.com/gradient/gradient-private-cloud/about/usage#finding-your-cluster-id)\n",
    " - [Create the two workflows](https://docs.paperspace.com/gradient/explore-train-deploy/workflows/getting-started-with-workflows#creating-gradient-workflows) via CLI or GUI and [get their IDs](https://docs.paperspace.com/gradient/explore-train-deploy/workflows/getting-started-with-workflows#running-your-first-workflow-run)\n",
    "\n",
    "In the YAML files, the IDs of the output datasets need to be supplied:\n",
    "\n",
    " - [Create output datasets](https://docs.paperspace.com/gradient/data/data-overview/private-datasets-repository#creating-a-dataset-and-dataset-version) for the two workflows\n",
    " - [Import a placeholder file](https://docs.paperspace.com/gradient/data/data-overview/private-datasets-repository#creating-a-dataset-and-dataset-version) into each created output dataset\n",
    " - Add the IDs to workflow-train-model.yaml and workflow-deploy-model.yaml as indicated in those files\n",
    "\n",
    "As the product matures, it is expected that all of these manual steps will disappear. Some steps such as API key generation are also doable via the [command line interface](https://docs.paperspace.com/gradient/get-started/install-the-cli)."
   ]
  },
  {
   "cell_type": "markdown",
   "metadata": {},
   "source": [
    "When all is set up, add your settings to the next cell, then run it.\n",
    "\n",
    "They will look similar to this:\n",
    "\n",
    "`api_key = '0123456789abcdef0123456789abcd'\n",
    "cluster_id = 'cdefghijk'\n",
    "workflow_id_train = '6789abcd-01ef-23gh-45ij-678901klmnop'\n",
    "workflow_id_deploy = '6789abcd-01ef-23gh-45ij-678901klmnoq'`"
   ]
  },
  {
   "cell_type": "code",
   "execution_count": 57,
   "metadata": {},
   "outputs": [],
   "source": [
    "# TODO: These are my settings; remove from public notebook\n",
    "# TODO: Use syntax to access API key as Gradient secret not text file when supported\n",
    "\n",
    "cluster_id = 'clcrk7tev' # Gradient private cluster\n",
    "workflow_id_train = 'a7f36ba3-811c-4de2-851f-df2b6dfea4fb' # Created workflows in GUI/CLI\n",
    "workflow_id_deploy = '1e824fbd-1b0f-4b9d-902b-362a4315c06a'"
   ]
  },
  {
   "cell_type": "markdown",
   "metadata": {},
   "source": [
    "The API key could also be given here as a string, but since it is a credential that allows access to the system for you as a user, it is better to not do so. Gradient will in future support accessing its Secrets from the Notebook via the SDK. For now, we can read the key, supplied by the user, from a file."
   ]
  },
  {
   "cell_type": "code",
   "execution_count": 58,
   "metadata": {},
   "outputs": [],
   "source": [
    "file = './key.txt'\n",
    "\n",
    "with open(file) as f:\n",
    "    out = f.readlines()\n",
    "\n",
    "api_key = ''.join(out).strip('\\n')"
   ]
  },
  {
   "cell_type": "markdown",
   "metadata": {},
   "source": [
    "#### Access Gradient\n",
    "Aside from its graphical interface (GUI), Gradient has command line and SDK interfaces that allow interaction to achieve most of the same things that can be done with the GUI. The lines here set up access to the SDK.\n",
    "\n",
    "Here, we install the Gradient SDK using pip. If you are running the notebook on your own machine rather than the Gradient Notebook, then this will also work."
   ]
  },
  {
   "cell_type": "code",
   "execution_count": 59,
   "metadata": {
    "scrolled": true
   },
   "outputs": [
    {
     "name": "stdout",
     "output_type": "stream",
     "text": [
      "/usr/lib/python3/dist-packages/secretstorage/dhcrypto.py:15: CryptographyDeprecationWarning: int_from_bytes is deprecated, use int.from_bytes instead\n",
      "  from cryptography.utils import int_from_bytes\n",
      "/usr/lib/python3/dist-packages/secretstorage/util.py:19: CryptographyDeprecationWarning: int_from_bytes is deprecated, use int.from_bytes instead\n",
      "  from cryptography.utils import int_from_bytes\n",
      "Requirement already satisfied: gradient in /usr/local/lib/python3.6/dist-packages (1.5.5)\n",
      "Requirement already satisfied: websocket-client==0.57.* in /usr/local/lib/python3.6/dist-packages (from gradient) (0.57.0)\n",
      "Requirement already satisfied: six in /usr/local/lib/python3.6/dist-packages (from gradient) (1.15.0)\n",
      "Requirement already satisfied: click-help-colors in /usr/local/lib/python3.6/dist-packages (from gradient) (0.9)\n",
      "Requirement already satisfied: requests-toolbelt in /usr/local/lib/python3.6/dist-packages (from gradient) (0.9.1)\n",
      "Requirement already satisfied: attrs<=19 in /usr/local/lib/python3.6/dist-packages (from gradient) (18.2.0)\n",
      "Requirement already satisfied: terminaltables in /usr/local/lib/python3.6/dist-packages (from gradient) (3.1.0)\n",
      "Requirement already satisfied: click-didyoumean in /usr/local/lib/python3.6/dist-packages (from gradient) (0.0.3)\n",
      "Requirement already satisfied: colorama==0.4.3 in /usr/local/lib/python3.6/dist-packages (from gradient) (0.4.3)\n",
      "Requirement already satisfied: python-dateutil==2.* in /usr/local/lib/python3.6/dist-packages (from gradient) (2.8.0)\n",
      "Requirement already satisfied: click==7.1.2 in /usr/local/lib/python3.6/dist-packages (from gradient) (7.1.2)\n",
      "Requirement already satisfied: progressbar2 in /usr/local/lib/python3.6/dist-packages (from gradient) (3.53.1)\n",
      "Requirement already satisfied: halo in /usr/local/lib/python3.6/dist-packages (from gradient) (0.0.31)\n",
      "Requirement already satisfied: requests[security] in /usr/local/lib/python3.6/dist-packages (from gradient) (2.25.1)\n",
      "Requirement already satisfied: PyYAML==5.* in /usr/local/lib/python3.6/dist-packages (from gradient) (5.4.1)\n",
      "Requirement already satisfied: gradient-utils>=0.1.2 in /usr/local/lib/python3.6/dist-packages (from gradient) (0.3.2)\n",
      "Requirement already satisfied: marshmallow<3.0 in /usr/local/lib/python3.6/dist-packages (from gradient) (2.21.0)\n",
      "Requirement already satisfied: click-completion in /usr/local/lib/python3.6/dist-packages (from gradient) (0.5.2)\n",
      "Requirement already satisfied: wheel<0.36.0,>=0.35.1 in /usr/local/lib/python3.6/dist-packages (from gradient-utils>=0.1.2->gradient) (0.35.1)\n",
      "Collecting numpy==1.18.5\n",
      "  Using cached numpy-1.18.5-cp36-cp36m-manylinux1_x86_64.whl (20.1 MB)\n",
      "Requirement already satisfied: hyperopt==0.1.2 in /usr/local/lib/python3.6/dist-packages (from gradient-utils>=0.1.2->gradient) (0.1.2)\n",
      "Requirement already satisfied: prometheus-client<0.10,>=0.8 in /usr/local/lib/python3.6/dist-packages (from gradient-utils>=0.1.2->gradient) (0.9.0)\n",
      "Requirement already satisfied: pymongo<4.0.0,>=3.11.0 in /usr/local/lib/python3.6/dist-packages (from gradient-utils>=0.1.2->gradient) (3.11.3)\n",
      "Requirement already satisfied: scipy in /usr/local/lib/python3.6/dist-packages (from hyperopt==0.1.2->gradient-utils>=0.1.2->gradient) (1.5.4)\n",
      "Requirement already satisfied: future in /usr/local/lib/python3.6/dist-packages (from hyperopt==0.1.2->gradient-utils>=0.1.2->gradient) (0.18.2)\n",
      "Requirement already satisfied: networkx in /usr/local/lib/python3.6/dist-packages (from hyperopt==0.1.2->gradient-utils>=0.1.2->gradient) (2.5.1)\n",
      "Requirement already satisfied: tqdm in /usr/local/lib/python3.6/dist-packages (from hyperopt==0.1.2->gradient-utils>=0.1.2->gradient) (4.56.0)\n",
      "Requirement already satisfied: jinja2 in /usr/local/lib/python3.6/dist-packages (from click-completion->gradient) (2.10.1)\n",
      "Requirement already satisfied: shellingham in /usr/local/lib/python3.6/dist-packages (from click-completion->gradient) (1.4.0)\n",
      "Requirement already satisfied: log-symbols>=0.0.14 in /usr/local/lib/python3.6/dist-packages (from halo->gradient) (0.0.14)\n",
      "Requirement already satisfied: termcolor>=1.1.0 in /usr/local/lib/python3.6/dist-packages (from halo->gradient) (1.1.0)\n",
      "Requirement already satisfied: spinners>=0.0.24 in /usr/local/lib/python3.6/dist-packages (from halo->gradient) (0.0.24)\n",
      "Requirement already satisfied: MarkupSafe>=0.23 in /usr/local/lib/python3.6/dist-packages (from jinja2->click-completion->gradient) (1.1.1)\n",
      "Requirement already satisfied: decorator<5,>=4.3 in /usr/local/lib/python3.6/dist-packages (from networkx->hyperopt==0.1.2->gradient-utils>=0.1.2->gradient) (4.4.0)\n",
      "Requirement already satisfied: python-utils>=2.3.0 in /usr/local/lib/python3.6/dist-packages (from progressbar2->gradient) (2.5.6)\n",
      "Requirement already satisfied: chardet<5,>=3.0.2 in /usr/local/lib/python3.6/dist-packages (from requests[security]->gradient) (4.0.0)\n",
      "Requirement already satisfied: urllib3<1.27,>=1.21.1 in /usr/local/lib/python3.6/dist-packages (from requests[security]->gradient) (1.26.3)\n",
      "Requirement already satisfied: certifi>=2017.4.17 in /usr/local/lib/python3.6/dist-packages (from requests[security]->gradient) (2020.12.5)\n",
      "Requirement already satisfied: idna<3,>=2.5 in /usr/lib/python3/dist-packages (from requests[security]->gradient) (2.6)\n",
      "Requirement already satisfied: pyOpenSSL>=0.14 in /usr/local/lib/python3.6/dist-packages (from requests[security]->gradient) (20.0.1)\n",
      "Requirement already satisfied: cryptography>=1.3.4 in /usr/local/lib/python3.6/dist-packages (from requests[security]->gradient) (3.4.7)\n",
      "Requirement already satisfied: cffi>=1.12 in /usr/local/lib/python3.6/dist-packages (from cryptography>=1.3.4->requests[security]->gradient) (1.14.5)\n",
      "Requirement already satisfied: pycparser in /usr/local/lib/python3.6/dist-packages (from cffi>=1.12->cryptography>=1.3.4->requests[security]->gradient) (2.20)\n",
      "Installing collected packages: numpy\n",
      "  Attempting uninstall: numpy\n",
      "    Found existing installation: numpy 1.19.5\n",
      "    Uninstalling numpy-1.19.5:\n",
      "      Successfully uninstalled numpy-1.19.5\n",
      "\u001b[31mERROR: pip's dependency resolver does not currently take into account all the packages that are installed. This behaviour is the source of the following dependency conflicts.\n",
      "tensorflow 2.4.0 requires numpy~=1.19.2, but you have numpy 1.18.5 which is incompatible.\n",
      "tensorflow-gpu 2.0.0 requires gast==0.2.2, but you have gast 0.3.3 which is incompatible.\n",
      "tensorflow-gpu 2.0.0 requires tensorboard<2.1.0,>=2.0.0, but you have tensorboard 2.4.1 which is incompatible.\n",
      "tensorflow-gpu 2.0.0 requires tensorflow-estimator<2.1.0,>=2.0.0, but you have tensorflow-estimator 2.4.0 which is incompatible.\u001b[0m\n",
      "Successfully installed numpy-1.18.5\n",
      "\u001b[33mWARNING: Running pip as root will break packages and permissions. You should install packages reliably by using venv: https://pip.pypa.io/warnings/venv\u001b[0m\n"
     ]
    }
   ],
   "source": [
    "!pip install -U gradient # -U means upgrade any existing installed packages that this would have installed"
   ]
  },
  {
   "cell_type": "markdown",
   "metadata": {},
   "source": [
    "Functionality such as Workflows and deployments are under `SdkClient`. Aside from the ones shown, there are about [20 more](https://paperspace.github.io/gradient-cli/gradient.api_sdk.clients.html)."
   ]
  },
  {
   "cell_type": "code",
   "execution_count": 60,
   "metadata": {},
   "outputs": [],
   "source": [
    "# Access Gradient from the SDK, i.e., this notebook\n",
    "from gradient import sdk_client\n",
    "\n",
    "# Enable SDK to access YAML file\n",
    "import yaml\n",
    "\n",
    "# SDK clients\n",
    "# All can be accessed from client, or shorthanded for convenience as here\n",
    "client = sdk_client.SdkClient(api_key)\n",
    "deployments_client = sdk_client.DeploymentsClient(api_key)\n",
    "workflows_client  = sdk_client.WorkflowsClient(api_key)"
   ]
  },
  {
   "cell_type": "markdown",
   "metadata": {},
   "source": [
    "When running workflows in Gradient, they can be associated with a user's project, which here we created above as part of the currently required manual setup steps.\n",
    "\n",
    "In other notebooks, you may want to create a project from the notebook, which can be done with\n",
    "\n",
    "`project_id = client.projects.create('My project')`\n",
    "\n",
    "With a project ID, you can also see information about project contents, such as the workflows\n",
    "\n",
    "`workflows = workflows_client.list(project_id=project_id)\n",
    "print(workflows)`\n",
    "\n",
    "After a project is created, it will also be visible under the Projects tab in the GUI, and to the command line."
   ]
  },
  {
   "cell_type": "markdown",
   "metadata": {},
   "source": [
    "#### Run the Workflow\n",
    "\n",
    "**TODO: Blog part 4 link**\n",
    "\n",
    "Now we are setup, we can run the Workflow by referring to its YAML file, `workflow-train-model.yaml`. Use of YAML is part of what makes this production-grade, as opposed to just for experimenting.\n",
    "\n",
    "The YAML file contains two jobs: `CloneRepo` and `RecommenderTrain`. The first one accesses the GitHub repository to obtain the training script, and the second runs the model training. For more details about YAML, see part 4 of the blog series, and the [Workflows documentation](https://docs.paperspace.com/gradient/explore-train-deploy/workflows)."
   ]
  },
  {
   "cell_type": "code",
   "execution_count": 61,
   "metadata": {},
   "outputs": [],
   "source": [
    "# Train model\n",
    "\n",
    "# TODO: Pass hyperparams as env to .py: this requires resolution of PLA-278 Unable to use environment variables in workflows\n",
    "# because supplying in the YAML\n",
    "#\n",
    "# env:\n",
    "#    HP_FINAL_EPOCHS: '50'\n",
    "#    HP_FINAL_LR: '0.1'\n",
    "#\n",
    "# causes the cell to fail with\n",
    "#\n",
    "# ResourceFetchingError: Failed to fetch data: \"spec.defaults.env.HP_FINAL_EPOCHS\" must be a string\n",
    "\n",
    "spec_path = './workflow-train-model.yaml'\n",
    "\n",
    "yaml_spec = open(spec_path, 'r')\n",
    "train_spec = yaml.safe_load(yaml_spec)\n",
    "\n",
    "workflow_param_train = {\n",
    "    'workflow_id' : workflow_id_train,\n",
    "    'spec': train_spec,\n",
    "    'cluster_id' : cluster_id,\n",
    "    'inputs': None\n",
    "}\n",
    "\n",
    "workflow_run_train = workflows_client.run_workflow(**workflow_param_train) # \"**\" is used because parameters is a dictionary"
   ]
  },
  {
   "cell_type": "markdown",
   "metadata": {},
   "source": [
    "If you have your team name, project ID, and Workflow ID, you can access the Workflow directly at its URL in the GUI:\n",
    "\n",
    "`https://console.paperspace.com/<team name>/projects/<project_id>/workflows/<workflow ID>`\n",
    "\n",
    "e.g., like\n",
    "\n",
    "`https://console.paperspace.com/my_team/projects/pqrstuvwx/workflows/6789abcd-01ef-23gh-45ij-678901klmnop`\n",
    "\n",
    "Or navigate there via the Workflows tab.\n",
    "\n",
    "Information about the Workflow can also be retrieved from the output of its invocation above (`workflow_run_train`)."
   ]
  },
  {
   "cell_type": "code",
   "execution_count": 62,
   "metadata": {},
   "outputs": [
    {
     "data": {
      "text/plain": [
       "{'id': 7,\n",
       " 'cluster': {'id': 'clcrk7tev'},\n",
       " 'spec': {'jobs': {'CloneRecRepo': {'uses': 'git-checkout@v1',\n",
       "    'with': {'url': 'https://github.com/Paperspace/Deep-Learning-Recommender-TF',\n",
       "     'password': 'secret:GIT_PASSWORD',\n",
       "     'username': 'nmb-paperspace'},\n",
       "    'inputs': {'repoRec': {'type': 'volume'}}},\n",
       "   'RecommenderTrain': {'uses': 'script@v1',\n",
       "    'with': {'image': 'tensorflow/tensorflow:2.4.1-jupyter',\n",
       "     'script': 'cp -R /inputs/repoRec /Deep-Learning-Recommender-TF\\ncd /Deep-Learning-Recommender-TF\\npython workflow_train_model.py'},\n",
       "    'needs': ['CloneRecRepo'],\n",
       "    'inputs': {'repoRec': {'type': 'volume'}},\n",
       "    'outputs': {'trainedRecommender': {'type': 'dataset',\n",
       "      'with': {'id': 'dstvt0e2sp88yuf'}}}}},\n",
       "  'defaults': {'env': {'PAPERSPACE_API_KEY': 'secret:api_key_recommender'},\n",
       "   'resources': {'instance-type': 'P4000'}}},\n",
       " 'status': {'phase': 'SUBMITTING',\n",
       "  'logId': 'wfr0c50e7ae42ee415c8887577b9a7688fa',\n",
       "  'jobs': {'RecommenderTrain': {'phase': 'SUBMITTING',\n",
       "    'logId': 'wfrj4c7abbd6b67a4d0ba7a638edd8156631',\n",
       "    'outputs': {'trainedRecommender': {'dataset': {'id': 'demo-dataset:phf0zt7',\n",
       "       'isCommitted': False}}}},\n",
       "   'CloneRecRepo': {'phase': 'SUBMITTING',\n",
       "    'logId': 'wfrjac4c514843c3476b875f91e019d2b4ca'}}}}"
      ]
     },
     "execution_count": 62,
     "metadata": {},
     "output_type": "execute_result"
    }
   ],
   "source": [
    "workflow_run_train"
   ]
  },
  {
   "cell_type": "markdown",
   "metadata": {},
   "source": [
    "Like most Gradient functionality, invoking the Workflow from the GUI or SDK has an equivalent in the command line. Here we don't run it, since it would just rerun the same computation, but for reference, it is:\n",
    "\n",
    "`gradient workflows run \\\n",
    "  --id <workflow_id_train> \\\n",
    "  --clusterId <cluster_id> \\\n",
    "  --path <path_to_yaml_file>`\n",
    "\n",
    "i.e., like\n",
    "\n",
    "`gradient workflows run \\\n",
    "  --id 6789abcd-01ef-23gh-45ij-678901klmnop \\\n",
    "  --clusterId cdefghijk \\\n",
    "  --path ./workflow-train-model.yaml`\n",
    "  \n",
    "There are other parameters available which we did not use here. See the [API documentation on Workflows](https://paperspace.github.io/gradient-cli/gradient.api_sdk.clients.html#module-gradient.api_sdk.clients.workflow_client) for information on those, and the [command line](https://paperspace.github.io/gradient-cli/gradient.cli.html) section under Workflows for more on CLI equivalents."
   ]
  },
  {
   "cell_type": "markdown",
   "metadata": {
    "id": "Wf7US2o2LYDL"
   },
   "source": [
    "## 5: Deploy the final model\n",
    "\n",
    "A major part of any production data science end-to-end dataflow is that the trained model must be deployed so that it can generate output on new data being fed to it (inference). Many enterprise projects fail at the production stage, even if a model was successfully trained and showed good performance.\n",
    "\n",
    "In this project, the necessity of using a lower level model representation, i.e., the subclassing API, for recommender systems also adds to the potential complexity of deployment. Solving many real business problems will also require the subclassing API because of some custom requirement or business logic, and face similar issues.\n",
    "\n",
    "While it is possible to take one or more of the models generated from the notebook in sections 4.1 and 4.2 above, and then setup TensorFlow Serving to deploy, the process is so much easier on Gradient that we do not attempt this, and instead go directly to deploying the final model from section 4.3.\n",
    "\n",
    "In an enterprise production system, after model deployment comes dealing with model output to make it actionable to the business, model monitoring (especially for concept / data / model drift), retraining or updating the model when it does drift, and periodic updates with stakeholders to be sure the model is still being used and providing value. Some of these are mentioned again in the appendices below regarding improvements to the analysis and extensions to the project."
   ]
  },
  {
   "cell_type": "markdown",
   "metadata": {},
   "source": [
    "### 5.1: Create and start model deployment using Workflows\n",
    "\n",
    "Running the train_model.py Workflow from section 4.3 above produces a saved model, which we will deploy here.\n",
    "\n",
    "For reference, the lines in the Workflow's `workflow_train_model.py` to save the model are the standard `model.save` form from TensorFlow. The output directory is the location specified in the `workflow-train-model.yaml` file\n",
    "\n",
    "`export_path = '/outputs/trainedRecommender'\n",
    "print('export_path = {}\\n'.format(export_path))\n",
    "model_tr.save(export_path)`\n",
    "\n",
    "Viewing this in the GUI, one can see that the model is on disk and has the usual TensorFlow SavedModel structure:\n",
    "\n",
    " - `saved_model.pb` = code for the model, including its architecture\n",
    " - `variables/` = trained model weights\n",
    " - `assets/` = internal information for restoring the model if needed, here empty so not shown. An example would be a text file for initializing a vocabulary.\n",
    " \n",
    "The model is present and ready to be deployed. The process is similar to running the training, and shows the advantage of using this setup: the machine, cluster configuration, and container are all already available, and the deployments will be organized and versioned similar to how the models are.\n",
    "\n",
    "As with the training, there is a corresponding YAML file, `workflow-deploy-model.yaml` that here contains 3 jobs: `UploadModel`, `CreateDeployment`, and `StartDeployment`. `UploadModel` accesses the desired model version and makes it accessible to the Workflow, then create and start are separate steps since in general not all created deployments will want to be started immediately, and a deployment may want to be stopped without being deleted.\n",
    "\n",
    "Unlike the training, in the deployment here, a further .py Python script is not needed.\n",
    "\n",
    "As with training, there are more parameters available, as described in the [API documentation for deployment creation](https://paperspace.github.io/gradient-cli/gradient.api_sdk.clients.html#module-gradient.api_sdk.clients.deployment_client)."
   ]
  },
  {
   "cell_type": "code",
   "execution_count": 64,
   "metadata": {},
   "outputs": [],
   "source": [
    "spec_path = './workflow-deploy-model.yaml'\n",
    "\n",
    "yaml_spec = open(spec_path, 'r')\n",
    "deploy_spec = yaml.safe_load(yaml_spec)\n",
    "\n",
    "workflow_param_deploy = {\n",
    "    'workflow_id' : workflow_id_deploy,\n",
    "    'spec': deploy_spec,\n",
    "    'cluster_id' : cluster_id,\n",
    "    'inputs': None\n",
    "}\n",
    "\n",
    "workflow_run_deploy = workflows_client.run_workflow(**workflow_param_deploy)"
   ]
  },
  {
   "cell_type": "code",
   "execution_count": 65,
   "metadata": {},
   "outputs": [],
   "source": [
    "### TODO: This fails as expected in the deployment logs when started\n",
    "#[deployment-0]: 2021-06-09 18:00:16.489136: E tensorflow_serving/sources/storage_path/file_system_storage_path_source.cc:365] FileSystemStoragePathSource encountered a filesystem access error: Could not find base path /models/model for servable model with error Not found: /models/model not found\n",
    "# ... repeated until deployment is stopped (e.g., in GUI) ###\n",
    "\n",
    "# -> Functional end-to-end notebook is pending engineering resolving this, maybe July '21\n",
    "# -> Cells below after data = json.dumps({'signature_name': ... cannot be run as no model endpoint to send data to"
   ]
  },
  {
   "cell_type": "markdown",
   "metadata": {},
   "source": [
    "As with training, we can view the deployment details."
   ]
  },
  {
   "cell_type": "code",
   "execution_count": 66,
   "metadata": {},
   "outputs": [
    {
     "data": {
      "text/plain": [
       "{'id': 5,\n",
       " 'cluster': {'id': 'clcrk7tev'},\n",
       " 'spec': {'jobs': {'UploadModel': {'uses': 'create-model@v1',\n",
       "    'with': {'name': 'model', 'type': 'Tensorflow'},\n",
       "    'inputs': {'model': {'type': 'dataset',\n",
       "      'with': {'id': 'dstvt0e2sp88yuf:phf0zt7'}}},\n",
       "    'outputs': {'model-id': {'type': 'string'}}},\n",
       "   'StartDeployment': {'uses': 'script@v1',\n",
       "    'with': {'image': 'paperspace/gradient-sdk',\n",
       "     'script': 'gradient deployments start \\\\\\n  --id $(cat /inputs/deployment-id)'},\n",
       "    'needs': ['UploadModel', 'CreateDeployment'],\n",
       "    'inputs': {'model-id': 'UploadModel.outputs.model-id',\n",
       "     'deployment-id': 'CreateDeployment.outputs.deployment-id'}},\n",
       "   'CreateDeployment': {'uses': 'script@v1',\n",
       "    'with': {'image': 'paperspace/gradient-sdk',\n",
       "     'script': 'cd /inputs\\ngradient deployments create \\\\\\n  --deploymentType TFServing \\\\\\n  --modelId $(cat /inputs/model-id) \\\\\\n  --name \"Recommender Model\" \\\\\\n  --machineType C5 \\\\\\n  --imageUrl tensorflow/serving:latest-gpu \\\\\\n  --instanceCount 1 \\\\\\n  --clusterId \"clcrk7tev\" \\\\\\n  | awk \\'NR==1 {print $NF}\\' \\\\\\n  | tee /outputs/deployment-id'},\n",
       "    'needs': ['UploadModel'],\n",
       "    'inputs': {'model-id': 'UploadModel.outputs.model-id'},\n",
       "    'outputs': {'deployment-id': {'type': 'string'}}}},\n",
       "  'defaults': {'env': {'PAPERSPACE_API_KEY': 'secret:api_key_recommender'},\n",
       "   'resources': {'instance-type': 'C5'}}},\n",
       " 'status': {'phase': 'SUBMITTING',\n",
       "  'logId': 'wfr5e04ea7376a14f73bdfb58161d2bf51d',\n",
       "  'jobs': {'CreateDeployment': {'phase': 'SUBMITTING',\n",
       "    'logId': 'wfrj363c27c9a09c4426b78401227bba8393'},\n",
       "   'StartDeployment': {'phase': 'SUBMITTING',\n",
       "    'logId': 'wfrja6ceedefad584267b261bbb24c0060f9'},\n",
       "   'UploadModel': {'phase': 'SUBMITTING',\n",
       "    'logId': 'wfrjf26afd39df704d05aa0c6db08e252c21',\n",
       "    'inputs': {'model': {'dataset': {'id': 'demo-dataset:phf0zt7'}}}}}}}"
      ]
     },
     "execution_count": 66,
     "metadata": {},
     "output_type": "execute_result"
    }
   ],
   "source": [
    "# TODO: Endpoint?\n",
    "\n",
    "workflow_run_deploy"
   ]
  },
  {
   "cell_type": "markdown",
   "metadata": {},
   "source": [
    "### 5.2: Send predictions to the model\n",
    "\n",
    "When a model is deployed with Gradient Deployments (or TensorFlow Serving), there is a choice between using the Google gRPC API and the http [REST API](https://www.tensorflow.org/tfx/serving/api_rest#predict_api).\n",
    "\n",
    "Here, we use the REST API.\n",
    "\n",
    "With this API, to send new data (requests) to the deployed model, and have it return predicted movie ratings for that data (predictions), the requests must be formatted as JSON rather than TensorFlow tensors. So we can't just use the same format as the loaded TFDS dataset, or the cached_train that we passed in during training above.\n",
    "\n",
    "As a reminder, the raw data loaded in looked like this:"
   ]
  },
  {
   "cell_type": "code",
   "execution_count": 67,
   "metadata": {
    "colab": {
     "base_uri": "https://localhost:8080/"
    },
    "id": "pFn7DEMhLGHj",
    "outputId": "6c0bef38-87d7-4f8d-a390-7ec83d8116dd"
   },
   "outputs": [
    {
     "name": "stdout",
     "output_type": "stream",
     "text": [
      "{'bucketized_user_age': 45.0,\n",
      " 'movie_genres': array([7]),\n",
      " 'movie_id': b'357',\n",
      " 'movie_title': b\"One Flew Over the Cuckoo's Nest (1975)\",\n",
      " 'raw_user_age': 46.0,\n",
      " 'timestamp': 879024327,\n",
      " 'user_gender': True,\n",
      " 'user_id': b'138',\n",
      " 'user_occupation_label': 4,\n",
      " 'user_occupation_text': b'doctor',\n",
      " 'user_rating': 4.0,\n",
      " 'user_zip_code': b'53211'}\n",
      "{'bucketized_user_age': 25.0,\n",
      " 'movie_genres': array([ 4, 14]),\n",
      " 'movie_id': b'709',\n",
      " 'movie_title': b'Strictly Ballroom (1992)',\n",
      " 'raw_user_age': 32.0,\n",
      " 'timestamp': 875654590,\n",
      " 'user_gender': True,\n",
      " 'user_id': b'92',\n",
      " 'user_occupation_label': 5,\n",
      " 'user_occupation_text': b'entertainment',\n",
      " 'user_rating': 2.0,\n",
      " 'user_zip_code': b'80525'}\n"
     ]
    }
   ],
   "source": [
    "for x in ratings_raw.take(2).as_numpy_iterator():\n",
    "    pprint.pprint(x)"
   ]
  },
  {
   "cell_type": "markdown",
   "metadata": {
    "id": "WM0-SD87Leza"
   },
   "source": [
    "and the data passed to the model during training looked like this:"
   ]
  },
  {
   "cell_type": "code",
   "execution_count": 68,
   "metadata": {
    "colab": {
     "base_uri": "https://localhost:8080/"
    },
    "id": "2mKEL5fYLiPO",
    "outputId": "f8260544-0980-45a2-c2d6-79e1056e2f2b"
   },
   "outputs": [
    {
     "name": "stdout",
     "output_type": "stream",
     "text": [
      "{'movie_title': array([b'Rob Roy (1995)', b'Grifters, The (1990)',\n",
      "       b\"Romy and Michele's High School Reunion (1997)\", ...,\n",
      "       b\"Monty Python's Life of Brian (1979)\", b'Outbreak (1995)',\n",
      "       b'Get Shorty (1995)'], dtype=object),\n",
      " 'timestamp': array([879310445, 884111485, 882816126, ..., 880130600, 880845790,\n",
      "       879454912]),\n",
      " 'user_id': array([b'497', b'201', b'768', ..., b'177', b'916', b'748'], dtype=object),\n",
      " 'user_rating': array([4., 4., 2., ..., 4., 3., 4.], dtype=float32)}\n",
      "{'movie_title': array([b'Shawshank Redemption, The (1994)', b'How to Be a Player (1997)',\n",
      "       b'Mystery Science Theater 3000: The Movie (1996)', ...,\n",
      "       b'Beautiful Girls (1996)', b'Playing God (1997)',\n",
      "       b'Star Wars (1977)'], dtype=object),\n",
      " 'timestamp': array([880853953, 883215630, 882145428, ..., 876964936, 879961474,\n",
      "       882074647]),\n",
      " 'user_id': array([b'316', b'255', b'69', ..., b'14', b'262', b'301'], dtype=object),\n",
      " 'user_rating': array([4., 4., 3., ..., 3., 3., 5.], dtype=float32)}\n"
     ]
    }
   ],
   "source": [
    "for x in cached_train.take(2).as_numpy_iterator():\n",
    "    pprint.pprint(x)"
   ]
  },
  {
   "cell_type": "markdown",
   "metadata": {
    "id": "dki19It0KzXR"
   },
   "source": [
    "But for JSON, the data needs to look more like this:\n",
    "\n",
    "```\n",
    "{\n",
    " \"instances\": [\n",
    "   {\n",
    "     \"tag\": \"foo\",\n",
    "     \"signal\": [1, 2, 3, 4, 5],\n",
    "     \"sensor\": [[1, 2], [3, 4]]\n",
    "   },\n",
    "   {\n",
    "     \"tag\": \"bar\",\n",
    "     \"signal\": [3, 4, 1, 2, 5]],\n",
    "     \"sensor\": [[4, 5], [6, 8]]\n",
    "   }\n",
    " ]\n",
    "}\n",
    "```\n",
    "\n",
    "From [the TFX API page](https://www.tensorflow.org/tfx/serving/api_rest#specifying_input_tensors_in_row_format): \"For multiple named inputs, each item is expected to be an object containing input name/tensor value pair, one for each named input. ... a request with two instances, each with a set of three named input tensors\"\n",
    "\n",
    "To create JSON-formatted data, the easiest way at the scale of data in this notebook is to use Python's json module. Then to send it, the requests module is used to enable it to be sent to the REST API via POST."
   ]
  },
  {
   "cell_type": "code",
   "execution_count": 69,
   "metadata": {
    "id": "tjvE00XnPtRP"
   },
   "outputs": [],
   "source": [
    "import requests\n",
    "import json"
   ]
  },
  {
   "cell_type": "markdown",
   "metadata": {
    "id": "wRUt3IqsND5k"
   },
   "source": [
    "The correct format of a some data rows (instances) then looks like this:"
   ]
  },
  {
   "cell_type": "code",
   "execution_count": 70,
   "metadata": {
    "id": "s0MOEitGXtaM"
   },
   "outputs": [],
   "source": [
    "test_rows_1 = {'movie_title': 'Devils Advocate, The (1997)',\n",
    " 'timestamp': 892870992,\n",
    " 'user_id': '587'}\n",
    "\n",
    "test_rows_2 = {'movie_title': 'Donnie Brasco (1997)',\n",
    " 'timestamp': 891499278,\n",
    " 'user_id': '782'}\n",
    "\n",
    "test_rows_3 = {'movie_title': 'Craft, The (1996)',\n",
    " 'timestamp': 891700850,\n",
    " 'user_id': '280'}"
   ]
  },
  {
   "cell_type": "markdown",
   "metadata": {
    "id": "GcIMvYUlNNIa"
   },
   "source": [
    "And it can be converted to JSON with .dumps (dump string), with the instances as a list."
   ]
  },
  {
   "cell_type": "code",
   "execution_count": 71,
   "metadata": {
    "colab": {
     "base_uri": "https://localhost:8080/",
     "height": 69
    },
    "id": "OYHYMjEPM56U",
    "outputId": "b5b1d6b6-a8ea-45a2-8585-837924748186"
   },
   "outputs": [
    {
     "data": {
      "text/plain": [
       "'{\"signature_name\": \"serving_default\", \"instances\": [{\"movie_title\": \"Devils Advocate, The (1997)\", \"timestamp\": 892870992, \"user_id\": \"587\"}, {\"movie_title\": \"Donnie Brasco (1997)\", \"timestamp\": 891499278, \"user_id\": \"782\"}, {\"movie_title\": \"Craft, The (1996)\", \"timestamp\": 891700850, \"user_id\": \"280\"}]}'"
      ]
     },
     "execution_count": 71,
     "metadata": {},
     "output_type": "execute_result"
    }
   ],
   "source": [
    "data = json.dumps({'signature_name': 'serving_default', 'instances': [test_rows_1, test_rows_2, test_rows_3]})\n",
    "data"
   ]
  },
  {
   "cell_type": "markdown",
   "metadata": {
    "id": "uW5bnvRTNU_j"
   },
   "source": [
    "Then the data can be sent to the deployed model via POST, and the returned output extracted from the full response by .json(). We can get the model's endpoint from the deployment properties, as shown above."
   ]
  },
  {
   "cell_type": "markdown",
   "metadata": {},
   "source": [
    "# WON'T WORK HERE TO END\n",
    "\n",
    "Pending engineering support model deployment start"
   ]
  },
  {
   "cell_type": "code",
   "execution_count": null,
   "metadata": {
    "colab": {
     "base_uri": "https://localhost:8080/"
    },
    "id": "ry8Qk0roM59h",
    "outputId": "ad54ad32-2381-475c-c4a3-5cc49128748f"
   },
   "outputs": [],
   "source": [
    "# TODO: Get endpoint from started deployment\n",
    "\n",
    "endpoint = deployment[0].endpoint\n",
    "headers = {'content-type': 'application/json'}\n",
    "json_response = requests.post(endpoint, data=data, headers=headers)\n",
    "pprint.pprint(json_response.json(), compact=True)"
   ]
  },
  {
   "cell_type": "markdown",
   "metadata": {
    "id": "Cys2R1B0Nwz4"
   },
   "source": [
    "As with .predict() in training above, this has returned both the embeddings and the predictions. We can also extract just the predictions."
   ]
  },
  {
   "cell_type": "code",
   "execution_count": null,
   "metadata": {
    "colab": {
     "base_uri": "https://localhost:8080/"
    },
    "id": "-VV6ZKFuZHNt",
    "outputId": "79cd51bb-2624-4985-a00e-3572cbebaaa5"
   },
   "outputs": [],
   "source": [
    "predictions = json.loads(json_response.text)['predictions']\n",
    "\n",
    "print(predictions[0]['output_3'])\n",
    "print(predictions[1]['output_3'])\n",
    "print(predictions[2]['output_3'])"
   ]
  },
  {
   "cell_type": "markdown",
   "metadata": {
    "id": "0SFYXBQ9NzUj"
   },
   "source": [
    "One thing to note about the above of course is that we wrote the example lines of new data here to send to the model, instead of loading them. This could be improved by, say loading more data from TFDS. In this particular case, more steps would be required in converting the byte-encoded fields into the above format before passing to JSON, because byte-encoded fields are not JSON serializable."
   ]
  },
  {
   "cell_type": "markdown",
   "metadata": {},
   "source": [
    "### 5.3: Stop deployment\n",
    "\n",
    "Once we are done with the deployment, we can stop it again to avoid leaving it consuming compute resources."
   ]
  },
  {
   "cell_type": "code",
   "execution_count": null,
   "metadata": {},
   "outputs": [],
   "source": [
    "# TODO: Run this once can get endpoint\n",
    "\n",
    "deployments_client.stop(deployment_id)"
   ]
  },
  {
   "cell_type": "markdown",
   "metadata": {
    "id": "tAE5YcD_IW0u"
   },
   "source": [
    "## 6: Conclusions\n",
    "\n",
    "**TODO: Blog link**\n",
    "\n",
    "We have shown an end-to-end example of deep learning recommender models in TensorFlow, using the TensorFlow Recommenders (TFRS) library, and the implementation of this using Paperspace Gradient.\n",
    "\n",
    "The main takeaways are:\n",
    "\n",
    " - We showed a real-world-style example of machine learning on Gradient\n",
    " - This is within an end-to-end dataflow incorporating both Gradient Notebooks and Workflows\n",
    " - Modern data science methodology based on Gradient's integrations with Git was used\n",
    " - We used TensorFlow 2 and TensorFlow Recommenders (TFRS) to train a recommender model that includes deep learning\n",
    " - We used training data that reflects what real-world projects deal with (not just demo data)\n",
    " - We constructed a custom model using the full TensorFlow subclassing API\n",
    " - Feature engineering and hyperparameter tuning improved model performance versus a basic model (RMSE between predicted and user ratings from ~ 1.1 to ~ 1)\n",
    " - The model was deployed using Gradient Deployments and its TensorFlow Serving integrations\n",
    " - Accompanying material is available: the 6 part blog series, and Git repository\n",
    " - We have aimed at a broad technical audience: data scientists who are not engineers, engineers who are not data scientists, those who span the two disciplines, and others\n",
    "\n",
    "The project is not a complete enterprise-grade recommender system: they would typically take teams of several people months to construct, but it aims to be more than just a simple demonstration or toy model, by showcasing real data science techniques."
   ]
  },
  {
   "cell_type": "markdown",
   "metadata": {
    "id": "efApI0Ii6srB"
   },
   "source": [
    "# Next steps\n",
    "\n",
    "**TODO:** URL links to blog\n",
    "\n",
    "Now that you have seen recommender systems, deep learning, and Paperspace Gradient, if you are interested in taking some next steps, some options are:\n",
    "\n",
    " - Sign up for [Paperspace](https://paperspace.com), if not done already\n",
    " - Run this notebook on [Gradient](https://gradient.paperspace.com), if not done already\n",
    " - Read the accompanying [blog series]() to this notebook\n",
    " - See more projects on our [ML Showcase](https://ml-showcase.paperspace.com)\n",
    " - View the Gradient [documentation](https://docs.paperspace.com) or [API reference](https://paperspace.github.io/gradient-cli)\n",
    " - Learn more about recommenders at [TFRS](https://www.tensorflow.org/recommenders)\n",
    " - Check out more links and references in the [final part]() of the blog\n",
    " - [Contact sales](https://info.paperspace.com/contact-sales)"
   ]
  },
  {
   "cell_type": "markdown",
   "metadata": {
    "id": "Flxm19Sos2Xz"
   },
   "source": [
    "# Appendices\n",
    "\n",
    "These show ways the project can be extended, either generically, or in ways specifically aided by Paperspace Gradient."
   ]
  },
  {
   "cell_type": "markdown",
   "metadata": {
    "id": "z2-iK1-LHo-1"
   },
   "source": [
    "## Appendix 1: Improvements to the analysis\n",
    "\n",
    "**TODO:** URL link: final part of blog\n",
    "\n",
    "These are some ways that the analysis could be improved while telling the same story. These are given in the order in which they would appear in the dataflow.\n",
    "\n",
    "They are relatively briefly described here. For more details, see the [final part]() of the blog.\n",
    "\n",
    "A few minor detail improvements were also included in various code comments throughout the notebook.\n",
    "\n",
    " - Add more to the business story: here it is showing the generic concept of a deep learning recommender improving upon a basic model, but it is not translated into specific quantified business value for a given use case.\n",
    " - Use a bigger dataset: Aside from movielens-100k, the available datasets include 1M, 20M, and 25M. 20M and 25M contain less demographic information but still include user ratings.\n",
    " - Data larger than 25M can be produced via simulation if we wish to show scaling to bigger sizes, e.g., the [original MovieLens site](https://grouplens.org/datasets/movielens) contains a synthetic dataset called MovieLens-1B, which can go to numbers of interactions in the billions.\n",
    " - Add data exploration for information and sanity checking.\n",
    " - Use more [features](https://www.tensorflow.org/recommenders/examples/featurization) and [context](https://www.tensorflow.org/recommenders/examples/context_features) from the dataset to improve model performance, including preprocessing with word embedding, text tokenization, normalizaton of numerical values, and timestamps.\n",
    " - Feature selection / engineering, e.g., day of week or time of day.\n",
    " - Hyperparameter tuning improvements noted in section 4.2 above.\n",
    " - Turning metric calculation off in training for [retrieval models](https://www.tensorflow.org/recommenders/examples/basic_retrieval) (compute_metrics in task as False) can make training faster.\n",
    " - Examine the model output predicted ratings in more detail - most are currently around 3-4, and since most reviews are 3-5 out of 5, just saying 3.5ish every time might give the best RMSE.\n",
    " - Remove all randomness in execution of the ML models, making their results exactly reproducible. This may not be possible in some environments such as a distributed system.\n",
    " - Use Paperspace's GPU instances for faster training of large models."
   ]
  },
  {
   "cell_type": "markdown",
   "metadata": {
    "id": "q3ltn-uGIGkU"
   },
   "source": [
    "## Appendix 2: Extensions to the project\n",
    "\n",
    "These are possible extensions to the analysis that would add to the story, again in approximate dataflow order.\n",
    "\n",
    "### Generic\n",
    "\n",
    " - Address [fairness, bias, etc.](https://www.tensorflow.org/tfx/guide/fairness_indicators), in feature selection and model training.\n",
    " - Show dealing with missing data and out-of-vocabulary categoricals.\n",
    " - Show improving performance via [feature crosses](https://www.tensorflow.org/recommenders/examples/dcn).\n",
    " - Add the retrieval model and hence a [combined model](https://www.tensorflow.org/recommenders/examples/multitask) for both retrieval and ranking.\n",
    " - Show dealing with the \"cold start\" problem of what to recommend to a new user who hasn't watched any movies but whose information we possess.\n",
    " - Use data from common tasks to help model rarer tasks via transfer learning.\n",
    " - Add an option to exclude already-watched shows or movies from a user's recommendations, or add extra variety versus the baseline choices.\n",
    " - Visualize the trained model with TensorBoard or [TFMA](https://www.tensorflow.org/tfx/model_analysis/metrics).\n",
    " - Provide [explanations](https://www.tensorflow.org/recommenders/examples/dcn) for the models' choices of recommendations.\n",
    " - For retrieval, deploy with [ScaNN approximate nearest neighbors](https://www.tensorflow.org/recommenders/examples/efficient_serving) to speed up model inference. Tune the layer for better performance/accuracy tradeoff.\n",
    " - Monitor the deployed model for drift and/or anomalies using a monitoring tool.\n",
    "\n",
    "### Paperspace Gradient-specific\n",
    "\n",
    " - Show the relation between working in notebooks and Gradient's GradientCI GitHub integration capabilities, e.g., versioning of notebooks.\n",
    " - Show getting the data from somewhere that is not TensorFlow's prepackaged datasets (TFDS), that Gradient easily connects to, e.g., Amazon S3.\n",
    " - Show distributed training with Gradient's multinode capability.\n",
    " - Combine multinode, GPU, and GradientCI to show distributed GPU training that follows good versioning practices and GitHub integration.\n",
    " - Show full specification of the end-to-end data flow (software, versions, licenses, security) in a way that makes it easy for an enterprise IT department to approve it.\n",
    " - Show production of an audit trail from the end-to-end process, making it auditable and hence FAccT (fair, accountable, and transparent).\n",
    " - Show how other users can query the deployed model.\n",
    " - Show retraining being triggered with Gradient's jobs function, e.g., if deployed model has drifted.\n",
    " - Show rollback to an earlier deployed model.\n",
    " - Show a GUI application (e.g., Streamlit) that accesses the deployed model's API endpoint, making its functionality accessible to non-technical as well as technical users."
   ]
  }
 ],
 "metadata": {
  "colab": {
   "collapsed_sections": [
    "tnDTzpDQ_hUS",
    "tAE5YcD_IW0u",
    "efApI0Ii6srB"
   ],
   "name": "deep_learning_recommender_tf.ipynb",
   "provenance": [],
   "toc_visible": true
  },
  "kernelspec": {
   "display_name": "Python 3",
   "language": "python",
   "name": "python3"
  },
  "language_info": {
   "codemirror_mode": {
    "name": "ipython",
    "version": 3
   },
   "file_extension": ".py",
   "mimetype": "text/x-python",
   "name": "python",
   "nbconvert_exporter": "python",
   "pygments_lexer": "ipython3",
   "version": "3.6.8"
  }
 },
 "nbformat": 4,
 "nbformat_minor": 4
}
