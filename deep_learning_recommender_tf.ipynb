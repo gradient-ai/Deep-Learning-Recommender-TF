{
 "cells": [
  {
   "cell_type": "markdown",
   "metadata": {
    "gradient": {
     "editing": false
    }
   },
   "source": [
    "# TO DO\n",
    "\n",
    "Any items marked in the below content as TODO need to be done before this notebook is made public (e.g., removing my user credentials/settings used while writing/testing it; won't run past step in section 5 to use started deployment until that is supported)."
   ]
  },
  {
   "cell_type": "markdown",
   "metadata": {
    "gradient": {
     "editing": false
    },
    "id": "1zKrxVlfnqvM"
   },
   "source": [
    "# Deep Learning Recommenders in TensorFlow\n",
    "\n",
    "Dr. Nick Ball  \n",
    "Data-Scientist-in-Residence, Paperspace\n",
    "\n",
    "Last updated: Aug 05th 2021\n",
    "\n",
    "This self-contained notebook shows the use of Paperspace Gradient to implement a recommender system using TensorFlow. It accompanies the 6-part blog series \"Gradient End-to-End: A Recommender System using Notebooks and Workflows\" on the [Paperspace blog](https://blog.paperspace.com), and the associated [Git Repository](https://github.com/gradient-ai/Deep-Learning-Recommender-TF).\n",
    "\n",
    "**TODO**: Link blog title to part 1 entry if we can\n",
    "\n",
    "The project includes these main highlights:\n",
    "\n",
    "1. Show a real-world-style example of machine learning on Gradient\n",
    "2. End-to-end dataflow incorporating both Gradient Notebooks and Workflows\n",
    "3. Modern data science methodology based on Gradient's integrations with Git\n",
    "4. Use TensorFlow 2 and TensorFlow Recommenders (TFRS) to train a recommender model that includes deep learning\n",
    "5. Use training data that reflects what real-world projects deal with (not just demo data)\n",
    "6. Construct a custom model using the full TensorFlow subclassing API\n",
    "7. Show working hyperparameter tuning that improves the results\n",
    "8. Deploy model using Gradient Deployments and its TensorFlow Serving integrations\n",
    "9. Accompanying material: self-contained working Jupyter notebook, and Git repository\n",
    "10. Aimed at a broad technical audience: data scientists who are not engineers, engineers who are not data scientists, those who span the two disciplines, and others\n",
    "\n",
    "The project is not a complete enterprise-grade recommender system: they would typically take teams of several people months to construct, and result in an amount of code far greater than shown here, but it aims to be more than just a simple demonstration or toy model, by showcasing real data science techniques. In the Appendix we discuss some of the steps one might take to go from the project here to a full system, with a focus on Gradient's capabilities.\n",
    "\n",
    "We assume the reader of this notebook is somewhat technical, but not necessarily an expert in recommender systems, deep learning, TensorFlow, or Paperspace."
   ]
  },
  {
   "cell_type": "markdown",
   "metadata": {
    "gradient": {
     "editing": false
    }
   },
   "source": [
    "### Requirements\n",
    "\n",
    " - The notebook is designed to run on Paperspace Gradient\n",
    " - Accessing the project from Gradient will start the notebook in a container that contains the correct dependencies\n",
    "\n",
    "Alternatively, you can clone the Git repo and run in your own notebook setup\n",
    "\n",
    " - `git clone https://github.com/gradient-ai/Deep-Learning-Recommender-TF.git` (the repo is public, so Git's ssh command form is not required)\n",
    " - Be able to run Python 3, and import modules as in section 2 below: Matplotlib, NumPy, TensorFlow 2, TFDS, TFRS\n",
    " - We use some notebook cell magic lines, such as `%matplotlib`"
   ]
  },
  {
   "cell_type": "markdown",
   "metadata": {
    "gradient": {
     "editing": false
    }
   },
   "source": [
    "### Additional requirements to run Gradient Workflows and model deployment (sections 4.3+)\n",
    "\n",
    "In addition to the above, to run the Gradient Workflows in section 4.3 and the model deployment in section 5 requires some more setup. This is because the Workflows product is still in a beta state.\n",
    "\n",
    "These steps will go away as the product matures around Workflows:\n",
    "\n",
    " - Use or create a [Gradient Private Cluster](https://docs.paperspace.com/gradient/gradient-private-cloud/about/setup/managed-installation) and [get its ID](https://docs.paperspace.com/gradient/gradient-private-cloud/about/usage#finding-your-cluster-id)\n",
    " - [Create the two workflows](https://docs.paperspace.com/gradient/explore-train-deploy/workflows/getting-started-with-workflows#creating-gradient-workflows) via the GUI or the [command line interface](https://docs.paperspace.com/gradient/get-started/quick-start/install-the-cli) (CLI) and [get their IDs](https://docs.paperspace.com/gradient/explore-train-deploy/workflows/getting-started-with-workflows#running-your-first-workflow-run)\n",
    " - [Create output datasets](https://docs.paperspace.com/gradient/data/data-overview/private-datasets-repository#creating-a-dataset-and-dataset-version) for the two workflows\n",
    " - [Import a placeholder file](https://docs.paperspace.com/gradient/data/data-overview/private-datasets-repository#creating-a-dataset-and-dataset-version) into each created output dataset\n",
    "\n",
    "These requirements will remain, being associated with Workflows as the enterprise-grade production part of Gradient:\n",
    "\n",
    " - [Create a project](https://docs.paperspace.com/gradient/get-started/managing-projects#create-a-project) and [get its ID](https://docs.paperspace.com/gradient/get-started/managing-projects#get-your-projects-id)\n",
    " - [Generate an API key](https://docs.paperspace.com/gradient/get-started/quick-start/install-the-cli#obtaining-an-api-key) for your project to allow access\n",
    " - [Store the API key](https://docs.paperspace.com/gradient/get-started/managing-projects/storing-an-api-key-as-a-secret) as a secret in your project\n",
    " \n",
    "One thing that is *not* required for this project, even in the current beta state, is any setup on your own machine (unless you choose to use the CLI). This is because the Workflows are invoked from this notebook, via the SDK."
   ]
  },
  {
   "cell_type": "markdown",
   "metadata": {
    "gradient": {
     "editing": false
    }
   },
   "source": [
    "### Format of notebook text\n",
    "\n",
    "The main text is shown as MarkDown, like this."
   ]
  },
  {
   "cell_type": "code",
   "execution_count": null,
   "metadata": {
    "gradient": {
     "editing": false
    }
   },
   "outputs": [],
   "source": [
    "# Optional extra information is in cell comments, like this."
   ]
  },
  {
   "cell_type": "markdown",
   "metadata": {
    "gradient": {
     "editing": false
    }
   },
   "source": [
    "### Recommenders\n",
    "\n",
    "Recommender systems are widely used in modern artificial intelligence, most prominently in retail and entertainment content. However, many of these systems in businesses still use classical methods such as matrix factorization that may not capture all of the information now available.\n",
    "\n",
    "The addition of the fully nonlinear mappings allowed by machine learning, for example deep learning neural network layers, can improve the performance of recommender systems by both capturing more of the complex patterns of information that are present, and by making it easier to add new information in the form of further data feature columns, such as detailed text descriptions or reviews, multiple user and item information columns, or timestamps.\n",
    "\n",
    "Here, we use the new TensorFlow Recommenders library to show how the addition of deep learning to a recommender model improves its performance."
   ]
  },
  {
   "cell_type": "markdown",
   "metadata": {
    "gradient": {
     "editing": false
    },
    "id": "VAsFUrkgyYAu"
   },
   "source": [
    "# Contents\n",
    "\n",
    "1. Introduction: Recommender systems and deep learning\n",
    "2. Setup\n",
    "3. Preparing the dataset\n",
    "4. Build the recommender models\n",
    "5. Deploy the final model\n",
    "6. Conclusions\n",
    "\n",
    "Next Steps  \n",
    "Appendices"
   ]
  },
  {
   "cell_type": "markdown",
   "metadata": {
    "gradient": {
     "editing": false
    },
    "id": "tnDTzpDQ_hUS"
   },
   "source": [
    "## 1: Introduction: Recommender systems and deep learning\n",
    "\n",
    "A good way to describe most recommender systems is:\n",
    "\n",
    "*Present suggested new items to a user that users similar to them already liked.*\n",
    "\n",
    "This is on the assumption that if users similar to them liked something, there is a better-than-random chance that they will like it too.\n",
    "\n",
    "The short sentence above involves several concepts, including information about a user, how to measure if they are similar to another user, what items the other users liked, how to choose candidate items to present from the whole list, and how to rank those choices.\n",
    "\n",
    "(There are further ideas as well, such as whether a user rated an item explicitly or just implicitly liked it by watching or buying it, and using other similarities such as item-item as well as user-user similarity.)\n",
    "\n",
    "Here, we use the well-known MovieLens dataset, containing information about which movies users watched, along with details of the movies, the users, and the times of viewing. The idea is to present to a user suggested movies that they might like to watch next.\n",
    "\n",
    "While not a huge modern dataset with millions of viewings from millions of users, it has been widely used, and is \"real enough\" to show both how deep learning can improve recommender models, and how to set up and end-to-end data science workflow.\n",
    "\n",
    "The content of this notebook is based on the tutorials of the [TensorFlow Recommenders (TFRS) library](https://www.tensorflow.org/recommenders), modified to include more real-world data science steps, and showing a model being deployed into production.\n",
    "\n",
    "As described there, recommender models commonly consist of two parts:\n",
    "\n",
    " - Retrieval, which selects possible candidates from the whole list of items that could be recommended, in this case being movies the user might be interested in\n",
    " - Ranking, which narrows down this list to a refined set of items to recommend\n",
    "\n",
    "We concentrate on the ranking portion, showing how the addition of deep learning layers, data features, and hyperparameter tuning, improves the performance of the model.\n",
    "\n",
    "We then show how the resulting model can be easily deployed with Gradient Deployments.\n",
    "\n",
    "The concentration on just one part of the models to be built is so that we can show more fully realized data science steps, the end-to-end process using both Gradient Notebooks and Workflows, and some of the corresponding functionaity, without the project becoming overly long or repetitive."
   ]
  },
  {
   "cell_type": "markdown",
   "metadata": {
    "gradient": {
     "editing": false
    },
    "id": "3EeRY5DQI5VV"
   },
   "source": [
    "## 2: Setup\n",
    "\n",
    "This project uses [TensorFlow Datasets (TFDS)](https://www.tensorflow.org/datasets) and the TensorFlow Recommenders library (TFRS) in addition to the basic TensorFlow 2 and Python 3.\n",
    "\n",
    "TFRS was created as a separate library because recommender systems typically do not correspond to the simple setup of supervised learning models, but have a more complex arrangement of processing steps associated with them. So rather than using a few layers in the high-level TensorFlow Keras Sequential or [Functional](https://www.tensorflow.org/guide/keras/functional) APIs, they need the custom model and custom layer setup in the lower level representation of writing the model classes and subclasses directly.\n",
    "\n",
    "However, recommenders do contain their own common components, such as the FactorizedTopK performance metric for retrieval, that mean usage of a library is considerably more convenient than writing something from scratch in TensorFlow.\n",
    "\n",
    "We use TensorFlow Datasets as the emphases in this project are recommenders, Gradient functionality, end-to-end, and showing some model tuning, rather than data gathering, cleaning, and preparation. Of course, in a full enterprise system this would be a more prominent aspect of the dataflow.\n",
    "\n",
    "Let's install TFDS, TFRS, and import these and the Python modules that we need."
   ]
  },
  {
   "cell_type": "code",
   "execution_count": null,
   "metadata": {
    "gradient": {
     "editing": false
    },
    "id": "9gG3jLOGbaUv"
   },
   "outputs": [
    {
     "name": "stdout",
     "output_type": "stream",
     "text": [
      "/usr/lib/python3/dist-packages/secretstorage/dhcrypto.py:15: CryptographyDeprecationWarning: int_from_bytes is deprecated, use int.from_bytes instead\r\n",
      "  from cryptography.utils import int_from_bytes\r\n",
      "/usr/lib/python3/dist-packages/secretstorage/util.py:19: CryptographyDeprecationWarning: int_from_bytes is deprecated, use int.from_bytes instead\r\n",
      "  from cryptography.utils import int_from_bytes\r\n"
     ]
    },
    {
     "name": "stdout",
     "output_type": "stream",
     "text": [
      "Requirement already satisfied: pip in /usr/local/lib/python3.6/dist-packages (21.2.2)\r\n"
     ]
    },
    {
     "name": "stdout",
     "output_type": "stream",
     "text": [
      "\u001b[33mWARNING: Running pip as the 'root' user can result in broken permissions and conflicting behaviour with the system package manager. It is recommended to use a virtual environment instead: https://pip.pypa.io/warnings/venv\u001b[0m\r\n"
     ]
    },
    {
     "name": "stdout",
     "output_type": "stream",
     "text": [
      "/usr/lib/python3/dist-packages/secretstorage/dhcrypto.py:15: CryptographyDeprecationWarning: int_from_bytes is deprecated, use int.from_bytes instead\r\n",
      "  from cryptography.utils import int_from_bytes\r\n",
      "/usr/lib/python3/dist-packages/secretstorage/util.py:19: CryptographyDeprecationWarning: int_from_bytes is deprecated, use int.from_bytes instead\r\n",
      "  from cryptography.utils import int_from_bytes\r\n"
     ]
    },
    {
     "name": "stdout",
     "output_type": "stream",
     "text": [
      "\u001b[31mERROR: pip's dependency resolver does not currently take into account all the packages that are installed. This behaviour is the source of the following dependency conflicts.\r\n",
      "gradient-utils 0.3.2 requires numpy==1.18.5, but you have numpy 1.19.5 which is incompatible.\u001b[0m\r\n",
      "\u001b[33mWARNING: Running pip as the 'root' user can result in broken permissions and conflicting behaviour with the system package manager. It is recommended to use a virtual environment instead: https://pip.pypa.io/warnings/venv\u001b[0m\r\n"
     ]
    },
    {
     "name": "stdout",
     "output_type": "stream",
     "text": [
      "/usr/lib/python3/dist-packages/secretstorage/dhcrypto.py:15: CryptographyDeprecationWarning: int_from_bytes is deprecated, use int.from_bytes instead\r\n",
      "  from cryptography.utils import int_from_bytes\r\n",
      "/usr/lib/python3/dist-packages/secretstorage/util.py:19: CryptographyDeprecationWarning: int_from_bytes is deprecated, use int.from_bytes instead\r\n",
      "  from cryptography.utils import int_from_bytes\r\n"
     ]
    },
    {
     "name": "stdout",
     "output_type": "stream",
     "text": [
      "\u001b[33mWARNING: Running pip as the 'root' user can result in broken permissions and conflicting behaviour with the system package manager. It is recommended to use a virtual environment instead: https://pip.pypa.io/warnings/venv\u001b[0m\r\n"
     ]
    }
   ],
   "source": [
    "# Currently the notebook is using pip install, which would not be ideal in a production environment.\n",
    "# This is because the install changes the environment and the versions of libraries being installed are\n",
    "# not necessarily fixed, meaning the environment is not fixed and hence reproducibility is not guaranteed.\n",
    "\n",
    "# One could use requirements.txt, but this also does not necessarily fix things due to secondary dependencies.\n",
    "\n",
    "# Various solutions exist, but for rigorous work, Gradient allows the user to build a custom container\n",
    "# containing the correct dependencies, which removes the need for pip install.\n",
    "\n",
    "# Here, the container we use fixes versions, except for TFDS and TFRS, whose versions we therefore fix.\n",
    "\n",
    "!pip install --upgrade pip\n",
    "!pip install -q tensorflow-recommenders==0.4.0\n",
    "!pip install -q --upgrade tensorflow-datasets==4.2.0"
   ]
  },
  {
   "cell_type": "code",
   "execution_count": null,
   "metadata": {
    "gradient": {
     "editing": false
    },
    "id": "SZGYDaF-m5wZ"
   },
   "outputs": [],
   "source": [
    "import os\n",
    "import platform\n",
    "\n",
    "# This is Python's function for more nicely or compactly printing variables or data\n",
    "import pprint\n",
    "\n",
    "# Python 3 allows hints on variable types to be given\n",
    "# Here they are used in the model class definitions\n",
    "from typing import Dict, Text\n",
    "\n",
    "# NumPy is used, e.g., for viewing the data in TensorFlow tensors\n",
    "# TensorFlow tensors are built on NumPy arrays\n",
    "import numpy as np\n",
    "\n",
    "# This allows simple inline plots of, e.g., model training history\n",
    "%matplotlib inline\n",
    "import matplotlib.pyplot as plt\n",
    "plt.style.use('seaborn-whitegrid') # Following TFRS tutorials\n",
    "\n",
    "# TensorFlow, TFDS, TFRS\n",
    "import tensorflow as tf\n",
    "import tensorflow_datasets as tfds\n",
    "import tensorflow_recommenders as tfrs"
   ]
  },
  {
   "cell_type": "markdown",
   "metadata": {
    "gradient": {
     "editing": false
    },
    "id": "ecPlfiYXJDQe"
   },
   "source": [
    "We can see some basic information about the versions of software that we are using. In principle, the container could be accessed to find out more."
   ]
  },
  {
   "cell_type": "code",
   "execution_count": null,
   "metadata": {
    "colab": {
     "base_uri": "https://localhost:8080/"
    },
    "gradient": {
     "editing": false
    },
    "id": "Nc5Um6Y44D-Q",
    "outputId": "df8fe35b-e2e5-4a09-be4a-13c63c757ebe"
   },
   "outputs": [
    {
     "name": "stdout",
     "output_type": "stream",
     "text": [
      "NumPy version: 1.19.5\n",
      "Python version: 3.6.9\n",
      "TensorFlow version: 2.4.0\n",
      "TensorFlow Datasets version: 4.2.0\n",
      "TensorFlow Recommenders version: v0.4.0\n"
     ]
    }
   ],
   "source": [
    "print('NumPy version: {}'.format(np.__version__))\n",
    "print('Python version: {}'.format(platform.python_version()))\n",
    "print('TensorFlow version: {}'.format(tf.__version__))\n",
    "print('TensorFlow Datasets version: {}'.format(tfds.__version__))\n",
    "print('TensorFlow Recommenders version: {}'.format(tfrs.__version__))"
   ]
  },
  {
   "cell_type": "markdown",
   "metadata": {
    "gradient": {
     "editing": false
    },
    "id": "GJORoRytYAGI"
   },
   "source": [
    "We can see if GPUs, etc., are available, or just CPU. Here we do not currently specify devices other than the default, as the processing run is not large enough to require a GPU."
   ]
  },
  {
   "cell_type": "code",
   "execution_count": null,
   "metadata": {
    "colab": {
     "base_uri": "https://localhost:8080/"
    },
    "gradient": {
     "editing": false
    },
    "id": "o914Boo2YDYz",
    "outputId": "1c553eac-8a74-4955-990e-6a6245fc14da"
   },
   "outputs": [
    {
     "name": "stdout",
     "output_type": "stream",
     "text": [
      "[name: \"/device:CPU:0\"\n",
      "device_type: \"CPU\"\n",
      "memory_limit: 268435456\n",
      "locality {\n",
      "}\n",
      "incarnation: 6606928815672711165\n",
      ", name: \"/device:GPU:0\"\n",
      "device_type: \"GPU\"\n",
      "memory_limit: 7810874080\n",
      "locality {\n",
      "  bus_id: 1\n",
      "  links {\n",
      "  }\n",
      "}\n",
      "incarnation: 10262293404981584455\n",
      "physical_device_desc: \"device: 0, name: Quadro P4000, pci bus id: 0000:00:05.0, compute capability: 6.1\"\n",
      "]\n"
     ]
    }
   ],
   "source": [
    "from tensorflow.python.client import device_lib\n",
    "print(device_lib.list_local_devices())"
   ]
  },
  {
   "cell_type": "markdown",
   "metadata": {
    "gradient": {
     "editing": false
    },
    "id": "5PAqjR4a1RR4"
   },
   "source": [
    "## 3: Preparing the dataset\n",
    "\n",
    "Load the MovieLens data from TensorFlow Datasets."
   ]
  },
  {
   "cell_type": "code",
   "execution_count": null,
   "metadata": {
    "gradient": {
     "editing": false
    },
    "id": "aaQhqcLGP0jL"
   },
   "outputs": [],
   "source": [
    "# This loads the data from the official TensorFlow datasets repository\n",
    "# at https://www.tensorflow.org/datasets/catalog/movielens\n",
    "# The -ratings suffix indicates that we are loading the dataset with the\n",
    "# movies data joined to the ratings data\n",
    "\n",
    "ratings_raw = tfds.load('movielens/100k-ratings', split='train')"
   ]
  },
  {
   "cell_type": "code",
   "execution_count": null,
   "metadata": {
    "colab": {
     "base_uri": "https://localhost:8080/"
    },
    "gradient": {
     "editing": false
    },
    "id": "X_sx4C_Bw4sc",
    "outputId": "aff47275-f87a-482c-eb1f-a8093d449c97"
   },
   "outputs": [
    {
     "data": {
      "text/plain": [
       "<PrefetchDataset shapes: {bucketized_user_age: (), movie_genres: (None,), movie_id: (), movie_title: (), raw_user_age: (), timestamp: (), user_gender: (), user_id: (), user_occupation_label: (), user_occupation_text: (), user_rating: (), user_zip_code: ()}, types: {bucketized_user_age: tf.float32, movie_genres: tf.int64, movie_id: tf.string, movie_title: tf.string, raw_user_age: tf.float32, timestamp: tf.int64, user_gender: tf.bool, user_id: tf.string, user_occupation_label: tf.int64, user_occupation_text: tf.string, user_rating: tf.float32, user_zip_code: tf.string}>"
      ]
     },
     "execution_count": 6,
     "metadata": {},
     "output_type": "execute_result"
    }
   ],
   "source": [
    "# It is loaded as a TensorFlow PrefetchDataset\n",
    "ratings_raw"
   ]
  },
  {
   "cell_type": "markdown",
   "metadata": {
    "gradient": {
     "editing": false
    },
    "id": "9VReDbPf4QRU"
   },
   "source": [
    "Data science workflows, especially in the experimental and model training stage as here, should contain a strong component of viewing the actual data throughout the analysis. This is both for the understanding of the experimenter, other readers, and for sanity checking.\n",
    "\n",
    "Here we see that various columns (features) are available, including information about the user, the movie they watched, and outcomes such as the user's rating of the movie.\n",
    "\n",
    "It is important to distinguish between information that is available before a user watches a movie from that which is only available after, as the latter cannot be used as a feature for training a recommender model. This is because the data to be fed into it when it is deployed must be available before the user has watched the movie that is being recommended to them.\n",
    "\n",
    "In this case, the requirement manifests as the `user_rating` column being a training target and not a feature, and a timestamp column that should be normalized into something that is cyclical like a day of week / month / year, and not an absolute date. Such a date won't come around again in the future when the model has been deployed on unseen data.\n",
    "\n",
    "We also immediately see issues with the data that may manifest further along in the dataflow, such as some of the columns being byte-encoded (strings like `b'357'` instead of just `'357'`). If the setup of TensorFlow Serving plus the RESTful API is to be used for deployment, these will have to be converted to be able to be represented in JSON for passing to the model when it is deployed.\n",
    "\n",
    "The end-to-end mentality of having deployment in scope from the start, enabled by Gradient, has encouraged us to look for and notice these issues right here, rather than spending time training the model and only then noticing them. The latter approach could result in signficant wasted effort if it turns out that the deployment issues are not solvable.\n",
    "\n",
    "The top 2 rows of data are shown."
   ]
  },
  {
   "cell_type": "code",
   "execution_count": null,
   "metadata": {
    "colab": {
     "base_uri": "https://localhost:8080/"
    },
    "gradient": {
     "editing": false
    },
    "id": "JdNMayvVzhP9",
    "outputId": "2790ba40-5156-4601-aded-36340dc6db31"
   },
   "outputs": [
    {
     "name": "stdout",
     "output_type": "stream",
     "text": [
      "{'bucketized_user_age': 45.0,\n",
      " 'movie_genres': array([7]),\n",
      " 'movie_id': b'357',\n",
      " 'movie_title': b\"One Flew Over the Cuckoo's Nest (1975)\",\n",
      " 'raw_user_age': 46.0,\n",
      " 'timestamp': 879024327,\n",
      " 'user_gender': True,\n",
      " 'user_id': b'138',\n",
      " 'user_occupation_label': 4,\n",
      " 'user_occupation_text': b'doctor',\n",
      " 'user_rating': 4.0,\n",
      " 'user_zip_code': b'53211'}\n",
      "{'bucketized_user_age': 25.0,\n",
      " 'movie_genres': array([ 4, 14]),\n",
      " 'movie_id': b'709',\n",
      " 'movie_title': b'Strictly Ballroom (1992)',\n",
      " 'raw_user_age': 32.0,\n",
      " 'timestamp': 875654590,\n",
      " 'user_gender': True,\n",
      " 'user_id': b'92',\n",
      " 'user_occupation_label': 5,\n",
      " 'user_occupation_text': b'entertainment',\n",
      " 'user_rating': 2.0,\n",
      " 'user_zip_code': b'80525'}\n"
     ]
    }
   ],
   "source": [
    "# Just saying print(ratings) results in the output <PrefetchDataset shapes: ... as above\n",
    "# So the data is extracted from the TensorFlow tensor format using NumPy\n",
    "\n",
    "for x in ratings_raw.take(2).as_numpy_iterator():\n",
    "    pprint.pprint(x)"
   ]
  },
  {
   "cell_type": "markdown",
   "metadata": {
    "gradient": {
     "editing": false
    },
    "id": "Eo1v4Oac63Te"
   },
   "source": [
    "TensorFlow's `.map()` applies the function in the brackets to each element of a dataset, so with the lambda inline Python function we can reduce the data down to just the columns that we are going to use. Currently these are the movie title, the time of viewing, the user who viewed it, and their rating of the movie."
   ]
  },
  {
   "cell_type": "code",
   "execution_count": null,
   "metadata": {
    "gradient": {
     "editing": false
    },
    "id": "fPH5ffpdw0RR"
   },
   "outputs": [],
   "source": [
    "ratings = ratings_raw.map(lambda x: {\n",
    "    'movie_title': x['movie_title'],\n",
    "    'timestamp': x['timestamp'],\n",
    "    'user_id': x['user_id'],\n",
    "    'user_rating': x['user_rating']\n",
    "})"
   ]
  },
  {
   "cell_type": "markdown",
   "metadata": {
    "gradient": {
     "editing": false
    },
    "id": "Iu4XSa_G1nyN"
   },
   "source": [
    "We perform the canonical 80:20 random split of 80% training data and 20% testing data, with in turn 20% of the training data being used for model validation.\n",
    "\n",
    "As mentioned above, we want to avoid leakage of information from the testing set into the training and validation sets, so we split by timestamp. The testing data comes from later times than the training & validation data. Currently the timestamp used is still absolute rather than cyclic (day of week, month of year, etc.), but that would likely just dampen its utility as a feature, so long as the model is not overfitting to it.\n",
    "\n",
    "TensorFlow allows global and local random seeds to be set, which can ensure, e.g., that we get the same 80:20 split each time here.\n",
    "\n",
    "However, randomness remains in the machine learning models when they are run, which is harder to remove. We have not attempted to do so in this project so results may vary when the notebook is rerun, but they should show the same overall pattern, i.e., they are statistically reproducible even if not exactly reproducible."
   ]
  },
  {
   "cell_type": "code",
   "execution_count": null,
   "metadata": {
    "gradient": {
     "editing": false
    },
    "id": "jjyIcUVEMmmP"
   },
   "outputs": [],
   "source": [
    "# Get times as a list so we can get the minimum and maximum time values\n",
    "# In the original data they are dictionaries, so a list is needed\n",
    "# Following the TFRS deep model tutorial (https://www.tensorflow.org/recommenders/examples/deep_recommenders)\n",
    "# a quick way to do this is\n",
    "\n",
    "timestamps = np.concatenate(list(ratings.map(lambda x: x['timestamp']).batch(100)))"
   ]
  },
  {
   "cell_type": "code",
   "execution_count": null,
   "metadata": {
    "colab": {
     "base_uri": "https://localhost:8080/"
    },
    "gradient": {
     "editing": false
    },
    "id": "MD5dhCphMm2I",
    "outputId": "3c10d169-d485-44f7-9018-308fc8e68501"
   },
   "outputs": [
    {
     "name": "stdout",
     "output_type": "stream",
     "text": [
      "Minimum time value = 874724710\n",
      "Maximum time value = 893286638\n"
     ]
    }
   ],
   "source": [
    "# Get minimum and maximum time values\n",
    "\n",
    "max_time = timestamps.max()\n",
    "min_time = timestamps.min()\n",
    "\n",
    "print('Minimum time value = {}'.format(min_time))\n",
    "print('Maximum time value = {}'.format(max_time))"
   ]
  },
  {
   "cell_type": "code",
   "execution_count": null,
   "metadata": {
    "colab": {
     "base_uri": "https://localhost:8080/"
    },
    "gradient": {
     "editing": false
    },
    "id": "BE16LGI8Mxry",
    "outputId": "0db255df-29ad-428c-8ea3-c5257029b1bd"
   },
   "outputs": [
    {
     "name": "stdout",
     "output_type": "stream",
     "text": [
      "60th percentile time = 885861866.8\n",
      "80th percentile time = 889574252.4\n"
     ]
    }
   ],
   "source": [
    "# Get 60th & 80th percentile times\n",
    "\n",
    "sixtieth_percentile = min_time + 0.6*(max_time - min_time)\n",
    "eightieth_percentile = min_time + 0.8*(max_time - min_time)\n",
    "\n",
    "print('60th percentile time = {}'.format(sixtieth_percentile))\n",
    "print('80th percentile time = {}'.format(eightieth_percentile))"
   ]
  },
  {
   "cell_type": "code",
   "execution_count": null,
   "metadata": {
    "gradient": {
     "editing": false
    },
    "id": "ayX_o1YkMxx6"
   },
   "outputs": [],
   "source": [
    "# Filter original data so that\n",
    "\n",
    "# Training set <= 60th percentile time\n",
    "# 60th < Validation set <= 80th\n",
    "# Testing set > 80th\n",
    "\n",
    "train =      ratings.filter(lambda x: x['timestamp'] <= sixtieth_percentile)\n",
    "validation = ratings.filter(lambda x: x['timestamp'] > sixtieth_percentile and x['timestamp'] <= eightieth_percentile)\n",
    "test =       ratings.filter(lambda x: x['timestamp'] > eightieth_percentile)"
   ]
  },
  {
   "cell_type": "code",
   "execution_count": null,
   "metadata": {
    "colab": {
     "base_uri": "https://localhost:8080/"
    },
    "gradient": {
     "editing": false
    },
    "id": "Jwlwp7-MMx03",
    "outputId": "2c6df211-27f6-40e6-c891-aac0428ddd96"
   },
   "outputs": [
    {
     "name": "stdout",
     "output_type": "stream",
     "text": [
      "Number of rows in training set = 65336\n",
      "Number of rows in validation set = 15778\n",
      "Number of rows in testing set = 18886\n",
      "Total number of rows = 100000\n"
     ]
    }
   ],
   "source": [
    "# We are splitting on time percentiles and not row percentiles,\n",
    "# which means that we have assumed the times are roughly evenly distributed\n",
    "\n",
    "# So check the number of rows in the training, validation, and testing sets is as expected\n",
    "\n",
    "# We could also do row percentiles, which would involve sorting the data by time then shuffling after splitting\n",
    "# As written, the counting is a little slow, but .__len__() doesn't work on the FilterDataset from above\n",
    "\n",
    "# The lengths sum to the number of rows in the original data, currently 100,000, as expected\n",
    "\n",
    "ntimes_tr = 0\n",
    "ntimes_va = 0\n",
    "ntimes_te = 0\n",
    "\n",
    "for x in train.take(-1).as_numpy_iterator():\n",
    "    ntimes_tr += 1\n",
    "\n",
    "for x in validation.take(-1).as_numpy_iterator():\n",
    "    ntimes_va += 1\n",
    "\n",
    "for x in test.take(-1).as_numpy_iterator():\n",
    "    ntimes_te += 1\n",
    "    \n",
    "print('Number of rows in training set = {}'.format(ntimes_tr))\n",
    "print('Number of rows in validation set = {}'.format(ntimes_va))\n",
    "print('Number of rows in testing set = {}'.format(ntimes_te))\n",
    "print('Total number of rows = {}'.format(ntimes_tr + ntimes_va + ntimes_te))"
   ]
  },
  {
   "cell_type": "code",
   "execution_count": null,
   "metadata": {
    "gradient": {
     "editing": false
    },
    "id": "rS0eDfkjnjJL"
   },
   "outputs": [],
   "source": [
    "# A validation set is created here because validation_split in model.fit() \n",
    "# is not supported for datasets - its input would have to be tensors\n",
    "# ( [1] ValueError: `validation_split` is only supported for Tensors or NumPy arrays, \n",
    "# found following types in the input: \n",
    "# [<class 'tensorflow.python.data.ops.dataset_ops.CacheDataset'>] )\n",
    "\n",
    "train = train.shuffle(ntimes_tr)\n",
    "validation = validation.shuffle(ntimes_va)\n",
    "test = test.shuffle(ntimes_te)"
   ]
  },
  {
   "cell_type": "markdown",
   "metadata": {
    "gradient": {
     "editing": false
    },
    "id": "RNIIbzfYDMVt"
   },
   "source": [
    "We also need to extract from the data the list of unique user IDs and unique movie titles.\n",
    "\n",
    "This is because these variables are categorical, and when we use embedding vectors (see below), they map each category onto its own vector."
   ]
  },
  {
   "cell_type": "code",
   "execution_count": null,
   "metadata": {
    "gradient": {
     "editing": false
    },
    "id": "MKROCiPo_5LJ"
   },
   "outputs": [],
   "source": [
    "movie_titles = ratings.batch(1_000_000).map(lambda x: x['movie_title'])\n",
    "user_ids = ratings.batch(1_000_000).map(lambda x: x['user_id'])"
   ]
  },
  {
   "cell_type": "code",
   "execution_count": null,
   "metadata": {
    "gradient": {
     "editing": false
    },
    "id": "6NfVEmLiz9jq"
   },
   "outputs": [],
   "source": [
    "unique_movie_titles = np.unique(np.concatenate(list(movie_titles)))\n",
    "unique_user_ids = np.unique(np.concatenate(list(user_ids)))"
   ]
  },
  {
   "cell_type": "markdown",
   "metadata": {
    "gradient": {
     "editing": false
    },
    "id": "4-Vj9nHb48pn"
   },
   "source": [
    "## 4: Build the recommender models\n",
    "\n",
    "As mentioned above, recommender systems are often composed of a retrieval model and a ranking model. We will be focusing on the ranking model.\n",
    "\n",
    "We will build two models:\n",
    "\n",
    " - Basic ranking\n",
    " - Tuned ranking\n",
    "\n",
    "and show that the tuned ranking model gives the best performance. This shows the importance of tuning and not just engineering a pipeline using a model off-the-shelf.\n",
    "\n",
    "Recommenders are more complex than basic supervised models, so in the hierarchy of increased flexibility but decreased simplicity or ease of use from the Keras Sequential API, through the Keras functional API, to full definition of model classes and subclasses, the latter approach is used. The classes don't have to be written entirely from scratch, however, as the TFRS library contains various convenience classes and functions, and higher level Keras models and layers can still be used when they fit the purpose.\n",
    "\n",
    "In these models, some of the feature preprocessing can be incorporated as part of the model. This reduces the chance of errors being introduced when it is deployed in production in a different place from where it was trained, because the preprocessing of data from the raw inputs to those correct for the model does not need to be duplicated.\n",
    "\n",
    "The various preprocessing steps and modeling components are combined into a recommender model that can then be trained. The model is described by a Python class that inherits from the TFRS base class.\n",
    "\n",
    "It includes:\n",
    "\n",
    " - Movie embeddings\n",
    " - User ID embeddings\n",
    " - Deep learning layer to compute the rankings\n",
    " - Task layer to compute mean squared error\n",
    " - The `call()` method\n",
    " - The `compute_loss()` method\n",
    "\n",
    "The movie and user ID *embeddings* are using this common method of reducing a column that contains a large number of unique categories to something more manageable. The raw categories get mapped onto integers (known as a vocabulary), which in turn are converted to embeddings. The embedding itself is a vector that represents the mapping from a space with many dimensions (the number of categories) to a continuous vector space with a much lower dimension, e.g., 32.\n",
    "\n",
    "The deep learning layer is a typical set of densely connected layers (every neuron connected to all the others) that allows an arbitrary nonlinear mapping between the inputs and outputs. Deep learning is typically more compute-intensive, but for ranking in a full production system only a small subset of the movies are being used, having been selected by the retrieval model, so this helps.\n",
    "\n",
    "The task layer computes mean squared error between a given ground truth target and the model's prediction. This feeds into `compute_loss()`. `Task` is a TFRS layer that is combining computing the loss, i.e., the measure by which the model training is iterated, and the metric, the measure by which the model performance is reported to the human user. In this case the loss is mean squared error and the metric is root mean squared error, so they are quite similar.\n",
    "\n",
    "The `compute_loss()` method measures how well the model is performing after each iteration of training. This is a built-in method to TFRS and is therefore automatically called during model training with a `tfrs.models.Model` class (the training loop).\n",
    "\n",
    "The `call()` method executes the various steps when the model is run, and is important for the model to be able to be saved for later deployment.\n",
    "\n",
    "The overall result is that for a given user ID and movie title fed to the model, the output is a prediction of what rating that user would give to that movie if they were to watch it. The movies with the highest predicted ratings therefore become the recommendations for that user."
   ]
  },
  {
   "cell_type": "markdown",
   "metadata": {
    "gradient": {
     "editing": false
    },
    "id": "2xiUI74SGklF"
   },
   "source": [
    "### 4.1: Basic ranking model\n",
    "\n",
    "The basic model shows what happens when a model is set up with some default parameters, without attempting to tune any of them.\n",
    "\n",
    "The model is similar to the one in the [TFRS multitask tutorial](https://www.tensorflow.org/recommenders/examples/multitask), here doing a single task."
   ]
  },
  {
   "cell_type": "code",
   "execution_count": null,
   "metadata": {
    "gradient": {
     "editing": false
    }
   },
   "outputs": [],
   "source": [
    "class MovielensModelBasicRanking(tfrs.models.Model):\n",
    "\n",
    "    def __init__(self) -> None:\n",
    "        super().__init__()\n",
    "        embedding_dimension = 32\n",
    "\n",
    "        # The embeddings use Keras's preprocessing layers\n",
    "\n",
    "        # Embeddings for movies\n",
    "        self.movie_model: tf.keras.layers.Layer = tf.keras.Sequential([\n",
    "            tf.keras.layers.experimental.preprocessing.StringLookup(\n",
    "                vocabulary=unique_movie_titles, mask_token=None),\n",
    "            tf.keras.layers.Embedding(len(unique_movie_titles) + 1, embedding_dimension)\n",
    "        ])\n",
    "\n",
    "        # Embeddings for users\n",
    "        self.user_model: tf.keras.layers.Layer = tf.keras.Sequential([\n",
    "            tf.keras.layers.experimental.preprocessing.StringLookup(\n",
    "                vocabulary=unique_user_ids, mask_token=None),\n",
    "            tf.keras.layers.Embedding(len(unique_user_ids) + 1, embedding_dimension)\n",
    "        ])\n",
    "\n",
    "        # Predicted ratings\n",
    "        # This is where deep learning is being used in the recommender system\n",
    "        # The predictions are output by the final layer, hence its size of 1\n",
    "\n",
    "        self.rating_model = tf.keras.Sequential([\n",
    "            tf.keras.layers.Dense(256, activation='relu'),\n",
    "            tf.keras.layers.Dense(64, activation='relu'),\n",
    "            tf.keras.layers.Dense(1)\n",
    "        ])\n",
    "\n",
    "        # Ranking is written as a TFRS task\n",
    "        self.task: tf.keras.layers.Layer = tfrs.tasks.Ranking(\n",
    "            loss = tf.keras.losses.MeanSquaredError(),\n",
    "            metrics=[tf.keras.metrics.RootMeanSquaredError()]\n",
    "        )\n",
    "\n",
    "    # The call method allows the model to be run, and saved\n",
    "    # The embeddings are passed into the model\n",
    "    # The embeddings and predicted rating are returned\n",
    "\n",
    "    def call(self, features: Dict[Text, tf.Tensor]) -> tf.Tensor:\n",
    "        user_embeddings = self.user_model(features['user_id'])\n",
    "        movie_embeddings = self.movie_model(features['movie_title'])\n",
    "\n",
    "        return (\n",
    "            user_embeddings,\n",
    "            movie_embeddings,\n",
    "            self.rating_model(\n",
    "                tf.concat([user_embeddings, movie_embeddings], axis=1)\n",
    "            ),\n",
    "        )\n",
    "\n",
    "    # This is the TFRS built-in method that computes the model loss function during training\n",
    "    def compute_loss(self, features: Dict[Text, tf.Tensor], training=False) -> tf.Tensor:\n",
    "\n",
    "        ratings = features.pop('user_rating')\n",
    "        user_embeddings, movie_embeddings, rating_predictions = self(features)\n",
    "\n",
    "        rating_loss = self.task(\n",
    "            labels=ratings,\n",
    "            predictions=rating_predictions,\n",
    "        )\n",
    "\n",
    "        return rating_loss"
   ]
  },
  {
   "cell_type": "markdown",
   "metadata": {
    "gradient": {
     "editing": false
    },
    "id": "SfAqxdgYH1Hl"
   },
   "source": [
    "As at the start of the dataflow, we should view the data at the training stage.\n",
    "\n",
    "The training data is quite similar to the original loaded data, now just movie title, timestamp, user ID, and rating."
   ]
  },
  {
   "cell_type": "code",
   "execution_count": null,
   "metadata": {
    "colab": {
     "base_uri": "https://localhost:8080/"
    },
    "gradient": {
     "editing": false
    },
    "id": "X4wN-Oxqbqxa",
    "outputId": "bc70082f-74d0-4b6a-aeda-084cfbcb4d96"
   },
   "outputs": [
    {
     "data": {
      "text/plain": [
       "<ShuffleDataset shapes: {movie_title: (), timestamp: (), user_id: (), user_rating: ()}, types: {movie_title: tf.string, timestamp: tf.int64, user_id: tf.string, user_rating: tf.float32}>"
      ]
     },
     "execution_count": 18,
     "metadata": {},
     "output_type": "execute_result"
    }
   ],
   "source": [
    "# Format is now a TensorFlow ShuffleDataset\n",
    "train"
   ]
  },
  {
   "cell_type": "code",
   "execution_count": null,
   "metadata": {
    "colab": {
     "base_uri": "https://localhost:8080/"
    },
    "gradient": {
     "editing": false
    },
    "id": "7qByPgKIbjMH",
    "outputId": "1b202622-742c-47bc-a0b7-8115683aa920"
   },
   "outputs": [
    {
     "name": "stdout",
     "output_type": "stream",
     "text": [
      "{'movie_title': b'Shaggy Dog, The (1959)',\n",
      " 'timestamp': 883427796,\n",
      " 'user_id': b'705',\n",
      " 'user_rating': 2.0}\n",
      "{'movie_title': b'GoodFellas (1990)',\n",
      " 'timestamp': 878971773,\n",
      " 'user_id': b'267',\n",
      " 'user_rating': 5.0}\n",
      "{'movie_title': b'Apartment, The (1960)',\n",
      " 'timestamp': 885048500,\n",
      " 'user_id': b'328',\n",
      " 'user_rating': 3.0}\n"
     ]
    }
   ],
   "source": [
    "for x in train.take(3).as_numpy_iterator():\n",
    "    pprint.pprint(x)"
   ]
  },
  {
   "cell_type": "markdown",
   "metadata": {
    "gradient": {
     "editing": false
    },
    "id": "AdJbchJlqexl"
   },
   "source": [
    "The model performance, especially at scale, can be improved by caching the data into memory.\n",
    "\n",
    "It is also important that the data rows are in a random order. This is because many parts of machine learning algorithms are assuming that each data row is independent of those around it.\n",
    "\n",
    "An example of that is batching the data, which is also done here. Batching causes consecutive elements to be combined into batches, and so if there were, say, some periodicity in the data, it could interact with the batch size and produce highly non-random samples.\n",
    "\n",
    "Note that since a batch size may not divide perfectly into the number of rows in a dataset (or when data is being fed into the system a batch may not be full), its shape may not be known for every batch, and is therefore given as None."
   ]
  },
  {
   "cell_type": "code",
   "execution_count": null,
   "metadata": {
    "gradient": {
     "editing": false
    },
    "id": "umCAS0aBdtYB"
   },
   "outputs": [],
   "source": [
    "cached_train = train.shuffle(ntimes_tr).batch(8192).cache()\n",
    "cached_validation = validation.shuffle(ntimes_va).batch(8192).cache()\n",
    "cached_test = test.batch(4096).cache()"
   ]
  },
  {
   "cell_type": "markdown",
   "metadata": {
    "gradient": {
     "editing": false
    },
    "id": "YO4SF6-Vqmi5"
   },
   "source": [
    "Since the actual data being fed into the model is the cached and batched set, this should be viewed too. We can see that it is now batched and the batches are formed by arrays."
   ]
  },
  {
   "cell_type": "code",
   "execution_count": null,
   "metadata": {
    "colab": {
     "base_uri": "https://localhost:8080/"
    },
    "gradient": {
     "editing": false
    },
    "id": "aU6QtxRHbs3q",
    "outputId": "93f1e3b3-c4ea-4a63-bf65-246a46f87a90"
   },
   "outputs": [
    {
     "data": {
      "text/plain": [
       "<CacheDataset shapes: {movie_title: (None,), timestamp: (None,), user_id: (None,), user_rating: (None,)}, types: {movie_title: tf.string, timestamp: tf.int64, user_id: tf.string, user_rating: tf.float32}>"
      ]
     },
     "execution_count": 21,
     "metadata": {},
     "output_type": "execute_result"
    }
   ],
   "source": [
    "# The shape could be changed, e.g., from None to 8192 by adding drop_remainder=True to the .batch() line above\n",
    "cached_train"
   ]
  },
  {
   "cell_type": "code",
   "execution_count": null,
   "metadata": {
    "colab": {
     "base_uri": "https://localhost:8080/"
    },
    "gradient": {
     "editing": false
    },
    "id": "dmjmVqnIbzxn",
    "outputId": "a26a618a-0bf8-4f9d-f4c9-e732ad0a55d3"
   },
   "outputs": [
    {
     "name": "stdout",
     "output_type": "stream",
     "text": [
      "{'movie_title': array([b'Twelve Monkeys (1995)', b'Jurassic Park (1993)',\n",
      "       b'Princess Bride, The (1987)', ..., b\"Preacher's Wife, The (1996)\",\n",
      "       b'Usual Suspects, The (1995)', b'Before Sunrise (1995)'],\n",
      "      dtype=object),\n",
      " 'timestamp': array([883601355, 880659686, 879440774, ..., 879563639, 874809192,\n",
      "       880179536]),\n",
      " 'user_id': array([b'66', b'771', b'361', ..., b'459', b'259', b'889'], dtype=object),\n",
      " 'user_rating': array([3., 2., 5., ..., 3., 5., 3.], dtype=float32)}\n",
      "{'movie_title': array([b'Bean (1997)', b'Empire Strikes Back, The (1980)',\n",
      "       b'Aliens (1986)', ..., b'Pulp Fiction (1994)',\n",
      "       b\"It's a Wonderful Life (1946)\", b'Mighty Aphrodite (1995)'],\n",
      "      dtype=object),\n",
      " 'timestamp': array([881015064, 881649644, 881101641, ..., 881177349, 879524974,\n",
      "       879438972]),\n",
      " 'user_id': array([b'605', b'566', b'825', ..., b'690', b'151', b'590'], dtype=object),\n",
      " 'user_rating': array([2., 3., 5., ..., 4., 4., 4.], dtype=float32)}\n",
      "{'movie_title': array([b'English Patient, The (1996)', b'French Kiss (1995)',\n",
      "       b'Kiss the Girls (1997)', ..., b'Shining, The (1980)',\n",
      "       b'Eat Drink Man Woman (1994)', b'City Hall (1996)'], dtype=object),\n",
      " 'timestamp': array([875979137, 879310445, 876280289, ..., 885046420, 882385118,\n",
      "       881653266]),\n",
      " 'user_id': array([b'777', b'497', b'319', ..., b'328', b'429', b'347'], dtype=object),\n",
      " 'user_rating': array([2., 3., 4., ..., 4., 3., 4.], dtype=float32)}\n"
     ]
    }
   ],
   "source": [
    "for x in cached_train.take(3).as_numpy_iterator():\n",
    "    pprint.pprint(x)"
   ]
  },
  {
   "cell_type": "markdown",
   "metadata": {
    "gradient": {
     "editing": false
    },
    "id": "LsfOKQ30Iewj"
   },
   "source": [
    "#### 4.1.1: Train and evaluate the basic ranking model"
   ]
  },
  {
   "cell_type": "markdown",
   "metadata": {
    "gradient": {
     "editing": false
    },
    "id": "k_Pe7NpXq_r2"
   },
   "source": [
    "Train the model, outputting the accuracy on the training set and also on the validation set."
   ]
  },
  {
   "cell_type": "code",
   "execution_count": null,
   "metadata": {
    "gradient": {
     "editing": false
    },
    "id": "x7Kirx8U1Cww"
   },
   "outputs": [],
   "source": [
    "model_br = MovielensModelBasicRanking()"
   ]
  },
  {
   "cell_type": "code",
   "execution_count": null,
   "metadata": {
    "gradient": {
     "editing": false
    },
    "id": "dzDwd1Rp1EbO"
   },
   "outputs": [],
   "source": [
    "model_br.compile(optimizer=tf.keras.optimizers.Adagrad(learning_rate=0.1))"
   ]
  },
  {
   "cell_type": "code",
   "execution_count": null,
   "metadata": {
    "colab": {
     "base_uri": "https://localhost:8080/"
    },
    "gradient": {
     "editing": false
    },
    "id": "SieQYr041H90",
    "outputId": "5851b673-7e8a-4868-8de6-be40cd33efef"
   },
   "outputs": [
    {
     "name": "stdout",
     "output_type": "stream",
     "text": [
      "Epoch 1/3\n"
     ]
    },
    {
     "name": "stdout",
     "output_type": "stream",
     "text": [
      "\r",
      "      1/Unknown - 7s 7s/step - root_mean_squared_error: 3.7164 - loss: 13.8116 - regularization_loss: 0.0000e+00 - total_loss: 13.8116"
     ]
    },
    {
     "name": "stdout",
     "output_type": "stream",
     "text": [
      "\b\b\b\b\b\b\b\b\b\b\b\b\b\b\b\b\b\b\b\b\b\b\b\b\b\b\b\b\b\b\b\b\b\b\b\b\b\b\b\b\b\b\b\b\b\b\b\b\b\b\b\b\b\b\b\b\b\b\b\b\b\b\b\b\b\b\b\b\b\b\b\b\b\b\b\b\b\b\b\b\b\b\b\b\b\b\b\b\b\b\b\b\b\b\b\b\b\b\b\b\b\b\b\b\b\b\b\b\b\b\b\b\b\b\b\b\b\b\b\b\b\b\b\b\b\b\b\b\b\b\b\b\b\b\r",
      "      3/Unknown - 7s 30ms/step - root_mean_squared_error: 2.9478 - loss: 8.6896 - regularization_loss: 0.0000e+00 - total_loss: 8.6896"
     ]
    },
    {
     "name": "stdout",
     "output_type": "stream",
     "text": [
      "\b\b\b\b\b\b\b\b\b\b\b\b\b\b\b\b\b\b\b\b\b\b\b\b\b\b\b\b\b\b\b\b\b\b\b\b\b\b\b\b\b\b\b\b\b\b\b\b\b\b\b\b\b\b\b\b\b\b\b\b\b\b\b\b\b\b\b\b\b\b\b\b\b\b\b\b\b\b\b\b\b\b\b\b\b\b\b\b\b\b\b\b\b\b\b\b\b\b\b\b\b\b\b\b\b\b\b\b\b\b\b\b\b\b\b\b\b\b\b\b\b\b\b\b\b\b\b\b\b\b\b\b\b\b\r",
      "      5/Unknown - 7s 30ms/step - root_mean_squared_error: 2.8847 - loss: 8.3214 - regularization_loss: 0.0000e+00 - total_loss: 8.3214"
     ]
    },
    {
     "name": "stdout",
     "output_type": "stream",
     "text": [
      "\b\b\b\b\b\b\b\b\b\b\b\b\b\b\b\b\b\b\b\b\b\b\b\b\b\b\b\b\b\b\b\b\b\b\b\b\b\b\b\b\b\b\b\b\b\b\b\b\b\b\b\b\b\b\b\b\b\b\b\b\b\b\b\b\b\b\b\b\b\b\b\b\b\b\b\b\b\b\b\b\b\b\b\b\b\b\b\b\b\b\b\b\b\b\b\b\b\b\b\b\b\b\b\b\b\b\b\b\b\b\b\b\b\b\b\b\b\b\b\b\b\b\b\b\b\b\b\b\b\b\b\b\b\b\r",
      "      7/Unknown - 7s 29ms/step - root_mean_squared_error: 2.5438 - loss: 6.4708 - regularization_loss: 0.0000e+00 - total_loss: 6.4708"
     ]
    },
    {
     "name": "stdout",
     "output_type": "stream",
     "text": [
      "\b\b\b\b\b\b\b\b\b\b\b\b\b\b\b\b\b\b\b\b\b\b\b\b\b\b\b\b\b\b\b\b\b\b\b\b\b\b\b\b\b\b\b\b\b\b\b\b\b\b\b\b\b\b\b\b\b\b\b\b\b\b\b\b\b\b\b\b\b\b\b\b\b\b\b\b\b\b\b\b\b\b\b\b\b\b\b\b\b\b\b\b\b\b\b\b\b\b\b\b\b\b\b\b\b\b\b\b\b\b\b\b\b\b\b\b\b\b\b\b\b\b\b\b\b\b\b\b\b\b\b\b\b\b\r",
      "8/8 [==============================] - 14s 1s/step - root_mean_squared_error: 2.4151 - loss: 5.3119 - regularization_loss: 0.0000e+00 - total_loss: 5.3119 - val_root_mean_squared_error: 1.1369 - val_loss: 1.2942 - val_regularization_loss: 0.0000e+00 - val_total_loss: 1.2942\n"
     ]
    },
    {
     "name": "stdout",
     "output_type": "stream",
     "text": [
      "Epoch 2/3\n",
      "\r",
      "1/8 [==>...........................] - ETA: 0s - root_mean_squared_error: 1.1202 - loss: 1.2548 - regularization_loss: 0.0000e+00 - total_loss: 1.2548"
     ]
    },
    {
     "name": "stdout",
     "output_type": "stream",
     "text": [
      "\b\b\b\b\b\b\b\b\b\b\b\b\b\b\b\b\b\b\b\b\b\b\b\b\b\b\b\b\b\b\b\b\b\b\b\b\b\b\b\b\b\b\b\b\b\b\b\b\b\b\b\b\b\b\b\b\b\b\b\b\b\b\b\b\b\b\b\b\b\b\b\b\b\b\b\b\b\b\b\b\b\b\b\b\b\b\b\b\b\b\b\b\b\b\b\b\b\b\b\b\b\b\b\b\b\b\b\b\b\b\b\b\b\b\b\b\b\b\b\b\b\b\b\b\b\b\b\b\b\b\b\b\b\b\b\b\b\b\b\b\b\b\b\b\b\b\b\b\b\b\r",
      "8/8 [==============================] - 0s 15ms/step - root_mean_squared_error: 1.1192 - loss: 1.2511 - regularization_loss: 0.0000e+00 - total_loss: 1.2511 - val_root_mean_squared_error: 1.1352 - val_loss: 1.2904 - val_regularization_loss: 0.0000e+00 - val_total_loss: 1.2904\n"
     ]
    },
    {
     "name": "stdout",
     "output_type": "stream",
     "text": [
      "Epoch 3/3\n",
      "\r",
      "1/8 [==>...........................] - ETA: 0s - root_mean_squared_error: 1.1135 - loss: 1.2399 - regularization_loss: 0.0000e+00 - total_loss: 1.2399"
     ]
    },
    {
     "name": "stdout",
     "output_type": "stream",
     "text": [
      "\b\b\b\b\b\b\b\b\b\b\b\b\b\b\b\b\b\b\b\b\b\b\b\b\b\b\b\b\b\b\b\b\b\b\b\b\b\b\b\b\b\b\b\b\b\b\b\b\b\b\b\b\b\b\b\b\b\b\b\b\b\b\b\b\b\b\b\b\b\b\b\b\b\b\b\b\b\b\b\b\b\b\b\b\b\b\b\b\b\b\b\b\b\b\b\b\b\b\b\b\b\b\b\b\b\b\b\b\b\b\b\b\b\b\b\b\b\b\b\b\b\b\b\b\b\b\b\b\b\b\b\b\b\b\b\b\b\b\b\b\b\b\b\b\b\b\b\b\b\b\r",
      "8/8 [==============================] - 0s 15ms/step - root_mean_squared_error: 1.1109 - loss: 1.2322 - regularization_loss: 0.0000e+00 - total_loss: 1.2322 - val_root_mean_squared_error: 1.1337 - val_loss: 1.2870 - val_regularization_loss: 0.0000e+00 - val_total_loss: 1.2870\n"
     ]
    }
   ],
   "source": [
    "history_br = model_br.fit(cached_train, epochs=3, validation_data=cached_validation)"
   ]
  },
  {
   "cell_type": "markdown",
   "metadata": {
    "gradient": {
     "editing": false
    },
    "id": "hI7yE0XerkjM"
   },
   "source": [
    "The full model history contains quite a lot of information:\n",
    "\n",
    " - Loss = the value of the loss function\n",
    " - Regularization loss = 0, since we are not applying regularization in the basic model\n",
    " - Root mean squared error = the model performance metric we are recording\n",
    " - Total loss = loss + regularization loss, so the same as loss here\n",
    " - The same four again, but for the validation set instead of the training set"
   ]
  },
  {
   "cell_type": "code",
   "execution_count": null,
   "metadata": {
    "colab": {
     "base_uri": "https://localhost:8080/"
    },
    "gradient": {
     "editing": false
    },
    "id": "aUk4iIRG0Uqf",
    "outputId": "f548679f-70b7-4510-ce02-4168f7778054"
   },
   "outputs": [
    {
     "name": "stdout",
     "output_type": "stream",
     "text": [
      "{'loss': [1.2554354667663574, 1.2391490936279297, 1.2173922061920166],\n",
      " 'regularization_loss': [0, 0, 0],\n",
      " 'root_mean_squared_error': [2.4151363372802734,\n",
      "                             1.1192222833633423,\n",
      "                             1.1109161376953125],\n",
      " 'total_loss': [1.2554354667663574, 1.2391490936279297, 1.2173922061920166],\n",
      " 'val_loss': [1.2941641807556152, 1.2903733253479004, 1.2870227098464966],\n",
      " 'val_regularization_loss': [0, 0, 0],\n",
      " 'val_root_mean_squared_error': [1.1369106769561768,\n",
      "                                 1.135221004486084,\n",
      "                                 1.1337394714355469],\n",
      " 'val_total_loss': [1.2941641807556152, 1.2903733253479004, 1.2870227098464966]}\n"
     ]
    }
   ],
   "source": [
    "pprint.pprint(history_br.history)"
   ]
  },
  {
   "cell_type": "markdown",
   "metadata": {
    "gradient": {
     "editing": false
    },
    "id": "Zs6U0oW5sVl8"
   },
   "source": [
    "We can report the most relevant numbers from the history, and make a simple plot of the tuning. Here we look at the value of the performance metric.\n",
    "\n",
    "The model has a performance of root mean squared error (RMSE) between predicted and true user ratings of movies of about 1.1, and the value is similar for training and validation, indicating that with the short training duration here the model has not overfit.\n",
    "\n",
    "A more sophisticated option than making these plots would be to load and use TensorBoard, but the overall conclusion drawn would be the same."
   ]
  },
  {
   "cell_type": "code",
   "execution_count": null,
   "metadata": {
    "colab": {
     "base_uri": "https://localhost:8080/"
    },
    "gradient": {
     "editing": false
    },
    "id": "VY8Bt23jJAp1",
    "outputId": "13dbf653-a882-45cf-f0df-b225956c448c"
   },
   "outputs": [
    {
     "name": "stdout",
     "output_type": "stream",
     "text": [
      "Root mean squared error in user rating from training: 1.11\n",
      "Root mean squared error in user rating from validation: 1.13\n"
     ]
    }
   ],
   "source": [
    "rmse_br = history_br.history['root_mean_squared_error'][-1]\n",
    "print(f'Root mean squared error in user rating from training: {rmse_br:.2f}')\n",
    "\n",
    "val_rmse_br = history_br.history['val_root_mean_squared_error'][-1]\n",
    "print(f'Root mean squared error in user rating from validation: {val_rmse_br:.2f}')"
   ]
  },
  {
   "cell_type": "code",
   "execution_count": null,
   "metadata": {
    "gradient": {
     "editing": false
    },
    "id": "bFCCtUTyJnBF"
   },
   "outputs": [],
   "source": [
    "# This sets up the x axis of the plot\n",
    "num_validation_runs = len(history_br.history['root_mean_squared_error']) # Or val_ ; is same here\n",
    "\n",
    "# The TFRS tutorials include values of validation frequency >1 to accommodate training runs where it was set >1 for faster training\n",
    "# Here it is left as 1\n",
    "validation_freq = 1\n",
    "epochs = [(x + 1) * validation_freq for x in range(num_validation_runs)] # E.g., 3,6,9 ... if validation_freq = 3"
   ]
  },
  {
   "cell_type": "code",
   "execution_count": null,
   "metadata": {
    "colab": {
     "base_uri": "https://localhost:8080/",
     "height": 308
    },
    "gradient": {
     "editing": false
    },
    "id": "FOZthVRbJ5iW",
    "outputId": "884a1cdc-52e7-4edb-f04f-523c3fd64fdb"
   },
   "outputs": [
    {
     "data": {
      "text/plain": [
       "<matplotlib.legend.Legend at 0x7ff9f816c828>"
      ]
     },
     "execution_count": 29,
     "metadata": {},
     "output_type": "execute_result"
    },
    {
     "data": {
      "image/png": "[encoded data removed]",
      "text/plain": [
       "<Figure size 432x288 with 1 Axes>"
      ]
     },
     "metadata": {},
     "output_type": "display_data",
     "transient": {}
    }
   ],
   "source": [
    "# Simple plot with Matplotlib\n",
    "plt.plot(epochs, history_br.history['root_mean_squared_error'], label='Training')\n",
    "plt.plot(epochs, history_br.history['val_root_mean_squared_error'], label='Validation')\n",
    "plt.title('Root mean squared error in user rating vs. training epoch')\n",
    "plt.xlabel('Training epoch')\n",
    "plt.ylabel('Root mean squared error in user rating')\n",
    "plt.legend()"
   ]
  },
  {
   "cell_type": "markdown",
   "metadata": {
    "gradient": {
     "editing": false
    },
    "id": "2n7xDu0C1JCg"
   },
   "source": [
    "We can see the model architecture via `.summary()`, showing the deep learning layers. Even for this small model, the number of parameters is over 100,000, which is greater than the number of movies in the dataset. This shows the importance of setting up the model to not overfit when trained for longer, which we will do in the tuned model below."
   ]
  },
  {
   "cell_type": "code",
   "execution_count": null,
   "metadata": {
    "colab": {
     "base_uri": "https://localhost:8080/"
    },
    "gradient": {
     "editing": false
    },
    "id": "v44Elq721cSy",
    "outputId": "a2fb073d-eae5-4c62-954f-b3a17b6d42eb"
   },
   "outputs": [
    {
     "name": "stdout",
     "output_type": "stream",
     "text": [
      "Model: \"movielens_model_basic_ranking\"\n",
      "_________________________________________________________________\n",
      "Layer (type)                 Output Shape              Param #   \n",
      "=================================================================\n",
      "sequential (Sequential)      (None, 32)                53280     \n",
      "_________________________________________________________________\n",
      "sequential_1 (Sequential)    (None, 32)                30208     \n",
      "_________________________________________________________________\n",
      "sequential_2 (Sequential)    (None, 1)                 33153     \n",
      "_________________________________________________________________\n",
      "ranking (Ranking)            multiple                  2         \n",
      "=================================================================\n",
      "Total params: 116,643\n",
      "Trainable params: 116,641\n",
      "Non-trainable params: 2\n",
      "_________________________________________________________________\n"
     ]
    }
   ],
   "source": [
    "model_br.summary()"
   ]
  },
  {
   "cell_type": "markdown",
   "metadata": {
    "gradient": {
     "editing": false
    },
    "id": "XoBOlpc4-_hG"
   },
   "source": [
    "The model's performance can be measured on unseen test data for which what the user did in fact rate the movie (the ground truth) is still available.\n",
    "\n",
    "It is important that the test data is not used as part of the model training or validation, either directly (overlap between training and testing data), or indirectly (performance on testing data being used to influence subsequent training runs).\n",
    "\n",
    "Both of these would produce a result biased high in performance compared to expected performance on new unseen data when the model is deployed in production.\n",
    "\n",
    "As expected following the validation, the RMSE on the unseen testing set is also approximately 1.1."
   ]
  },
  {
   "cell_type": "code",
   "execution_count": null,
   "metadata": {
    "colab": {
     "base_uri": "https://localhost:8080/"
    },
    "gradient": {
     "editing": false
    },
    "id": "bt8TsSix1cXX",
    "outputId": "0f7c32fe-4a23-472b-db4c-6068fd087cc5"
   },
   "outputs": [
    {
     "name": "stdout",
     "output_type": "stream",
     "text": [
      "\r",
      "      1/Unknown - 6s 6s/step - root_mean_squared_error: 1.0943 - loss: 1.1974 - regularization_loss: 0.0000e+00 - total_loss: 1.1974"
     ]
    },
    {
     "name": "stdout",
     "output_type": "stream",
     "text": [
      "\b\b\b\b\b\b\b\b\b\b\b\b\b\b\b\b\b\b\b\b\b\b\b\b\b\b\b\b\b\b\b\b\b\b\b\b\b\b\b\b\b\b\b\b\b\b\b\b\b\b\b\b\b\b\b\b\b\b\b\b\b\b\b\b\b\b\b\b\b\b\b\b\b\b\b\b\b\b\b\b\b\b\b\b\b\b\b\b\b\b\b\b\b\b\b\b\b\b\b\b\b\b\b\b\b\b\b\b\b\b\b\b\b\b\b\b\b\b\b\b\b\b\b\b\b\b\b\b\b\b\b\b\r",
      "5/5 [==============================] - 6s 13ms/step - root_mean_squared_error: 1.1163 - loss: 1.2443 - regularization_loss: 0.0000e+00 - total_loss: 1.2443\n"
     ]
    }
   ],
   "source": [
    "eval_br = model_br.evaluate(cached_test, return_dict=True)"
   ]
  },
  {
   "cell_type": "code",
   "execution_count": null,
   "metadata": {
    "colab": {
     "base_uri": "https://localhost:8080/"
    },
    "gradient": {
     "editing": false
    },
    "id": "Pp84Btjd3Ovt",
    "outputId": "766d686e-80a5-4211-ee8a-607345432fc3"
   },
   "outputs": [
    {
     "data": {
      "text/plain": [
       "{'root_mean_squared_error': 1.116327166557312,\n",
       " 'loss': 1.2379051446914673,\n",
       " 'regularization_loss': 0,\n",
       " 'total_loss': 1.2379051446914673}"
      ]
     },
     "execution_count": 32,
     "metadata": {},
     "output_type": "execute_result"
    }
   ],
   "source": [
    "eval_br"
   ]
  },
  {
   "cell_type": "code",
   "execution_count": null,
   "metadata": {
    "colab": {
     "base_uri": "https://localhost:8080/"
    },
    "gradient": {
     "editing": false
    },
    "id": "kHu2-zfTKL34",
    "outputId": "9eb7222a-45ee-42a8-cd06-8172078e06c2"
   },
   "outputs": [
    {
     "name": "stdout",
     "output_type": "stream",
     "text": [
      "Root mean squared error in user rating from evaluation: 1.12\n"
     ]
    }
   ],
   "source": [
    "rmse_eval_br = eval_br['root_mean_squared_error']\n",
    "print(f'Root mean squared error in user rating from evaluation: {rmse_eval_br:.2f}')"
   ]
  },
  {
   "cell_type": "markdown",
   "metadata": {
    "gradient": {
     "editing": false
    },
    "id": "rWqyrily-JE6"
   },
   "source": [
    "Calling `.predict()` on the model, i.e., sending it data from the testing set in the same manner as new data would be sent to it when deployed, yields the user & movie embeddings for each new data point, and the predicted user ratings for those data points.\n",
    "\n",
    "Here the testing data still has ground truth user ratings that these predictions can be compared to (as in evaluate, above), but of course in production the return will be just the predicted ratings (and embeddings, in this case)."
   ]
  },
  {
   "cell_type": "code",
   "execution_count": null,
   "metadata": {
    "colab": {
     "base_uri": "https://localhost:8080/"
    },
    "gradient": {
     "editing": false
    },
    "id": "eA7_9Lgi1cav",
    "outputId": "5a39f4c6-50c2-4643-cf8e-082b4e215c8a"
   },
   "outputs": [
    {
     "data": {
      "text/plain": [
       "(array([[ 0.04733208,  0.04268182, -0.00042958, ..., -0.02808901,\n",
       "         -0.0005126 ,  0.0038119 ],\n",
       "        [ 0.03079841, -0.03740229, -0.01051761, ...,  0.03921214,\n",
       "         -0.00126004, -0.04602876],\n",
       "        [-0.03111575,  0.03841057, -0.03344202, ..., -0.02880034,\n",
       "          0.00360171,  0.03479937],\n",
       "        ...,\n",
       "        [ 0.03079841, -0.03740229, -0.01051761, ...,  0.03921214,\n",
       "         -0.00126004, -0.04602876],\n",
       "        [ 0.013009  ,  0.02230838,  0.04050666, ..., -0.03070855,\n",
       "          0.04932949,  0.04890701],\n",
       "        [ 0.00888282,  0.04876108, -0.00225791, ..., -0.04688796,\n",
       "         -0.02539592, -0.00886203]], dtype=float32),\n",
       " array([[-0.01800346, -0.00926816, -0.00390559, ...,  0.00012508,\n",
       "         -0.01844428,  0.01139385],\n",
       "        [ 0.04476729, -0.03481229, -0.04324593, ..., -0.0161436 ,\n",
       "         -0.01268604,  0.02639431],\n",
       "        [ 0.01548245, -0.03467704,  0.01251898, ..., -0.01361602,\n",
       "         -0.01910933,  0.02442049],\n",
       "        ...,\n",
       "        [ 0.0485628 , -0.03082689,  0.00381701, ...,  0.04355181,\n",
       "         -0.03907627,  0.04138109],\n",
       "        [ 0.03756993,  0.02384755,  0.01627515, ...,  0.03394001,\n",
       "          0.0013958 , -0.02588466],\n",
       "        [ 0.0464116 , -0.04732461, -0.02713222, ...,  0.04227652,\n",
       "          0.04566581,  0.01638626]], dtype=float32),\n",
       " array([[3.5343888],\n",
       "        [3.504482 ],\n",
       "        [3.5312781],\n",
       "        ...,\n",
       "        [3.5149038],\n",
       "        [3.5779788],\n",
       "        [3.720005 ]], dtype=float32))"
      ]
     },
     "execution_count": 34,
     "metadata": {},
     "output_type": "execute_result"
    }
   ],
   "source": [
    "# As written, the model prediction returns both the embeddings and predicted ratings\n",
    "model_br.predict(cached_test)"
   ]
  },
  {
   "cell_type": "markdown",
   "metadata": {
    "gradient": {
     "editing": false
    },
    "id": "5CNURtsNIfC2"
   },
   "source": [
    "### 4.2: Tuned ranking model\n",
    "\n",
    "For most machine learning models, a model that has not had its hyperparameters tuned is unlikely to be giving best performance. It would be a bit like choosing random clothes from a store instead of clothes that are your size.\n",
    "\n",
    "The combination of being able to be tuned to higher performance, and the ability to easily add new training set features of many different kinds (categorical, numerical, text, time series, etc.) is what enables deep learning (or other nonlinear ML such as decision trees) to outperform classical non-ML methods on complex data. As written, the deep learning layers component of the model can be whatever arbitrary set of layers, so long as it outputs a single rating at the end.\n",
    "\n",
    "Here we perform some basic tuning on the neural network layer by training it for more epochs and allowing its initial learning rate to vary. We also add regularization to help avoid overfitting that could result from longer training.\n",
    "\n",
    "For more extensive tuning, other parameters can be tuned similarly, including within the network, e.g., size & number of layers, and within the whole model, such as the number of dimensions in the embeddings.\n",
    "\n",
    "If one plans to do more extensive tuning, then for a recommender system like this one, it also makes sense to include more features, such as user age, do more feature engineering, such as cyclic and not absolute times like day of week, and to build more complex models like multitask and deep cross networks as in the TFRS tutorials. To keep this showcase to a manageable length, we do not attempt all of that here."
   ]
  },
  {
   "cell_type": "code",
   "execution_count": null,
   "metadata": {
    "gradient": {
     "editing": false
    }
   },
   "outputs": [],
   "source": [
    "# This model is similar to the basic model, but L2 regularization has been added\n",
    "\n",
    "class MovielensModelTunedRanking(tfrs.models.Model):\n",
    "\n",
    "    def __init__(self) -> None:\n",
    "        super().__init__()\n",
    "        embedding_dimension = 32\n",
    "\n",
    "        self.movie_model: tf.keras.layers.Layer = tf.keras.Sequential([\n",
    "            tf.keras.layers.experimental.preprocessing.StringLookup(\n",
    "                vocabulary=unique_movie_titles, mask_token=None),\n",
    "            tf.keras.layers.Embedding(len(unique_movie_titles) + 1, embedding_dimension)\n",
    "        ])\n",
    "\n",
    "        self.user_model: tf.keras.layers.Layer = tf.keras.Sequential([\n",
    "            tf.keras.layers.experimental.preprocessing.StringLookup(\n",
    "                vocabulary=unique_user_ids, mask_token=None),\n",
    "            tf.keras.layers.Embedding(len(unique_user_ids) + 1, embedding_dimension)\n",
    "        ])\n",
    "\n",
    "        # Regularization is added here\n",
    "        self.rating_model = tf.keras.Sequential([\n",
    "            tf.keras.layers.Dense(256, activation='relu', kernel_regularizer=tf.keras.regularizers.l2(0.01)),\n",
    "            tf.keras.layers.Dense(64, activation='relu', kernel_regularizer=tf.keras.regularizers.l2(0.01)),\n",
    "            tf.keras.layers.Dense(1)\n",
    "        ])\n",
    "\n",
    "        self.task: tf.keras.layers.Layer = tfrs.tasks.Ranking(\n",
    "            loss = tf.keras.losses.MeanSquaredError(),\n",
    "            metrics=[tf.keras.metrics.RootMeanSquaredError()]\n",
    "        )\n",
    "\n",
    "    def call(self, features: Dict[Text, tf.Tensor]) -> tf.Tensor:\n",
    "\n",
    "        user_embeddings = self.user_model(features['user_id'])\n",
    "        movie_embeddings = self.movie_model(features['movie_title'])\n",
    "\n",
    "        return (\n",
    "            user_embeddings,\n",
    "            movie_embeddings,\n",
    "            self.rating_model(\n",
    "                tf.concat([user_embeddings, movie_embeddings], axis=1)\n",
    "            ),\n",
    "        )\n",
    "\n",
    "    def compute_loss(self, features: Dict[Text, tf.Tensor], training=False) -> tf.Tensor:\n",
    "\n",
    "        ratings = features.pop('user_rating')\n",
    "        user_embeddings, movie_embeddings, rating_predictions = self(features)\n",
    "\n",
    "        rating_loss = self.task(\n",
    "            labels=ratings,\n",
    "            predictions=rating_predictions,\n",
    "        )\n",
    "\n",
    "        return rating_loss"
   ]
  },
  {
   "cell_type": "markdown",
   "metadata": {
    "gradient": {
     "editing": false
    },
    "id": "HVp_55ctAF48"
   },
   "source": [
    "When tuning hyperparameters using the grid approach, it is common to test a range of values across a logarithmic scale, then fine-tune by using a linear scale in the range suggested to be best by the logarithmic scale. (For example, try learning rates of 0.01, 0.02, 0.05, 0.1, 0.2, 0.5, and 1, and if the performance is best for 0.1, then try 0.06, 0.07, 0.08, 0.09, 0.1, 0.11, 0.12, 0.13, 0.14, and 0.15.)\n",
    "\n",
    "Here we only show a small number of values to avoid excessive processing time."
   ]
  },
  {
   "cell_type": "markdown",
   "metadata": {
    "gradient": {
     "editing": false
    },
    "id": "0WH4-3S7HOCC"
   },
   "source": [
    "Let's set the values we are tuning so they are not hidden in the calls to the model."
   ]
  },
  {
   "cell_type": "code",
   "execution_count": null,
   "metadata": {
    "gradient": {
     "editing": false
    },
    "id": "o2fF4CN5HUj0"
   },
   "outputs": [],
   "source": [
    "learning_rates_logarithmic = [0.001, 0.01, 0.1, 1]\n",
    "epochs = 30"
   ]
  },
  {
   "cell_type": "markdown",
   "metadata": {
    "gradient": {
     "editing": false
    },
    "id": "jvxCoGSDHxb-"
   },
   "source": [
    "Run the logarithmic grid. As with the basic model, the indicator of performance is the RMSE error, shown in the output."
   ]
  },
  {
   "cell_type": "code",
   "execution_count": null,
   "metadata": {
    "colab": {
     "base_uri": "https://localhost:8080/"
    },
    "gradient": {
     "editing": false
    },
    "id": "IIWlPgqD4Hr6",
    "outputId": "e051920a-cec9-4b54-d688-68dcf6a6c627",
    "scrolled": true
   },
   "outputs": [
    {
     "name": "stdout",
     "output_type": "stream",
     "text": [
      "Learning rate = 0.001\n",
      "Epoch 1/30\n"
     ]
    },
    {
     "name": "stdout",
     "output_type": "stream",
     "text": [
      "\r",
      "      1/Unknown - 0s 493ms/step - root_mean_squared_error: 3.7393 - loss: 13.9820 - regularization_loss: 2.0580 - total_loss: 16.0400"
     ]
    },
    {
     "name": "stdout",
     "output_type": "stream",
     "text": [
      "\b\b\b\b\b\b\b\b\b\b\b\b\b\b\b\b\b\b\b\b\b\b\b\b\b\b\b\b\b\b\b\b\b\b\b\b\b\b\b\b\b\b\b\b\b\b\b\b\b\b\b\b\b\b\b\b\b\b\b\b\b\b\b\b\b\b\b\b\b\b\b\b\b\b\b\b\b\b\b\b\b\b\b\b\b\b\b\b\b\b\b\b\b\b\b\b\b\b\b\b\b\b\b\b\b\b\b\b\b\b\b\b\b\b\b\b\b\b\b\b\b\b\b\b\b\b\b\b\b\b\b\b\b\r",
      "8/8 [==============================] - 1s 31ms/step - root_mean_squared_error: 3.6981 - loss: 13.6595 - regularization_loss: 2.0570 - total_loss: 15.7164 - val_root_mean_squared_error: 3.5915 - val_loss: 12.9130 - val_regularization_loss: 2.0559 - val_total_loss: 14.9689\n"
     ]
    },
    {
     "name": "stdout",
     "output_type": "stream",
     "text": [
      "Epoch 2/30\n",
      "\r",
      "1/8 [==>...........................] - ETA: 0s - root_mean_squared_error: 3.6906 - loss: 13.6206 - regularization_loss: 2.0559 - total_loss: 15.6765"
     ]
    },
    {
     "name": "stdout",
     "output_type": "stream",
     "text": [
      "\b\b\b\b\b\b\b\b\b\b\b\b\b\b\b\b\b\b\b\b\b\b\b\b\b\b\b\b\b\b\b\b\b\b\b\b\b\b\b\b\b\b\b\b\b\b\b\b\b\b\b\b\b\b\b\b\b\b\b\b\b\b\b\b\b\b\b\b\b\b\b\b\b\b\b\b\b\b\b\b\b\b\b\b\b\b\b\b\b\b\b\b\b\b\b\b\b\b\b\b\b\b\b\b\b\b\b\b\b\b\b\b\b\b\b\b\b\b\b\b\b\b\b\b\b\b\b\b\b\b\b\b\b\b\b\b\b\b\b\b\b\b\b\b\b\b\b\b\r",
      "8/8 [==============================] - 0s 16ms/step - root_mean_squared_error: 3.6603 - loss: 13.3862 - regularization_loss: 2.0549 - total_loss: 15.4411 - val_root_mean_squared_error: 3.5603 - val_loss: 12.6900 - val_regularization_loss: 2.0538 - val_total_loss: 14.7438\n"
     ]
    },
    {
     "name": "stdout",
     "output_type": "stream",
     "text": [
      "Epoch 3/30\n",
      "\r",
      "1/8 [==>...........................] - ETA: 0s - root_mean_squared_error: 3.6593 - loss: 13.3903 - regularization_loss: 2.0538 - total_loss: 15.4441"
     ]
    },
    {
     "name": "stdout",
     "output_type": "stream",
     "text": [
      "\b\b\b\b\b\b\b\b\b\b\b\b\b\b\b\b\b\b\b\b\b\b\b\b\b\b\b\b\b\b\b\b\b\b\b\b\b\b\b\b\b\b\b\b\b\b\b\b\b\b\b\b\b\b\b\b\b\b\b\b\b\b\b\b\b\b\b\b\b\b\b\b\b\b\b\b\b\b\b\b\b\b\b\b\b\b\b\b\b\b\b\b\b\b\b\b\b\b\b\b\b\b\b\b\b\b\b\b\b\b\b\b\b\b\b\b\b\b\b\b\b\b\b\b\b\b\b\b\b\b\b\b\b\b\b\b\b\b\b\b\b\b\b\b\b\b\b\b\r",
      "8/8 [==============================] - 0s 33ms/step - root_mean_squared_error: 3.6309 - loss: 13.1738 - regularization_loss: 2.0529 - total_loss: 15.2267 - val_root_mean_squared_error: 3.5331 - val_loss: 12.4969 - val_regularization_loss: 2.0518 - val_total_loss: 14.5488\n"
     ]
    },
    {
     "name": "stdout",
     "output_type": "stream",
     "text": [
      "Epoch 4/30\n",
      "\r",
      "1/8 [==>...........................] - ETA: 0s - root_mean_squared_error: 3.6319 - loss: 13.1908 - regularization_loss: 2.0518 - total_loss: 15.2427"
     ]
    },
    {
     "name": "stdout",
     "output_type": "stream",
     "text": [
      "\b\b\b\b\b\b\b\b\b\b\b\b\b\b\b\b\b\b\b\b\b\b\b\b\b\b\b\b\b\b\b\b\b\b\b\b\b\b\b\b\b\b\b\b\b\b\b\b\b\b\b\b\b\b\b\b\b\b\b\b\b\b\b\b\b\b\b\b\b\b\b\b\b\b\b\b\b\b\b\b\b\b\b\b\b\b\b\b\b\b\b\b\b\b\b\b\b\b\b\b\b\b\b\b\b\b\b\b\b\b\b\b\b\b\b\b\b\b\b\b\b\b\b\b\b\b\b\b\b\b\b\b\b\b\b\b\b\b\b\b\b\b\b\b\b\b\b\b\r",
      "8/8 [==============================] - 0s 17ms/step - root_mean_squared_error: 3.6047 - loss: 12.9845 - regularization_loss: 2.0509 - total_loss: 15.0354 - val_root_mean_squared_error: 3.5080 - val_loss: 12.3207 - val_regularization_loss: 2.0499 - val_total_loss: 14.3706\n"
     ]
    },
    {
     "name": "stdout",
     "output_type": "stream",
     "text": [
      "Epoch 5/30\n",
      "\r",
      "1/8 [==>...........................] - ETA: 0s - root_mean_squared_error: 3.6067 - loss: 13.0086 - regularization_loss: 2.0499 - total_loss: 15.0585"
     ]
    },
    {
     "name": "stdout",
     "output_type": "stream",
     "text": [
      "\b\b\b\b\b\b\b\b\b\b\b\b\b\b\b\b\b\b\b\b\b\b\b\b\b\b\b\b\b\b\b\b\b\b\b\b\b\b\b\b\b\b\b\b\b\b\b\b\b\b\b\b\b\b\b\b\b\b\b\b\b\b\b\b\b\b\b\b\b\b\b\b\b\b\b\b\b\b\b\b\b\b\b\b\b\b\b\b\b\b\b\b\b\b\b\b\b\b\b\b\b\b\b\b\b\b\b\b\b\b\b\b\b\b\b\b\b\b\b\b\b\b\b\b\b\b\b\b\b\b\b\b\b\b\b\b\b\b\b\b\b\b\b\b\b\b\b\b\r",
      "8/8 [==============================] - 0s 15ms/step - root_mean_squared_error: 3.5801 - loss: 12.8085 - regularization_loss: 2.0490 - total_loss: 14.8576 - val_root_mean_squared_error: 3.4842 - val_loss: 12.1544 - val_regularization_loss: 2.0481 - val_total_loss: 14.2025\n"
     ]
    },
    {
     "name": "stdout",
     "output_type": "stream",
     "text": [
      "Epoch 6/30\n",
      "\r",
      "1/8 [==>...........................] - ETA: 0s - root_mean_squared_error: 3.5828 - loss: 12.8365 - regularization_loss: 2.0481 - total_loss: 14.8845"
     ]
    },
    {
     "name": "stdout",
     "output_type": "stream",
     "text": [
      "\b\b\b\b\b\b\b\b\b\b\b\b\b\b\b\b\b\b\b\b\b\b\b\b\b\b\b\b\b\b\b\b\b\b\b\b\b\b\b\b\b\b\b\b\b\b\b\b\b\b\b\b\b\b\b\b\b\b\b\b\b\b\b\b\b\b\b\b\b\b\b\b\b\b\b\b\b\b\b\b\b\b\b\b\b\b\b\b\b\b\b\b\b\b\b\b\b\b\b\b\b\b\b\b\b\b\b\b\b\b\b\b\b\b\b\b\b\b\b\b\b\b\b\b\b\b\b\b\b\b\b\b\b\b\b\b\b\b\b\b\b\b\b\b\b\b\b\b\r",
      "8/8 [==============================] - 0s 15ms/step - root_mean_squared_error: 3.5565 - loss: 12.6403 - regularization_loss: 2.0472 - total_loss: 14.6875 - val_root_mean_squared_error: 3.4610 - val_loss: 11.9937 - val_regularization_loss: 2.0462 - val_total_loss: 14.0400\n"
     ]
    },
    {
     "name": "stdout",
     "output_type": "stream",
     "text": [
      "Epoch 7/30\n",
      "\r",
      "1/8 [==>...........................] - ETA: 0s - root_mean_squared_error: 3.5595 - loss: 12.6699 - regularization_loss: 2.0462 - total_loss: 14.7161"
     ]
    },
    {
     "name": "stdout",
     "output_type": "stream",
     "text": [
      "\b\b\b\b\b\b\b\b\b\b\b\b\b\b\b\b\b\b\b\b\b\b\b\b\b\b\b\b\b\b\b\b\b\b\b\b\b\b\b\b\b\b\b\b\b\b\b\b\b\b\b\b\b\b\b\b\b\b\b\b\b\b\b\b\b\b\b\b\b\b\b\b\b\b\b\b\b\b\b\b\b\b\b\b\b\b\b\b\b\b\b\b\b\b\b\b\b\b\b\b\b\b\b\b\b\b\b\b\b\b\b\b\b\b\b\b\b\b\b\b\b\b\b\b\b\b\b\b\b\b\b\b\b\b\b\b\b\b\b\b\b\b\b\b\b\b\b\b\r",
      "8/8 [==============================] - 0s 15ms/step - root_mean_squared_error: 3.5333 - loss: 12.4762 - regularization_loss: 2.0454 - total_loss: 14.5216 - val_root_mean_squared_error: 3.4382 - val_loss: 11.8361 - val_regularization_loss: 2.0445 - val_total_loss: 13.8806\n"
     ]
    },
    {
     "name": "stdout",
     "output_type": "stream",
     "text": [
      "Epoch 8/30\n",
      "\r",
      "1/8 [==>...........................] - ETA: 0s - root_mean_squared_error: 3.5364 - loss: 12.5064 - regularization_loss: 2.0445 - total_loss: 14.5509"
     ]
    },
    {
     "name": "stdout",
     "output_type": "stream",
     "text": [
      "\b\b\b\b\b\b\b\b\b\b\b\b\b\b\b\b\b\b\b\b\b\b\b\b\b\b\b\b\b\b\b\b\b\b\b\b\b\b\b\b\b\b\b\b\b\b\b\b\b\b\b\b\b\b\b\b\b\b\b\b\b\b\b\b\b\b\b\b\b\b\b\b\b\b\b\b\b\b\b\b\b\b\b\b\b\b\b\b\b\b\b\b\b\b\b\b\b\b\b\b\b\b\b\b\b\b\b\b\b\b\b\b\b\b\b\b\b\b\b\b\b\b\b\b\b\b\b\b\b\b\b\b\b\b\b\b\b\b\b\b\b\b\b\b\b\b\b\b\r",
      "8/8 [==============================] - 0s 15ms/step - root_mean_squared_error: 3.5104 - loss: 12.3145 - regularization_loss: 2.0437 - total_loss: 14.3581 - val_root_mean_squared_error: 3.4154 - val_loss: 11.6802 - val_regularization_loss: 2.0428 - val_total_loss: 13.7230\n"
     ]
    },
    {
     "name": "stdout",
     "output_type": "stream",
     "text": [
      "Epoch 9/30\n",
      "\r",
      "1/8 [==>...........................] - ETA: 0s - root_mean_squared_error: 3.5135 - loss: 12.3445 - regularization_loss: 2.0428 - total_loss: 14.3873"
     ]
    },
    {
     "name": "stdout",
     "output_type": "stream",
     "text": [
      "\b\b\b\b\b\b\b\b\b\b\b\b\b\b\b\b\b\b\b\b\b\b\b\b\b\b\b\b\b\b\b\b\b\b\b\b\b\b\b\b\b\b\b\b\b\b\b\b\b\b\b\b\b\b\b\b\b\b\b\b\b\b\b\b\b\b\b\b\b\b\b\b\b\b\b\b\b\b\b\b\b\b\b\b\b\b\b\b\b\b\b\b\b\b\b\b\b\b\b\b\b\b\b\b\b\b\b\b\b\b\b\b\b\b\b\b\b\b\b\b\b\b\b\b\b\b\b\b\b\b\b\b\b\b\b\b\b\b\b\b\b\b\b\b\b\b\b\b\r",
      "8/8 [==============================] - 0s 15ms/step - root_mean_squared_error: 3.4874 - loss: 12.1539 - regularization_loss: 2.0420 - total_loss: 14.1959 - val_root_mean_squared_error: 3.3926 - val_loss: 11.5250 - val_regularization_loss: 2.0412 - val_total_loss: 13.5662\n"
     ]
    },
    {
     "name": "stdout",
     "output_type": "stream",
     "text": [
      "Epoch 10/30\n",
      "\r",
      "1/8 [==>...........................] - ETA: 0s - root_mean_squared_error: 3.4905 - loss: 12.1833 - regularization_loss: 2.0412 - total_loss: 14.2245"
     ]
    },
    {
     "name": "stdout",
     "output_type": "stream",
     "text": [
      "\b\b\b\b\b\b\b\b\b\b\b\b\b\b\b\b\b\b\b\b\b\b\b\b\b\b\b\b\b\b\b\b\b\b\b\b\b\b\b\b\b\b\b\b\b\b\b\b\b\b\b\b\b\b\b\b\b\b\b\b\b\b\b\b\b\b\b\b\b\b\b\b\b\b\b\b\b\b\b\b\b\b\b\b\b\b\b\b\b\b\b\b\b\b\b\b\b\b\b\b\b\b\b\b\b\b\b\b\b\b\b\b\b\b\b\b\b\b\b\b\b\b\b\b\b\b\b\b\b\b\b\b\b\b\b\b\b\b\b\b\b\b\b\b\b\b\b\b\r",
      "8/8 [==============================] - 0s 15ms/step - root_mean_squared_error: 3.4644 - loss: 11.9935 - regularization_loss: 2.0404 - total_loss: 14.0339 - val_root_mean_squared_error: 3.3696 - val_loss: 11.3696 - val_regularization_loss: 2.0396 - val_total_loss: 13.4092\n"
     ]
    },
    {
     "name": "stdout",
     "output_type": "stream",
     "text": [
      "Epoch 11/30\n",
      "\r",
      "1/8 [==>...........................] - ETA: 0s - root_mean_squared_error: 3.4673 - loss: 12.0219 - regularization_loss: 2.0396 - total_loss: 14.0615"
     ]
    },
    {
     "name": "stdout",
     "output_type": "stream",
     "text": [
      "\b\b\b\b\b\b\b\b\b\b\b\b\b\b\b\b\b\b\b\b\b\b\b\b\b\b\b\b\b\b\b\b\b\b\b\b\b\b\b\b\b\b\b\b\b\b\b\b\b\b\b\b\b\b\b\b\b\b\b\b\b\b\b\b\b\b\b\b\b\b\b\b\b\b\b\b\b\b\b\b\b\b\b\b\b\b\b\b\b\b\b\b\b\b\b\b\b\b\b\b\b\b\b\b\b\b\b\b\b\b\b\b\b\b\b\b\b\b\b\b\b\b\b\b\b\b\b\b\b\b\b\b\b\b\b\b\b\b\b\b\b\b\b\b\b\b\b\b\r",
      "8/8 [==============================] - 0s 16ms/step - root_mean_squared_error: 3.4411 - loss: 11.8326 - regularization_loss: 2.0388 - total_loss: 13.8715 - val_root_mean_squared_error: 3.3464 - val_loss: 11.2134 - val_regularization_loss: 2.0380 - val_total_loss: 13.2515\n"
     ]
    },
    {
     "name": "stdout",
     "output_type": "stream",
     "text": [
      "Epoch 12/30\n",
      "\r",
      "1/8 [==>...........................] - ETA: 0s - root_mean_squared_error: 3.4438 - loss: 11.8596 - regularization_loss: 2.0380 - total_loss: 13.8976"
     ]
    },
    {
     "name": "stdout",
     "output_type": "stream",
     "text": [
      "\b\b\b\b\b\b\b\b\b\b\b\b\b\b\b\b\b\b\b\b\b\b\b\b\b\b\b\b\b\b\b\b\b\b\b\b\b\b\b\b\b\b\b\b\b\b\b\b\b\b\b\b\b\b\b\b\b\b\b\b\b\b\b\b\b\b\b\b\b\b\b\b\b\b\b\b\b\b\b\b\b\b\b\b\b\b\b\b\b\b\b\b\b\b\b\b\b\b\b\b\b\b\b\b\b\b\b\b\b\b\b\b\b\b\b\b\b\b\b\b\b\b\b\b\b\b\b\b\b\b\b\b\b\b\b\b\b\b\b\b\b\b\b\b\b\b\b\b\r",
      "8/8 [==============================] - 0s 16ms/step - root_mean_squared_error: 3.4174 - loss: 11.6706 - regularization_loss: 2.0373 - total_loss: 13.7079 - val_root_mean_squared_error: 3.3228 - val_loss: 11.0559 - val_regularization_loss: 2.0366 - val_total_loss: 13.0924\n"
     ]
    },
    {
     "name": "stdout",
     "output_type": "stream",
     "text": [
      "Epoch 13/30\n",
      "\r",
      "1/8 [==>...........................] - ETA: 0s - root_mean_squared_error: 3.4199 - loss: 11.6959 - regularization_loss: 2.0366 - total_loss: 13.7324"
     ]
    },
    {
     "name": "stdout",
     "output_type": "stream",
     "text": [
      "\b\b\b\b\b\b\b\b\b\b\b\b\b\b\b\b\b\b\b\b\b\b\b\b\b\b\b\b\b\b\b\b\b\b\b\b\b\b\b\b\b\b\b\b\b\b\b\b\b\b\b\b\b\b\b\b\b\b\b\b\b\b\b\b\b\b\b\b\b\b\b\b\b\b\b\b\b\b\b\b\b\b\b\b\b\b\b\b\b\b\b\b\b\b\b\b\b\b\b\b\b\b\b\b\b\b\b\b\b\b\b\b\b\b\b\b\b\b\b\b\b\b\b\b\b\b\b\b\b\b\b\b\b\b\b\b\b\b\b\b\b\b\b\b\b\b\b\b\r",
      "8/8 [==============================] - 0s 16ms/step - root_mean_squared_error: 3.3934 - loss: 11.5071 - regularization_loss: 2.0359 - total_loss: 13.5429 - val_root_mean_squared_error: 3.2987 - val_loss: 10.8967 - val_regularization_loss: 2.0351 - val_total_loss: 12.9318\n"
     ]
    },
    {
     "name": "stdout",
     "output_type": "stream",
     "text": [
      "Epoch 14/30\n",
      "\r",
      "1/8 [==>...........................] - ETA: 0s - root_mean_squared_error: 3.3956 - loss: 11.5304 - regularization_loss: 2.0351 - total_loss: 13.5655"
     ]
    },
    {
     "name": "stdout",
     "output_type": "stream",
     "text": [
      "\b\b\b\b\b\b\b\b\b\b\b\b\b\b\b\b\b\b\b\b\b\b\b\b\b\b\b\b\b\b\b\b\b\b\b\b\b\b\b\b\b\b\b\b\b\b\b\b\b\b\b\b\b\b\b\b\b\b\b\b\b\b\b\b\b\b\b\b\b\b\b\b\b\b\b\b\b\b\b\b\b\b\b\b\b\b\b\b\b\b\b\b\b\b\b\b\b\b\b\b\b\b\b\b\b\b\b\b\b\b\b\b\b\b\b\b\b\b\b\b\b\b\b\b\b\b\b\b\b\b\b\b\b\b\b\b\b\b\b\b\b\b\b\b\b\b\b\b\r",
      "8/8 [==============================] - 0s 16ms/step - root_mean_squared_error: 3.3690 - loss: 11.3416 - regularization_loss: 2.0344 - total_loss: 13.3761 - val_root_mean_squared_error: 3.2742 - val_loss: 10.7357 - val_regularization_loss: 2.0337 - val_total_loss: 12.7695\n"
     ]
    },
    {
     "name": "stdout",
     "output_type": "stream",
     "text": [
      "Epoch 15/30\n",
      "\r",
      "1/8 [==>...........................] - ETA: 0s - root_mean_squared_error: 3.3709 - loss: 11.3630 - regularization_loss: 2.0337 - total_loss: 13.3967"
     ]
    },
    {
     "name": "stdout",
     "output_type": "stream",
     "text": [
      "\b\b\b\b\b\b\b\b\b\b\b\b\b\b\b\b\b\b\b\b\b\b\b\b\b\b\b\b\b\b\b\b\b\b\b\b\b\b\b\b\b\b\b\b\b\b\b\b\b\b\b\b\b\b\b\b\b\b\b\b\b\b\b\b\b\b\b\b\b\b\b\b\b\b\b\b\b\b\b\b\b\b\b\b\b\b\b\b\b\b\b\b\b\b\b\b\b\b\b\b\b\b\b\b\b\b\b\b\b\b\b\b\b\b\b\b\b\b\b\b\b\b\b\b\b\b\b\b\b\b\b\b\b\b\b\b\b\b\b\b\b\b\b\b\b\b\b\b\r",
      "8/8 [==============================] - 0s 15ms/step - root_mean_squared_error: 3.3441 - loss: 11.1742 - regularization_loss: 2.0331 - total_loss: 13.2073 - val_root_mean_squared_error: 3.2493 - val_loss: 10.5728 - val_regularization_loss: 2.0324 - val_total_loss: 12.6052\n"
     ]
    },
    {
     "name": "stdout",
     "output_type": "stream",
     "text": [
      "Epoch 16/30\n",
      "\r",
      "1/8 [==>...........................] - ETA: 0s - root_mean_squared_error: 3.3457 - loss: 11.1934 - regularization_loss: 2.0324 - total_loss: 13.2258"
     ]
    },
    {
     "name": "stdout",
     "output_type": "stream",
     "text": [
      "\b\b\b\b\b\b\b\b\b\b\b\b\b\b\b\b\b\b\b\b\b\b\b\b\b\b\b\b\b\b\b\b\b\b\b\b\b\b\b\b\b\b\b\b\b\b\b\b\b\b\b\b\b\b\b\b\b\b\b\b\b\b\b\b\b\b\b\b\b\b\b\b\b\b\b\b\b\b\b\b\b\b\b\b\b\b\b\b\b\b\b\b\b\b\b\b\b\b\b\b\b\b\b\b\b\b\b\b\b\b\b\b\b\b\b\b\b\b\b\b\b\b\b\b\b\b\b\b\b\b\b\b\b\b\b\b\b\b\b\b\b\b\b\b\b\b\b\b\r",
      "8/8 [==============================] - 0s 15ms/step - root_mean_squared_error: 3.3186 - loss: 11.0046 - regularization_loss: 2.0318 - total_loss: 13.0363 - val_root_mean_squared_error: 3.2238 - val_loss: 10.4078 - val_regularization_loss: 2.0311 - val_total_loss: 12.4389\n"
     ]
    },
    {
     "name": "stdout",
     "output_type": "stream",
     "text": [
      "Epoch 17/30\n",
      "\r",
      "1/8 [==>...........................] - ETA: 0s - root_mean_squared_error: 3.3199 - loss: 11.0216 - regularization_loss: 2.0311 - total_loss: 13.0527"
     ]
    },
    {
     "name": "stdout",
     "output_type": "stream",
     "text": [
      "\b\b\b\b\b\b\b\b\b\b\b\b\b\b\b\b\b\b\b\b\b\b\b\b\b\b\b\b\b\b\b\b\b\b\b\b\b\b\b\b\b\b\b\b\b\b\b\b\b\b\b\b\b\b\b\b\b\b\b\b\b\b\b\b\b\b\b\b\b\b\b\b\b\b\b\b\b\b\b\b\b\b\b\b\b\b\b\b\b\b\b\b\b\b\b\b\b\b\b\b\b\b\b\b\b\b\b\b\b\b\b\b\b\b\b\b\b\b\b\b\b\b\b\b\b\b\b\b\b\b\b\b\b\b\b\b\b\b\b\b\b\b\b\b\b\b\b\b\r",
      "8/8 [==============================] - 0s 17ms/step - root_mean_squared_error: 3.2927 - loss: 10.8328 - regularization_loss: 2.0305 - total_loss: 12.8632 - val_root_mean_squared_error: 3.1978 - val_loss: 10.2409 - val_regularization_loss: 2.0298 - val_total_loss: 12.2707\n"
     ]
    },
    {
     "name": "stdout",
     "output_type": "stream",
     "text": [
      "Epoch 18/30\n",
      "\r",
      "1/8 [==>...........................] - ETA: 0s - root_mean_squared_error: 3.2936 - loss: 10.8476 - regularization_loss: 2.0298 - total_loss: 12.8775"
     ]
    },
    {
     "name": "stdout",
     "output_type": "stream",
     "text": [
      "\b\b\b\b\b\b\b\b\b\b\b\b\b\b\b\b\b\b\b\b\b\b\b\b\b\b\b\b\b\b\b\b\b\b\b\b\b\b\b\b\b\b\b\b\b\b\b\b\b\b\b\b\b\b\b\b\b\b\b\b\b\b\b\b\b\b\b\b\b\b\b\b\b\b\b\b\b\b\b\b\b\b\b\b\b\b\b\b\b\b\b\b\b\b\b\b\b\b\b\b\b\b\b\b\b\b\b\b\b\b\b\b\b\b\b\b\b\b\b\b\b\b\b\b\b\b\b\b\b\b\b\b\b\b\b\b\b\b\b\b\b\b\b\b\b\b\b\b\r",
      "8/8 [==============================] - 0s 15ms/step - root_mean_squared_error: 3.2662 - loss: 10.6588 - regularization_loss: 2.0292 - total_loss: 12.6880 - val_root_mean_squared_error: 3.1713 - val_loss: 10.0719 - val_regularization_loss: 2.0286 - val_total_loss: 12.1005\n"
     ]
    },
    {
     "name": "stdout",
     "output_type": "stream",
     "text": [
      "Epoch 19/30\n",
      "\r",
      "1/8 [==>...........................] - ETA: 0s - root_mean_squared_error: 3.2667 - loss: 10.6715 - regularization_loss: 2.0286 - total_loss: 12.7001"
     ]
    },
    {
     "name": "stdout",
     "output_type": "stream",
     "text": [
      "\b\b\b\b\b\b\b\b\b\b\b\b\b\b\b\b\b\b\b\b\b\b\b\b\b\b\b\b\b\b\b\b\b\b\b\b\b\b\b\b\b\b\b\b\b\b\b\b\b\b\b\b\b\b\b\b\b\b\b\b\b\b\b\b\b\b\b\b\b\b\b\b\b\b\b\b\b\b\b\b\b\b\b\b\b\b\b\b\b\b\b\b\b\b\b\b\b\b\b\b\b\b\b\b\b\b\b\b\b\b\b\b\b\b\b\b\b\b\b\b\b\b\b\b\b\b\b\b\b\b\b\b\b\b\b\b\b\b\b\b\b\b\b\b\b\b\b\b\r",
      "8/8 [==============================] - 0s 15ms/step - root_mean_squared_error: 3.2391 - loss: 10.4827 - regularization_loss: 2.0280 - total_loss: 12.5107 - val_root_mean_squared_error: 3.1442 - val_loss: 9.9010 - val_regularization_loss: 2.0274 - val_total_loss: 11.9285\n"
     ]
    },
    {
     "name": "stdout",
     "output_type": "stream",
     "text": [
      "Epoch 20/30\n",
      "\r",
      "1/8 [==>...........................] - ETA: 0s - root_mean_squared_error: 3.2393 - loss: 10.4932 - regularization_loss: 2.0274 - total_loss: 12.5207"
     ]
    },
    {
     "name": "stdout",
     "output_type": "stream",
     "text": [
      "\b\b\b\b\b\b\b\b\b\b\b\b\b\b\b\b\b\b\b\b\b\b\b\b\b\b\b\b\b\b\b\b\b\b\b\b\b\b\b\b\b\b\b\b\b\b\b\b\b\b\b\b\b\b\b\b\b\b\b\b\b\b\b\b\b\b\b\b\b\b\b\b\b\b\b\b\b\b\b\b\b\b\b\b\b\b\b\b\b\b\b\b\b\b\b\b\b\b\b\b\b\b\b\b\b\b\b\b\b\b\b\b\b\b\b\b\b\b\b\b\b\b\b\b\b\b\b\b\b\b\b\b\b\b\b\b\b\b\b\b\b\b\b\b\b\b\b\b\r",
      "8/8 [==============================] - 0s 16ms/step - root_mean_squared_error: 3.2115 - loss: 10.3046 - regularization_loss: 2.0269 - total_loss: 12.3315 - val_root_mean_squared_error: 3.1166 - val_loss: 9.7283 - val_regularization_loss: 2.0263 - val_total_loss: 11.7546\n"
     ]
    },
    {
     "name": "stdout",
     "output_type": "stream",
     "text": [
      "Epoch 21/30\n",
      "\r",
      "1/8 [==>...........................] - ETA: 0s - root_mean_squared_error: 3.2114 - loss: 10.3130 - regularization_loss: 2.0263 - total_loss: 12.3393"
     ]
    },
    {
     "name": "stdout",
     "output_type": "stream",
     "text": [
      "\b\b\b\b\b\b\b\b\b\b\b\b\b\b\b\b\b\b\b\b\b\b\b\b\b\b\b\b\b\b\b\b\b\b\b\b\b\b\b\b\b\b\b\b\b\b\b\b\b\b\b\b\b\b\b\b\b\b\b\b\b\b\b\b\b\b\b\b\b\b\b\b\b\b\b\b\b\b\b\b\b\b\b\b\b\b\b\b\b\b\b\b\b\b\b\b\b\b\b\b\b\b\b\b\b\b\b\b\b\b\b\b\b\b\b\b\b\b\b\b\b\b\b\b\b\b\b\b\b\b\b\b\b\b\b\b\b\b\b\b\b\b\b\b\b\b\b\b\r",
      "8/8 [==============================] - 0s 15ms/step - root_mean_squared_error: 3.1834 - loss: 10.1246 - regularization_loss: 2.0258 - total_loss: 12.1504 - val_root_mean_squared_error: 3.0886 - val_loss: 9.5540 - val_regularization_loss: 2.0252 - val_total_loss: 11.5792\n"
     ]
    },
    {
     "name": "stdout",
     "output_type": "stream",
     "text": [
      "Epoch 22/30\n",
      "\r",
      "1/8 [==>...........................] - ETA: 0s - root_mean_squared_error: 3.1829 - loss: 10.1310 - regularization_loss: 2.0252 - total_loss: 12.1562"
     ]
    },
    {
     "name": "stdout",
     "output_type": "stream",
     "text": [
      "\b\b\b\b\b\b\b\b\b\b\b\b\b\b\b\b\b\b\b\b\b\b\b\b\b\b\b\b\b\b\b\b\b\b\b\b\b\b\b\b\b\b\b\b\b\b\b\b\b\b\b\b\b\b\b\b\b\b\b\b\b\b\b\b\b\b\b\b\b\b\b\b\b\b\b\b\b\b\b\b\b\b\b\b\b\b\b\b\b\b\b\b\b\b\b\b\b\b\b\b\b\b\b\b\b\b\b\b\b\b\b\b\b\b\b\b\b\b\b\b\b\b\b\b\b\b\b\b\b\b\b\b\b\b\b\b\b\b\b\b\b\b\b\b\b\b\b\b\r",
      "8/8 [==============================] - 0s 15ms/step - root_mean_squared_error: 3.1547 - loss: 9.9429 - regularization_loss: 2.0247 - total_loss: 11.9676 - val_root_mean_squared_error: 3.0600 - val_loss: 9.3782 - val_regularization_loss: 2.0241 - val_total_loss: 11.4023\n"
     ]
    },
    {
     "name": "stdout",
     "output_type": "stream",
     "text": [
      "Epoch 23/30\n",
      "\r",
      "1/8 [==>...........................] - ETA: 0s - root_mean_squared_error: 3.1539 - loss: 9.9473 - regularization_loss: 2.0241 - total_loss: 11.9714"
     ]
    },
    {
     "name": "stdout",
     "output_type": "stream",
     "text": [
      "\b\b\b\b\b\b\b\b\b\b\b\b\b\b\b\b\b\b\b\b\b\b\b\b\b\b\b\b\b\b\b\b\b\b\b\b\b\b\b\b\b\b\b\b\b\b\b\b\b\b\b\b\b\b\b\b\b\b\b\b\b\b\b\b\b\b\b\b\b\b\b\b\b\b\b\b\b\b\b\b\b\b\b\b\b\b\b\b\b\b\b\b\b\b\b\b\b\b\b\b\b\b\b\b\b\b\b\b\b\b\b\b\b\b\b\b\b\b\b\b\b\b\b\b\b\b\b\b\b\b\b\b\b\b\b\b\b\b\b\b\b\b\b\b\b\b\b\r",
      "8/8 [==============================] - 0s 15ms/step - root_mean_squared_error: 3.1255 - loss: 9.7596 - regularization_loss: 2.0236 - total_loss: 11.7832 - val_root_mean_squared_error: 3.0309 - val_loss: 9.2010 - val_regularization_loss: 2.0231 - val_total_loss: 11.2242\n"
     ]
    },
    {
     "name": "stdout",
     "output_type": "stream",
     "text": [
      "Epoch 24/30\n",
      "\r",
      "1/8 [==>...........................] - ETA: 0s - root_mean_squared_error: 3.1244 - loss: 9.7621 - regularization_loss: 2.0231 - total_loss: 11.7852"
     ]
    },
    {
     "name": "stdout",
     "output_type": "stream",
     "text": [
      "\b\b\b\b\b\b\b\b\b\b\b\b\b\b\b\b\b\b\b\b\b\b\b\b\b\b\b\b\b\b\b\b\b\b\b\b\b\b\b\b\b\b\b\b\b\b\b\b\b\b\b\b\b\b\b\b\b\b\b\b\b\b\b\b\b\b\b\b\b\b\b\b\b\b\b\b\b\b\b\b\b\b\b\b\b\b\b\b\b\b\b\b\b\b\b\b\b\b\b\b\b\b\b\b\b\b\b\b\b\b\b\b\b\b\b\b\b\b\b\b\b\b\b\b\b\b\b\b\b\b\b\b\b\b\b\b\b\b\b\b\b\b\b\b\b\b\b\r",
      "8/8 [==============================] - 0s 15ms/step - root_mean_squared_error: 3.0959 - loss: 9.5749 - regularization_loss: 2.0226 - total_loss: 11.5976 - val_root_mean_squared_error: 3.0014 - val_loss: 9.0228 - val_regularization_loss: 2.0221 - val_total_loss: 11.0449\n"
     ]
    },
    {
     "name": "stdout",
     "output_type": "stream",
     "text": [
      "Epoch 25/30\n",
      "\r",
      "1/8 [==>...........................] - ETA: 0s - root_mean_squared_error: 3.0945 - loss: 9.5757 - regularization_loss: 2.0221 - total_loss: 11.5978"
     ]
    },
    {
     "name": "stdout",
     "output_type": "stream",
     "text": [
      "\b\b\b\b\b\b\b\b\b\b\b\b\b\b\b\b\b\b\b\b\b\b\b\b\b\b\b\b\b\b\b\b\b\b\b\b\b\b\b\b\b\b\b\b\b\b\b\b\b\b\b\b\b\b\b\b\b\b\b\b\b\b\b\b\b\b\b\b\b\b\b\b\b\b\b\b\b\b\b\b\b\b\b\b\b\b\b\b\b\b\b\b\b\b\b\b\b\b\b\b\b\b\b\b\b\b\b\b\b\b\b\b\b\b\b\b\b\b\b\b\b\b\b\b\b\b\b\b\b\b\b\b\b\b\b\b\b\b\b\b\b\b\b\b\b\b\b\r",
      "8/8 [==============================] - 0s 15ms/step - root_mean_squared_error: 3.0657 - loss: 9.3891 - regularization_loss: 2.0217 - total_loss: 11.4108 - val_root_mean_squared_error: 2.9714 - val_loss: 8.8436 - val_regularization_loss: 2.0212 - val_total_loss: 10.8647\n"
     ]
    },
    {
     "name": "stdout",
     "output_type": "stream",
     "text": [
      "Epoch 26/30\n",
      "\r",
      "1/8 [==>...........................] - ETA: 0s - root_mean_squared_error: 3.0640 - loss: 9.3881 - regularization_loss: 2.0212 - total_loss: 11.4093"
     ]
    },
    {
     "name": "stdout",
     "output_type": "stream",
     "text": [
      "\b\b\b\b\b\b\b\b\b\b\b\b\b\b\b\b\b\b\b\b\b\b\b\b\b\b\b\b\b\b\b\b\b\b\b\b\b\b\b\b\b\b\b\b\b\b\b\b\b\b\b\b\b\b\b\b\b\b\b\b\b\b\b\b\b\b\b\b\b\b\b\b\b\b\b\b\b\b\b\b\b\b\b\b\b\b\b\b\b\b\b\b\b\b\b\b\b\b\b\b\b\b\b\b\b\b\b\b\b\b\b\b\b\b\b\b\b\b\b\b\b\b\b\b\b\b\b\b\b\b\b\b\b\b\b\b\b\b\b\b\b\b\b\b\b\b\b\r",
      "8/8 [==============================] - 0s 16ms/step - root_mean_squared_error: 3.0351 - loss: 9.2024 - regularization_loss: 2.0207 - total_loss: 11.2231 - val_root_mean_squared_error: 2.9409 - val_loss: 8.6636 - val_regularization_loss: 2.0202 - val_total_loss: 10.6839\n"
     ]
    },
    {
     "name": "stdout",
     "output_type": "stream",
     "text": [
      "Epoch 27/30\n",
      "\r",
      "1/8 [==>...........................] - ETA: 0s - root_mean_squared_error: 3.0331 - loss: 9.1997 - regularization_loss: 2.0202 - total_loss: 11.2199"
     ]
    },
    {
     "name": "stdout",
     "output_type": "stream",
     "text": [
      "\b\b\b\b\b\b\b\b\b\b\b\b\b\b\b\b\b\b\b\b\b\b\b\b\b\b\b\b\b\b\b\b\b\b\b\b\b\b\b\b\b\b\b\b\b\b\b\b\b\b\b\b\b\b\b\b\b\b\b\b\b\b\b\b\b\b\b\b\b\b\b\b\b\b\b\b\b\b\b\b\b\b\b\b\b\b\b\b\b\b\b\b\b\b\b\b\b\b\b\b\b\b\b\b\b\b\b\b\b\b\b\b\b\b\b\b\b\b\b\b\b\b\b\b\b\b\b\b\b\b\b\b\b\b\b\b\b\b\b\b\b\b\b\b\b\b\b\r",
      "8/8 [==============================] - 0s 15ms/step - root_mean_squared_error: 3.0041 - loss: 9.0149 - regularization_loss: 2.0198 - total_loss: 11.0347 - val_root_mean_squared_error: 2.9101 - val_loss: 8.4832 - val_regularization_loss: 2.0193 - val_total_loss: 10.5025\n"
     ]
    },
    {
     "name": "stdout",
     "output_type": "stream",
     "text": [
      "Epoch 28/30\n",
      "\r",
      "1/8 [==>...........................] - ETA: 0s - root_mean_squared_error: 3.0018 - loss: 9.0107 - regularization_loss: 2.0193 - total_loss: 11.0300"
     ]
    },
    {
     "name": "stdout",
     "output_type": "stream",
     "text": [
      "\b\b\b\b\b\b\b\b\b\b\b\b\b\b\b\b\b\b\b\b\b\b\b\b\b\b\b\b\b\b\b\b\b\b\b\b\b\b\b\b\b\b\b\b\b\b\b\b\b\b\b\b\b\b\b\b\b\b\b\b\b\b\b\b\b\b\b\b\b\b\b\b\b\b\b\b\b\b\b\b\b\b\b\b\b\b\b\b\b\b\b\b\b\b\b\b\b\b\b\b\b\b\b\b\b\b\b\b\b\b\b\b\b\b\b\b\b\b\b\b\b\b\b\b\b\b\b\b\b\b\b\b\b\b\b\b\b\b\b\b\b\b\b\b\b\b\b\r",
      "8/8 [==============================] - 0s 15ms/step - root_mean_squared_error: 2.9726 - loss: 8.8268 - regularization_loss: 2.0189 - total_loss: 10.8457 - val_root_mean_squared_error: 2.8789 - val_loss: 8.3025 - val_regularization_loss: 2.0184 - val_total_loss: 10.3209\n"
     ]
    },
    {
     "name": "stdout",
     "output_type": "stream",
     "text": [
      "Epoch 29/30\n",
      "\r",
      "1/8 [==>...........................] - ETA: 0s - root_mean_squared_error: 2.9701 - loss: 8.8212 - regularization_loss: 2.0184 - total_loss: 10.8397"
     ]
    },
    {
     "name": "stdout",
     "output_type": "stream",
     "text": [
      "\b\b\b\b\b\b\b\b\b\b\b\b\b\b\b\b\b\b\b\b\b\b\b\b\b\b\b\b\b\b\b\b\b\b\b\b\b\b\b\b\b\b\b\b\b\b\b\b\b\b\b\b\b\b\b\b\b\b\b\b\b\b\b\b\b\b\b\b\b\b\b\b\b\b\b\b\b\b\b\b\b\b\b\b\b\b\b\b\b\b\b\b\b\b\b\b\b\b\b\b\b\b\b\b\b\b\b\b\b\b\b\b\b\b\b\b\b\b\b\b\b\b\b\b\b\b\b\b\b\b\b\b\b\b\b\b\b\b\b\b\b\b\b\b\b\b\b\r",
      "8/8 [==============================] - 0s 16ms/step - root_mean_squared_error: 2.9408 - loss: 8.6385 - regularization_loss: 2.0180 - total_loss: 10.6565 - val_root_mean_squared_error: 2.8474 - val_loss: 8.1217 - val_regularization_loss: 2.0176 - val_total_loss: 10.1393\n"
     ]
    },
    {
     "name": "stdout",
     "output_type": "stream",
     "text": [
      "Epoch 30/30\n",
      "\r",
      "1/8 [==>...........................] - ETA: 0s - root_mean_squared_error: 2.9380 - loss: 8.6316 - regularization_loss: 2.0176 - total_loss: 10.6492"
     ]
    },
    {
     "name": "stdout",
     "output_type": "stream",
     "text": [
      "\b\b\b\b\b\b\b\b\b\b\b\b\b\b\b\b\b\b\b\b\b\b\b\b\b\b\b\b\b\b\b\b\b\b\b\b\b\b\b\b\b\b\b\b\b\b\b\b\b\b\b\b\b\b\b\b\b\b\b\b\b\b\b\b\b\b\b\b\b\b\b\b\b\b\b\b\b\b\b\b\b\b\b\b\b\b\b\b\b\b\b\b\b\b\b\b\b\b\b\b\b\b\b\b\b\b\b\b\b\b\b\b\b\b\b\b\b\b\b\b\b\b\b\b\b\b\b\b\b\b\b\b\b\b\b\b\b\b\b\b\b\b\b\b\b\b\b\r",
      "8/8 [==============================] - 0s 16ms/step - root_mean_squared_error: 2.9086 - loss: 8.4501 - regularization_loss: 2.0172 - total_loss: 10.4673 - val_root_mean_squared_error: 2.8155 - val_loss: 7.9411 - val_regularization_loss: 2.0168 - val_total_loss: 9.9578\n"
     ]
    },
    {
     "name": "stdout",
     "output_type": "stream",
     "text": [
      "Learning rate = 0.01\n"
     ]
    },
    {
     "name": "stdout",
     "output_type": "stream",
     "text": [
      "Epoch 1/30\n"
     ]
    },
    {
     "name": "stdout",
     "output_type": "stream",
     "text": [
      "\r",
      "      1/Unknown - 0s 463ms/step - root_mean_squared_error: 3.7230 - loss: 13.8606 - regularization_loss: 2.0473 - total_loss: 15.9079"
     ]
    },
    {
     "name": "stdout",
     "output_type": "stream",
     "text": [
      "\b\b\b\b\b\b\b\b\b\b\b\b\b\b\b\b\b\b\b\b\b\b\b\b\b\b\b\b\b\b\b\b\b\b\b\b\b\b\b\b\b\b\b\b\b\b\b\b\b\b\b\b\b\b\b\b\b\b\b\b\b\b\b\b\b\b\b\b\b\b\b\b\b\b\b\b\b\b\b\b\b\b\b\b\b\b\b\b\b\b\b\b\b\b\b\b\b\b\b\b\b\b\b\b\b\b\b\b\b\b\b\b\b\b\b\b\b\b\b\b\b\b\b\b\b\b\b\b\b\b\b\b\b\r",
      "8/8 [==============================] - 1s 29ms/step - root_mean_squared_error: 3.3355 - loss: 10.8156 - regularization_loss: 2.0394 - total_loss: 12.8550 - val_root_mean_squared_error: 2.6771 - val_loss: 7.1777 - val_regularization_loss: 2.0336 - val_total_loss: 9.2114\n"
     ]
    },
    {
     "name": "stdout",
     "output_type": "stream",
     "text": [
      "Epoch 2/30\n",
      "\r",
      "1/8 [==>...........................] - ETA: 0s - root_mean_squared_error: 2.7674 - loss: 7.6586 - regularization_loss: 2.0336 - total_loss: 9.6922"
     ]
    },
    {
     "name": "stdout",
     "output_type": "stream",
     "text": [
      "\b\b\b\b\b\b\b\b\b\b\b\b\b\b\b\b\b\b\b\b\b\b\b\b\b\b\b\b\b\b\b\b\b\b\b\b\b\b\b\b\b\b\b\b\b\b\b\b\b\b\b\b\b\b\b\b\b\b\b\b\b\b\b\b\b\b\b\b\b\b\b\b\b\b\b\b\b\b\b\b\b\b\b\b\b\b\b\b\b\b\b\b\b\b\b\b\b\b\b\b\b\b\b\b\b\b\b\b\b\b\b\b\b\b\b\b\b\b\b\b\b\b\b\b\b\b\b\b\b\b\b\b\b\b\b\b\b\b\b\b\b\b\b\b\b\b\r",
      "8/8 [==============================] - 0s 16ms/step - root_mean_squared_error: 2.2224 - loss: 4.6845 - regularization_loss: 2.0330 - total_loss: 6.7175 - val_root_mean_squared_error: 1.4772 - val_loss: 2.1884 - val_regularization_loss: 2.0329 - val_total_loss: 4.2213\n"
     ]
    },
    {
     "name": "stdout",
     "output_type": "stream",
     "text": [
      "Epoch 3/30\n",
      "\r",
      "1/8 [==>...........................] - ETA: 0s - root_mean_squared_error: 1.5334 - loss: 2.3512 - regularization_loss: 2.0329 - total_loss: 4.3841"
     ]
    },
    {
     "name": "stdout",
     "output_type": "stream",
     "text": [
      "\b\b\b\b\b\b\b\b\b\b\b\b\b\b\b\b\b\b\b\b\b\b\b\b\b\b\b\b\b\b\b\b\b\b\b\b\b\b\b\b\b\b\b\b\b\b\b\b\b\b\b\b\b\b\b\b\b\b\b\b\b\b\b\b\b\b\b\b\b\b\b\b\b\b\b\b\b\b\b\b\b\b\b\b\b\b\b\b\b\b\b\b\b\b\b\b\b\b\b\b\b\b\b\b\b\b\b\b\b\b\b\b\b\b\b\b\b\b\b\b\b\b\b\b\b\b\b\b\b\b\b\b\b\b\b\b\b\b\b\b\b\b\b\b\b\b\r",
      "8/8 [==============================] - 0s 15ms/step - root_mean_squared_error: 1.2910 - loss: 1.6266 - regularization_loss: 2.0298 - total_loss: 3.6564 - val_root_mean_squared_error: 1.1409 - val_loss: 1.3066 - val_regularization_loss: 2.0241 - val_total_loss: 3.3308\n"
     ]
    },
    {
     "name": "stdout",
     "output_type": "stream",
     "text": [
      "Epoch 4/30\n",
      "\r",
      "1/8 [==>...........................] - ETA: 0s - root_mean_squared_error: 1.1415 - loss: 1.3030 - regularization_loss: 2.0241 - total_loss: 3.3272"
     ]
    },
    {
     "name": "stdout",
     "output_type": "stream",
     "text": [
      "\b\b\b\b\b\b\b\b\b\b\b\b\b\b\b\b\b\b\b\b\b\b\b\b\b\b\b\b\b\b\b\b\b\b\b\b\b\b\b\b\b\b\b\b\b\b\b\b\b\b\b\b\b\b\b\b\b\b\b\b\b\b\b\b\b\b\b\b\b\b\b\b\b\b\b\b\b\b\b\b\b\b\b\b\b\b\b\b\b\b\b\b\b\b\b\b\b\b\b\b\b\b\b\b\b\b\b\b\b\b\b\b\b\b\b\b\b\b\b\b\b\b\b\b\b\b\b\b\b\b\b\b\b\b\b\b\b\b\b\b\b\b\b\b\b\b\r",
      "8/8 [==============================] - 0s 17ms/step - root_mean_squared_error: 1.1280 - loss: 1.2698 - regularization_loss: 2.0159 - total_loss: 3.2856 - val_root_mean_squared_error: 1.1354 - val_loss: 1.2939 - val_regularization_loss: 2.0064 - val_total_loss: 3.3003\n"
     ]
    },
    {
     "name": "stdout",
     "output_type": "stream",
     "text": [
      "Epoch 5/30\n",
      "\r",
      "1/8 [==>...........................] - ETA: 0s - root_mean_squared_error: 1.1209 - loss: 1.2564 - regularization_loss: 2.0064 - total_loss: 3.2628"
     ]
    },
    {
     "name": "stdout",
     "output_type": "stream",
     "text": [
      "\b\b\b\b\b\b\b\b\b\b\b\b\b\b\b\b\b\b\b\b\b\b\b\b\b\b\b\b\b\b\b\b\b\b\b\b\b\b\b\b\b\b\b\b\b\b\b\b\b\b\b\b\b\b\b\b\b\b\b\b\b\b\b\b\b\b\b\b\b\b\b\b\b\b\b\b\b\b\b\b\b\b\b\b\b\b\b\b\b\b\b\b\b\b\b\b\b\b\b\b\b\b\b\b\b\b\b\b\b\b\b\b\b\b\b\b\b\b\b\b\b\b\b\b\b\b\b\b\b\b\b\b\b\b\b\b\b\b\b\b\b\b\b\b\b\b\r",
      "8/8 [==============================] - 0s 16ms/step - root_mean_squared_error: 1.1207 - loss: 1.2545 - regularization_loss: 1.9971 - total_loss: 3.2516 - val_root_mean_squared_error: 1.1361 - val_loss: 1.2954 - val_regularization_loss: 1.9870 - val_total_loss: 3.2825\n"
     ]
    },
    {
     "name": "stdout",
     "output_type": "stream",
     "text": [
      "Epoch 6/30\n",
      "\r",
      "1/8 [==>...........................] - ETA: 0s - root_mean_squared_error: 1.1184 - loss: 1.2509 - regularization_loss: 1.9870 - total_loss: 3.2380"
     ]
    },
    {
     "name": "stdout",
     "output_type": "stream",
     "text": [
      "\b\b\b\b\b\b\b\b\b\b\b\b\b\b\b\b\b\b\b\b\b\b\b\b\b\b\b\b\b\b\b\b\b\b\b\b\b\b\b\b\b\b\b\b\b\b\b\b\b\b\b\b\b\b\b\b\b\b\b\b\b\b\b\b\b\b\b\b\b\b\b\b\b\b\b\b\b\b\b\b\b\b\b\b\b\b\b\b\b\b\b\b\b\b\b\b\b\b\b\b\b\b\b\b\b\b\b\b\b\b\b\b\b\b\b\b\b\b\b\b\b\b\b\b\b\b\b\b\b\b\b\b\b\b\b\b\b\b\b\b\b\b\b\b\b\b\r",
      "8/8 [==============================] - 0s 16ms/step - root_mean_squared_error: 1.1187 - loss: 1.2500 - regularization_loss: 1.9776 - total_loss: 3.2276 - val_root_mean_squared_error: 1.1360 - val_loss: 1.2951 - val_regularization_loss: 1.9676 - val_total_loss: 3.2628\n"
     ]
    },
    {
     "name": "stdout",
     "output_type": "stream",
     "text": [
      "Epoch 7/30\n",
      "\r",
      "1/8 [==>...........................] - ETA: 0s - root_mean_squared_error: 1.1167 - loss: 1.2471 - regularization_loss: 1.9676 - total_loss: 3.2147"
     ]
    },
    {
     "name": "stdout",
     "output_type": "stream",
     "text": [
      "\b\b\b\b\b\b\b\b\b\b\b\b\b\b\b\b\b\b\b\b\b\b\b\b\b\b\b\b\b\b\b\b\b\b\b\b\b\b\b\b\b\b\b\b\b\b\b\b\b\b\b\b\b\b\b\b\b\b\b\b\b\b\b\b\b\b\b\b\b\b\b\b\b\b\b\b\b\b\b\b\b\b\b\b\b\b\b\b\b\b\b\b\b\b\b\b\b\b\b\b\b\b\b\b\b\b\b\b\b\b\b\b\b\b\b\b\b\b\b\b\b\b\b\b\b\b\b\b\b\b\b\b\b\b\b\b\b\b\b\b\b\b\b\b\b\b\r",
      "8/8 [==============================] - 0s 16ms/step - root_mean_squared_error: 1.1168 - loss: 1.2459 - regularization_loss: 1.9583 - total_loss: 3.2042 - val_root_mean_squared_error: 1.1357 - val_loss: 1.2946 - val_regularization_loss: 1.9484 - val_total_loss: 3.2430\n"
     ]
    },
    {
     "name": "stdout",
     "output_type": "stream",
     "text": [
      "Epoch 8/30\n",
      "\r",
      "1/8 [==>...........................] - ETA: 0s - root_mean_squared_error: 1.1151 - loss: 1.2434 - regularization_loss: 1.9484 - total_loss: 3.1918"
     ]
    },
    {
     "name": "stdout",
     "output_type": "stream",
     "text": [
      "\b\b\b\b\b\b\b\b\b\b\b\b\b\b\b\b\b\b\b\b\b\b\b\b\b\b\b\b\b\b\b\b\b\b\b\b\b\b\b\b\b\b\b\b\b\b\b\b\b\b\b\b\b\b\b\b\b\b\b\b\b\b\b\b\b\b\b\b\b\b\b\b\b\b\b\b\b\b\b\b\b\b\b\b\b\b\b\b\b\b\b\b\b\b\b\b\b\b\b\b\b\b\b\b\b\b\b\b\b\b\b\b\b\b\b\b\b\b\b\b\b\b\b\b\b\b\b\b\b\b\b\b\b\b\b\b\b\b\b\b\b\b\b\b\b\b\r",
      "8/8 [==============================] - 0s 16ms/step - root_mean_squared_error: 1.1150 - loss: 1.2419 - regularization_loss: 1.9392 - total_loss: 3.1811 - val_root_mean_squared_error: 1.1355 - val_loss: 1.2940 - val_regularization_loss: 1.9294 - val_total_loss: 3.2234\n"
     ]
    },
    {
     "name": "stdout",
     "output_type": "stream",
     "text": [
      "Epoch 9/30\n",
      "\r",
      "1/8 [==>...........................] - ETA: 0s - root_mean_squared_error: 1.1134 - loss: 1.2398 - regularization_loss: 1.9294 - total_loss: 3.1692"
     ]
    },
    {
     "name": "stdout",
     "output_type": "stream",
     "text": [
      "\b\b\b\b\b\b\b\b\b\b\b\b\b\b\b\b\b\b\b\b\b\b\b\b\b\b\b\b\b\b\b\b\b\b\b\b\b\b\b\b\b\b\b\b\b\b\b\b\b\b\b\b\b\b\b\b\b\b\b\b\b\b\b\b\b\b\b\b\b\b\b\b\b\b\b\b\b\b\b\b\b\b\b\b\b\b\b\b\b\b\b\b\b\b\b\b\b\b\b\b\b\b\b\b\b\b\b\b\b\b\b\b\b\b\b\b\b\b\b\b\b\b\b\b\b\b\b\b\b\b\b\b\b\b\b\b\b\b\b\b\b\b\b\b\b\b\r",
      "8/8 [==============================] - 0s 15ms/step - root_mean_squared_error: 1.1132 - loss: 1.2379 - regularization_loss: 1.9203 - total_loss: 3.1583 - val_root_mean_squared_error: 1.1352 - val_loss: 1.2934 - val_regularization_loss: 1.9107 - val_total_loss: 3.2041\n"
     ]
    },
    {
     "name": "stdout",
     "output_type": "stream",
     "text": [
      "Epoch 10/30\n",
      "\r",
      "1/8 [==>...........................] - ETA: 0s - root_mean_squared_error: 1.1118 - loss: 1.2361 - regularization_loss: 1.9107 - total_loss: 3.1468"
     ]
    },
    {
     "name": "stdout",
     "output_type": "stream",
     "text": [
      "\b\b\b\b\b\b\b\b\b\b\b\b\b\b\b\b\b\b\b\b\b\b\b\b\b\b\b\b\b\b\b\b\b\b\b\b\b\b\b\b\b\b\b\b\b\b\b\b\b\b\b\b\b\b\b\b\b\b\b\b\b\b\b\b\b\b\b\b\b\b\b\b\b\b\b\b\b\b\b\b\b\b\b\b\b\b\b\b\b\b\b\b\b\b\b\b\b\b\b\b\b\b\b\b\b\b\b\b\b\b\b\b\b\b\b\b\b\b\b\b\b\b\b\b\b\b\b\b\b\b\b\b\b\b\b\b\b\b\b\b\b\b\b\b\b\b\r",
      "8/8 [==============================] - 0s 15ms/step - root_mean_squared_error: 1.1115 - loss: 1.2340 - regularization_loss: 1.9016 - total_loss: 3.1356 - val_root_mean_squared_error: 1.1350 - val_loss: 1.2929 - val_regularization_loss: 1.8921 - val_total_loss: 3.1850\n"
     ]
    },
    {
     "name": "stdout",
     "output_type": "stream",
     "text": [
      "Epoch 11/30\n",
      "\r",
      "1/8 [==>...........................] - ETA: 0s - root_mean_squared_error: 1.1102 - loss: 1.2325 - regularization_loss: 1.8921 - total_loss: 3.1246"
     ]
    },
    {
     "name": "stdout",
     "output_type": "stream",
     "text": [
      "\b\b\b\b\b\b\b\b\b\b\b\b\b\b\b\b\b\b\b\b\b\b\b\b\b\b\b\b\b\b\b\b\b\b\b\b\b\b\b\b\b\b\b\b\b\b\b\b\b\b\b\b\b\b\b\b\b\b\b\b\b\b\b\b\b\b\b\b\b\b\b\b\b\b\b\b\b\b\b\b\b\b\b\b\b\b\b\b\b\b\b\b\b\b\b\b\b\b\b\b\b\b\b\b\b\b\b\b\b\b\b\b\b\b\b\b\b\b\b\b\b\b\b\b\b\b\b\b\b\b\b\b\b\b\b\b\b\b\b\b\b\b\b\b\b\b\r",
      "8/8 [==============================] - 0s 16ms/step - root_mean_squared_error: 1.1097 - loss: 1.2300 - regularization_loss: 1.8832 - total_loss: 3.1131 - val_root_mean_squared_error: 1.1348 - val_loss: 1.2924 - val_regularization_loss: 1.8738 - val_total_loss: 3.1661\n"
     ]
    },
    {
     "name": "stdout",
     "output_type": "stream",
     "text": [
      "Epoch 12/30\n",
      "\r",
      "1/8 [==>...........................] - ETA: 0s - root_mean_squared_error: 1.1085 - loss: 1.2289 - regularization_loss: 1.8738 - total_loss: 3.1026"
     ]
    },
    {
     "name": "stdout",
     "output_type": "stream",
     "text": [
      "\b\b\b\b\b\b\b\b\b\b\b\b\b\b\b\b\b\b\b\b\b\b\b\b\b\b\b\b\b\b\b\b\b\b\b\b\b\b\b\b\b\b\b\b\b\b\b\b\b\b\b\b\b\b\b\b\b\b\b\b\b\b\b\b\b\b\b\b\b\b\b\b\b\b\b\b\b\b\b\b\b\b\b\b\b\b\b\b\b\b\b\b\b\b\b\b\b\b\b\b\b\b\b\b\b\b\b\b\b\b\b\b\b\b\b\b\b\b\b\b\b\b\b\b\b\b\b\b\b\b\b\b\b\b\b\b\b\b\b\b\b\b\b\b\b\b\r",
      "8/8 [==============================] - 0s 16ms/step - root_mean_squared_error: 1.1078 - loss: 1.2259 - regularization_loss: 1.8650 - total_loss: 3.0909 - val_root_mean_squared_error: 1.1345 - val_loss: 1.2919 - val_regularization_loss: 1.8556 - val_total_loss: 3.1475\n"
     ]
    },
    {
     "name": "stdout",
     "output_type": "stream",
     "text": [
      "Epoch 13/30\n",
      "\r",
      "1/8 [==>...........................] - ETA: 0s - root_mean_squared_error: 1.1069 - loss: 1.2252 - regularization_loss: 1.8556 - total_loss: 3.0808"
     ]
    },
    {
     "name": "stdout",
     "output_type": "stream",
     "text": [
      "\b\b\b\b\b\b\b\b\b\b\b\b\b\b\b\b\b\b\b\b\b\b\b\b\b\b\b\b\b\b\b\b\b\b\b\b\b\b\b\b\b\b\b\b\b\b\b\b\b\b\b\b\b\b\b\b\b\b\b\b\b\b\b\b\b\b\b\b\b\b\b\b\b\b\b\b\b\b\b\b\b\b\b\b\b\b\b\b\b\b\b\b\b\b\b\b\b\b\b\b\b\b\b\b\b\b\b\b\b\b\b\b\b\b\b\b\b\b\b\b\b\b\b\b\b\b\b\b\b\b\b\b\b\b\b\b\b\b\b\b\b\b\b\b\b\b\r",
      "8/8 [==============================] - 0s 17ms/step - root_mean_squared_error: 1.1060 - loss: 1.2218 - regularization_loss: 1.8469 - total_loss: 3.0687 - val_root_mean_squared_error: 1.1343 - val_loss: 1.2914 - val_regularization_loss: 1.8377 - val_total_loss: 3.1291\n"
     ]
    },
    {
     "name": "stdout",
     "output_type": "stream",
     "text": [
      "Epoch 14/30\n",
      "\r",
      "1/8 [==>...........................] - ETA: 0s - root_mean_squared_error: 1.1052 - loss: 1.2214 - regularization_loss: 1.8377 - total_loss: 3.0591"
     ]
    },
    {
     "name": "stdout",
     "output_type": "stream",
     "text": [
      "\b\b\b\b\b\b\b\b\b\b\b\b\b\b\b\b\b\b\b\b\b\b\b\b\b\b\b\b\b\b\b\b\b\b\b\b\b\b\b\b\b\b\b\b\b\b\b\b\b\b\b\b\b\b\b\b\b\b\b\b\b\b\b\b\b\b\b\b\b\b\b\b\b\b\b\b\b\b\b\b\b\b\b\b\b\b\b\b\b\b\b\b\b\b\b\b\b\b\b\b\b\b\b\b\b\b\b\b\b\b\b\b\b\b\b\b\b\b\b\b\b\b\b\b\b\b\b\b\b\b\b\b\b\b\b\b\b\b\b\b\b\b\b\b\b\b\r",
      "8/8 [==============================] - 0s 16ms/step - root_mean_squared_error: 1.1041 - loss: 1.2177 - regularization_loss: 1.8291 - total_loss: 3.0468 - val_root_mean_squared_error: 1.1340 - val_loss: 1.2909 - val_regularization_loss: 1.8200 - val_total_loss: 3.1108\n"
     ]
    },
    {
     "name": "stdout",
     "output_type": "stream",
     "text": [
      "Epoch 15/30\n",
      "\r",
      "1/8 [==>...........................] - ETA: 0s - root_mean_squared_error: 1.1035 - loss: 1.2176 - regularization_loss: 1.8200 - total_loss: 3.0376"
     ]
    },
    {
     "name": "stdout",
     "output_type": "stream",
     "text": [
      "\b\b\b\b\b\b\b\b\b\b\b\b\b\b\b\b\b\b\b\b\b\b\b\b\b\b\b\b\b\b\b\b\b\b\b\b\b\b\b\b\b\b\b\b\b\b\b\b\b\b\b\b\b\b\b\b\b\b\b\b\b\b\b\b\b\b\b\b\b\b\b\b\b\b\b\b\b\b\b\b\b\b\b\b\b\b\b\b\b\b\b\b\b\b\b\b\b\b\b\b\b\b\b\b\b\b\b\b\b\b\b\b\b\b\b\b\b\b\b\b\b\b\b\b\b\b\b\b\b\b\b\b\b\b\b\b\b\b\b\b\b\b\b\b\b\b\r",
      "8/8 [==============================] - 0s 15ms/step - root_mean_squared_error: 1.1022 - loss: 1.2135 - regularization_loss: 1.8115 - total_loss: 3.0249 - val_root_mean_squared_error: 1.1338 - val_loss: 1.2904 - val_regularization_loss: 1.8025 - val_total_loss: 3.0928\n"
     ]
    },
    {
     "name": "stdout",
     "output_type": "stream",
     "text": [
      "Epoch 16/30\n",
      "\r",
      "1/8 [==>...........................] - ETA: 0s - root_mean_squared_error: 1.1017 - loss: 1.2137 - regularization_loss: 1.8025 - total_loss: 3.0162"
     ]
    },
    {
     "name": "stdout",
     "output_type": "stream",
     "text": [
      "\b\b\b\b\b\b\b\b\b\b\b\b\b\b\b\b\b\b\b\b\b\b\b\b\b\b\b\b\b\b\b\b\b\b\b\b\b\b\b\b\b\b\b\b\b\b\b\b\b\b\b\b\b\b\b\b\b\b\b\b\b\b\b\b\b\b\b\b\b\b\b\b\b\b\b\b\b\b\b\b\b\b\b\b\b\b\b\b\b\b\b\b\b\b\b\b\b\b\b\b\b\b\b\b\b\b\b\b\b\b\b\b\b\b\b\b\b\b\b\b\b\b\b\b\b\b\b\b\b\b\b\b\b\b\b\b\b\b\b\b\b\b\b\b\b\b\r",
      "8/8 [==============================] - 0s 15ms/step - root_mean_squared_error: 1.1003 - loss: 1.2092 - regularization_loss: 1.7940 - total_loss: 3.0032 - val_root_mean_squared_error: 1.1336 - val_loss: 1.2899 - val_regularization_loss: 1.7851 - val_total_loss: 3.0750\n"
     ]
    },
    {
     "name": "stdout",
     "output_type": "stream",
     "text": [
      "Epoch 17/30\n",
      "\r",
      "1/8 [==>...........................] - ETA: 0s - root_mean_squared_error: 1.0999 - loss: 1.2098 - regularization_loss: 1.7851 - total_loss: 2.9949"
     ]
    },
    {
     "name": "stdout",
     "output_type": "stream",
     "text": [
      "\b\b\b\b\b\b\b\b\b\b\b\b\b\b\b\b\b\b\b\b\b\b\b\b\b\b\b\b\b\b\b\b\b\b\b\b\b\b\b\b\b\b\b\b\b\b\b\b\b\b\b\b\b\b\b\b\b\b\b\b\b\b\b\b\b\b\b\b\b\b\b\b\b\b\b\b\b\b\b\b\b\b\b\b\b\b\b\b\b\b\b\b\b\b\b\b\b\b\b\b\b\b\b\b\b\b\b\b\b\b\b\b\b\b\b\b\b\b\b\b\b\b\b\b\b\b\b\b\b\b\b\b\b\b\b\b\b\b\b\b\b\b\b\b\b\b\r",
      "8/8 [==============================] - 0s 15ms/step - root_mean_squared_error: 1.0983 - loss: 1.2049 - regularization_loss: 1.7768 - total_loss: 2.9817 - val_root_mean_squared_error: 1.1333 - val_loss: 1.2893 - val_regularization_loss: 1.7680 - val_total_loss: 3.0574\n"
     ]
    },
    {
     "name": "stdout",
     "output_type": "stream",
     "text": [
      "Epoch 18/30\n",
      "\r",
      "1/8 [==>...........................] - ETA: 0s - root_mean_squared_error: 1.0981 - loss: 1.2058 - regularization_loss: 1.7680 - total_loss: 2.9738"
     ]
    },
    {
     "name": "stdout",
     "output_type": "stream",
     "text": [
      "\b\b\b\b\b\b\b\b\b\b\b\b\b\b\b\b\b\b\b\b\b\b\b\b\b\b\b\b\b\b\b\b\b\b\b\b\b\b\b\b\b\b\b\b\b\b\b\b\b\b\b\b\b\b\b\b\b\b\b\b\b\b\b\b\b\b\b\b\b\b\b\b\b\b\b\b\b\b\b\b\b\b\b\b\b\b\b\b\b\b\b\b\b\b\b\b\b\b\b\b\b\b\b\b\b\b\b\b\b\b\b\b\b\b\b\b\b\b\b\b\b\b\b\b\b\b\b\b\b\b\b\b\b\b\b\b\b\b\b\b\b\b\b\b\b\b\r",
      "8/8 [==============================] - 0s 34ms/step - root_mean_squared_error: 1.0963 - loss: 1.2004 - regularization_loss: 1.7598 - total_loss: 2.9602 - val_root_mean_squared_error: 1.1331 - val_loss: 1.2888 - val_regularization_loss: 1.7511 - val_total_loss: 3.0399\n"
     ]
    },
    {
     "name": "stdout",
     "output_type": "stream",
     "text": [
      "Epoch 19/30\n",
      "\r",
      "1/8 [==>...........................] - ETA: 0s - root_mean_squared_error: 1.0962 - loss: 1.2017 - regularization_loss: 1.7511 - total_loss: 2.9528"
     ]
    },
    {
     "name": "stdout",
     "output_type": "stream",
     "text": [
      "\b\b\b\b\b\b\b\b\b\b\b\b\b\b\b\b\b\b\b\b\b\b\b\b\b\b\b\b\b\b\b\b\b\b\b\b\b\b\b\b\b\b\b\b\b\b\b\b\b\b\b\b\b\b\b\b\b\b\b\b\b\b\b\b\b\b\b\b\b\b\b\b\b\b\b\b\b\b\b\b\b\b\b\b\b\b\b\b\b\b\b\b\b\b\b\b\b\b\b\b\b\b\b\b\b\b\b\b\b\b\b\b\b\b\b\b\b\b\b\b\b\b\b\b\b\b\b\b\b\b\b\b\b\b\b\b\b\b\b\b\b\b\b\b\b\b\r",
      "8/8 [==============================] - 0s 15ms/step - root_mean_squared_error: 1.0943 - loss: 1.1960 - regularization_loss: 1.7430 - total_loss: 2.9389 - val_root_mean_squared_error: 1.1328 - val_loss: 1.2883 - val_regularization_loss: 1.7344 - val_total_loss: 3.0226\n"
     ]
    },
    {
     "name": "stdout",
     "output_type": "stream",
     "text": [
      "Epoch 20/30\n",
      "\r",
      "1/8 [==>...........................] - ETA: 0s - root_mean_squared_error: 1.0943 - loss: 1.1976 - regularization_loss: 1.7344 - total_loss: 2.9320"
     ]
    },
    {
     "name": "stdout",
     "output_type": "stream",
     "text": [
      "\b\b\b\b\b\b\b\b\b\b\b\b\b\b\b\b\b\b\b\b\b\b\b\b\b\b\b\b\b\b\b\b\b\b\b\b\b\b\b\b\b\b\b\b\b\b\b\b\b\b\b\b\b\b\b\b\b\b\b\b\b\b\b\b\b\b\b\b\b\b\b\b\b\b\b\b\b\b\b\b\b\b\b\b\b\b\b\b\b\b\b\b\b\b\b\b\b\b\b\b\b\b\b\b\b\b\b\b\b\b\b\b\b\b\b\b\b\b\b\b\b\b\b\b\b\b\b\b\b\b\b\b\b\b\b\b\b\b\b\b\b\b\b\b\b\b\r",
      "8/8 [==============================] - 0s 16ms/step - root_mean_squared_error: 1.0922 - loss: 1.1914 - regularization_loss: 1.7263 - total_loss: 2.9178 - val_root_mean_squared_error: 1.1325 - val_loss: 1.2877 - val_regularization_loss: 1.7178 - val_total_loss: 3.0055\n"
     ]
    },
    {
     "name": "stdout",
     "output_type": "stream",
     "text": [
      "Epoch 21/30\n",
      "\r",
      "1/8 [==>...........................] - ETA: 0s - root_mean_squared_error: 1.0924 - loss: 1.1934 - regularization_loss: 1.7178 - total_loss: 2.9112"
     ]
    },
    {
     "name": "stdout",
     "output_type": "stream",
     "text": [
      "\b\b\b\b\b\b\b\b\b\b\b\b\b\b\b\b\b\b\b\b\b\b\b\b\b\b\b\b\b\b\b\b\b\b\b\b\b\b\b\b\b\b\b\b\b\b\b\b\b\b\b\b\b\b\b\b\b\b\b\b\b\b\b\b\b\b\b\b\b\b\b\b\b\b\b\b\b\b\b\b\b\b\b\b\b\b\b\b\b\b\b\b\b\b\b\b\b\b\b\b\b\b\b\b\b\b\b\b\b\b\b\b\b\b\b\b\b\b\b\b\b\b\b\b\b\b\b\b\b\b\b\b\b\b\b\b\b\b\b\b\b\b\b\b\b\b\r",
      "8/8 [==============================] - 0s 16ms/step - root_mean_squared_error: 1.0901 - loss: 1.1868 - regularization_loss: 1.7099 - total_loss: 2.8967 - val_root_mean_squared_error: 1.1322 - val_loss: 1.2871 - val_regularization_loss: 1.7015 - val_total_loss: 2.9886\n"
     ]
    },
    {
     "name": "stdout",
     "output_type": "stream",
     "text": [
      "Epoch 22/30\n",
      "\r",
      "1/8 [==>...........................] - ETA: 0s - root_mean_squared_error: 1.0905 - loss: 1.1891 - regularization_loss: 1.7015 - total_loss: 2.8906"
     ]
    },
    {
     "name": "stdout",
     "output_type": "stream",
     "text": [
      "\b\b\b\b\b\b\b\b\b\b\b\b\b\b\b\b\b\b\b\b\b\b\b\b\b\b\b\b\b\b\b\b\b\b\b\b\b\b\b\b\b\b\b\b\b\b\b\b\b\b\b\b\b\b\b\b\b\b\b\b\b\b\b\b\b\b\b\b\b\b\b\b\b\b\b\b\b\b\b\b\b\b\b\b\b\b\b\b\b\b\b\b\b\b\b\b\b\b\b\b\b\b\b\b\b\b\b\b\b\b\b\b\b\b\b\b\b\b\b\b\b\b\b\b\b\b\b\b\b\b\b\b\b\b\b\b\b\b\b\b\b\b\b\b\b\b\r",
      "8/8 [==============================] - 0s 16ms/step - root_mean_squared_error: 1.0880 - loss: 1.1822 - regularization_loss: 1.6936 - total_loss: 2.8758 - val_root_mean_squared_error: 1.1320 - val_loss: 1.2865 - val_regularization_loss: 1.6853 - val_total_loss: 2.9718\n"
     ]
    },
    {
     "name": "stdout",
     "output_type": "stream",
     "text": [
      "Epoch 23/30\n",
      "\r",
      "1/8 [==>...........................] - ETA: 0s - root_mean_squared_error: 1.0885 - loss: 1.1848 - regularization_loss: 1.6853 - total_loss: 2.8702"
     ]
    },
    {
     "name": "stdout",
     "output_type": "stream",
     "text": [
      "\b\b\b\b\b\b\b\b\b\b\b\b\b\b\b\b\b\b\b\b\b\b\b\b\b\b\b\b\b\b\b\b\b\b\b\b\b\b\b\b\b\b\b\b\b\b\b\b\b\b\b\b\b\b\b\b\b\b\b\b\b\b\b\b\b\b\b\b\b\b\b\b\b\b\b\b\b\b\b\b\b\b\b\b\b\b\b\b\b\b\b\b\b\b\b\b\b\b\b\b\b\b\b\b\b\b\b\b\b\b\b\b\b\b\b\b\b\b\b\b\b\b\b\b\b\b\b\b\b\b\b\b\b\b\b\b\b\b\b\b\b\b\b\b\b\b\r",
      "8/8 [==============================] - 0s 16ms/step - root_mean_squared_error: 1.0859 - loss: 1.1776 - regularization_loss: 1.6775 - total_loss: 2.8551 - val_root_mean_squared_error: 1.1316 - val_loss: 1.2859 - val_regularization_loss: 1.6693 - val_total_loss: 2.9552\n"
     ]
    },
    {
     "name": "stdout",
     "output_type": "stream",
     "text": [
      "Epoch 24/30\n",
      "\r",
      "1/8 [==>...........................] - ETA: 0s - root_mean_squared_error: 1.0865 - loss: 1.1805 - regularization_loss: 1.6693 - total_loss: 2.8499"
     ]
    },
    {
     "name": "stdout",
     "output_type": "stream",
     "text": [
      "\b\b\b\b\b\b\b\b\b\b\b\b\b\b\b\b\b\b\b\b\b\b\b\b\b\b\b\b\b\b\b\b\b\b\b\b\b\b\b\b\b\b\b\b\b\b\b\b\b\b\b\b\b\b\b\b\b\b\b\b\b\b\b\b\b\b\b\b\b\b\b\b\b\b\b\b\b\b\b\b\b\b\b\b\b\b\b\b\b\b\b\b\b\b\b\b\b\b\b\b\b\b\b\b\b\b\b\b\b\b\b\b\b\b\b\b\b\b\b\b\b\b\b\b\b\b\b\b\b\b\b\b\b\b\b\b\b\b\b\b\b\b\b\b\b\b\r",
      "8/8 [==============================] - 0s 16ms/step - root_mean_squared_error: 1.0837 - loss: 1.1729 - regularization_loss: 1.6617 - total_loss: 2.8346 - val_root_mean_squared_error: 1.1313 - val_loss: 1.2852 - val_regularization_loss: 1.6535 - val_total_loss: 2.9388\n"
     ]
    },
    {
     "name": "stdout",
     "output_type": "stream",
     "text": [
      "Epoch 25/30\n",
      "\r",
      "1/8 [==>...........................] - ETA: 0s - root_mean_squared_error: 1.0845 - loss: 1.1762 - regularization_loss: 1.6535 - total_loss: 2.8297"
     ]
    },
    {
     "name": "stdout",
     "output_type": "stream",
     "text": [
      "\b\b\b\b\b\b\b\b\b\b\b\b\b\b\b\b\b\b\b\b\b\b\b\b\b\b\b\b\b\b\b\b\b\b\b\b\b\b\b\b\b\b\b\b\b\b\b\b\b\b\b\b\b\b\b\b\b\b\b\b\b\b\b\b\b\b\b\b\b\b\b\b\b\b\b\b\b\b\b\b\b\b\b\b\b\b\b\b\b\b\b\b\b\b\b\b\b\b\b\b\b\b\b\b\b\b\b\b\b\b\b\b\b\b\b\b\b\b\b\b\b\b\b\b\b\b\b\b\b\b\b\b\b\b\b\b\b\b\b\b\b\b\b\b\b\b\r",
      "8/8 [==============================] - 0s 15ms/step - root_mean_squared_error: 1.0816 - loss: 1.1683 - regularization_loss: 1.6459 - total_loss: 2.8142 - val_root_mean_squared_error: 1.1310 - val_loss: 1.2846 - val_regularization_loss: 1.6379 - val_total_loss: 2.9224\n"
     ]
    },
    {
     "name": "stdout",
     "output_type": "stream",
     "text": [
      "Epoch 26/30\n",
      "\r",
      "1/8 [==>...........................] - ETA: 0s - root_mean_squared_error: 1.0825 - loss: 1.1719 - regularization_loss: 1.6379 - total_loss: 2.8098"
     ]
    },
    {
     "name": "stdout",
     "output_type": "stream",
     "text": [
      "\b\b\b\b\b\b\b\b\b\b\b\b\b\b\b\b\b\b\b\b\b\b\b\b\b\b\b\b\b\b\b\b\b\b\b\b\b\b\b\b\b\b\b\b\b\b\b\b\b\b\b\b\b\b\b\b\b\b\b\b\b\b\b\b\b\b\b\b\b\b\b\b\b\b\b\b\b\b\b\b\b\b\b\b\b\b\b\b\b\b\b\b\b\b\b\b\b\b\b\b\b\b\b\b\b\b\b\b\b\b\b\b\b\b\b\b\b\b\b\b\b\b\b\b\b\b\b\b\b\b\b\b\b\b\b\b\b\b\b\b\b\b\b\b\b\b\r",
      "8/8 [==============================] - 0s 16ms/step - root_mean_squared_error: 1.0794 - loss: 1.1636 - regularization_loss: 1.6304 - total_loss: 2.7940 - val_root_mean_squared_error: 1.1307 - val_loss: 1.2839 - val_regularization_loss: 1.6224 - val_total_loss: 2.9063\n"
     ]
    },
    {
     "name": "stdout",
     "output_type": "stream",
     "text": [
      "Epoch 27/30\n",
      "\r",
      "1/8 [==>...........................] - ETA: 0s - root_mean_squared_error: 1.0805 - loss: 1.1676 - regularization_loss: 1.6224 - total_loss: 2.7900"
     ]
    },
    {
     "name": "stdout",
     "output_type": "stream",
     "text": [
      "\b\b\b\b\b\b\b\b\b\b\b\b\b\b\b\b\b\b\b\b\b\b\b\b\b\b\b\b\b\b\b\b\b\b\b\b\b\b\b\b\b\b\b\b\b\b\b\b\b\b\b\b\b\b\b\b\b\b\b\b\b\b\b\b\b\b\b\b\b\b\b\b\b\b\b\b\b\b\b\b\b\b\b\b\b\b\b\b\b\b\b\b\b\b\b\b\b\b\b\b\b\b\b\b\b\b\b\b\b\b\b\b\b\b\b\b\b\b\b\b\b\b\b\b\b\b\b\b\b\b\b\b\b\b\b\b\b\b\b\b\b\b\b\b\b\b\r",
      "8/8 [==============================] - 0s 15ms/step - root_mean_squared_error: 1.0773 - loss: 1.1590 - regularization_loss: 1.6150 - total_loss: 2.7740 - val_root_mean_squared_error: 1.1303 - val_loss: 1.2831 - val_regularization_loss: 1.6071 - val_total_loss: 2.8902\n"
     ]
    },
    {
     "name": "stdout",
     "output_type": "stream",
     "text": [
      "Epoch 28/30\n",
      "\r",
      "1/8 [==>...........................] - ETA: 0s - root_mean_squared_error: 1.0785 - loss: 1.1632 - regularization_loss: 1.6071 - total_loss: 2.7704"
     ]
    },
    {
     "name": "stdout",
     "output_type": "stream",
     "text": [
      "\b\b\b\b\b\b\b\b\b\b\b\b\b\b\b\b\b\b\b\b\b\b\b\b\b\b\b\b\b\b\b\b\b\b\b\b\b\b\b\b\b\b\b\b\b\b\b\b\b\b\b\b\b\b\b\b\b\b\b\b\b\b\b\b\b\b\b\b\b\b\b\b\b\b\b\b\b\b\b\b\b\b\b\b\b\b\b\b\b\b\b\b\b\b\b\b\b\b\b\b\b\b\b\b\b\b\b\b\b\b\b\b\b\b\b\b\b\b\b\b\b\b\b\b\b\b\b\b\b\b\b\b\b\b\b\b\b\b\b\b\b\b\b\b\b\b\r",
      "8/8 [==============================] - 0s 15ms/step - root_mean_squared_error: 1.0752 - loss: 1.1544 - regularization_loss: 1.5998 - total_loss: 2.7542 - val_root_mean_squared_error: 1.1299 - val_loss: 1.2823 - val_regularization_loss: 1.5920 - val_total_loss: 2.8743\n"
     ]
    },
    {
     "name": "stdout",
     "output_type": "stream",
     "text": [
      "Epoch 29/30\n",
      "\r",
      "1/8 [==>...........................] - ETA: 0s - root_mean_squared_error: 1.0765 - loss: 1.1590 - regularization_loss: 1.5920 - total_loss: 2.7510"
     ]
    },
    {
     "name": "stdout",
     "output_type": "stream",
     "text": [
      "\b\b\b\b\b\b\b\b\b\b\b\b\b\b\b\b\b\b\b\b\b\b\b\b\b\b\b\b\b\b\b\b\b\b\b\b\b\b\b\b\b\b\b\b\b\b\b\b\b\b\b\b\b\b\b\b\b\b\b\b\b\b\b\b\b\b\b\b\b\b\b\b\b\b\b\b\b\b\b\b\b\b\b\b\b\b\b\b\b\b\b\b\b\b\b\b\b\b\b\b\b\b\b\b\b\b\b\b\b\b\b\b\b\b\b\b\b\b\b\b\b\b\b\b\b\b\b\b\b\b\b\b\b\b\b\b\b\b\b\b\b\b\b\b\b\b\r",
      "8/8 [==============================] - ETA: 0s - root_mean_squared_error: 1.0731 - loss: 1.1514 - regularization_loss: 1.5855 - total_loss: 2.7369"
     ]
    },
    {
     "name": "stdout",
     "output_type": "stream",
     "text": [
      "\b\b\b\b\b\b\b\b\b\b\b\b\b\b\b\b\b\b\b\b\b\b\b\b\b\b\b\b\b\b\b\b\b\b\b\b\b\b\b\b\b\b\b\b\b\b\b\b\b\b\b\b\b\b\b\b\b\b\b\b\b\b\b\b\b\b\b\b\b\b\b\b\b\b\b\b\b\b\b\b\b\b\b\b\b\b\b\b\b\b\b\b\b\b\b\b\b\b\b\b\b\b\b\b\b\b\b\b\b\b\b\b\b\b\b\b\b\b\b\b\b\b\b\b\b\b\b\b\b\b\b\b\b\b\b\b\b\b\b\b\b\b\b\b\b\b\r",
      "8/8 [==============================] - 0s 17ms/step - root_mean_squared_error: 1.0731 - loss: 1.1499 - regularization_loss: 1.5847 - total_loss: 2.7346 - val_root_mean_squared_error: 1.1295 - val_loss: 1.2815 - val_regularization_loss: 1.5770 - val_total_loss: 2.8586\n"
     ]
    },
    {
     "name": "stdout",
     "output_type": "stream",
     "text": [
      "Epoch 30/30\n",
      "\r",
      "1/8 [==>...........................] - ETA: 0s - root_mean_squared_error: 1.0746 - loss: 1.1547 - regularization_loss: 1.5770 - total_loss: 2.7317"
     ]
    },
    {
     "name": "stdout",
     "output_type": "stream",
     "text": [
      "\b\b\b\b\b\b\b\b\b\b\b\b\b\b\b\b\b\b\b\b\b\b\b\b\b\b\b\b\b\b\b\b\b\b\b\b\b\b\b\b\b\b\b\b\b\b\b\b\b\b\b\b\b\b\b\b\b\b\b\b\b\b\b\b\b\b\b\b\b\b\b\b\b\b\b\b\b\b\b\b\b\b\b\b\b\b\b\b\b\b\b\b\b\b\b\b\b\b\b\b\b\b\b\b\b\b\b\b\b\b\b\b\b\b\b\b\b\b\b\b\b\b\b\b\b\b\b\b\b\b\b\b\b\b\b\b\b\b\b\b\b\b\b\b\b\b\r",
      "8/8 [==============================] - 0s 15ms/step - root_mean_squared_error: 1.0710 - loss: 1.1454 - regularization_loss: 1.5699 - total_loss: 2.7152 - val_root_mean_squared_error: 1.1291 - val_loss: 1.2807 - val_regularization_loss: 1.5622 - val_total_loss: 2.8429\n"
     ]
    },
    {
     "name": "stdout",
     "output_type": "stream",
     "text": [
      "Learning rate = 0.1\n"
     ]
    },
    {
     "name": "stdout",
     "output_type": "stream",
     "text": [
      "Epoch 1/30\n"
     ]
    },
    {
     "name": "stdout",
     "output_type": "stream",
     "text": [
      "\r",
      "      1/Unknown - 0s 456ms/step - root_mean_squared_error: 3.7171 - loss: 13.8165 - regularization_loss: 2.0679 - total_loss: 15.8844"
     ]
    },
    {
     "name": "stdout",
     "output_type": "stream",
     "text": [
      "\b\b\b\b\b\b\b\b\b\b\b\b\b\b\b\b\b\b\b\b\b\b\b\b\b\b\b\b\b\b\b\b\b\b\b\b\b\b\b\b\b\b\b\b\b\b\b\b\b\b\b\b\b\b\b\b\b\b\b\b\b\b\b\b\b\b\b\b\b\b\b\b\b\b\b\b\b\b\b\b\b\b\b\b\b\b\b\b\b\b\b\b\b\b\b\b\b\b\b\b\b\b\b\b\b\b\b\b\b\b\b\b\b\b\b\b\b\b\b\b\b\b\b\b\b\b\b\b\b\b\b\b\b\r",
      "8/8 [==============================] - 1s 31ms/step - root_mean_squared_error: 2.2547 - loss: 4.6728 - regularization_loss: 1.9808 - total_loss: 6.6535 - val_root_mean_squared_error: 1.2573 - val_loss: 1.5866 - val_regularization_loss: 1.8806 - val_total_loss: 3.4672\n"
     ]
    },
    {
     "name": "stdout",
     "output_type": "stream",
     "text": [
      "Epoch 2/30\n",
      "\r",
      "1/8 [==>...........................] - ETA: 0s - root_mean_squared_error: 1.2945 - loss: 1.6757 - regularization_loss: 1.8806 - total_loss: 3.5563"
     ]
    },
    {
     "name": "stdout",
     "output_type": "stream",
     "text": [
      "\b\b\b\b\b\b\b\b\b\b\b\b\b\b\b\b\b\b\b\b\b\b\b\b\b\b\b\b\b\b\b\b\b\b\b\b\b\b\b\b\b\b\b\b\b\b\b\b\b\b\b\b\b\b\b\b\b\b\b\b\b\b\b\b\b\b\b\b\b\b\b\b\b\b\b\b\b\b\b\b\b\b\b\b\b\b\b\b\b\b\b\b\b\b\b\b\b\b\b\b\b\b\b\b\b\b\b\b\b\b\b\b\b\b\b\b\b\b\b\b\b\b\b\b\b\b\b\b\b\b\b\b\b\b\b\b\b\b\b\b\b\b\b\b\b\b\r",
      "8/8 [==============================] - 0s 16ms/step - root_mean_squared_error: 1.2131 - loss: 1.4521 - regularization_loss: 1.7978 - total_loss: 3.2500 - val_root_mean_squared_error: 1.1458 - val_loss: 1.3170 - val_regularization_loss: 1.7054 - val_total_loss: 3.0224\n"
     ]
    },
    {
     "name": "stdout",
     "output_type": "stream",
     "text": [
      "Epoch 3/30\n",
      "\r",
      "1/8 [==>...........................] - ETA: 0s - root_mean_squared_error: 1.1506 - loss: 1.3238 - regularization_loss: 1.7054 - total_loss: 3.0292"
     ]
    },
    {
     "name": "stdout",
     "output_type": "stream",
     "text": [
      "\b\b\b\b\b\b\b\b\b\b\b\b\b\b\b\b\b\b\b\b\b\b\b\b\b\b\b\b\b\b\b\b\b\b\b\b\b\b\b\b\b\b\b\b\b\b\b\b\b\b\b\b\b\b\b\b\b\b\b\b\b\b\b\b\b\b\b\b\b\b\b\b\b\b\b\b\b\b\b\b\b\b\b\b\b\b\b\b\b\b\b\b\b\b\b\b\b\b\b\b\b\b\b\b\b\b\b\b\b\b\b\b\b\b\b\b\b\b\b\b\b\b\b\b\b\b\b\b\b\b\b\b\b\b\b\b\b\b\b\b\b\b\b\b\b\b\r",
      "8/8 [==============================] - 0s 16ms/step - root_mean_squared_error: 1.1303 - loss: 1.2723 - regularization_loss: 1.6284 - total_loss: 2.9007 - val_root_mean_squared_error: 1.1298 - val_loss: 1.2799 - val_regularization_loss: 1.5464 - val_total_loss: 2.8263\n"
     ]
    },
    {
     "name": "stdout",
     "output_type": "stream",
     "text": [
      "Epoch 4/30\n",
      "\r",
      "1/8 [==>...........................] - ETA: 0s - root_mean_squared_error: 1.1130 - loss: 1.2388 - regularization_loss: 1.5464 - total_loss: 2.7853"
     ]
    },
    {
     "name": "stdout",
     "output_type": "stream",
     "text": [
      "\b\b\b\b\b\b\b\b\b\b\b\b\b\b\b\b\b\b\b\b\b\b\b\b\b\b\b\b\b\b\b\b\b\b\b\b\b\b\b\b\b\b\b\b\b\b\b\b\b\b\b\b\b\b\b\b\b\b\b\b\b\b\b\b\b\b\b\b\b\b\b\b\b\b\b\b\b\b\b\b\b\b\b\b\b\b\b\b\b\b\b\b\b\b\b\b\b\b\b\b\b\b\b\b\b\b\b\b\b\b\b\b\b\b\b\b\b\b\b\b\b\b\b\b\b\b\b\b\b\b\b\b\b\b\b\b\b\b\b\b\b\b\b\b\b\b\r",
      "8/8 [==============================] - 0s 15ms/step - root_mean_squared_error: 1.1075 - loss: 1.2238 - regularization_loss: 1.4759 - total_loss: 2.6997 - val_root_mean_squared_error: 1.1304 - val_loss: 1.2811 - val_regularization_loss: 1.4029 - val_total_loss: 2.6840\n"
     ]
    },
    {
     "name": "stdout",
     "output_type": "stream",
     "text": [
      "Epoch 5/30\n",
      "\r",
      "1/8 [==>...........................] - ETA: 0s - root_mean_squared_error: 1.0994 - loss: 1.2086 - regularization_loss: 1.4029 - total_loss: 2.6115"
     ]
    },
    {
     "name": "stdout",
     "output_type": "stream",
     "text": [
      "\b\b\b\b\b\b\b\b\b\b\b\b\b\b\b\b\b\b\b\b\b\b\b\b\b\b\b\b\b\b\b\b\b\b\b\b\b\b\b\b\b\b\b\b\b\b\b\b\b\b\b\b\b\b\b\b\b\b\b\b\b\b\b\b\b\b\b\b\b\b\b\b\b\b\b\b\b\b\b\b\b\b\b\b\b\b\b\b\b\b\b\b\b\b\b\b\b\b\b\b\b\b\b\b\b\b\b\b\b\b\b\b\b\b\b\b\b\b\b\b\b\b\b\b\b\b\b\b\b\b\b\b\b\b\b\b\b\b\b\b\b\b\b\b\b\b\r",
      "8/8 [==============================] - 0s 15ms/step - root_mean_squared_error: 1.0945 - loss: 1.1954 - regularization_loss: 1.3390 - total_loss: 2.5345 - val_root_mean_squared_error: 1.1314 - val_loss: 1.2836 - val_regularization_loss: 1.2741 - val_total_loss: 2.5576\n"
     ]
    },
    {
     "name": "stdout",
     "output_type": "stream",
     "text": [
      "Epoch 6/30\n",
      "\r",
      "1/8 [==>...........................] - ETA: 0s - root_mean_squared_error: 1.0873 - loss: 1.1823 - regularization_loss: 1.2741 - total_loss: 2.4564"
     ]
    },
    {
     "name": "stdout",
     "output_type": "stream",
     "text": [
      "\b\b\b\b\b\b\b\b\b\b\b\b\b\b\b\b\b\b\b\b\b\b\b\b\b\b\b\b\b\b\b\b\b\b\b\b\b\b\b\b\b\b\b\b\b\b\b\b\b\b\b\b\b\b\b\b\b\b\b\b\b\b\b\b\b\b\b\b\b\b\b\b\b\b\b\b\b\b\b\b\b\b\b\b\b\b\b\b\b\b\b\b\b\b\b\b\b\b\b\b\b\b\b\b\b\b\b\b\b\b\b\b\b\b\b\b\b\b\b\b\b\b\b\b\b\b\b\b\b\b\b\b\b\b\b\b\b\b\b\b\b\b\b\b\b\b\r",
      "8/8 [==============================] - 0s 16ms/step - root_mean_squared_error: 1.0811 - loss: 1.1665 - regularization_loss: 1.2166 - total_loss: 2.3831 - val_root_mean_squared_error: 1.1318 - val_loss: 1.2846 - val_regularization_loss: 1.1588 - val_total_loss: 2.4434\n"
     ]
    },
    {
     "name": "stdout",
     "output_type": "stream",
     "text": [
      "Epoch 7/30\n",
      "\r",
      "1/8 [==>...........................] - ETA: 0s - root_mean_squared_error: 1.0742 - loss: 1.1540 - regularization_loss: 1.1588 - total_loss: 2.3128"
     ]
    },
    {
     "name": "stdout",
     "output_type": "stream",
     "text": [
      "\b\b\b\b\b\b\b\b\b\b\b\b\b\b\b\b\b\b\b\b\b\b\b\b\b\b\b\b\b\b\b\b\b\b\b\b\b\b\b\b\b\b\b\b\b\b\b\b\b\b\b\b\b\b\b\b\b\b\b\b\b\b\b\b\b\b\b\b\b\b\b\b\b\b\b\b\b\b\b\b\b\b\b\b\b\b\b\b\b\b\b\b\b\b\b\b\b\b\b\b\b\b\b\b\b\b\b\b\b\b\b\b\b\b\b\b\b\b\b\b\b\b\b\b\b\b\b\b\b\b\b\b\b\b\b\b\b\b\b\b\b\b\b\b\b\b\r",
      "8/8 [==============================] - 0s 16ms/step - root_mean_squared_error: 1.0672 - loss: 1.1366 - regularization_loss: 1.1070 - total_loss: 2.2436 - val_root_mean_squared_error: 1.1323 - val_loss: 1.2860 - val_regularization_loss: 1.0556 - val_total_loss: 2.3416\n"
     ]
    },
    {
     "name": "stdout",
     "output_type": "stream",
     "text": [
      "Epoch 8/30\n",
      "\r",
      "1/8 [==>...........................] - ETA: 0s - root_mean_squared_error: 1.0611 - loss: 1.1260 - regularization_loss: 1.0556 - total_loss: 2.1816"
     ]
    },
    {
     "name": "stdout",
     "output_type": "stream",
     "text": [
      "\b\b\b\b\b\b\b\b\b\b\b\b\b\b\b\b\b\b\b\b\b\b\b\b\b\b\b\b\b\b\b\b\b\b\b\b\b\b\b\b\b\b\b\b\b\b\b\b\b\b\b\b\b\b\b\b\b\b\b\b\b\b\b\b\b\b\b\b\b\b\b\b\b\b\b\b\b\b\b\b\b\b\b\b\b\b\b\b\b\b\b\b\b\b\b\b\b\b\b\b\b\b\b\b\b\b\b\b\b\b\b\b\b\b\b\b\b\b\b\b\b\b\b\b\b\b\b\b\b\b\b\b\b\b\b\b\b\b\b\b\b\b\b\b\b\b\r",
      "8/8 [==============================] - 0s 15ms/step - root_mean_squared_error: 1.0542 - loss: 1.1096 - regularization_loss: 1.0088 - total_loss: 2.1183 - val_root_mean_squared_error: 1.1348 - val_loss: 1.2919 - val_regularization_loss: 0.9631 - val_total_loss: 2.2550\n"
     ]
    },
    {
     "name": "stdout",
     "output_type": "stream",
     "text": [
      "Epoch 9/30\n",
      "\r",
      "1/8 [==>...........................] - ETA: 0s - root_mean_squared_error: 1.0500 - loss: 1.1025 - regularization_loss: 0.9631 - total_loss: 2.0656"
     ]
    },
    {
     "name": "stdout",
     "output_type": "stream",
     "text": [
      "\b\b\b\b\b\b\b\b\b\b\b\b\b\b\b\b\b\b\b\b\b\b\b\b\b\b\b\b\b\b\b\b\b\b\b\b\b\b\b\b\b\b\b\b\b\b\b\b\b\b\b\b\b\b\b\b\b\b\b\b\b\b\b\b\b\b\b\b\b\b\b\b\b\b\b\b\b\b\b\b\b\b\b\b\b\b\b\b\b\b\b\b\b\b\b\b\b\b\b\b\b\b\b\b\b\b\b\b\b\b\b\b\b\b\b\b\b\b\b\b\b\b\b\b\b\b\b\b\b\b\b\b\b\b\b\b\b\b\b\b\b\b\b\b\b\b\r",
      "8/8 [==============================] - 0s 16ms/step - root_mean_squared_error: 1.0450 - loss: 1.0911 - regularization_loss: 0.9205 - total_loss: 2.0116 - val_root_mean_squared_error: 1.1421 - val_loss: 1.3089 - val_regularization_loss: 0.8801 - val_total_loss: 2.1890\n"
     ]
    },
    {
     "name": "stdout",
     "output_type": "stream",
     "text": [
      "Epoch 10/30\n",
      "\r",
      "1/8 [==>...........................] - ETA: 0s - root_mean_squared_error: 1.0436 - loss: 1.0891 - regularization_loss: 0.8801 - total_loss: 1.9693"
     ]
    },
    {
     "name": "stdout",
     "output_type": "stream",
     "text": [
      "\b\b\b\b\b\b\b\b\b\b\b\b\b\b\b\b\b\b\b\b\b\b\b\b\b\b\b\b\b\b\b\b\b\b\b\b\b\b\b\b\b\b\b\b\b\b\b\b\b\b\b\b\b\b\b\b\b\b\b\b\b\b\b\b\b\b\b\b\b\b\b\b\b\b\b\b\b\b\b\b\b\b\b\b\b\b\b\b\b\b\b\b\b\b\b\b\b\b\b\b\b\b\b\b\b\b\b\b\b\b\b\b\b\b\b\b\b\b\b\b\b\b\b\b\b\b\b\b\b\b\b\b\b\b\b\b\b\b\b\b\b\b\b\b\b\b\r",
      "8/8 [==============================] - 0s 15ms/step - root_mean_squared_error: 1.0420 - loss: 1.0860 - regularization_loss: 0.8409 - total_loss: 1.9268 - val_root_mean_squared_error: 1.1507 - val_loss: 1.3289 - val_regularization_loss: 0.8053 - val_total_loss: 2.1342\n"
     ]
    },
    {
     "name": "stdout",
     "output_type": "stream",
     "text": [
      "Epoch 11/30\n",
      "\r",
      "1/8 [==>...........................] - ETA: 0s - root_mean_squared_error: 1.0409 - loss: 1.0835 - regularization_loss: 0.8053 - total_loss: 1.8888"
     ]
    },
    {
     "name": "stdout",
     "output_type": "stream",
     "text": [
      "\b\b\b\b\b\b\b\b\b\b\b\b\b\b\b\b\b\b\b\b\b\b\b\b\b\b\b\b\b\b\b\b\b\b\b\b\b\b\b\b\b\b\b\b\b\b\b\b\b\b\b\b\b\b\b\b\b\b\b\b\b\b\b\b\b\b\b\b\b\b\b\b\b\b\b\b\b\b\b\b\b\b\b\b\b\b\b\b\b\b\b\b\b\b\b\b\b\b\b\b\b\b\b\b\b\b\b\b\b\b\b\b\b\b\b\b\b\b\b\b\b\b\b\b\b\b\b\b\b\b\b\b\b\b\b\b\b\b\b\b\b\b\b\b\b\b\r",
      "8/8 [==============================] - 0s 15ms/step - root_mean_squared_error: 1.0375 - loss: 1.0756 - regularization_loss: 0.7690 - total_loss: 1.8446 - val_root_mean_squared_error: 1.1437 - val_loss: 1.3132 - val_regularization_loss: 0.7372 - val_total_loss: 2.0504\n"
     ]
    },
    {
     "name": "stdout",
     "output_type": "stream",
     "text": [
      "Epoch 12/30\n",
      "\r",
      "1/8 [==>...........................] - ETA: 0s - root_mean_squared_error: 1.0294 - loss: 1.0597 - regularization_loss: 0.7372 - total_loss: 1.7970"
     ]
    },
    {
     "name": "stdout",
     "output_type": "stream",
     "text": [
      "\b\b\b\b\b\b\b\b\b\b\b\b\b\b\b\b\b\b\b\b\b\b\b\b\b\b\b\b\b\b\b\b\b\b\b\b\b\b\b\b\b\b\b\b\b\b\b\b\b\b\b\b\b\b\b\b\b\b\b\b\b\b\b\b\b\b\b\b\b\b\b\b\b\b\b\b\b\b\b\b\b\b\b\b\b\b\b\b\b\b\b\b\b\b\b\b\b\b\b\b\b\b\b\b\b\b\b\b\b\b\b\b\b\b\b\b\b\b\b\b\b\b\b\b\b\b\b\b\b\b\b\b\b\b\b\b\b\b\b\b\b\b\b\b\b\b\r",
      "8/8 [==============================] - 0s 15ms/step - root_mean_squared_error: 1.0211 - loss: 1.0407 - regularization_loss: 0.7043 - total_loss: 1.7449 - val_root_mean_squared_error: 1.1255 - val_loss: 1.2721 - val_regularization_loss: 0.6753 - val_total_loss: 1.9474\n"
     ]
    },
    {
     "name": "stdout",
     "output_type": "stream",
     "text": [
      "Epoch 13/30\n",
      "\r",
      "1/8 [==>...........................] - ETA: 0s - root_mean_squared_error: 1.0116 - loss: 1.0234 - regularization_loss: 0.6753 - total_loss: 1.6987"
     ]
    },
    {
     "name": "stdout",
     "output_type": "stream",
     "text": [
      "\b\b\b\b\b\b\b\b\b\b\b\b\b\b\b\b\b\b\b\b\b\b\b\b\b\b\b\b\b\b\b\b\b\b\b\b\b\b\b\b\b\b\b\b\b\b\b\b\b\b\b\b\b\b\b\b\b\b\b\b\b\b\b\b\b\b\b\b\b\b\b\b\b\b\b\b\b\b\b\b\b\b\b\b\b\b\b\b\b\b\b\b\b\b\b\b\b\b\b\b\b\b\b\b\b\b\b\b\b\b\b\b\b\b\b\b\b\b\b\b\b\b\b\b\b\b\b\b\b\b\b\b\b\b\b\b\b\b\b\b\b\b\b\b\b\b\r",
      "8/8 [==============================] - 0s 15ms/step - root_mean_squared_error: 1.0029 - loss: 1.0037 - regularization_loss: 0.6456 - total_loss: 1.6493 - val_root_mean_squared_error: 1.1099 - val_loss: 1.2371 - val_regularization_loss: 0.6192 - val_total_loss: 1.8563\n"
     ]
    },
    {
     "name": "stdout",
     "output_type": "stream",
     "text": [
      "Epoch 14/30\n",
      "\r",
      "1/8 [==>...........................] - ETA: 0s - root_mean_squared_error: 0.9970 - loss: 0.9940 - regularization_loss: 0.6192 - total_loss: 1.6132"
     ]
    },
    {
     "name": "stdout",
     "output_type": "stream",
     "text": [
      "\b\b\b\b\b\b\b\b\b\b\b\b\b\b\b\b\b\b\b\b\b\b\b\b\b\b\b\b\b\b\b\b\b\b\b\b\b\b\b\b\b\b\b\b\b\b\b\b\b\b\b\b\b\b\b\b\b\b\b\b\b\b\b\b\b\b\b\b\b\b\b\b\b\b\b\b\b\b\b\b\b\b\b\b\b\b\b\b\b\b\b\b\b\b\b\b\b\b\b\b\b\b\b\b\b\b\b\b\b\b\b\b\b\b\b\b\b\b\b\b\b\b\b\b\b\b\b\b\b\b\b\b\b\b\b\b\b\b\b\b\b\b\b\b\b\b\r",
      "8/8 [==============================] - 0s 16ms/step - root_mean_squared_error: 0.9894 - loss: 0.9770 - regularization_loss: 0.5924 - total_loss: 1.5694 - val_root_mean_squared_error: 1.0992 - val_loss: 1.2132 - val_regularization_loss: 0.5683 - val_total_loss: 1.7815\n"
     ]
    },
    {
     "name": "stdout",
     "output_type": "stream",
     "text": [
      "Epoch 15/30\n",
      "\r",
      "1/8 [==>...........................] - ETA: 0s - root_mean_squared_error: 0.9865 - loss: 0.9732 - regularization_loss: 0.5683 - total_loss: 1.5415"
     ]
    },
    {
     "name": "stdout",
     "output_type": "stream",
     "text": [
      "\b\b\b\b\b\b\b\b\b\b\b\b\b\b\b\b\b\b\b\b\b\b\b\b\b\b\b\b\b\b\b\b\b\b\b\b\b\b\b\b\b\b\b\b\b\b\b\b\b\b\b\b\b\b\b\b\b\b\b\b\b\b\b\b\b\b\b\b\b\b\b\b\b\b\b\b\b\b\b\b\b\b\b\b\b\b\b\b\b\b\b\b\b\b\b\b\b\b\b\b\b\b\b\b\b\b\b\b\b\b\b\b\b\b\b\b\b\b\b\b\b\b\b\b\b\b\b\b\b\b\b\b\b\b\b\b\b\b\b\b\b\b\b\b\b\b\r",
      "8/8 [==============================] - 0s 15ms/step - root_mean_squared_error: 0.9799 - loss: 0.9584 - regularization_loss: 0.5439 - total_loss: 1.5024 - val_root_mean_squared_error: 1.0921 - val_loss: 1.1975 - val_regularization_loss: 0.5220 - val_total_loss: 1.7195\n"
     ]
    },
    {
     "name": "stdout",
     "output_type": "stream",
     "text": [
      "Epoch 16/30\n",
      "\r",
      "1/8 [==>...........................] - ETA: 0s - root_mean_squared_error: 0.9788 - loss: 0.9581 - regularization_loss: 0.5220 - total_loss: 1.4801"
     ]
    },
    {
     "name": "stdout",
     "output_type": "stream",
     "text": [
      "\b\b\b\b\b\b\b\b\b\b\b\b\b\b\b\b\b\b\b\b\b\b\b\b\b\b\b\b\b\b\b\b\b\b\b\b\b\b\b\b\b\b\b\b\b\b\b\b\b\b\b\b\b\b\b\b\b\b\b\b\b\b\b\b\b\b\b\b\b\b\b\b\b\b\b\b\b\b\b\b\b\b\b\b\b\b\b\b\b\b\b\b\b\b\b\b\b\b\b\b\b\b\b\b\b\b\b\b\b\b\b\b\b\b\b\b\b\b\b\b\b\b\b\b\b\b\b\b\b\b\b\b\b\b\b\b\b\b\b\b\b\b\b\b\b\b\r",
      "8/8 [==============================] - 0s 16ms/step - root_mean_squared_error: 0.9730 - loss: 0.9451 - regularization_loss: 0.4998 - total_loss: 1.4449 - val_root_mean_squared_error: 1.0875 - val_loss: 1.1872 - val_regularization_loss: 0.4799 - val_total_loss: 1.6671\n"
     ]
    },
    {
     "name": "stdout",
     "output_type": "stream",
     "text": [
      "Epoch 17/30\n",
      "\r",
      "1/8 [==>...........................] - ETA: 0s - root_mean_squared_error: 0.9731 - loss: 0.9469 - regularization_loss: 0.4799 - total_loss: 1.4268"
     ]
    },
    {
     "name": "stdout",
     "output_type": "stream",
     "text": [
      "\b\b\b\b\b\b\b\b\b\b\b\b\b\b\b\b\b\b\b\b\b\b\b\b\b\b\b\b\b\b\b\b\b\b\b\b\b\b\b\b\b\b\b\b\b\b\b\b\b\b\b\b\b\b\b\b\b\b\b\b\b\b\b\b\b\b\b\b\b\b\b\b\b\b\b\b\b\b\b\b\b\b\b\b\b\b\b\b\b\b\b\b\b\b\b\b\b\b\b\b\b\b\b\b\b\b\b\b\b\b\b\b\b\b\b\b\b\b\b\b\b\b\b\b\b\b\b\b\b\b\b\b\b\b\b\b\b\b\b\b\b\b\b\b\b\b\r",
      "8/8 [==============================] - 0s 15ms/step - root_mean_squared_error: 0.9679 - loss: 0.9353 - regularization_loss: 0.4595 - total_loss: 1.3948 - val_root_mean_squared_error: 1.0847 - val_loss: 1.1806 - val_regularization_loss: 0.4416 - val_total_loss: 1.6222\n"
     ]
    },
    {
     "name": "stdout",
     "output_type": "stream",
     "text": [
      "Epoch 18/30\n",
      "\r",
      "1/8 [==>...........................] - ETA: 0s - root_mean_squared_error: 0.9687 - loss: 0.9383 - regularization_loss: 0.4416 - total_loss: 1.3799"
     ]
    },
    {
     "name": "stdout",
     "output_type": "stream",
     "text": [
      "\b\b\b\b\b\b\b\b\b\b\b\b\b\b\b\b\b\b\b\b\b\b\b\b\b\b\b\b\b\b\b\b\b\b\b\b\b\b\b\b\b\b\b\b\b\b\b\b\b\b\b\b\b\b\b\b\b\b\b\b\b\b\b\b\b\b\b\b\b\b\b\b\b\b\b\b\b\b\b\b\b\b\b\b\b\b\b\b\b\b\b\b\b\b\b\b\b\b\b\b\b\b\b\b\b\b\b\b\b\b\b\b\b\b\b\b\b\b\b\b\b\b\b\b\b\b\b\b\b\b\b\b\b\b\b\b\b\b\b\b\b\b\b\b\b\b\r",
      "8/8 [==============================] - 0s 15ms/step - root_mean_squared_error: 0.9639 - loss: 0.9278 - regularization_loss: 0.4228 - total_loss: 1.3506 - val_root_mean_squared_error: 1.0827 - val_loss: 1.1760 - val_regularization_loss: 0.4068 - val_total_loss: 1.5828\n"
     ]
    },
    {
     "name": "stdout",
     "output_type": "stream",
     "text": [
      "Epoch 19/30\n",
      "\r",
      "1/8 [==>...........................] - ETA: 0s - root_mean_squared_error: 0.9651 - loss: 0.9314 - regularization_loss: 0.4068 - total_loss: 1.3381"
     ]
    },
    {
     "name": "stdout",
     "output_type": "stream",
     "text": [
      "\b\b\b\b\b\b\b\b\b\b\b\b\b\b\b\b\b\b\b\b\b\b\b\b\b\b\b\b\b\b\b\b\b\b\b\b\b\b\b\b\b\b\b\b\b\b\b\b\b\b\b\b\b\b\b\b\b\b\b\b\b\b\b\b\b\b\b\b\b\b\b\b\b\b\b\b\b\b\b\b\b\b\b\b\b\b\b\b\b\b\b\b\b\b\b\b\b\b\b\b\b\b\b\b\b\b\b\b\b\b\b\b\b\b\b\b\b\b\b\b\b\b\b\b\b\b\b\b\b\b\b\b\b\b\b\b\b\b\b\b\b\b\b\b\b\b\r",
      "8/8 [==============================] - 0s 15ms/step - root_mean_squared_error: 0.9606 - loss: 0.9215 - regularization_loss: 0.3895 - total_loss: 1.3109 - val_root_mean_squared_error: 1.0807 - val_loss: 1.1715 - val_regularization_loss: 0.3751 - val_total_loss: 1.5466\n"
     ]
    },
    {
     "name": "stdout",
     "output_type": "stream",
     "text": [
      "Epoch 20/30\n",
      "\r",
      "1/8 [==>...........................] - ETA: 0s - root_mean_squared_error: 0.9618 - loss: 0.9251 - regularization_loss: 0.3751 - total_loss: 1.3001"
     ]
    },
    {
     "name": "stdout",
     "output_type": "stream",
     "text": [
      "\b\b\b\b\b\b\b\b\b\b\b\b\b\b\b\b\b\b\b\b\b\b\b\b\b\b\b\b\b\b\b\b\b\b\b\b\b\b\b\b\b\b\b\b\b\b\b\b\b\b\b\b\b\b\b\b\b\b\b\b\b\b\b\b\b\b\b\b\b\b\b\b\b\b\b\b\b\b\b\b\b\b\b\b\b\b\b\b\b\b\b\b\b\b\b\b\b\b\b\b\b\b\b\b\b\b\b\b\b\b\b\b\b\b\b\b\b\b\b\b\b\b\b\b\b\b\b\b\b\b\b\b\b\b\b\b\b\b\b\b\b\b\b\b\b\b\r",
      "8/8 [==============================] - 0s 16ms/step - root_mean_squared_error: 0.9574 - loss: 0.9152 - regularization_loss: 0.3592 - total_loss: 1.2744 - val_root_mean_squared_error: 1.0781 - val_loss: 1.1656 - val_regularization_loss: 0.3462 - val_total_loss: 1.5118\n"
     ]
    },
    {
     "name": "stdout",
     "output_type": "stream",
     "text": [
      "Epoch 21/30\n",
      "\r",
      "1/8 [==>...........................] - ETA: 0s - root_mean_squared_error: 0.9584 - loss: 0.9185 - regularization_loss: 0.3462 - total_loss: 1.2648"
     ]
    },
    {
     "name": "stdout",
     "output_type": "stream",
     "text": [
      "\b\b\b\b\b\b\b\b\b\b\b\b\b\b\b\b\b\b\b\b\b\b\b\b\b\b\b\b\b\b\b\b\b\b\b\b\b\b\b\b\b\b\b\b\b\b\b\b\b\b\b\b\b\b\b\b\b\b\b\b\b\b\b\b\b\b\b\b\b\b\b\b\b\b\b\b\b\b\b\b\b\b\b\b\b\b\b\b\b\b\b\b\b\b\b\b\b\b\b\b\b\b\b\b\b\b\b\b\b\b\b\b\b\b\b\b\b\b\b\b\b\b\b\b\b\b\b\b\b\b\b\b\b\b\b\b\b\b\b\b\b\b\b\b\b\b\r",
      "8/8 [==============================] - 0s 15ms/step - root_mean_squared_error: 0.9539 - loss: 0.9085 - regularization_loss: 0.3317 - total_loss: 1.2402 - val_root_mean_squared_error: 1.0747 - val_loss: 1.1581 - val_regularization_loss: 0.3200 - val_total_loss: 1.4781\n"
     ]
    },
    {
     "name": "stdout",
     "output_type": "stream",
     "text": [
      "Epoch 22/30\n",
      "\r",
      "1/8 [==>...........................] - ETA: 0s - root_mean_squared_error: 0.9548 - loss: 0.9117 - regularization_loss: 0.3200 - total_loss: 1.2317"
     ]
    },
    {
     "name": "stdout",
     "output_type": "stream",
     "text": [
      "\b\b\b\b\b\b\b\b\b\b\b\b\b\b\b\b\b\b\b\b\b\b\b\b\b\b\b\b\b\b\b\b\b\b\b\b\b\b\b\b\b\b\b\b\b\b\b\b\b\b\b\b\b\b\b\b\b\b\b\b\b\b\b\b\b\b\b\b\b\b\b\b\b\b\b\b\b\b\b\b\b\b\b\b\b\b\b\b\b\b\b\b\b\b\b\b\b\b\b\b\b\b\b\b\b\b\b\b\b\b\b\b\b\b\b\b\b\b\b\b\b\b\b\b\b\b\b\b\b\b\b\b\b\b\b\b\b\b\b\b\b\b\b\b\b\b\r",
      "8/8 [==============================] - 0s 15ms/step - root_mean_squared_error: 0.9503 - loss: 0.9015 - regularization_loss: 0.3068 - total_loss: 1.2083 - val_root_mean_squared_error: 1.0710 - val_loss: 1.1500 - val_regularization_loss: 0.2962 - val_total_loss: 1.4462\n"
     ]
    },
    {
     "name": "stdout",
     "output_type": "stream",
     "text": [
      "Epoch 23/30\n",
      "\r",
      "1/8 [==>...........................] - ETA: 0s - root_mean_squared_error: 0.9513 - loss: 0.9049 - regularization_loss: 0.2962 - total_loss: 1.2011"
     ]
    },
    {
     "name": "stdout",
     "output_type": "stream",
     "text": [
      "\b\b\b\b\b\b\b\b\b\b\b\b\b\b\b\b\b\b\b\b\b\b\b\b\b\b\b\b\b\b\b\b\b\b\b\b\b\b\b\b\b\b\b\b\b\b\b\b\b\b\b\b\b\b\b\b\b\b\b\b\b\b\b\b\b\b\b\b\b\b\b\b\b\b\b\b\b\b\b\b\b\b\b\b\b\b\b\b\b\b\b\b\b\b\b\b\b\b\b\b\b\b\b\b\b\b\b\b\b\b\b\b\b\b\b\b\b\b\b\b\b\b\b\b\b\b\b\b\b\b\b\b\b\b\b\b\b\b\b\b\b\b\b\b\b\b\r",
      "8/8 [==============================] - 0s 15ms/step - root_mean_squared_error: 0.9468 - loss: 0.8949 - regularization_loss: 0.2842 - total_loss: 1.1790 - val_root_mean_squared_error: 1.0675 - val_loss: 1.1423 - val_regularization_loss: 0.2746 - val_total_loss: 1.4169\n"
     ]
    },
    {
     "name": "stdout",
     "output_type": "stream",
     "text": [
      "Epoch 24/30\n",
      "\r",
      "1/8 [==>...........................] - ETA: 0s - root_mean_squared_error: 0.9480 - loss: 0.8988 - regularization_loss: 0.2746 - total_loss: 1.1734"
     ]
    },
    {
     "name": "stdout",
     "output_type": "stream",
     "text": [
      "\b\b\b\b\b\b\b\b\b\b\b\b\b\b\b\b\b\b\b\b\b\b\b\b\b\b\b\b\b\b\b\b\b\b\b\b\b\b\b\b\b\b\b\b\b\b\b\b\b\b\b\b\b\b\b\b\b\b\b\b\b\b\b\b\b\b\b\b\b\b\b\b\b\b\b\b\b\b\b\b\b\b\b\b\b\b\b\b\b\b\b\b\b\b\b\b\b\b\b\b\b\b\b\b\b\b\b\b\b\b\b\b\b\b\b\b\b\b\b\b\b\b\b\b\b\b\b\b\b\b\b\b\b\b\b\b\b\b\b\b\b\b\b\b\b\b\r",
      "8/8 [==============================] - 0s 15ms/step - root_mean_squared_error: 0.9437 - loss: 0.8890 - regularization_loss: 0.2636 - total_loss: 1.1527 - val_root_mean_squared_error: 1.0645 - val_loss: 1.1358 - val_regularization_loss: 0.2550 - val_total_loss: 1.3908\n"
     ]
    },
    {
     "name": "stdout",
     "output_type": "stream",
     "text": [
      "Epoch 25/30\n",
      "\r",
      "1/8 [==>...........................] - ETA: 0s - root_mean_squared_error: 0.9453 - loss: 0.8935 - regularization_loss: 0.2550 - total_loss: 1.1485"
     ]
    },
    {
     "name": "stdout",
     "output_type": "stream",
     "text": [
      "\b\b\b\b\b\b\b\b\b\b\b\b\b\b\b\b\b\b\b\b\b\b\b\b\b\b\b\b\b\b\b\b\b\b\b\b\b\b\b\b\b\b\b\b\b\b\b\b\b\b\b\b\b\b\b\b\b\b\b\b\b\b\b\b\b\b\b\b\b\b\b\b\b\b\b\b\b\b\b\b\b\b\b\b\b\b\b\b\b\b\b\b\b\b\b\b\b\b\b\b\b\b\b\b\b\b\b\b\b\b\b\b\b\b\b\b\b\b\b\b\b\b\b\b\b\b\b\b\b\b\b\b\b\b\b\b\b\b\b\b\b\b\b\b\b\b\r",
      "8/8 [==============================] - 0s 15ms/step - root_mean_squared_error: 0.9411 - loss: 0.8841 - regularization_loss: 0.2450 - total_loss: 1.1291 - val_root_mean_squared_error: 1.0621 - val_loss: 1.1307 - val_regularization_loss: 0.2372 - val_total_loss: 1.3679\n"
     ]
    },
    {
     "name": "stdout",
     "output_type": "stream",
     "text": [
      "Epoch 26/30\n",
      "\r",
      "1/8 [==>...........................] - ETA: 0s - root_mean_squared_error: 0.9429 - loss: 0.8891 - regularization_loss: 0.2372 - total_loss: 1.1262"
     ]
    },
    {
     "name": "stdout",
     "output_type": "stream",
     "text": [
      "\b\b\b\b\b\b\b\b\b\b\b\b\b\b\b\b\b\b\b\b\b\b\b\b\b\b\b\b\b\b\b\b\b\b\b\b\b\b\b\b\b\b\b\b\b\b\b\b\b\b\b\b\b\b\b\b\b\b\b\b\b\b\b\b\b\b\b\b\b\b\b\b\b\b\b\b\b\b\b\b\b\b\b\b\b\b\b\b\b\b\b\b\b\b\b\b\b\b\b\b\b\b\b\b\b\b\b\b\b\b\b\b\b\b\b\b\b\b\b\b\b\b\b\b\b\b\b\b\b\b\b\b\b\b\b\b\b\b\b\b\b\b\b\b\b\b\r",
      "8/8 [==============================] - 0s 15ms/step - root_mean_squared_error: 0.9390 - loss: 0.8800 - regularization_loss: 0.2281 - total_loss: 1.1081 - val_root_mean_squared_error: 1.0604 - val_loss: 1.1271 - val_regularization_loss: 0.2210 - val_total_loss: 1.3481\n"
     ]
    },
    {
     "name": "stdout",
     "output_type": "stream",
     "text": [
      "Epoch 27/30\n",
      "\r",
      "1/8 [==>...........................] - ETA: 0s - root_mean_squared_error: 0.9410 - loss: 0.8854 - regularization_loss: 0.2210 - total_loss: 1.1064"
     ]
    },
    {
     "name": "stdout",
     "output_type": "stream",
     "text": [
      "\b\b\b\b\b\b\b\b\b\b\b\b\b\b\b\b\b\b\b\b\b\b\b\b\b\b\b\b\b\b\b\b\b\b\b\b\b\b\b\b\b\b\b\b\b\b\b\b\b\b\b\b\b\b\b\b\b\b\b\b\b\b\b\b\b\b\b\b\b\b\b\b\b\b\b\b\b\b\b\b\b\b\b\b\b\b\b\b\b\b\b\b\b\b\b\b\b\b\b\b\b\b\b\b\b\b\b\b\b\b\b\b\b\b\b\b\b\b\b\b\b\b\b\b\b\b\b\b\b\b\b\b\b\b\b\b\b\b\b\b\b\b\b\b\b\b\r",
      "8/8 [==============================] - 0s 15ms/step - root_mean_squared_error: 0.9372 - loss: 0.8768 - regularization_loss: 0.2127 - total_loss: 1.0895 - val_root_mean_squared_error: 1.0594 - val_loss: 1.1250 - val_regularization_loss: 0.2064 - val_total_loss: 1.3313\n"
     ]
    },
    {
     "name": "stdout",
     "output_type": "stream",
     "text": [
      "Epoch 28/30\n",
      "\r",
      "1/8 [==>...........................] - ETA: 0s - root_mean_squared_error: 0.9394 - loss: 0.8825 - regularization_loss: 0.2064 - total_loss: 1.0889"
     ]
    },
    {
     "name": "stdout",
     "output_type": "stream",
     "text": [
      "\b\b\b\b\b\b\b\b\b\b\b\b\b\b\b\b\b\b\b\b\b\b\b\b\b\b\b\b\b\b\b\b\b\b\b\b\b\b\b\b\b\b\b\b\b\b\b\b\b\b\b\b\b\b\b\b\b\b\b\b\b\b\b\b\b\b\b\b\b\b\b\b\b\b\b\b\b\b\b\b\b\b\b\b\b\b\b\b\b\b\b\b\b\b\b\b\b\b\b\b\b\b\b\b\b\b\b\b\b\b\b\b\b\b\b\b\b\b\b\b\b\b\b\b\b\b\b\b\b\b\b\b\b\b\b\b\b\b\b\b\b\b\b\b\b\b\r",
      "8/8 [==============================] - 0s 15ms/step - root_mean_squared_error: 0.9359 - loss: 0.8743 - regularization_loss: 0.1987 - total_loss: 1.0730 - val_root_mean_squared_error: 1.0592 - val_loss: 1.1244 - val_regularization_loss: 0.1931 - val_total_loss: 1.3175\n"
     ]
    },
    {
     "name": "stdout",
     "output_type": "stream",
     "text": [
      "Epoch 29/30\n",
      "\r",
      "1/8 [==>...........................] - ETA: 0s - root_mean_squared_error: 0.9383 - loss: 0.8803 - regularization_loss: 0.1931 - total_loss: 1.0734"
     ]
    },
    {
     "name": "stdout",
     "output_type": "stream",
     "text": [
      "\b\b\b\b\b\b\b\b\b\b\b\b\b\b\b\b\b\b\b\b\b\b\b\b\b\b\b\b\b\b\b\b\b\b\b\b\b\b\b\b\b\b\b\b\b\b\b\b\b\b\b\b\b\b\b\b\b\b\b\b\b\b\b\b\b\b\b\b\b\b\b\b\b\b\b\b\b\b\b\b\b\b\b\b\b\b\b\b\b\b\b\b\b\b\b\b\b\b\b\b\b\b\b\b\b\b\b\b\b\b\b\b\b\b\b\b\b\b\b\b\b\b\b\b\b\b\b\b\b\b\b\b\b\b\b\b\b\b\b\b\b\b\b\b\b\b\r",
      "8/8 [==============================] - 0s 15ms/step - root_mean_squared_error: 0.9350 - loss: 0.8726 - regularization_loss: 0.1860 - total_loss: 1.0586 - val_root_mean_squared_error: 1.0597 - val_loss: 1.1255 - val_regularization_loss: 0.1811 - val_total_loss: 1.3065\n"
     ]
    },
    {
     "name": "stdout",
     "output_type": "stream",
     "text": [
      "Epoch 30/30\n",
      "\r",
      "1/8 [==>...........................] - ETA: 0s - root_mean_squared_error: 0.9375 - loss: 0.8789 - regularization_loss: 0.1811 - total_loss: 1.0600"
     ]
    },
    {
     "name": "stdout",
     "output_type": "stream",
     "text": [
      "\b\b\b\b\b\b\b\b\b\b\b\b\b\b\b\b\b\b\b\b\b\b\b\b\b\b\b\b\b\b\b\b\b\b\b\b\b\b\b\b\b\b\b\b\b\b\b\b\b\b\b\b\b\b\b\b\b\b\b\b\b\b\b\b\b\b\b\b\b\b\b\b\b\b\b\b\b\b\b\b\b\b\b\b\b\b\b\b\b\b\b\b\b\b\b\b\b\b\b\b\b\b\b\b\b\b\b\b\b\b\b\b\b\b\b\b\b\b\b\b\b\b\b\b\b\b\b\b\b\b\b\b\b\b\b\b\b\b\b\b\b\b\b\b\b\b\r",
      "8/8 [==============================] - 0s 15ms/step - root_mean_squared_error: 0.9344 - loss: 0.8718 - regularization_loss: 0.1744 - total_loss: 1.0462 - val_root_mean_squared_error: 1.0609 - val_loss: 1.1280 - val_regularization_loss: 0.1701 - val_total_loss: 1.2981\n"
     ]
    },
    {
     "name": "stdout",
     "output_type": "stream",
     "text": [
      "Learning rate = 1\n"
     ]
    },
    {
     "name": "stdout",
     "output_type": "stream",
     "text": [
      "Epoch 1/30\n"
     ]
    },
    {
     "name": "stdout",
     "output_type": "stream",
     "text": [
      "\r",
      "      1/Unknown - 1s 593ms/step - root_mean_squared_error: 3.7115 - loss: 13.7750 - regularization_loss: 2.0279 - total_loss: 15.8028"
     ]
    },
    {
     "name": "stdout",
     "output_type": "stream",
     "text": [
      "\b\b\b\b\b\b\b\b\b\b\b\b\b\b\b\b\b\b\b\b\b\b\b\b\b\b\b\b\b\b\b\b\b\b\b\b\b\b\b\b\b\b\b\b\b\b\b\b\b\b\b\b\b\b\b\b\b\b\b\b\b\b\b\b\b\b\b\b\b\b\b\b\b\b\b\b\b\b\b\b\b\b\b\b\b\b\b\b\b\b\b\b\b\b\b\b\b\b\b\b\b\b\b\b\b\b\b\b\b\b\b\b\b\b\b\b\b\b\b\b\b\b\b\b\b\b\b\b\b\b\b\b\b\r",
      "8/8 [==============================] - 1s 31ms/step - root_mean_squared_error: 284.9959 - loss: 144894.3934 - regularization_loss: 56.6426 - total_loss: 144951.0391 - val_root_mean_squared_error: 588.7143 - val_loss: 350328.6875 - val_regularization_loss: 127.5263 - val_total_loss: 350456.2188\n"
     ]
    },
    {
     "name": "stdout",
     "output_type": "stream",
     "text": [
      "Epoch 2/30\n",
      "\r",
      "1/8 [==>...........................] - ETA: 0s - root_mean_squared_error: 564.7789 - loss: 318975.1875 - regularization_loss: 127.5263 - total_loss: 319102.7188"
     ]
    },
    {
     "name": "stdout",
     "output_type": "stream",
     "text": [
      "\b\b\b\b\b\b\b\b\b\b\b\b\b\b\b\b\b\b\b\b\b\b\b\b\b\b\b\b\b\b\b\b\b\b\b\b\b\b\b\b\b\b\b\b\b\b\b\b\b\b\b\b\b\b\b\b\b\b\b\b\b\b\b\b\b\b\b\b\b\b\b\b\b\b\b\b\b\b\b\b\b\b\b\b\b\b\b\b\b\b\b\b\b\b\b\b\b\b\b\b\b\b\b\b\b\b\b\b\b\b\b\b\b\b\b\b\b\b\b\b\b\b\b\b\b\b\b\b\b\b\b\b\b\b\b\b\b\b\b\b\b\b\b\b\b\b\b\b\b\b\b\b\b\b\b\b\b\b\b\b\r",
      "8/8 [==============================] - 0s 15ms/step - root_mean_squared_error: 507.7577 - loss: 228477.1312 - regularization_loss: 178.8496 - total_loss: 228655.9873 - val_root_mean_squared_error: 7.7066 - val_loss: 58.1877 - val_regularization_loss: 198.8174 - val_total_loss: 257.0051\n"
     ]
    },
    {
     "name": "stdout",
     "output_type": "stream",
     "text": [
      "Epoch 3/30\n",
      "\r",
      "1/8 [==>...........................] - ETA: 0s - root_mean_squared_error: 9.2195 - loss: 84.9984 - regularization_loss: 198.8174 - total_loss: 283.8158"
     ]
    },
    {
     "name": "stdout",
     "output_type": "stream",
     "text": [
      "\b\b\b\b\b\b\b\b\b\b\b\b\b\b\b\b\b\b\b\b\b\b\b\b\b\b\b\b\b\b\b\b\b\b\b\b\b\b\b\b\b\b\b\b\b\b\b\b\b\b\b\b\b\b\b\b\b\b\b\b\b\b\b\b\b\b\b\b\b\b\b\b\b\b\b\b\b\b\b\b\b\b\b\b\b\b\b\b\b\b\b\b\b\b\b\b\b\b\b\b\b\b\b\b\b\b\b\b\b\b\b\b\b\b\b\b\b\b\b\b\b\b\b\b\b\b\b\b\b\b\b\b\b\b\b\b\b\b\b\b\b\b\b\b\b\b\b\b\b\b\b\r",
      "8/8 [==============================] - 0s 15ms/step - root_mean_squared_error: 6.3622 - loss: 39.3747 - regularization_loss: 195.1582 - total_loss: 234.5329 - val_root_mean_squared_error: 4.8104 - val_loss: 22.1147 - val_regularization_loss: 191.4448 - val_total_loss: 213.5595\n"
     ]
    },
    {
     "name": "stdout",
     "output_type": "stream",
     "text": [
      "Epoch 4/30\n",
      "\r",
      "1/8 [==>...........................] - ETA: 0s - root_mean_squared_error: 5.6242 - loss: 31.6315 - regularization_loss: 191.4448 - total_loss: 223.0763"
     ]
    },
    {
     "name": "stdout",
     "output_type": "stream",
     "text": [
      "\b\b\b\b\b\b\b\b\b\b\b\b\b\b\b\b\b\b\b\b\b\b\b\b\b\b\b\b\b\b\b\b\b\b\b\b\b\b\b\b\b\b\b\b\b\b\b\b\b\b\b\b\b\b\b\b\b\b\b\b\b\b\b\b\b\b\b\b\b\b\b\b\b\b\b\b\b\b\b\b\b\b\b\b\b\b\b\b\b\b\b\b\b\b\b\b\b\b\b\b\b\b\b\b\b\b\b\b\b\b\b\b\b\b\b\b\b\b\b\b\b\b\b\b\b\b\b\b\b\b\b\b\b\b\b\b\b\b\b\b\b\b\b\b\b\b\b\b\b\b\b\r",
      "8/8 [==============================] - 0s 16ms/step - root_mean_squared_error: 5.5222 - loss: 30.2616 - regularization_loss: 188.4270 - total_loss: 218.6886 - val_root_mean_squared_error: 4.8197 - val_loss: 22.2795 - val_regularization_loss: 185.4446 - val_total_loss: 207.7240\n"
     ]
    },
    {
     "name": "stdout",
     "output_type": "stream",
     "text": [
      "Epoch 5/30\n",
      "\r",
      "1/8 [==>...........................] - ETA: 0s - root_mean_squared_error: 5.3874 - loss: 29.0236 - regularization_loss: 185.4446 - total_loss: 214.4682"
     ]
    },
    {
     "name": "stdout",
     "output_type": "stream",
     "text": [
      "\b\b\b\b\b\b\b\b\b\b\b\b\b\b\b\b\b\b\b\b\b\b\b\b\b\b\b\b\b\b\b\b\b\b\b\b\b\b\b\b\b\b\b\b\b\b\b\b\b\b\b\b\b\b\b\b\b\b\b\b\b\b\b\b\b\b\b\b\b\b\b\b\b\b\b\b\b\b\b\b\b\b\b\b\b\b\b\b\b\b\b\b\b\b\b\b\b\b\b\b\b\b\b\b\b\b\b\b\b\b\b\b\b\b\b\b\b\b\b\b\b\b\b\b\b\b\b\b\b\b\b\b\b\b\b\b\b\b\b\b\b\b\b\b\b\b\b\b\b\b\b\r",
      "8/8 [==============================] - 0s 16ms/step - root_mean_squared_error: 4.7882 - loss: 22.0008 - regularization_loss: 182.8668 - total_loss: 204.8676 - val_root_mean_squared_error: 3.9114 - val_loss: 14.5057 - val_regularization_loss: 180.2952 - val_total_loss: 194.8009\n"
     ]
    },
    {
     "name": "stdout",
     "output_type": "stream",
     "text": [
      "Epoch 6/30\n",
      "\r",
      "1/8 [==>...........................] - ETA: 0s - root_mean_squared_error: 3.8514 - loss: 14.8334 - regularization_loss: 180.2952 - total_loss: 195.1286"
     ]
    },
    {
     "name": "stdout",
     "output_type": "stream",
     "text": [
      "\b\b\b\b\b\b\b\b\b\b\b\b\b\b\b\b\b\b\b\b\b\b\b\b\b\b\b\b\b\b\b\b\b\b\b\b\b\b\b\b\b\b\b\b\b\b\b\b\b\b\b\b\b\b\b\b\b\b\b\b\b\b\b\b\b\b\b\b\b\b\b\b\b\b\b\b\b\b\b\b\b\b\b\b\b\b\b\b\b\b\b\b\b\b\b\b\b\b\b\b\b\b\b\b\b\b\b\b\b\b\b\b\b\b\b\b\b\b\b\b\b\b\b\b\b\b\b\b\b\b\b\b\b\b\b\b\b\b\b\b\b\b\b\b\b\b\b\b\b\b\b\r",
      "8/8 [==============================] - 0s 16ms/step - root_mean_squared_error: 3.6426 - loss: 13.1300 - regularization_loss: 178.1283 - total_loss: 191.2582 - val_root_mean_squared_error: 3.8706 - val_loss: 14.4068 - val_regularization_loss: 175.9313 - val_total_loss: 190.3382\n"
     ]
    },
    {
     "name": "stdout",
     "output_type": "stream",
     "text": [
      "Epoch 7/30\n",
      "\r",
      "1/8 [==>...........................] - ETA: 0s - root_mean_squared_error: 3.7466 - loss: 14.0368 - regularization_loss: 175.9313 - total_loss: 189.9681"
     ]
    },
    {
     "name": "stdout",
     "output_type": "stream",
     "text": [
      "\b\b\b\b\b\b\b\b\b\b\b\b\b\b\b\b\b\b\b\b\b\b\b\b\b\b\b\b\b\b\b\b\b\b\b\b\b\b\b\b\b\b\b\b\b\b\b\b\b\b\b\b\b\b\b\b\b\b\b\b\b\b\b\b\b\b\b\b\b\b\b\b\b\b\b\b\b\b\b\b\b\b\b\b\b\b\b\b\b\b\b\b\b\b\b\b\b\b\b\b\b\b\b\b\b\b\b\b\b\b\b\b\b\b\b\b\b\b\b\b\b\b\b\b\b\b\b\b\b\b\b\b\b\b\b\b\b\b\b\b\b\b\b\b\b\b\b\b\b\b\b\r",
      "8/8 [==============================] - 0s 16ms/step - root_mean_squared_error: 3.3395 - loss: 10.9888 - regularization_loss: 173.9775 - total_loss: 184.9663 - val_root_mean_squared_error: 3.6702 - val_loss: 13.3848 - val_regularization_loss: 172.0468 - val_total_loss: 185.4316\n"
     ]
    },
    {
     "name": "stdout",
     "output_type": "stream",
     "text": [
      "Epoch 8/30\n",
      "\r",
      "1/8 [==>...........................] - ETA: 0s - root_mean_squared_error: 3.6048 - loss: 12.9948 - regularization_loss: 172.0468 - total_loss: 185.0416"
     ]
    },
    {
     "name": "stdout",
     "output_type": "stream",
     "text": [
      "\b\b\b\b\b\b\b\b\b\b\b\b\b\b\b\b\b\b\b\b\b\b\b\b\b\b\b\b\b\b\b\b\b\b\b\b\b\b\b\b\b\b\b\b\b\b\b\b\b\b\b\b\b\b\b\b\b\b\b\b\b\b\b\b\b\b\b\b\b\b\b\b\b\b\b\b\b\b\b\b\b\b\b\b\b\b\b\b\b\b\b\b\b\b\b\b\b\b\b\b\b\b\b\b\b\b\b\b\b\b\b\b\b\b\b\b\b\b\b\b\b\b\b\b\b\b\b\b\b\b\b\b\b\b\b\b\b\b\b\b\b\b\b\b\b\b\b\b\b\b\b\r",
      "8/8 [==============================] - 0s 15ms/step - root_mean_squared_error: 3.1437 - loss: 9.7256 - regularization_loss: 170.4842 - total_loss: 180.2098 - val_root_mean_squared_error: 3.3783 - val_loss: 10.9092 - val_regularization_loss: 168.6579 - val_total_loss: 179.5671\n"
     ]
    },
    {
     "name": "stdout",
     "output_type": "stream",
     "text": [
      "Epoch 9/30\n",
      "\r",
      "1/8 [==>...........................] - ETA: 0s - root_mean_squared_error: 2.9605 - loss: 8.7648 - regularization_loss: 168.6579 - total_loss: 177.4228"
     ]
    },
    {
     "name": "stdout",
     "output_type": "stream",
     "text": [
      "\b\b\b\b\b\b\b\b\b\b\b\b\b\b\b\b\b\b\b\b\b\b\b\b\b\b\b\b\b\b\b\b\b\b\b\b\b\b\b\b\b\b\b\b\b\b\b\b\b\b\b\b\b\b\b\b\b\b\b\b\b\b\b\b\b\b\b\b\b\b\b\b\b\b\b\b\b\b\b\b\b\b\b\b\b\b\b\b\b\b\b\b\b\b\b\b\b\b\b\b\b\b\b\b\b\b\b\b\b\b\b\b\b\b\b\b\b\b\b\b\b\b\b\b\b\b\b\b\b\b\b\b\b\b\b\b\b\b\b\b\b\b\b\b\b\b\b\b\b\b\r",
      "8/8 [==============================] - 0s 15ms/step - root_mean_squared_error: 2.9285 - loss: 8.5099 - regularization_loss: 167.0046 - total_loss: 175.5145 - val_root_mean_squared_error: 3.2783 - val_loss: 10.3163 - val_regularization_loss: 165.3401 - val_total_loss: 175.6564\n"
     ]
    },
    {
     "name": "stdout",
     "output_type": "stream",
     "text": [
      "Epoch 10/30\n",
      "\r",
      "1/8 [==>...........................] - ETA: 0s - root_mean_squared_error: 2.9824 - loss: 8.8948 - regularization_loss: 165.3401 - total_loss: 174.2349"
     ]
    },
    {
     "name": "stdout",
     "output_type": "stream",
     "text": [
      "\b\b\b\b\b\b\b\b\b\b\b\b\b\b\b\b\b\b\b\b\b\b\b\b\b\b\b\b\b\b\b\b\b\b\b\b\b\b\b\b\b\b\b\b\b\b\b\b\b\b\b\b\b\b\b\b\b\b\b\b\b\b\b\b\b\b\b\b\b\b\b\b\b\b\b\b\b\b\b\b\b\b\b\b\b\b\b\b\b\b\b\b\b\b\b\b\b\b\b\b\b\b\b\b\b\b\b\b\b\b\b\b\b\b\b\b\b\b\b\b\b\b\b\b\b\b\b\b\b\b\b\b\b\b\b\b\b\b\b\b\b\b\b\b\b\b\b\b\b\b\r",
      "8/8 [==============================] - 0s 16ms/step - root_mean_squared_error: 2.8061 - loss: 7.7331 - regularization_loss: 163.8330 - total_loss: 171.5661 - val_root_mean_squared_error: 3.2352 - val_loss: 10.4286 - val_regularization_loss: 162.3151 - val_total_loss: 172.7438\n"
     ]
    },
    {
     "name": "stdout",
     "output_type": "stream",
     "text": [
      "Epoch 11/30\n",
      "\r",
      "1/8 [==>...........................] - ETA: 0s - root_mean_squared_error: 2.6587 - loss: 7.0688 - regularization_loss: 162.3151 - total_loss: 169.3839"
     ]
    },
    {
     "name": "stdout",
     "output_type": "stream",
     "text": [
      "\b\b\b\b\b\b\b\b\b\b\b\b\b\b\b\b\b\b\b\b\b\b\b\b\b\b\b\b\b\b\b\b\b\b\b\b\b\b\b\b\b\b\b\b\b\b\b\b\b\b\b\b\b\b\b\b\b\b\b\b\b\b\b\b\b\b\b\b\b\b\b\b\b\b\b\b\b\b\b\b\b\b\b\b\b\b\b\b\b\b\b\b\b\b\b\b\b\b\b\b\b\b\b\b\b\b\b\b\b\b\b\b\b\b\b\b\b\b\b\b\b\b\b\b\b\b\b\b\b\b\b\b\b\b\b\b\b\b\b\b\b\b\b\b\b\b\b\b\b\b\r",
      "8/8 [==============================] - 0s 17ms/step - root_mean_squared_error: 2.5717 - loss: 6.5390 - regularization_loss: 160.9852 - total_loss: 167.5242 - val_root_mean_squared_error: 3.0445 - val_loss: 8.9270 - val_regularization_loss: 159.5685 - val_total_loss: 168.4955\n"
     ]
    },
    {
     "name": "stdout",
     "output_type": "stream",
     "text": [
      "Epoch 12/30\n",
      "\r",
      "1/8 [==>...........................] - ETA: 0s - root_mean_squared_error: 2.5463 - loss: 6.4838 - regularization_loss: 159.5685 - total_loss: 166.0522"
     ]
    },
    {
     "name": "stdout",
     "output_type": "stream",
     "text": [
      "\b\b\b\b\b\b\b\b\b\b\b\b\b\b\b\b\b\b\b\b\b\b\b\b\b\b\b\b\b\b\b\b\b\b\b\b\b\b\b\b\b\b\b\b\b\b\b\b\b\b\b\b\b\b\b\b\b\b\b\b\b\b\b\b\b\b\b\b\b\b\b\b\b\b\b\b\b\b\b\b\b\b\b\b\b\b\b\b\b\b\b\b\b\b\b\b\b\b\b\b\b\b\b\b\b\b\b\b\b\b\b\b\b\b\b\b\b\b\b\b\b\b\b\b\b\b\b\b\b\b\b\b\b\b\b\b\b\b\b\b\b\b\b\b\b\b\b\b\b\b\r",
      "8/8 [==============================] - 0s 16ms/step - root_mean_squared_error: 2.5276 - loss: 6.3039 - regularization_loss: 158.2673 - total_loss: 164.5712 - val_root_mean_squared_error: 2.9739 - val_loss: 8.5437 - val_regularization_loss: 156.9631 - val_total_loss: 165.5068\n"
     ]
    },
    {
     "name": "stdout",
     "output_type": "stream",
     "text": [
      "Epoch 13/30\n",
      "\r",
      "1/8 [==>...........................] - ETA: 0s - root_mean_squared_error: 2.5313 - loss: 6.4076 - regularization_loss: 156.9631 - total_loss: 163.3708"
     ]
    },
    {
     "name": "stdout",
     "output_type": "stream",
     "text": [
      "\b\b\b\b\b\b\b\b\b\b\b\b\b\b\b\b\b\b\b\b\b\b\b\b\b\b\b\b\b\b\b\b\b\b\b\b\b\b\b\b\b\b\b\b\b\b\b\b\b\b\b\b\b\b\b\b\b\b\b\b\b\b\b\b\b\b\b\b\b\b\b\b\b\b\b\b\b\b\b\b\b\b\b\b\b\b\b\b\b\b\b\b\b\b\b\b\b\b\b\b\b\b\b\b\b\b\b\b\b\b\b\b\b\b\b\b\b\b\b\b\b\b\b\b\b\b\b\b\b\b\b\b\b\b\b\b\b\b\b\b\b\b\b\b\b\b\b\b\b\b\r",
      "8/8 [==============================] - 0s 15ms/step - root_mean_squared_error: 2.3751 - loss: 5.5439 - regularization_loss: 155.7615 - total_loss: 161.3054 - val_root_mean_squared_error: 2.7697 - val_loss: 7.4040 - val_regularization_loss: 154.5650 - val_total_loss: 161.9690\n"
     ]
    },
    {
     "name": "stdout",
     "output_type": "stream",
     "text": [
      "Epoch 14/30\n",
      "\r",
      "1/8 [==>...........................] - ETA: 0s - root_mean_squared_error: 2.2832 - loss: 5.2132 - regularization_loss: 154.5650 - total_loss: 159.7783"
     ]
    },
    {
     "name": "stdout",
     "output_type": "stream",
     "text": [
      "\b\b\b\b\b\b\b\b\b\b\b\b\b\b\b\b\b\b\b\b\b\b\b\b\b\b\b\b\b\b\b\b\b\b\b\b\b\b\b\b\b\b\b\b\b\b\b\b\b\b\b\b\b\b\b\b\b\b\b\b\b\b\b\b\b\b\b\b\b\b\b\b\b\b\b\b\b\b\b\b\b\b\b\b\b\b\b\b\b\b\b\b\b\b\b\b\b\b\b\b\b\b\b\b\b\b\b\b\b\b\b\b\b\b\b\b\b\b\b\b\b\b\b\b\b\b\b\b\b\b\b\b\b\b\b\b\b\b\b\b\b\b\b\b\b\b\b\b\b\b\r",
      "8/8 [==============================] - 0s 16ms/step - root_mean_squared_error: 2.1861 - loss: 4.7423 - regularization_loss: 153.4452 - total_loss: 158.1875 - val_root_mean_squared_error: 2.5728 - val_loss: 6.4519 - val_regularization_loss: 152.3311 - val_total_loss: 158.7831\n"
     ]
    },
    {
     "name": "stdout",
     "output_type": "stream",
     "text": [
      "Epoch 15/30\n",
      "\r",
      "1/8 [==>...........................] - ETA: 0s - root_mean_squared_error: 2.3329 - loss: 5.4423 - regularization_loss: 152.3311 - total_loss: 157.7734"
     ]
    },
    {
     "name": "stdout",
     "output_type": "stream",
     "text": [
      "\b\b\b\b\b\b\b\b\b\b\b\b\b\b\b\b\b\b\b\b\b\b\b\b\b\b\b\b\b\b\b\b\b\b\b\b\b\b\b\b\b\b\b\b\b\b\b\b\b\b\b\b\b\b\b\b\b\b\b\b\b\b\b\b\b\b\b\b\b\b\b\b\b\b\b\b\b\b\b\b\b\b\b\b\b\b\b\b\b\b\b\b\b\b\b\b\b\b\b\b\b\b\b\b\b\b\b\b\b\b\b\b\b\b\b\b\b\b\b\b\b\b\b\b\b\b\b\b\b\b\b\b\b\b\b\b\b\b\b\b\b\b\b\b\b\b\b\b\b\b\r",
      "8/8 [==============================] - 0s 17ms/step - root_mean_squared_error: 2.1666 - loss: 4.5667 - regularization_loss: 151.2805 - total_loss: 155.8472 - val_root_mean_squared_error: 2.2681 - val_loss: 5.0019 - val_regularization_loss: 150.2087 - val_total_loss: 155.2106\n"
     ]
    },
    {
     "name": "stdout",
     "output_type": "stream",
     "text": [
      "Epoch 16/30\n",
      "\r",
      "1/8 [==>...........................] - ETA: 0s - root_mean_squared_error: 1.9724 - loss: 3.8904 - regularization_loss: 150.2087 - total_loss: 154.0991"
     ]
    },
    {
     "name": "stdout",
     "output_type": "stream",
     "text": [
      "\b\b\b\b\b\b\b\b\b\b\b\b\b\b\b\b\b\b\b\b\b\b\b\b\b\b\b\b\b\b\b\b\b\b\b\b\b\b\b\b\b\b\b\b\b\b\b\b\b\b\b\b\b\b\b\b\b\b\b\b\b\b\b\b\b\b\b\b\b\b\b\b\b\b\b\b\b\b\b\b\b\b\b\b\b\b\b\b\b\b\b\b\b\b\b\b\b\b\b\b\b\b\b\b\b\b\b\b\b\b\b\b\b\b\b\b\b\b\b\b\b\b\b\b\b\b\b\b\b\b\b\b\b\b\b\b\b\b\b\b\b\b\b\b\b\b\b\b\b\b\r",
      "8/8 [==============================] - 0s 16ms/step - root_mean_squared_error: 1.9507 - loss: 3.8176 - regularization_loss: 149.2055 - total_loss: 153.0231 - val_root_mean_squared_error: 2.4642 - val_loss: 5.9223 - val_regularization_loss: 148.2096 - val_total_loss: 154.1319\n"
     ]
    },
    {
     "name": "stdout",
     "output_type": "stream",
     "text": [
      "Epoch 17/30\n",
      "\r",
      "1/8 [==>...........................] - ETA: 0s - root_mean_squared_error: 2.2260 - loss: 4.9550 - regularization_loss: 148.2096 - total_loss: 153.1646"
     ]
    },
    {
     "name": "stdout",
     "output_type": "stream",
     "text": [
      "\b\b\b\b\b\b\b\b\b\b\b\b\b\b\b\b\b\b\b\b\b\b\b\b\b\b\b\b\b\b\b\b\b\b\b\b\b\b\b\b\b\b\b\b\b\b\b\b\b\b\b\b\b\b\b\b\b\b\b\b\b\b\b\b\b\b\b\b\b\b\b\b\b\b\b\b\b\b\b\b\b\b\b\b\b\b\b\b\b\b\b\b\b\b\b\b\b\b\b\b\b\b\b\b\b\b\b\b\b\b\b\b\b\b\b\b\b\b\b\b\b\b\b\b\b\b\b\b\b\b\b\b\b\b\b\b\b\b\b\b\b\b\b\b\b\b\b\b\b\b\r",
      "8/8 [==============================] - 0s 15ms/step - root_mean_squared_error: 1.9928 - loss: 3.8543 - regularization_loss: 147.2727 - total_loss: 151.1270 - val_root_mean_squared_error: 2.1694 - val_loss: 4.5629 - val_regularization_loss: 146.3273 - val_total_loss: 150.8902\n"
     ]
    },
    {
     "name": "stdout",
     "output_type": "stream",
     "text": [
      "Epoch 18/30\n",
      "\r",
      "1/8 [==>...........................] - ETA: 0s - root_mean_squared_error: 1.8937 - loss: 3.5860 - regularization_loss: 146.3273 - total_loss: 149.9133"
     ]
    },
    {
     "name": "stdout",
     "output_type": "stream",
     "text": [
      "\b\b\b\b\b\b\b\b\b\b\b\b\b\b\b\b\b\b\b\b\b\b\b\b\b\b\b\b\b\b\b\b\b\b\b\b\b\b\b\b\b\b\b\b\b\b\b\b\b\b\b\b\b\b\b\b\b\b\b\b\b\b\b\b\b\b\b\b\b\b\b\b\b\b\b\b\b\b\b\b\b\b\b\b\b\b\b\b\b\b\b\b\b\b\b\b\b\b\b\b\b\b\b\b\b\b\b\b\b\b\b\b\b\b\b\b\b\b\b\b\b\b\b\b\b\b\b\b\b\b\b\b\b\b\b\b\b\b\b\b\b\b\b\b\b\b\b\b\b\b\r",
      "8/8 [==============================] - 0s 16ms/step - root_mean_squared_error: 1.7712 - loss: 3.2729 - regularization_loss: 145.4240 - total_loss: 148.6970 - val_root_mean_squared_error: 2.3967 - val_loss: 5.7804 - val_regularization_loss: 144.8587 - val_total_loss: 150.6392\n"
     ]
    },
    {
     "name": "stdout",
     "output_type": "stream",
     "text": [
      "Epoch 19/30\n",
      "\r",
      "1/8 [==>...........................] - ETA: 0s - root_mean_squared_error: 2.2566 - loss: 5.0923 - regularization_loss: 144.8587 - total_loss: 149.9511"
     ]
    },
    {
     "name": "stdout",
     "output_type": "stream",
     "text": [
      "\b\b\b\b\b\b\b\b\b\b\b\b\b\b\b\b\b\b\b\b\b\b\b\b\b\b\b\b\b\b\b\b\b\b\b\b\b\b\b\b\b\b\b\b\b\b\b\b\b\b\b\b\b\b\b\b\b\b\b\b\b\b\b\b\b\b\b\b\b\b\b\b\b\b\b\b\b\b\b\b\b\b\b\b\b\b\b\b\b\b\b\b\b\b\b\b\b\b\b\b\b\b\b\b\b\b\b\b\b\b\b\b\b\b\b\b\b\b\b\b\b\b\b\b\b\b\b\b\b\b\b\b\b\b\b\b\b\b\b\b\b\b\b\b\b\b\b\b\b\b\r",
      "8/8 [==============================] - 0s 17ms/step - root_mean_squared_error: 1.8391 - loss: 3.2846 - regularization_loss: 144.0328 - total_loss: 147.3175 - val_root_mean_squared_error: 1.9976 - val_loss: 3.8271 - val_regularization_loss: 143.1550 - val_total_loss: 146.9821\n"
     ]
    },
    {
     "name": "stdout",
     "output_type": "stream",
     "text": [
      "Epoch 20/30\n",
      "\r",
      "1/8 [==>...........................] - ETA: 0s - root_mean_squared_error: 1.6562 - loss: 2.7431 - regularization_loss: 143.1550 - total_loss: 145.8981"
     ]
    },
    {
     "name": "stdout",
     "output_type": "stream",
     "text": [
      "\b\b\b\b\b\b\b\b\b\b\b\b\b\b\b\b\b\b\b\b\b\b\b\b\b\b\b\b\b\b\b\b\b\b\b\b\b\b\b\b\b\b\b\b\b\b\b\b\b\b\b\b\b\b\b\b\b\b\b\b\b\b\b\b\b\b\b\b\b\b\b\b\b\b\b\b\b\b\b\b\b\b\b\b\b\b\b\b\b\b\b\b\b\b\b\b\b\b\b\b\b\b\b\b\b\b\b\b\b\b\b\b\b\b\b\b\b\b\b\b\b\b\b\b\b\b\b\b\b\b\b\b\b\b\b\b\b\b\b\b\b\b\b\b\b\b\b\b\b\b\r",
      "8/8 [==============================] - 0s 16ms/step - root_mean_squared_error: 1.5751 - loss: 2.4661 - regularization_loss: 142.2937 - total_loss: 144.7598 - val_root_mean_squared_error: 1.8773 - val_loss: 3.3745 - val_regularization_loss: 141.4150 - val_total_loss: 144.7895\n"
     ]
    },
    {
     "name": "stdout",
     "output_type": "stream",
     "text": [
      "Epoch 21/30\n",
      "\r",
      "1/8 [==>...........................] - ETA: 0s - root_mean_squared_error: 1.6309 - loss: 2.6598 - regularization_loss: 141.4150 - total_loss: 144.0749"
     ]
    },
    {
     "name": "stdout",
     "output_type": "stream",
     "text": [
      "\b\b\b\b\b\b\b\b\b\b\b\b\b\b\b\b\b\b\b\b\b\b\b\b\b\b\b\b\b\b\b\b\b\b\b\b\b\b\b\b\b\b\b\b\b\b\b\b\b\b\b\b\b\b\b\b\b\b\b\b\b\b\b\b\b\b\b\b\b\b\b\b\b\b\b\b\b\b\b\b\b\b\b\b\b\b\b\b\b\b\b\b\b\b\b\b\b\b\b\b\b\b\b\b\b\b\b\b\b\b\b\b\b\b\b\b\b\b\b\b\b\b\b\b\b\b\b\b\b\b\b\b\b\b\b\b\b\b\b\b\b\b\b\b\b\b\b\b\b\b\r",
      "8/8 [==============================] - 0s 16ms/step - root_mean_squared_error: 1.7148 - loss: 2.8692 - regularization_loss: 140.6609 - total_loss: 143.5301 - val_root_mean_squared_error: 1.9847 - val_loss: 3.8617 - val_regularization_loss: 139.8522 - val_total_loss: 143.7139\n"
     ]
    },
    {
     "name": "stdout",
     "output_type": "stream",
     "text": [
      "Epoch 22/30\n",
      "\r",
      "1/8 [==>...........................] - ETA: 0s - root_mean_squared_error: 1.6800 - loss: 2.8224 - regularization_loss: 139.8522 - total_loss: 142.6746"
     ]
    },
    {
     "name": "stdout",
     "output_type": "stream",
     "text": [
      "\b\b\b\b\b\b\b\b\b\b\b\b\b\b\b\b\b\b\b\b\b\b\b\b\b\b\b\b\b\b\b\b\b\b\b\b\b\b\b\b\b\b\b\b\b\b\b\b\b\b\b\b\b\b\b\b\b\b\b\b\b\b\b\b\b\b\b\b\b\b\b\b\b\b\b\b\b\b\b\b\b\b\b\b\b\b\b\b\b\b\b\b\b\b\b\b\b\b\b\b\b\b\b\b\b\b\b\b\b\b\b\b\b\b\b\b\b\b\b\b\b\b\b\b\b\b\b\b\b\b\b\b\b\b\b\b\b\b\b\b\b\b\b\b\b\b\b\b\b\b\r",
      "8/8 [==============================] - 0s 16ms/step - root_mean_squared_error: 1.5426 - loss: 2.3672 - regularization_loss: 139.0981 - total_loss: 141.4652 - val_root_mean_squared_error: 1.9166 - val_loss: 3.5855 - val_regularization_loss: 138.3357 - val_total_loss: 141.9212\n"
     ]
    },
    {
     "name": "stdout",
     "output_type": "stream",
     "text": [
      "Epoch 23/30\n",
      "\r",
      "1/8 [==>...........................] - ETA: 0s - root_mean_squared_error: 1.7231 - loss: 2.9692 - regularization_loss: 138.3357 - total_loss: 141.3049"
     ]
    },
    {
     "name": "stdout",
     "output_type": "stream",
     "text": [
      "\b\b\b\b\b\b\b\b\b\b\b\b\b\b\b\b\b\b\b\b\b\b\b\b\b\b\b\b\b\b\b\b\b\b\b\b\b\b\b\b\b\b\b\b\b\b\b\b\b\b\b\b\b\b\b\b\b\b\b\b\b\b\b\b\b\b\b\b\b\b\b\b\b\b\b\b\b\b\b\b\b\b\b\b\b\b\b\b\b\b\b\b\b\b\b\b\b\b\b\b\b\b\b\b\b\b\b\b\b\b\b\b\b\b\b\b\b\b\b\b\b\b\b\b\b\b\b\b\b\b\b\b\b\b\b\b\b\b\b\b\b\b\b\b\b\b\b\b\b\b\r",
      "8/8 [==============================] - 0s 16ms/step - root_mean_squared_error: 1.5741 - loss: 2.4126 - regularization_loss: 137.6177 - total_loss: 140.0303 - val_root_mean_squared_error: 1.7710 - val_loss: 3.0470 - val_regularization_loss: 136.8946 - val_total_loss: 139.9416\n"
     ]
    },
    {
     "name": "stdout",
     "output_type": "stream",
     "text": [
      "Epoch 24/30\n",
      "\r",
      "1/8 [==>...........................] - ETA: 0s - root_mean_squared_error: 1.4873 - loss: 2.2121 - regularization_loss: 136.8946 - total_loss: 139.1067"
     ]
    },
    {
     "name": "stdout",
     "output_type": "stream",
     "text": [
      "\b\b\b\b\b\b\b\b\b\b\b\b\b\b\b\b\b\b\b\b\b\b\b\b\b\b\b\b\b\b\b\b\b\b\b\b\b\b\b\b\b\b\b\b\b\b\b\b\b\b\b\b\b\b\b\b\b\b\b\b\b\b\b\b\b\b\b\b\b\b\b\b\b\b\b\b\b\b\b\b\b\b\b\b\b\b\b\b\b\b\b\b\b\b\b\b\b\b\b\b\b\b\b\b\b\b\b\b\b\b\b\b\b\b\b\b\b\b\b\b\b\b\b\b\b\b\b\b\b\b\b\b\b\b\b\b\b\b\b\b\b\b\b\b\b\b\b\b\b\b\r",
      "8/8 [==============================] - 0s 16ms/step - root_mean_squared_error: 1.5310 - loss: 2.3003 - regularization_loss: 136.2074 - total_loss: 138.5077 - val_root_mean_squared_error: 1.8107 - val_loss: 3.2840 - val_regularization_loss: 135.5394 - val_total_loss: 138.8234\n"
     ]
    },
    {
     "name": "stdout",
     "output_type": "stream",
     "text": [
      "Epoch 25/30\n",
      "\r",
      "1/8 [==>...........................] - ETA: 0s - root_mean_squared_error: 1.5526 - loss: 2.4107 - regularization_loss: 135.5394 - total_loss: 137.9501"
     ]
    },
    {
     "name": "stdout",
     "output_type": "stream",
     "text": [
      "\b\b\b\b\b\b\b\b\b\b\b\b\b\b\b\b\b\b\b\b\b\b\b\b\b\b\b\b\b\b\b\b\b\b\b\b\b\b\b\b\b\b\b\b\b\b\b\b\b\b\b\b\b\b\b\b\b\b\b\b\b\b\b\b\b\b\b\b\b\b\b\b\b\b\b\b\b\b\b\b\b\b\b\b\b\b\b\b\b\b\b\b\b\b\b\b\b\b\b\b\b\b\b\b\b\b\b\b\b\b\b\b\b\b\b\b\b\b\b\b\b\b\b\b\b\b\b\b\b\b\b\b\b\b\b\b\b\b\b\b\b\b\b\b\b\b\b\b\b\b\r",
      "8/8 [==============================] - 0s 15ms/step - root_mean_squared_error: 1.4320 - loss: 2.0413 - regularization_loss: 134.8760 - total_loss: 136.9172 - val_root_mean_squared_error: 1.7864 - val_loss: 3.0831 - val_regularization_loss: 134.1895 - val_total_loss: 137.2726\n"
     ]
    },
    {
     "name": "stdout",
     "output_type": "stream",
     "text": [
      "Epoch 26/30\n",
      "\r",
      "1/8 [==>...........................] - ETA: 0s - root_mean_squared_error: 1.6047 - loss: 2.5751 - regularization_loss: 134.1895 - total_loss: 136.7645"
     ]
    },
    {
     "name": "stdout",
     "output_type": "stream",
     "text": [
      "\b\b\b\b\b\b\b\b\b\b\b\b\b\b\b\b\b\b\b\b\b\b\b\b\b\b\b\b\b\b\b\b\b\b\b\b\b\b\b\b\b\b\b\b\b\b\b\b\b\b\b\b\b\b\b\b\b\b\b\b\b\b\b\b\b\b\b\b\b\b\b\b\b\b\b\b\b\b\b\b\b\b\b\b\b\b\b\b\b\b\b\b\b\b\b\b\b\b\b\b\b\b\b\b\b\b\b\b\b\b\b\b\b\b\b\b\b\b\b\b\b\b\b\b\b\b\b\b\b\b\b\b\b\b\b\b\b\b\b\b\b\b\b\b\b\b\b\b\b\b\r",
      "8/8 [==============================] - 0s 15ms/step - root_mean_squared_error: 1.5969 - loss: 2.4867 - regularization_loss: 133.5785 - total_loss: 136.0652 - val_root_mean_squared_error: 1.8451 - val_loss: 3.4012 - val_regularization_loss: 132.9853 - val_total_loss: 136.3865\n"
     ]
    },
    {
     "name": "stdout",
     "output_type": "stream",
     "text": [
      "Epoch 27/30\n",
      "\r",
      "1/8 [==>...........................] - ETA: 0s - root_mean_squared_error: 1.4857 - loss: 2.2073 - regularization_loss: 132.9853 - total_loss: 135.1926"
     ]
    },
    {
     "name": "stdout",
     "output_type": "stream",
     "text": [
      "\b\b\b\b\b\b\b\b\b\b\b\b\b\b\b\b\b\b\b\b\b\b\b\b\b\b\b\b\b\b\b\b\b\b\b\b\b\b\b\b\b\b\b\b\b\b\b\b\b\b\b\b\b\b\b\b\b\b\b\b\b\b\b\b\b\b\b\b\b\b\b\b\b\b\b\b\b\b\b\b\b\b\b\b\b\b\b\b\b\b\b\b\b\b\b\b\b\b\b\b\b\b\b\b\b\b\b\b\b\b\b\b\b\b\b\b\b\b\b\b\b\b\b\b\b\b\b\b\b\b\b\b\b\b\b\b\b\b\b\b\b\b\b\b\b\b\b\b\b\b\r",
      "8/8 [==============================] - 0s 15ms/step - root_mean_squared_error: 1.3914 - loss: 1.8962 - regularization_loss: 132.3821 - total_loss: 134.2784 - val_root_mean_squared_error: 1.6625 - val_loss: 2.6914 - val_regularization_loss: 131.7627 - val_total_loss: 134.4541\n"
     ]
    },
    {
     "name": "stdout",
     "output_type": "stream",
     "text": [
      "Epoch 28/30\n",
      "\r",
      "1/8 [==>...........................] - ETA: 0s - root_mean_squared_error: 1.4013 - loss: 1.9637 - regularization_loss: 131.7627 - total_loss: 133.7265"
     ]
    },
    {
     "name": "stdout",
     "output_type": "stream",
     "text": [
      "\b\b\b\b\b\b\b\b\b\b\b\b\b\b\b\b\b\b\b\b\b\b\b\b\b\b\b\b\b\b\b\b\b\b\b\b\b\b\b\b\b\b\b\b\b\b\b\b\b\b\b\b\b\b\b\b\b\b\b\b\b\b\b\b\b\b\b\b\b\b\b\b\b\b\b\b\b\b\b\b\b\b\b\b\b\b\b\b\b\b\b\b\b\b\b\b\b\b\b\b\b\b\b\b\b\b\b\b\b\b\b\b\b\b\b\b\b\b\b\b\b\b\b\b\b\b\b\b\b\b\b\b\b\b\b\b\b\b\b\b\b\b\b\b\b\b\b\b\b\b\r",
      "8/8 [==============================] - 0s 15ms/step - root_mean_squared_error: 1.3818 - loss: 1.8967 - regularization_loss: 131.1806 - total_loss: 133.0773 - val_root_mean_squared_error: 1.7434 - val_loss: 2.9818 - val_regularization_loss: 130.5530 - val_total_loss: 133.5348\n"
     ]
    },
    {
     "name": "stdout",
     "output_type": "stream",
     "text": [
      "Epoch 29/30\n",
      "\r",
      "1/8 [==>...........................] - ETA: 0s - root_mean_squared_error: 1.5564 - loss: 2.4224 - regularization_loss: 130.5530 - total_loss: 132.9754"
     ]
    },
    {
     "name": "stdout",
     "output_type": "stream",
     "text": [
      "\b\b\b\b\b\b\b\b\b\b\b\b\b\b\b\b\b\b\b\b\b\b\b\b\b\b\b\b\b\b\b\b\b\b\b\b\b\b\b\b\b\b\b\b\b\b\b\b\b\b\b\b\b\b\b\b\b\b\b\b\b\b\b\b\b\b\b\b\b\b\b\b\b\b\b\b\b\b\b\b\b\b\b\b\b\b\b\b\b\b\b\b\b\b\b\b\b\b\b\b\b\b\b\b\b\b\b\b\b\b\b\b\b\b\b\b\b\b\b\b\b\b\b\b\b\b\b\b\b\b\b\b\b\b\b\b\b\b\b\b\b\b\b\b\b\b\b\b\b\b\r",
      "8/8 [==============================] - 0s 15ms/step - root_mean_squared_error: 1.4442 - loss: 2.0255 - regularization_loss: 130.0067 - total_loss: 132.0322 - val_root_mean_squared_error: 1.6009 - val_loss: 2.5011 - val_regularization_loss: 129.4340 - val_total_loss: 131.9351\n"
     ]
    },
    {
     "name": "stdout",
     "output_type": "stream",
     "text": [
      "Epoch 30/30\n",
      "\r",
      "1/8 [==>...........................] - ETA: 0s - root_mean_squared_error: 1.3423 - loss: 1.8018 - regularization_loss: 129.4340 - total_loss: 131.2358"
     ]
    },
    {
     "name": "stdout",
     "output_type": "stream",
     "text": [
      "\b\b\b\b\b\b\b\b\b\b\b\b\b\b\b\b\b\b\b\b\b\b\b\b\b\b\b\b\b\b\b\b\b\b\b\b\b\b\b\b\b\b\b\b\b\b\b\b\b\b\b\b\b\b\b\b\b\b\b\b\b\b\b\b\b\b\b\b\b\b\b\b\b\b\b\b\b\b\b\b\b\b\b\b\b\b\b\b\b\b\b\b\b\b\b\b\b\b\b\b\b\b\b\b\b\b\b\b\b\b\b\b\b\b\b\b\b\b\b\b\b\b\b\b\b\b\b\b\b\b\b\b\b\b\b\b\b\b\b\b\b\b\b\b\b\b\b\b\b\b\r",
      "8/8 [==============================] - 0s 15ms/step - root_mean_squared_error: 1.3045 - loss: 1.7015 - regularization_loss: 128.8867 - total_loss: 130.5882 - val_root_mean_squared_error: 1.7096 - val_loss: 2.9051 - val_regularization_loss: 128.3088 - val_total_loss: 131.2139\n"
     ]
    }
   ],
   "source": [
    "# Store the training histories in a dictionary\n",
    "# This can probably be done better or more securely than here, because we are creating \n",
    "# variable names from values, but it serves the purpose here of plotting the tuning\n",
    "\n",
    "histories_tr = {}\n",
    "\n",
    "# For each learning rate:\n",
    "\n",
    "# - Create an instance of the model class that can be used as the model\n",
    "# - Compile the model to set its initial parameters\n",
    "# - Train the model using .fit, minimizing the loss on the neural network predictions of the user ratings\n",
    "\n",
    "for val in learning_rates_logarithmic:\n",
    "    print('Learning rate = {}'.format(val))\n",
    "    model_tr = MovielensModelTunedRanking()\n",
    "    model_tr.compile(optimizer=tf.keras.optimizers.Adagrad(learning_rate=val))\n",
    "\n",
    "    lr = str(val)\n",
    "    histories_tr[lr] = model_tr.fit(cached_train, epochs=epochs, validation_data=cached_validation)"
   ]
  },
  {
   "cell_type": "markdown",
   "metadata": {
    "gradient": {
     "editing": false
    },
    "id": "w_mymY1K_Dlz"
   },
   "source": [
    "As above, we can view and plot the tuning history, now for multiple hyperparameter tuning grid points."
   ]
  },
  {
   "cell_type": "code",
   "execution_count": null,
   "metadata": {
    "colab": {
     "base_uri": "https://localhost:8080/"
    },
    "gradient": {
     "editing": false
    },
    "id": "yWoxGpqX99tl",
    "outputId": "0ef9d914-47d8-4593-d9f1-5d18c0e18972"
   },
   "outputs": [
    {
     "data": {
      "text/plain": [
       "{'0.001': <tensorflow.python.keras.callbacks.History at 0x7ff9f81a00b8>,\n",
       " '0.01': <tensorflow.python.keras.callbacks.History at 0x7ff9f80a2320>,\n",
       " '0.1': <tensorflow.python.keras.callbacks.History at 0x7ff9f85b3780>,\n",
       " '1': <tensorflow.python.keras.callbacks.History at 0x7ff9f84966d8>}"
      ]
     },
     "execution_count": 38,
     "metadata": {},
     "output_type": "execute_result"
    }
   ],
   "source": [
    "# All 4 histories\n",
    "histories_tr"
   ]
  },
  {
   "cell_type": "code",
   "execution_count": null,
   "metadata": {
    "colab": {
     "base_uri": "https://localhost:8080/"
    },
    "gradient": {
     "editing": false
    },
    "id": "XgssZ1Tm-JDv",
    "outputId": "83900cad-51a5-4642-89ba-c0754ab8c1a3"
   },
   "outputs": [
    {
     "name": "stdout",
     "output_type": "stream",
     "text": [
      "{'loss': [1.4742920398712158, 1.3005354404449463, 1.2310901880264282,\n",
      "          1.2027674913406372, 1.176630973815918, 1.1476807594299316,\n",
      "          1.1189517974853516, 1.0953949689865112, 1.0845860242843628,\n",
      "          1.0880286693572998, 1.069618582725525, 1.0250709056854248,\n",
      "          0.9878007769584656, 0.9625073075294495, 0.9451345205307007,\n",
      "          0.9328092336654663, 0.923913300037384, 0.9171288013458252,\n",
      "          0.9110589027404785, 0.9045150876045227, 0.8971529006958008,\n",
      "          0.8895698189735413, 0.8825310468673706, 0.8764365315437317,\n",
      "          0.8713855743408203, 0.8673519492149353, 0.864270806312561,\n",
      "          0.86211758852005, 0.8609466552734375, 0.8607510328292847],\n",
      " 'regularization_loss': [1.9146192073822021, 1.7317055463790894,\n",
      "                         1.56735098361969, 1.4203883409500122,\n",
      "                         1.2890385389328003, 1.1716256141662598,\n",
      "                         1.066491961479187, 0.9720258116722107,\n",
      "                         0.8868104219436646, 0.8097918629646301,\n",
      "                         0.7406388521194458, 0.6787039637565613,\n",
      "                         0.622661292552948, 0.5715929865837097,\n",
      "                         0.5249588489532471, 0.4823802411556244,\n",
      "                         0.44354280829429626, 0.4081704318523407,\n",
      "                         0.3760205805301666, 0.3468649089336395,\n",
      "                         0.3204576075077057, 0.2965414226055145,\n",
      "                         0.27485933899879456, 0.2551836371421814,\n",
      "                         0.23730716109275818, 0.22104617953300476,\n",
      "                         0.20624524354934692, 0.1927609145641327,\n",
      "                         0.1804642379283905, 0.16924124956130981],\n",
      " 'root_mean_squared_error': [2.2546801567077637, 1.213095784187317,\n",
      "                             1.1303253173828125, 1.1074740886688232,\n",
      "                             1.0944688320159912, 1.0811479091644287,\n",
      "                             1.0671660900115967, 1.0542230606079102,\n",
      "                             1.0449695587158203, 1.0419751405715942,\n",
      "                             1.0374704599380493, 1.0211052894592285,\n",
      "                             1.0028648376464844, 0.9893720149993896,\n",
      "                             0.9798716902732849, 0.9729778170585632,\n",
      "                             0.967850387096405, 0.9639184474945068,\n",
      "                             0.9606173634529114, 0.9573888778686523,\n",
      "                             0.9539133906364441, 0.9502889513969421,\n",
      "                             0.9468241333961487, 0.9437466263771057,\n",
      "                             0.9411288499832153, 0.9389705061912537,\n",
      "                             0.9372310042381287, 0.9358900189399719,\n",
      "                             0.9349558353424072, 0.9344466328620911],\n",
      " 'total_loss': [3.388911247253418, 3.032240867614746, 2.798441171646118,\n",
      "                2.6231558322906494, 2.465669631958008, 2.3193063735961914,\n",
      "                2.185443878173828, 2.067420721054077, 1.9713964462280273,\n",
      "                1.8978204727172852, 1.8102574348449707, 1.7037749290466309,\n",
      "                1.6104620695114136, 1.5341002941131592, 1.4700933694839478,\n",
      "                1.415189504623413, 1.367456078529358, 1.3252992630004883,\n",
      "                1.2870794534683228, 1.2513799667358398, 1.217610478401184,\n",
      "                1.1861112117767334, 1.1573903560638428, 1.131620168685913,\n",
      "                1.1086927652359009, 1.0883980989456177, 1.0705161094665527,\n",
      "                1.0548784732818604, 1.0414109230041504, 1.0299923419952393],\n",
      " 'val_loss': [1.586604118347168, 1.31703519821167, 1.2799077033996582,\n",
      "              1.2810852527618408, 1.2835522890090942, 1.2845799922943115,\n",
      "              1.286028265953064, 1.291879653930664, 1.3088576793670654,\n",
      "              1.3288980722427368, 1.3131977319717407, 1.2720617055892944,\n",
      "              1.2370778322219849, 1.2132112979888916, 1.1974605321884155,\n",
      "              1.1871858835220337, 1.1806361675262451, 1.1760358810424805,\n",
      "              1.171509027481079, 1.1655856370925903, 1.158087968826294,\n",
      "              1.1499639749526978, 1.14231276512146, 1.1358011960983276,\n",
      "              1.1307032108306885, 1.1270753145217896, 1.1249635219573975,\n",
      "              1.1244078874588013, 1.1254782676696777, 1.1280006170272827],\n",
      " 'val_regularization_loss': [1.8805549144744873, 1.7053759098052979,\n",
      "                             1.5464229583740234, 1.402895212173462,\n",
      "                             1.27408766746521, 1.1587907075881958,\n",
      "                             1.0556035041809082, 0.9631326794624329,\n",
      "                             0.8801414370536804, 0.8053106665611267,\n",
      "                             0.7372391223907471, 0.6753372550010681,\n",
      "                             0.6192322373390198, 0.5683196783065796,\n",
      "                             0.5220332741737366, 0.4799190163612366,\n",
      "                             0.4416068494319916, 0.40675729513168335,\n",
      "                             0.3750605285167694, 0.3462361693382263,\n",
      "                             0.3200262784957886, 0.2962135076522827,\n",
      "                             0.2745932340621948, 0.2549760937690735,\n",
      "                             0.23717834055423737, 0.22103166580200195,\n",
      "                             0.20638631284236908, 0.19310319423675537,\n",
      "                             0.18105897307395935, 0.17013318836688995],\n",
      " 'val_root_mean_squared_error': [1.2573498487472534, 1.1457970142364502,\n",
      "                                 1.1297690868377686, 1.1303654909133911,\n",
      "                                 1.1314308643341064, 1.1318098306655884,\n",
      "                                 1.1323399543762207, 1.134791374206543,\n",
      "                                 1.1420992612838745, 1.1506741046905518,\n",
      "                                 1.1437019109725952, 1.125530481338501,\n",
      "                                 1.1099088191986084, 1.0991849899291992,\n",
      "                                 1.0921123027801514, 1.0875349044799805,\n",
      "                                 1.0846633911132812, 1.0826823711395264,\n",
      "                                 1.0807229280471802, 1.0780982971191406,\n",
      "                                 1.0747164487838745, 1.071010708808899,\n",
      "                                 1.0674933195114136, 1.0644817352294922,\n",
      "                                 1.0621135234832764, 1.060422420501709,\n",
      "                                 1.0594362020492554, 1.0591787099838257,\n",
      "                                 1.0596859455108643, 1.0608758926391602],\n",
      " 'val_total_loss': [3.4671590328216553, 3.0224111080169678, 2.8263306617736816,\n",
      "                    2.6839804649353027, 2.5576400756835938, 2.443370819091797,\n",
      "                    2.3416318893432617, 2.255012273788452, 2.1889991760253906,\n",
      "                    2.1342086791992188, 2.0504369735717773, 1.9473989009857178,\n",
      "                    1.8563101291656494, 1.7815309762954712, 1.7194938659667969,\n",
      "                    1.667104959487915, 1.622243046760559, 1.5827932357788086,\n",
      "                    1.546569585800171, 1.5118217468261719, 1.4781142473220825,\n",
      "                    1.4461774826049805, 1.4169059991836548, 1.390777349472046,\n",
      "                    1.3678815364837646, 1.3481069803237915, 1.3313498497009277,\n",
      "                    1.3175110816955566, 1.3065372705459595,\n",
      "                    1.2981338500976562]}\n"
     ]
    }
   ],
   "source": [
    "# History for learning rate 0.1\n",
    "pprint.pprint(histories_tr['0.1'].history, compact=True)"
   ]
  },
  {
   "cell_type": "code",
   "execution_count": null,
   "metadata": {
    "colab": {
     "base_uri": "https://localhost:8080/"
    },
    "gradient": {
     "editing": false
    },
    "id": "03HKT4aLKr4i",
    "outputId": "03f7636d-4e71-40f2-a382-0c90e6750c03"
   },
   "outputs": [
    {
     "name": "stdout",
     "output_type": "stream",
     "text": [
      "Root mean squared error in user rating from training   for learning rate 0.001 = 2.9085733890533447\n",
      "Root mean squared error in user rating from validation for learning rate 0.001 = 2.8154773712158203\n",
      "Root mean squared error in user rating from training   for learning rate 0.01 = 1.0709515810012817\n",
      "Root mean squared error in user rating from validation for learning rate 0.01 = 1.129141092300415\n",
      "Root mean squared error in user rating from training   for learning rate 0.1 = 0.9344466328620911\n",
      "Root mean squared error in user rating from validation for learning rate 0.1 = 1.0608758926391602\n",
      "Root mean squared error in user rating from training   for learning rate 1 = 1.3045393228530884\n",
      "Root mean squared error in user rating from validation for learning rate 1 = 1.7096309661865234\n"
     ]
    }
   ],
   "source": [
    "for val in learning_rates_logarithmic:\n",
    "    lr = str(val)\n",
    "\n",
    "    rmse_tr = histories_tr[lr].history['root_mean_squared_error'][-1]\n",
    "    print('Root mean squared error in user rating from training   for learning rate {} = {}'.format(lr, rmse_tr))\n",
    "\n",
    "    val_rmse_tr = histories_tr[lr].history['val_root_mean_squared_error'][-1]\n",
    "    print('Root mean squared error in user rating from validation for learning rate {} = {}'.format(lr, val_rmse_tr))"
   ]
  },
  {
   "cell_type": "code",
   "execution_count": null,
   "metadata": {
    "gradient": {
     "editing": false
    },
    "id": "NT6elfwzLa67"
   },
   "outputs": [],
   "source": [
    "num_validation_runs = len(histories_tr['0.1'].history['root_mean_squared_error']) # Or any of the learning rates; they are all the same\n",
    "validation_freq = 1\n",
    "epochs_x = [(x + 1) * validation_freq for x in range(num_validation_runs)]"
   ]
  },
  {
   "cell_type": "code",
   "execution_count": null,
   "metadata": {
    "colab": {
     "base_uri": "https://localhost:8080/",
     "height": 308
    },
    "gradient": {
     "editing": false
    },
    "id": "M0tpT1fJLqO0",
    "outputId": "1576e6e6-bc69-4b15-8337-decb7bd6cd68"
   },
   "outputs": [
    {
     "data": {
      "text/plain": [
       "<matplotlib.legend.Legend at 0x7ff9f8521c18>"
      ]
     },
     "execution_count": 42,
     "metadata": {},
     "output_type": "execute_result"
    },
    {
     "data": {
      "image/png": "[encoded data removed]",
      "text/plain": [
       "<Figure size 432x288 with 1 Axes>"
      ]
     },
     "metadata": {},
     "output_type": "display_data",
     "transient": {}
    }
   ],
   "source": [
    "for val in learning_rates_logarithmic:\n",
    "    lr = str(val)\n",
    "    plt.plot(epochs_x, histories_tr[lr].history['root_mean_squared_error'], label=lr)\n",
    "    plt.plot(epochs_x, histories_tr[lr].history['val_root_mean_squared_error'], label=lr, linestyle='dotted')\n",
    "\n",
    "plt.title('Root mean squared error in user rating vs. training epoch')\n",
    "plt.xlabel('Training epoch')\n",
    "plt.ylabel('Root mean squared error in user rating')\n",
    "plt.yscale('log')\n",
    "plt.legend()"
   ]
  },
  {
   "cell_type": "markdown",
   "metadata": {
    "gradient": {
     "editing": false
    },
    "id": "WegveKxPIAaV"
   },
   "source": [
    "It looks like learning rates closer in magnitude to 0.1 than 0.01 or 1 are best, so we zoom in on those.\n",
    "\n",
    "Again a production system would test more values so the results are less noisy, but this shows the idea.\n",
    "\n",
    "The RMSE has improved from about 1.1 in the basic model to about 0.9 here, although a little higher on the validation set."
   ]
  },
  {
   "cell_type": "code",
   "execution_count": null,
   "metadata": {
    "colab": {
     "base_uri": "https://localhost:8080/"
    },
    "gradient": {
     "editing": false
    },
    "id": "ZaSvBMAWEXxf",
    "outputId": "245286e0-0f53-4216-f735-2e5a56b72292",
    "scrolled": true
   },
   "outputs": [
    {
     "name": "stdout",
     "output_type": "stream",
     "text": [
      "Learning rate = 0.05\n",
      "Epoch 1/30\n"
     ]
    },
    {
     "name": "stdout",
     "output_type": "stream",
     "text": [
      "\r",
      "      1/Unknown - 1s 635ms/step - root_mean_squared_error: 3.7306 - loss: 13.9171 - regularization_loss: 2.0411 - total_loss: 15.9582"
     ]
    },
    {
     "name": "stdout",
     "output_type": "stream",
     "text": [
      "\b\b\b\b\b\b\b\b\b\b\b\b\b\b\b\b\b\b\b\b\b\b\b\b\b\b\b\b\b\b\b\b\b\b\b\b\b\b\b\b\b\b\b\b\b\b\b\b\b\b\b\b\b\b\b\b\b\b\b\b\b\b\b\b\b\b\b\b\b\b\b\b\b\b\b\b\b\b\b\b\b\b\b\b\b\b\b\b\b\b\b\b\b\b\b\b\b\b\b\b\b\b\b\b\b\b\b\b\b\b\b\b\b\b\b\b\b\b\b\b\b\b\b\b\b\b\b\b\b\b\b\b\b\r",
      "8/8 [==============================] - 1s 32ms/step - root_mean_squared_error: 2.1840 - loss: 4.3794 - regularization_loss: 2.0046 - total_loss: 6.3840 - val_root_mean_squared_error: 1.1703 - val_loss: 1.3717 - val_regularization_loss: 1.9618 - val_total_loss: 3.3335\n"
     ]
    },
    {
     "name": "stdout",
     "output_type": "stream",
     "text": [
      "Epoch 2/30\n",
      "\r",
      "1/8 [==>...........................] - ETA: 0s - root_mean_squared_error: 1.1340 - loss: 1.2859 - regularization_loss: 1.9618 - total_loss: 3.2477"
     ]
    },
    {
     "name": "stdout",
     "output_type": "stream",
     "text": [
      "\b\b\b\b\b\b\b\b\b\b\b\b\b\b\b\b\b\b\b\b\b\b\b\b\b\b\b\b\b\b\b\b\b\b\b\b\b\b\b\b\b\b\b\b\b\b\b\b\b\b\b\b\b\b\b\b\b\b\b\b\b\b\b\b\b\b\b\b\b\b\b\b\b\b\b\b\b\b\b\b\b\b\b\b\b\b\b\b\b\b\b\b\b\b\b\b\b\b\b\b\b\b\b\b\b\b\b\b\b\b\b\b\b\b\b\b\b\b\b\b\b\b\b\b\b\b\b\b\b\b\b\b\b\b\b\b\b\b\b\b\b\b\b\b\b\b\r",
      "8/8 [==============================] - 0s 17ms/step - root_mean_squared_error: 1.1250 - loss: 1.2632 - regularization_loss: 1.9133 - total_loss: 3.1765 - val_root_mean_squared_error: 1.1423 - val_loss: 1.3076 - val_regularization_loss: 1.8650 - val_total_loss: 3.1726\n"
     ]
    },
    {
     "name": "stdout",
     "output_type": "stream",
     "text": [
      "Epoch 3/30\n",
      "\r",
      "1/8 [==>...........................] - ETA: 0s - root_mean_squared_error: 1.1156 - loss: 1.2446 - regularization_loss: 1.8650 - total_loss: 3.1097"
     ]
    },
    {
     "name": "stdout",
     "output_type": "stream",
     "text": [
      "\b\b\b\b\b\b\b\b\b\b\b\b\b\b\b\b\b\b\b\b\b\b\b\b\b\b\b\b\b\b\b\b\b\b\b\b\b\b\b\b\b\b\b\b\b\b\b\b\b\b\b\b\b\b\b\b\b\b\b\b\b\b\b\b\b\b\b\b\b\b\b\b\b\b\b\b\b\b\b\b\b\b\b\b\b\b\b\b\b\b\b\b\b\b\b\b\b\b\b\b\b\b\b\b\b\b\b\b\b\b\b\b\b\b\b\b\b\b\b\b\b\b\b\b\b\b\b\b\b\b\b\b\b\b\b\b\b\b\b\b\b\b\b\b\b\b\r",
      "8/8 [==============================] - ETA: 0s - root_mean_squared_error: 1.1143 - loss: 1.2415 - regularization_loss: 1.8246 - total_loss: 3.0662"
     ]
    },
    {
     "name": "stdout",
     "output_type": "stream",
     "text": [
      "\b\b\b\b\b\b\b\b\b\b\b\b\b\b\b\b\b\b\b\b\b\b\b\b\b\b\b\b\b\b\b\b\b\b\b\b\b\b\b\b\b\b\b\b\b\b\b\b\b\b\b\b\b\b\b\b\b\b\b\b\b\b\b\b\b\b\b\b\b\b\b\b\b\b\b\b\b\b\b\b\b\b\b\b\b\b\b\b\b\b\b\b\b\b\b\b\b\b\b\b\b\b\b\b\b\b\b\b\b\b\b\b\b\b\b\b\b\b\b\b\b\b\b\b\b\b\b\b\b\b\b\b\b\b\b\b\b\b\b\b\b\b\b\b\b\b\r",
      "8/8 [==============================] - 0s 18ms/step - root_mean_squared_error: 1.1143 - loss: 1.2402 - regularization_loss: 1.8202 - total_loss: 3.0604 - val_root_mean_squared_error: 1.1389 - val_loss: 1.2999 - val_regularization_loss: 1.7743 - val_total_loss: 3.0743\n"
     ]
    },
    {
     "name": "stdout",
     "output_type": "stream",
     "text": [
      "Epoch 4/30\n",
      "\r",
      "1/8 [==>...........................] - ETA: 0s - root_mean_squared_error: 1.1105 - loss: 1.2332 - regularization_loss: 1.7743 - total_loss: 3.0075"
     ]
    },
    {
     "name": "stdout",
     "output_type": "stream",
     "text": [
      "\b\b\b\b\b\b\b\b\b\b\b\b\b\b\b\b\b\b\b\b\b\b\b\b\b\b\b\b\b\b\b\b\b\b\b\b\b\b\b\b\b\b\b\b\b\b\b\b\b\b\b\b\b\b\b\b\b\b\b\b\b\b\b\b\b\b\b\b\b\b\b\b\b\b\b\b\b\b\b\b\b\b\b\b\b\b\b\b\b\b\b\b\b\b\b\b\b\b\b\b\b\b\b\b\b\b\b\b\b\b\b\b\b\b\b\b\b\b\b\b\b\b\b\b\b\b\b\b\b\b\b\b\b\b\b\b\b\b\b\b\b\b\b\b\b\b\r",
      "8/8 [==============================] - ETA: 0s - root_mean_squared_error: 1.1085 - loss: 1.2287 - regularization_loss: 1.7362 - total_loss: 2.9649"
     ]
    },
    {
     "name": "stdout",
     "output_type": "stream",
     "text": [
      "\b\b\b\b\b\b\b\b\b\b\b\b\b\b\b\b\b\b\b\b\b\b\b\b\b\b\b\b\b\b\b\b\b\b\b\b\b\b\b\b\b\b\b\b\b\b\b\b\b\b\b\b\b\b\b\b\b\b\b\b\b\b\b\b\b\b\b\b\b\b\b\b\b\b\b\b\b\b\b\b\b\b\b\b\b\b\b\b\b\b\b\b\b\b\b\b\b\b\b\b\b\b\b\b\b\b\b\b\b\b\b\b\b\b\b\b\b\b\b\b\b\b\b\b\b\b\b\b\b\b\b\b\b\b\b\b\b\b\b\b\b\b\b\b\b\b\r",
      "8/8 [==============================] - 0s 19ms/step - root_mean_squared_error: 1.1085 - loss: 1.2272 - regularization_loss: 1.7321 - total_loss: 2.9593 - val_root_mean_squared_error: 1.1379 - val_loss: 1.2979 - val_regularization_loss: 1.6886 - val_total_loss: 2.9865\n"
     ]
    },
    {
     "name": "stdout",
     "output_type": "stream",
     "text": [
      "Epoch 5/30\n"
     ]
    },
    {
     "name": "stdout",
     "output_type": "stream",
     "text": [
      "\r",
      "1/8 [==>...........................] - ETA: 0s - root_mean_squared_error: 1.1051 - loss: 1.2212 - regularization_loss: 1.6886 - total_loss: 2.9098"
     ]
    },
    {
     "name": "stdout",
     "output_type": "stream",
     "text": [
      "\b\b\b\b\b\b\b\b\b\b\b\b\b\b\b\b\b\b\b\b\b\b\b\b\b\b\b\b\b\b\b\b\b\b\b\b\b\b\b\b\b\b\b\b\b\b\b\b\b\b\b\b\b\b\b\b\b\b\b\b\b\b\b\b\b\b\b\b\b\b\b\b\b\b\b\b\b\b\b\b\b\b\b\b\b\b\b\b\b\b\b\b\b\b\b\b\b\b\b\b\b\b\b\b\b\b\b\b\b\b\b\b\b\b\b\b\b\b\b\b\b\b\b\b\b\b\b\b\b\b\b\b\b\b\b\b\b\b\b\b\b\b\b\b\b\b\r",
      "8/8 [==============================] - 0s 15ms/step - root_mean_squared_error: 1.1020 - loss: 1.2127 - regularization_loss: 1.6487 - total_loss: 2.8614 - val_root_mean_squared_error: 1.1373 - val_loss: 1.2967 - val_regularization_loss: 1.6076 - val_total_loss: 2.9043\n"
     ]
    },
    {
     "name": "stdout",
     "output_type": "stream",
     "text": [
      "Epoch 6/30\n",
      "\r",
      "1/8 [==>...........................] - ETA: 0s - root_mean_squared_error: 1.0987 - loss: 1.2072 - regularization_loss: 1.6076 - total_loss: 2.8149"
     ]
    },
    {
     "name": "stdout",
     "output_type": "stream",
     "text": [
      "\b\b\b\b\b\b\b\b\b\b\b\b\b\b\b\b\b\b\b\b\b\b\b\b\b\b\b\b\b\b\b\b\b\b\b\b\b\b\b\b\b\b\b\b\b\b\b\b\b\b\b\b\b\b\b\b\b\b\b\b\b\b\b\b\b\b\b\b\b\b\b\b\b\b\b\b\b\b\b\b\b\b\b\b\b\b\b\b\b\b\b\b\b\b\b\b\b\b\b\b\b\b\b\b\b\b\b\b\b\b\b\b\b\b\b\b\b\b\b\b\b\b\b\b\b\b\b\b\b\b\b\b\b\b\b\b\b\b\b\b\b\b\b\b\b\b\r",
      "8/8 [==============================] - 0s 17ms/step - root_mean_squared_error: 1.0946 - loss: 1.1963 - regularization_loss: 1.5698 - total_loss: 2.7661 - val_root_mean_squared_error: 1.1368 - val_loss: 1.2955 - val_regularization_loss: 1.5311 - val_total_loss: 2.8266\n"
     ]
    },
    {
     "name": "stdout",
     "output_type": "stream",
     "text": [
      "Epoch 7/30\n",
      "\r",
      "1/8 [==>...........................] - ETA: 0s - root_mean_squared_error: 1.0916 - loss: 1.1915 - regularization_loss: 1.5311 - total_loss: 2.7226"
     ]
    },
    {
     "name": "stdout",
     "output_type": "stream",
     "text": [
      "\b\b\b\b\b\b\b\b\b\b\b\b\b\b\b\b\b\b\b\b\b\b\b\b\b\b\b\b\b\b\b\b\b\b\b\b\b\b\b\b\b\b\b\b\b\b\b\b\b\b\b\b\b\b\b\b\b\b\b\b\b\b\b\b\b\b\b\b\b\b\b\b\b\b\b\b\b\b\b\b\b\b\b\b\b\b\b\b\b\b\b\b\b\b\b\b\b\b\b\b\b\b\b\b\b\b\b\b\b\b\b\b\b\b\b\b\b\b\b\b\b\b\b\b\b\b\b\b\b\b\b\b\b\b\b\b\b\b\b\b\b\b\b\b\b\b\r",
      "8/8 [==============================] - ETA: 0s - root_mean_squared_error: 1.0864 - loss: 1.1801 - regularization_loss: 1.4988 - total_loss: 2.6790"
     ]
    },
    {
     "name": "stdout",
     "output_type": "stream",
     "text": [
      "\b\b\b\b\b\b\b\b\b\b\b\b\b\b\b\b\b\b\b\b\b\b\b\b\b\b\b\b\b\b\b\b\b\b\b\b\b\b\b\b\b\b\b\b\b\b\b\b\b\b\b\b\b\b\b\b\b\b\b\b\b\b\b\b\b\b\b\b\b\b\b\b\b\b\b\b\b\b\b\b\b\b\b\b\b\b\b\b\b\b\b\b\b\b\b\b\b\b\b\b\b\b\b\b\b\b\b\b\b\b\b\b\b\b\b\b\b\b\b\b\b\b\b\b\b\b\b\b\b\b\b\b\b\b\b\b\b\b\b\b\b\b\b\b\b\b\r",
      "8/8 [==============================] - 0s 18ms/step - root_mean_squared_error: 1.0864 - loss: 1.1783 - regularization_loss: 1.4953 - total_loss: 2.6737 - val_root_mean_squared_error: 1.1363 - val_loss: 1.2944 - val_regularization_loss: 1.4587 - val_total_loss: 2.7531\n"
     ]
    },
    {
     "name": "stdout",
     "output_type": "stream",
     "text": [
      "Epoch 8/30\n",
      "\r",
      "1/8 [==>...........................] - ETA: 0s - root_mean_squared_error: 1.0838 - loss: 1.1746 - regularization_loss: 1.4587 - total_loss: 2.6333"
     ]
    },
    {
     "name": "stdout",
     "output_type": "stream",
     "text": [
      "\b\b\b\b\b\b\b\b\b\b\b\b\b\b\b\b\b\b\b\b\b\b\b\b\b\b\b\b\b\b\b\b\b\b\b\b\b\b\b\b\b\b\b\b\b\b\b\b\b\b\b\b\b\b\b\b\b\b\b\b\b\b\b\b\b\b\b\b\b\b\b\b\b\b\b\b\b\b\b\b\b\b\b\b\b\b\b\b\b\b\b\b\b\b\b\b\b\b\b\b\b\b\b\b\b\b\b\b\b\b\b\b\b\b\b\b\b\b\b\b\b\b\b\b\b\b\b\b\b\b\b\b\b\b\b\b\b\b\b\b\b\b\b\b\b\b\r",
      "8/8 [==============================] - 0s 16ms/step - root_mean_squared_error: 1.0778 - loss: 1.1598 - regularization_loss: 1.4248 - total_loss: 2.5846 - val_root_mean_squared_error: 1.1356 - val_loss: 1.2931 - val_regularization_loss: 1.3902 - val_total_loss: 2.6833\n"
     ]
    },
    {
     "name": "stdout",
     "output_type": "stream",
     "text": [
      "Epoch 9/30\n",
      "\r",
      "1/8 [==>...........................] - ETA: 0s - root_mean_squared_error: 1.0758 - loss: 1.1573 - regularization_loss: 1.3902 - total_loss: 2.5475"
     ]
    },
    {
     "name": "stdout",
     "output_type": "stream",
     "text": [
      "\b\b\b\b\b\b\b\b\b\b\b\b\b\b\b\b\b\b\b\b\b\b\b\b\b\b\b\b\b\b\b\b\b\b\b\b\b\b\b\b\b\b\b\b\b\b\b\b\b\b\b\b\b\b\b\b\b\b\b\b\b\b\b\b\b\b\b\b\b\b\b\b\b\b\b\b\b\b\b\b\b\b\b\b\b\b\b\b\b\b\b\b\b\b\b\b\b\b\b\b\b\b\b\b\b\b\b\b\b\b\b\b\b\b\b\b\b\b\b\b\b\b\b\b\b\b\b\b\b\b\b\b\b\b\b\b\b\b\b\b\b\b\b\b\b\b\r",
      "8/8 [==============================] - 0s 16ms/step - root_mean_squared_error: 1.0692 - loss: 1.1414 - regularization_loss: 1.3581 - total_loss: 2.4995 - val_root_mean_squared_error: 1.1349 - val_loss: 1.2914 - val_regularization_loss: 1.3254 - val_total_loss: 2.6168\n"
     ]
    },
    {
     "name": "stdout",
     "output_type": "stream",
     "text": [
      "Epoch 10/30\n",
      "\r",
      "1/8 [==>...........................] - ETA: 0s - root_mean_squared_error: 1.0678 - loss: 1.1401 - regularization_loss: 1.3254 - total_loss: 2.4655"
     ]
    },
    {
     "name": "stdout",
     "output_type": "stream",
     "text": [
      "\b\b\b\b\b\b\b\b\b\b\b\b\b\b\b\b\b\b\b\b\b\b\b\b\b\b\b\b\b\b\b\b\b\b\b\b\b\b\b\b\b\b\b\b\b\b\b\b\b\b\b\b\b\b\b\b\b\b\b\b\b\b\b\b\b\b\b\b\b\b\b\b\b\b\b\b\b\b\b\b\b\b\b\b\b\b\b\b\b\b\b\b\b\b\b\b\b\b\b\b\b\b\b\b\b\b\b\b\b\b\b\b\b\b\b\b\b\b\b\b\b\b\b\b\b\b\b\b\b\b\b\b\b\b\b\b\b\b\b\b\b\b\b\b\b\b\r",
      "8/8 [==============================] - 0s 16ms/step - root_mean_squared_error: 1.0609 - loss: 1.1237 - regularization_loss: 1.2948 - total_loss: 2.4185 - val_root_mean_squared_error: 1.1341 - val_loss: 1.2897 - val_regularization_loss: 1.2639 - val_total_loss: 2.5536\n"
     ]
    },
    {
     "name": "stdout",
     "output_type": "stream",
     "text": [
      "Epoch 11/30\n",
      "\r",
      "1/8 [==>...........................] - ETA: 0s - root_mean_squared_error: 1.0600 - loss: 1.1235 - regularization_loss: 1.2639 - total_loss: 2.3874"
     ]
    },
    {
     "name": "stdout",
     "output_type": "stream",
     "text": [
      "\b\b\b\b\b\b\b\b\b\b\b\b\b\b\b\b\b\b\b\b\b\b\b\b\b\b\b\b\b\b\b\b\b\b\b\b\b\b\b\b\b\b\b\b\b\b\b\b\b\b\b\b\b\b\b\b\b\b\b\b\b\b\b\b\b\b\b\b\b\b\b\b\b\b\b\b\b\b\b\b\b\b\b\b\b\b\b\b\b\b\b\b\b\b\b\b\b\b\b\b\b\b\b\b\b\b\b\b\b\b\b\b\b\b\b\b\b\b\b\b\b\b\b\b\b\b\b\b\b\b\b\b\b\b\b\b\b\b\b\b\b\b\b\b\b\b\r",
      "8/8 [==============================] - 0s 16ms/step - root_mean_squared_error: 1.0529 - loss: 1.1069 - regularization_loss: 1.2349 - total_loss: 2.3417 - val_root_mean_squared_error: 1.1334 - val_loss: 1.2882 - val_regularization_loss: 1.2056 - val_total_loss: 2.4938\n"
     ]
    },
    {
     "name": "stdout",
     "output_type": "stream",
     "text": [
      "Epoch 12/30\n",
      "\r",
      "1/8 [==>...........................] - ETA: 0s - root_mean_squared_error: 1.0524 - loss: 1.1076 - regularization_loss: 1.2056 - total_loss: 2.3132"
     ]
    },
    {
     "name": "stdout",
     "output_type": "stream",
     "text": [
      "\b\b\b\b\b\b\b\b\b\b\b\b\b\b\b\b\b\b\b\b\b\b\b\b\b\b\b\b\b\b\b\b\b\b\b\b\b\b\b\b\b\b\b\b\b\b\b\b\b\b\b\b\b\b\b\b\b\b\b\b\b\b\b\b\b\b\b\b\b\b\b\b\b\b\b\b\b\b\b\b\b\b\b\b\b\b\b\b\b\b\b\b\b\b\b\b\b\b\b\b\b\b\b\b\b\b\b\b\b\b\b\b\b\b\b\b\b\b\b\b\b\b\b\b\b\b\b\b\b\b\b\b\b\b\b\b\b\b\b\b\b\b\b\b\b\b\r",
      "8/8 [==============================] - 0s 16ms/step - root_mean_squared_error: 1.0454 - loss: 1.0912 - regularization_loss: 1.1779 - total_loss: 2.2691 - val_root_mean_squared_error: 1.1333 - val_loss: 1.2880 - val_regularization_loss: 1.1504 - val_total_loss: 2.4383\n"
     ]
    },
    {
     "name": "stdout",
     "output_type": "stream",
     "text": [
      "Epoch 13/30\n",
      "\r",
      "1/8 [==>...........................] - ETA: 0s - root_mean_squared_error: 1.0453 - loss: 1.0926 - regularization_loss: 1.1504 - total_loss: 2.2429"
     ]
    },
    {
     "name": "stdout",
     "output_type": "stream",
     "text": [
      "\b\b\b\b\b\b\b\b\b\b\b\b\b\b\b\b\b\b\b\b\b\b\b\b\b\b\b\b\b\b\b\b\b\b\b\b\b\b\b\b\b\b\b\b\b\b\b\b\b\b\b\b\b\b\b\b\b\b\b\b\b\b\b\b\b\b\b\b\b\b\b\b\b\b\b\b\b\b\b\b\b\b\b\b\b\b\b\b\b\b\b\b\b\b\b\b\b\b\b\b\b\b\b\b\b\b\b\b\b\b\b\b\b\b\b\b\b\b\b\b\b\b\b\b\b\b\b\b\b\b\b\b\b\b\b\b\b\b\b\b\b\b\b\b\b\b\r",
      "8/8 [==============================] - 0s 16ms/step - root_mean_squared_error: 1.0386 - loss: 1.0774 - regularization_loss: 1.1239 - total_loss: 2.2013 - val_root_mean_squared_error: 1.1346 - val_loss: 1.2909 - val_regularization_loss: 1.0980 - val_total_loss: 2.3888\n"
     ]
    },
    {
     "name": "stdout",
     "output_type": "stream",
     "text": [
      "Epoch 14/30\n",
      "\r",
      "1/8 [==>...........................] - ETA: 0s - root_mean_squared_error: 1.0391 - loss: 1.0797 - regularization_loss: 1.0980 - total_loss: 2.1777"
     ]
    },
    {
     "name": "stdout",
     "output_type": "stream",
     "text": [
      "\b\b\b\b\b\b\b\b\b\b\b\b\b\b\b\b\b\b\b\b\b\b\b\b\b\b\b\b\b\b\b\b\b\b\b\b\b\b\b\b\b\b\b\b\b\b\b\b\b\b\b\b\b\b\b\b\b\b\b\b\b\b\b\b\b\b\b\b\b\b\b\b\b\b\b\b\b\b\b\b\b\b\b\b\b\b\b\b\b\b\b\b\b\b\b\b\b\b\b\b\b\b\b\b\b\b\b\b\b\b\b\b\b\b\b\b\b\b\b\b\b\b\b\b\b\b\b\b\b\b\b\b\b\b\b\b\b\b\b\b\b\b\b\b\b\b\r",
      "8/8 [==============================] - 0s 15ms/step - root_mean_squared_error: 1.0333 - loss: 1.0667 - regularization_loss: 1.0727 - total_loss: 2.1393 - val_root_mean_squared_error: 1.1376 - val_loss: 1.2976 - val_regularization_loss: 1.0483 - val_total_loss: 2.3459\n"
     ]
    },
    {
     "name": "stdout",
     "output_type": "stream",
     "text": [
      "Epoch 15/30\n",
      "\r",
      "1/8 [==>...........................] - ETA: 0s - root_mean_squared_error: 1.0344 - loss: 1.0699 - regularization_loss: 1.0483 - total_loss: 2.1183"
     ]
    },
    {
     "name": "stdout",
     "output_type": "stream",
     "text": [
      "\b\b\b\b\b\b\b\b\b\b\b\b\b\b\b\b\b\b\b\b\b\b\b\b\b\b\b\b\b\b\b\b\b\b\b\b\b\b\b\b\b\b\b\b\b\b\b\b\b\b\b\b\b\b\b\b\b\b\b\b\b\b\b\b\b\b\b\b\b\b\b\b\b\b\b\b\b\b\b\b\b\b\b\b\b\b\b\b\b\b\b\b\b\b\b\b\b\b\b\b\b\b\b\b\b\b\b\b\b\b\b\b\b\b\b\b\b\b\b\b\b\b\b\b\b\b\b\b\b\b\b\b\b\b\b\b\b\b\b\b\b\b\b\b\b\b\r",
      "8/8 [==============================] - 0s 15ms/step - root_mean_squared_error: 1.0293 - loss: 1.0585 - regularization_loss: 1.0240 - total_loss: 2.0825 - val_root_mean_squared_error: 1.1391 - val_loss: 1.3010 - val_regularization_loss: 1.0012 - val_total_loss: 2.3021\n"
     ]
    },
    {
     "name": "stdout",
     "output_type": "stream",
     "text": [
      "Epoch 16/30\n",
      "\r",
      "1/8 [==>...........................] - ETA: 0s - root_mean_squared_error: 1.0297 - loss: 1.0602 - regularization_loss: 1.0012 - total_loss: 2.0614"
     ]
    },
    {
     "name": "stdout",
     "output_type": "stream",
     "text": [
      "\b\b\b\b\b\b\b\b\b\b\b\b\b\b\b\b\b\b\b\b\b\b\b\b\b\b\b\b\b\b\b\b\b\b\b\b\b\b\b\b\b\b\b\b\b\b\b\b\b\b\b\b\b\b\b\b\b\b\b\b\b\b\b\b\b\b\b\b\b\b\b\b\b\b\b\b\b\b\b\b\b\b\b\b\b\b\b\b\b\b\b\b\b\b\b\b\b\b\b\b\b\b\b\b\b\b\b\b\b\b\b\b\b\b\b\b\b\b\b\b\b\b\b\b\b\b\b\b\b\b\b\b\b\b\b\b\b\b\b\b\b\b\b\b\b\b\r",
      "8/8 [==============================] - 0s 15ms/step - root_mean_squared_error: 1.0237 - loss: 1.0465 - regularization_loss: 0.9778 - total_loss: 2.0244 - val_root_mean_squared_error: 1.1340 - val_loss: 1.2893 - val_regularization_loss: 0.9562 - val_total_loss: 2.2455\n"
     ]
    },
    {
     "name": "stdout",
     "output_type": "stream",
     "text": [
      "Epoch 17/30\n",
      "\r",
      "1/8 [==>...........................] - ETA: 0s - root_mean_squared_error: 1.0219 - loss: 1.0443 - regularization_loss: 0.9562 - total_loss: 2.0004"
     ]
    },
    {
     "name": "stdout",
     "output_type": "stream",
     "text": [
      "\b\b\b\b\b\b\b\b\b\b\b\b\b\b\b\b\b\b\b\b\b\b\b\b\b\b\b\b\b\b\b\b\b\b\b\b\b\b\b\b\b\b\b\b\b\b\b\b\b\b\b\b\b\b\b\b\b\b\b\b\b\b\b\b\b\b\b\b\b\b\b\b\b\b\b\b\b\b\b\b\b\b\b\b\b\b\b\b\b\b\b\b\b\b\b\b\b\b\b\b\b\b\b\b\b\b\b\b\b\b\b\b\b\b\b\b\b\b\b\b\b\b\b\b\b\b\b\b\b\b\b\b\b\b\b\b\b\b\b\b\b\b\b\b\b\b\r",
      "8/8 [==============================] - 0s 15ms/step - root_mean_squared_error: 1.0146 - loss: 1.0277 - regularization_loss: 0.9340 - total_loss: 1.9617 - val_root_mean_squared_error: 1.1246 - val_loss: 1.2679 - val_regularization_loss: 0.9133 - val_total_loss: 2.1812\n"
     ]
    },
    {
     "name": "stdout",
     "output_type": "stream",
     "text": [
      "Epoch 18/30\n",
      "\r",
      "1/8 [==>...........................] - ETA: 0s - root_mean_squared_error: 1.0122 - loss: 1.0246 - regularization_loss: 0.9133 - total_loss: 1.9379"
     ]
    },
    {
     "name": "stdout",
     "output_type": "stream",
     "text": [
      "\b\b\b\b\b\b\b\b\b\b\b\b\b\b\b\b\b\b\b\b\b\b\b\b\b\b\b\b\b\b\b\b\b\b\b\b\b\b\b\b\b\b\b\b\b\b\b\b\b\b\b\b\b\b\b\b\b\b\b\b\b\b\b\b\b\b\b\b\b\b\b\b\b\b\b\b\b\b\b\b\b\b\b\b\b\b\b\b\b\b\b\b\b\b\b\b\b\b\b\b\b\b\b\b\b\b\b\b\b\b\b\b\b\b\b\b\b\b\b\b\b\b\b\b\b\b\b\b\b\b\b\b\b\b\b\b\b\b\b\b\b\b\b\b\b\b\r"
     ]
    },
    {
     "name": "stdout",
     "output_type": "stream",
     "text": [
      "8/8 [==============================] - ETA: 0s - root_mean_squared_error: 1.0050 - loss: 1.0099 - regularization_loss: 0.8945 - total_loss: 1.9043"
     ]
    },
    {
     "name": "stdout",
     "output_type": "stream",
     "text": [
      "\b\b\b\b\b\b\b\b\b\b\b\b\b\b\b\b\b\b\b\b\b\b\b\b\b\b\b\b\b\b\b\b\b\b\b\b\b\b\b\b\b\b\b\b\b\b\b\b\b\b\b\b\b\b\b\b\b\b\b\b\b\b\b\b\b\b\b\b\b\b\b\b\b\b\b\b\b\b\b\b\b\b\b\b\b\b\b\b\b\b\b\b\b\b\b\b\b\b\b\b\b\b\b\b\b\b\b\b\b\b\b\b\b\b\b\b\b\b\b\b\b\b\b\b\b\b\b\b\b\b\b\b\b\b\b\b\b\b\b\b\b\b\b\b\b\b\r",
      "8/8 [==============================] - 0s 18ms/step - root_mean_squared_error: 1.0050 - loss: 1.0082 - regularization_loss: 0.8924 - total_loss: 1.9005 - val_root_mean_squared_error: 1.1158 - val_loss: 1.2481 - val_regularization_loss: 0.8726 - val_total_loss: 2.1207\n"
     ]
    },
    {
     "name": "stdout",
     "output_type": "stream",
     "text": [
      "Epoch 19/30\n",
      "\r",
      "1/8 [==>...........................] - ETA: 0s - root_mean_squared_error: 1.0034 - loss: 1.0069 - regularization_loss: 0.8726 - total_loss: 1.8795"
     ]
    },
    {
     "name": "stdout",
     "output_type": "stream",
     "text": [
      "\b\b\b\b\b\b\b\b\b\b\b\b\b\b\b\b\b\b\b\b\b\b\b\b\b\b\b\b\b\b\b\b\b\b\b\b\b\b\b\b\b\b\b\b\b\b\b\b\b\b\b\b\b\b\b\b\b\b\b\b\b\b\b\b\b\b\b\b\b\b\b\b\b\b\b\b\b\b\b\b\b\b\b\b\b\b\b\b\b\b\b\b\b\b\b\b\b\b\b\b\b\b\b\b\b\b\b\b\b\b\b\b\b\b\b\b\b\b\b\b\b\b\b\b\b\b\b\b\b\b\b\b\b\b\b\b\b\b\b\b\b\b\b\b\b\b\r",
      "8/8 [==============================] - 0s 15ms/step - root_mean_squared_error: 0.9967 - loss: 0.9917 - regularization_loss: 0.8528 - total_loss: 1.8445 - val_root_mean_squared_error: 1.1091 - val_loss: 1.2332 - val_regularization_loss: 0.8339 - val_total_loss: 2.0671\n"
     ]
    },
    {
     "name": "stdout",
     "output_type": "stream",
     "text": [
      "Epoch 20/30\n",
      "\r",
      "1/8 [==>...........................] - ETA: 0s - root_mean_squared_error: 0.9962 - loss: 0.9923 - regularization_loss: 0.8339 - total_loss: 1.8263"
     ]
    },
    {
     "name": "stdout",
     "output_type": "stream",
     "text": [
      "\b\b\b\b\b\b\b\b\b\b\b\b\b\b\b\b\b\b\b\b\b\b\b\b\b\b\b\b\b\b\b\b\b\b\b\b\b\b\b\b\b\b\b\b\b\b\b\b\b\b\b\b\b\b\b\b\b\b\b\b\b\b\b\b\b\b\b\b\b\b\b\b\b\b\b\b\b\b\b\b\b\b\b\b\b\b\b\b\b\b\b\b\b\b\b\b\b\b\b\b\b\b\b\b\b\b\b\b\b\b\b\b\b\b\b\b\b\b\b\b\b\b\b\b\b\b\b\b\b\b\b\b\b\b\b\b\b\b\b\b\b\b\b\b\b\b\r",
      "8/8 [==============================] - 0s 15ms/step - root_mean_squared_error: 0.9900 - loss: 0.9784 - regularization_loss: 0.8151 - total_loss: 1.7935 - val_root_mean_squared_error: 1.1043 - val_loss: 1.2223 - val_regularization_loss: 0.7971 - val_total_loss: 2.0194\n"
     ]
    },
    {
     "name": "stdout",
     "output_type": "stream",
     "text": [
      "Epoch 21/30\n",
      "\r",
      "1/8 [==>...........................] - ETA: 0s - root_mean_squared_error: 0.9901 - loss: 0.9803 - regularization_loss: 0.7971 - total_loss: 1.7774"
     ]
    },
    {
     "name": "stdout",
     "output_type": "stream",
     "text": [
      "\b\b\b\b\b\b\b\b\b\b\b\b\b\b\b\b\b\b\b\b\b\b\b\b\b\b\b\b\b\b\b\b\b\b\b\b\b\b\b\b\b\b\b\b\b\b\b\b\b\b\b\b\b\b\b\b\b\b\b\b\b\b\b\b\b\b\b\b\b\b\b\b\b\b\b\b\b\b\b\b\b\b\b\b\b\b\b\b\b\b\b\b\b\b\b\b\b\b\b\b\b\b\b\b\b\b\b\b\b\b\b\b\b\b\b\b\b\b\b\b\b\b\b\b\b\b\b\b\b\b\b\b\b\b\b\b\b\b\b\b\b\b\b\b\b\b\r",
      "8/8 [==============================] - 0s 15ms/step - root_mean_squared_error: 0.9844 - loss: 0.9674 - regularization_loss: 0.7792 - total_loss: 1.7466 - val_root_mean_squared_error: 1.1008 - val_loss: 1.2145 - val_regularization_loss: 0.7621 - val_total_loss: 1.9766\n"
     ]
    },
    {
     "name": "stdout",
     "output_type": "stream",
     "text": [
      "Epoch 22/30\n",
      "\r",
      "1/8 [==>...........................] - ETA: 0s - root_mean_squared_error: 0.9850 - loss: 0.9702 - regularization_loss: 0.7621 - total_loss: 1.7323"
     ]
    },
    {
     "name": "stdout",
     "output_type": "stream",
     "text": [
      "\b\b\b\b\b\b\b\b\b\b\b\b\b\b\b\b\b\b\b\b\b\b\b\b\b\b\b\b\b\b\b\b\b\b\b\b\b\b\b\b\b\b\b\b\b\b\b\b\b\b\b\b\b\b\b\b\b\b\b\b\b\b\b\b\b\b\b\b\b\b\b\b\b\b\b\b\b\b\b\b\b\b\b\b\b\b\b\b\b\b\b\b\b\b\b\b\b\b\b\b\b\b\b\b\b\b\b\b\b\b\b\b\b\b\b\b\b\b\b\b\b\b\b\b\b\b\b\b\b\b\b\b\b\b\b\b\b\b\b\b\b\b\b\b\b\b\r",
      "8/8 [==============================] - 0s 15ms/step - root_mean_squared_error: 0.9797 - loss: 0.9583 - regularization_loss: 0.7449 - total_loss: 1.7032 - val_root_mean_squared_error: 1.0983 - val_loss: 1.2087 - val_regularization_loss: 0.7287 - val_total_loss: 1.9374\n"
     ]
    },
    {
     "name": "stdout",
     "output_type": "stream",
     "text": [
      "Epoch 23/30\n",
      "\r",
      "1/8 [==>...........................] - ETA: 0s - root_mean_squared_error: 0.9807 - loss: 0.9617 - regularization_loss: 0.7287 - total_loss: 1.6904"
     ]
    },
    {
     "name": "stdout",
     "output_type": "stream",
     "text": [
      "\b\b\b\b\b\b\b\b\b\b\b\b\b\b\b\b\b\b\b\b\b\b\b\b\b\b\b\b\b\b\b\b\b\b\b\b\b\b\b\b\b\b\b\b\b\b\b\b\b\b\b\b\b\b\b\b\b\b\b\b\b\b\b\b\b\b\b\b\b\b\b\b\b\b\b\b\b\b\b\b\b\b\b\b\b\b\b\b\b\b\b\b\b\b\b\b\b\b\b\b\b\b\b\b\b\b\b\b\b\b\b\b\b\b\b\b\b\b\b\b\b\b\b\b\b\b\b\b\b\b\b\b\b\b\b\b\b\b\b\b\b\b\b\b\b\b\r",
      "8/8 [==============================] - 0s 15ms/step - root_mean_squared_error: 0.9758 - loss: 0.9506 - regularization_loss: 0.7122 - total_loss: 1.6628 - val_root_mean_squared_error: 1.0962 - val_loss: 1.2039 - val_regularization_loss: 0.6968 - val_total_loss: 1.9008\n"
     ]
    },
    {
     "name": "stdout",
     "output_type": "stream",
     "text": [
      "Epoch 24/30\n",
      "\r",
      "1/8 [==>...........................] - ETA: 0s - root_mean_squared_error: 0.9769 - loss: 0.9543 - regularization_loss: 0.6968 - total_loss: 1.6511"
     ]
    },
    {
     "name": "stdout",
     "output_type": "stream",
     "text": [
      "\b\b\b\b\b\b\b\b\b\b\b\b\b\b\b\b\b\b\b\b\b\b\b\b\b\b\b\b\b\b\b\b\b\b\b\b\b\b\b\b\b\b\b\b\b\b\b\b\b\b\b\b\b\b\b\b\b\b\b\b\b\b\b\b\b\b\b\b\b\b\b\b\b\b\b\b\b\b\b\b\b\b\b\b\b\b\b\b\b\b\b\b\b\b\b\b\b\b\b\b\b\b\b\b\b\b\b\b\b\b\b\b\b\b\b\b\b\b\b\b\b\b\b\b\b\b\b\b\b\b\b\b\b\b\b\b\b\b\b\b\b\b\b\b\b\b\r",
      "8/8 [==============================] - 0s 16ms/step - root_mean_squared_error: 0.9722 - loss: 0.9436 - regularization_loss: 0.6810 - total_loss: 1.6246 - val_root_mean_squared_error: 1.0939 - val_loss: 1.1988 - val_regularization_loss: 0.6664 - val_total_loss: 1.8652\n"
     ]
    },
    {
     "name": "stdout",
     "output_type": "stream",
     "text": [
      "Epoch 25/30\n",
      "\r",
      "1/8 [==>...........................] - ETA: 0s - root_mean_squared_error: 0.9733 - loss: 0.9473 - regularization_loss: 0.6664 - total_loss: 1.6137"
     ]
    },
    {
     "name": "stdout",
     "output_type": "stream",
     "text": [
      "\b\b\b\b\b\b\b\b\b\b\b\b\b\b\b\b\b\b\b\b\b\b\b\b\b\b\b\b\b\b\b\b\b\b\b\b\b\b\b\b\b\b\b\b\b\b\b\b\b\b\b\b\b\b\b\b\b\b\b\b\b\b\b\b\b\b\b\b\b\b\b\b\b\b\b\b\b\b\b\b\b\b\b\b\b\b\b\b\b\b\b\b\b\b\b\b\b\b\b\b\b\b\b\b\b\b\b\b\b\b\b\b\b\b\b\b\b\b\b\b\b\b\b\b\b\b\b\b\b\b\b\b\b\b\b\b\b\b\b\b\b\b\b\b\b\b\r",
      "8/8 [==============================] - 0s 17ms/step - root_mean_squared_error: 0.9687 - loss: 0.9367 - regularization_loss: 0.6513 - total_loss: 1.5880 - val_root_mean_squared_error: 1.0910 - val_loss: 1.1922 - val_regularization_loss: 0.6374 - val_total_loss: 1.8296\n"
     ]
    },
    {
     "name": "stdout",
     "output_type": "stream",
     "text": [
      "Epoch 26/30\n",
      "\r",
      "1/8 [==>...........................] - ETA: 0s - root_mean_squared_error: 0.9697 - loss: 0.9403 - regularization_loss: 0.6374 - total_loss: 1.5777"
     ]
    },
    {
     "name": "stdout",
     "output_type": "stream",
     "text": [
      "\b\b\b\b\b\b\b\b\b\b\b\b\b\b\b\b\b\b\b\b\b\b\b\b\b\b\b\b\b\b\b\b\b\b\b\b\b\b\b\b\b\b\b\b\b\b\b\b\b\b\b\b\b\b\b\b\b\b\b\b\b\b\b\b\b\b\b\b\b\b\b\b\b\b\b\b\b\b\b\b\b\b\b\b\b\b\b\b\b\b\b\b\b\b\b\b\b\b\b\b\b\b\b\b\b\b\b\b\b\b\b\b\b\b\b\b\b\b\b\b\b\b\b\b\b\b\b\b\b\b\b\b\b\b\b\b\b\b\b\b\b\b\b\b\b\b\r",
      "8/8 [==============================] - 0s 15ms/step - root_mean_squared_error: 0.9650 - loss: 0.9296 - regularization_loss: 0.6230 - total_loss: 1.5526 - val_root_mean_squared_error: 1.0875 - val_loss: 1.1844 - val_regularization_loss: 0.6097 - val_total_loss: 1.7941\n"
     ]
    },
    {
     "name": "stdout",
     "output_type": "stream",
     "text": [
      "Epoch 27/30\n",
      "\r",
      "1/8 [==>...........................] - ETA: 0s - root_mean_squared_error: 0.9661 - loss: 0.9333 - regularization_loss: 0.6097 - total_loss: 1.5430"
     ]
    },
    {
     "name": "stdout",
     "output_type": "stream",
     "text": [
      "\b\b\b\b\b\b\b\b\b\b\b\b\b\b\b\b\b\b\b\b\b\b\b\b\b\b\b\b\b\b\b\b\b\b\b\b\b\b\b\b\b\b\b\b\b\b\b\b\b\b\b\b\b\b\b\b\b\b\b\b\b\b\b\b\b\b\b\b\b\b\b\b\b\b\b\b\b\b\b\b\b\b\b\b\b\b\b\b\b\b\b\b\b\b\b\b\b\b\b\b\b\b\b\b\b\b\b\b\b\b\b\b\b\b\b\b\b\b\b\b\b\b\b\b\b\b\b\b\b\b\b\b\b\b\b\b\b\b\b\b\b\b\b\b\b\b\r",
      "8/8 [==============================] - 0s 15ms/step - root_mean_squared_error: 0.9614 - loss: 0.9225 - regularization_loss: 0.5959 - total_loss: 1.5185 - val_root_mean_squared_error: 1.0839 - val_loss: 1.1762 - val_regularization_loss: 0.5833 - val_total_loss: 1.7595\n"
     ]
    },
    {
     "name": "stdout",
     "output_type": "stream",
     "text": [
      "Epoch 28/30\n",
      "\r",
      "1/8 [==>...........................] - ETA: 0s - root_mean_squared_error: 0.9625 - loss: 0.9265 - regularization_loss: 0.5833 - total_loss: 1.5098"
     ]
    },
    {
     "name": "stdout",
     "output_type": "stream",
     "text": [
      "\b\b\b\b\b\b\b\b\b\b\b\b\b\b\b\b\b\b\b\b\b\b\b\b\b\b\b\b\b\b\b\b\b\b\b\b\b\b\b\b\b\b\b\b\b\b\b\b\b\b\b\b\b\b\b\b\b\b\b\b\b\b\b\b\b\b\b\b\b\b\b\b\b\b\b\b\b\b\b\b\b\b\b\b\b\b\b\b\b\b\b\b\b\b\b\b\b\b\b\b\b\b\b\b\b\b\b\b\b\b\b\b\b\b\b\b\b\b\b\b\b\b\b\b\b\b\b\b\b\b\b\b\b\b\b\b\b\b\b\b\b\b\b\b\b\b\r",
      "8/8 [==============================] - 0s 15ms/step - root_mean_squared_error: 0.9580 - loss: 0.9159 - regularization_loss: 0.5702 - total_loss: 1.4861 - val_root_mean_squared_error: 1.0804 - val_loss: 1.1687 - val_regularization_loss: 0.5581 - val_total_loss: 1.7268\n"
     ]
    },
    {
     "name": "stdout",
     "output_type": "stream",
     "text": [
      "Epoch 29/30\n",
      "\r",
      "1/8 [==>...........................] - ETA: 0s - root_mean_squared_error: 0.9593 - loss: 0.9203 - regularization_loss: 0.5581 - total_loss: 1.4785"
     ]
    },
    {
     "name": "stdout",
     "output_type": "stream",
     "text": [
      "\b\b\b\b\b\b\b\b\b\b\b\b\b\b\b\b\b\b\b\b\b\b\b\b\b\b\b\b\b\b\b\b\b\b\b\b\b\b\b\b\b\b\b\b\b\b\b\b\b\b\b\b\b\b\b\b\b\b\b\b\b\b\b\b\b\b\b\b\b\b\b\b\b\b\b\b\b\b\b\b\b\b\b\b\b\b\b\b\b\b\b\b\b\b\b\b\b\b\b\b\b\b\b\b\b\b\b\b\b\b\b\b\b\b\b\b\b\b\b\b\b\b\b\b\b\b\b\b\b\b\b\b\b\b\b\b\b\b\b\b\b\b\b\b\b\b\r",
      "8/8 [==============================] - 0s 16ms/step - root_mean_squared_error: 0.9549 - loss: 0.9100 - regularization_loss: 0.5457 - total_loss: 1.4557 - val_root_mean_squared_error: 1.0775 - val_loss: 1.1621 - val_regularization_loss: 0.5342 - val_total_loss: 1.6963\n"
     ]
    },
    {
     "name": "stdout",
     "output_type": "stream",
     "text": [
      "Epoch 30/30\n",
      "\r",
      "1/8 [==>...........................] - ETA: 0s - root_mean_squared_error: 0.9565 - loss: 0.9148 - regularization_loss: 0.5342 - total_loss: 1.4490"
     ]
    },
    {
     "name": "stdout",
     "output_type": "stream",
     "text": [
      "\b\b\b\b\b\b\b\b\b\b\b\b\b\b\b\b\b\b\b\b\b\b\b\b\b\b\b\b\b\b\b\b\b\b\b\b\b\b\b\b\b\b\b\b\b\b\b\b\b\b\b\b\b\b\b\b\b\b\b\b\b\b\b\b\b\b\b\b\b\b\b\b\b\b\b\b\b\b\b\b\b\b\b\b\b\b\b\b\b\b\b\b\b\b\b\b\b\b\b\b\b\b\b\b\b\b\b\b\b\b\b\b\b\b\b\b\b\b\b\b\b\b\b\b\b\b\b\b\b\b\b\b\b\b\b\b\b\b\b\b\b\b\b\b\b\b\r",
      "8/8 [==============================] - 0s 16ms/step - root_mean_squared_error: 0.9521 - loss: 0.9048 - regularization_loss: 0.5223 - total_loss: 1.4271 - val_root_mean_squared_error: 1.0751 - val_loss: 1.1568 - val_regularization_loss: 0.5113 - val_total_loss: 1.6681\n"
     ]
    },
    {
     "name": "stdout",
     "output_type": "stream",
     "text": [
      "Learning rate = 0.1\n"
     ]
    },
    {
     "name": "stdout",
     "output_type": "stream",
     "text": [
      "Epoch 1/30\n"
     ]
    },
    {
     "name": "stdout",
     "output_type": "stream",
     "text": [
      "\r",
      "      1/Unknown - 0s 471ms/step - root_mean_squared_error: 3.7131 - loss: 13.7874 - regularization_loss: 2.0712 - total_loss: 15.8587"
     ]
    },
    {
     "name": "stdout",
     "output_type": "stream",
     "text": [
      "\b\b\b\b\b\b\b\b\b\b\b\b\b\b\b\b\b\b\b\b\b\b\b\b\b\b\b\b\b\b\b\b\b\b\b\b\b\b\b\b\b\b\b\b\b\b\b\b\b\b\b\b\b\b\b\b\b\b\b\b\b\b\b\b\b\b\b\b\b\b\b\b\b\b\b\b\b\b\b\b\b\b\b\b\b\b\b\b\b\b\b\b\b\b\b\b\b\b\b\b\b\b\b\b\b\b\b\b\b\b\b\b\b\b\b\b\b\b\b\b\b\b\b\b\b\b\b\b\b\b\b\b\b\r",
      "8/8 [==============================] - 1s 31ms/step - root_mean_squared_error: 2.4892 - loss: 5.6345 - regularization_loss: 1.9826 - total_loss: 7.6170 - val_root_mean_squared_error: 1.1343 - val_loss: 1.2894 - val_regularization_loss: 1.8913 - val_total_loss: 3.1807\n"
     ]
    },
    {
     "name": "stdout",
     "output_type": "stream",
     "text": [
      "Epoch 2/30\n",
      "\r",
      "1/8 [==>...........................] - ETA: 0s - root_mean_squared_error: 1.1222 - loss: 1.2593 - regularization_loss: 1.8913 - total_loss: 3.1506"
     ]
    },
    {
     "name": "stdout",
     "output_type": "stream",
     "text": [
      "\b\b\b\b\b\b\b\b\b\b\b\b\b\b\b\b\b\b\b\b\b\b\b\b\b\b\b\b\b\b\b\b\b\b\b\b\b\b\b\b\b\b\b\b\b\b\b\b\b\b\b\b\b\b\b\b\b\b\b\b\b\b\b\b\b\b\b\b\b\b\b\b\b\b\b\b\b\b\b\b\b\b\b\b\b\b\b\b\b\b\b\b\b\b\b\b\b\b\b\b\b\b\b\b\b\b\b\b\b\b\b\b\b\b\b\b\b\b\b\b\b\b\b\b\b\b\b\b\b\b\b\b\b\b\b\b\b\b\b\b\b\b\b\b\b\b\r",
      "8/8 [==============================] - 0s 15ms/step - root_mean_squared_error: 1.1206 - loss: 1.2543 - regularization_loss: 1.8035 - total_loss: 3.0578 - val_root_mean_squared_error: 1.1355 - val_loss: 1.2920 - val_regularization_loss: 1.7134 - val_total_loss: 3.0054\n"
     ]
    },
    {
     "name": "stdout",
     "output_type": "stream",
     "text": [
      "Epoch 3/30\n",
      "\r",
      "1/8 [==>...........................] - ETA: 0s - root_mean_squared_error: 1.1157 - loss: 1.2447 - regularization_loss: 1.7134 - total_loss: 2.9581"
     ]
    },
    {
     "name": "stdout",
     "output_type": "stream",
     "text": [
      "\b\b\b\b\b\b\b\b\b\b\b\b\b\b\b\b\b\b\b\b\b\b\b\b\b\b\b\b\b\b\b\b\b\b\b\b\b\b\b\b\b\b\b\b\b\b\b\b\b\b\b\b\b\b\b\b\b\b\b\b\b\b\b\b\b\b\b\b\b\b\b\b\b\b\b\b\b\b\b\b\b\b\b\b\b\b\b\b\b\b\b\b\b\b\b\b\b\b\b\b\b\b\b\b\b\b\b\b\b\b\b\b\b\b\b\b\b\b\b\b\b\b\b\b\b\b\b\b\b\b\b\b\b\b\b\b\b\b\b\b\b\b\b\b\b\b\r",
      "8/8 [==============================] - 0s 17ms/step - root_mean_squared_error: 1.1148 - loss: 1.2411 - regularization_loss: 1.6338 - total_loss: 2.8750 - val_root_mean_squared_error: 1.1338 - val_loss: 1.2882 - val_regularization_loss: 1.5527 - val_total_loss: 2.8410\n"
     ]
    },
    {
     "name": "stdout",
     "output_type": "stream",
     "text": [
      "Epoch 4/30\n",
      "\r",
      "1/8 [==>...........................] - ETA: 0s - root_mean_squared_error: 1.1097 - loss: 1.2314 - regularization_loss: 1.5527 - total_loss: 2.7842"
     ]
    },
    {
     "name": "stdout",
     "output_type": "stream",
     "text": [
      "\b\b\b\b\b\b\b\b\b\b\b\b\b\b\b\b\b\b\b\b\b\b\b\b\b\b\b\b\b\b\b\b\b\b\b\b\b\b\b\b\b\b\b\b\b\b\b\b\b\b\b\b\b\b\b\b\b\b\b\b\b\b\b\b\b\b\b\b\b\b\b\b\b\b\b\b\b\b\b\b\b\b\b\b\b\b\b\b\b\b\b\b\b\b\b\b\b\b\b\b\b\b\b\b\b\b\b\b\b\b\b\b\b\b\b\b\b\b\b\b\b\b\b\b\b\b\b\b\b\b\b\b\b\b\b\b\b\b\b\b\b\b\b\b\b\b\r",
      "8/8 [==============================] - 0s 17ms/step - root_mean_squared_error: 1.1073 - loss: 1.2241 - regularization_loss: 1.4813 - total_loss: 2.7054 - val_root_mean_squared_error: 1.1318 - val_loss: 1.2839 - val_regularization_loss: 1.4085 - val_total_loss: 2.6923\n"
     ]
    },
    {
     "name": "stdout",
     "output_type": "stream",
     "text": [
      "Epoch 5/30\n",
      "\r",
      "1/8 [==>...........................] - ETA: 0s - root_mean_squared_error: 1.1013 - loss: 1.2128 - regularization_loss: 1.4085 - total_loss: 2.6213"
     ]
    },
    {
     "name": "stdout",
     "output_type": "stream",
     "text": [
      "\b\b\b\b\b\b\b\b\b\b\b\b\b\b\b\b\b\b\b\b\b\b\b\b\b\b\b\b\b\b\b\b\b\b\b\b\b\b\b\b\b\b\b\b\b\b\b\b\b\b\b\b\b\b\b\b\b\b\b\b\b\b\b\b\b\b\b\b\b\b\b\b\b\b\b\b\b\b\b\b\b\b\b\b\b\b\b\b\b\b\b\b\b\b\b\b\b\b\b\b\b\b\b\b\b\b\b\b\b\b\b\b\b\b\b\b\b\b\b\b\b\b\b\b\b\b\b\b\b\b\b\b\b\b\b\b\b\b\b\b\b\b\b\b\b\b\r",
      "8/8 [==============================] - 0s 16ms/step - root_mean_squared_error: 1.0968 - loss: 1.2005 - regularization_loss: 1.3444 - total_loss: 2.5449 - val_root_mean_squared_error: 1.1293 - val_loss: 1.2784 - val_regularization_loss: 1.2793 - val_total_loss: 2.5577\n"
     ]
    },
    {
     "name": "stdout",
     "output_type": "stream",
     "text": [
      "Epoch 6/30\n",
      "\r",
      "1/8 [==>...........................] - ETA: 0s - root_mean_squared_error: 1.0896 - loss: 1.1872 - regularization_loss: 1.2793 - total_loss: 2.4665"
     ]
    },
    {
     "name": "stdout",
     "output_type": "stream",
     "text": [
      "\b\b\b\b\b\b\b\b\b\b\b\b\b\b\b\b\b\b\b\b\b\b\b\b\b\b\b\b\b\b\b\b\b\b\b\b\b\b\b\b\b\b\b\b\b\b\b\b\b\b\b\b\b\b\b\b\b\b\b\b\b\b\b\b\b\b\b\b\b\b\b\b\b\b\b\b\b\b\b\b\b\b\b\b\b\b\b\b\b\b\b\b\b\b\b\b\b\b\b\b\b\b\b\b\b\b\b\b\b\b\b\b\b\b\b\b\b\b\b\b\b\b\b\b\b\b\b\b\b\b\b\b\b\b\b\b\b\b\b\b\b\b\b\b\b\b\r",
      "8/8 [==============================] - 0s 15ms/step - root_mean_squared_error: 1.0827 - loss: 1.1695 - regularization_loss: 1.2221 - total_loss: 2.3916 - val_root_mean_squared_error: 1.1260 - val_loss: 1.2713 - val_regularization_loss: 1.1640 - val_total_loss: 2.4353\n"
     ]
    },
    {
     "name": "stdout",
     "output_type": "stream",
     "text": [
      "Epoch 7/30\n",
      "\r",
      "1/8 [==>...........................] - ETA: 0s - root_mean_squared_error: 1.0748 - loss: 1.1551 - regularization_loss: 1.1640 - total_loss: 2.3191"
     ]
    },
    {
     "name": "stdout",
     "output_type": "stream",
     "text": [
      "\b\b\b\b\b\b\b\b\b\b\b\b\b\b\b\b\b\b\b\b\b\b\b\b\b\b\b\b\b\b\b\b\b\b\b\b\b\b\b\b\b\b\b\b\b\b\b\b\b\b\b\b\b\b\b\b\b\b\b\b\b\b\b\b\b\b\b\b\b\b\b\b\b\b\b\b\b\b\b\b\b\b\b\b\b\b\b\b\b\b\b\b\b\b\b\b\b\b\b\b\b\b\b\b\b\b\b\b\b\b\b\b\b\b\b\b\b\b\b\b\b\b\b\b\b\b\b\b\b\b\b\b\b\b\b\b\b\b\b\b\b\b\b\b\b\b\r",
      "8/8 [==============================] - 0s 15ms/step - root_mean_squared_error: 1.0662 - loss: 1.1337 - regularization_loss: 1.1128 - total_loss: 2.2465 - val_root_mean_squared_error: 1.1217 - val_loss: 1.2618 - val_regularization_loss: 1.0609 - val_total_loss: 2.3227\n"
     ]
    },
    {
     "name": "stdout",
     "output_type": "stream",
     "text": [
      "Epoch 8/30\n",
      "\r",
      "1/8 [==>...........................] - ETA: 0s - root_mean_squared_error: 1.0584 - loss: 1.1201 - regularization_loss: 1.0609 - total_loss: 2.1810"
     ]
    },
    {
     "name": "stdout",
     "output_type": "stream",
     "text": [
      "\b\b\b\b\b\b\b\b\b\b\b\b\b\b\b\b\b\b\b\b\b\b\b\b\b\b\b\b\b\b\b\b\b\b\b\b\b\b\b\b\b\b\b\b\b\b\b\b\b\b\b\b\b\b\b\b\b\b\b\b\b\b\b\b\b\b\b\b\b\b\b\b\b\b\b\b\b\b\b\b\b\b\b\b\b\b\b\b\b\b\b\b\b\b\b\b\b\b\b\b\b\b\b\b\b\b\b\b\b\b\b\b\b\b\b\b\b\b\b\b\b\b\b\b\b\b\b\b\b\b\b\b\b\b\b\b\b\b\b\b\b\b\b\b\b\b\r",
      "8/8 [==============================] - 0s 16ms/step - root_mean_squared_error: 1.0491 - loss: 1.0977 - regularization_loss: 1.0150 - total_loss: 2.1127 - val_root_mean_squared_error: 1.1160 - val_loss: 1.2495 - val_regularization_loss: 0.9683 - val_total_loss: 2.2179\n"
     ]
    },
    {
     "name": "stdout",
     "output_type": "stream",
     "text": [
      "Epoch 9/30\n",
      "\r",
      "1/8 [==>...........................] - ETA: 0s - root_mean_squared_error: 1.0421 - loss: 1.0860 - regularization_loss: 0.9683 - total_loss: 2.0543"
     ]
    },
    {
     "name": "stdout",
     "output_type": "stream",
     "text": [
      "\b\b\b\b\b\b\b\b\b\b\b\b\b\b\b\b\b\b\b\b\b\b\b\b\b\b\b\b\b\b\b\b\b\b\b\b\b\b\b\b\b\b\b\b\b\b\b\b\b\b\b\b\b\b\b\b\b\b\b\b\b\b\b\b\b\b\b\b\b\b\b\b\b\b\b\b\b\b\b\b\b\b\b\b\b\b\b\b\b\b\b\b\b\b\b\b\b\b\b\b\b\b\b\b\b\b\b\b\b\b\b\b\b\b\b\b\b\b\b\b\b\b\b\b\b\b\b\b\b\b\b\b\b\b\b\b\b\b\b\b\b\b\b\b\b\b\r",
      "8/8 [==============================] - 0s 36ms/step - root_mean_squared_error: 1.0329 - loss: 1.0640 - regularization_loss: 0.9270 - total_loss: 1.9910 - val_root_mean_squared_error: 1.1093 - val_loss: 1.2350 - val_regularization_loss: 0.8851 - val_total_loss: 2.1201\n"
     ]
    },
    {
     "name": "stdout",
     "output_type": "stream",
     "text": [
      "Epoch 10/30\n",
      "\r",
      "1/8 [==>...........................] - ETA: 0s - root_mean_squared_error: 1.0266 - loss: 1.0539 - regularization_loss: 0.8851 - total_loss: 1.9390"
     ]
    },
    {
     "name": "stdout",
     "output_type": "stream",
     "text": [
      "\b\b\b\b\b\b\b\b\b\b\b\b\b\b\b\b\b\b\b\b\b\b\b\b\b\b\b\b\b\b\b\b\b\b\b\b\b\b\b\b\b\b\b\b\b\b\b\b\b\b\b\b\b\b\b\b\b\b\b\b\b\b\b\b\b\b\b\b\b\b\b\b\b\b\b\b\b\b\b\b\b\b\b\b\b\b\b\b\b\b\b\b\b\b\b\b\b\b\b\b\b\b\b\b\b\b\b\b\b\b\b\b\b\b\b\b\b\b\b\b\b\b\b\b\b\b\b\b\b\b\b\b\b\b\b\b\b\b\b\b\b\b\b\b\b\b\r",
      "8/8 [==============================] - 0s 15ms/step - root_mean_squared_error: 1.0177 - loss: 1.0329 - regularization_loss: 0.8478 - total_loss: 1.8808 - val_root_mean_squared_error: 1.1021 - val_loss: 1.2193 - val_regularization_loss: 0.8101 - val_total_loss: 2.0294\n"
     ]
    },
    {
     "name": "stdout",
     "output_type": "stream",
     "text": [
      "Epoch 11/30\n",
      "\r",
      "1/8 [==>...........................] - ETA: 0s - root_mean_squared_error: 1.0123 - loss: 1.0247 - regularization_loss: 0.8101 - total_loss: 1.8348"
     ]
    },
    {
     "name": "stdout",
     "output_type": "stream",
     "text": [
      "\b\b\b\b\b\b\b\b\b\b\b\b\b\b\b\b\b\b\b\b\b\b\b\b\b\b\b\b\b\b\b\b\b\b\b\b\b\b\b\b\b\b\b\b\b\b\b\b\b\b\b\b\b\b\b\b\b\b\b\b\b\b\b\b\b\b\b\b\b\b\b\b\b\b\b\b\b\b\b\b\b\b\b\b\b\b\b\b\b\b\b\b\b\b\b\b\b\b\b\b\b\b\b\b\b\b\b\b\b\b\b\b\b\b\b\b\b\b\b\b\b\b\b\b\b\b\b\b\b\b\b\b\b\b\b\b\b\b\b\b\b\b\b\b\b\b\r",
      "8/8 [==============================] - 0s 15ms/step - root_mean_squared_error: 1.0040 - loss: 1.0053 - regularization_loss: 0.7764 - total_loss: 1.7816 - val_root_mean_squared_error: 1.0949 - val_loss: 1.2038 - val_regularization_loss: 0.7422 - val_total_loss: 1.9460\n"
     ]
    },
    {
     "name": "stdout",
     "output_type": "stream",
     "text": [
      "Epoch 12/30\n",
      "\r",
      "1/8 [==>...........................] - ETA: 0s - root_mean_squared_error: 0.9996 - loss: 0.9992 - regularization_loss: 0.7422 - total_loss: 1.7415"
     ]
    },
    {
     "name": "stdout",
     "output_type": "stream",
     "text": [
      "\b\b\b\b\b\b\b\b\b\b\b\b\b\b\b\b\b\b\b\b\b\b\b\b\b\b\b\b\b\b\b\b\b\b\b\b\b\b\b\b\b\b\b\b\b\b\b\b\b\b\b\b\b\b\b\b\b\b\b\b\b\b\b\b\b\b\b\b\b\b\b\b\b\b\b\b\b\b\b\b\b\b\b\b\b\b\b\b\b\b\b\b\b\b\b\b\b\b\b\b\b\b\b\b\b\b\b\b\b\b\b\b\b\b\b\b\b\b\b\b\b\b\b\b\b\b\b\b\b\b\b\b\b\b\b\b\b\b\b\b\b\b\b\b\b\b\r",
      "8/8 [==============================] - 0s 15ms/step - root_mean_squared_error: 0.9921 - loss: 0.9816 - regularization_loss: 0.7116 - total_loss: 1.6932 - val_root_mean_squared_error: 1.0883 - val_loss: 1.1895 - val_regularization_loss: 0.6806 - val_total_loss: 1.8701\n"
     ]
    },
    {
     "name": "stdout",
     "output_type": "stream",
     "text": [
      "Epoch 13/30\n",
      "\r",
      "1/8 [==>...........................] - ETA: 0s - root_mean_squared_error: 0.9889 - loss: 0.9779 - regularization_loss: 0.6806 - total_loss: 1.6585"
     ]
    },
    {
     "name": "stdout",
     "output_type": "stream",
     "text": [
      "\b\b\b\b\b\b\b\b\b\b\b\b\b\b\b\b\b\b\b\b\b\b\b\b\b\b\b\b\b\b\b\b\b\b\b\b\b\b\b\b\b\b\b\b\b\b\b\b\b\b\b\b\b\b\b\b\b\b\b\b\b\b\b\b\b\b\b\b\b\b\b\b\b\b\b\b\b\b\b\b\b\b\b\b\b\b\b\b\b\b\b\b\b\b\b\b\b\b\b\b\b\b\b\b\b\b\b\b\b\b\b\b\b\b\b\b\b\b\b\b\b\b\b\b\b\b\b\b\b\b\b\b\b\b\b\b\b\b\b\b\b\b\b\b\b\b\r",
      "8/8 [==============================] - 0s 15ms/step - root_mean_squared_error: 0.9821 - loss: 0.9620 - regularization_loss: 0.6527 - total_loss: 1.6147 - val_root_mean_squared_error: 1.0824 - val_loss: 1.1769 - val_regularization_loss: 0.6245 - val_total_loss: 1.8014\n"
     ]
    },
    {
     "name": "stdout",
     "output_type": "stream",
     "text": [
      "Epoch 14/30\n",
      "\r",
      "1/8 [==>...........................] - ETA: 0s - root_mean_squared_error: 0.9799 - loss: 0.9603 - regularization_loss: 0.6245 - total_loss: 1.5848"
     ]
    },
    {
     "name": "stdout",
     "output_type": "stream",
     "text": [
      "\b\b\b\b\b\b\b\b\b\b\b\b\b\b\b\b\b\b\b\b\b\b\b\b\b\b\b\b\b\b\b\b\b\b\b\b\b\b\b\b\b\b\b\b\b\b\b\b\b\b\b\b\b\b\b\b\b\b\b\b\b\b\b\b\b\b\b\b\b\b\b\b\b\b\b\b\b\b\b\b\b\b\b\b\b\b\b\b\b\b\b\b\b\b\b\b\b\b\b\b\b\b\b\b\b\b\b\b\b\b\b\b\b\b\b\b\b\b\b\b\b\b\b\b\b\b\b\b\b\b\b\b\b\b\b\b\b\b\b\b\b\b\b\b\b\b\r",
      "8/8 [==============================] - 0s 16ms/step - root_mean_squared_error: 0.9739 - loss: 0.9459 - regularization_loss: 0.5990 - total_loss: 1.5449 - val_root_mean_squared_error: 1.0774 - val_loss: 1.1661 - val_regularization_loss: 0.5733 - val_total_loss: 1.7393\n"
     ]
    },
    {
     "name": "stdout",
     "output_type": "stream",
     "text": [
      "Epoch 15/30\n",
      "\r",
      "1/8 [==>...........................] - ETA: 0s - root_mean_squared_error: 0.9725 - loss: 0.9458 - regularization_loss: 0.5733 - total_loss: 1.5191"
     ]
    },
    {
     "name": "stdout",
     "output_type": "stream",
     "text": [
      "\b\b\b\b\b\b\b\b\b\b\b\b\b\b\b\b\b\b\b\b\b\b\b\b\b\b\b\b\b\b\b\b\b\b\b\b\b\b\b\b\b\b\b\b\b\b\b\b\b\b\b\b\b\b\b\b\b\b\b\b\b\b\b\b\b\b\b\b\b\b\b\b\b\b\b\b\b\b\b\b\b\b\b\b\b\b\b\b\b\b\b\b\b\b\b\b\b\b\b\b\b\b\b\b\b\b\b\b\b\b\b\b\b\b\b\b\b\b\b\b\b\b\b\b\b\b\b\b\b\b\b\b\b\b\b\b\b\b\b\b\b\b\b\b\b\b\r",
      "8/8 [==============================] - 0s 15ms/step - root_mean_squared_error: 0.9670 - loss: 0.9327 - regularization_loss: 0.5500 - total_loss: 1.4827 - val_root_mean_squared_error: 1.0732 - val_loss: 1.1568 - val_regularization_loss: 0.5266 - val_total_loss: 1.6834\n"
     ]
    },
    {
     "name": "stdout",
     "output_type": "stream",
     "text": [
      "Epoch 16/30\n",
      "\r",
      "1/8 [==>...........................] - ETA: 0s - root_mean_squared_error: 0.9663 - loss: 0.9338 - regularization_loss: 0.5266 - total_loss: 1.4604"
     ]
    },
    {
     "name": "stdout",
     "output_type": "stream",
     "text": [
      "\b\b\b\b\b\b\b\b\b\b\b\b\b\b\b\b\b\b\b\b\b\b\b\b\b\b\b\b\b\b\b\b\b\b\b\b\b\b\b\b\b\b\b\b\b\b\b\b\b\b\b\b\b\b\b\b\b\b\b\b\b\b\b\b\b\b\b\b\b\b\b\b\b\b\b\b\b\b\b\b\b\b\b\b\b\b\b\b\b\b\b\b\b\b\b\b\b\b\b\b\b\b\b\b\b\b\b\b\b\b\b\b\b\b\b\b\b\b\b\b\b\b\b\b\b\b\b\b\b\b\b\b\b\b\b\b\b\b\b\b\b\b\b\b\b\b\r",
      "8/8 [==============================] - 0s 16ms/step - root_mean_squared_error: 0.9613 - loss: 0.9218 - regularization_loss: 0.5053 - total_loss: 1.4271 - val_root_mean_squared_error: 1.0696 - val_loss: 1.1490 - val_regularization_loss: 0.4840 - val_total_loss: 1.6330\n"
     ]
    },
    {
     "name": "stdout",
     "output_type": "stream",
     "text": [
      "Epoch 17/30\n",
      "\r",
      "1/8 [==>...........................] - ETA: 0s - root_mean_squared_error: 0.9611 - loss: 0.9237 - regularization_loss: 0.4840 - total_loss: 1.4077"
     ]
    },
    {
     "name": "stdout",
     "output_type": "stream",
     "text": [
      "\b\b\b\b\b\b\b\b\b\b\b\b\b\b\b\b\b\b\b\b\b\b\b\b\b\b\b\b\b\b\b\b\b\b\b\b\b\b\b\b\b\b\b\b\b\b\b\b\b\b\b\b\b\b\b\b\b\b\b\b\b\b\b\b\b\b\b\b\b\b\b\b\b\b\b\b\b\b\b\b\b\b\b\b\b\b\b\b\b\b\b\b\b\b\b\b\b\b\b\b\b\b\b\b\b\b\b\b\b\b\b\b\b\b\b\b\b\b\b\b\b\b\b\b\b\b\b\b\b\b\b\b\b\b\b\b\b\b\b\b\b\b\b\b\b\b\r",
      "8/8 [==============================] - 0s 15ms/step - root_mean_squared_error: 0.9565 - loss: 0.9125 - regularization_loss: 0.4647 - total_loss: 1.3772 - val_root_mean_squared_error: 1.0665 - val_loss: 1.1423 - val_regularization_loss: 0.4453 - val_total_loss: 1.5876\n"
     ]
    },
    {
     "name": "stdout",
     "output_type": "stream",
     "text": [
      "Epoch 18/30\n",
      "\r",
      "1/8 [==>...........................] - ETA: 0s - root_mean_squared_error: 0.9566 - loss: 0.9151 - regularization_loss: 0.4453 - total_loss: 1.3604"
     ]
    },
    {
     "name": "stdout",
     "output_type": "stream",
     "text": [
      "\b\b\b\b\b\b\b\b\b\b\b\b\b\b\b\b\b\b\b\b\b\b\b\b\b\b\b\b\b\b\b\b\b\b\b\b\b\b\b\b\b\b\b\b\b\b\b\b\b\b\b\b\b\b\b\b\b\b\b\b\b\b\b\b\b\b\b\b\b\b\b\b\b\b\b\b\b\b\b\b\b\b\b\b\b\b\b\b\b\b\b\b\b\b\b\b\b\b\b\b\b\b\b\b\b\b\b\b\b\b\b\b\b\b\b\b\b\b\b\b\b\b\b\b\b\b\b\b\b\b\b\b\b\b\b\b\b\b\b\b\b\b\b\b\b\b\r",
      "8/8 [==============================] - 0s 15ms/step - root_mean_squared_error: 0.9524 - loss: 0.9047 - regularization_loss: 0.4277 - total_loss: 1.3323 - val_root_mean_squared_error: 1.0639 - val_loss: 1.1366 - val_regularization_loss: 0.4101 - val_total_loss: 1.5467\n"
     ]
    },
    {
     "name": "stdout",
     "output_type": "stream",
     "text": [
      "Epoch 19/30\n",
      "\r",
      "1/8 [==>...........................] - ETA: 0s - root_mean_squared_error: 0.9528 - loss: 0.9077 - regularization_loss: 0.4101 - total_loss: 1.3179"
     ]
    },
    {
     "name": "stdout",
     "output_type": "stream",
     "text": [
      "\b\b\b\b\b\b\b\b\b\b\b\b\b\b\b\b\b\b\b\b\b\b\b\b\b\b\b\b\b\b\b\b\b\b\b\b\b\b\b\b\b\b\b\b\b\b\b\b\b\b\b\b\b\b\b\b\b\b\b\b\b\b\b\b\b\b\b\b\b\b\b\b\b\b\b\b\b\b\b\b\b\b\b\b\b\b\b\b\b\b\b\b\b\b\b\b\b\b\b\b\b\b\b\b\b\b\b\b\b\b\b\b\b\b\b\b\b\b\b\b\b\b\b\b\b\b\b\b\b\b\b\b\b\b\b\b\b\b\b\b\b\b\b\b\b\b\r",
      "8/8 [==============================] - 0s 15ms/step - root_mean_squared_error: 0.9488 - loss: 0.8979 - regularization_loss: 0.3941 - total_loss: 1.2920 - val_root_mean_squared_error: 1.0617 - val_loss: 1.1317 - val_regularization_loss: 0.3782 - val_total_loss: 1.5099\n"
     ]
    },
    {
     "name": "stdout",
     "output_type": "stream",
     "text": [
      "Epoch 20/30\n",
      "\r",
      "1/8 [==>...........................] - ETA: 0s - root_mean_squared_error: 0.9494 - loss: 0.9014 - regularization_loss: 0.3782 - total_loss: 1.2795"
     ]
    },
    {
     "name": "stdout",
     "output_type": "stream",
     "text": [
      "\b\b\b\b\b\b\b\b\b\b\b\b\b\b\b\b\b\b\b\b\b\b\b\b\b\b\b\b\b\b\b\b\b\b\b\b\b\b\b\b\b\b\b\b\b\b\b\b\b\b\b\b\b\b\b\b\b\b\b\b\b\b\b\b\b\b\b\b\b\b\b\b\b\b\b\b\b\b\b\b\b\b\b\b\b\b\b\b\b\b\b\b\b\b\b\b\b\b\b\b\b\b\b\b\b\b\b\b\b\b\b\b\b\b\b\b\b\b\b\b\b\b\b\b\b\b\b\b\b\b\b\b\b\b\b\b\b\b\b\b\b\b\b\b\b\b\r",
      "8/8 [==============================] - 0s 15ms/step - root_mean_squared_error: 0.9457 - loss: 0.8920 - regularization_loss: 0.3636 - total_loss: 1.2555 - val_root_mean_squared_error: 1.0597 - val_loss: 1.1275 - val_regularization_loss: 0.3491 - val_total_loss: 1.4766\n"
     ]
    },
    {
     "name": "stdout",
     "output_type": "stream",
     "text": [
      "Epoch 21/30\n",
      "\r",
      "1/8 [==>...........................] - ETA: 0s - root_mean_squared_error: 0.9465 - loss: 0.8958 - regularization_loss: 0.3491 - total_loss: 1.2449"
     ]
    },
    {
     "name": "stdout",
     "output_type": "stream",
     "text": [
      "\b\b\b\b\b\b\b\b\b\b\b\b\b\b\b\b\b\b\b\b\b\b\b\b\b\b\b\b\b\b\b\b\b\b\b\b\b\b\b\b\b\b\b\b\b\b\b\b\b\b\b\b\b\b\b\b\b\b\b\b\b\b\b\b\b\b\b\b\b\b\b\b\b\b\b\b\b\b\b\b\b\b\b\b\b\b\b\b\b\b\b\b\b\b\b\b\b\b\b\b\b\b\b\b\b\b\b\b\b\b\b\b\b\b\b\b\b\b\b\b\b\b\b\b\b\b\b\b\b\b\b\b\b\b\b\b\b\b\b\b\b\b\b\b\b\b\r",
      "8/8 [==============================] - 0s 15ms/step - root_mean_squared_error: 0.9429 - loss: 0.8868 - regularization_loss: 0.3358 - total_loss: 1.2227 - val_root_mean_squared_error: 1.0581 - val_loss: 1.1239 - val_regularization_loss: 0.3228 - val_total_loss: 1.4466\n"
     ]
    },
    {
     "name": "stdout",
     "output_type": "stream",
     "text": [
      "Epoch 22/30\n",
      "\r",
      "1/8 [==>...........................] - ETA: 0s - root_mean_squared_error: 0.9439 - loss: 0.8909 - regularization_loss: 0.3228 - total_loss: 1.2137"
     ]
    },
    {
     "name": "stdout",
     "output_type": "stream",
     "text": [
      "\b\b\b\b\b\b\b\b\b\b\b\b\b\b\b\b\b\b\b\b\b\b\b\b\b\b\b\b\b\b\b\b\b\b\b\b\b\b\b\b\b\b\b\b\b\b\b\b\b\b\b\b\b\b\b\b\b\b\b\b\b\b\b\b\b\b\b\b\b\b\b\b\b\b\b\b\b\b\b\b\b\b\b\b\b\b\b\b\b\b\b\b\b\b\b\b\b\b\b\b\b\b\b\b\b\b\b\b\b\b\b\b\b\b\b\b\b\b\b\b\b\b\b\b\b\b\b\b\b\b\b\b\b\b\b\b\b\b\b\b\b\b\b\b\b\b\r",
      "8/8 [==============================] - 0s 15ms/step - root_mean_squared_error: 0.9405 - loss: 0.8823 - regularization_loss: 0.3107 - total_loss: 1.1929 - val_root_mean_squared_error: 1.0566 - val_loss: 1.1207 - val_regularization_loss: 0.2988 - val_total_loss: 1.4196\n"
     ]
    },
    {
     "name": "stdout",
     "output_type": "stream",
     "text": [
      "Epoch 23/30\n",
      "\r",
      "1/8 [==>...........................] - ETA: 0s - root_mean_squared_error: 0.9416 - loss: 0.8866 - regularization_loss: 0.2988 - total_loss: 1.1854"
     ]
    },
    {
     "name": "stdout",
     "output_type": "stream",
     "text": [
      "\b\b\b\b\b\b\b\b\b\b\b\b\b\b\b\b\b\b\b\b\b\b\b\b\b\b\b\b\b\b\b\b\b\b\b\b\b\b\b\b\b\b\b\b\b\b\b\b\b\b\b\b\b\b\b\b\b\b\b\b\b\b\b\b\b\b\b\b\b\b\b\b\b\b\b\b\b\b\b\b\b\b\b\b\b\b\b\b\b\b\b\b\b\b\b\b\b\b\b\b\b\b\b\b\b\b\b\b\b\b\b\b\b\b\b\b\b\b\b\b\b\b\b\b\b\b\b\b\b\b\b\b\b\b\b\b\b\b\b\b\b\b\b\b\b\b\r",
      "8/8 [==============================] - 0s 16ms/step - root_mean_squared_error: 0.9383 - loss: 0.8782 - regularization_loss: 0.2878 - total_loss: 1.1660 - val_root_mean_squared_error: 1.0553 - val_loss: 1.1180 - val_regularization_loss: 0.2771 - val_total_loss: 1.3951\n"
     ]
    },
    {
     "name": "stdout",
     "output_type": "stream",
     "text": [
      "Epoch 24/30\n",
      "\r",
      "1/8 [==>...........................] - ETA: 0s - root_mean_squared_error: 0.9395 - loss: 0.8827 - regularization_loss: 0.2771 - total_loss: 1.1598"
     ]
    },
    {
     "name": "stdout",
     "output_type": "stream",
     "text": [
      "\b\b\b\b\b\b\b\b\b\b\b\b\b\b\b\b\b\b\b\b\b\b\b\b\b\b\b\b\b\b\b\b\b\b\b\b\b\b\b\b\b\b\b\b\b\b\b\b\b\b\b\b\b\b\b\b\b\b\b\b\b\b\b\b\b\b\b\b\b\b\b\b\b\b\b\b\b\b\b\b\b\b\b\b\b\b\b\b\b\b\b\b\b\b\b\b\b\b\b\b\b\b\b\b\b\b\b\b\b\b\b\b\b\b\b\b\b\b\b\b\b\b\b\b\b\b\b\b\b\b\b\b\b\b\b\b\b\b\b\b\b\b\b\b\b\b\r",
      "8/8 [==============================] - 0s 16ms/step - root_mean_squared_error: 0.9364 - loss: 0.8746 - regularization_loss: 0.2670 - total_loss: 1.1416 - val_root_mean_squared_error: 1.0542 - val_loss: 1.1157 - val_regularization_loss: 0.2573 - val_total_loss: 1.3730\n"
     ]
    },
    {
     "name": "stdout",
     "output_type": "stream",
     "text": [
      "Epoch 25/30\n",
      "\r",
      "1/8 [==>...........................] - ETA: 0s - root_mean_squared_error: 0.9377 - loss: 0.8793 - regularization_loss: 0.2573 - total_loss: 1.1366"
     ]
    },
    {
     "name": "stdout",
     "output_type": "stream",
     "text": [
      "\b\b\b\b\b\b\b\b\b\b\b\b\b\b\b\b\b\b\b\b\b\b\b\b\b\b\b\b\b\b\b\b\b\b\b\b\b\b\b\b\b\b\b\b\b\b\b\b\b\b\b\b\b\b\b\b\b\b\b\b\b\b\b\b\b\b\b\b\b\b\b\b\b\b\b\b\b\b\b\b\b\b\b\b\b\b\b\b\b\b\b\b\b\b\b\b\b\b\b\b\b\b\b\b\b\b\b\b\b\b\b\b\b\b\b\b\b\b\b\b\b\b\b\b\b\b\b\b\b\b\b\b\b\b\b\b\b\b\b\b\b\b\b\b\b\b\r",
      "8/8 [==============================] - 0s 15ms/step - root_mean_squared_error: 0.9347 - loss: 0.8714 - regularization_loss: 0.2482 - total_loss: 1.1195 - val_root_mean_squared_error: 1.0532 - val_loss: 1.1136 - val_regularization_loss: 0.2394 - val_total_loss: 1.3529\n"
     ]
    },
    {
     "name": "stdout",
     "output_type": "stream",
     "text": [
      "Epoch 26/30\n",
      "\r",
      "1/8 [==>...........................] - ETA: 0s - root_mean_squared_error: 0.9361 - loss: 0.8763 - regularization_loss: 0.2394 - total_loss: 1.1156"
     ]
    },
    {
     "name": "stdout",
     "output_type": "stream",
     "text": [
      "\b\b\b\b\b\b\b\b\b\b\b\b\b\b\b\b\b\b\b\b\b\b\b\b\b\b\b\b\b\b\b\b\b\b\b\b\b\b\b\b\b\b\b\b\b\b\b\b\b\b\b\b\b\b\b\b\b\b\b\b\b\b\b\b\b\b\b\b\b\b\b\b\b\b\b\b\b\b\b\b\b\b\b\b\b\b\b\b\b\b\b\b\b\b\b\b\b\b\b\b\b\b\b\b\b\b\b\b\b\b\b\b\b\b\b\b\b\b\b\b\b\b\b\b\b\b\b\b\b\b\b\b\b\b\b\b\b\b\b\b\b\b\b\b\b\b\r",
      "8/8 [==============================] - 0s 15ms/step - root_mean_squared_error: 0.9331 - loss: 0.8685 - regularization_loss: 0.2310 - total_loss: 1.0995 - val_root_mean_squared_error: 1.0524 - val_loss: 1.1118 - val_regularization_loss: 0.2230 - val_total_loss: 1.3348\n"
     ]
    },
    {
     "name": "stdout",
     "output_type": "stream",
     "text": [
      "Epoch 27/30\n",
      "\r",
      "1/8 [==>...........................] - ETA: 0s - root_mean_squared_error: 0.9346 - loss: 0.8735 - regularization_loss: 0.2230 - total_loss: 1.0966"
     ]
    },
    {
     "name": "stdout",
     "output_type": "stream",
     "text": [
      "\b\b\b\b\b\b\b\b\b\b\b\b\b\b\b\b\b\b\b\b\b\b\b\b\b\b\b\b\b\b\b\b\b\b\b\b\b\b\b\b\b\b\b\b\b\b\b\b\b\b\b\b\b\b\b\b\b\b\b\b\b\b\b\b\b\b\b\b\b\b\b\b\b\b\b\b\b\b\b\b\b\b\b\b\b\b\b\b\b\b\b\b\b\b\b\b\b\b\b\b\b\b\b\b\b\b\b\b\b\b\b\b\b\b\b\b\b\b\b\b\b\b\b\b\b\b\b\b\b\b\b\b\b\b\b\b\b\b\b\b\b\b\b\b\b\b\r",
      "8/8 [==============================] - 0s 16ms/step - root_mean_squared_error: 0.9317 - loss: 0.8658 - regularization_loss: 0.2155 - total_loss: 1.0813 - val_root_mean_squared_error: 1.0516 - val_loss: 1.1102 - val_regularization_loss: 0.2082 - val_total_loss: 1.3184\n"
     ]
    },
    {
     "name": "stdout",
     "output_type": "stream",
     "text": [
      "Epoch 28/30\n",
      "\r",
      "1/8 [==>...........................] - ETA: 0s - root_mean_squared_error: 0.9333 - loss: 0.8710 - regularization_loss: 0.2082 - total_loss: 1.0793"
     ]
    },
    {
     "name": "stdout",
     "output_type": "stream",
     "text": [
      "\b\b\b\b\b\b\b\b\b\b\b\b\b\b\b\b\b\b\b\b\b\b\b\b\b\b\b\b\b\b\b\b\b\b\b\b\b\b\b\b\b\b\b\b\b\b\b\b\b\b\b\b\b\b\b\b\b\b\b\b\b\b\b\b\b\b\b\b\b\b\b\b\b\b\b\b\b\b\b\b\b\b\b\b\b\b\b\b\b\b\b\b\b\b\b\b\b\b\b\b\b\b\b\b\b\b\b\b\b\b\b\b\b\b\b\b\b\b\b\b\b\b\b\b\b\b\b\b\b\b\b\b\b\b\b\b\b\b\b\b\b\b\b\b\b\b\r",
      "8/8 [==============================] - 0s 15ms/step - root_mean_squared_error: 0.9304 - loss: 0.8634 - regularization_loss: 0.2013 - total_loss: 1.0647 - val_root_mean_squared_error: 1.0509 - val_loss: 1.1088 - val_regularization_loss: 0.1948 - val_total_loss: 1.3036\n"
     ]
    },
    {
     "name": "stdout",
     "output_type": "stream",
     "text": [
      "Epoch 29/30\n",
      "\r",
      "1/8 [==>...........................] - ETA: 0s - root_mean_squared_error: 0.9321 - loss: 0.8688 - regularization_loss: 0.1948 - total_loss: 1.0636"
     ]
    },
    {
     "name": "stdout",
     "output_type": "stream",
     "text": [
      "\b\b\b\b\b\b\b\b\b\b\b\b\b\b\b\b\b\b\b\b\b\b\b\b\b\b\b\b\b\b\b\b\b\b\b\b\b\b\b\b\b\b\b\b\b\b\b\b\b\b\b\b\b\b\b\b\b\b\b\b\b\b\b\b\b\b\b\b\b\b\b\b\b\b\b\b\b\b\b\b\b\b\b\b\b\b\b\b\b\b\b\b\b\b\b\b\b\b\b\b\b\b\b\b\b\b\b\b\b\b\b\b\b\b\b\b\b\b\b\b\b\b\b\b\b\b\b\b\b\b\b\b\b\b\b\b\b\b\b\b\b\b\b\b\b\b\r",
      "8/8 [==============================] - 0s 16ms/step - root_mean_squared_error: 0.9292 - loss: 0.8612 - regularization_loss: 0.1884 - total_loss: 1.0497 - val_root_mean_squared_error: 1.0504 - val_loss: 1.1076 - val_regularization_loss: 0.1825 - val_total_loss: 1.2901\n"
     ]
    },
    {
     "name": "stdout",
     "output_type": "stream",
     "text": [
      "Epoch 30/30\n",
      "\r",
      "1/8 [==>...........................] - ETA: 0s - root_mean_squared_error: 0.9310 - loss: 0.8667 - regularization_loss: 0.1825 - total_loss: 1.0493"
     ]
    },
    {
     "name": "stdout",
     "output_type": "stream",
     "text": [
      "\b\b\b\b\b\b\b\b\b\b\b\b\b\b\b\b\b\b\b\b\b\b\b\b\b\b\b\b\b\b\b\b\b\b\b\b\b\b\b\b\b\b\b\b\b\b\b\b\b\b\b\b\b\b\b\b\b\b\b\b\b\b\b\b\b\b\b\b\b\b\b\b\b\b\b\b\b\b\b\b\b\b\b\b\b\b\b\b\b\b\b\b\b\b\b\b\b\b\b\b\b\b\b\b\b\b\b\b\b\b\b\b\b\b\b\b\b\b\b\b\b\b\b\b\b\b\b\b\b\b\b\b\b\b\b\b\b\b\b\b\b\b\b\b\b\b\r",
      "8/8 [==============================] - 0s 15ms/step - root_mean_squared_error: 0.9281 - loss: 0.8592 - regularization_loss: 0.1768 - total_loss: 1.0360 - val_root_mean_squared_error: 1.0498 - val_loss: 1.1065 - val_regularization_loss: 0.1714 - val_total_loss: 1.2779\n"
     ]
    },
    {
     "name": "stdout",
     "output_type": "stream",
     "text": [
      "Learning rate = 0.15\n"
     ]
    },
    {
     "name": "stdout",
     "output_type": "stream",
     "text": [
      "Epoch 1/30\n"
     ]
    },
    {
     "name": "stdout",
     "output_type": "stream",
     "text": [
      "\r",
      "      1/Unknown - 0s 463ms/step - root_mean_squared_error: 3.7351 - loss: 13.9509 - regularization_loss: 2.0555 - total_loss: 16.0064"
     ]
    },
    {
     "name": "stdout",
     "output_type": "stream",
     "text": [
      "\b\b\b\b\b\b\b\b\b\b\b\b\b\b\b\b\b\b\b\b\b\b\b\b\b\b\b\b\b\b\b\b\b\b\b\b\b\b\b\b\b\b\b\b\b\b\b\b\b\b\b\b\b\b\b\b\b\b\b\b\b\b\b\b\b\b\b\b\b\b\b\b\b\b\b\b\b\b\b\b\b\b\b\b\b\b\b\b\b\b\b\b\b\b\b\b\b\b\b\b\b\b\b\b\b\b\b\b\b\b\b\b\b\b\b\b\b\b\b\b\b\b\b\b\b\b\b\b\b\b\b\b\b\r",
      "8/8 [==============================] - 1s 30ms/step - root_mean_squared_error: 2.6814 - loss: 6.5170 - regularization_loss: 1.9364 - total_loss: 8.4534 - val_root_mean_squared_error: 1.1364 - val_loss: 1.2944 - val_regularization_loss: 1.8029 - val_total_loss: 3.0973\n"
     ]
    },
    {
     "name": "stdout",
     "output_type": "stream",
     "text": [
      "Epoch 2/30\n",
      "\r",
      "1/8 [==>...........................] - ETA: 0s - root_mean_squared_error: 1.1359 - loss: 1.2902 - regularization_loss: 1.8029 - total_loss: 3.0931"
     ]
    },
    {
     "name": "stdout",
     "output_type": "stream",
     "text": [
      "\b\b\b\b\b\b\b\b\b\b\b\b\b\b\b\b\b\b\b\b\b\b\b\b\b\b\b\b\b\b\b\b\b\b\b\b\b\b\b\b\b\b\b\b\b\b\b\b\b\b\b\b\b\b\b\b\b\b\b\b\b\b\b\b\b\b\b\b\b\b\b\b\b\b\b\b\b\b\b\b\b\b\b\b\b\b\b\b\b\b\b\b\b\b\b\b\b\b\b\b\b\b\b\b\b\b\b\b\b\b\b\b\b\b\b\b\b\b\b\b\b\b\b\b\b\b\b\b\b\b\b\b\b\b\b\b\b\b\b\b\b\b\b\b\b\b\r",
      "8/8 [==============================] - 0s 15ms/step - root_mean_squared_error: 1.1255 - loss: 1.2637 - regularization_loss: 1.6798 - total_loss: 2.9434 - val_root_mean_squared_error: 1.1350 - val_loss: 1.2905 - val_regularization_loss: 1.5546 - val_total_loss: 2.8451\n"
     ]
    },
    {
     "name": "stdout",
     "output_type": "stream",
     "text": [
      "Epoch 3/30\n",
      "\r",
      "1/8 [==>...........................] - ETA: 0s - root_mean_squared_error: 1.1158 - loss: 1.2450 - regularization_loss: 1.5546 - total_loss: 2.7996"
     ]
    },
    {
     "name": "stdout",
     "output_type": "stream",
     "text": [
      "\b\b\b\b\b\b\b\b\b\b\b\b\b\b\b\b\b\b\b\b\b\b\b\b\b\b\b\b\b\b\b\b\b\b\b\b\b\b\b\b\b\b\b\b\b\b\b\b\b\b\b\b\b\b\b\b\b\b\b\b\b\b\b\b\b\b\b\b\b\b\b\b\b\b\b\b\b\b\b\b\b\b\b\b\b\b\b\b\b\b\b\b\b\b\b\b\b\b\b\b\b\b\b\b\b\b\b\b\b\b\b\b\b\b\b\b\b\b\b\b\b\b\b\b\b\b\b\b\b\b\b\b\b\b\b\b\b\b\b\b\b\b\b\b\b\b\r",
      "8/8 [==============================] - 0s 15ms/step - root_mean_squared_error: 1.1131 - loss: 1.2369 - regularization_loss: 1.4484 - total_loss: 2.6853 - val_root_mean_squared_error: 1.1371 - val_loss: 1.2951 - val_regularization_loss: 1.3418 - val_total_loss: 2.6370\n"
     ]
    },
    {
     "name": "stdout",
     "output_type": "stream",
     "text": [
      "Epoch 4/30\n",
      "\r",
      "1/8 [==>...........................] - ETA: 0s - root_mean_squared_error: 1.1074 - loss: 1.2264 - regularization_loss: 1.3418 - total_loss: 2.5682"
     ]
    },
    {
     "name": "stdout",
     "output_type": "stream",
     "text": [
      "\b\b\b\b\b\b\b\b\b\b\b\b\b\b\b\b\b\b\b\b\b\b\b\b\b\b\b\b\b\b\b\b\b\b\b\b\b\b\b\b\b\b\b\b\b\b\b\b\b\b\b\b\b\b\b\b\b\b\b\b\b\b\b\b\b\b\b\b\b\b\b\b\b\b\b\b\b\b\b\b\b\b\b\b\b\b\b\b\b\b\b\b\b\b\b\b\b\b\b\b\b\b\b\b\b\b\b\b\b\b\b\b\b\b\b\b\b\b\b\b\b\b\b\b\b\b\b\b\b\b\b\b\b\b\b\b\b\b\b\b\b\b\b\b\b\b\r",
      "8/8 [==============================] - 0s 15ms/step - root_mean_squared_error: 1.1026 - loss: 1.2134 - regularization_loss: 1.2512 - total_loss: 2.4646 - val_root_mean_squared_error: 1.1373 - val_loss: 1.2956 - val_regularization_loss: 1.1607 - val_total_loss: 2.4562\n"
     ]
    },
    {
     "name": "stdout",
     "output_type": "stream",
     "text": [
      "Epoch 5/30\n",
      "\r",
      "1/8 [==>...........................] - ETA: 0s - root_mean_squared_error: 1.0959 - loss: 1.2011 - regularization_loss: 1.1607 - total_loss: 2.3618"
     ]
    },
    {
     "name": "stdout",
     "output_type": "stream",
     "text": [
      "\b\b\b\b\b\b\b\b\b\b\b\b\b\b\b\b\b\b\b\b\b\b\b\b\b\b\b\b\b\b\b\b\b\b\b\b\b\b\b\b\b\b\b\b\b\b\b\b\b\b\b\b\b\b\b\b\b\b\b\b\b\b\b\b\b\b\b\b\b\b\b\b\b\b\b\b\b\b\b\b\b\b\b\b\b\b\b\b\b\b\b\b\b\b\b\b\b\b\b\b\b\b\b\b\b\b\b\b\b\b\b\b\b\b\b\b\b\b\b\b\b\b\b\b\b\b\b\b\b\b\b\b\b\b\b\b\b\b\b\b\b\b\b\b\b\b\r",
      "8/8 [==============================] - 0s 15ms/step - root_mean_squared_error: 1.0882 - loss: 1.1814 - regularization_loss: 1.0837 - total_loss: 2.2651 - val_root_mean_squared_error: 1.1367 - val_loss: 1.2940 - val_regularization_loss: 1.0069 - val_total_loss: 2.3009\n"
     ]
    },
    {
     "name": "stdout",
     "output_type": "stream",
     "text": [
      "Epoch 6/30\n",
      "\r",
      "1/8 [==>...........................] - ETA: 0s - root_mean_squared_error: 1.0815 - loss: 1.1696 - regularization_loss: 1.0069 - total_loss: 2.1765"
     ]
    },
    {
     "name": "stdout",
     "output_type": "stream",
     "text": [
      "\b\b\b\b\b\b\b\b\b\b\b\b\b\b\b\b\b\b\b\b\b\b\b\b\b\b\b\b\b\b\b\b\b\b\b\b\b\b\b\b\b\b\b\b\b\b\b\b\b\b\b\b\b\b\b\b\b\b\b\b\b\b\b\b\b\b\b\b\b\b\b\b\b\b\b\b\b\b\b\b\b\b\b\b\b\b\b\b\b\b\b\b\b\b\b\b\b\b\b\b\b\b\b\b\b\b\b\b\b\b\b\b\b\b\b\b\b\b\b\b\b\b\b\b\b\b\b\b\b\b\b\b\b\b\b\b\b\b\b\b\b\b\b\b\b\b\r",
      "8/8 [==============================] - 0s 18ms/step - root_mean_squared_error: 1.0727 - loss: 1.1480 - regularization_loss: 0.9410 - total_loss: 2.0890 - val_root_mean_squared_error: 1.1344 - val_loss: 1.2890 - val_regularization_loss: 0.8755 - val_total_loss: 2.1645\n"
     ]
    },
    {
     "name": "stdout",
     "output_type": "stream",
     "text": [
      "Epoch 7/30\n",
      "\r",
      "1/8 [==>...........................] - ETA: 0s - root_mean_squared_error: 1.0670 - loss: 1.1385 - regularization_loss: 0.8755 - total_loss: 2.0140"
     ]
    },
    {
     "name": "stdout",
     "output_type": "stream",
     "text": [
      "\b\b\b\b\b\b\b\b\b\b\b\b\b\b\b\b\b\b\b\b\b\b\b\b\b\b\b\b\b\b\b\b\b\b\b\b\b\b\b\b\b\b\b\b\b\b\b\b\b\b\b\b\b\b\b\b\b\b\b\b\b\b\b\b\b\b\b\b\b\b\b\b\b\b\b\b\b\b\b\b\b\b\b\b\b\b\b\b\b\b\b\b\b\b\b\b\b\b\b\b\b\b\b\b\b\b\b\b\b\b\b\b\b\b\b\b\b\b\b\b\b\b\b\b\b\b\b\b\b\b\b\b\b\b\b\b\b\b\b\b\b\b\b\b\b\b\r",
      "8/8 [==============================] - 0s 16ms/step - root_mean_squared_error: 1.0574 - loss: 1.1154 - regularization_loss: 0.8193 - total_loss: 1.9347 - val_root_mean_squared_error: 1.1311 - val_loss: 1.2817 - val_regularization_loss: 0.7639 - val_total_loss: 2.0456\n"
     ]
    },
    {
     "name": "stdout",
     "output_type": "stream",
     "text": [
      "Epoch 8/30\n",
      "\r",
      "1/8 [==>...........................] - ETA: 0s - root_mean_squared_error: 1.0514 - loss: 1.1054 - regularization_loss: 0.7639 - total_loss: 1.8692"
     ]
    },
    {
     "name": "stdout",
     "output_type": "stream",
     "text": [
      "\b\b\b\b\b\b\b\b\b\b\b\b\b\b\b\b\b\b\b\b\b\b\b\b\b\b\b\b\b\b\b\b\b\b\b\b\b\b\b\b\b\b\b\b\b\b\b\b\b\b\b\b\b\b\b\b\b\b\b\b\b\b\b\b\b\b\b\b\b\b\b\b\b\b\b\b\b\b\b\b\b\b\b\b\b\b\b\b\b\b\b\b\b\b\b\b\b\b\b\b\b\b\b\b\b\b\b\b\b\b\b\b\b\b\b\b\b\b\b\b\b\b\b\b\b\b\b\b\b\b\b\b\b\b\b\b\b\b\b\b\b\b\b\b\b\b\r",
      "8/8 [==============================] - 0s 15ms/step - root_mean_squared_error: 1.0410 - loss: 1.0809 - regularization_loss: 0.7161 - total_loss: 1.7971 - val_root_mean_squared_error: 1.1295 - val_loss: 1.2781 - val_regularization_loss: 0.6695 - val_total_loss: 1.9476\n"
     ]
    },
    {
     "name": "stdout",
     "output_type": "stream",
     "text": [
      "Epoch 9/30\n",
      "\r",
      "1/8 [==>...........................] - ETA: 0s - root_mean_squared_error: 1.0354 - loss: 1.0721 - regularization_loss: 0.6695 - total_loss: 1.7416"
     ]
    },
    {
     "name": "stdout",
     "output_type": "stream",
     "text": [
      "\b\b\b\b\b\b\b\b\b\b\b\b\b\b\b\b\b\b\b\b\b\b\b\b\b\b\b\b\b\b\b\b\b\b\b\b\b\b\b\b\b\b\b\b\b\b\b\b\b\b\b\b\b\b\b\b\b\b\b\b\b\b\b\b\b\b\b\b\b\b\b\b\b\b\b\b\b\b\b\b\b\b\b\b\b\b\b\b\b\b\b\b\b\b\b\b\b\b\b\b\b\b\b\b\b\b\b\b\b\b\b\b\b\b\b\b\b\b\b\b\b\b\b\b\b\b\b\b\b\b\b\b\b\b\b\b\b\b\b\b\b\b\b\b\b\b\r",
      "8/8 [==============================] - 0s 16ms/step - root_mean_squared_error: 1.0273 - loss: 1.0539 - regularization_loss: 0.6284 - total_loss: 1.6823 - val_root_mean_squared_error: 1.1376 - val_loss: 1.2970 - val_regularization_loss: 0.5894 - val_total_loss: 1.8864\n"
     ]
    },
    {
     "name": "stdout",
     "output_type": "stream",
     "text": [
      "Epoch 10/30\n",
      "\r",
      "1/8 [==>...........................] - ETA: 0s - root_mean_squared_error: 1.0263 - loss: 1.0534 - regularization_loss: 0.5894 - total_loss: 1.6427"
     ]
    },
    {
     "name": "stdout",
     "output_type": "stream",
     "text": [
      "\b\b\b\b\b\b\b\b\b\b\b\b\b\b\b\b\b\b\b\b\b\b\b\b\b\b\b\b\b\b\b\b\b\b\b\b\b\b\b\b\b\b\b\b\b\b\b\b\b\b\b\b\b\b\b\b\b\b\b\b\b\b\b\b\b\b\b\b\b\b\b\b\b\b\b\b\b\b\b\b\b\b\b\b\b\b\b\b\b\b\b\b\b\b\b\b\b\b\b\b\b\b\b\b\b\b\b\b\b\b\b\b\b\b\b\b\b\b\b\b\b\b\b\b\b\b\b\b\b\b\b\b\b\b\b\b\b\b\b\b\b\b\b\b\b\b\r",
      "8/8 [==============================] - 0s 17ms/step - root_mean_squared_error: 1.0231 - loss: 1.0457 - regularization_loss: 0.5531 - total_loss: 1.5988 - val_root_mean_squared_error: 1.1382 - val_loss: 1.2987 - val_regularization_loss: 0.5201 - val_total_loss: 1.8188\n"
     ]
    },
    {
     "name": "stdout",
     "output_type": "stream",
     "text": [
      "Epoch 11/30\n",
      "\r",
      "1/8 [==>...........................] - ETA: 0s - root_mean_squared_error: 1.0174 - loss: 1.0352 - regularization_loss: 0.5201 - total_loss: 1.5553"
     ]
    },
    {
     "name": "stdout",
     "output_type": "stream",
     "text": [
      "\b\b\b\b\b\b\b\b\b\b\b\b\b\b\b\b\b\b\b\b\b\b\b\b\b\b\b\b\b\b\b\b\b\b\b\b\b\b\b\b\b\b\b\b\b\b\b\b\b\b\b\b\b\b\b\b\b\b\b\b\b\b\b\b\b\b\b\b\b\b\b\b\b\b\b\b\b\b\b\b\b\b\b\b\b\b\b\b\b\b\b\b\b\b\b\b\b\b\b\b\b\b\b\b\b\b\b\b\b\b\b\b\b\b\b\b\b\b\b\b\b\b\b\b\b\b\b\b\b\b\b\b\b\b\b\b\b\b\b\b\b\b\b\b\b\b\r",
      "8/8 [==============================] - ETA: 0s - root_mean_squared_error: 1.0050 - loss: 1.0099 - regularization_loss: 0.4914 - total_loss: 1.5013"
     ]
    },
    {
     "name": "stdout",
     "output_type": "stream",
     "text": [
      "\b\b\b\b\b\b\b\b\b\b\b\b\b\b\b\b\b\b\b\b\b\b\b\b\b\b\b\b\b\b\b\b\b\b\b\b\b\b\b\b\b\b\b\b\b\b\b\b\b\b\b\b\b\b\b\b\b\b\b\b\b\b\b\b\b\b\b\b\b\b\b\b\b\b\b\b\b\b\b\b\b\b\b\b\b\b\b\b\b\b\b\b\b\b\b\b\b\b\b\b\b\b\b\b\b\b\b\b\b\b\b\b\b\b\b\b\b\b\b\b\b\b\b\b\b\b\b\b\b\b\b\b\b\b\b\b\b\b\b\b\b\b\b\b\b\b\r",
      "8/8 [==============================] - 0s 17ms/step - root_mean_squared_error: 1.0050 - loss: 1.0068 - regularization_loss: 0.4883 - total_loss: 1.4951 - val_root_mean_squared_error: 1.1121 - val_loss: 1.2398 - val_regularization_loss: 0.4596 - val_total_loss: 1.6994\n"
     ]
    },
    {
     "name": "stdout",
     "output_type": "stream",
     "text": [
      "Epoch 12/30\n",
      "\r",
      "1/8 [==>...........................] - ETA: 0s - root_mean_squared_error: 0.9948 - loss: 0.9897 - regularization_loss: 0.4596 - total_loss: 1.4493"
     ]
    },
    {
     "name": "stdout",
     "output_type": "stream",
     "text": [
      "\b\b\b\b\b\b\b\b\b\b\b\b\b\b\b\b\b\b\b\b\b\b\b\b\b\b\b\b\b\b\b\b\b\b\b\b\b\b\b\b\b\b\b\b\b\b\b\b\b\b\b\b\b\b\b\b\b\b\b\b\b\b\b\b\b\b\b\b\b\b\b\b\b\b\b\b\b\b\b\b\b\b\b\b\b\b\b\b\b\b\b\b\b\b\b\b\b\b\b\b\b\b\b\b\b\b\b\b\b\b\b\b\b\b\b\b\b\b\b\b\b\b\b\b\b\b\b\b\b\b\b\b\b\b\b\b\b\b\b\b\b\b\b\b\b\b\r",
      "8/8 [==============================] - 0s 16ms/step - root_mean_squared_error: 0.9851 - loss: 0.9679 - regularization_loss: 0.4325 - total_loss: 1.4004 - val_root_mean_squared_error: 1.0979 - val_loss: 1.2083 - val_regularization_loss: 0.4074 - val_total_loss: 1.6157\n"
     ]
    },
    {
     "name": "stdout",
     "output_type": "stream",
     "text": [
      "Epoch 13/30\n",
      "\r",
      "1/8 [==>...........................] - ETA: 0s - root_mean_squared_error: 0.9811 - loss: 0.9626 - regularization_loss: 0.4074 - total_loss: 1.3700"
     ]
    },
    {
     "name": "stdout",
     "output_type": "stream",
     "text": [
      "\b\b\b\b\b\b\b\b\b\b\b\b\b\b\b\b\b\b\b\b\b\b\b\b\b\b\b\b\b\b\b\b\b\b\b\b\b\b\b\b\b\b\b\b\b\b\b\b\b\b\b\b\b\b\b\b\b\b\b\b\b\b\b\b\b\b\b\b\b\b\b\b\b\b\b\b\b\b\b\b\b\b\b\b\b\b\b\b\b\b\b\b\b\b\b\b\b\b\b\b\b\b\b\b\b\b\b\b\b\b\b\b\b\b\b\b\b\b\b\b\b\b\b\b\b\b\b\b\b\b\b\b\b\b\b\b\b\b\b\b\b\b\b\b\b\b\r",
      "8/8 [==============================] - 0s 15ms/step - root_mean_squared_error: 0.9739 - loss: 0.9465 - regularization_loss: 0.3838 - total_loss: 1.3303 - val_root_mean_squared_error: 1.0925 - val_loss: 1.1965 - val_regularization_loss: 0.3621 - val_total_loss: 1.5586\n"
     ]
    },
    {
     "name": "stdout",
     "output_type": "stream",
     "text": [
      "Epoch 14/30\n",
      "\r",
      "1/8 [==>...........................] - ETA: 0s - root_mean_squared_error: 0.9730 - loss: 0.9467 - regularization_loss: 0.3621 - total_loss: 1.3088"
     ]
    },
    {
     "name": "stdout",
     "output_type": "stream",
     "text": [
      "\b\b\b\b\b\b\b\b\b\b\b\b\b\b\b\b\b\b\b\b\b\b\b\b\b\b\b\b\b\b\b\b\b\b\b\b\b\b\b\b\b\b\b\b\b\b\b\b\b\b\b\b\b\b\b\b\b\b\b\b\b\b\b\b\b\b\b\b\b\b\b\b\b\b\b\b\b\b\b\b\b\b\b\b\b\b\b\b\b\b\b\b\b\b\b\b\b\b\b\b\b\b\b\b\b\b\b\b\b\b\b\b\b\b\b\b\b\b\b\b\b\b\b\b\b\b\b\b\b\b\b\b\b\b\b\b\b\b\b\b\b\b\b\b\b\b\r",
      "8/8 [==============================] - 0s 15ms/step - root_mean_squared_error: 0.9678 - loss: 0.9351 - regularization_loss: 0.3412 - total_loss: 1.2763 - val_root_mean_squared_error: 1.0930 - val_loss: 1.1975 - val_regularization_loss: 0.3226 - val_total_loss: 1.5201\n"
     ]
    },
    {
     "name": "stdout",
     "output_type": "stream",
     "text": [
      "Epoch 15/30\n",
      "\r",
      "1/8 [==>...........................] - ETA: 0s - root_mean_squared_error: 0.9687 - loss: 0.9384 - regularization_loss: 0.3226 - total_loss: 1.2610"
     ]
    },
    {
     "name": "stdout",
     "output_type": "stream",
     "text": [
      "\b\b\b\b\b\b\b\b\b\b\b\b\b\b\b\b\b\b\b\b\b\b\b\b\b\b\b\b\b\b\b\b\b\b\b\b\b\b\b\b\b\b\b\b\b\b\b\b\b\b\b\b\b\b\b\b\b\b\b\b\b\b\b\b\b\b\b\b\b\b\b\b\b\b\b\b\b\b\b\b\b\b\b\b\b\b\b\b\b\b\b\b\b\b\b\b\b\b\b\b\b\b\b\b\b\b\b\b\b\b\b\b\b\b\b\b\b\b\b\b\b\b\b\b\b\b\b\b\b\b\b\b\b\b\b\b\b\b\b\b\b\b\b\b\b\b\r",
      "8/8 [==============================] - 0s 15ms/step - root_mean_squared_error: 0.9649 - loss: 0.9297 - regularization_loss: 0.3039 - total_loss: 1.2336 - val_root_mean_squared_error: 1.0932 - val_loss: 1.1978 - val_regularization_loss: 0.2881 - val_total_loss: 1.4860\n"
     ]
    },
    {
     "name": "stdout",
     "output_type": "stream",
     "text": [
      "Epoch 16/30\n",
      "\r",
      "1/8 [==>...........................] - ETA: 0s - root_mean_squared_error: 0.9654 - loss: 0.9320 - regularization_loss: 0.2881 - total_loss: 1.2201"
     ]
    },
    {
     "name": "stdout",
     "output_type": "stream",
     "text": [
      "\b\b\b\b\b\b\b\b\b\b\b\b\b\b\b\b\b\b\b\b\b\b\b\b\b\b\b\b\b\b\b\b\b\b\b\b\b\b\b\b\b\b\b\b\b\b\b\b\b\b\b\b\b\b\b\b\b\b\b\b\b\b\b\b\b\b\b\b\b\b\b\b\b\b\b\b\b\b\b\b\b\b\b\b\b\b\b\b\b\b\b\b\b\b\b\b\b\b\b\b\b\b\b\b\b\b\b\b\b\b\b\b\b\b\b\b\b\b\b\b\b\b\b\b\b\b\b\b\b\b\b\b\b\b\b\b\b\b\b\b\b\b\b\b\b\b\r",
      "8/8 [==============================] - 0s 17ms/step - root_mean_squared_error: 0.9604 - loss: 0.9206 - regularization_loss: 0.2716 - total_loss: 1.1921 - val_root_mean_squared_error: 1.0863 - val_loss: 1.1825 - val_regularization_loss: 0.2580 - val_total_loss: 1.4405\n"
     ]
    },
    {
     "name": "stdout",
     "output_type": "stream",
     "text": [
      "Epoch 17/30\n",
      "\r",
      "1/8 [==>...........................] - ETA: 0s - root_mean_squared_error: 0.9588 - loss: 0.9193 - regularization_loss: 0.2580 - total_loss: 1.1773"
     ]
    },
    {
     "name": "stdout",
     "output_type": "stream",
     "text": [
      "\b\b\b\b\b\b\b\b\b\b\b\b\b\b\b\b\b\b\b\b\b\b\b\b\b\b\b\b\b\b\b\b\b\b\b\b\b\b\b\b\b\b\b\b\b\b\b\b\b\b\b\b\b\b\b\b\b\b\b\b\b\b\b\b\b\b\b\b\b\b\b\b\b\b\b\b\b\b\b\b\b\b\b\b\b\b\b\b\b\b\b\b\b\b\b\b\b\b\b\b\b\b\b\b\b\b\b\b\b\b\b\b\b\b\b\b\b\b\b\b\b\b\b\b\b\b\b\b\b\b\b\b\b\b\b\b\b\b\b\b\b\b\b\b\b\b\r",
      "8/8 [==============================] - 0s 16ms/step - root_mean_squared_error: 0.9532 - loss: 0.9065 - regularization_loss: 0.2436 - total_loss: 1.1501 - val_root_mean_squared_error: 1.0778 - val_loss: 1.1640 - val_regularization_loss: 0.2319 - val_total_loss: 1.3958\n"
     ]
    },
    {
     "name": "stdout",
     "output_type": "stream",
     "text": [
      "Epoch 18/30\n",
      "\r",
      "1/8 [==>...........................] - ETA: 0s - root_mean_squared_error: 0.9520 - loss: 0.9064 - regularization_loss: 0.2319 - total_loss: 1.1382"
     ]
    },
    {
     "name": "stdout",
     "output_type": "stream",
     "text": [
      "\b\b\b\b\b\b\b\b\b\b\b\b\b\b\b\b\b\b\b\b\b\b\b\b\b\b\b\b\b\b\b\b\b\b\b\b\b\b\b\b\b\b\b\b\b\b\b\b\b\b\b\b\b\b\b\b\b\b\b\b\b\b\b\b\b\b\b\b\b\b\b\b\b\b\b\b\b\b\b\b\b\b\b\b\b\b\b\b\b\b\b\b\b\b\b\b\b\b\b\b\b\b\b\b\b\b\b\b\b\b\b\b\b\b\b\b\b\b\b\b\b\b\b\b\b\b\b\b\b\b\b\b\b\b\b\b\b\b\b\b\b\b\b\b\b\b\r",
      "8/8 [==============================] - 0s 16ms/step - root_mean_squared_error: 0.9471 - loss: 0.8951 - regularization_loss: 0.2195 - total_loss: 1.1146 - val_root_mean_squared_error: 1.0725 - val_loss: 1.1525 - val_regularization_loss: 0.2093 - val_total_loss: 1.3618\n"
     ]
    },
    {
     "name": "stdout",
     "output_type": "stream",
     "text": [
      "Epoch 19/30\n",
      "\r",
      "1/8 [==>...........................] - ETA: 0s - root_mean_squared_error: 0.9472 - loss: 0.8973 - regularization_loss: 0.2093 - total_loss: 1.1066"
     ]
    },
    {
     "name": "stdout",
     "output_type": "stream",
     "text": [
      "\b\b\b\b\b\b\b\b\b\b\b\b\b\b\b\b\b\b\b\b\b\b\b\b\b\b\b\b\b\b\b\b\b\b\b\b\b\b\b\b\b\b\b\b\b\b\b\b\b\b\b\b\b\b\b\b\b\b\b\b\b\b\b\b\b\b\b\b\b\b\b\b\b\b\b\b\b\b\b\b\b\b\b\b\b\b\b\b\b\b\b\b\b\b\b\b\b\b\b\b\b\b\b\b\b\b\b\b\b\b\b\b\b\b\b\b\b\b\b\b\b\b\b\b\b\b\b\b\b\b\b\b\b\b\b\b\b\b\b\b\b\b\b\b\b\b\r",
      "8/8 [==============================] - 0s 16ms/step - root_mean_squared_error: 0.9432 - loss: 0.8878 - regularization_loss: 0.1985 - total_loss: 1.0863 - val_root_mean_squared_error: 1.0708 - val_loss: 1.1488 - val_regularization_loss: 0.1898 - val_total_loss: 1.3386\n"
     ]
    },
    {
     "name": "stdout",
     "output_type": "stream",
     "text": [
      "Epoch 20/30\n",
      "\r",
      "1/8 [==>...........................] - ETA: 0s - root_mean_squared_error: 0.9443 - loss: 0.8916 - regularization_loss: 0.1898 - total_loss: 1.0815"
     ]
    },
    {
     "name": "stdout",
     "output_type": "stream",
     "text": [
      "\b\b\b\b\b\b\b\b\b\b\b\b\b\b\b\b\b\b\b\b\b\b\b\b\b\b\b\b\b\b\b\b\b\b\b\b\b\b\b\b\b\b\b\b\b\b\b\b\b\b\b\b\b\b\b\b\b\b\b\b\b\b\b\b\b\b\b\b\b\b\b\b\b\b\b\b\b\b\b\b\b\b\b\b\b\b\b\b\b\b\b\b\b\b\b\b\b\b\b\b\b\b\b\b\b\b\b\b\b\b\b\b\b\b\b\b\b\b\b\b\b\b\b\b\b\b\b\b\b\b\b\b\b\b\b\b\b\b\b\b\b\b\b\b\b\b\r",
      "8/8 [==============================] - 0s 16ms/step - root_mean_squared_error: 0.9411 - loss: 0.8841 - regularization_loss: 0.1803 - total_loss: 1.0644 - val_root_mean_squared_error: 1.0727 - val_loss: 1.1530 - val_regularization_loss: 0.1730 - val_total_loss: 1.3260\n"
     ]
    },
    {
     "name": "stdout",
     "output_type": "stream",
     "text": [
      "Epoch 21/30\n",
      "\r",
      "1/8 [==>...........................] - ETA: 0s - root_mean_squared_error: 0.9431 - loss: 0.8895 - regularization_loss: 0.1730 - total_loss: 1.0625"
     ]
    },
    {
     "name": "stdout",
     "output_type": "stream",
     "text": [
      "\b\b\b\b\b\b\b\b\b\b\b\b\b\b\b\b\b\b\b\b\b\b\b\b\b\b\b\b\b\b\b\b\b\b\b\b\b\b\b\b\b\b\b\b\b\b\b\b\b\b\b\b\b\b\b\b\b\b\b\b\b\b\b\b\b\b\b\b\b\b\b\b\b\b\b\b\b\b\b\b\b\b\b\b\b\b\b\b\b\b\b\b\b\b\b\b\b\b\b\b\b\b\b\b\b\b\b\b\b\b\b\b\b\b\b\b\b\b\b\b\b\b\b\b\b\b\b\b\b\b\b\b\b\b\b\b\b\b\b\b\b\b\b\b\b\b\r",
      "8/8 [==============================] - 0s 15ms/step - root_mean_squared_error: 0.9410 - loss: 0.8842 - regularization_loss: 0.1644 - total_loss: 1.0487 - val_root_mean_squared_error: 1.0772 - val_loss: 1.1626 - val_regularization_loss: 0.1585 - val_total_loss: 1.3211\n"
     ]
    },
    {
     "name": "stdout",
     "output_type": "stream",
     "text": [
      "Epoch 22/30\n",
      "\r",
      "1/8 [==>...........................] - ETA: 0s - root_mean_squared_error: 0.9437 - loss: 0.8905 - regularization_loss: 0.1585 - total_loss: 1.0490"
     ]
    },
    {
     "name": "stdout",
     "output_type": "stream",
     "text": [
      "\b\b\b\b\b\b\b\b\b\b\b\b\b\b\b\b\b\b\b\b\b\b\b\b\b\b\b\b\b\b\b\b\b\b\b\b\b\b\b\b\b\b\b\b\b\b\b\b\b\b\b\b\b\b\b\b\b\b\b\b\b\b\b\b\b\b\b\b\b\b\b\b\b\b\b\b\b\b\b\b\b\b\b\b\b\b\b\b\b\b\b\b\b\b\b\b\b\b\b\b\b\b\b\b\b\b\b\b\b\b\b\b\b\b\b\b\b\b\b\b\b\b\b\b\b\b\b\b\b\b\b\b\b\b\b\b\b\b\b\b\b\b\b\b\b\b\r",
      "8/8 [==============================] - 0s 16ms/step - root_mean_squared_error: 0.9416 - loss: 0.8852 - regularization_loss: 0.1506 - total_loss: 1.0358 - val_root_mean_squared_error: 1.0780 - val_loss: 1.1644 - val_regularization_loss: 0.1457 - val_total_loss: 1.3101\n"
     ]
    },
    {
     "name": "stdout",
     "output_type": "stream",
     "text": [
      "Epoch 23/30\n",
      "\r",
      "1/8 [==>...........................] - ETA: 0s - root_mean_squared_error: 0.9428 - loss: 0.8888 - regularization_loss: 0.1457 - total_loss: 1.0345"
     ]
    },
    {
     "name": "stdout",
     "output_type": "stream",
     "text": [
      "\b\b\b\b\b\b\b\b\b\b\b\b\b\b\b\b\b\b\b\b\b\b\b\b\b\b\b\b\b\b\b\b\b\b\b\b\b\b\b\b\b\b\b\b\b\b\b\b\b\b\b\b\b\b\b\b\b\b\b\b\b\b\b\b\b\b\b\b\b\b\b\b\b\b\b\b\b\b\b\b\b\b\b\b\b\b\b\b\b\b\b\b\b\b\b\b\b\b\b\b\b\b\b\b\b\b\b\b\b\b\b\b\b\b\b\b\b\b\b\b\b\b\b\b\b\b\b\b\b\b\b\b\b\b\b\b\b\b\b\b\b\b\b\b\b\b\r",
      "8/8 [==============================] - 0s 36ms/step - root_mean_squared_error: 0.9390 - loss: 0.8799 - regularization_loss: 0.1387 - total_loss: 1.0186 - val_root_mean_squared_error: 1.0718 - val_loss: 1.1511 - val_regularization_loss: 0.1345 - val_total_loss: 1.2856\n"
     ]
    },
    {
     "name": "stdout",
     "output_type": "stream",
     "text": [
      "Epoch 24/30\n",
      "\r",
      "1/8 [==>...........................] - ETA: 0s - root_mean_squared_error: 0.9385 - loss: 0.8807 - regularization_loss: 0.1345 - total_loss: 1.0153"
     ]
    },
    {
     "name": "stdout",
     "output_type": "stream",
     "text": [
      "\b\b\b\b\b\b\b\b\b\b\b\b\b\b\b\b\b\b\b\b\b\b\b\b\b\b\b\b\b\b\b\b\b\b\b\b\b\b\b\b\b\b\b\b\b\b\b\b\b\b\b\b\b\b\b\b\b\b\b\b\b\b\b\b\b\b\b\b\b\b\b\b\b\b\b\b\b\b\b\b\b\b\b\b\b\b\b\b\b\b\b\b\b\b\b\b\b\b\b\b\b\b\b\b\b\b\b\b\b\b\b\b\b\b\b\b\b\b\b\b\b\b\b\b\b\b\b\b\b\b\b\b\b\b\b\b\b\b\b\b\b\b\b\b\b\b\r",
      "8/8 [==============================] - 0s 15ms/step - root_mean_squared_error: 0.9342 - loss: 0.8708 - regularization_loss: 0.1285 - total_loss: 0.9994 - val_root_mean_squared_error: 1.0649 - val_loss: 1.1364 - val_regularization_loss: 0.1248 - val_total_loss: 1.2612\n"
     ]
    },
    {
     "name": "stdout",
     "output_type": "stream",
     "text": [
      "Epoch 25/30\n",
      "\r",
      "1/8 [==>...........................] - ETA: 0s - root_mean_squared_error: 0.9344 - loss: 0.8730 - regularization_loss: 0.1248 - total_loss: 0.9979"
     ]
    },
    {
     "name": "stdout",
     "output_type": "stream",
     "text": [
      "\b\b\b\b\b\b\b\b\b\b\b\b\b\b\b\b\b\b\b\b\b\b\b\b\b\b\b\b\b\b\b\b\b\b\b\b\b\b\b\b\b\b\b\b\b\b\b\b\b\b\b\b\b\b\b\b\b\b\b\b\b\b\b\b\b\b\b\b\b\b\b\b\b\b\b\b\b\b\b\b\b\b\b\b\b\b\b\b\b\b\b\b\b\b\b\b\b\b\b\b\b\b\b\b\b\b\b\b\b\b\b\b\b\b\b\b\b\b\b\b\b\b\b\b\b\b\b\b\b\b\b\b\b\b\b\b\b\b\b\b\b\b\b\b\b\b\r",
      "8/8 [==============================] - 0s 16ms/step - root_mean_squared_error: 0.9306 - loss: 0.8641 - regularization_loss: 0.1197 - total_loss: 0.9838 - val_root_mean_squared_error: 1.0606 - val_loss: 1.1273 - val_regularization_loss: 0.1164 - val_total_loss: 1.2437\n"
     ]
    },
    {
     "name": "stdout",
     "output_type": "stream",
     "text": [
      "Epoch 26/30\n",
      "\r",
      "1/8 [==>...........................] - ETA: 0s - root_mean_squared_error: 0.9317 - loss: 0.8681 - regularization_loss: 0.1164 - total_loss: 0.9845"
     ]
    },
    {
     "name": "stdout",
     "output_type": "stream",
     "text": [
      "\b\b\b\b\b\b\b\b\b\b\b\b\b\b\b\b\b\b\b\b\b\b\b\b\b\b\b\b\b\b\b\b\b\b\b\b\b\b\b\b\b\b\b\b\b\b\b\b\b\b\b\b\b\b\b\b\b\b\b\b\b\b\b\b\b\b\b\b\b\b\b\b\b\b\b\b\b\b\b\b\b\b\b\b\b\b\b\b\b\b\b\b\b\b\b\b\b\b\b\b\b\b\b\b\b\b\b\b\b\b\b\b\b\b\b\b\b\b\b\b\b\b\b\b\b\b\b\b\b\b\b\b\b\b\b\b\b\b\b\b\b\b\b\b\b\b\r",
      "8/8 [==============================] - 0s 15ms/step - root_mean_squared_error: 0.9284 - loss: 0.8599 - regularization_loss: 0.1119 - total_loss: 0.9719 - val_root_mean_squared_error: 1.0588 - val_loss: 1.1235 - val_regularization_loss: 0.1091 - val_total_loss: 1.2326\n"
     ]
    },
    {
     "name": "stdout",
     "output_type": "stream",
     "text": [
      "Epoch 27/30\n",
      "\r",
      "1/8 [==>...........................] - ETA: 0s - root_mean_squared_error: 0.9301 - loss: 0.8651 - regularization_loss: 0.1091 - total_loss: 0.9742"
     ]
    },
    {
     "name": "stdout",
     "output_type": "stream",
     "text": [
      "\b\b\b\b\b\b\b\b\b\b\b\b\b\b\b\b\b\b\b\b\b\b\b\b\b\b\b\b\b\b\b\b\b\b\b\b\b\b\b\b\b\b\b\b\b\b\b\b\b\b\b\b\b\b\b\b\b\b\b\b\b\b\b\b\b\b\b\b\b\b\b\b\b\b\b\b\b\b\b\b\b\b\b\b\b\b\b\b\b\b\b\b\b\b\b\b\b\b\b\b\b\b\b\b\b\b\b\b\b\b\b\b\b\b\b\b\b\b\b\b\b\b\b\b\b\b\b\b\b\b\b\b\b\b\b\b\b\b\b\b\b\b\b\b\b\b\r",
      "8/8 [==============================] - 0s 15ms/step - root_mean_squared_error: 0.9271 - loss: 0.8577 - regularization_loss: 0.1051 - total_loss: 0.9628 - val_root_mean_squared_error: 1.0594 - val_loss: 1.1249 - val_regularization_loss: 0.1027 - val_total_loss: 1.2276\n"
     ]
    },
    {
     "name": "stdout",
     "output_type": "stream",
     "text": [
      "Epoch 28/30\n",
      "\r",
      "1/8 [==>...........................] - ETA: 0s - root_mean_squared_error: 0.9294 - loss: 0.8638 - regularization_loss: 0.1027 - total_loss: 0.9665"
     ]
    },
    {
     "name": "stdout",
     "output_type": "stream",
     "text": [
      "\b\b\b\b\b\b\b\b\b\b\b\b\b\b\b\b\b\b\b\b\b\b\b\b\b\b\b\b\b\b\b\b\b\b\b\b\b\b\b\b\b\b\b\b\b\b\b\b\b\b\b\b\b\b\b\b\b\b\b\b\b\b\b\b\b\b\b\b\b\b\b\b\b\b\b\b\b\b\b\b\b\b\b\b\b\b\b\b\b\b\b\b\b\b\b\b\b\b\b\b\b\b\b\b\b\b\b\b\b\b\b\b\b\b\b\b\b\b\b\b\b\b\b\b\b\b\b\b\b\b\b\b\b\b\b\b\b\b\b\b\b\b\b\b\b\b\r",
      "8/8 [==============================] - 0s 15ms/step - root_mean_squared_error: 0.9269 - loss: 0.8576 - regularization_loss: 0.0990 - total_loss: 0.9567 - val_root_mean_squared_error: 1.0637 - val_loss: 1.1340 - val_regularization_loss: 0.0973 - val_total_loss: 1.2313\n"
     ]
    },
    {
     "name": "stdout",
     "output_type": "stream",
     "text": [
      "Epoch 29/30\n",
      "\r",
      "1/8 [==>...........................] - ETA: 0s - root_mean_squared_error: 0.9301 - loss: 0.8651 - regularization_loss: 0.0973 - total_loss: 0.9624"
     ]
    },
    {
     "name": "stdout",
     "output_type": "stream",
     "text": [
      "\b\b\b\b\b\b\b\b\b\b\b\b\b\b\b\b\b\b\b\b\b\b\b\b\b\b\b\b\b\b\b\b\b\b\b\b\b\b\b\b\b\b\b\b\b\b\b\b\b\b\b\b\b\b\b\b\b\b\b\b\b\b\b\b\b\b\b\b\b\b\b\b\b\b\b\b\b\b\b\b\b\b\b\b\b\b\b\b\b\b\b\b\b\b\b\b\b\b\b\b\b\b\b\b\b\b\b\b\b\b\b\b\b\b\b\b\b\b\b\b\b\b\b\b\b\b\b\b\b\b\b\b\b\b\b\b\b\b\b\b\b\b\b\b\b\b\r",
      "8/8 [==============================] - 0s 16ms/step - root_mean_squared_error: 0.9289 - loss: 0.8618 - regularization_loss: 0.0937 - total_loss: 0.9554 - val_root_mean_squared_error: 1.0724 - val_loss: 1.1527 - val_regularization_loss: 0.0925 - val_total_loss: 1.2452\n"
     ]
    },
    {
     "name": "stdout",
     "output_type": "stream",
     "text": [
      "Epoch 30/30\n",
      "\r",
      "1/8 [==>...........................] - ETA: 0s - root_mean_squared_error: 0.9334 - loss: 0.8712 - regularization_loss: 0.0925 - total_loss: 0.9638"
     ]
    },
    {
     "name": "stdout",
     "output_type": "stream",
     "text": [
      "\b\b\b\b\b\b\b\b\b\b\b\b\b\b\b\b\b\b\b\b\b\b\b\b\b\b\b\b\b\b\b\b\b\b\b\b\b\b\b\b\b\b\b\b\b\b\b\b\b\b\b\b\b\b\b\b\b\b\b\b\b\b\b\b\b\b\b\b\b\b\b\b\b\b\b\b\b\b\b\b\b\b\b\b\b\b\b\b\b\b\b\b\b\b\b\b\b\b\b\b\b\b\b\b\b\b\b\b\b\b\b\b\b\b\b\b\b\b\b\b\b\b\b\b\b\b\b\b\b\b\b\b\b\b\b\b\b\b\b\b\b\b\b\b\b\b\r",
      "8/8 [==============================] - 0s 16ms/step - root_mean_squared_error: 0.9325 - loss: 0.8684 - regularization_loss: 0.0889 - total_loss: 0.9573 - val_root_mean_squared_error: 1.0763 - val_loss: 1.1610 - val_regularization_loss: 0.0883 - val_total_loss: 1.2492\n"
     ]
    }
   ],
   "source": [
    "# Here we start a new dictionary of training histories, but these could also be appended to the above one\n",
    "histories_tr_li = {}\n",
    "\n",
    "# Learning rate linear grid\n",
    "learning_rates_linear = [0.05, 0.1, 0.15]\n",
    "\n",
    "for val in learning_rates_linear:\n",
    "    print('Learning rate = {}'.format(val))\n",
    "    model_tr = MovielensModelTunedRanking()\n",
    "    model_tr.compile(optimizer=tf.keras.optimizers.Adagrad(learning_rate=val))\n",
    "\n",
    "    lr = str(val)\n",
    "    histories_tr_li[lr] = model_tr.fit(cached_train, epochs=epochs, validation_data=cached_validation)"
   ]
  },
  {
   "cell_type": "code",
   "execution_count": null,
   "metadata": {
    "colab": {
     "base_uri": "https://localhost:8080/"
    },
    "gradient": {
     "editing": false
    },
    "id": "d2ojspFOEpb-",
    "outputId": "89d73d93-96b7-4336-f5f7-ecd8266477e6"
   },
   "outputs": [
    {
     "data": {
      "text/plain": [
       "{'0.05': <tensorflow.python.keras.callbacks.History at 0x7ff9f85d3198>,\n",
       " '0.1': <tensorflow.python.keras.callbacks.History at 0x7ff950248ef0>,\n",
       " '0.15': <tensorflow.python.keras.callbacks.History at 0x7ff950247128>}"
      ]
     },
     "execution_count": 44,
     "metadata": {},
     "output_type": "execute_result"
    }
   ],
   "source": [
    "histories_tr_li"
   ]
  },
  {
   "cell_type": "code",
   "execution_count": null,
   "metadata": {
    "colab": {
     "base_uri": "https://localhost:8080/"
    },
    "gradient": {
     "editing": false
    },
    "id": "ujCXSvC6MLa4",
    "outputId": "f3a5dcd8-0a59-4a46-9498-ea81f6b7413e"
   },
   "outputs": [
    {
     "name": "stdout",
     "output_type": "stream",
     "text": [
      "Root mean squared error in user rating from training   for learning rate 0.05 = 0.9521385431289673\n",
      "Root mean squared error in user rating from validation for learning rate 0.05 = 1.0750586986541748\n",
      "Root mean squared error in user rating from training   for learning rate 0.1 = 0.9281430244445801\n",
      "Root mean squared error in user rating from validation for learning rate 0.1 = 1.0498266220092773\n",
      "Root mean squared error in user rating from training   for learning rate 0.15 = 0.9324965476989746\n",
      "Root mean squared error in user rating from validation for learning rate 0.15 = 1.0762505531311035\n"
     ]
    }
   ],
   "source": [
    "for val in learning_rates_linear:\n",
    "    lr = str(val)\n",
    "\n",
    "    rmse_tr = histories_tr_li[lr].history['root_mean_squared_error'][-1]\n",
    "    print('Root mean squared error in user rating from training   for learning rate {} = {}'.format(lr, rmse_tr))\n",
    "\n",
    "    val_rmse_tr = histories_tr_li[lr].history['val_root_mean_squared_error'][-1]\n",
    "    print('Root mean squared error in user rating from validation for learning rate {} = {}'.format(lr, val_rmse_tr))"
   ]
  },
  {
   "cell_type": "code",
   "execution_count": null,
   "metadata": {
    "gradient": {
     "editing": false
    },
    "id": "SJmfaxQ1MeTl"
   },
   "outputs": [],
   "source": [
    "num_validation_runs = len(histories_tr_li['0.1'].history['root_mean_squared_error'])\n",
    "validation_freq = 1\n",
    "epochs_x = [(x + 1) * validation_freq for x in range(num_validation_runs)]"
   ]
  },
  {
   "cell_type": "code",
   "execution_count": null,
   "metadata": {
    "colab": {
     "base_uri": "https://localhost:8080/",
     "height": 308
    },
    "gradient": {
     "editing": false
    },
    "id": "31udS6_AMniY",
    "outputId": "fdc30bc0-ae31-4d06-cc1b-2ddd83ebf1e9"
   },
   "outputs": [
    {
     "data": {
      "text/plain": [
       "<matplotlib.legend.Legend at 0x7ff9f85864e0>"
      ]
     },
     "execution_count": 47,
     "metadata": {},
     "output_type": "execute_result"
    },
    {
     "data": {
      "image/png": "[encoded data removed]",
      "text/plain": [
       "<Figure size 432x288 with 1 Axes>"
      ]
     },
     "metadata": {},
     "output_type": "display_data",
     "transient": {}
    }
   ],
   "source": [
    "for val in learning_rates_linear:\n",
    "    lr = str(val)\n",
    "    plt.plot(epochs_x, histories_tr_li[lr].history['root_mean_squared_error'], label=lr)\n",
    "    plt.plot(epochs_x, histories_tr_li[lr].history['val_root_mean_squared_error'], label=lr, linestyle='dotted')\n",
    "\n",
    "plt.title('Root mean squared error in user rating vs. training epoch')\n",
    "plt.xlabel('Training epoch')\n",
    "plt.ylabel('Root mean squared error in user rating')\n",
    "plt.yscale('log')\n",
    "plt.legend()"
   ]
  },
  {
   "cell_type": "markdown",
   "metadata": {
    "gradient": {
     "editing": false
    },
    "id": "jB1WWJdbK6AW"
   },
   "source": [
    "The best performances for the linear grid search look quite similar to each other, so let's stick with learning rate 0.1 and train the final model."
   ]
  },
  {
   "cell_type": "code",
   "execution_count": null,
   "metadata": {
    "colab": {
     "base_uri": "https://localhost:8080/"
    },
    "gradient": {
     "editing": false
    },
    "id": "AF5eXjeMGZ2b",
    "outputId": "2e2562d1-fbd2-4d16-81f2-29b8a68dc5fa",
    "scrolled": true
   },
   "outputs": [
    {
     "name": "stdout",
     "output_type": "stream",
     "text": [
      "Epoch 1/50\n"
     ]
    },
    {
     "name": "stdout",
     "output_type": "stream",
     "text": [
      "\r",
      "      1/Unknown - 0s 461ms/step - root_mean_squared_error: 3.7378 - loss: 13.9708 - regularization_loss: 2.0478 - total_loss: 16.0186"
     ]
    },
    {
     "name": "stdout",
     "output_type": "stream",
     "text": [
      "\b\b\b\b\b\b\b\b\b\b\b\b\b\b\b\b\b\b\b\b\b\b\b\b\b\b\b\b\b\b\b\b\b\b\b\b\b\b\b\b\b\b\b\b\b\b\b\b\b\b\b\b\b\b\b\b\b\b\b\b\b\b\b\b\b\b\b\b\b\b\b\b\b\b\b\b\b\b\b\b\b\b\b\b\b\b\b\b\b\b\b\b\b\b\b\b\b\b\b\b\b\b\b\b\b\b\b\b\b\b\b\b\b\b\b\b\b\b\b\b\b\b\b\b\b\b\b\b\b\b\b\b\b\r",
      "8/8 [==============================] - 1s 30ms/step - root_mean_squared_error: 2.4229 - loss: 5.3788 - regularization_loss: 1.9584 - total_loss: 7.3373 - val_root_mean_squared_error: 1.1719 - val_loss: 1.3746 - val_regularization_loss: 1.8705 - val_total_loss: 3.2451\n"
     ]
    },
    {
     "name": "stdout",
     "output_type": "stream",
     "text": [
      "Epoch 2/50\n",
      "\r",
      "1/8 [==>...........................] - ETA: 0s - root_mean_squared_error: 1.1346 - loss: 1.2872 - regularization_loss: 1.8705 - total_loss: 3.1577"
     ]
    },
    {
     "name": "stdout",
     "output_type": "stream",
     "text": [
      "\b\b\b\b\b\b\b\b\b\b\b\b\b\b\b\b\b\b\b\b\b\b\b\b\b\b\b\b\b\b\b\b\b\b\b\b\b\b\b\b\b\b\b\b\b\b\b\b\b\b\b\b\b\b\b\b\b\b\b\b\b\b\b\b\b\b\b\b\b\b\b\b\b\b\b\b\b\b\b\b\b\b\b\b\b\b\b\b\b\b\b\b\b\b\b\b\b\b\b\b\b\b\b\b\b\b\b\b\b\b\b\b\b\b\b\b\b\b\b\b\b\b\b\b\b\b\b\b\b\b\b\b\b\b\b\b\b\b\b\b\b\b\b\b\b\b\r",
      "8/8 [==============================] - 0s 17ms/step - root_mean_squared_error: 1.1221 - loss: 1.2567 - regularization_loss: 1.7812 - total_loss: 3.0380 - val_root_mean_squared_error: 1.1369 - val_loss: 1.2945 - val_regularization_loss: 1.6923 - val_total_loss: 2.9868\n"
     ]
    },
    {
     "name": "stdout",
     "output_type": "stream",
     "text": [
      "Epoch 3/50\n",
      "\r",
      "1/8 [==>...........................] - ETA: 0s - root_mean_squared_error: 1.1123 - loss: 1.2371 - regularization_loss: 1.6923 - total_loss: 2.9294"
     ]
    },
    {
     "name": "stdout",
     "output_type": "stream",
     "text": [
      "\b\b\b\b\b\b\b\b\b\b\b\b\b\b\b\b\b\b\b\b\b\b\b\b\b\b\b\b\b\b\b\b\b\b\b\b\b\b\b\b\b\b\b\b\b\b\b\b\b\b\b\b\b\b\b\b\b\b\b\b\b\b\b\b\b\b\b\b\b\b\b\b\b\b\b\b\b\b\b\b\b\b\b\b\b\b\b\b\b\b\b\b\b\b\b\b\b\b\b\b\b\b\b\b\b\b\b\b\b\b\b\b\b\b\b\b\b\b\b\b\b\b\b\b\b\b\b\b\b\b\b\b\b\b\b\b\b\b\b\b\b\b\b\b\b\b\r",
      "8/8 [==============================] - 0s 16ms/step - root_mean_squared_error: 1.1108 - loss: 1.2321 - regularization_loss: 1.6137 - total_loss: 2.8459 - val_root_mean_squared_error: 1.1352 - val_loss: 1.2906 - val_regularization_loss: 1.5339 - val_total_loss: 2.8245\n"
     ]
    },
    {
     "name": "stdout",
     "output_type": "stream",
     "text": [
      "Epoch 4/50\n",
      "\r",
      "1/8 [==>...........................] - ETA: 0s - root_mean_squared_error: 1.1046 - loss: 1.2201 - regularization_loss: 1.5339 - total_loss: 2.7539"
     ]
    },
    {
     "name": "stdout",
     "output_type": "stream",
     "text": [
      "\b\b\b\b\b\b\b\b\b\b\b\b\b\b\b\b\b\b\b\b\b\b\b\b\b\b\b\b\b\b\b\b\b\b\b\b\b\b\b\b\b\b\b\b\b\b\b\b\b\b\b\b\b\b\b\b\b\b\b\b\b\b\b\b\b\b\b\b\b\b\b\b\b\b\b\b\b\b\b\b\b\b\b\b\b\b\b\b\b\b\b\b\b\b\b\b\b\b\b\b\b\b\b\b\b\b\b\b\b\b\b\b\b\b\b\b\b\b\b\b\b\b\b\b\b\b\b\b\b\b\b\b\b\b\b\b\b\b\b\b\b\b\b\b\b\b\r",
      "8/8 [==============================] - 0s 15ms/step - root_mean_squared_error: 1.1014 - loss: 1.2110 - regularization_loss: 1.4634 - total_loss: 2.6744 - val_root_mean_squared_error: 1.1340 - val_loss: 1.2878 - val_regularization_loss: 1.3919 - val_total_loss: 2.6796\n"
     ]
    },
    {
     "name": "stdout",
     "output_type": "stream",
     "text": [
      "Epoch 5/50\n",
      "\r",
      "1/8 [==>...........................] - ETA: 0s - root_mean_squared_error: 1.0943 - loss: 1.1975 - regularization_loss: 1.3919 - total_loss: 2.5894"
     ]
    },
    {
     "name": "stdout",
     "output_type": "stream",
     "text": [
      "\b\b\b\b\b\b\b\b\b\b\b\b\b\b\b\b\b\b\b\b\b\b\b\b\b\b\b\b\b\b\b\b\b\b\b\b\b\b\b\b\b\b\b\b\b\b\b\b\b\b\b\b\b\b\b\b\b\b\b\b\b\b\b\b\b\b\b\b\b\b\b\b\b\b\b\b\b\b\b\b\b\b\b\b\b\b\b\b\b\b\b\b\b\b\b\b\b\b\b\b\b\b\b\b\b\b\b\b\b\b\b\b\b\b\b\b\b\b\b\b\b\b\b\b\b\b\b\b\b\b\b\b\b\b\b\b\b\b\b\b\b\b\b\b\b\b\r",
      "8/8 [==============================] - 0s 15ms/step - root_mean_squared_error: 1.0892 - loss: 1.1840 - regularization_loss: 1.3288 - total_loss: 2.5128 - val_root_mean_squared_error: 1.1324 - val_loss: 1.2842 - val_regularization_loss: 1.2647 - val_total_loss: 2.5489\n"
     ]
    },
    {
     "name": "stdout",
     "output_type": "stream",
     "text": [
      "Epoch 6/50\n",
      "\r",
      "1/8 [==>...........................] - ETA: 0s - root_mean_squared_error: 1.0816 - loss: 1.1700 - regularization_loss: 1.2647 - total_loss: 2.4347"
     ]
    },
    {
     "name": "stdout",
     "output_type": "stream",
     "text": [
      "\b\b\b\b\b\b\b\b\b\b\b\b\b\b\b\b\b\b\b\b\b\b\b\b\b\b\b\b\b\b\b\b\b\b\b\b\b\b\b\b\b\b\b\b\b\b\b\b\b\b\b\b\b\b\b\b\b\b\b\b\b\b\b\b\b\b\b\b\b\b\b\b\b\b\b\b\b\b\b\b\b\b\b\b\b\b\b\b\b\b\b\b\b\b\b\b\b\b\b\b\b\b\b\b\b\b\b\b\b\b\b\b\b\b\b\b\b\b\b\b\b\b\b\b\b\b\b\b\b\b\b\b\b\b\b\b\b\b\b\b\b\b\b\b\b\b\r",
      "8/8 [==============================] - 0s 15ms/step - root_mean_squared_error: 1.0750 - loss: 1.1532 - regularization_loss: 1.2082 - total_loss: 2.3613 - val_root_mean_squared_error: 1.1303 - val_loss: 1.2792 - val_regularization_loss: 1.1509 - val_total_loss: 2.4301\n"
     ]
    },
    {
     "name": "stdout",
     "output_type": "stream",
     "text": [
      "Epoch 7/50\n",
      "\r",
      "1/8 [==>...........................] - ETA: 0s - root_mean_squared_error: 1.0676 - loss: 1.1398 - regularization_loss: 1.1509 - total_loss: 2.2906"
     ]
    },
    {
     "name": "stdout",
     "output_type": "stream",
     "text": [
      "\b\b\b\b\b\b\b\b\b\b\b\b\b\b\b\b\b\b\b\b\b\b\b\b\b\b\b\b\b\b\b\b\b\b\b\b\b\b\b\b\b\b\b\b\b\b\b\b\b\b\b\b\b\b\b\b\b\b\b\b\b\b\b\b\b\b\b\b\b\b\b\b\b\b\b\b\b\b\b\b\b\b\b\b\b\b\b\b\b\b\b\b\b\b\b\b\b\b\b\b\b\b\b\b\b\b\b\b\b\b\b\b\b\b\b\b\b\b\b\b\b\b\b\b\b\b\b\b\b\b\b\b\b\b\b\b\b\b\b\b\b\b\b\b\b\b\r",
      "8/8 [==============================] - 0s 16ms/step - root_mean_squared_error: 1.0603 - loss: 1.1219 - regularization_loss: 1.1001 - total_loss: 2.2220 - val_root_mean_squared_error: 1.1272 - val_loss: 1.2723 - val_regularization_loss: 1.0486 - val_total_loss: 2.3209\n"
     ]
    },
    {
     "name": "stdout",
     "output_type": "stream",
     "text": [
      "Epoch 8/50\n",
      "\r",
      "1/8 [==>...........................] - ETA: 0s - root_mean_squared_error: 1.0537 - loss: 1.1102 - regularization_loss: 1.0486 - total_loss: 2.1588"
     ]
    },
    {
     "name": "stdout",
     "output_type": "stream",
     "text": [
      "\b\b\b\b\b\b\b\b\b\b\b\b\b\b\b\b\b\b\b\b\b\b\b\b\b\b\b\b\b\b\b\b\b\b\b\b\b\b\b\b\b\b\b\b\b\b\b\b\b\b\b\b\b\b\b\b\b\b\b\b\b\b\b\b\b\b\b\b\b\b\b\b\b\b\b\b\b\b\b\b\b\b\b\b\b\b\b\b\b\b\b\b\b\b\b\b\b\b\b\b\b\b\b\b\b\b\b\b\b\b\b\b\b\b\b\b\b\b\b\b\b\b\b\b\b\b\b\b\b\b\b\b\b\b\b\b\b\b\b\b\b\b\b\b\b\b\r",
      "8/8 [==============================] - 0s 16ms/step - root_mean_squared_error: 1.0463 - loss: 1.0925 - regularization_loss: 1.0028 - total_loss: 2.0953 - val_root_mean_squared_error: 1.1229 - val_loss: 1.2625 - val_regularization_loss: 0.9565 - val_total_loss: 2.2190\n"
     ]
    },
    {
     "name": "stdout",
     "output_type": "stream",
     "text": [
      "Epoch 9/50\n",
      "\r",
      "1/8 [==>...........................] - ETA: 0s - root_mean_squared_error: 1.0403 - loss: 1.0822 - regularization_loss: 0.9565 - total_loss: 2.0387"
     ]
    },
    {
     "name": "stdout",
     "output_type": "stream",
     "text": [
      "\b\b\b\b\b\b\b\b\b\b\b\b\b\b\b\b\b\b\b\b\b\b\b\b\b\b\b\b\b\b\b\b\b\b\b\b\b\b\b\b\b\b\b\b\b\b\b\b\b\b\b\b\b\b\b\b\b\b\b\b\b\b\b\b\b\b\b\b\b\b\b\b\b\b\b\b\b\b\b\b\b\b\b\b\b\b\b\b\b\b\b\b\b\b\b\b\b\b\b\b\b\b\b\b\b\b\b\b\b\b\b\b\b\b\b\b\b\b\b\b\b\b\b\b\b\b\b\b\b\b\b\b\b\b\b\b\b\b\b\b\b\b\b\b\b\b\r",
      "8/8 [==============================] - 0s 17ms/step - root_mean_squared_error: 1.0329 - loss: 1.0647 - regularization_loss: 0.9152 - total_loss: 1.9799 - val_root_mean_squared_error: 1.1175 - val_loss: 1.2504 - val_regularization_loss: 0.8736 - val_total_loss: 2.1239\n"
     ]
    },
    {
     "name": "stdout",
     "output_type": "stream",
     "text": [
      "Epoch 10/50\n",
      "\r",
      "1/8 [==>...........................] - ETA: 0s - root_mean_squared_error: 1.0272 - loss: 1.0552 - regularization_loss: 0.8736 - total_loss: 1.9287"
     ]
    },
    {
     "name": "stdout",
     "output_type": "stream",
     "text": [
      "\b\b\b\b\b\b\b\b\b\b\b\b\b\b\b\b\b\b\b\b\b\b\b\b\b\b\b\b\b\b\b\b\b\b\b\b\b\b\b\b\b\b\b\b\b\b\b\b\b\b\b\b\b\b\b\b\b\b\b\b\b\b\b\b\b\b\b\b\b\b\b\b\b\b\b\b\b\b\b\b\b\b\b\b\b\b\b\b\b\b\b\b\b\b\b\b\b\b\b\b\b\b\b\b\b\b\b\b\b\b\b\b\b\b\b\b\b\b\b\b\b\b\b\b\b\b\b\b\b\b\b\b\b\b\b\b\b\b\b\b\b\b\b\b\b\b\r",
      "8/8 [==============================] - ETA: 0s - root_mean_squared_error: 1.0200 - loss: 1.0403 - regularization_loss: 0.8400 - total_loss: 1.8802"
     ]
    },
    {
     "name": "stdout",
     "output_type": "stream",
     "text": [
      "\b\b\b\b\b\b\b\b\b\b\b\b\b\b\b\b\b\b\b\b\b\b\b\b\b\b\b\b\b\b\b\b\b\b\b\b\b\b\b\b\b\b\b\b\b\b\b\b\b\b\b\b\b\b\b\b\b\b\b\b\b\b\b\b\b\b\b\b\b\b\b\b\b\b\b\b\b\b\b\b\b\b\b\b\b\b\b\b\b\b\b\b\b\b\b\b\b\b\b\b\b\b\b\b\b\b\b\b\b\b\b\b\b\b\b\b\b\b\b\b\b\b\b\b\b\b\b\b\b\b\b\b\b\b\b\b\b\b\b\b\b\b\b\b\b\b\r",
      "8/8 [==============================] - 0s 17ms/step - root_mean_squared_error: 1.0200 - loss: 1.0381 - regularization_loss: 0.8363 - total_loss: 1.8745 - val_root_mean_squared_error: 1.1114 - val_loss: 1.2367 - val_regularization_loss: 0.7989 - val_total_loss: 2.0356\n"
     ]
    },
    {
     "name": "stdout",
     "output_type": "stream",
     "text": [
      "Epoch 11/50\n",
      "\r",
      "1/8 [==>...........................] - ETA: 0s - root_mean_squared_error: 1.0146 - loss: 1.0293 - regularization_loss: 0.7989 - total_loss: 1.8282"
     ]
    },
    {
     "name": "stdout",
     "output_type": "stream",
     "text": [
      "\b\b\b\b\b\b\b\b\b\b\b\b\b\b\b\b\b\b\b\b\b\b\b\b\b\b\b\b\b\b\b\b\b\b\b\b\b\b\b\b\b\b\b\b\b\b\b\b\b\b\b\b\b\b\b\b\b\b\b\b\b\b\b\b\b\b\b\b\b\b\b\b\b\b\b\b\b\b\b\b\b\b\b\b\b\b\b\b\b\b\b\b\b\b\b\b\b\b\b\b\b\b\b\b\b\b\b\b\b\b\b\b\b\b\b\b\b\b\b\b\b\b\b\b\b\b\b\b\b\b\b\b\b\b\b\b\b\b\b\b\b\b\b\b\b\b\r",
      "8/8 [==============================] - 0s 15ms/step - root_mean_squared_error: 1.0077 - loss: 1.0133 - regularization_loss: 0.7652 - total_loss: 1.7785 - val_root_mean_squared_error: 1.1052 - val_loss: 1.2230 - val_regularization_loss: 0.7315 - val_total_loss: 1.9545\n"
     ]
    },
    {
     "name": "stdout",
     "output_type": "stream",
     "text": [
      "Epoch 12/50\n",
      "\r",
      "1/8 [==>...........................] - ETA: 0s - root_mean_squared_error: 1.0028 - loss: 1.0057 - regularization_loss: 0.7315 - total_loss: 1.7372"
     ]
    },
    {
     "name": "stdout",
     "output_type": "stream",
     "text": [
      "\b\b\b\b\b\b\b\b\b\b\b\b\b\b\b\b\b\b\b\b\b\b\b\b\b\b\b\b\b\b\b\b\b\b\b\b\b\b\b\b\b\b\b\b\b\b\b\b\b\b\b\b\b\b\b\b\b\b\b\b\b\b\b\b\b\b\b\b\b\b\b\b\b\b\b\b\b\b\b\b\b\b\b\b\b\b\b\b\b\b\b\b\b\b\b\b\b\b\b\b\b\b\b\b\b\b\b\b\b\b\b\b\b\b\b\b\b\b\b\b\b\b\b\b\b\b\b\b\b\b\b\b\b\b\b\b\b\b\b\b\b\b\b\b\b\b\r",
      "8/8 [==============================] - 0s 16ms/step - root_mean_squared_error: 0.9966 - loss: 0.9911 - regularization_loss: 0.7009 - total_loss: 1.6921 - val_root_mean_squared_error: 1.0996 - val_loss: 1.2106 - val_regularization_loss: 0.6705 - val_total_loss: 1.8811\n"
     ]
    },
    {
     "name": "stdout",
     "output_type": "stream",
     "text": [
      "Epoch 13/50\n",
      "\r",
      "1/8 [==>...........................] - ETA: 0s - root_mean_squared_error: 0.9925 - loss: 0.9851 - regularization_loss: 0.6705 - total_loss: 1.6556"
     ]
    },
    {
     "name": "stdout",
     "output_type": "stream",
     "text": [
      "\b\b\b\b\b\b\b\b\b\b\b\b\b\b\b\b\b\b\b\b\b\b\b\b\b\b\b\b\b\b\b\b\b\b\b\b\b\b\b\b\b\b\b\b\b\b\b\b\b\b\b\b\b\b\b\b\b\b\b\b\b\b\b\b\b\b\b\b\b\b\b\b\b\b\b\b\b\b\b\b\b\b\b\b\b\b\b\b\b\b\b\b\b\b\b\b\b\b\b\b\b\b\b\b\b\b\b\b\b\b\b\b\b\b\b\b\b\b\b\b\b\b\b\b\b\b\b\b\b\b\b\b\b\b\b\b\b\b\b\b\b\b\b\b\b\b\r",
      "8/8 [==============================] - 0s 15ms/step - root_mean_squared_error: 0.9870 - loss: 0.9723 - regularization_loss: 0.6426 - total_loss: 1.6149 - val_root_mean_squared_error: 1.0954 - val_loss: 1.2011 - val_regularization_loss: 0.6151 - val_total_loss: 1.8162\n"
     ]
    },
    {
     "name": "stdout",
     "output_type": "stream",
     "text": [
      "Epoch 14/50\n",
      "\r",
      "1/8 [==>...........................] - ETA: 0s - root_mean_squared_error: 0.9839 - loss: 0.9680 - regularization_loss: 0.6151 - total_loss: 1.5831"
     ]
    },
    {
     "name": "stdout",
     "output_type": "stream",
     "text": [
      "\b\b\b\b\b\b\b\b\b\b\b\b\b\b\b\b\b\b\b\b\b\b\b\b\b\b\b\b\b\b\b\b\b\b\b\b\b\b\b\b\b\b\b\b\b\b\b\b\b\b\b\b\b\b\b\b\b\b\b\b\b\b\b\b\b\b\b\b\b\b\b\b\b\b\b\b\b\b\b\b\b\b\b\b\b\b\b\b\b\b\b\b\b\b\b\b\b\b\b\b\b\b\b\b\b\b\b\b\b\b\b\b\b\b\b\b\b\b\b\b\b\b\b\b\b\b\b\b\b\b\b\b\b\b\b\b\b\b\b\b\b\b\b\b\b\b\r",
      "8/8 [==============================] - 0s 16ms/step - root_mean_squared_error: 0.9792 - loss: 0.9571 - regularization_loss: 0.5896 - total_loss: 1.5467 - val_root_mean_squared_error: 1.0933 - val_loss: 1.1965 - val_regularization_loss: 0.5648 - val_total_loss: 1.7612\n"
     ]
    },
    {
     "name": "stdout",
     "output_type": "stream",
     "text": [
      "Epoch 15/50\n",
      "\r",
      "1/8 [==>...........................] - ETA: 0s - root_mean_squared_error: 0.9771 - loss: 0.9547 - regularization_loss: 0.5648 - total_loss: 1.5195"
     ]
    },
    {
     "name": "stdout",
     "output_type": "stream",
     "text": [
      "\b\b\b\b\b\b\b\b\b\b\b\b\b\b\b\b\b\b\b\b\b\b\b\b\b\b\b\b\b\b\b\b\b\b\b\b\b\b\b\b\b\b\b\b\b\b\b\b\b\b\b\b\b\b\b\b\b\b\b\b\b\b\b\b\b\b\b\b\b\b\b\b\b\b\b\b\b\b\b\b\b\b\b\b\b\b\b\b\b\b\b\b\b\b\b\b\b\b\b\b\b\b\b\b\b\b\b\b\b\b\b\b\b\b\b\b\b\b\b\b\b\b\b\b\b\b\b\b\b\b\b\b\b\b\b\b\b\b\b\b\b\b\b\b\b\b\r",
      "8/8 [==============================] - 0s 17ms/step - root_mean_squared_error: 0.9735 - loss: 0.9464 - regularization_loss: 0.5412 - total_loss: 1.4877 - val_root_mean_squared_error: 1.0950 - val_loss: 1.1999 - val_regularization_loss: 0.5190 - val_total_loss: 1.7189\n"
     ]
    },
    {
     "name": "stdout",
     "output_type": "stream",
     "text": [
      "Epoch 16/50\n",
      "\r",
      "1/8 [==>...........................] - ETA: 0s - root_mean_squared_error: 0.9729 - loss: 0.9465 - regularization_loss: 0.5190 - total_loss: 1.4655"
     ]
    },
    {
     "name": "stdout",
     "output_type": "stream",
     "text": [
      "\b\b\b\b\b\b\b\b\b\b\b\b\b\b\b\b\b\b\b\b\b\b\b\b\b\b\b\b\b\b\b\b\b\b\b\b\b\b\b\b\b\b\b\b\b\b\b\b\b\b\b\b\b\b\b\b\b\b\b\b\b\b\b\b\b\b\b\b\b\b\b\b\b\b\b\b\b\b\b\b\b\b\b\b\b\b\b\b\b\b\b\b\b\b\b\b\b\b\b\b\b\b\b\b\b\b\b\b\b\b\b\b\b\b\b\b\b\b\b\b\b\b\b\b\b\b\b\b\b\b\b\b\b\b\b\b\b\b\b\b\b\b\b\b\b\b\r",
      "8/8 [==============================] - 0s 15ms/step - root_mean_squared_error: 0.9710 - loss: 0.9420 - regularization_loss: 0.4972 - total_loss: 1.4391 - val_root_mean_squared_error: 1.1003 - val_loss: 1.2112 - val_regularization_loss: 0.4774 - val_total_loss: 1.6886\n"
     ]
    },
    {
     "name": "stdout",
     "output_type": "stream",
     "text": [
      "Epoch 17/50\n",
      "\r",
      "1/8 [==>...........................] - ETA: 0s - root_mean_squared_error: 0.9716 - loss: 0.9440 - regularization_loss: 0.4774 - total_loss: 1.4215"
     ]
    },
    {
     "name": "stdout",
     "output_type": "stream",
     "text": [
      "\b\b\b\b\b\b\b\b\b\b\b\b\b\b\b\b\b\b\b\b\b\b\b\b\b\b\b\b\b\b\b\b\b\b\b\b\b\b\b\b\b\b\b\b\b\b\b\b\b\b\b\b\b\b\b\b\b\b\b\b\b\b\b\b\b\b\b\b\b\b\b\b\b\b\b\b\b\b\b\b\b\b\b\b\b\b\b\b\b\b\b\b\b\b\b\b\b\b\b\b\b\b\b\b\b\b\b\b\b\b\b\b\b\b\b\b\b\b\b\b\b\b\b\b\b\b\b\b\b\b\b\b\b\b\b\b\b\b\b\b\b\b\b\b\b\b\r",
      "8/8 [==============================] - 0s 15ms/step - root_mean_squared_error: 0.9704 - loss: 0.9408 - regularization_loss: 0.4570 - total_loss: 1.3978 - val_root_mean_squared_error: 1.1015 - val_loss: 1.2138 - val_regularization_loss: 0.4394 - val_total_loss: 1.6532\n"
     ]
    },
    {
     "name": "stdout",
     "output_type": "stream",
     "text": [
      "Epoch 18/50\n",
      "\r",
      "1/8 [==>...........................] - ETA: 0s - root_mean_squared_error: 0.9694 - loss: 0.9398 - regularization_loss: 0.4394 - total_loss: 1.3792"
     ]
    },
    {
     "name": "stdout",
     "output_type": "stream",
     "text": [
      "\b\b\b\b\b\b\b\b\b\b\b\b\b\b\b\b\b\b\b\b\b\b\b\b\b\b\b\b\b\b\b\b\b\b\b\b\b\b\b\b\b\b\b\b\b\b\b\b\b\b\b\b\b\b\b\b\b\b\b\b\b\b\b\b\b\b\b\b\b\b\b\b\b\b\b\b\b\b\b\b\b\b\b\b\b\b\b\b\b\b\b\b\b\b\b\b\b\b\b\b\b\b\b\b\b\b\b\b\b\b\b\b\b\b\b\b\b\b\b\b\b\b\b\b\b\b\b\b\b\b\b\b\b\b\b\b\b\b\b\b\b\b\b\b\b\b\r",
      "8/8 [==============================] - 0s 16ms/step - root_mean_squared_error: 0.9660 - loss: 0.9317 - regularization_loss: 0.4205 - total_loss: 1.3522 - val_root_mean_squared_error: 1.0931 - val_loss: 1.1951 - val_regularization_loss: 0.4045 - val_total_loss: 1.5996\n"
     ]
    },
    {
     "name": "stdout",
     "output_type": "stream",
     "text": [
      "Epoch 19/50\n",
      "\r",
      "1/8 [==>...........................] - ETA: 0s - root_mean_squared_error: 0.9626 - loss: 0.9267 - regularization_loss: 0.4045 - total_loss: 1.3312"
     ]
    },
    {
     "name": "stdout",
     "output_type": "stream",
     "text": [
      "\b\b\b\b\b\b\b\b\b\b\b\b\b\b\b\b\b\b\b\b\b\b\b\b\b\b\b\b\b\b\b\b\b\b\b\b\b\b\b\b\b\b\b\b\b\b\b\b\b\b\b\b\b\b\b\b\b\b\b\b\b\b\b\b\b\b\b\b\b\b\b\b\b\b\b\b\b\b\b\b\b\b\b\b\b\b\b\b\b\b\b\b\b\b\b\b\b\b\b\b\b\b\b\b\b\b\b\b\b\b\b\b\b\b\b\b\b\b\b\b\b\b\b\b\b\b\b\b\b\b\b\b\b\b\b\b\b\b\b\b\b\b\b\b\b\b\r",
      "8/8 [==============================] - 0s 15ms/step - root_mean_squared_error: 0.9583 - loss: 0.9166 - regularization_loss: 0.3875 - total_loss: 1.3041 - val_root_mean_squared_error: 1.0828 - val_loss: 1.1727 - val_regularization_loss: 0.3728 - val_total_loss: 1.5454\n"
     ]
    },
    {
     "name": "stdout",
     "output_type": "stream",
     "text": [
      "Epoch 20/50\n",
      "\r",
      "1/8 [==>...........................] - ETA: 0s - root_mean_squared_error: 0.9557 - loss: 0.9134 - regularization_loss: 0.3728 - total_loss: 1.2862"
     ]
    },
    {
     "name": "stdout",
     "output_type": "stream",
     "text": [
      "\b\b\b\b\b\b\b\b\b\b\b\b\b\b\b\b\b\b\b\b\b\b\b\b\b\b\b\b\b\b\b\b\b\b\b\b\b\b\b\b\b\b\b\b\b\b\b\b\b\b\b\b\b\b\b\b\b\b\b\b\b\b\b\b\b\b\b\b\b\b\b\b\b\b\b\b\b\b\b\b\b\b\b\b\b\b\b\b\b\b\b\b\b\b\b\b\b\b\b\b\b\b\b\b\b\b\b\b\b\b\b\b\b\b\b\b\b\b\b\b\b\b\b\b\b\b\b\b\b\b\b\b\b\b\b\b\b\b\b\b\b\b\b\b\b\b\r",
      "8/8 [==============================] - 0s 15ms/step - root_mean_squared_error: 0.9519 - loss: 0.9044 - regularization_loss: 0.3576 - total_loss: 1.2620 - val_root_mean_squared_error: 1.0755 - val_loss: 1.1567 - val_regularization_loss: 0.3441 - val_total_loss: 1.5007\n"
     ]
    },
    {
     "name": "stdout",
     "output_type": "stream",
     "text": [
      "Epoch 21/50\n",
      "\r",
      "1/8 [==>...........................] - ETA: 0s - root_mean_squared_error: 0.9508 - loss: 0.9040 - regularization_loss: 0.3441 - total_loss: 1.2481"
     ]
    },
    {
     "name": "stdout",
     "output_type": "stream",
     "text": [
      "\b\b\b\b\b\b\b\b\b\b\b\b\b\b\b\b\b\b\b\b\b\b\b\b\b\b\b\b\b\b\b\b\b\b\b\b\b\b\b\b\b\b\b\b\b\b\b\b\b\b\b\b\b\b\b\b\b\b\b\b\b\b\b\b\b\b\b\b\b\b\b\b\b\b\b\b\b\b\b\b\b\b\b\b\b\b\b\b\b\b\b\b\b\b\b\b\b\b\b\b\b\b\b\b\b\b\b\b\b\b\b\b\b\b\b\b\b\b\b\b\b\b\b\b\b\b\b\b\b\b\b\b\b\b\b\b\b\b\b\b\b\b\b\b\b\b\r",
      "8/8 [==============================] - 0s 18ms/step - root_mean_squared_error: 0.9475 - loss: 0.8959 - regularization_loss: 0.3304 - total_loss: 1.2263 - val_root_mean_squared_error: 1.0707 - val_loss: 1.1464 - val_regularization_loss: 0.3180 - val_total_loss: 1.4644\n"
     ]
    },
    {
     "name": "stdout",
     "output_type": "stream",
     "text": [
      "Epoch 22/50\n",
      "\r",
      "1/8 [==>...........................] - ETA: 0s - root_mean_squared_error: 0.9472 - loss: 0.8973 - regularization_loss: 0.3180 - total_loss: 1.2153"
     ]
    },
    {
     "name": "stdout",
     "output_type": "stream",
     "text": [
      "\b\b\b\b\b\b\b\b\b\b\b\b\b\b\b\b\b\b\b\b\b\b\b\b\b\b\b\b\b\b\b\b\b\b\b\b\b\b\b\b\b\b\b\b\b\b\b\b\b\b\b\b\b\b\b\b\b\b\b\b\b\b\b\b\b\b\b\b\b\b\b\b\b\b\b\b\b\b\b\b\b\b\b\b\b\b\b\b\b\b\b\b\b\b\b\b\b\b\b\b\b\b\b\b\b\b\b\b\b\b\b\b\b\b\b\b\b\b\b\b\b\b\b\b\b\b\b\b\b\b\b\b\b\b\b\b\b\b\b\b\b\b\b\b\b\b\r",
      "8/8 [==============================] - 0s 16ms/step - root_mean_squared_error: 0.9442 - loss: 0.8897 - regularization_loss: 0.3057 - total_loss: 1.1954 - val_root_mean_squared_error: 1.0676 - val_loss: 1.1398 - val_regularization_loss: 0.2944 - val_total_loss: 1.4343\n"
     ]
    },
    {
     "name": "stdout",
     "output_type": "stream",
     "text": [
      "Epoch 23/50\n",
      "\r",
      "1/8 [==>...........................] - ETA: 0s - root_mean_squared_error: 0.9445 - loss: 0.8920 - regularization_loss: 0.2944 - total_loss: 1.1865"
     ]
    },
    {
     "name": "stdout",
     "output_type": "stream",
     "text": [
      "\b\b\b\b\b\b\b\b\b\b\b\b\b\b\b\b\b\b\b\b\b\b\b\b\b\b\b\b\b\b\b\b\b\b\b\b\b\b\b\b\b\b\b\b\b\b\b\b\b\b\b\b\b\b\b\b\b\b\b\b\b\b\b\b\b\b\b\b\b\b\b\b\b\b\b\b\b\b\b\b\b\b\b\b\b\b\b\b\b\b\b\b\b\b\b\b\b\b\b\b\b\b\b\b\b\b\b\b\b\b\b\b\b\b\b\b\b\b\b\b\b\b\b\b\b\b\b\b\b\b\b\b\b\b\b\b\b\b\b\b\b\b\b\b\b\b\r",
      "8/8 [==============================] - 0s 15ms/step - root_mean_squared_error: 0.9416 - loss: 0.8849 - regularization_loss: 0.2832 - total_loss: 1.1681 - val_root_mean_squared_error: 1.0657 - val_loss: 1.1358 - val_regularization_loss: 0.2730 - val_total_loss: 1.4088\n"
     ]
    },
    {
     "name": "stdout",
     "output_type": "stream",
     "text": [
      "Epoch 24/50\n",
      "\r",
      "1/8 [==>...........................] - ETA: 0s - root_mean_squared_error: 0.9422 - loss: 0.8878 - regularization_loss: 0.2730 - total_loss: 1.1608"
     ]
    },
    {
     "name": "stdout",
     "output_type": "stream",
     "text": [
      "\b\b\b\b\b\b\b\b\b\b\b\b\b\b\b\b\b\b\b\b\b\b\b\b\b\b\b\b\b\b\b\b\b\b\b\b\b\b\b\b\b\b\b\b\b\b\b\b\b\b\b\b\b\b\b\b\b\b\b\b\b\b\b\b\b\b\b\b\b\b\b\b\b\b\b\b\b\b\b\b\b\b\b\b\b\b\b\b\b\b\b\b\b\b\b\b\b\b\b\b\b\b\b\b\b\b\b\b\b\b\b\b\b\b\b\b\b\b\b\b\b\b\b\b\b\b\b\b\b\b\b\b\b\b\b\b\b\b\b\b\b\b\b\b\b\b\r",
      "8/8 [==============================] - 0s 17ms/step - root_mean_squared_error: 0.9395 - loss: 0.8809 - regularization_loss: 0.2628 - total_loss: 1.1437 - val_root_mean_squared_error: 1.0649 - val_loss: 1.1340 - val_regularization_loss: 0.2536 - val_total_loss: 1.3876\n"
     ]
    },
    {
     "name": "stdout",
     "output_type": "stream",
     "text": [
      "Epoch 25/50\n",
      "\r",
      "1/8 [==>...........................] - ETA: 0s - root_mean_squared_error: 0.9404 - loss: 0.8843 - regularization_loss: 0.2536 - total_loss: 1.1379"
     ]
    },
    {
     "name": "stdout",
     "output_type": "stream",
     "text": [
      "\b\b\b\b\b\b\b\b\b\b\b\b\b\b\b\b\b\b\b\b\b\b\b\b\b\b\b\b\b\b\b\b\b\b\b\b\b\b\b\b\b\b\b\b\b\b\b\b\b\b\b\b\b\b\b\b\b\b\b\b\b\b\b\b\b\b\b\b\b\b\b\b\b\b\b\b\b\b\b\b\b\b\b\b\b\b\b\b\b\b\b\b\b\b\b\b\b\b\b\b\b\b\b\b\b\b\b\b\b\b\b\b\b\b\b\b\b\b\b\b\b\b\b\b\b\b\b\b\b\b\b\b\b\b\b\b\b\b\b\b\b\b\b\b\b\b\r",
      "8/8 [==============================] - 0s 16ms/step - root_mean_squared_error: 0.9378 - loss: 0.8778 - regularization_loss: 0.2443 - total_loss: 1.1221 - val_root_mean_squared_error: 1.0653 - val_loss: 1.1349 - val_regularization_loss: 0.2360 - val_total_loss: 1.3710\n"
     ]
    },
    {
     "name": "stdout",
     "output_type": "stream",
     "text": [
      "Epoch 26/50\n",
      "\r",
      "1/8 [==>...........................] - ETA: 0s - root_mean_squared_error: 0.9390 - loss: 0.8816 - regularization_loss: 0.2360 - total_loss: 1.1177"
     ]
    },
    {
     "name": "stdout",
     "output_type": "stream",
     "text": [
      "\b\b\b\b\b\b\b\b\b\b\b\b\b\b\b\b\b\b\b\b\b\b\b\b\b\b\b\b\b\b\b\b\b\b\b\b\b\b\b\b\b\b\b\b\b\b\b\b\b\b\b\b\b\b\b\b\b\b\b\b\b\b\b\b\b\b\b\b\b\b\b\b\b\b\b\b\b\b\b\b\b\b\b\b\b\b\b\b\b\b\b\b\b\b\b\b\b\b\b\b\b\b\b\b\b\b\b\b\b\b\b\b\b\b\b\b\b\b\b\b\b\b\b\b\b\b\b\b\b\b\b\b\b\b\b\b\b\b\b\b\b\b\b\b\b\b\r",
      "8/8 [==============================] - 0s 15ms/step - root_mean_squared_error: 0.9367 - loss: 0.8758 - regularization_loss: 0.2274 - total_loss: 1.1032 - val_root_mean_squared_error: 1.0676 - val_loss: 1.1397 - val_regularization_loss: 0.2201 - val_total_loss: 1.3598\n"
     ]
    },
    {
     "name": "stdout",
     "output_type": "stream",
     "text": [
      "Epoch 27/50\n",
      "\r",
      "1/8 [==>...........................] - ETA: 0s - root_mean_squared_error: 0.9383 - loss: 0.8804 - regularization_loss: 0.2201 - total_loss: 1.1005"
     ]
    },
    {
     "name": "stdout",
     "output_type": "stream",
     "text": [
      "\b\b\b\b\b\b\b\b\b\b\b\b\b\b\b\b\b\b\b\b\b\b\b\b\b\b\b\b\b\b\b\b\b\b\b\b\b\b\b\b\b\b\b\b\b\b\b\b\b\b\b\b\b\b\b\b\b\b\b\b\b\b\b\b\b\b\b\b\b\b\b\b\b\b\b\b\b\b\b\b\b\b\b\b\b\b\b\b\b\b\b\b\b\b\b\b\b\b\b\b\b\b\b\b\b\b\b\b\b\b\b\b\b\b\b\b\b\b\b\b\b\b\b\b\b\b\b\b\b\b\b\b\b\b\b\b\b\b\b\b\b\b\b\b\b\b\r",
      "8/8 [==============================] - 0s 16ms/step - root_mean_squared_error: 0.9366 - loss: 0.8759 - regularization_loss: 0.2120 - total_loss: 1.0879 - val_root_mean_squared_error: 1.0726 - val_loss: 1.1503 - val_regularization_loss: 0.2058 - val_total_loss: 1.3561\n"
     ]
    },
    {
     "name": "stdout",
     "output_type": "stream",
     "text": [
      "Epoch 28/50\n",
      "\r",
      "1/8 [==>...........................] - ETA: 0s - root_mean_squared_error: 0.9389 - loss: 0.8815 - regularization_loss: 0.2058 - total_loss: 1.0873"
     ]
    },
    {
     "name": "stdout",
     "output_type": "stream",
     "text": [
      "\b\b\b\b\b\b\b\b\b\b\b\b\b\b\b\b\b\b\b\b\b\b\b\b\b\b\b\b\b\b\b\b\b\b\b\b\b\b\b\b\b\b\b\b\b\b\b\b\b\b\b\b\b\b\b\b\b\b\b\b\b\b\b\b\b\b\b\b\b\b\b\b\b\b\b\b\b\b\b\b\b\b\b\b\b\b\b\b\b\b\b\b\b\b\b\b\b\b\b\b\b\b\b\b\b\b\b\b\b\b\b\b\b\b\b\b\b\b\b\b\b\b\b\b\b\b\b\b\b\b\b\b\b\b\b\b\b\b\b\b\b\b\b\b\b\b\r",
      "8/8 [==============================] - 0s 15ms/step - root_mean_squared_error: 0.9382 - loss: 0.8792 - regularization_loss: 0.1980 - total_loss: 1.0772 - val_root_mean_squared_error: 1.0796 - val_loss: 1.1655 - val_regularization_loss: 0.1927 - val_total_loss: 1.3582\n"
     ]
    },
    {
     "name": "stdout",
     "output_type": "stream",
     "text": [
      "Epoch 29/50\n",
      "\r",
      "1/8 [==>...........................] - ETA: 0s - root_mean_squared_error: 0.9410 - loss: 0.8854 - regularization_loss: 0.1927 - total_loss: 1.0782"
     ]
    },
    {
     "name": "stdout",
     "output_type": "stream",
     "text": [
      "\b\b\b\b\b\b\b\b\b\b\b\b\b\b\b\b\b\b\b\b\b\b\b\b\b\b\b\b\b\b\b\b\b\b\b\b\b\b\b\b\b\b\b\b\b\b\b\b\b\b\b\b\b\b\b\b\b\b\b\b\b\b\b\b\b\b\b\b\b\b\b\b\b\b\b\b\b\b\b\b\b\b\b\b\b\b\b\b\b\b\b\b\b\b\b\b\b\b\b\b\b\b\b\b\b\b\b\b\b\b\b\b\b\b\b\b\b\b\b\b\b\b\b\b\b\b\b\b\b\b\b\b\b\b\b\b\b\b\b\b\b\b\b\b\b\b\r",
      "8/8 [==============================] - 0s 16ms/step - root_mean_squared_error: 0.9403 - loss: 0.8832 - regularization_loss: 0.1852 - total_loss: 1.0684 - val_root_mean_squared_error: 1.0825 - val_loss: 1.1717 - val_regularization_loss: 0.1807 - val_total_loss: 1.3524\n"
     ]
    },
    {
     "name": "stdout",
     "output_type": "stream",
     "text": [
      "Epoch 30/50\n",
      "\r",
      "1/8 [==>...........................] - ETA: 0s - root_mean_squared_error: 0.9415 - loss: 0.8865 - regularization_loss: 0.1807 - total_loss: 1.0672"
     ]
    },
    {
     "name": "stdout",
     "output_type": "stream",
     "text": [
      "\b\b\b\b\b\b\b\b\b\b\b\b\b\b\b\b\b\b\b\b\b\b\b\b\b\b\b\b\b\b\b\b\b\b\b\b\b\b\b\b\b\b\b\b\b\b\b\b\b\b\b\b\b\b\b\b\b\b\b\b\b\b\b\b\b\b\b\b\b\b\b\b\b\b\b\b\b\b\b\b\b\b\b\b\b\b\b\b\b\b\b\b\b\b\b\b\b\b\b\b\b\b\b\b\b\b\b\b\b\b\b\b\b\b\b\b\b\b\b\b\b\b\b\b\b\b\b\b\b\b\b\b\b\b\b\b\b\b\b\b\b\b\b\b\b\b\r",
      "8/8 [==============================] - 0s 15ms/step - root_mean_squared_error: 0.9390 - loss: 0.8801 - regularization_loss: 0.1737 - total_loss: 1.0538 - val_root_mean_squared_error: 1.0767 - val_loss: 1.1593 - val_regularization_loss: 0.1696 - val_total_loss: 1.3289\n"
     ]
    },
    {
     "name": "stdout",
     "output_type": "stream",
     "text": [
      "Epoch 31/50\n",
      "\r",
      "1/8 [==>...........................] - ETA: 0s - root_mean_squared_error: 0.9380 - loss: 0.8798 - regularization_loss: 0.1696 - total_loss: 1.0494"
     ]
    },
    {
     "name": "stdout",
     "output_type": "stream",
     "text": [
      "\b\b\b\b\b\b\b\b\b\b\b\b\b\b\b\b\b\b\b\b\b\b\b\b\b\b\b\b\b\b\b\b\b\b\b\b\b\b\b\b\b\b\b\b\b\b\b\b\b\b\b\b\b\b\b\b\b\b\b\b\b\b\b\b\b\b\b\b\b\b\b\b\b\b\b\b\b\b\b\b\b\b\b\b\b\b\b\b\b\b\b\b\b\b\b\b\b\b\b\b\b\b\b\b\b\b\b\b\b\b\b\b\b\b\b\b\b\b\b\b\b\b\b\b\b\b\b\b\b\b\b\b\b\b\b\b\b\b\b\b\b\b\b\b\b\b\r",
      "8/8 [==============================] - 0s 15ms/step - root_mean_squared_error: 0.9344 - loss: 0.8713 - regularization_loss: 0.1633 - total_loss: 1.0346 - val_root_mean_squared_error: 1.0681 - val_loss: 1.1411 - val_regularization_loss: 0.1594 - val_total_loss: 1.3005\n"
     ]
    },
    {
     "name": "stdout",
     "output_type": "stream",
     "text": [
      "Epoch 32/50\n",
      "\r",
      "1/8 [==>...........................] - ETA: 0s - root_mean_squared_error: 0.9337 - loss: 0.8718 - regularization_loss: 0.1594 - total_loss: 1.0313"
     ]
    },
    {
     "name": "stdout",
     "output_type": "stream",
     "text": [
      "\b\b\b\b\b\b\b\b\b\b\b\b\b\b\b\b\b\b\b\b\b\b\b\b\b\b\b\b\b\b\b\b\b\b\b\b\b\b\b\b\b\b\b\b\b\b\b\b\b\b\b\b\b\b\b\b\b\b\b\b\b\b\b\b\b\b\b\b\b\b\b\b\b\b\b\b\b\b\b\b\b\b\b\b\b\b\b\b\b\b\b\b\b\b\b\b\b\b\b\b\b\b\b\b\b\b\b\b\b\b\b\b\b\b\b\b\b\b\b\b\b\b\b\b\b\b\b\b\b\b\b\b\b\b\b\b\b\b\b\b\b\b\b\b\b\b\r",
      "8/8 [==============================] - 0s 15ms/step - root_mean_squared_error: 0.9304 - loss: 0.8638 - regularization_loss: 0.1540 - total_loss: 1.0178 - val_root_mean_squared_error: 1.0614 - val_loss: 1.1270 - val_regularization_loss: 0.1502 - val_total_loss: 1.2772\n"
     ]
    },
    {
     "name": "stdout",
     "output_type": "stream",
     "text": [
      "Epoch 33/50\n",
      "\r",
      "1/8 [==>...........................] - ETA: 0s - root_mean_squared_error: 0.9309 - loss: 0.8665 - regularization_loss: 0.1502 - total_loss: 1.0168"
     ]
    },
    {
     "name": "stdout",
     "output_type": "stream",
     "text": [
      "\b\b\b\b\b\b\b\b\b\b\b\b\b\b\b\b\b\b\b\b\b\b\b\b\b\b\b\b\b\b\b\b\b\b\b\b\b\b\b\b\b\b\b\b\b\b\b\b\b\b\b\b\b\b\b\b\b\b\b\b\b\b\b\b\b\b\b\b\b\b\b\b\b\b\b\b\b\b\b\b\b\b\b\b\b\b\b\b\b\b\b\b\b\b\b\b\b\b\b\b\b\b\b\b\b\b\b\b\b\b\b\b\b\b\b\b\b\b\b\b\b\b\b\b\b\b\b\b\b\b\b\b\b\b\b\b\b\b\b\b\b\b\b\b\b\b\r",
      "8/8 [==============================] - 0s 17ms/step - root_mean_squared_error: 0.9280 - loss: 0.8592 - regularization_loss: 0.1454 - total_loss: 1.0046 - val_root_mean_squared_error: 1.0568 - val_loss: 1.1173 - val_regularization_loss: 0.1418 - val_total_loss: 1.2592\n"
     ]
    },
    {
     "name": "stdout",
     "output_type": "stream",
     "text": [
      "Epoch 34/50\n",
      "\r",
      "1/8 [==>...........................] - ETA: 0s - root_mean_squared_error: 0.9292 - loss: 0.8634 - regularization_loss: 0.1418 - total_loss: 1.0052"
     ]
    },
    {
     "name": "stdout",
     "output_type": "stream",
     "text": [
      "\b\b\b\b\b\b\b\b\b\b\b\b\b\b\b\b\b\b\b\b\b\b\b\b\b\b\b\b\b\b\b\b\b\b\b\b\b\b\b\b\b\b\b\b\b\b\b\b\b\b\b\b\b\b\b\b\b\b\b\b\b\b\b\b\b\b\b\b\b\b\b\b\b\b\b\b\b\b\b\b\b\b\b\b\b\b\b\b\b\b\b\b\b\b\b\b\b\b\b\b\b\b\b\b\b\b\b\b\b\b\b\b\b\b\b\b\b\b\b\b\b\b\b\b\b\b\b\b\b\b\b\b\b\b\b\b\b\b\b\b\b\b\b\b\b\b\r",
      "8/8 [==============================] - 0s 17ms/step - root_mean_squared_error: 0.9264 - loss: 0.8563 - regularization_loss: 0.1376 - total_loss: 0.9940 - val_root_mean_squared_error: 1.0534 - val_loss: 1.1103 - val_regularization_loss: 0.1342 - val_total_loss: 1.2445\n"
     ]
    },
    {
     "name": "stdout",
     "output_type": "stream",
     "text": [
      "Epoch 35/50\n",
      "\r",
      "1/8 [==>...........................] - ETA: 0s - root_mean_squared_error: 0.9281 - loss: 0.8613 - regularization_loss: 0.1342 - total_loss: 0.9955"
     ]
    },
    {
     "name": "stdout",
     "output_type": "stream",
     "text": [
      "\b\b\b\b\b\b\b\b\b\b\b\b\b\b\b\b\b\b\b\b\b\b\b\b\b\b\b\b\b\b\b\b\b\b\b\b\b\b\b\b\b\b\b\b\b\b\b\b\b\b\b\b\b\b\b\b\b\b\b\b\b\b\b\b\b\b\b\b\b\b\b\b\b\b\b\b\b\b\b\b\b\b\b\b\b\b\b\b\b\b\b\b\b\b\b\b\b\b\b\b\b\b\b\b\b\b\b\b\b\b\b\b\b\b\b\b\b\b\b\b\b\b\b\b\b\b\b\b\b\b\b\b\b\b\b\b\b\b\b\b\b\b\b\b\b\b\r",
      "8/8 [==============================] - 0s 15ms/step - root_mean_squared_error: 0.9254 - loss: 0.8544 - regularization_loss: 0.1305 - total_loss: 0.9849 - val_root_mean_squared_error: 1.0506 - val_loss: 1.1043 - val_regularization_loss: 0.1273 - val_total_loss: 1.2316\n"
     ]
    },
    {
     "name": "stdout",
     "output_type": "stream",
     "text": [
      "Epoch 36/50\n",
      "\r",
      "1/8 [==>...........................] - ETA: 0s - root_mean_squared_error: 0.9273 - loss: 0.8599 - regularization_loss: 0.1273 - total_loss: 0.9871"
     ]
    },
    {
     "name": "stdout",
     "output_type": "stream",
     "text": [
      "\b\b\b\b\b\b\b\b\b\b\b\b\b\b\b\b\b\b\b\b\b\b\b\b\b\b\b\b\b\b\b\b\b\b\b\b\b\b\b\b\b\b\b\b\b\b\b\b\b\b\b\b\b\b\b\b\b\b\b\b\b\b\b\b\b\b\b\b\b\b\b\b\b\b\b\b\b\b\b\b\b\b\b\b\b\b\b\b\b\b\b\b\b\b\b\b\b\b\b\b\b\b\b\b\b\b\b\b\b\b\b\b\b\b\b\b\b\b\b\b\b\b\b\b\b\b\b\b\b\b\b\b\b\b\b\b\b\b\b\b\b\b\b\b\b\b\r",
      "8/8 [==============================] - 0s 15ms/step - root_mean_squared_error: 0.9247 - loss: 0.8530 - regularization_loss: 0.1240 - total_loss: 0.9770 - val_root_mean_squared_error: 1.0477 - val_loss: 1.0984 - val_regularization_loss: 0.1209 - val_total_loss: 1.2193\n"
     ]
    },
    {
     "name": "stdout",
     "output_type": "stream",
     "text": [
      "Epoch 37/50\n",
      "\r",
      "1/8 [==>...........................] - ETA: 0s - root_mean_squared_error: 0.9269 - loss: 0.8591 - regularization_loss: 0.1209 - total_loss: 0.9799"
     ]
    },
    {
     "name": "stdout",
     "output_type": "stream",
     "text": [
      "\b\b\b\b\b\b\b\b\b\b\b\b\b\b\b\b\b\b\b\b\b\b\b\b\b\b\b\b\b\b\b\b\b\b\b\b\b\b\b\b\b\b\b\b\b\b\b\b\b\b\b\b\b\b\b\b\b\b\b\b\b\b\b\b\b\b\b\b\b\b\b\b\b\b\b\b\b\b\b\b\b\b\b\b\b\b\b\b\b\b\b\b\b\b\b\b\b\b\b\b\b\b\b\b\b\b\b\b\b\b\b\b\b\b\b\b\b\b\b\b\b\b\b\b\b\b\b\b\b\b\b\b\b\b\b\b\b\b\b\b\b\b\b\b\b\b\r",
      "8/8 [==============================] - 0s 16ms/step - root_mean_squared_error: 0.9245 - loss: 0.8525 - regularization_loss: 0.1181 - total_loss: 0.9705 - val_root_mean_squared_error: 1.0443 - val_loss: 1.0915 - val_regularization_loss: 0.1150 - val_total_loss: 1.2065\n"
     ]
    },
    {
     "name": "stdout",
     "output_type": "stream",
     "text": [
      "Epoch 38/50\n",
      "\r",
      "1/8 [==>...........................] - ETA: 0s - root_mean_squared_error: 0.9270 - loss: 0.8594 - regularization_loss: 0.1150 - total_loss: 0.9744"
     ]
    },
    {
     "name": "stdout",
     "output_type": "stream",
     "text": [
      "\b\b\b\b\b\b\b\b\b\b\b\b\b\b\b\b\b\b\b\b\b\b\b\b\b\b\b\b\b\b\b\b\b\b\b\b\b\b\b\b\b\b\b\b\b\b\b\b\b\b\b\b\b\b\b\b\b\b\b\b\b\b\b\b\b\b\b\b\b\b\b\b\b\b\b\b\b\b\b\b\b\b\b\b\b\b\b\b\b\b\b\b\b\b\b\b\b\b\b\b\b\b\b\b\b\b\b\b\b\b\b\b\b\b\b\b\b\b\b\b\b\b\b\b\b\b\b\b\b\b\b\b\b\b\b\b\b\b\b\b\b\b\b\b\b\b\r",
      "8/8 [==============================] - 0s 16ms/step - root_mean_squared_error: 0.9251 - loss: 0.8536 - regularization_loss: 0.1126 - total_loss: 0.9663 - val_root_mean_squared_error: 1.0404 - val_loss: 1.0836 - val_regularization_loss: 0.1094 - val_total_loss: 1.1930\n"
     ]
    },
    {
     "name": "stdout",
     "output_type": "stream",
     "text": [
      "Epoch 39/50\n",
      "\r",
      "1/8 [==>...........................] - ETA: 0s - root_mean_squared_error: 0.9286 - loss: 0.8624 - regularization_loss: 0.1094 - total_loss: 0.9718"
     ]
    },
    {
     "name": "stdout",
     "output_type": "stream",
     "text": [
      "\b\b\b\b\b\b\b\b\b\b\b\b\b\b\b\b\b\b\b\b\b\b\b\b\b\b\b\b\b\b\b\b\b\b\b\b\b\b\b\b\b\b\b\b\b\b\b\b\b\b\b\b\b\b\b\b\b\b\b\b\b\b\b\b\b\b\b\b\b\b\b\b\b\b\b\b\b\b\b\b\b\b\b\b\b\b\b\b\b\b\b\b\b\b\b\b\b\b\b\b\b\b\b\b\b\b\b\b\b\b\b\b\b\b\b\b\b\b\b\b\b\b\b\b\b\b\b\b\b\b\b\b\b\b\b\b\b\b\b\b\b\b\b\b\b\b\r",
      "8/8 [==============================] - 0s 15ms/step - root_mean_squared_error: 0.9276 - loss: 0.8583 - regularization_loss: 0.1076 - total_loss: 0.9659 - val_root_mean_squared_error: 1.0370 - val_loss: 1.0769 - val_regularization_loss: 0.1042 - val_total_loss: 1.1811\n"
     ]
    },
    {
     "name": "stdout",
     "output_type": "stream",
     "text": [
      "Epoch 40/50\n",
      "\r",
      "1/8 [==>...........................] - ETA: 0s - root_mean_squared_error: 0.9326 - loss: 0.8698 - regularization_loss: 0.1042 - total_loss: 0.9740"
     ]
    },
    {
     "name": "stdout",
     "output_type": "stream",
     "text": [
      "\b\b\b\b\b\b\b\b\b\b\b\b\b\b\b\b\b\b\b\b\b\b\b\b\b\b\b\b\b\b\b\b\b\b\b\b\b\b\b\b\b\b\b\b\b\b\b\b\b\b\b\b\b\b\b\b\b\b\b\b\b\b\b\b\b\b\b\b\b\b\b\b\b\b\b\b\b\b\b\b\b\b\b\b\b\b\b\b\b\b\b\b\b\b\b\b\b\b\b\b\b\b\b\b\b\b\b\b\b\b\b\b\b\b\b\b\b\b\b\b\b\b\b\b\b\b\b\b\b\b\b\b\b\b\b\b\b\b\b\b\b\b\b\b\b\b\r",
      "8/8 [==============================] - 0s 15ms/step - root_mean_squared_error: 0.9317 - loss: 0.8656 - regularization_loss: 0.1030 - total_loss: 0.9686 - val_root_mean_squared_error: 1.0358 - val_loss: 1.0744 - val_regularization_loss: 0.0995 - val_total_loss: 1.1739\n"
     ]
    },
    {
     "name": "stdout",
     "output_type": "stream",
     "text": [
      "Epoch 41/50\n",
      "\r",
      "1/8 [==>...........................] - ETA: 0s - root_mean_squared_error: 0.9359 - loss: 0.8760 - regularization_loss: 0.0995 - total_loss: 0.9755"
     ]
    },
    {
     "name": "stdout",
     "output_type": "stream",
     "text": [
      "\b\b\b\b\b\b\b\b\b\b\b\b\b\b\b\b\b\b\b\b\b\b\b\b\b\b\b\b\b\b\b\b\b\b\b\b\b\b\b\b\b\b\b\b\b\b\b\b\b\b\b\b\b\b\b\b\b\b\b\b\b\b\b\b\b\b\b\b\b\b\b\b\b\b\b\b\b\b\b\b\b\b\b\b\b\b\b\b\b\b\b\b\b\b\b\b\b\b\b\b\b\b\b\b\b\b\b\b\b\b\b\b\b\b\b\b\b\b\b\b\b\b\b\b\b\b\b\b\b\b\b\b\b\b\b\b\b\b\b\b\b\b\b\b\b\b\r",
      "8/8 [==============================] - 0s 16ms/step - root_mean_squared_error: 0.9324 - loss: 0.8663 - regularization_loss: 0.0987 - total_loss: 0.9650 - val_root_mean_squared_error: 1.0361 - val_loss: 1.0752 - val_regularization_loss: 0.0956 - val_total_loss: 1.1708\n"
     ]
    },
    {
     "name": "stdout",
     "output_type": "stream",
     "text": [
      "Epoch 42/50\n",
      "\r",
      "1/8 [==>...........................] - ETA: 0s - root_mean_squared_error: 0.9331 - loss: 0.8707 - regularization_loss: 0.0956 - total_loss: 0.9663"
     ]
    },
    {
     "name": "stdout",
     "output_type": "stream",
     "text": [
      "\b\b\b\b\b\b\b\b\b\b\b\b\b\b\b\b\b\b\b\b\b\b\b\b\b\b\b\b\b\b\b\b\b\b\b\b\b\b\b\b\b\b\b\b\b\b\b\b\b\b\b\b\b\b\b\b\b\b\b\b\b\b\b\b\b\b\b\b\b\b\b\b\b\b\b\b\b\b\b\b\b\b\b\b\b\b\b\b\b\b\b\b\b\b\b\b\b\b\b\b\b\b\b\b\b\b\b\b\b\b\b\b\b\b\b\b\b\b\b\b\b\b\b\b\b\b\b\b\b\b\b\b\b\b\b\b\b\b\b\b\b\b\b\b\b\b\r",
      "8/8 [==============================] - 0s 15ms/step - root_mean_squared_error: 0.9283 - loss: 0.8587 - regularization_loss: 0.0949 - total_loss: 0.9536 - val_root_mean_squared_error: 1.0382 - val_loss: 1.0794 - val_regularization_loss: 0.0924 - val_total_loss: 1.1719\n"
     ]
    },
    {
     "name": "stdout",
     "output_type": "stream",
     "text": [
      "Epoch 43/50\n",
      "\r",
      "1/8 [==>...........................] - ETA: 0s - root_mean_squared_error: 0.9284 - loss: 0.8619 - regularization_loss: 0.0924 - total_loss: 0.9543"
     ]
    },
    {
     "name": "stdout",
     "output_type": "stream",
     "text": [
      "\b\b\b\b\b\b\b\b\b\b\b\b\b\b\b\b\b\b\b\b\b\b\b\b\b\b\b\b\b\b\b\b\b\b\b\b\b\b\b\b\b\b\b\b\b\b\b\b\b\b\b\b\b\b\b\b\b\b\b\b\b\b\b\b\b\b\b\b\b\b\b\b\b\b\b\b\b\b\b\b\b\b\b\b\b\b\b\b\b\b\b\b\b\b\b\b\b\b\b\b\b\b\b\b\b\b\b\b\b\b\b\b\b\b\b\b\b\b\b\b\b\b\b\b\b\b\b\b\b\b\b\b\b\b\b\b\b\b\b\b\b\b\b\b\b\b\r",
      "8/8 [==============================] - 0s 40ms/step - root_mean_squared_error: 0.9242 - loss: 0.8516 - regularization_loss: 0.0915 - total_loss: 0.9431 - val_root_mean_squared_error: 1.0409 - val_loss: 1.0850 - val_regularization_loss: 0.0895 - val_total_loss: 1.1746\n"
     ]
    },
    {
     "name": "stdout",
     "output_type": "stream",
     "text": [
      "Epoch 44/50\n",
      "\r",
      "1/8 [==>...........................] - ETA: 0s - root_mean_squared_error: 0.9254 - loss: 0.8564 - regularization_loss: 0.0895 - total_loss: 0.9460"
     ]
    },
    {
     "name": "stdout",
     "output_type": "stream",
     "text": [
      "\b\b\b\b\b\b\b\b\b\b\b\b\b\b\b\b\b\b\b\b\b\b\b\b\b\b\b\b\b\b\b\b\b\b\b\b\b\b\b\b\b\b\b\b\b\b\b\b\b\b\b\b\b\b\b\b\b\b\b\b\b\b\b\b\b\b\b\b\b\b\b\b\b\b\b\b\b\b\b\b\b\b\b\b\b\b\b\b\b\b\b\b\b\b\b\b\b\b\b\b\b\b\b\b\b\b\b\b\b\b\b\b\b\b\b\b\b\b\b\b\b\b\b\b\b\b\b\b\b\b\b\b\b\b\b\b\b\b\b\b\b\b\b\b\b\b\r",
      "8/8 [==============================] - 0s 15ms/step - root_mean_squared_error: 0.9219 - loss: 0.8476 - regularization_loss: 0.0884 - total_loss: 0.9360 - val_root_mean_squared_error: 1.0432 - val_loss: 1.0898 - val_regularization_loss: 0.0868 - val_total_loss: 1.1766\n"
     ]
    },
    {
     "name": "stdout",
     "output_type": "stream",
     "text": [
      "Epoch 45/50\n",
      "\r",
      "1/8 [==>...........................] - ETA: 0s - root_mean_squared_error: 0.9239 - loss: 0.8536 - regularization_loss: 0.0868 - total_loss: 0.9404"
     ]
    },
    {
     "name": "stdout",
     "output_type": "stream",
     "text": [
      "\b\b\b\b\b\b\b\b\b\b\b\b\b\b\b\b\b\b\b\b\b\b\b\b\b\b\b\b\b\b\b\b\b\b\b\b\b\b\b\b\b\b\b\b\b\b\b\b\b\b\b\b\b\b\b\b\b\b\b\b\b\b\b\b\b\b\b\b\b\b\b\b\b\b\b\b\b\b\b\b\b\b\b\b\b\b\b\b\b\b\b\b\b\b\b\b\b\b\b\b\b\b\b\b\b\b\b\b\b\b\b\b\b\b\b\b\b\b\b\b\b\b\b\b\b\b\b\b\b\b\b\b\b\b\b\b\b\b\b\b\b\b\b\b\b\b\r",
      "8/8 [==============================] - 0s 15ms/step - root_mean_squared_error: 0.9207 - loss: 0.8454 - regularization_loss: 0.0856 - total_loss: 0.9310 - val_root_mean_squared_error: 1.0449 - val_loss: 1.0933 - val_regularization_loss: 0.0842 - val_total_loss: 1.1775\n"
     ]
    },
    {
     "name": "stdout",
     "output_type": "stream",
     "text": [
      "Epoch 46/50\n",
      "\r",
      "1/8 [==>...........................] - ETA: 0s - root_mean_squared_error: 0.9231 - loss: 0.8521 - regularization_loss: 0.0842 - total_loss: 0.9363"
     ]
    },
    {
     "name": "stdout",
     "output_type": "stream",
     "text": [
      "\b\b\b\b\b\b\b\b\b\b\b\b\b\b\b\b\b\b\b\b\b\b\b\b\b\b\b\b\b\b\b\b\b\b\b\b\b\b\b\b\b\b\b\b\b\b\b\b\b\b\b\b\b\b\b\b\b\b\b\b\b\b\b\b\b\b\b\b\b\b\b\b\b\b\b\b\b\b\b\b\b\b\b\b\b\b\b\b\b\b\b\b\b\b\b\b\b\b\b\b\b\b\b\b\b\b\b\b\b\b\b\b\b\b\b\b\b\b\b\b\b\b\b\b\b\b\b\b\b\b\b\b\b\b\b\b\b\b\b\b\b\b\b\b\b\b\r",
      "8/8 [==============================] - 0s 15ms/step - root_mean_squared_error: 0.9199 - loss: 0.8441 - regularization_loss: 0.0829 - total_loss: 0.9271 - val_root_mean_squared_error: 1.0461 - val_loss: 1.0959 - val_regularization_loss: 0.0818 - val_total_loss: 1.1776\n"
     ]
    },
    {
     "name": "stdout",
     "output_type": "stream",
     "text": [
      "Epoch 47/50\n",
      "\r",
      "1/8 [==>...........................] - ETA: 0s - root_mean_squared_error: 0.9225 - loss: 0.8510 - regularization_loss: 0.0818 - total_loss: 0.9328"
     ]
    },
    {
     "name": "stdout",
     "output_type": "stream",
     "text": [
      "\b\b\b\b\b\b\b\b\b\b\b\b\b\b\b\b\b\b\b\b\b\b\b\b\b\b\b\b\b\b\b\b\b\b\b\b\b\b\b\b\b\b\b\b\b\b\b\b\b\b\b\b\b\b\b\b\b\b\b\b\b\b\b\b\b\b\b\b\b\b\b\b\b\b\b\b\b\b\b\b\b\b\b\b\b\b\b\b\b\b\b\b\b\b\b\b\b\b\b\b\b\b\b\b\b\b\b\b\b\b\b\b\b\b\b\b\b\b\b\b\b\b\b\b\b\b\b\b\b\b\b\b\b\b\b\b\b\b\b\b\b\b\b\b\b\b\r",
      "8/8 [==============================] - 0s 15ms/step - root_mean_squared_error: 0.9194 - loss: 0.8432 - regularization_loss: 0.0805 - total_loss: 0.9237 - val_root_mean_squared_error: 1.0471 - val_loss: 1.0979 - val_regularization_loss: 0.0795 - val_total_loss: 1.1774\n"
     ]
    },
    {
     "name": "stdout",
     "output_type": "stream",
     "text": [
      "Epoch 48/50\n",
      "\r",
      "1/8 [==>...........................] - ETA: 0s - root_mean_squared_error: 0.9221 - loss: 0.8503 - regularization_loss: 0.0795 - total_loss: 0.9298"
     ]
    },
    {
     "name": "stdout",
     "output_type": "stream",
     "text": [
      "\b\b\b\b\b\b\b\b\b\b\b\b\b\b\b\b\b\b\b\b\b\b\b\b\b\b\b\b\b\b\b\b\b\b\b\b\b\b\b\b\b\b\b\b\b\b\b\b\b\b\b\b\b\b\b\b\b\b\b\b\b\b\b\b\b\b\b\b\b\b\b\b\b\b\b\b\b\b\b\b\b\b\b\b\b\b\b\b\b\b\b\b\b\b\b\b\b\b\b\b\b\b\b\b\b\b\b\b\b\b\b\b\b\b\b\b\b\b\b\b\b\b\b\b\b\b\b\b\b\b\b\b\b\b\b\b\b\b\b\b\b\b\b\b\b\b\r",
      "8/8 [==============================] - 0s 16ms/step - root_mean_squared_error: 0.9190 - loss: 0.8425 - regularization_loss: 0.0783 - total_loss: 0.9207 - val_root_mean_squared_error: 1.0479 - val_loss: 1.0996 - val_regularization_loss: 0.0774 - val_total_loss: 1.1770\n"
     ]
    },
    {
     "name": "stdout",
     "output_type": "stream",
     "text": [
      "Epoch 49/50\n",
      "\r",
      "1/8 [==>...........................] - ETA: 0s - root_mean_squared_error: 0.9217 - loss: 0.8496 - regularization_loss: 0.0774 - total_loss: 0.9270"
     ]
    },
    {
     "name": "stdout",
     "output_type": "stream",
     "text": [
      "\b\b\b\b\b\b\b\b\b\b\b\b\b\b\b\b\b\b\b\b\b\b\b\b\b\b\b\b\b\b\b\b\b\b\b\b\b\b\b\b\b\b\b\b\b\b\b\b\b\b\b\b\b\b\b\b\b\b\b\b\b\b\b\b\b\b\b\b\b\b\b\b\b\b\b\b\b\b\b\b\b\b\b\b\b\b\b\b\b\b\b\b\b\b\b\b\b\b\b\b\b\b\b\b\b\b\b\b\b\b\b\b\b\b\b\b\b\b\b\b\b\b\b\b\b\b\b\b\b\b\b\b\b\b\b\b\b\b\b\b\b\b\b\b\b\b\r",
      "8/8 [==============================] - 0s 15ms/step - root_mean_squared_error: 0.9186 - loss: 0.8419 - regularization_loss: 0.0762 - total_loss: 0.9181 - val_root_mean_squared_error: 1.0488 - val_loss: 1.1015 - val_regularization_loss: 0.0755 - val_total_loss: 1.1770\n"
     ]
    },
    {
     "name": "stdout",
     "output_type": "stream",
     "text": [
      "Epoch 50/50\n",
      "\r",
      "1/8 [==>...........................] - ETA: 0s - root_mean_squared_error: 0.9215 - loss: 0.8491 - regularization_loss: 0.0755 - total_loss: 0.9246"
     ]
    },
    {
     "name": "stdout",
     "output_type": "stream",
     "text": [
      "\b\b\b\b\b\b\b\b\b\b\b\b\b\b\b\b\b\b\b\b\b\b\b\b\b\b\b\b\b\b\b\b\b\b\b\b\b\b\b\b\b\b\b\b\b\b\b\b\b\b\b\b\b\b\b\b\b\b\b\b\b\b\b\b\b\b\b\b\b\b\b\b\b\b\b\b\b\b\b\b\b\b\b\b\b\b\b\b\b\b\b\b\b\b\b\b\b\b\b\b\b\b\b\b\b\b\b\b\b\b\b\b\b\b\b\b\b\b\b\b\b\b\b\b\b\b\b\b\b\b\b\b\b\b\b\b\b\b\b\b\b\b\b\b\b\b\r",
      "8/8 [==============================] - 0s 16ms/step - root_mean_squared_error: 0.9184 - loss: 0.8414 - regularization_loss: 0.0743 - total_loss: 0.9157 - val_root_mean_squared_error: 1.0500 - val_loss: 1.1039 - val_regularization_loss: 0.0737 - val_total_loss: 1.1777\n"
     ]
    }
   ],
   "source": [
    "model_tr = MovielensModelTunedRanking()\n",
    "model_tr.compile(optimizer=tf.keras.optimizers.Adagrad(learning_rate=0.1))\n",
    "history_tr = model_tr.fit(cached_train, epochs=50, validation_data=cached_validation)"
   ]
  },
  {
   "cell_type": "code",
   "execution_count": null,
   "metadata": {
    "colab": {
     "base_uri": "https://localhost:8080/"
    },
    "gradient": {
     "editing": false
    },
    "id": "3GrSMwIYNAl7",
    "outputId": "bdb1cc54-d0ba-4aad-d4f2-4bd8fdb433f8"
   },
   "outputs": [
    {
     "name": "stdout",
     "output_type": "stream",
     "text": [
      "Root mean squared error in user rating from training: 0.92\n",
      "Root mean squared error in user rating from validation: 1.05\n"
     ]
    }
   ],
   "source": [
    "rmse_tr = history_tr.history['root_mean_squared_error'][-1]\n",
    "print(f'Root mean squared error in user rating from training: {rmse_tr:.2f}')\n",
    "\n",
    "val_rmse_tr = history_tr.history['val_root_mean_squared_error'][-1]\n",
    "print(f'Root mean squared error in user rating from validation: {val_rmse_tr:.2f}')"
   ]
  },
  {
   "cell_type": "code",
   "execution_count": null,
   "metadata": {
    "gradient": {
     "editing": false
    },
    "id": "WG0EsFs3NRx1"
   },
   "outputs": [],
   "source": [
    "num_validation_runs = len(history_tr.history['root_mean_squared_error'])\n",
    "validation_freq = 1\n",
    "epochs_x = [(x + 1) * validation_freq for x in range(num_validation_runs)]"
   ]
  },
  {
   "cell_type": "code",
   "execution_count": null,
   "metadata": {
    "colab": {
     "base_uri": "https://localhost:8080/",
     "height": 308
    },
    "gradient": {
     "editing": false
    },
    "id": "Wmi3EAi3NYrM",
    "outputId": "0825f5e6-f49a-4513-abad-b493e5da70d5"
   },
   "outputs": [
    {
     "data": {
      "text/plain": [
       "<matplotlib.legend.Legend at 0x7ff92c516da0>"
      ]
     },
     "execution_count": 51,
     "metadata": {},
     "output_type": "execute_result"
    },
    {
     "data": {
      "image/png": "[encoded data removed]",
      "text/plain": [
       "<Figure size 432x288 with 1 Axes>"
      ]
     },
     "metadata": {},
     "output_type": "display_data",
     "transient": {}
    }
   ],
   "source": [
    "plt.plot(epochs_x, history_tr.history['root_mean_squared_error'], label='Training')\n",
    "plt.plot(epochs_x, history_tr.history['val_root_mean_squared_error'], label='Validation')\n",
    "plt.title('Root mean squared error in user rating vs. training epoch')\n",
    "plt.xlabel('Training epoch')\n",
    "plt.ylabel('Root mean squared error in user rating')\n",
    "plt.legend()"
   ]
  },
  {
   "cell_type": "markdown",
   "metadata": {
    "gradient": {
     "editing": false
    },
    "id": "QdiaiJ38IdwD"
   },
   "source": [
    "As mentioned, this is a very basic hyperparameter tuning. Some obvious improvements to this use of a grid for tuning include:\n",
    "\n",
    "- Use a larger grid of learning rates (log + linear fine-tuning)\n",
    "- More epochs in model.fit(): 100s, not 30 or 50\n",
    "- Use `keras.tuner` and/or TensorFlow callbacks to retain the best model, and retrain it with both the training and validation data once found\n",
    "- Use callbacks to stop training when the improvement rate drops below a threshold (early stopping), instead of training for a fixed number of epochs\n",
    "- Tune layer size or number of layers, as in [the TFRS multitask tutorial](https://www.tensorflow.org/recommenders/examples/multitask)\n",
    "- Tune the L2 regularization factor, currently set to the default 0.01\n",
    "- The [regularizer](https://www.tensorflow.org/tutorials/keras/overfit_and_underfit#strategies_to_prevent_overfitting) can be dropout as well as L2 (aka. weight decay), or it can be both\n",
    "- Tune embedding size (vary the number of dimensions from 32 and the number of  categories that can be fit: more is better unless it causes overfitting or too-slow training)\n",
    "- Optimizers other than Adagrad, e.g., SGD, RMSprop, Adam, Nadam\n",
    "- Activation functions other than ReLU, e.g., SELU with LecunNormal weight initialization\n",
    "- Keras tuner or [TensorBoard HParams](https://www.tensorflow.org/tensorboard/hyperparameter_tuning_with_hparams) for multi-parameter search, or smart search. The I/O would need to match the recommender model, but often smart search will find better hyperparameter sets then manual tuning, even by experts\n",
    "- Add [other metrics](https://www.tensorflow.org/guide/effective_tf2#tfmetrics_aggregates_data_and_tfsummary_logs_them) besides RMSE to the plotted tuning history\n",
    "\n",
    "One thing that is clear from the above code, however, is that managing and plotting much more extensive tuning from a single notebook can quickly become unwieldy, error-prone, and hard to reproduce due to the combinatorial explosion of parameters and their differing types and amounts. So the desirability of eking out further model performance needs to be balanced against this.\n",
    "\n",
    "There are various further improvements beyond tuning that should therefore also be considered - see the appendix."
   ]
  },
  {
   "cell_type": "markdown",
   "metadata": {
    "gradient": {
     "editing": false
    },
    "id": "Q6X66dBfK-5o"
   },
   "source": [
    "As in previous sections, we can see a summary of the final model architecture."
   ]
  },
  {
   "cell_type": "code",
   "execution_count": null,
   "metadata": {
    "colab": {
     "base_uri": "https://localhost:8080/"
    },
    "gradient": {
     "editing": false
    },
    "id": "mfS8RD5aQK8M",
    "outputId": "756dc9ae-d628-445b-b222-57f7e96da255"
   },
   "outputs": [
    {
     "name": "stdout",
     "output_type": "stream",
     "text": [
      "Model: \"movielens_model_tuned_ranking_7\"\n",
      "_________________________________________________________________\n",
      "Layer (type)                 Output Shape              Param #   \n",
      "=================================================================\n",
      "sequential_24 (Sequential)   (None, 32)                53280     \n",
      "_________________________________________________________________\n",
      "sequential_25 (Sequential)   (None, 32)                30208     \n",
      "_________________________________________________________________\n",
      "sequential_26 (Sequential)   (None, 1)                 33153     \n",
      "_________________________________________________________________\n",
      "ranking_8 (Ranking)          multiple                  2         \n",
      "=================================================================\n",
      "Total params: 116,643\n",
      "Trainable params: 116,641\n",
      "Non-trainable params: 2\n",
      "_________________________________________________________________\n"
     ]
    }
   ],
   "source": [
    "model_tr.summary()"
   ]
  },
  {
   "cell_type": "markdown",
   "metadata": {
    "gradient": {
     "editing": false
    },
    "id": "0YzUHtmUWcKB"
   },
   "source": [
    "As with the basic model, the performance of the model on the unseen testing data is similar to the validation performance, at about RMSE ~ 1."
   ]
  },
  {
   "cell_type": "code",
   "execution_count": null,
   "metadata": {
    "colab": {
     "base_uri": "https://localhost:8080/"
    },
    "gradient": {
     "editing": false
    },
    "id": "9hw7_atTIUul",
    "outputId": "f992c83a-ef5d-4215-a5dc-58210995158c"
   },
   "outputs": [
    {
     "name": "stdout",
     "output_type": "stream",
     "text": [
      "\r",
      "      1/Unknown - 0s 42ms/step - root_mean_squared_error: 1.0268 - loss: 1.0542 - regularization_loss: 0.0737 - total_loss: 1.1280"
     ]
    },
    {
     "name": "stdout",
     "output_type": "stream",
     "text": [
      "\b\b\b\b\b\b\b\b\b\b\b\b\b\b\b\b\b\b\b\b\b\b\b\b\b\b\b\b\b\b\b\b\b\b\b\b\b\b\b\b\b\b\b\b\b\b\b\b\b\b\b\b\b\b\b\b\b\b\b\b\b\b\b\b\b\b\b\b\b\b\b\b\b\b\b\b\b\b\b\b\b\b\b\b\b\b\b\b\b\b\b\b\b\b\b\b\b\b\b\b\b\b\b\b\b\b\b\b\b\b\b\b\b\b\b\b\b\b\b\b\b\b\b\b\b\b\b\b\b\b\r",
      "5/5 [==============================] - 0s 4ms/step - root_mean_squared_error: 1.0381 - loss: 1.0727 - regularization_loss: 0.0737 - total_loss: 1.1464\n"
     ]
    }
   ],
   "source": [
    "eval_tr = model_tr.evaluate(cached_test, return_dict=True)"
   ]
  },
  {
   "cell_type": "code",
   "execution_count": null,
   "metadata": {
    "colab": {
     "base_uri": "https://localhost:8080/"
    },
    "gradient": {
     "editing": false
    },
    "id": "8M151XaeN3PU",
    "outputId": "71b14698-3b31-4c8a-9778-0ec80dbed269"
   },
   "outputs": [
    {
     "name": "stdout",
     "output_type": "stream",
     "text": [
      "Root mean squared error in user rating from evaluation: 1.04\n"
     ]
    }
   ],
   "source": [
    "rmse_eval_tr = eval_tr['root_mean_squared_error']\n",
    "print(f'Root mean squared error in user rating from evaluation: {rmse_eval_tr:.2f}')"
   ]
  },
  {
   "cell_type": "markdown",
   "metadata": {
    "gradient": {
     "editing": false
    },
    "id": "5m5kalp0IdiT"
   },
   "source": [
    "And as above, new data can now be sent to the model."
   ]
  },
  {
   "cell_type": "code",
   "execution_count": null,
   "metadata": {
    "colab": {
     "base_uri": "https://localhost:8080/"
    },
    "gradient": {
     "editing": false
    },
    "id": "NFlR-80oPCwE",
    "outputId": "06095776-9182-40dc-f069-a45140fc8f1b"
   },
   "outputs": [
    {
     "data": {
      "text/plain": [
       "(array([[-0.03780267,  0.0110561 , -0.02624047, ..., -0.034279  ,\n",
       "         -0.03664561, -0.03487369],\n",
       "        [ 0.02801785,  0.04430009,  0.04945034, ..., -0.00043527,\n",
       "         -0.0023489 , -0.00183424],\n",
       "        [-0.03611989,  0.03984747,  0.0129295 , ...,  0.02681288,\n",
       "         -0.02965788, -0.04254979],\n",
       "        ...,\n",
       "        [ 0.02801785,  0.04430009,  0.04945034, ..., -0.00043527,\n",
       "         -0.0023489 , -0.00183424],\n",
       "        [ 0.0233722 ,  0.01124837,  0.01599262, ..., -0.0243152 ,\n",
       "         -0.04175081,  0.03325957],\n",
       "        [ 0.01780618, -0.02333319,  0.03064336, ..., -0.02139044,\n",
       "         -0.04799312,  0.0316886 ]], dtype=float32),\n",
       " array([[ 1.5916964e-02,  4.4006154e-02,  4.6226218e-02, ...,\n",
       "         -4.4332989e-02,  4.5502849e-02,  1.7338669e-02],\n",
       "        [-7.0338068e-03, -7.5967284e-03,  1.8465990e-02, ...,\n",
       "          2.0444036e-02,  2.5354004e-02, -3.4556672e-02],\n",
       "        [ 1.1776533e-02, -2.8512653e-02,  4.1702483e-02, ...,\n",
       "          2.9224301e-02, -6.0246043e-02, -4.5748863e-02],\n",
       "        ...,\n",
       "        [-3.1806614e-02,  4.9840480e-02,  5.4188939e-03, ...,\n",
       "         -3.8876742e-02, -1.5302649e-02,  3.4555767e-02],\n",
       "        [-8.9745135e-06,  3.0827470e-02, -1.9438207e-02, ...,\n",
       "         -2.9478353e-02,  1.9003116e-02,  1.7336417e-02],\n",
       "        [-2.7111823e-02,  1.2876371e-02, -2.6818760e-02, ...,\n",
       "          5.1291142e-02,  9.3573332e-03, -7.8452423e-02]], dtype=float32),\n",
       " array([[2.7567418],\n",
       "        [3.555859 ],\n",
       "        [3.8108017],\n",
       "        ...,\n",
       "        [3.665618 ],\n",
       "        [3.4322016],\n",
       "        [4.2200418]], dtype=float32))"
      ]
     },
     "execution_count": 55,
     "metadata": {},
     "output_type": "execute_result"
    }
   ],
   "source": [
    "# Again returns the embeddings and predicted ratings\n",
    "model_tr.predict(cached_test)"
   ]
  },
  {
   "cell_type": "markdown",
   "metadata": {
    "gradient": {
     "editing": false
    }
   },
   "source": [
    "### 4.3: Model as Gradient Workflow\n",
    "\n",
    "**This section requires the user to input their settings - see below.**  \n",
    "**Gradient Workflows is still a maturing product and it is expected that all of the setup steps currently given here will disappear in time.**\n",
    "\n",
    "Having completed creating and training the models in our notebook here, in principle we have a model that can be deployed into production.\n",
    "\n",
    "What can be seen from the above, however, is that even though we only trained 3 models - the wide grid, narrow grid, and final, already the notebook is quite long, and there are quite a few loops and things to keep track of. Adding further models, data preparation, feature engineering, etc., will quickly result in this getting out of hand, with too many things to keep track of. Considering that a typical real project might have 100s of models, when we get to that scale, a more rigorous way of working is indicated.\n",
    "\n",
    "There are good reasons to start with a notebook, which is why we have done so here, but when a project gets large, we can switch from Gradient's Notebook way of working to its Workflows. This does, however, require more setup and structure than a notebook.\n",
    "\n",
    "This section shows an example of a Workflow, where we put the code we need into a script, and instead of training the model from the notebook, we run that. Our script is `workflow_train_model.py`, and we show training the final model from section 4.2 above. The code is a subset of the notebook, with a few minor changes for lines that work in cells but not a .py (or vice versa), for example, `!pip install -q tensorflow-recommenders==0.4.0` becomes `subprocess.run('pip install -q tensorflow-recommenders==0.4.0', shell=True, check=True, stdout=subprocess.PIPE, universal_newlines=True)`. Another example would be `%` or `%%` line and cell magics.\n",
    "\n",
    "Since they run via script and parameter files (YAML), Workflows can be used without requiring a notebook at all. Here, to preserve continuity and keep the project within one end-to-end setting, we call the Workflow from the notebook. This involves setting up access to it and calling the YAML file with the settings, which in turn calls `workflow_train_model.py`.\n",
    "\n",
    "Aside from the advantages or organization, reproducibility, etc., Gradient also allows the setup to be straightforwardly extended to using GPU instead of CPU, by choosing a GPU instance, and using multiple machines instead of a single machine, by using multinode instead of single node. Since Gradient can use the Paperspace infrastructure, the user does not need to set up their own GPUs or be an expert in distributed computing to access this power."
   ]
  },
  {
   "cell_type": "markdown",
   "metadata": {
    "gradient": {
     "editing": false
    }
   },
   "source": [
    "#### Workflow setup\n",
    "\n",
    "To run the Workflow requires the user to supply the following settings:\n",
    "\n",
    " - `api_key` = API key to access Gradient. This is part of setting up one's user account\n",
    " - `cluster_id` = Currently Workflows require a Gradient Private cluster, whose ID is given here\n",
    " - `workflow_train_id` = Currently Workflows need to be created in the GUI or CLI\n",
    " - `workflow_deploy_id` = Similarly for deployment Workflow in section 5\n",
    " \n",
    "To obtain these, do\n",
    "\n",
    " - [Create a project](https://docs.paperspace.com/gradient/get-started/managing-projects#create-a-project) and optionally [get its ID](https://docs.paperspace.com/gradient/get-started/managing-projects#get-your-projects-id)\n",
    " - [Generate an API key](https://docs.paperspace.com/gradient/get-started/quick-start/install-the-cli#obtaining-an-api-key) for your project to allow access\n",
    " - Use or create a [Gradient Private cluster](https://docs.paperspace.com/gradient/gradient-private-cloud/about/setup/managed-installation) and [its ID](https://docs.paperspace.com/gradient/gradient-private-cloud/about/usage#finding-your-cluster-id)\n",
    " - [Create the two workflows](https://docs.paperspace.com/gradient/explore-train-deploy/workflows/getting-started-with-workflows#creating-gradient-workflows) via CLI or GUI and [get their IDs](https://docs.paperspace.com/gradient/explore-train-deploy/workflows/getting-started-with-workflows#running-your-first-workflow-run)\n",
    "\n",
    "In the YAML files, the IDs of the output datasets need to be supplied:\n",
    "\n",
    " - [Create output datasets](https://docs.paperspace.com/gradient/data/data-overview/private-datasets-repository#creating-a-dataset-and-dataset-version) for the two workflows\n",
    " - [Import a placeholder file](https://docs.paperspace.com/gradient/data/data-overview/private-datasets-repository#creating-a-dataset-and-dataset-version) into each created output dataset\n",
    " - Add the IDs to workflow-train-model.yaml and workflow-deploy-model.yaml as indicated in those files\n",
    "\n",
    "As the product matures, it is expected that all of these manual steps will disappear. Some steps such as API key generation are also doable via the [command line interface](https://docs.paperspace.com/gradient/get-started/install-the-cli)."
   ]
  },
  {
   "cell_type": "markdown",
   "metadata": {
    "gradient": {
     "editing": false
    }
   },
   "source": [
    "When all is set up, add your settings to the next cell, then run it.\n",
    "\n",
    "They will look similar to this:\n",
    "\n",
    "`api_key = '0123456789abcdef0123456789abcd'\n",
    "cluster_id = 'cdefghijk'\n",
    "workflow_id_train = '6789abcd-01ef-23gh-45ij-678901klmnop'\n",
    "workflow_id_deploy = '6789abcd-01ef-23gh-45ij-678901klmnoq'`"
   ]
  },
  {
   "cell_type": "code",
   "execution_count": null,
   "metadata": {
    "gradient": {
     "editing": false
    }
   },
   "outputs": [],
   "source": [
    "# TODO: These are my settings; remove from public notebook\n",
    "# TODO: Use syntax to access API key as Gradient secret not text file when supported\n",
    "\n",
    "#cluster_id = 'clcrk7tev' # Gradient private cluster\n",
    "#workflow_id_train = 'a7f36ba3-811c-4de2-851f-df2b6dfea4fb' # Created workflows in GUI/CLI\n",
    "#workflow_id_deploy = '1e824fbd-1b0f-4b9d-902b-362a4315c06a'\n",
    "\n",
    "workflow_id_train = '6c325f57-9979-402e-8560-fe09951990cc' # Created workflows in GUI/CLI\n",
    "workflow_id_deploy = '1f116f34-388e-4e47-8f47-570cd2218795'"
   ]
  },
  {
   "cell_type": "markdown",
   "metadata": {
    "gradient": {
     "editing": false
    }
   },
   "source": [
    "The API key could also be given here as a string, but since it is a credential that allows access to the system for you as a user, it is better to not do so. Gradient will in future support accessing its Secrets from the Notebook via the SDK. For now, we can read the key, supplied by the user, from a file."
   ]
  },
  {
   "cell_type": "code",
   "execution_count": null,
   "metadata": {
    "gradient": {
     "editing": false
    }
   },
   "outputs": [],
   "source": [
    "file = './key.txt'\n",
    "\n",
    "with open(file) as f:\n",
    "    out = f.readlines()\n",
    "\n",
    "api_key = ''.join(out).strip('\\n')"
   ]
  },
  {
   "cell_type": "markdown",
   "metadata": {
    "gradient": {
     "editing": false
    }
   },
   "source": [
    "#### Access Gradient\n",
    "Aside from its graphical interface (GUI), Gradient has command line and SDK interfaces that allow interaction to achieve most of the same things that can be done with the GUI. The lines here set up access to the SDK.\n",
    "\n",
    "Here, we install the Gradient SDK using pip. If you are running the notebook on your own machine rather than the Gradient Notebook, then this will also work."
   ]
  },
  {
   "cell_type": "code",
   "execution_count": null,
   "metadata": {
    "gradient": {
     "editing": false
    },
    "scrolled": true
   },
   "outputs": [
    {
     "name": "stdout",
     "output_type": "stream",
     "text": [
      "/usr/lib/python3/dist-packages/secretstorage/dhcrypto.py:15: CryptographyDeprecationWarning: int_from_bytes is deprecated, use int.from_bytes instead\r\n",
      "  from cryptography.utils import int_from_bytes\r\n",
      "/usr/lib/python3/dist-packages/secretstorage/util.py:19: CryptographyDeprecationWarning: int_from_bytes is deprecated, use int.from_bytes instead\r\n",
      "  from cryptography.utils import int_from_bytes\r\n"
     ]
    },
    {
     "name": "stdout",
     "output_type": "stream",
     "text": [
      "Requirement already satisfied: gradient in /usr/local/lib/python3.6/dist-packages (1.7.1)\r\n"
     ]
    },
    {
     "name": "stdout",
     "output_type": "stream",
     "text": [
      "Requirement already satisfied: click-didyoumean in /usr/local/lib/python3.6/dist-packages (from gradient) (0.0.3)\r\n",
      "Requirement already satisfied: click-completion in /usr/local/lib/python3.6/dist-packages (from gradient) (0.5.2)\r\n",
      "Requirement already satisfied: colorama==0.4.3 in /usr/local/lib/python3.6/dist-packages (from gradient) (0.4.3)\r\n",
      "Requirement already satisfied: gradient-utils>=0.1.2 in /usr/local/lib/python3.6/dist-packages (from gradient) (0.3.2)\r\n",
      "Requirement already satisfied: six in /usr/local/lib/python3.6/dist-packages (from gradient) (1.15.0)\r\n",
      "Requirement already satisfied: click-help-colors in /usr/local/lib/python3.6/dist-packages (from gradient) (0.9.1)\r\n",
      "Requirement already satisfied: terminaltables in /usr/local/lib/python3.6/dist-packages (from gradient) (3.1.0)\r\n",
      "Requirement already satisfied: marshmallow<3.0 in /usr/local/lib/python3.6/dist-packages (from gradient) (2.21.0)\r\n",
      "Requirement already satisfied: websocket-client==0.57.* in /usr/local/lib/python3.6/dist-packages (from gradient) (0.57.0)\r\n",
      "Requirement already satisfied: requests[security] in /usr/local/lib/python3.6/dist-packages (from gradient) (2.25.1)\r\n",
      "Requirement already satisfied: progressbar2 in /usr/local/lib/python3.6/dist-packages (from gradient) (3.53.1)\r\n",
      "Requirement already satisfied: python-dateutil==2.* in /usr/local/lib/python3.6/dist-packages (from gradient) (2.8.1)\r\n",
      "Requirement already satisfied: requests-toolbelt in /usr/local/lib/python3.6/dist-packages (from gradient) (0.9.1)\r\n",
      "Requirement already satisfied: click==7.1.2 in /usr/local/lib/python3.6/dist-packages (from gradient) (7.1.2)\r\n",
      "Requirement already satisfied: PyYAML==5.* in /usr/local/lib/python3.6/dist-packages (from gradient) (5.4.1)\r\n",
      "Requirement already satisfied: halo in /usr/local/lib/python3.6/dist-packages (from gradient) (0.0.31)\r\n",
      "Requirement already satisfied: attrs<=19 in /usr/local/lib/python3.6/dist-packages (from gradient) (18.2.0)\r\n"
     ]
    },
    {
     "name": "stdout",
     "output_type": "stream",
     "text": [
      "Requirement already satisfied: hyperopt==0.1.2 in /usr/local/lib/python3.6/dist-packages (from gradient-utils>=0.1.2->gradient) (0.1.2)\r\n",
      "Requirement already satisfied: wheel<0.36.0,>=0.35.1 in /usr/local/lib/python3.6/dist-packages (from gradient-utils>=0.1.2->gradient) (0.35.1)\r\n",
      "Requirement already satisfied: prometheus-client<0.10,>=0.8 in /usr/local/lib/python3.6/dist-packages (from gradient-utils>=0.1.2->gradient) (0.9.0)\r\n"
     ]
    },
    {
     "name": "stdout",
     "output_type": "stream",
     "text": [
      "Collecting numpy==1.18.5\r\n"
     ]
    },
    {
     "name": "stdout",
     "output_type": "stream",
     "text": [
      "  Using cached numpy-1.18.5-cp36-cp36m-manylinux1_x86_64.whl (20.1 MB)\r\n"
     ]
    },
    {
     "name": "stdout",
     "output_type": "stream",
     "text": [
      "Requirement already satisfied: pymongo<4.0.0,>=3.11.0 in /usr/local/lib/python3.6/dist-packages (from gradient-utils>=0.1.2->gradient) (3.12.0)\r\n",
      "Requirement already satisfied: networkx in /usr/local/lib/python3.6/dist-packages (from hyperopt==0.1.2->gradient-utils>=0.1.2->gradient) (2.5.1)\r\n",
      "Requirement already satisfied: scipy in /usr/local/lib/python3.6/dist-packages (from hyperopt==0.1.2->gradient-utils>=0.1.2->gradient) (1.5.4)\r\n",
      "Requirement already satisfied: future in /usr/local/lib/python3.6/dist-packages (from hyperopt==0.1.2->gradient-utils>=0.1.2->gradient) (0.18.2)\r\n",
      "Requirement already satisfied: tqdm in /usr/local/lib/python3.6/dist-packages (from hyperopt==0.1.2->gradient-utils>=0.1.2->gradient) (4.62.0)\r\n"
     ]
    },
    {
     "name": "stdout",
     "output_type": "stream",
     "text": [
      "Requirement already satisfied: jinja2 in /usr/local/lib/python3.6/dist-packages (from click-completion->gradient) (2.11.2)\r\n",
      "Requirement already satisfied: shellingham in /usr/local/lib/python3.6/dist-packages (from click-completion->gradient) (1.4.0)\r\n",
      "Requirement already satisfied: termcolor>=1.1.0 in /usr/local/lib/python3.6/dist-packages (from halo->gradient) (1.1.0)\r\n",
      "Requirement already satisfied: log-symbols>=0.0.14 in /usr/local/lib/python3.6/dist-packages (from halo->gradient) (0.0.14)\r\n",
      "Requirement already satisfied: spinners>=0.0.24 in /usr/local/lib/python3.6/dist-packages (from halo->gradient) (0.0.24)\r\n",
      "Requirement already satisfied: MarkupSafe>=0.23 in /usr/local/lib/python3.6/dist-packages (from jinja2->click-completion->gradient) (1.1.1)\r\n"
     ]
    },
    {
     "name": "stdout",
     "output_type": "stream",
     "text": [
      "Requirement already satisfied: decorator<5,>=4.3 in /usr/local/lib/python3.6/dist-packages (from networkx->hyperopt==0.1.2->gradient-utils>=0.1.2->gradient) (4.4.2)\r\n",
      "Requirement already satisfied: python-utils>=2.3.0 in /usr/local/lib/python3.6/dist-packages (from progressbar2->gradient) (2.5.6)\r\n",
      "Requirement already satisfied: urllib3<1.27,>=1.21.1 in /usr/local/lib/python3.6/dist-packages (from requests[security]->gradient) (1.26.2)\r\n",
      "Requirement already satisfied: idna<3,>=2.5 in /usr/lib/python3/dist-packages (from requests[security]->gradient) (2.6)\r\n",
      "Requirement already satisfied: certifi>=2017.4.17 in /usr/local/lib/python3.6/dist-packages (from requests[security]->gradient) (2020.12.5)\r\n",
      "Requirement already satisfied: chardet<5,>=3.0.2 in /usr/local/lib/python3.6/dist-packages (from requests[security]->gradient) (4.0.0)\r\n"
     ]
    },
    {
     "name": "stdout",
     "output_type": "stream",
     "text": [
      "Requirement already satisfied: pyOpenSSL>=0.14 in /usr/local/lib/python3.6/dist-packages (from requests[security]->gradient) (20.0.1)\r\n",
      "Requirement already satisfied: cryptography>=1.3.4 in /usr/local/lib/python3.6/dist-packages (from requests[security]->gradient) (3.4.7)\r\n",
      "Requirement already satisfied: cffi>=1.12 in /usr/local/lib/python3.6/dist-packages (from cryptography>=1.3.4->requests[security]->gradient) (1.14.4)\r\n",
      "Requirement already satisfied: pycparser in /usr/local/lib/python3.6/dist-packages (from cffi>=1.12->cryptography>=1.3.4->requests[security]->gradient) (2.20)\r\n"
     ]
    },
    {
     "name": "stdout",
     "output_type": "stream",
     "text": [
      "Installing collected packages: numpy\r\n",
      "  Attempting uninstall: numpy\r\n",
      "    Found existing installation: numpy 1.19.5\r\n"
     ]
    },
    {
     "name": "stdout",
     "output_type": "stream",
     "text": [
      "    Uninstalling numpy-1.19.5:\r\n",
      "      Successfully uninstalled numpy-1.19.5\r\n"
     ]
    },
    {
     "name": "stdout",
     "output_type": "stream",
     "text": [
      "\u001b[31mERROR: pip's dependency resolver does not currently take into account all the packages that are installed. This behaviour is the source of the following dependency conflicts.\r\n",
      "tensorflow 2.4.0 requires numpy~=1.19.2, but you have numpy 1.18.5 which is incompatible.\r\n",
      "tensorflow-gpu 2.4.1 requires numpy~=1.19.2, but you have numpy 1.18.5 which is incompatible.\u001b[0m\r\n",
      "Successfully installed numpy-1.18.5\r\n",
      "\u001b[33mWARNING: Running pip as the 'root' user can result in broken permissions and conflicting behaviour with the system package manager. It is recommended to use a virtual environment instead: https://pip.pypa.io/warnings/venv\u001b[0m\r\n"
     ]
    }
   ],
   "source": [
    "!pip install -U gradient # -U means upgrade any existing installed packages that this would have installed"
   ]
  },
  {
   "cell_type": "markdown",
   "metadata": {
    "gradient": {
     "editing": false
    }
   },
   "source": [
    "Functionality such as Workflows and deployments are under `SdkClient`. Aside from the ones shown, there are about [20 more](https://paperspace.github.io/gradient-cli/gradient.api_sdk.clients.html)."
   ]
  },
  {
   "cell_type": "code",
   "execution_count": null,
   "metadata": {
    "gradient": {
     "editing": false
    }
   },
   "outputs": [],
   "source": [
    "# Access Gradient from the SDK, i.e., this notebook\n",
    "from gradient import sdk_client\n",
    "\n",
    "# Enable SDK to access YAML file\n",
    "import yaml\n",
    "\n",
    "# SDK clients\n",
    "# All can be accessed from client, or shorthanded for convenience as here\n",
    "client = sdk_client.SdkClient(api_key)\n",
    "deployments_client = sdk_client.DeploymentsClient(api_key)\n",
    "workflows_client  = sdk_client.WorkflowsClient(api_key)"
   ]
  },
  {
   "cell_type": "markdown",
   "metadata": {
    "gradient": {
     "editing": false
    }
   },
   "source": [
    "When running workflows in Gradient, they can be associated with a user's project, which here we created above as part of the currently required manual setup steps.\n",
    "\n",
    "In other notebooks, you may want to create a project from the notebook, which can be done with\n",
    "\n",
    "`project_id = client.projects.create('My project')`\n",
    "\n",
    "With a project ID, you can also see information about project contents, such as the workflows\n",
    "\n",
    "`workflows = workflows_client.list(project_id=project_id)\n",
    "print(workflows)`\n",
    "\n",
    "After a project is created, it will also be visible under the Projects tab in the GUI, and to the command line."
   ]
  },
  {
   "cell_type": "markdown",
   "metadata": {
    "gradient": {
     "editing": false
    }
   },
   "source": [
    "#### Run the Workflow\n",
    "\n",
    "**TODO: Blog part 4 link**\n",
    "\n",
    "Now we are setup, we can run the Workflow by referring to its YAML file, `workflow-train-model.yaml`. Use of YAML is part of what makes this production-grade, as opposed to just for experimenting.\n",
    "\n",
    "The YAML file contains two jobs: `CloneRepo` and `RecommenderTrain`. The first one accesses the GitHub repository to obtain the training script, and the second runs the model training. For more details about YAML, see part 4 of the blog series, and the [Workflows documentation](https://docs.paperspace.com/gradient/explore-train-deploy/workflows)."
   ]
  },
  {
   "cell_type": "code",
   "execution_count": null,
   "metadata": {
    "gradient": {
     "editing": false
    }
   },
   "outputs": [],
   "source": [
    "# Train model\n",
    "\n",
    "spec_path = './workflow-train-model.yaml'\n",
    "\n",
    "yaml_spec = open(spec_path, 'r')\n",
    "train_spec = yaml.safe_load(yaml_spec)\n",
    "\n",
    "#workflow_param_train = {\n",
    "#    'workflow_id' : workflow_id_train,\n",
    "#    'spec': train_spec,\n",
    "#    'cluster_id' : cluster_id,\n",
    "#    'inputs': None\n",
    "#}\n",
    "\n",
    "workflow_param_train = {\n",
    "    'workflow_id' : workflow_id_train,\n",
    "    'spec': train_spec,\n",
    "    'inputs': None\n",
    "}\n",
    "\n",
    "workflow_run_train = workflows_client.run_workflow(**workflow_param_train) # \"**\" is used because parameters is a dictionary"
   ]
  },
  {
   "cell_type": "markdown",
   "metadata": {
    "gradient": {
     "editing": false
    }
   },
   "source": [
    "If you have your team name, project ID, and Workflow ID, you can access the Workflow directly at its URL in the GUI:\n",
    "\n",
    "`https://console.paperspace.com/<team name>/projects/<project_id>/workflows/<workflow ID>`\n",
    "\n",
    "e.g., like\n",
    "\n",
    "`https://console.paperspace.com/my_team/projects/pqrstuvwx/workflows/6789abcd-01ef-23gh-45ij-678901klmnop`\n",
    "\n",
    "Or navigate there via the Workflows tab.\n",
    "\n",
    "Information about the Workflow can also be retrieved from the output of its invocation above (`workflow_run_train`)."
   ]
  },
  {
   "cell_type": "code",
   "execution_count": null,
   "metadata": {
    "gradient": {
     "editing": false
    }
   },
   "outputs": [
    {
     "data": {
      "text/plain": [
       "{'id': 3,\n",
       " 'cluster': {'id': 'clg07azjl'},\n",
       " 'spec': {'jobs': {'CloneRecRepo': {'uses': 'git-checkout@v1',\n",
       "    'with': {'url': 'https://github.com/Paperspace/Deep-Learning-Recommender-TF',\n",
       "     'password': 'secret:GIT_PASSWORD',\n",
       "     'username': 'nmb-paperspace'},\n",
       "    'outputs': {'repoRec': {'type': 'volume'}}},\n",
       "   'RecommenderTrain': {'env': {'HP_FINAL_LR': '0.1', 'HP_FINAL_EPOCHS': '50'},\n",
       "    'uses': 'script@v1',\n",
       "    'with': {'image': 'tensorflow/tensorflow:2.4.1-jupyter',\n",
       "     'script': 'cp -R /inputs/repoRec /Deep-Learning-Recommender-TF\\ncd /Deep-Learning-Recommender-TF\\npython workflow_train_model.py'},\n",
       "    'needs': ['CloneRecRepo'],\n",
       "    'inputs': {'repoRec': 'CloneRecRepo.outputs.repoRec'},\n",
       "    'outputs': {'trainedRecommender': {'type': 'dataset',\n",
       "      'with': {'ref': 'dstew77gm1r0r24'}}}}},\n",
       "  'defaults': {'env': {'PAPERSPACE_API_KEY': 'secret:api_key_recommender'},\n",
       "   'resources': {'instance-type': 'P4000'}}},\n",
       " 'status': {'phase': 'SUBMITTING',\n",
       "  'logId': 'wfr36486c32fafc44eb93d9f1643da95ed6',\n",
       "  'jobs': {'RecommenderTrain': {'phase': 'SUBMITTING',\n",
       "    'logId': 'wfrj44948091f6b843a0aaa32cd400280258',\n",
       "    'outputs': {'trainedRecommender': {'dataset': {'id': 'recommender-fwr-20210810-trained-recommender:3wbsfyh',\n",
       "       'isCommitted': False}}}},\n",
       "   'CloneRecRepo': {'phase': 'SUBMITTING',\n",
       "    'logId': 'wfrj4cac2a94164f412d93a088ff240ba16c'}}}}"
      ]
     },
     "execution_count": 63,
     "metadata": {},
     "output_type": "execute_result"
    }
   ],
   "source": [
    "workflow_run_train"
   ]
  },
  {
   "cell_type": "markdown",
   "metadata": {
    "gradient": {
     "editing": false
    }
   },
   "source": [
    "Like most Gradient functionality, invoking the Workflow from the GUI or SDK has an equivalent in the command line. Here we don't run it, since it would just rerun the same computation, but for reference, it is:\n",
    "\n",
    "`gradient workflows run \\\n",
    "  --id <workflow_id_train> \\\n",
    "  --clusterId <cluster_id> \\\n",
    "  --path <path_to_yaml_file>`\n",
    "\n",
    "i.e., like\n",
    "\n",
    "`gradient workflows run \\\n",
    "  --id 6789abcd-01ef-23gh-45ij-678901klmnop \\\n",
    "  --clusterId cdefghijk \\\n",
    "  --path ./workflow-train-model.yaml`\n",
    "  \n",
    "There are other parameters available which we did not use here. See the [API documentation on Workflows](https://paperspace.github.io/gradient-cli/gradient.api_sdk.clients.html#module-gradient.api_sdk.clients.workflow_client) for information on those, and the [command line](https://paperspace.github.io/gradient-cli/gradient.cli.html) section under Workflows for more on CLI equivalents."
   ]
  },
  {
   "cell_type": "markdown",
   "metadata": {
    "gradient": {
     "editing": false
    },
    "id": "Wf7US2o2LYDL"
   },
   "source": [
    "## 5: Deploy the final model\n",
    "\n",
    "A major part of any production data science end-to-end dataflow is that the trained model must be deployed so that it can generate output on new data being fed to it (inference). Many enterprise projects fail at the production stage, even if a model was successfully trained and showed good performance.\n",
    "\n",
    "In this project, the necessity of using a lower level model representation, i.e., the subclassing API, for recommender systems also adds to the potential complexity of deployment. Solving many real business problems will also require the subclassing API because of some custom requirement or business logic, and face similar issues.\n",
    "\n",
    "While it is possible to take one or more of the models generated from the notebook in sections 4.1 and 4.2 above, and then setup TensorFlow Serving to deploy, the process is so much easier on Gradient that we do not attempt this, and instead go directly to deploying the final model from section 4.3.\n",
    "\n",
    "In an enterprise production system, after model deployment comes dealing with model output to make it actionable to the business, model monitoring (especially for concept / data / model drift), retraining or updating the model when it does drift, and periodic updates with stakeholders to be sure the model is still being used and providing value. Some of these are mentioned again in the appendices below regarding improvements to the analysis and extensions to the project."
   ]
  },
  {
   "cell_type": "markdown",
   "metadata": {
    "gradient": {
     "editing": false
    }
   },
   "source": [
    "### 5.1: Create and start model deployment using Workflows\n",
    "\n",
    "Running the train_model.py Workflow from section 4.3 above produces a saved model, which we will deploy here.\n",
    "\n",
    "For reference, the lines in the Workflow's `workflow_train_model.py` to save the model are the standard `model.save` form from TensorFlow. The output directory is the location specified in the `workflow-train-model.yaml` file\n",
    "\n",
    "`export_path = '/outputs/trainedRecommender'\n",
    "print('export_path = {}\\n'.format(export_path))\n",
    "model_tr.save(export_path)`\n",
    "\n",
    "Viewing this in the GUI, one can see that the model is on disk and has the usual TensorFlow SavedModel structure:\n",
    "\n",
    " - `saved_model.pb` = code for the model, including its architecture\n",
    " - `variables/` = trained model weights\n",
    " - `assets/` = internal information for restoring the model if needed, here empty so not shown. An example would be a text file for initializing a vocabulary.\n",
    " \n",
    "The model is present and ready to be deployed. The process is similar to running the training, and shows the advantage of using this setup: the machine, cluster configuration, and container are all already available, and the deployments will be organized and versioned similar to how the models are.\n",
    "\n",
    "As with the training, there is a corresponding YAML file, `workflow-deploy-model.yaml` that here contains 3 jobs: `UploadModel`, `CreateDeployment`, and `StartDeployment`. `UploadModel` accesses the desired model version and makes it accessible to the Workflow, then create and start are separate steps since in general not all created deployments will want to be started immediately, and a deployment may want to be stopped without being deleted.\n",
    "\n",
    "Unlike the training, in the deployment here, a further .py Python script is not needed.\n",
    "\n",
    "As with training, there are more parameters available, as described in the [API documentation for deployment creation](https://paperspace.github.io/gradient-cli/gradient.api_sdk.clients.html#module-gradient.api_sdk.clients.deployment_client)."
   ]
  },
  {
   "cell_type": "code",
   "execution_count": null,
   "metadata": {
    "gradient": {
     "editing": false
    }
   },
   "outputs": [],
   "source": [
    "spec_path = './workflow-deploy-model.yaml'\n",
    "\n",
    "yaml_spec = open(spec_path, 'r')\n",
    "deploy_spec = yaml.safe_load(yaml_spec)\n",
    "\n",
    "#workflow_param_deploy = {\n",
    "#    'workflow_id' : workflow_id_deploy,\n",
    "#    'spec': deploy_spec,\n",
    "#    'cluster_id' : cluster_id,\n",
    "#    'inputs': None\n",
    "#}\n",
    "\n",
    "workflow_param_deploy = {\n",
    "    'workflow_id' : workflow_id_deploy,\n",
    "    'spec': deploy_spec,\n",
    "    'inputs': None\n",
    "}\n",
    "\n",
    "workflow_run_deploy = workflows_client.run_workflow(**workflow_param_deploy)"
   ]
  },
  {
   "cell_type": "code",
   "execution_count": null,
   "metadata": {
    "gradient": {
     "editing": false
    }
   },
   "outputs": [],
   "source": [
    "### TODO: This fails as expected in the deployment logs when started\n",
    "#[deployment-0]: 2021-06-09 18:00:16.489136: E tensorflow_serving/sources/storage_path/file_system_storage_path_source.cc:365] FileSystemStoragePathSource encountered a filesystem access error: Could not find base path /models/model for servable model with error Not found: /models/model not found\n",
    "# ... repeated until deployment is stopped (e.g., in GUI) ###\n",
    "\n",
    "# -> Functional end-to-end notebook is pending engineering resolving this, maybe July '21\n",
    "# -> Cells below after data = json.dumps({'signature_name': ... cannot be run as no model endpoint to send data to"
   ]
  },
  {
   "cell_type": "markdown",
   "metadata": {
    "gradient": {
     "editing": false
    }
   },
   "source": [
    "As with training, we can view the deployment details."
   ]
  },
  {
   "cell_type": "code",
   "execution_count": null,
   "metadata": {
    "gradient": {
     "editing": false
    }
   },
   "outputs": [
    {
     "data": {
      "text/plain": [
       "{'id': 3,\n",
       " 'cluster': {'id': 'clg07azjl'},\n",
       " 'spec': {'jobs': {'UploadModel': {'uses': 'create-model@v1',\n",
       "    'with': {'name': 'model', 'type': 'Tensorflow'},\n",
       "    'inputs': {'model': {'type': 'dataset',\n",
       "      'with': {'ref': 'dstew77gm1r0r24:mkx6lto'}}},\n",
       "    'outputs': {'model-id': {'type': 'string'}}},\n",
       "   'StartDeployment': {'uses': 'script@v1',\n",
       "    'with': {'image': 'paperspace/gradient-sdk',\n",
       "     'script': 'gradient deployments start \\\\\\n  --id $(cat /inputs/deployment-id)'},\n",
       "    'needs': ['UploadModel', 'CreateDeployment'],\n",
       "    'inputs': {'model-id': 'UploadModel.outputs.model-id',\n",
       "     'deployment-id': 'CreateDeployment.outputs.deployment-id'}},\n",
       "   'CreateDeployment': {'uses': 'script@v1',\n",
       "    'with': {'image': 'paperspace/gradient-sdk',\n",
       "     'script': 'cd /inputs\\ngradient deployments create \\\\\\n  --deploymentType TFServing \\\\\\n  --modelId $(cat /inputs/model-id) \\\\\\n  --name \"Recommender Model\" \\\\\\n  --machineType C5 \\\\\\n  --imageUrl tensorflow/serving:latest-gpu \\\\\\n  --instanceCount 1 \\\\\\n  --clusterId \"clcrk7tev\" \\\\\\n  | awk \\'NR==1 {print $NF}\\' \\\\\\n  | tee /outputs/deployment-id'},\n",
       "    'needs': ['UploadModel'],\n",
       "    'inputs': {'model-id': 'UploadModel.outputs.model-id'},\n",
       "    'outputs': {'deployment-id': {'type': 'string'}}}},\n",
       "  'defaults': {'env': {'PAPERSPACE_API_KEY': 'secret:api_key_recommender'},\n",
       "   'resources': {'instance-type': 'C5'}}},\n",
       " 'status': {'phase': 'SUBMITTING',\n",
       "  'logId': 'wfr7a01874ad8684e10950e2f8ec02d2e7c',\n",
       "  'jobs': {'UploadModel': {'phase': 'SUBMITTING',\n",
       "    'logId': 'wfrj8ba15746127f4e939bedf7717218226a',\n",
       "    'inputs': {'model': {'dataset': {'id': 'recommender-fwr-20210810-trained-recommender:mkx6lto'}}}},\n",
       "   'StartDeployment': {'phase': 'SUBMITTING',\n",
       "    'logId': 'wfrjc4b1f9dfaa8a4760b535906bec59ba2f'},\n",
       "   'CreateDeployment': {'phase': 'SUBMITTING',\n",
       "    'logId': 'wfrjcc652b6141fe4dfcaa8a7849b7c41207'}}}}"
      ]
     },
     "execution_count": 67,
     "metadata": {},
     "output_type": "execute_result"
    }
   ],
   "source": [
    "# TODO: Endpoint?\n",
    "\n",
    "workflow_run_deploy"
   ]
  },
  {
   "cell_type": "markdown",
   "metadata": {
    "gradient": {
     "editing": false
    }
   },
   "source": [
    "### 5.2: Send predictions to the model\n",
    "\n",
    "When a model is deployed with Gradient Deployments (or TensorFlow Serving), there is a choice between using the Google gRPC API and the http [REST API](https://www.tensorflow.org/tfx/serving/api_rest#predict_api).\n",
    "\n",
    "Here, we use the REST API.\n",
    "\n",
    "With this API, to send new data (requests) to the deployed model, and have it return predicted movie ratings for that data (predictions), the requests must be formatted as JSON rather than TensorFlow tensors. So we can't just use the same format as the loaded TFDS dataset, or the cached_train that we passed in during training above.\n",
    "\n",
    "As a reminder, the raw data loaded in looked like this:"
   ]
  },
  {
   "cell_type": "code",
   "execution_count": null,
   "metadata": {
    "colab": {
     "base_uri": "https://localhost:8080/"
    },
    "gradient": {
     "editing": false
    },
    "id": "pFn7DEMhLGHj",
    "outputId": "6c0bef38-87d7-4f8d-a390-7ec83d8116dd"
   },
   "outputs": [
    {
     "name": "stdout",
     "output_type": "stream",
     "text": [
      "{'bucketized_user_age': 45.0,\n",
      " 'movie_genres': array([7]),\n",
      " 'movie_id': b'357',\n",
      " 'movie_title': b\"One Flew Over the Cuckoo's Nest (1975)\",\n",
      " 'raw_user_age': 46.0,\n",
      " 'timestamp': 879024327,\n",
      " 'user_gender': True,\n",
      " 'user_id': b'138',\n",
      " 'user_occupation_label': 4,\n",
      " 'user_occupation_text': b'doctor',\n",
      " 'user_rating': 4.0,\n",
      " 'user_zip_code': b'53211'}\n",
      "{'bucketized_user_age': 25.0,\n",
      " 'movie_genres': array([ 4, 14]),\n",
      " 'movie_id': b'709',\n",
      " 'movie_title': b'Strictly Ballroom (1992)',\n",
      " 'raw_user_age': 32.0,\n",
      " 'timestamp': 875654590,\n",
      " 'user_gender': True,\n",
      " 'user_id': b'92',\n",
      " 'user_occupation_label': 5,\n",
      " 'user_occupation_text': b'entertainment',\n",
      " 'user_rating': 2.0,\n",
      " 'user_zip_code': b'80525'}\n"
     ]
    }
   ],
   "source": [
    "for x in ratings_raw.take(2).as_numpy_iterator():\n",
    "    pprint.pprint(x)"
   ]
  },
  {
   "cell_type": "markdown",
   "metadata": {
    "gradient": {
     "editing": false
    },
    "id": "WM0-SD87Leza"
   },
   "source": [
    "and the data passed to the model during training looked like this:"
   ]
  },
  {
   "cell_type": "code",
   "execution_count": null,
   "metadata": {
    "colab": {
     "base_uri": "https://localhost:8080/"
    },
    "gradient": {
     "editing": false
    },
    "id": "2mKEL5fYLiPO",
    "outputId": "f8260544-0980-45a2-c2d6-79e1056e2f2b"
   },
   "outputs": [
    {
     "name": "stdout",
     "output_type": "stream",
     "text": [
      "{'movie_title': array([b'Substitute, The (1996)', b'Amadeus (1984)',\n",
      "       b'Leaving Las Vegas (1995)', ..., b'Mary Poppins (1964)',\n",
      "       b'Ghost (1990)', b'Liar Liar (1997)'], dtype=object),\n",
      " 'timestamp': array([878952287, 884293475, 877886413, ..., 883195394, 881180497,\n",
      "       879988800]),\n",
      " 'user_id': array([b'357', b'665', b'314', ..., b'850', b'690', b'897'], dtype=object),\n",
      " 'user_rating': array([5., 3., 1., ..., 5., 3., 3.], dtype=float32)}\n",
      "{'movie_title': array([b'Dirty Dancing (1987)', b'Desperado (1995)',\n",
      "       b'Spitfire Grill, The (1996)', ..., b'Screamers (1995)',\n",
      "       b'Cobb (1994)', b'American President, The (1995)'], dtype=object),\n",
      " 'timestamp': array([880088900, 875981829, 880405165, ..., 879744287, 880870428,\n",
      "       880869106]),\n",
      " 'user_id': array([b'389', b'472', b'608', ..., b'422', b'788', b'788'], dtype=object),\n",
      " 'user_rating': array([2., 5., 1., ..., 3., 3., 3.], dtype=float32)}\n"
     ]
    }
   ],
   "source": [
    "for x in cached_train.take(2).as_numpy_iterator():\n",
    "    pprint.pprint(x)"
   ]
  },
  {
   "cell_type": "markdown",
   "metadata": {
    "gradient": {
     "editing": false
    },
    "id": "dki19It0KzXR"
   },
   "source": [
    "But for JSON, the data needs to look more like this:\n",
    "\n",
    "```\n",
    "{\n",
    " \"instances\": [\n",
    "   {\n",
    "     \"tag\": \"foo\",\n",
    "     \"signal\": [1, 2, 3, 4, 5],\n",
    "     \"sensor\": [[1, 2], [3, 4]]\n",
    "   },\n",
    "   {\n",
    "     \"tag\": \"bar\",\n",
    "     \"signal\": [3, 4, 1, 2, 5]],\n",
    "     \"sensor\": [[4, 5], [6, 8]]\n",
    "   }\n",
    " ]\n",
    "}\n",
    "```\n",
    "\n",
    "From [the TFX API page](https://www.tensorflow.org/tfx/serving/api_rest#specifying_input_tensors_in_row_format): \"For multiple named inputs, each item is expected to be an object containing input name/tensor value pair, one for each named input. ... a request with two instances, each with a set of three named input tensors\"\n",
    "\n",
    "To create JSON-formatted data, the easiest way at the scale of data in this notebook is to use Python's json module. Then to send it, the requests module is used to enable it to be sent to the REST API via POST."
   ]
  },
  {
   "cell_type": "code",
   "execution_count": null,
   "metadata": {
    "gradient": {
     "editing": false
    },
    "id": "tjvE00XnPtRP"
   },
   "outputs": [],
   "source": [
    "import requests\n",
    "import json"
   ]
  },
  {
   "cell_type": "markdown",
   "metadata": {
    "gradient": {
     "editing": false
    },
    "id": "wRUt3IqsND5k"
   },
   "source": [
    "The correct format of a some data rows (instances) then looks like this:"
   ]
  },
  {
   "cell_type": "code",
   "execution_count": null,
   "metadata": {
    "gradient": {
     "editing": false
    },
    "id": "s0MOEitGXtaM"
   },
   "outputs": [],
   "source": [
    "test_rows_1 = {'movie_title': 'Devils Advocate, The (1997)',\n",
    " 'timestamp': 892870992,\n",
    " 'user_id': '587'}\n",
    "\n",
    "test_rows_2 = {'movie_title': 'Donnie Brasco (1997)',\n",
    " 'timestamp': 891499278,\n",
    " 'user_id': '782'}\n",
    "\n",
    "test_rows_3 = {'movie_title': 'Craft, The (1996)',\n",
    " 'timestamp': 891700850,\n",
    " 'user_id': '280'}"
   ]
  },
  {
   "cell_type": "markdown",
   "metadata": {
    "gradient": {
     "editing": false
    },
    "id": "GcIMvYUlNNIa"
   },
   "source": [
    "And it can be converted to JSON with .dumps (dump string), with the instances as a list."
   ]
  },
  {
   "cell_type": "code",
   "execution_count": null,
   "metadata": {
    "colab": {
     "base_uri": "https://localhost:8080/",
     "height": 69
    },
    "gradient": {
     "editing": false
    },
    "id": "OYHYMjEPM56U",
    "outputId": "b5b1d6b6-a8ea-45a2-8585-837924748186"
   },
   "outputs": [
    {
     "data": {
      "text/plain": [
       "'{\"signature_name\": \"serving_default\", \"instances\": [{\"movie_title\": \"Devils Advocate, The (1997)\", \"timestamp\": 892870992, \"user_id\": \"587\"}, {\"movie_title\": \"Donnie Brasco (1997)\", \"timestamp\": 891499278, \"user_id\": \"782\"}, {\"movie_title\": \"Craft, The (1996)\", \"timestamp\": 891700850, \"user_id\": \"280\"}]}'"
      ]
     },
     "execution_count": 73,
     "metadata": {},
     "output_type": "execute_result"
    }
   ],
   "source": [
    "data = json.dumps({'signature_name': 'serving_default', 'instances': [test_rows_1, test_rows_2, test_rows_3]})\n",
    "data"
   ]
  },
  {
   "cell_type": "markdown",
   "metadata": {
    "gradient": {
     "editing": false
    },
    "id": "uW5bnvRTNU_j"
   },
   "source": [
    "Then the data can be sent to the deployed model via POST, and the returned output extracted from the full response by .json(). We can get the model's endpoint from the deployment properties, as shown above."
   ]
  },
  {
   "cell_type": "markdown",
   "metadata": {
    "gradient": {
     "editing": false
    }
   },
   "source": [
    "# WON'T WORK HERE TO END\n",
    "\n",
    "Pending engineering support model deployment start"
   ]
  },
  {
   "cell_type": "code",
   "execution_count": null,
   "metadata": {
    "colab": {
     "base_uri": "https://localhost:8080/"
    },
    "gradient": {
     "editing": false
    },
    "id": "ry8Qk0roM59h",
    "outputId": "ad54ad32-2381-475c-c4a3-5cc49128748f"
   },
   "outputs": [
    {
     "ename": "NameError",
     "evalue": "name 'deployment' is not defined",
     "output_type": "error",
     "traceback": [
      "\u001b[0;31m---------------------------------------------------------------------------\u001b[0m",
      "\u001b[0;31mNameError\u001b[0m                                 Traceback (most recent call last)",
      "\u001b[0;32m<ipython-input-75-f317400c8d4a>\u001b[0m in \u001b[0;36m<module>\u001b[0;34m\u001b[0m\n\u001b[1;32m      1\u001b[0m \u001b[0;31m# TODO: Get endpoint from started deployment\u001b[0m\u001b[0;34m\u001b[0m\u001b[0;34m\u001b[0m\u001b[0;34m\u001b[0m\u001b[0m\n\u001b[1;32m      2\u001b[0m \u001b[0;34m\u001b[0m\u001b[0m\n\u001b[0;32m----> 3\u001b[0;31m \u001b[0mendpoint\u001b[0m \u001b[0;34m=\u001b[0m \u001b[0mdeployment\u001b[0m\u001b[0;34m[\u001b[0m\u001b[0;36m0\u001b[0m\u001b[0;34m]\u001b[0m\u001b[0;34m.\u001b[0m\u001b[0mendpoint\u001b[0m\u001b[0;34m\u001b[0m\u001b[0;34m\u001b[0m\u001b[0m\n\u001b[0m\u001b[1;32m      4\u001b[0m \u001b[0mheaders\u001b[0m \u001b[0;34m=\u001b[0m \u001b[0;34m{\u001b[0m\u001b[0;34m'content-type'\u001b[0m\u001b[0;34m:\u001b[0m \u001b[0;34m'application/json'\u001b[0m\u001b[0;34m}\u001b[0m\u001b[0;34m\u001b[0m\u001b[0;34m\u001b[0m\u001b[0m\n\u001b[1;32m      5\u001b[0m \u001b[0mjson_response\u001b[0m \u001b[0;34m=\u001b[0m \u001b[0mrequests\u001b[0m\u001b[0;34m.\u001b[0m\u001b[0mpost\u001b[0m\u001b[0;34m(\u001b[0m\u001b[0mendpoint\u001b[0m\u001b[0;34m,\u001b[0m \u001b[0mdata\u001b[0m\u001b[0;34m=\u001b[0m\u001b[0mdata\u001b[0m\u001b[0;34m,\u001b[0m \u001b[0mheaders\u001b[0m\u001b[0;34m=\u001b[0m\u001b[0mheaders\u001b[0m\u001b[0;34m)\u001b[0m\u001b[0;34m\u001b[0m\u001b[0;34m\u001b[0m\u001b[0m\n",
      "\u001b[0;31mNameError\u001b[0m: name 'deployment' is not defined"
     ]
    }
   ],
   "source": [
    "# TODO: Get endpoint from started deployment\n",
    "\n",
    "endpoint = deployment[0].endpoint\n",
    "headers = {'content-type': 'application/json'}\n",
    "json_response = requests.post(endpoint, data=data, headers=headers)\n",
    "pprint.pprint(json_response.json(), compact=True)"
   ]
  },
  {
   "cell_type": "markdown",
   "metadata": {
    "gradient": {
     "editing": false
    },
    "id": "Cys2R1B0Nwz4"
   },
   "source": [
    "As with .predict() in training above, this has returned both the embeddings and the predictions. We can also extract just the predictions."
   ]
  },
  {
   "cell_type": "code",
   "execution_count": null,
   "metadata": {
    "colab": {
     "base_uri": "https://localhost:8080/"
    },
    "gradient": {
     "editing": false
    },
    "id": "-VV6ZKFuZHNt",
    "outputId": "79cd51bb-2624-4985-a00e-3572cbebaaa5"
   },
   "outputs": [
    {
     "ename": "NameError",
     "evalue": "name 'json_response' is not defined",
     "output_type": "error",
     "traceback": [
      "\u001b[0;31m---------------------------------------------------------------------------\u001b[0m",
      "\u001b[0;31mNameError\u001b[0m                                 Traceback (most recent call last)",
      "\u001b[0;32m<ipython-input-76-8492a0ea8ca5>\u001b[0m in \u001b[0;36m<module>\u001b[0;34m\u001b[0m\n\u001b[0;32m----> 1\u001b[0;31m \u001b[0mpredictions\u001b[0m \u001b[0;34m=\u001b[0m \u001b[0mjson\u001b[0m\u001b[0;34m.\u001b[0m\u001b[0mloads\u001b[0m\u001b[0;34m(\u001b[0m\u001b[0mjson_response\u001b[0m\u001b[0;34m.\u001b[0m\u001b[0mtext\u001b[0m\u001b[0;34m)\u001b[0m\u001b[0;34m[\u001b[0m\u001b[0;34m'predictions'\u001b[0m\u001b[0;34m]\u001b[0m\u001b[0;34m\u001b[0m\u001b[0;34m\u001b[0m\u001b[0m\n\u001b[0m\u001b[1;32m      2\u001b[0m \u001b[0;34m\u001b[0m\u001b[0m\n\u001b[1;32m      3\u001b[0m \u001b[0mprint\u001b[0m\u001b[0;34m(\u001b[0m\u001b[0mpredictions\u001b[0m\u001b[0;34m[\u001b[0m\u001b[0;36m0\u001b[0m\u001b[0;34m]\u001b[0m\u001b[0;34m[\u001b[0m\u001b[0;34m'output_3'\u001b[0m\u001b[0;34m]\u001b[0m\u001b[0;34m)\u001b[0m\u001b[0;34m\u001b[0m\u001b[0;34m\u001b[0m\u001b[0m\n\u001b[1;32m      4\u001b[0m \u001b[0mprint\u001b[0m\u001b[0;34m(\u001b[0m\u001b[0mpredictions\u001b[0m\u001b[0;34m[\u001b[0m\u001b[0;36m1\u001b[0m\u001b[0;34m]\u001b[0m\u001b[0;34m[\u001b[0m\u001b[0;34m'output_3'\u001b[0m\u001b[0;34m]\u001b[0m\u001b[0;34m)\u001b[0m\u001b[0;34m\u001b[0m\u001b[0;34m\u001b[0m\u001b[0m\n\u001b[1;32m      5\u001b[0m \u001b[0mprint\u001b[0m\u001b[0;34m(\u001b[0m\u001b[0mpredictions\u001b[0m\u001b[0;34m[\u001b[0m\u001b[0;36m2\u001b[0m\u001b[0;34m]\u001b[0m\u001b[0;34m[\u001b[0m\u001b[0;34m'output_3'\u001b[0m\u001b[0;34m]\u001b[0m\u001b[0;34m)\u001b[0m\u001b[0;34m\u001b[0m\u001b[0;34m\u001b[0m\u001b[0m\n",
      "\u001b[0;31mNameError\u001b[0m: name 'json_response' is not defined"
     ]
    }
   ],
   "source": [
    "predictions = json.loads(json_response.text)['predictions']\n",
    "\n",
    "print(predictions[0]['output_3'])\n",
    "print(predictions[1]['output_3'])\n",
    "print(predictions[2]['output_3'])"
   ]
  },
  {
   "cell_type": "markdown",
   "metadata": {
    "gradient": {
     "editing": false
    },
    "id": "0SFYXBQ9NzUj"
   },
   "source": [
    "One thing to note about the above of course is that we wrote the example lines of new data here to send to the model, instead of loading them. This could be improved by, say loading more data from TFDS. In this particular case, more steps would be required in converting the byte-encoded fields into the above format before passing to JSON, because byte-encoded fields are not JSON serializable."
   ]
  },
  {
   "cell_type": "markdown",
   "metadata": {
    "gradient": {
     "editing": false
    }
   },
   "source": [
    "### 5.3: Stop deployment\n",
    "\n",
    "Once we are done with the deployment, we can stop it again to avoid leaving it consuming compute resources."
   ]
  },
  {
   "cell_type": "code",
   "execution_count": null,
   "metadata": {
    "gradient": {
     "editing": true
    }
   },
   "outputs": [
    {
     "ename": "NameError",
     "evalue": "name 'deployment_id' is not defined",
     "output_type": "error",
     "traceback": [
      "\u001b[0;31m---------------------------------------------------------------------------\u001b[0m",
      "\u001b[0;31mNameError\u001b[0m                                 Traceback (most recent call last)",
      "\u001b[0;32m<ipython-input-77-c5e5b69bb17b>\u001b[0m in \u001b[0;36m<module>\u001b[0;34m\u001b[0m\n\u001b[1;32m      1\u001b[0m \u001b[0;31m# TODO: Run this once can get endpoint\u001b[0m\u001b[0;34m\u001b[0m\u001b[0;34m\u001b[0m\u001b[0;34m\u001b[0m\u001b[0m\n\u001b[1;32m      2\u001b[0m \u001b[0;34m\u001b[0m\u001b[0m\n\u001b[0;32m----> 3\u001b[0;31m \u001b[0mdeployments_client\u001b[0m\u001b[0;34m.\u001b[0m\u001b[0mstop\u001b[0m\u001b[0;34m(\u001b[0m\u001b[0mdeployment_id\u001b[0m\u001b[0;34m)\u001b[0m\u001b[0;34m\u001b[0m\u001b[0;34m\u001b[0m\u001b[0m\n\u001b[0m",
      "\u001b[0;31mNameError\u001b[0m: name 'deployment_id' is not defined"
     ]
    }
   ],
   "source": [
    "# TODO: Run this once can get endpoint\n",
    "\n",
    "deployments_client.stop(deployment_id)"
   ]
  },
  {
   "cell_type": "markdown",
   "metadata": {
    "gradient": {
     "editing": false
    },
    "id": "tAE5YcD_IW0u"
   },
   "source": [
    "## 6: Conclusions\n",
    "\n",
    "**TODO: Blog link**\n",
    "\n",
    "We have shown an end-to-end example of deep learning recommender models in TensorFlow, using the TensorFlow Recommenders (TFRS) library, and the implementation of this using Paperspace Gradient.\n",
    "\n",
    "The main takeaways are:\n",
    "\n",
    " - We showed a real-world-style example of machine learning on Gradient\n",
    " - This is within an end-to-end dataflow incorporating both Gradient Notebooks and Workflows\n",
    " - Modern data science methodology based on Gradient's integrations with Git was used\n",
    " - We used TensorFlow 2 and TensorFlow Recommenders (TFRS) to train a recommender model that includes deep learning\n",
    " - We used training data that reflects what real-world projects deal with (not just demo data)\n",
    " - We constructed a custom model using the full TensorFlow subclassing API\n",
    " - Feature engineering and hyperparameter tuning improved model performance versus a basic model (RMSE between predicted and user ratings from ~ 1.1 to ~ 1)\n",
    " - The model was deployed using Gradient Deployments and its TensorFlow Serving integrations\n",
    " - Accompanying material is available: the 6 part blog series, and Git repository\n",
    " - We have aimed at a broad technical audience: data scientists who are not engineers, engineers who are not data scientists, those who span the two disciplines, and others\n",
    "\n",
    "The project is not a complete enterprise-grade recommender system: they would typically take teams of several people months to construct, but it aims to be more than just a simple demonstration or toy model, by showcasing real data science techniques."
   ]
  },
  {
   "cell_type": "markdown",
   "metadata": {
    "gradient": {
     "editing": false
    },
    "id": "efApI0Ii6srB"
   },
   "source": [
    "# Next steps\n",
    "\n",
    "**TODO:** URL links to blog\n",
    "\n",
    "Now that you have seen recommender systems, deep learning, and Paperspace Gradient, if you are interested in taking some next steps, some options are:\n",
    "\n",
    " - Sign up for [Paperspace](https://paperspace.com), if not done already\n",
    " - Run this notebook on [Gradient](https://gradient.paperspace.com), if not done already\n",
    " - Read the accompanying [blog series]() to this notebook\n",
    " - See more projects on our [ML Showcase](https://ml-showcase.paperspace.com)\n",
    " - View the Gradient [documentation](https://docs.paperspace.com) or [API reference](https://paperspace.github.io/gradient-cli)\n",
    " - Learn more about recommenders at [TFRS](https://www.tensorflow.org/recommenders)\n",
    " - Check out more links and references in the [final part]() of the blog\n",
    " - [Contact sales](https://info.paperspace.com/contact-sales)"
   ]
  },
  {
   "cell_type": "markdown",
   "metadata": {
    "gradient": {
     "editing": false
    },
    "id": "Flxm19Sos2Xz"
   },
   "source": [
    "# Appendices\n",
    "\n",
    "These show ways the project can be extended, either generically, or in ways specifically aided by Paperspace Gradient."
   ]
  },
  {
   "cell_type": "markdown",
   "metadata": {
    "gradient": {
     "editing": false
    },
    "id": "z2-iK1-LHo-1"
   },
   "source": [
    "## Appendix 1: Improvements to the analysis\n",
    "\n",
    "**TODO:** URL link: final part of blog\n",
    "\n",
    "These are some ways that the analysis could be improved while telling the same story. These are given in the order in which they would appear in the dataflow.\n",
    "\n",
    "They are relatively briefly described here. For more details, see the [final part]() of the blog.\n",
    "\n",
    "A few minor detail improvements were also included in various code comments throughout the notebook.\n",
    "\n",
    " - Add more to the business story: here it is showing the generic concept of a deep learning recommender improving upon a basic model, but it is not translated into specific quantified business value for a given use case.\n",
    " - Use a bigger dataset: Aside from movielens-100k, the available datasets include 1M, 20M, and 25M. 20M and 25M contain less demographic information but still include user ratings.\n",
    " - Data larger than 25M can be produced via simulation if we wish to show scaling to bigger sizes, e.g., the [original MovieLens site](https://grouplens.org/datasets/movielens) contains a synthetic dataset called MovieLens-1B, which can go to numbers of interactions in the billions.\n",
    " - Add data exploration for information and sanity checking.\n",
    " - Use more [features](https://www.tensorflow.org/recommenders/examples/featurization) and [context](https://www.tensorflow.org/recommenders/examples/context_features) from the dataset to improve model performance, including preprocessing with word embedding, text tokenization, normalizaton of numerical values, and timestamps.\n",
    " - Feature selection / engineering, e.g., day of week or time of day.\n",
    " - Hyperparameter tuning improvements noted in section 4.2 above.\n",
    " - Turning metric calculation off in training for [retrieval models](https://www.tensorflow.org/recommenders/examples/basic_retrieval) (compute_metrics in task as False) can make training faster.\n",
    " - Examine the model output predicted ratings in more detail - most are currently around 3-4, and since most reviews are 3-5 out of 5, just saying 3.5ish every time might give the best RMSE.\n",
    " - Remove all randomness in execution of the ML models, making their results exactly reproducible. This may not be possible in some environments such as a distributed system.\n",
    " - Use Paperspace's GPU instances for faster training of large models."
   ]
  },
  {
   "cell_type": "markdown",
   "metadata": {
    "gradient": {
     "editing": false
    },
    "id": "q3ltn-uGIGkU"
   },
   "source": [
    "## Appendix 2: Extensions to the project\n",
    "\n",
    "These are possible extensions to the analysis that would add to the story, again in approximate dataflow order.\n",
    "\n",
    "### Generic\n",
    "\n",
    " - Address [fairness, bias, etc.](https://www.tensorflow.org/tfx/guide/fairness_indicators), in feature selection and model training.\n",
    " - Show dealing with missing data and out-of-vocabulary categoricals.\n",
    " - Show improving performance via [feature crosses](https://www.tensorflow.org/recommenders/examples/dcn).\n",
    " - Add the retrieval model and hence a [combined model](https://www.tensorflow.org/recommenders/examples/multitask) for both retrieval and ranking.\n",
    " - Show dealing with the \"cold start\" problem of what to recommend to a new user who hasn't watched any movies but whose information we possess.\n",
    " - Use data from common tasks to help model rarer tasks via transfer learning.\n",
    " - Add an option to exclude already-watched shows or movies from a user's recommendations, or add extra variety versus the baseline choices.\n",
    " - Visualize the trained model with TensorBoard or [TFMA](https://www.tensorflow.org/tfx/model_analysis/metrics).\n",
    " - Provide [explanations](https://www.tensorflow.org/recommenders/examples/dcn) for the models' choices of recommendations.\n",
    " - For retrieval, deploy with [ScaNN approximate nearest neighbors](https://www.tensorflow.org/recommenders/examples/efficient_serving) to speed up model inference. Tune the layer for better performance/accuracy tradeoff.\n",
    " - Monitor the deployed model for drift and/or anomalies using a monitoring tool.\n",
    "\n",
    "### Paperspace Gradient-specific\n",
    "\n",
    " - Show the relation between working in notebooks and Gradient's GradientCI GitHub integration capabilities, e.g., versioning of notebooks.\n",
    " - Show getting the data from somewhere that is not TensorFlow's prepackaged datasets (TFDS), that Gradient easily connects to, e.g., Amazon S3.\n",
    " - Show distributed training with Gradient's multinode capability.\n",
    " - Combine multinode, GPU, and GradientCI to show distributed GPU training that follows good versioning practices and GitHub integration.\n",
    " - Show full specification of the end-to-end data flow (software, versions, licenses, security) in a way that makes it easy for an enterprise IT department to approve it.\n",
    " - Show production of an audit trail from the end-to-end process, making it auditable and hence FAccT (fair, accountable, and transparent).\n",
    " - Show how other users can query the deployed model.\n",
    " - Show retraining being triggered with Gradient's jobs function, e.g., if deployed model has drifted.\n",
    " - Show rollback to an earlier deployed model.\n",
    " - Show a GUI application (e.g., Streamlit) that accesses the deployed model's API endpoint, making its functionality accessible to non-technical as well as technical users."
   ]
  }
 ],
 "metadata": {
  "colab": {
   "collapsed_sections": [
    "tnDTzpDQ_hUS",
    "tAE5YcD_IW0u",
    "efApI0Ii6srB"
   ],
   "name": "deep_learning_recommender_tf.ipynb",
   "provenance": [],
   "toc_visible": true
  },
  "kernelspec": {
   "display_name": "Python 3",
   "language": "python",
   "name": "python3"
  },
  "language_info": {
   "codemirror_mode": {
    "name": "ipython",
    "version": 3
   },
   "file_extension": ".py",
   "mimetype": "text/x-python",
   "name": "python",
   "nbconvert_exporter": "python",
   "pygments_lexer": "ipython3",
   "version": "3.6.9"
  }
 },
 "nbformat": 4,
 "nbformat_minor": 4
}
