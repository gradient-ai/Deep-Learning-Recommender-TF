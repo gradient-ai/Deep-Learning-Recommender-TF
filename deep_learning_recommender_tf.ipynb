{
 "cells": [
  {
   "cell_type": "markdown",
   "metadata": {
    "gradient": {
     "editing": false
    },
    "id": "1zKrxVlfnqvM"
   },
   "source": [
    "# Deep Learning Recommenders in TensorFlow\n",
    "\n",
    "Dr. Nick Ball  \n",
    "Data-Scientist-in-Residence, Paperspace\n",
    "\n",
    "Last updated: Aug 09th 2021\n",
    "\n",
    "This self-contained notebook shows the use of Paperspace Gradient to implement a recommender system using TensorFlow. It accompanies the 6-part blog series \"Gradient End-to-End: A Recommender System using Notebooks and Workflows\" on the [Paperspace blog](https://blog.paperspace.com), and the associated [Git Repository](https://github.com/gradient-ai/Deep-Learning-Recommender-TF).\n",
    "\n",
    "The project includes these main highlights:\n",
    "\n",
    "1. Show a real-world-style example of machine learning on Gradient\n",
    "2. End-to-end dataflow incorporating both Gradient Notebooks and Workflows\n",
    "3. Modern data science methodology based on Gradient's integrations with Git\n",
    "4. Use TensorFlow 2 and TensorFlow Recommenders (TFRS) to train a recommender model that includes deep learning\n",
    "5. Use training data that reflects what real-world projects deal with (not just demo data)\n",
    "6. Construct a custom model using the full TensorFlow subclassing API\n",
    "7. Show working hyperparameter tuning that improves the results\n",
    "8. Deploy model using Gradient Deployments and its TensorFlow Serving integrations\n",
    "9. Accompanying material: self-contained working Jupyter notebook, and Git repository\n",
    "10. Aimed at a broad technical audience: data scientists who are not engineers, engineers who are not data scientists, those who span the two disciplines, and others\n",
    "\n",
    "The project is not a complete enterprise-grade recommender system: they would typically take teams of several people months to construct, and result in an amount of code far greater than shown here, but it aims to be more than just a simple demonstration or toy model, by showcasing real data science techniques. In the Appendix we discuss some of the steps one might take to go from the project here to a full system, with a focus on Gradient's capabilities.\n",
    "\n",
    "We assume the reader of this notebook is somewhat technical, but not necessarily an expert in recommender systems, deep learning, TensorFlow, or Paperspace."
   ]
  },
  {
   "cell_type": "markdown",
   "metadata": {
    "gradient": {
     "editing": false
    }
   },
   "source": [
    "## Note: Section 5 is coming soon!\n",
    "\n",
    "Model deployment support in the Gradient product on public clusters is currently pending, expected in Sept. 2021. Therefore section 5 of the Notebook on model deployment is shown but will not yet run.\n"
   ]
  },
  {
   "cell_type": "markdown",
   "metadata": {
    "gradient": {
     "editing": false
    }
   },
   "source": [
    "### Requirements\n",
    "\n",
    "The notebook is designed to run on Paperspace Gradient\n",
    "\n",
    "In the Gradient GUI, create a Notebook with the following settings:\n",
    "\n",
    " - Name = Deep Learning Recommender (or any allowed name)\n",
    " - Select a runtime = TensorFlow 2.4.1\n",
    " - Select a machine = C5 or P4000\n",
    " - Public/private = set to preferred option\n",
    " - Under Advanced options, change the Workspace URL field from https://github.com/gradient-ai/TF2.4.1.git to https://github.com/gradient-ai/Deep-Learning-Recommender-TF to point to this repository. The other options can remain the same.\n",
    " - Start the Notebook\n",
    "\n",
    "Once the Notebook has started, click `deep_learning_recommender_tf.ipynb` to run in the usual way by clicking Run under each cell in turn.\n",
    "\n",
    "Notebook creation can also be done on the command line if desired, via gradient notebooks create. For more details on Notebooks, see the documentation.\n",
    "\n",
    "Alternatively, you can clone the Git repository and run in your own notebook setup\n",
    "\n",
    " - `git clone https://github.com/gradient-ai/Deep-Learning-Recommender-TF.git` (the repo is public, so Git's ssh command form is not required)\n",
    " - Be able to run Python 3, and import modules as in Section 2 below: Matplotlib, NumPy, TensorFlow 2, TFDS, TFRS\n",
    " - We use some notebook cell magic lines, such as `%matplotlib`"
   ]
  },
  {
   "cell_type": "markdown",
   "metadata": {
    "gradient": {
     "editing": false
    }
   },
   "source": [
    "### Additional requirements to run Gradient Workflows and model deployment (sections 4.3+)\n",
    "\n",
    "In addition to the above, to run the Gradient Workflows in section 4.3 and the model deployment in section 5 requires some more setup.\n",
    "\n",
    "This step is optional:\n",
    "\n",
    " - Use or create a [Gradient Private Cluster](https://docs.paperspace.com/gradient/gradient-private-cloud/about/setup/managed-installation) and [get its ID](https://docs.paperspace.com/gradient/gradient-private-cloud/about/usage#finding-your-cluster-id). If no cluster ID is specified, the Gradient public cluster will be used.\n",
    "\n",
    "These requirements will remain, being associated with Workflows as the enterprise-grade production part of Gradient:\n",
    "\n",
    " - [Create a project](https://docs.paperspace.com/gradient/get-started/managing-projects#create-a-project) and [get its ID](https://docs.paperspace.com/gradient/get-started/managing-projects#get-your-projects-id)\n",
    " - [Generate an API key](https://docs.paperspace.com/gradient/get-started/quick-start/install-the-cli#obtaining-an-api-key) for your project to allow access\n",
    " - [Store the API key](https://docs.paperspace.com/gradient/get-started/managing-projects/storing-an-api-key-as-a-secret) as a secret in your project\n",
    "\n",
    "These steps will go away as the product matures around Workflows:\n",
    "\n",
    " - [Create the two workflows](https://docs.paperspace.com/gradient/explore-train-deploy/workflows/getting-started-with-workflows#creating-gradient-workflows) named `recommender-train-model` and `recommender-deploy-model`, and [get their IDs](https://docs.paperspace.com/gradient/explore-train-deploy/workflows/getting-started-with-workflows#running-your-first-workflow-run)\n",
    " - [Create an output dataset](https://docs.paperspace.com/gradient/data/data-overview/private-datasets-repository#creating-a-dataset-and-dataset-version) for the training workflow, named `recommender`\n",
    " \n",
    "The create workflow step and create output dataset can be done via the GUI, or the [command line interface](https://docs.paperspace.com/gradient/get-started/quick-start/install-the-cli) (CLI). The commands for the latter look like\n",
    "\n",
    "`gradient storageProviders list --apiKey <your API key>` (note the `storage provider ID` for **Gradient Managed** storage)  \n",
    "`gradient datasets create --name recommender --storageProviderId <your storage provider ID> --apiKey <your API key>`  \n",
    "`gradient workflows create --name Recommender-Train-Model --projectId <your project ID> --apiKey <your API key>`  \n",
    "`gradient workflows create --name Recommender-Deploy-Model --projectId <your project ID> --apiKey <your API key>`\n",
    "\n",
    "The usage of `--apiKey` on the command line is optional: you can also store a key in a JSON file, e.g., `~/.paperspace/config.json` to avoid having to add it to each command. Here we leave it present. Another option is the environment variable `PAPERSPACE_API_KEY`. See [connecting your account](https://docs.paperspace.com/gradient/get-started/quick-start/install-the-cli#connecting-your-account) for more details.\n",
    "\n",
    "Note that one thing that is *not* required for this project, even in the current beta state, is any setup on your own machine, unless you choose to use the CLI. This is because the Workflows are invoked from this Notebook, via the SDK."
   ]
  },
  {
   "cell_type": "markdown",
   "metadata": {
    "gradient": {
     "editing": false
    }
   },
   "source": [
    "### Format of notebook text\n",
    "\n",
    "The main text is shown as MarkDown, like this."
   ]
  },
  {
   "cell_type": "code",
   "execution_count": null,
   "metadata": {
    "gradient": {
     "editing": false
    }
   },
   "outputs": [],
   "source": [
    "# Optional extra information is in cell comments, like this."
   ]
  },
  {
   "cell_type": "markdown",
   "metadata": {
    "gradient": {
     "editing": false
    }
   },
   "source": [
    "### Recommenders\n",
    "\n",
    "Recommender systems are widely used in modern artificial intelligence, most prominently in retail and entertainment content. However, many of these systems in businesses still use classical methods such as matrix factorization that may not capture all of the information now available.\n",
    "\n",
    "The addition of the fully nonlinear mappings allowed by machine learning, for example deep learning neural network layers, can improve the performance of recommender systems by both capturing more of the complex patterns of information that are present, and by making it easier to add new information in the form of further data feature columns, such as detailed text descriptions or reviews, multiple user and item information columns, or timestamps.\n",
    "\n",
    "Here, we use the new TensorFlow Recommenders library to show how the addition of deep learning to a recommender model improves its performance."
   ]
  },
  {
   "cell_type": "markdown",
   "metadata": {
    "gradient": {
     "editing": false
    },
    "id": "VAsFUrkgyYAu"
   },
   "source": [
    "# Contents\n",
    "\n",
    "1. Introduction: Recommender systems and deep learning\n",
    "2. Setup\n",
    "3. Preparing the dataset\n",
    "4. Build the recommender models\n",
    "5. Deploy the final model\n",
    "6. Conclusions\n",
    "\n",
    "Next Steps  \n",
    "Appendices"
   ]
  },
  {
   "cell_type": "markdown",
   "metadata": {
    "gradient": {
     "editing": false
    },
    "id": "tnDTzpDQ_hUS"
   },
   "source": [
    "## 1: Introduction: Recommender systems and deep learning\n",
    "\n",
    "A good way to describe most recommender systems is:\n",
    "\n",
    "*Present suggested new items to a user that users similar to them already liked.*\n",
    "\n",
    "This is on the assumption that if users similar to them liked something, there is a better-than-random chance that they will like it too.\n",
    "\n",
    "The short sentence above involves several concepts, including information about a user, how to measure if they are similar to another user, what items the other users liked, how to choose candidate items to present from the whole list, and how to rank those choices.\n",
    "\n",
    "(There are further ideas as well, such as whether a user rated an item explicitly or just implicitly liked it by watching or buying it, and using other similarities such as item-item as well as user-user similarity.)\n",
    "\n",
    "Here, we use the well-known MovieLens dataset, containing information about which movies users watched, along with details of the movies, the users, and the times of viewing. The idea is to present to a user suggested movies that they might like to watch next.\n",
    "\n",
    "While not a huge modern dataset with millions of viewings from millions of users, it has been widely used, and is \"real enough\" to show both how deep learning can improve recommender models, and how to set up and end-to-end data science workflow.\n",
    "\n",
    "The content of this notebook is based on the tutorials of the [TensorFlow Recommenders (TFRS) library](https://www.tensorflow.org/recommenders), modified to include more real-world data science steps, and showing a model being deployed into production.\n",
    "\n",
    "As described there, recommender models commonly consist of two parts:\n",
    "\n",
    " - Retrieval, which selects possible candidates from the whole list of items that could be recommended, in this case being movies the user might be interested in\n",
    " - Ranking, which narrows down this list to a refined set of items to recommend\n",
    "\n",
    "We concentrate on the ranking portion, showing how the addition of deep learning layers, data features, and hyperparameter tuning, improves the performance of the model.\n",
    "\n",
    "We then show how the resulting model can be easily deployed with Gradient Deployments.\n",
    "\n",
    "The concentration on just one part of the models to be built is so that we can show more fully realized data science steps, the end-to-end process using both Gradient Notebooks and Workflows, and some of the corresponding functionaity, without the project becoming overly long or repetitive."
   ]
  },
  {
   "cell_type": "markdown",
   "metadata": {
    "gradient": {
     "editing": false
    },
    "id": "3EeRY5DQI5VV"
   },
   "source": [
    "## 2: Setup\n",
    "\n",
    "This project uses [TensorFlow Datasets (TFDS)](https://www.tensorflow.org/datasets) and the TensorFlow Recommenders library (TFRS) in addition to the basic TensorFlow 2 and Python 3.\n",
    "\n",
    "TFRS was created as a separate library because recommender systems typically do not correspond to the simple setup of supervised learning models, but have a more complex arrangement of processing steps associated with them. So rather than using a few layers in the high-level TensorFlow Keras Sequential or [Functional](https://www.tensorflow.org/guide/keras/functional) APIs, they need the custom model and custom layer setup in the lower level representation of writing the model classes and subclasses directly.\n",
    "\n",
    "However, recommenders do contain their own common components, such as the FactorizedTopK performance metric for retrieval, that mean usage of a library is considerably more convenient than writing something from scratch in TensorFlow.\n",
    "\n",
    "We use TensorFlow Datasets as the emphases in this project are recommenders, Gradient functionality, end-to-end, and showing some model tuning, rather than data gathering, cleaning, and preparation. Of course, in a full enterprise system this would be a more prominent aspect of the dataflow.\n",
    "\n",
    "Let's install TFDS, TFRS, and import these and the Python modules that we need."
   ]
  },
  {
   "cell_type": "code",
   "execution_count": null,
   "metadata": {
    "gradient": {
     "editing": true
    },
    "id": "9gG3jLOGbaUv"
   },
   "outputs": [
    {
     "name": "stdout",
     "output_type": "stream",
     "text": [
      "/usr/lib/python3/dist-packages/secretstorage/dhcrypto.py:15: CryptographyDeprecationWarning: int_from_bytes is deprecated, use int.from_bytes instead\n",
      "  from cryptography.utils import int_from_bytes\n",
      "/usr/lib/python3/dist-packages/secretstorage/util.py:19: CryptographyDeprecationWarning: int_from_bytes is deprecated, use int.from_bytes instead\n",
      "  from cryptography.utils import int_from_bytes\n",
      "Requirement already satisfied: pip in /usr/local/lib/python3.6/dist-packages (21.2.3)\n",
      "\u001b[33mWARNING: Running pip as the 'root' user can result in broken permissions and conflicting behaviour with the system package manager. It is recommended to use a virtual environment instead: https://pip.pypa.io/warnings/venv\u001b[0m\n",
      "/usr/lib/python3/dist-packages/secretstorage/dhcrypto.py:15: CryptographyDeprecationWarning: int_from_bytes is deprecated, use int.from_bytes instead\n",
      "  from cryptography.utils import int_from_bytes\n",
      "/usr/lib/python3/dist-packages/secretstorage/util.py:19: CryptographyDeprecationWarning: int_from_bytes is deprecated, use int.from_bytes instead\n",
      "  from cryptography.utils import int_from_bytes\n",
      "\u001b[31mERROR: pip's dependency resolver does not currently take into account all the packages that are installed. This behaviour is the source of the following dependency conflicts.\n",
      "gradient-utils 0.3.2 requires numpy==1.18.5, but you have numpy 1.19.5 which is incompatible.\u001b[0m\n",
      "\u001b[33mWARNING: Running pip as the 'root' user can result in broken permissions and conflicting behaviour with the system package manager. It is recommended to use a virtual environment instead: https://pip.pypa.io/warnings/venv\u001b[0m\n",
      "/usr/lib/python3/dist-packages/secretstorage/dhcrypto.py:15: CryptographyDeprecationWarning: int_from_bytes is deprecated, use int.from_bytes instead\n",
      "  from cryptography.utils import int_from_bytes\n",
      "/usr/lib/python3/dist-packages/secretstorage/util.py:19: CryptographyDeprecationWarning: int_from_bytes is deprecated, use int.from_bytes instead\n",
      "  from cryptography.utils import int_from_bytes\n",
      "\u001b[33mWARNING: Running pip as the 'root' user can result in broken permissions and conflicting behaviour with the system package manager. It is recommended to use a virtual environment instead: https://pip.pypa.io/warnings/venv\u001b[0m\n"
     ]
    }
   ],
   "source": [
    "# Currently the notebook is using pip install, which would not be ideal in a production environment.\n",
    "# This is because the install changes the environment and the versions of libraries being installed are\n",
    "# not necessarily fixed, meaning the environment is not fixed and hence reproducibility is not guaranteed.\n",
    "# One could use requirements.txt, but this also does not necessarily fix things due to secondary dependencies.\n",
    "\n",
    "# Various solutions exist, but for rigorous work, Gradient allows the user to build a custom container\n",
    "# containing the correct dependencies, which removes the need for pip install.\n",
    "\n",
    "# Here, the container we use fixes versions, except for TFDS and TFRS, whose versions we therefore fix.\n",
    "\n",
    "!pip install --upgrade pip\n",
    "!pip install -q tensorflow-recommenders==0.4.0\n",
    "!pip install -q --upgrade tensorflow-datasets==4.2.0"
   ]
  },
  {
   "cell_type": "code",
   "execution_count": null,
   "metadata": {
    "gradient": {
     "editing": false
    },
    "id": "SZGYDaF-m5wZ"
   },
   "outputs": [],
   "source": [
    "import os\n",
    "import platform\n",
    "\n",
    "# This is Python's function for more nicely or compactly printing variables or data\n",
    "import pprint\n",
    "\n",
    "# Python 3 allows hints on variable types to be given\n",
    "# Here they are used in the model class definitions\n",
    "from typing import Dict, Text\n",
    "\n",
    "# NumPy is used, e.g., for viewing the data in TensorFlow tensors\n",
    "# TensorFlow tensors are built on NumPy arrays\n",
    "import numpy as np\n",
    "\n",
    "# This allows simple inline plots of, e.g., model training history\n",
    "%matplotlib inline\n",
    "import matplotlib.pyplot as plt\n",
    "plt.style.use('seaborn-whitegrid') # Following TFRS tutorials\n",
    "\n",
    "# TensorFlow, TFDS, TFRS\n",
    "import tensorflow as tf\n",
    "import tensorflow_datasets as tfds\n",
    "import tensorflow_recommenders as tfrs"
   ]
  },
  {
   "cell_type": "markdown",
   "metadata": {
    "gradient": {
     "editing": false
    },
    "id": "ecPlfiYXJDQe"
   },
   "source": [
    "We can see some basic information about the versions of software that we are using. In principle, the container could be accessed to find out more."
   ]
  },
  {
   "cell_type": "code",
   "execution_count": null,
   "metadata": {
    "colab": {
     "base_uri": "https://localhost:8080/"
    },
    "gradient": {
     "editing": false
    },
    "id": "Nc5Um6Y44D-Q",
    "outputId": "df8fe35b-e2e5-4a09-be4a-13c63c757ebe"
   },
   "outputs": [
    {
     "name": "stdout",
     "output_type": "stream",
     "text": [
      "NumPy version: 1.19.5\n",
      "Python version: 3.6.9\n",
      "TensorFlow version: 2.4.0\n",
      "TensorFlow Datasets version: 4.2.0\n",
      "TensorFlow Recommenders version: v0.4.0\n"
     ]
    }
   ],
   "source": [
    "print('NumPy version: {}'.format(np.__version__))\n",
    "print('Python version: {}'.format(platform.python_version()))\n",
    "print('TensorFlow version: {}'.format(tf.__version__))\n",
    "print('TensorFlow Datasets version: {}'.format(tfds.__version__))\n",
    "print('TensorFlow Recommenders version: {}'.format(tfrs.__version__))"
   ]
  },
  {
   "cell_type": "markdown",
   "metadata": {
    "gradient": {
     "editing": false
    },
    "id": "GJORoRytYAGI"
   },
   "source": [
    "We can see if GPUs, etc., are available, or just CPU. Here we do not currently specify devices other than the default, as the processing run is not large enough to require a GPU."
   ]
  },
  {
   "cell_type": "code",
   "execution_count": null,
   "metadata": {
    "colab": {
     "base_uri": "https://localhost:8080/"
    },
    "gradient": {
     "editing": false
    },
    "id": "o914Boo2YDYz",
    "outputId": "1c553eac-8a74-4955-990e-6a6245fc14da"
   },
   "outputs": [
    {
     "name": "stdout",
     "output_type": "stream",
     "text": [
      "[name: \"/device:CPU:0\"\n",
      "device_type: \"CPU\"\n",
      "memory_limit: 268435456\n",
      "locality {\n",
      "}\n",
      "incarnation: 15123098248465724941\n",
      ", name: \"/device:GPU:0\"\n",
      "device_type: \"GPU\"\n",
      "memory_limit: 7810874080\n",
      "locality {\n",
      "  bus_id: 1\n",
      "  links {\n",
      "  }\n",
      "}\n",
      "incarnation: 13217360528687930248\n",
      "physical_device_desc: \"device: 0, name: Quadro P4000, pci bus id: 0000:00:05.0, compute capability: 6.1\"\n",
      "]\n"
     ]
    }
   ],
   "source": [
    "from tensorflow.python.client import device_lib\n",
    "print(device_lib.list_local_devices())"
   ]
  },
  {
   "cell_type": "markdown",
   "metadata": {
    "gradient": {
     "editing": false
    },
    "id": "5PAqjR4a1RR4"
   },
   "source": [
    "## 3: Preparing the dataset\n",
    "\n",
    "Load the MovieLens data from TensorFlow Datasets."
   ]
  },
  {
   "cell_type": "code",
   "execution_count": null,
   "metadata": {
    "gradient": {
     "editing": false
    },
    "id": "aaQhqcLGP0jL"
   },
   "outputs": [],
   "source": [
    "# This loads the data from the official TensorFlow datasets repository\n",
    "# at https://www.tensorflow.org/datasets/catalog/movielens\n",
    "# The -ratings suffix indicates that we are loading the dataset with the\n",
    "# movies data joined to the ratings data\n",
    "\n",
    "ratings_raw = tfds.load('movielens/100k-ratings', split='train')"
   ]
  },
  {
   "cell_type": "code",
   "execution_count": null,
   "metadata": {
    "colab": {
     "base_uri": "https://localhost:8080/"
    },
    "gradient": {
     "editing": false
    },
    "id": "X_sx4C_Bw4sc",
    "outputId": "aff47275-f87a-482c-eb1f-a8093d449c97"
   },
   "outputs": [
    {
     "data": {
      "text/plain": [
       "<PrefetchDataset shapes: {bucketized_user_age: (), movie_genres: (None,), movie_id: (), movie_title: (), raw_user_age: (), timestamp: (), user_gender: (), user_id: (), user_occupation_label: (), user_occupation_text: (), user_rating: (), user_zip_code: ()}, types: {bucketized_user_age: tf.float32, movie_genres: tf.int64, movie_id: tf.string, movie_title: tf.string, raw_user_age: tf.float32, timestamp: tf.int64, user_gender: tf.bool, user_id: tf.string, user_occupation_label: tf.int64, user_occupation_text: tf.string, user_rating: tf.float32, user_zip_code: tf.string}>"
      ]
     },
     "execution_count": 7,
     "metadata": {},
     "output_type": "execute_result"
    }
   ],
   "source": [
    "# It is loaded as a TensorFlow PrefetchDataset\n",
    "ratings_raw"
   ]
  },
  {
   "cell_type": "markdown",
   "metadata": {
    "gradient": {
     "editing": false
    },
    "id": "9VReDbPf4QRU"
   },
   "source": [
    "Data science workflows, especially in the experimental and model training stage as here, should contain a strong component of viewing the actual data throughout the analysis. This is both for the understanding of the experimenter, other readers, and for sanity checking.\n",
    "\n",
    "Here we see that various columns (features) are available, including information about the user, the movie they watched, and outcomes such as the user's rating of the movie.\n",
    "\n",
    "It is important to distinguish between information that is available before a user watches a movie from that which is only available after, as the latter cannot be used as a feature for training a recommender model. This is because the data to be fed into it when it is deployed must be available before the user has watched the movie that is being recommended to them.\n",
    "\n",
    "In this case, the requirement manifests as the `user_rating` column being a training target and not a feature, and a timestamp column that should be normalized into something that is cyclical like a day of week / month / year, and not an absolute date. Such a date won't come around again in the future when the model has been deployed on unseen data.\n",
    "\n",
    "We also immediately see issues with the data that may manifest further along in the dataflow, such as some of the columns being byte-encoded (strings like `b'357'` instead of just `'357'`). If the setup of TensorFlow Serving plus the RESTful API is to be used for deployment, these will have to be converted to be able to be represented in JSON for passing to the model when it is deployed.\n",
    "\n",
    "The end-to-end mentality of having deployment in scope from the start, enabled by Gradient, has encouraged us to look for and notice these issues right here, rather than spending time training the model and only then noticing them. The latter approach could result in signficant wasted effort if it turns out that the deployment issues are not solvable.\n",
    "\n",
    "The top 2 rows of data are shown."
   ]
  },
  {
   "cell_type": "code",
   "execution_count": null,
   "metadata": {
    "colab": {
     "base_uri": "https://localhost:8080/"
    },
    "gradient": {
     "editing": false
    },
    "id": "JdNMayvVzhP9",
    "outputId": "2790ba40-5156-4601-aded-36340dc6db31"
   },
   "outputs": [
    {
     "name": "stdout",
     "output_type": "stream",
     "text": [
      "{'bucketized_user_age': 45.0,\n",
      " 'movie_genres': array([7]),\n",
      " 'movie_id': b'357',\n",
      " 'movie_title': b\"One Flew Over the Cuckoo's Nest (1975)\",\n",
      " 'raw_user_age': 46.0,\n",
      " 'timestamp': 879024327,\n",
      " 'user_gender': True,\n",
      " 'user_id': b'138',\n",
      " 'user_occupation_label': 4,\n",
      " 'user_occupation_text': b'doctor',\n",
      " 'user_rating': 4.0,\n",
      " 'user_zip_code': b'53211'}\n",
      "{'bucketized_user_age': 25.0,\n",
      " 'movie_genres': array([ 4, 14]),\n",
      " 'movie_id': b'709',\n",
      " 'movie_title': b'Strictly Ballroom (1992)',\n",
      " 'raw_user_age': 32.0,\n",
      " 'timestamp': 875654590,\n",
      " 'user_gender': True,\n",
      " 'user_id': b'92',\n",
      " 'user_occupation_label': 5,\n",
      " 'user_occupation_text': b'entertainment',\n",
      " 'user_rating': 2.0,\n",
      " 'user_zip_code': b'80525'}\n"
     ]
    }
   ],
   "source": [
    "# Just saying print(ratings) results in the output <PrefetchDataset shapes: ... as above\n",
    "# So the data is extracted from the TensorFlow tensor format using NumPy\n",
    "\n",
    "for x in ratings_raw.take(2).as_numpy_iterator():\n",
    "    pprint.pprint(x)"
   ]
  },
  {
   "cell_type": "markdown",
   "metadata": {
    "gradient": {
     "editing": false
    },
    "id": "Eo1v4Oac63Te"
   },
   "source": [
    "TensorFlow's `.map()` applies the function in the brackets to each element of a dataset, so with the lambda inline Python function we can reduce the data down to just the columns that we are going to use. Currently these are the movie title, the time of viewing, the user who viewed it, and their rating of the movie."
   ]
  },
  {
   "cell_type": "code",
   "execution_count": null,
   "metadata": {
    "gradient": {
     "editing": false
    },
    "id": "fPH5ffpdw0RR"
   },
   "outputs": [],
   "source": [
    "ratings = ratings_raw.map(lambda x: {\n",
    "    'movie_title': x['movie_title'],\n",
    "    'timestamp': x['timestamp'],\n",
    "    'user_id': x['user_id'],\n",
    "    'user_rating': x['user_rating']\n",
    "})"
   ]
  },
  {
   "cell_type": "markdown",
   "metadata": {
    "gradient": {
     "editing": false
    },
    "id": "Iu4XSa_G1nyN"
   },
   "source": [
    "We perform the canonical 80:20 random split of 80% training data and 20% testing data, with in turn 20% of the training data being used for model validation.\n",
    "\n",
    "As mentioned above, we want to avoid leakage of information from the testing set into the training and validation sets, so we split by timestamp. The testing data comes from later times than the training & validation data. Currently the timestamp used is still absolute rather than cyclic (day of week, month of year, etc.), but that would likely just dampen its utility as a feature, so long as the model is not overfitting to it.\n",
    "\n",
    "TensorFlow allows global and local random seeds to be set, which can ensure, e.g., that we get the same 80:20 split each time here.\n",
    "\n",
    "However, randomness remains in the machine learning models when they are run, which is harder to remove. We have not attempted to do so in this project so results may vary when the notebook is rerun, but they should show the same overall pattern, i.e., they are statistically reproducible even if not exactly reproducible."
   ]
  },
  {
   "cell_type": "code",
   "execution_count": null,
   "metadata": {
    "gradient": {
     "editing": false
    },
    "id": "jjyIcUVEMmmP"
   },
   "outputs": [],
   "source": [
    "# Get times as a list so we can get the minimum and maximum time values\n",
    "# In the original data they are dictionaries, so a list is needed\n",
    "# Following the TFRS deep model tutorial (https://www.tensorflow.org/recommenders/examples/deep_recommenders)\n",
    "# a quick way to do this is\n",
    "\n",
    "timestamps = np.concatenate(list(ratings.map(lambda x: x['timestamp']).batch(100)))"
   ]
  },
  {
   "cell_type": "code",
   "execution_count": null,
   "metadata": {
    "colab": {
     "base_uri": "https://localhost:8080/"
    },
    "gradient": {
     "editing": false
    },
    "id": "MD5dhCphMm2I",
    "outputId": "3c10d169-d485-44f7-9018-308fc8e68501"
   },
   "outputs": [
    {
     "name": "stdout",
     "output_type": "stream",
     "text": [
      "Minimum time value = 874724710\n",
      "Maximum time value = 893286638\n"
     ]
    }
   ],
   "source": [
    "# Get minimum and maximum time values\n",
    "\n",
    "max_time = timestamps.max()\n",
    "min_time = timestamps.min()\n",
    "\n",
    "print('Minimum time value = {}'.format(min_time))\n",
    "print('Maximum time value = {}'.format(max_time))"
   ]
  },
  {
   "cell_type": "code",
   "execution_count": null,
   "metadata": {
    "colab": {
     "base_uri": "https://localhost:8080/"
    },
    "gradient": {
     "editing": false
    },
    "id": "BE16LGI8Mxry",
    "outputId": "0db255df-29ad-428c-8ea3-c5257029b1bd"
   },
   "outputs": [
    {
     "name": "stdout",
     "output_type": "stream",
     "text": [
      "60th percentile time = 885861866.8\n",
      "80th percentile time = 889574252.4\n"
     ]
    }
   ],
   "source": [
    "# Get 60th & 80th percentile times\n",
    "\n",
    "sixtieth_percentile = min_time + 0.6*(max_time - min_time)\n",
    "eightieth_percentile = min_time + 0.8*(max_time - min_time)\n",
    "\n",
    "print('60th percentile time = {}'.format(sixtieth_percentile))\n",
    "print('80th percentile time = {}'.format(eightieth_percentile))"
   ]
  },
  {
   "cell_type": "code",
   "execution_count": null,
   "metadata": {
    "gradient": {
     "editing": false
    },
    "id": "ayX_o1YkMxx6"
   },
   "outputs": [],
   "source": [
    "# Filter original data so that\n",
    "\n",
    "# Training set <= 60th percentile time\n",
    "# 60th < Validation set <= 80th\n",
    "# Testing set > 80th\n",
    "\n",
    "train =      ratings.filter(lambda x: x['timestamp'] <= sixtieth_percentile)\n",
    "validation = ratings.filter(lambda x: x['timestamp'] > sixtieth_percentile and x['timestamp'] <= eightieth_percentile)\n",
    "test =       ratings.filter(lambda x: x['timestamp'] > eightieth_percentile)"
   ]
  },
  {
   "cell_type": "code",
   "execution_count": null,
   "metadata": {
    "colab": {
     "base_uri": "https://localhost:8080/"
    },
    "gradient": {
     "editing": false
    },
    "id": "Jwlwp7-MMx03",
    "outputId": "2c6df211-27f6-40e6-c891-aac0428ddd96"
   },
   "outputs": [
    {
     "name": "stdout",
     "output_type": "stream",
     "text": [
      "Number of rows in training set = 65336\n",
      "Number of rows in validation set = 15778\n",
      "Number of rows in testing set = 18886\n",
      "Total number of rows = 100000\n"
     ]
    }
   ],
   "source": [
    "# We are splitting on time percentiles and not row percentiles,\n",
    "# which means that we have assumed the times are roughly evenly distributed\n",
    "\n",
    "# So check the number of rows in the training, validation, and testing sets is as expected\n",
    "\n",
    "# We could also do row percentiles, which would involve sorting the data by time then shuffling after splitting\n",
    "# As written, the counting is a little slow, but .__len__() doesn't work on the FilterDataset from above\n",
    "\n",
    "# The lengths sum to the number of rows in the original data, currently 100,000, as expected\n",
    "\n",
    "ntimes_tr = 0\n",
    "ntimes_va = 0\n",
    "ntimes_te = 0\n",
    "\n",
    "for x in train.take(-1).as_numpy_iterator():\n",
    "    ntimes_tr += 1\n",
    "\n",
    "for x in validation.take(-1).as_numpy_iterator():\n",
    "    ntimes_va += 1\n",
    "\n",
    "for x in test.take(-1).as_numpy_iterator():\n",
    "    ntimes_te += 1\n",
    "    \n",
    "print('Number of rows in training set = {}'.format(ntimes_tr))\n",
    "print('Number of rows in validation set = {}'.format(ntimes_va))\n",
    "print('Number of rows in testing set = {}'.format(ntimes_te))\n",
    "print('Total number of rows = {}'.format(ntimes_tr + ntimes_va + ntimes_te))"
   ]
  },
  {
   "cell_type": "code",
   "execution_count": null,
   "metadata": {
    "gradient": {
     "editing": false
    },
    "id": "rS0eDfkjnjJL"
   },
   "outputs": [],
   "source": [
    "# A validation set is created here because validation_split in model.fit() \n",
    "# is not supported for datasets - its input would have to be tensors\n",
    "# ( [1] ValueError: `validation_split` is only supported for Tensors or NumPy arrays, \n",
    "# found following types in the input: \n",
    "# [<class 'tensorflow.python.data.ops.dataset_ops.CacheDataset'>] )\n",
    "\n",
    "train = train.shuffle(ntimes_tr)\n",
    "validation = validation.shuffle(ntimes_va)\n",
    "test = test.shuffle(ntimes_te)"
   ]
  },
  {
   "cell_type": "markdown",
   "metadata": {
    "gradient": {
     "editing": false
    },
    "id": "RNIIbzfYDMVt"
   },
   "source": [
    "We also need to extract from the data the list of unique user IDs and unique movie titles.\n",
    "\n",
    "This is because these variables are categorical, and when we use embedding vectors (see below), they map each category onto its own vector."
   ]
  },
  {
   "cell_type": "code",
   "execution_count": null,
   "metadata": {
    "gradient": {
     "editing": false
    },
    "id": "MKROCiPo_5LJ"
   },
   "outputs": [],
   "source": [
    "movie_titles = ratings.batch(1_000_000).map(lambda x: x['movie_title'])\n",
    "user_ids = ratings.batch(1_000_000).map(lambda x: x['user_id'])"
   ]
  },
  {
   "cell_type": "code",
   "execution_count": null,
   "metadata": {
    "gradient": {
     "editing": false
    },
    "id": "6NfVEmLiz9jq"
   },
   "outputs": [],
   "source": [
    "unique_movie_titles = np.unique(np.concatenate(list(movie_titles)))\n",
    "unique_user_ids = np.unique(np.concatenate(list(user_ids)))"
   ]
  },
  {
   "cell_type": "markdown",
   "metadata": {
    "gradient": {
     "editing": false
    },
    "id": "4-Vj9nHb48pn"
   },
   "source": [
    "## 4: Build the recommender models\n",
    "\n",
    "As mentioned above, recommender systems are often composed of a retrieval model and a ranking model. We will be focusing on the ranking model.\n",
    "\n",
    "We will build two models:\n",
    "\n",
    " - Basic ranking\n",
    " - Tuned ranking\n",
    "\n",
    "and show that the tuned ranking model gives the best performance. This shows the importance of tuning and not just engineering a pipeline using a model off-the-shelf.\n",
    "\n",
    "Recommenders are more complex than basic supervised models, so in the hierarchy of increased flexibility but decreased simplicity or ease of use from the Keras Sequential API, through the Keras functional API, to full definition of model classes and subclasses, the latter approach is used. The classes don't have to be written entirely from scratch, however, as the TFRS library contains various convenience classes and functions, and higher level Keras models and layers can still be used when they fit the purpose.\n",
    "\n",
    "In these models, some of the feature preprocessing can be incorporated as part of the model. This reduces the chance of errors being introduced when it is deployed in production in a different place from where it was trained, because the preprocessing of data from the raw inputs to those correct for the model does not need to be duplicated.\n",
    "\n",
    "The various preprocessing steps and modeling components are combined into a recommender model that can then be trained. The model is described by a Python class that inherits from the TFRS base class.\n",
    "\n",
    "It includes:\n",
    "\n",
    " - Movie embeddings\n",
    " - User ID embeddings\n",
    " - Deep learning layer to compute the rankings\n",
    " - Task layer to compute mean squared error\n",
    " - The `call()` method\n",
    " - The `compute_loss()` method\n",
    "\n",
    "The movie and user ID *embeddings* are using this common method of reducing a column that contains a large number of unique categories to something more manageable. The raw categories get mapped onto integers (known as a vocabulary), which in turn are converted to embeddings. The embedding itself is a vector that represents the mapping from a space with many dimensions (the number of categories) to a continuous vector space with a much lower dimension, e.g., 32.\n",
    "\n",
    "The deep learning layer is a typical set of densely connected layers (every neuron connected to all the others) that allows an arbitrary nonlinear mapping between the inputs and outputs. Deep learning is typically more compute-intensive, but for ranking in a full production system only a small subset of the movies are being used, having been selected by the retrieval model, so this helps.\n",
    "\n",
    "The task layer computes mean squared error between a given ground truth target and the model's prediction. This feeds into `compute_loss()`. `Task` is a TFRS layer that is combining computing the loss, i.e., the measure by which the model training is iterated, and the metric, the measure by which the model performance is reported to the human user. In this case the loss is mean squared error and the metric is root mean squared error, so they are quite similar.\n",
    "\n",
    "The `compute_loss()` method measures how well the model is performing after each iteration of training. This is a built-in method to TFRS and is therefore automatically called during model training with a `tfrs.models.Model` class (the training loop).\n",
    "\n",
    "The `call()` method executes the various steps when the model is run, and is important for the model to be able to be saved for later deployment.\n",
    "\n",
    "The overall result is that for a given user ID and movie title fed to the model, the output is a prediction of what rating that user would give to that movie if they were to watch it. The movies with the highest predicted ratings therefore become the recommendations for that user."
   ]
  },
  {
   "cell_type": "markdown",
   "metadata": {
    "gradient": {
     "editing": false
    },
    "id": "2xiUI74SGklF"
   },
   "source": [
    "### 4.1: Basic ranking model\n",
    "\n",
    "The basic model shows what happens when a model is set up with some default parameters, without attempting to tune any of them.\n",
    "\n",
    "The model is similar to the one in the [TFRS multitask tutorial](https://www.tensorflow.org/recommenders/examples/multitask), here doing a single task."
   ]
  },
  {
   "cell_type": "code",
   "execution_count": null,
   "metadata": {
    "gradient": {
     "editing": false
    }
   },
   "outputs": [],
   "source": [
    "class MovielensModelBasicRanking(tfrs.models.Model):\n",
    "\n",
    "    def __init__(self) -> None:\n",
    "        super().__init__()\n",
    "        embedding_dimension = 32\n",
    "\n",
    "        # The embeddings use Keras's preprocessing layers\n",
    "\n",
    "        # Embeddings for movies\n",
    "        self.movie_model: tf.keras.layers.Layer = tf.keras.Sequential([\n",
    "            tf.keras.layers.experimental.preprocessing.StringLookup(\n",
    "                vocabulary=unique_movie_titles, mask_token=None),\n",
    "            tf.keras.layers.Embedding(len(unique_movie_titles) + 1, embedding_dimension)\n",
    "        ])\n",
    "\n",
    "        # Embeddings for users\n",
    "        self.user_model: tf.keras.layers.Layer = tf.keras.Sequential([\n",
    "            tf.keras.layers.experimental.preprocessing.StringLookup(\n",
    "                vocabulary=unique_user_ids, mask_token=None),\n",
    "            tf.keras.layers.Embedding(len(unique_user_ids) + 1, embedding_dimension)\n",
    "        ])\n",
    "\n",
    "        # Predicted ratings\n",
    "        # This is where deep learning is being used in the recommender system\n",
    "        # The predictions are output by the final layer, hence its size of 1\n",
    "\n",
    "        self.rating_model = tf.keras.Sequential([\n",
    "            tf.keras.layers.Dense(256, activation='relu'),\n",
    "            tf.keras.layers.Dense(64, activation='relu'),\n",
    "            tf.keras.layers.Dense(1)\n",
    "        ])\n",
    "\n",
    "        # Ranking is written as a TFRS task\n",
    "        self.task: tf.keras.layers.Layer = tfrs.tasks.Ranking(\n",
    "            loss = tf.keras.losses.MeanSquaredError(),\n",
    "            metrics=[tf.keras.metrics.RootMeanSquaredError()]\n",
    "        )\n",
    "\n",
    "    # The call method allows the model to be run, and saved\n",
    "    # The embeddings are passed into the model\n",
    "    # The embeddings and predicted rating are returned\n",
    "\n",
    "    def call(self, features: Dict[Text, tf.Tensor]) -> tf.Tensor:\n",
    "        user_embeddings = self.user_model(features['user_id'])\n",
    "        movie_embeddings = self.movie_model(features['movie_title'])\n",
    "\n",
    "        return (\n",
    "            user_embeddings,\n",
    "            movie_embeddings,\n",
    "            self.rating_model(\n",
    "                tf.concat([user_embeddings, movie_embeddings], axis=1)\n",
    "            ),\n",
    "        )\n",
    "\n",
    "    # This is the TFRS built-in method that computes the model loss function during training\n",
    "    def compute_loss(self, features: Dict[Text, tf.Tensor], training=False) -> tf.Tensor:\n",
    "\n",
    "        ratings = features.pop('user_rating')\n",
    "        user_embeddings, movie_embeddings, rating_predictions = self(features)\n",
    "\n",
    "        rating_loss = self.task(\n",
    "            labels=ratings,\n",
    "            predictions=rating_predictions,\n",
    "        )\n",
    "\n",
    "        return rating_loss"
   ]
  },
  {
   "cell_type": "markdown",
   "metadata": {
    "gradient": {
     "editing": false
    },
    "id": "SfAqxdgYH1Hl"
   },
   "source": [
    "As at the start of the dataflow, we should view the data at the training stage.\n",
    "\n",
    "The training data is quite similar to the original loaded data, now just movie title, timestamp, user ID, and rating."
   ]
  },
  {
   "cell_type": "code",
   "execution_count": null,
   "metadata": {
    "colab": {
     "base_uri": "https://localhost:8080/"
    },
    "gradient": {
     "editing": false
    },
    "id": "X4wN-Oxqbqxa",
    "outputId": "bc70082f-74d0-4b6a-aeda-084cfbcb4d96"
   },
   "outputs": [
    {
     "data": {
      "text/plain": [
       "<ShuffleDataset shapes: {movie_title: (), timestamp: (), user_id: (), user_rating: ()}, types: {movie_title: tf.string, timestamp: tf.int64, user_id: tf.string, user_rating: tf.float32}>"
      ]
     },
     "execution_count": 19,
     "metadata": {},
     "output_type": "execute_result"
    }
   ],
   "source": [
    "# Format is now a TensorFlow ShuffleDataset\n",
    "train"
   ]
  },
  {
   "cell_type": "code",
   "execution_count": null,
   "metadata": {
    "colab": {
     "base_uri": "https://localhost:8080/"
    },
    "gradient": {
     "editing": false
    },
    "id": "7qByPgKIbjMH",
    "outputId": "1b202622-742c-47bc-a0b7-8115683aa920"
   },
   "outputs": [
    {
     "name": "stdout",
     "output_type": "stream",
     "text": [
      "{'movie_title': b'Local Hero (1983)',\n",
      " 'timestamp': 883948457,\n",
      " 'user_id': b'846',\n",
      " 'user_rating': 4.0}\n",
      "{'movie_title': b'Sudden Death (1995)',\n",
      " 'timestamp': 880394088,\n",
      " 'user_id': b'374',\n",
      " 'user_rating': 3.0}\n",
      "{'movie_title': b'Beverly Hills Ninja (1997)',\n",
      " 'timestamp': 880696679,\n",
      " 'user_id': b'699',\n",
      " 'user_rating': 1.0}\n"
     ]
    }
   ],
   "source": [
    "for x in train.take(3).as_numpy_iterator():\n",
    "    pprint.pprint(x)"
   ]
  },
  {
   "cell_type": "markdown",
   "metadata": {
    "gradient": {
     "editing": false
    },
    "id": "AdJbchJlqexl"
   },
   "source": [
    "The model performance, especially at scale, can be improved by caching the data into memory.\n",
    "\n",
    "It is also important that the data rows are in a random order. This is because many parts of machine learning algorithms are assuming that each data row is independent of those around it.\n",
    "\n",
    "An example of that is batching the data, which is also done here. Batching causes consecutive elements to be combined into batches, and so if there were, say, some periodicity in the data, it could interact with the batch size and produce highly non-random samples.\n",
    "\n",
    "Note that since a batch size may not divide perfectly into the number of rows in a dataset (or when data is being fed into the system a batch may not be full), its shape may not be known for every batch, and is therefore given as None."
   ]
  },
  {
   "cell_type": "code",
   "execution_count": null,
   "metadata": {
    "gradient": {
     "editing": false
    },
    "id": "umCAS0aBdtYB"
   },
   "outputs": [],
   "source": [
    "cached_train = train.shuffle(ntimes_tr).batch(8192).cache()\n",
    "cached_validation = validation.shuffle(ntimes_va).batch(8192).cache()\n",
    "cached_test = test.batch(4096).cache()"
   ]
  },
  {
   "cell_type": "markdown",
   "metadata": {
    "gradient": {
     "editing": false
    },
    "id": "YO4SF6-Vqmi5"
   },
   "source": [
    "Since the actual data being fed into the model is the cached and batched set, this should be viewed too. We can see that it is now batched and the batches are formed by arrays."
   ]
  },
  {
   "cell_type": "code",
   "execution_count": null,
   "metadata": {
    "colab": {
     "base_uri": "https://localhost:8080/"
    },
    "gradient": {
     "editing": false
    },
    "id": "aU6QtxRHbs3q",
    "outputId": "93f1e3b3-c4ea-4a63-bf65-246a46f87a90"
   },
   "outputs": [
    {
     "data": {
      "text/plain": [
       "<CacheDataset shapes: {movie_title: (None,), timestamp: (None,), user_id: (None,), user_rating: (None,)}, types: {movie_title: tf.string, timestamp: tf.int64, user_id: tf.string, user_rating: tf.float32}>"
      ]
     },
     "execution_count": 22,
     "metadata": {},
     "output_type": "execute_result"
    }
   ],
   "source": [
    "# The shape could be changed, e.g., from None to 8192 by adding drop_remainder=True to the .batch() line above\n",
    "cached_train"
   ]
  },
  {
   "cell_type": "code",
   "execution_count": null,
   "metadata": {
    "colab": {
     "base_uri": "https://localhost:8080/"
    },
    "gradient": {
     "editing": false
    },
    "id": "dmjmVqnIbzxn",
    "outputId": "a26a618a-0bf8-4f9d-f4c9-e732ad0a55d3"
   },
   "outputs": [
    {
     "name": "stdout",
     "output_type": "stream",
     "text": [
      "{'movie_title': array([b'Wizard of Oz, The (1939)', b'1-900 (1994)',\n",
      "       b'Independence Day (ID4) (1996)', ...,\n",
      "       b'Hunt for Red October, The (1990)',\n",
      "       b'Big Blue, The (Grand bleu, Le) (1988)',\n",
      "       b'Speed 2: Cruise Control (1997)'], dtype=object),\n",
      " 'timestamp': array([877196174, 878962200, 879222698, ..., 885062919, 885816915,\n",
      "       882659211]),\n",
      " 'user_id': array([b'331', b'181', b'552', ..., b'513', b'452', b'276'], dtype=object),\n",
      " 'user_rating': array([3., 1., 4., ..., 5., 5., 2.], dtype=float32)}\n",
      "{'movie_title': array([b'Some Kind of Wonderful (1987)', b'Batman Returns (1992)',\n",
      "       b'Scream (1996)', ..., b'To Kill a Mockingbird (1962)',\n",
      "       b'Fear (1996)', b'My Fellow Americans (1996)'], dtype=object),\n",
      " 'timestamp': array([875983023, 878347915, 882818604, ..., 879448475, 878848369,\n",
      "       874953595]),\n",
      " 'user_id': array([b'472', b'44', b'668', ..., b'615', b'749', b'130'], dtype=object),\n",
      " 'user_rating': array([5., 2., 4., ..., 5., 4., 2.], dtype=float32)}\n",
      "{'movie_title': array([b\"It's a Wonderful Life (1946)\", b'Dragonheart (1996)',\n",
      "       b'Bananas (1971)', ..., b'First Wives Club, The (1996)',\n",
      "       b'Top Gun (1986)', b'Primal Fear (1996)'], dtype=object),\n",
      " 'timestamp': array([875727640, 879640502, 880499053, ..., 885713062, 875073048,\n",
      "       884584865]),\n",
      " 'user_id': array([b'694', b'249', b'98', ..., b'885', b'188', b'141'], dtype=object),\n",
      " 'user_rating': array([4., 3., 2., ..., 4., 3., 4.], dtype=float32)}\n"
     ]
    }
   ],
   "source": [
    "for x in cached_train.take(3).as_numpy_iterator():\n",
    "    pprint.pprint(x)"
   ]
  },
  {
   "cell_type": "markdown",
   "metadata": {
    "gradient": {
     "editing": false
    },
    "id": "LsfOKQ30Iewj"
   },
   "source": [
    "#### 4.1.1: Train and evaluate the basic ranking model"
   ]
  },
  {
   "cell_type": "markdown",
   "metadata": {
    "gradient": {
     "editing": false
    },
    "id": "k_Pe7NpXq_r2"
   },
   "source": [
    "Train the model, outputting the accuracy on the training set and also on the validation set."
   ]
  },
  {
   "cell_type": "code",
   "execution_count": null,
   "metadata": {
    "gradient": {
     "editing": false
    },
    "id": "x7Kirx8U1Cww"
   },
   "outputs": [],
   "source": [
    "model_br = MovielensModelBasicRanking()"
   ]
  },
  {
   "cell_type": "code",
   "execution_count": null,
   "metadata": {
    "gradient": {
     "editing": false
    },
    "id": "dzDwd1Rp1EbO"
   },
   "outputs": [],
   "source": [
    "model_br.compile(optimizer=tf.keras.optimizers.Adagrad(learning_rate=0.1))"
   ]
  },
  {
   "cell_type": "code",
   "execution_count": null,
   "metadata": {
    "colab": {
     "base_uri": "https://localhost:8080/"
    },
    "gradient": {
     "editing": false
    },
    "id": "SieQYr041H90",
    "outputId": "5851b673-7e8a-4868-8de6-be40cd33efef"
   },
   "outputs": [
    {
     "name": "stdout",
     "output_type": "stream",
     "text": [
      "Epoch 1/3\n",
      "8/8 [==============================] - 15s 1s/step - root_mean_squared_error: 2.1538 - loss: 4.2543 - regularization_loss: 0.0000e+00 - total_loss: 4.2543 - val_root_mean_squared_error: 1.1547 - val_loss: 1.3360 - val_regularization_loss: 0.0000e+00 - val_total_loss: 1.3360\n",
      "Epoch 2/3\n",
      "8/8 [==============================] - 0s 16ms/step - root_mean_squared_error: 1.1460 - loss: 1.3241 - regularization_loss: 0.0000e+00 - total_loss: 1.3241 - val_root_mean_squared_error: 1.2378 - val_loss: 1.5364 - val_regularization_loss: 0.0000e+00 - val_total_loss: 1.5364\n",
      "Epoch 3/3\n",
      "8/8 [==============================] - 0s 16ms/step - root_mean_squared_error: 1.1957 - loss: 1.4229 - regularization_loss: 0.0000e+00 - total_loss: 1.4229 - val_root_mean_squared_error: 1.1992 - val_loss: 1.4418 - val_regularization_loss: 0.0000e+00 - val_total_loss: 1.4418\n"
     ]
    }
   ],
   "source": [
    "history_br = model_br.fit(cached_train, epochs=3, validation_data=cached_validation)"
   ]
  },
  {
   "cell_type": "markdown",
   "metadata": {
    "gradient": {
     "editing": false
    },
    "id": "hI7yE0XerkjM"
   },
   "source": [
    "The full model history contains quite a lot of information:\n",
    "\n",
    " - Loss = the value of the loss function\n",
    " - Regularization loss = 0, since we are not applying regularization in the basic model\n",
    " - Root mean squared error = the model performance metric we are recording\n",
    " - Total loss = loss + regularization loss, so the same as loss here\n",
    " - The same four again, but for the validation set instead of the training set"
   ]
  },
  {
   "cell_type": "code",
   "execution_count": null,
   "metadata": {
    "colab": {
     "base_uri": "https://localhost:8080/"
    },
    "gradient": {
     "editing": false
    },
    "id": "aUk4iIRG0Uqf",
    "outputId": "f548679f-70b7-4510-ce02-4168f7778054"
   },
   "outputs": [
    {
     "name": "stdout",
     "output_type": "stream",
     "text": [
      "{'loss': [1.2601068019866943, 1.4078688621520996, 1.3704522848129272],\n",
      " 'regularization_loss': [0, 0, 0],\n",
      " 'root_mean_squared_error': [2.1538093090057373,\n",
      "                             1.1459987163543701,\n",
      "                             1.1956913471221924],\n",
      " 'total_loss': [1.2601068019866943, 1.4078688621520996, 1.3704522848129272],\n",
      " 'val_loss': [1.335972547531128, 1.5363689661026, 1.441826581954956],\n",
      " 'val_regularization_loss': [0, 0, 0],\n",
      " 'val_root_mean_squared_error': [1.1546682119369507,\n",
      "                                 1.237779140472412,\n",
      "                                 1.199165940284729],\n",
      " 'val_total_loss': [1.335972547531128, 1.5363689661026, 1.441826581954956]}\n"
     ]
    }
   ],
   "source": [
    "pprint.pprint(history_br.history)"
   ]
  },
  {
   "cell_type": "markdown",
   "metadata": {
    "gradient": {
     "editing": false
    },
    "id": "Zs6U0oW5sVl8"
   },
   "source": [
    "We can report the most relevant numbers from the history, and make a simple plot of the tuning. Here we look at the value of the performance metric.\n",
    "\n",
    "The model has a performance of root mean squared error (RMSE) between predicted and true user ratings of movies of about 1.1, and the value is similar for training and validation, indicating that with the short training duration here the model has not overfit.\n",
    "\n",
    "A more sophisticated option than making these plots would be to load and use TensorBoard, but the overall conclusion drawn would be the same."
   ]
  },
  {
   "cell_type": "code",
   "execution_count": null,
   "metadata": {
    "colab": {
     "base_uri": "https://localhost:8080/"
    },
    "gradient": {
     "editing": false
    },
    "id": "VY8Bt23jJAp1",
    "outputId": "13dbf653-a882-45cf-f0df-b225956c448c"
   },
   "outputs": [
    {
     "name": "stdout",
     "output_type": "stream",
     "text": [
      "Root mean squared error in user rating from training: 1.20\n",
      "Root mean squared error in user rating from validation: 1.20\n"
     ]
    }
   ],
   "source": [
    "rmse_br = history_br.history['root_mean_squared_error'][-1]\n",
    "print(f'Root mean squared error in user rating from training: {rmse_br:.2f}')\n",
    "\n",
    "val_rmse_br = history_br.history['val_root_mean_squared_error'][-1]\n",
    "print(f'Root mean squared error in user rating from validation: {val_rmse_br:.2f}')"
   ]
  },
  {
   "cell_type": "code",
   "execution_count": null,
   "metadata": {
    "gradient": {
     "editing": false
    },
    "id": "bFCCtUTyJnBF"
   },
   "outputs": [],
   "source": [
    "# This sets up the x axis of the plot\n",
    "num_validation_runs = len(history_br.history['root_mean_squared_error']) # Or val_ ; is same here\n",
    "\n",
    "# The TFRS tutorials include values of validation frequency >1 to accommodate training runs where it was set >1 for faster training\n",
    "# Here it is left as 1\n",
    "validation_freq = 1\n",
    "epochs = [(x + 1) * validation_freq for x in range(num_validation_runs)] # E.g., 3,6,9 ... if validation_freq = 3"
   ]
  },
  {
   "cell_type": "code",
   "execution_count": null,
   "metadata": {
    "colab": {
     "base_uri": "https://localhost:8080/",
     "height": 308
    },
    "gradient": {
     "editing": false
    },
    "id": "FOZthVRbJ5iW",
    "outputId": "884a1cdc-52e7-4edb-f04f-523c3fd64fdb"
   },
   "outputs": [
    {
     "data": {
      "text/plain": [
       "<matplotlib.legend.Legend at 0x7f5ae8409780>"
      ]
     },
     "execution_count": 30,
     "metadata": {},
     "output_type": "execute_result"
    },
    {
     "data": {
      "image/png": "[encoded data removed]",
      "text/plain": [
       "<Figure size 432x288 with 1 Axes>"
      ]
     },
     "metadata": {},
     "output_type": "display_data"
    }
   ],
   "source": [
    "# Simple plot with Matplotlib\n",
    "plt.plot(epochs, history_br.history['root_mean_squared_error'], label='Training')\n",
    "plt.plot(epochs, history_br.history['val_root_mean_squared_error'], label='Validation')\n",
    "plt.title('Root mean squared error in user rating vs. training epoch')\n",
    "plt.xlabel('Training epoch')\n",
    "plt.ylabel('Root mean squared error in user rating')\n",
    "plt.legend()"
   ]
  },
  {
   "cell_type": "markdown",
   "metadata": {
    "gradient": {
     "editing": false
    },
    "id": "2n7xDu0C1JCg"
   },
   "source": [
    "We can see the model architecture via `.summary()`, showing the deep learning layers. Even for this small model, the number of parameters is over 100,000, which is greater than the number of movies in the dataset. This shows the importance of setting up the model to not overfit when trained for longer, which we will do in the tuned model below."
   ]
  },
  {
   "cell_type": "code",
   "execution_count": null,
   "metadata": {
    "colab": {
     "base_uri": "https://localhost:8080/"
    },
    "gradient": {
     "editing": false
    },
    "id": "v44Elq721cSy",
    "outputId": "a2fb073d-eae5-4c62-954f-b3a17b6d42eb"
   },
   "outputs": [
    {
     "name": "stdout",
     "output_type": "stream",
     "text": [
      "Model: \"movielens_model_basic_ranking\"\n",
      "_________________________________________________________________\n",
      "Layer (type)                 Output Shape              Param #   \n",
      "=================================================================\n",
      "sequential (Sequential)      (None, 32)                53280     \n",
      "_________________________________________________________________\n",
      "sequential_1 (Sequential)    (None, 32)                30208     \n",
      "_________________________________________________________________\n",
      "sequential_2 (Sequential)    (None, 1)                 33153     \n",
      "_________________________________________________________________\n",
      "ranking (Ranking)            multiple                  2         \n",
      "=================================================================\n",
      "Total params: 116,643\n",
      "Trainable params: 116,641\n",
      "Non-trainable params: 2\n",
      "_________________________________________________________________\n"
     ]
    }
   ],
   "source": [
    "model_br.summary()"
   ]
  },
  {
   "cell_type": "markdown",
   "metadata": {
    "gradient": {
     "editing": false
    },
    "id": "XoBOlpc4-_hG"
   },
   "source": [
    "The model's performance can be measured on unseen test data for which what the user did in fact rate the movie (the ground truth) is still available.\n",
    "\n",
    "It is important that the test data is not used as part of the model training or validation, either directly (overlap between training and testing data), or indirectly (performance on testing data being used to influence subsequent training runs).\n",
    "\n",
    "Both of these would produce a result biased high in performance compared to expected performance on new unseen data when the model is deployed in production.\n",
    "\n",
    "As expected following the validation, the RMSE on the unseen testing set is also approximately 1.1."
   ]
  },
  {
   "cell_type": "code",
   "execution_count": null,
   "metadata": {
    "colab": {
     "base_uri": "https://localhost:8080/"
    },
    "gradient": {
     "editing": false
    },
    "id": "bt8TsSix1cXX",
    "outputId": "0f7c32fe-4a23-472b-db4c-6068fd087cc5"
   },
   "outputs": [
    {
     "name": "stdout",
     "output_type": "stream",
     "text": [
      "5/5 [==============================] - 6s 13ms/step - root_mean_squared_error: 1.1413 - loss: 1.3029 - regularization_loss: 0.0000e+00 - total_loss: 1.3029\n"
     ]
    }
   ],
   "source": [
    "eval_br = model_br.evaluate(cached_test, return_dict=True)"
   ]
  },
  {
   "cell_type": "code",
   "execution_count": null,
   "metadata": {
    "colab": {
     "base_uri": "https://localhost:8080/"
    },
    "gradient": {
     "editing": false
    },
    "id": "Pp84Btjd3Ovt",
    "outputId": "766d686e-80a5-4211-ee8a-607345432fc3"
   },
   "outputs": [
    {
     "data": {
      "text/plain": [
       "{'root_mean_squared_error': 1.1412544250488281,\n",
       " 'loss': 1.30448579788208,\n",
       " 'regularization_loss': 0,\n",
       " 'total_loss': 1.30448579788208}"
      ]
     },
     "execution_count": 33,
     "metadata": {},
     "output_type": "execute_result"
    }
   ],
   "source": [
    "eval_br"
   ]
  },
  {
   "cell_type": "code",
   "execution_count": null,
   "metadata": {
    "colab": {
     "base_uri": "https://localhost:8080/"
    },
    "gradient": {
     "editing": false
    },
    "id": "kHu2-zfTKL34",
    "outputId": "9eb7222a-45ee-42a8-cd06-8172078e06c2"
   },
   "outputs": [
    {
     "name": "stdout",
     "output_type": "stream",
     "text": [
      "Root mean squared error in user rating from evaluation: 1.14\n"
     ]
    }
   ],
   "source": [
    "rmse_eval_br = eval_br['root_mean_squared_error']\n",
    "print(f'Root mean squared error in user rating from evaluation: {rmse_eval_br:.2f}')"
   ]
  },
  {
   "cell_type": "markdown",
   "metadata": {
    "gradient": {
     "editing": false
    },
    "id": "rWqyrily-JE6"
   },
   "source": [
    "Calling `.predict()` on the model, i.e., sending it data from the testing set in the same manner as new data would be sent to it when deployed, yields the user & movie embeddings for each new data point, and the predicted user ratings for those data points.\n",
    "\n",
    "Here the testing data still has ground truth user ratings that these predictions can be compared to (as in evaluate, above), but of course in production the return will be just the predicted ratings (and embeddings, in this case)."
   ]
  },
  {
   "cell_type": "code",
   "execution_count": null,
   "metadata": {
    "colab": {
     "base_uri": "https://localhost:8080/"
    },
    "gradient": {
     "editing": false
    },
    "id": "eA7_9Lgi1cav",
    "outputId": "5a39f4c6-50c2-4643-cf8e-082b4e215c8a"
   },
   "outputs": [
    {
     "data": {
      "text/plain": [
       "(array([[ 0.01111712,  0.0342272 , -0.03558037, ...,  0.02093932,\n",
       "          0.0499819 ,  0.03310004],\n",
       "        [ 0.03682995, -0.00292829, -0.01203686, ..., -0.02694032,\n",
       "         -0.04817913, -0.01506655],\n",
       "        [-0.02005151,  0.04311559,  0.02915088, ..., -0.01426794,\n",
       "         -0.02800677,  0.00755465],\n",
       "        ...,\n",
       "        [ 0.00597314, -0.00417596, -0.01312952, ...,  0.04654224,\n",
       "          0.02042881, -0.00455733],\n",
       "        [ 0.01837805,  0.03272862, -0.00753467, ..., -0.00106486,\n",
       "          0.00688084, -0.01778299],\n",
       "        [ 0.01170737, -0.02230951,  0.02672443, ...,  0.04496305,\n",
       "          0.01577738,  0.04709944]], dtype=float32),\n",
       " array([[-0.01685286, -0.0241822 , -0.01624944, ...,  0.02533602,\n",
       "         -0.03852903, -0.00798178],\n",
       "        [ 0.01273345,  0.04116427, -0.01204921, ...,  0.04427261,\n",
       "          0.00770494,  0.04154444],\n",
       "        [-0.02010706,  0.00707144,  0.01014473, ...,  0.0358832 ,\n",
       "         -0.02845538, -0.04785193],\n",
       "        ...,\n",
       "        [ 0.03443922,  0.00560572, -0.02557607, ...,  0.03547254,\n",
       "         -0.03261461, -0.04252266],\n",
       "        [-0.02170203, -0.03458456,  0.04063766, ...,  0.02837485,\n",
       "         -0.04333948, -0.01993461],\n",
       "        [-0.00407333, -0.01227994,  0.02220105, ..., -0.02704033,\n",
       "          0.02687155,  0.01382274]], dtype=float32),\n",
       " array([[3.841122 ],\n",
       "        [3.9126573],\n",
       "        [3.9165623],\n",
       "        ...,\n",
       "        [3.8245552],\n",
       "        [3.7760606],\n",
       "        [3.8328166]], dtype=float32))"
      ]
     },
     "execution_count": 35,
     "metadata": {},
     "output_type": "execute_result"
    }
   ],
   "source": [
    "# As written, the model prediction returns both the embeddings and predicted ratings\n",
    "model_br.predict(cached_test)"
   ]
  },
  {
   "cell_type": "markdown",
   "metadata": {
    "gradient": {
     "editing": false
    },
    "id": "5CNURtsNIfC2"
   },
   "source": [
    "### 4.2: Tuned ranking model\n",
    "\n",
    "For most machine learning models, a model that has not had its hyperparameters tuned is unlikely to be giving best performance. It would be a bit like choosing random clothes from a store instead of clothes that are your size.\n",
    "\n",
    "The combination of being able to be tuned to higher performance, and the ability to easily add new training set features of many different kinds (categorical, numerical, text, time series, etc.) is what enables deep learning (or other nonlinear ML such as decision trees) to outperform classical non-ML methods on complex data. As written, the deep learning layers component of the model can be whatever arbitrary set of layers, so long as it outputs a single rating at the end.\n",
    "\n",
    "Here we perform some basic tuning on the neural network layer by training it for more epochs and allowing its initial learning rate to vary. We also add regularization to help avoid overfitting that could result from longer training.\n",
    "\n",
    "For more extensive tuning, other parameters can be tuned similarly, including within the network, e.g., size & number of layers, and within the whole model, such as the number of dimensions in the embeddings.\n",
    "\n",
    "If one plans to do more extensive tuning, then for a recommender system like this one, it also makes sense to include more features, such as user age, do more feature engineering, such as cyclic and not absolute times like day of week, and to build more complex models like multitask and deep cross networks as in the TFRS tutorials. To keep this showcase to a manageable length, we do not attempt all of that here."
   ]
  },
  {
   "cell_type": "code",
   "execution_count": null,
   "metadata": {
    "gradient": {
     "editing": false
    }
   },
   "outputs": [],
   "source": [
    "# This model is similar to the basic model, but L2 regularization has been added\n",
    "\n",
    "class MovielensModelTunedRanking(tfrs.models.Model):\n",
    "\n",
    "    def __init__(self) -> None:\n",
    "        super().__init__()\n",
    "        embedding_dimension = 32\n",
    "\n",
    "        self.movie_model: tf.keras.layers.Layer = tf.keras.Sequential([\n",
    "            tf.keras.layers.experimental.preprocessing.StringLookup(\n",
    "                vocabulary=unique_movie_titles, mask_token=None),\n",
    "            tf.keras.layers.Embedding(len(unique_movie_titles) + 1, embedding_dimension)\n",
    "        ])\n",
    "\n",
    "        self.user_model: tf.keras.layers.Layer = tf.keras.Sequential([\n",
    "            tf.keras.layers.experimental.preprocessing.StringLookup(\n",
    "                vocabulary=unique_user_ids, mask_token=None),\n",
    "            tf.keras.layers.Embedding(len(unique_user_ids) + 1, embedding_dimension)\n",
    "        ])\n",
    "\n",
    "        # Regularization is added here\n",
    "        self.rating_model = tf.keras.Sequential([\n",
    "            tf.keras.layers.Dense(256, activation='relu', kernel_regularizer=tf.keras.regularizers.l2(0.01)),\n",
    "            tf.keras.layers.Dense(64, activation='relu', kernel_regularizer=tf.keras.regularizers.l2(0.01)),\n",
    "            tf.keras.layers.Dense(1)\n",
    "        ])\n",
    "\n",
    "        self.task: tf.keras.layers.Layer = tfrs.tasks.Ranking(\n",
    "            loss = tf.keras.losses.MeanSquaredError(),\n",
    "            metrics=[tf.keras.metrics.RootMeanSquaredError()]\n",
    "        )\n",
    "\n",
    "    def call(self, features: Dict[Text, tf.Tensor]) -> tf.Tensor:\n",
    "\n",
    "        user_embeddings = self.user_model(features['user_id'])\n",
    "        movie_embeddings = self.movie_model(features['movie_title'])\n",
    "\n",
    "        return (\n",
    "            user_embeddings,\n",
    "            movie_embeddings,\n",
    "            self.rating_model(\n",
    "                tf.concat([user_embeddings, movie_embeddings], axis=1)\n",
    "            ),\n",
    "        )\n",
    "\n",
    "    def compute_loss(self, features: Dict[Text, tf.Tensor], training=False) -> tf.Tensor:\n",
    "\n",
    "        ratings = features.pop('user_rating')\n",
    "        user_embeddings, movie_embeddings, rating_predictions = self(features)\n",
    "\n",
    "        rating_loss = self.task(\n",
    "            labels=ratings,\n",
    "            predictions=rating_predictions,\n",
    "        )\n",
    "\n",
    "        return rating_loss"
   ]
  },
  {
   "cell_type": "markdown",
   "metadata": {
    "gradient": {
     "editing": false
    },
    "id": "HVp_55ctAF48"
   },
   "source": [
    "When tuning hyperparameters using the grid approach, it is common to test a range of values across a logarithmic scale, then fine-tune by using a linear scale in the range suggested to be best by the logarithmic scale. (For example, try learning rates of 0.01, 0.02, 0.05, 0.1, 0.2, 0.5, and 1, and if the performance is best for 0.1, then try 0.06, 0.07, 0.08, 0.09, 0.1, 0.11, 0.12, 0.13, 0.14, and 0.15.)\n",
    "\n",
    "Here we only show a small number of values to avoid excessive processing time."
   ]
  },
  {
   "cell_type": "markdown",
   "metadata": {
    "gradient": {
     "editing": false
    },
    "id": "0WH4-3S7HOCC"
   },
   "source": [
    "Let's set the values we are tuning so they are not hidden in the calls to the model."
   ]
  },
  {
   "cell_type": "code",
   "execution_count": null,
   "metadata": {
    "gradient": {
     "editing": false
    },
    "id": "o2fF4CN5HUj0"
   },
   "outputs": [],
   "source": [
    "learning_rates_logarithmic = [0.001, 0.01, 0.1, 1]\n",
    "epochs = 30"
   ]
  },
  {
   "cell_type": "markdown",
   "metadata": {
    "gradient": {
     "editing": false
    },
    "id": "jvxCoGSDHxb-"
   },
   "source": [
    "Run the logarithmic grid. As with the basic model, the indicator of performance is the RMSE error, shown in the output."
   ]
  },
  {
   "cell_type": "code",
   "execution_count": null,
   "metadata": {
    "colab": {
     "base_uri": "https://localhost:8080/"
    },
    "gradient": {
     "editing": false
    },
    "id": "IIWlPgqD4Hr6",
    "outputId": "e051920a-cec9-4b54-d688-68dcf6a6c627",
    "scrolled": true
   },
   "outputs": [
    {
     "name": "stdout",
     "output_type": "stream",
     "text": [
      "Learning rate = 0.001\n",
      "Epoch 1/30\n",
      "8/8 [==============================] - 1s 30ms/step - root_mean_squared_error: 3.7003 - loss: 13.6703 - regularization_loss: 2.0611 - total_loss: 15.7314 - val_root_mean_squared_error: 3.5970 - val_loss: 12.9255 - val_regularization_loss: 2.0600 - val_total_loss: 14.9856\n",
      "Epoch 2/30\n",
      "8/8 [==============================] - 0s 15ms/step - root_mean_squared_error: 3.6684 - loss: 13.4396 - regularization_loss: 2.0590 - total_loss: 15.4987 - val_root_mean_squared_error: 3.5708 - val_loss: 12.7386 - val_regularization_loss: 2.0580 - val_total_loss: 14.7966\n",
      "Epoch 3/30\n",
      "8/8 [==============================] - 0s 34ms/step - root_mean_squared_error: 3.6437 - loss: 13.2602 - regularization_loss: 2.0570 - total_loss: 15.3172 - val_root_mean_squared_error: 3.5479 - val_loss: 12.5760 - val_regularization_loss: 2.0560 - val_total_loss: 14.6319\n",
      "Epoch 4/30\n",
      "8/8 [==============================] - 0s 17ms/step - root_mean_squared_error: 3.6215 - loss: 13.0997 - regularization_loss: 2.0550 - total_loss: 15.1547 - val_root_mean_squared_error: 3.5268 - val_loss: 12.4265 - val_regularization_loss: 2.0540 - val_total_loss: 14.4806\n",
      "Epoch 5/30\n",
      "8/8 [==============================] - 0s 16ms/step - root_mean_squared_error: 3.6007 - loss: 12.9501 - regularization_loss: 2.0531 - total_loss: 15.0032 - val_root_mean_squared_error: 3.5066 - val_loss: 12.2849 - val_regularization_loss: 2.0521 - val_total_loss: 14.3370\n",
      "Epoch 6/30\n",
      "8/8 [==============================] - 0s 15ms/step - root_mean_squared_error: 3.5807 - loss: 12.8067 - regularization_loss: 2.0512 - total_loss: 14.8579 - val_root_mean_squared_error: 3.4870 - val_loss: 12.1477 - val_regularization_loss: 2.0503 - val_total_loss: 14.1980\n",
      "Epoch 7/30\n",
      "8/8 [==============================] - 0s 15ms/step - root_mean_squared_error: 3.5611 - loss: 12.6667 - regularization_loss: 2.0494 - total_loss: 14.7160 - val_root_mean_squared_error: 3.4676 - val_loss: 12.0129 - val_regularization_loss: 2.0484 - val_total_loss: 14.0613\n",
      "Epoch 8/30\n",
      "8/8 [==============================] - 0s 15ms/step - root_mean_squared_error: 3.5416 - loss: 12.5282 - regularization_loss: 2.0476 - total_loss: 14.5757 - val_root_mean_squared_error: 3.4482 - val_loss: 11.8790 - val_regularization_loss: 2.0467 - val_total_loss: 13.9256\n",
      "Epoch 9/30\n",
      "8/8 [==============================] - 0s 15ms/step - root_mean_squared_error: 3.5220 - loss: 12.3901 - regularization_loss: 2.0458 - total_loss: 14.4359 - val_root_mean_squared_error: 3.4287 - val_loss: 11.7451 - val_regularization_loss: 2.0449 - val_total_loss: 13.7900\n",
      "Epoch 10/30\n",
      "8/8 [==============================] - 0s 16ms/step - root_mean_squared_error: 3.5023 - loss: 12.2518 - regularization_loss: 2.0441 - total_loss: 14.2958 - val_root_mean_squared_error: 3.4090 - val_loss: 11.6106 - val_regularization_loss: 2.0432 - val_total_loss: 13.6538\n",
      "Epoch 11/30\n",
      "8/8 [==============================] - 0s 16ms/step - root_mean_squared_error: 3.4824 - loss: 12.1126 - regularization_loss: 2.0424 - total_loss: 14.1550 - val_root_mean_squared_error: 3.3891 - val_loss: 11.4751 - val_regularization_loss: 2.0416 - val_total_loss: 13.5166\n",
      "Epoch 12/30\n",
      "8/8 [==============================] - 0s 15ms/step - root_mean_squared_error: 3.4622 - loss: 11.9723 - regularization_loss: 2.0408 - total_loss: 14.0130 - val_root_mean_squared_error: 3.3688 - val_loss: 11.3383 - val_regularization_loss: 2.0399 - val_total_loss: 13.3783\n",
      "Epoch 13/30\n",
      "8/8 [==============================] - 0s 15ms/step - root_mean_squared_error: 3.4417 - loss: 11.8305 - regularization_loss: 2.0392 - total_loss: 13.8696 - val_root_mean_squared_error: 3.3482 - val_loss: 11.2002 - val_regularization_loss: 2.0383 - val_total_loss: 13.2385\n",
      "Epoch 14/30\n",
      "8/8 [==============================] - 0s 17ms/step - root_mean_squared_error: 3.4208 - loss: 11.6870 - regularization_loss: 2.0376 - total_loss: 13.7246 - val_root_mean_squared_error: 3.3273 - val_loss: 11.0603 - val_regularization_loss: 2.0368 - val_total_loss: 13.0971\n",
      "Epoch 15/30\n",
      "8/8 [==============================] - 0s 15ms/step - root_mean_squared_error: 3.3995 - loss: 11.5417 - regularization_loss: 2.0361 - total_loss: 13.5777 - val_root_mean_squared_error: 3.3059 - val_loss: 10.9187 - val_regularization_loss: 2.0353 - val_total_loss: 12.9540\n",
      "Epoch 16/30\n",
      "8/8 [==============================] - 0s 15ms/step - root_mean_squared_error: 3.3777 - loss: 11.3944 - regularization_loss: 2.0346 - total_loss: 13.4290 - val_root_mean_squared_error: 3.2841 - val_loss: 10.7752 - val_regularization_loss: 2.0338 - val_total_loss: 12.8090\n",
      "Epoch 17/30\n",
      "8/8 [==============================] - 0s 15ms/step - root_mean_squared_error: 3.3556 - loss: 11.2451 - regularization_loss: 2.0331 - total_loss: 13.2782 - val_root_mean_squared_error: 3.2619 - val_loss: 10.6298 - val_regularization_loss: 2.0324 - val_total_loss: 12.6622\n",
      "Epoch 18/30\n",
      "8/8 [==============================] - 0s 16ms/step - root_mean_squared_error: 3.3330 - loss: 11.0937 - regularization_loss: 2.0317 - total_loss: 13.1254 - val_root_mean_squared_error: 3.2392 - val_loss: 10.4825 - val_regularization_loss: 2.0310 - val_total_loss: 12.5135\n",
      "Epoch 19/30\n",
      "8/8 [==============================] - 0s 16ms/step - root_mean_squared_error: 3.3099 - loss: 10.9402 - regularization_loss: 2.0303 - total_loss: 12.9705 - val_root_mean_squared_error: 3.2161 - val_loss: 10.3332 - val_regularization_loss: 2.0296 - val_total_loss: 12.3628\n",
      "Epoch 20/30\n",
      "8/8 [==============================] - 0s 16ms/step - root_mean_squared_error: 3.2863 - loss: 10.7846 - regularization_loss: 2.0289 - total_loss: 12.8135 - val_root_mean_squared_error: 3.1925 - val_loss: 10.1821 - val_regularization_loss: 2.0282 - val_total_loss: 12.2103\n",
      "Epoch 21/30\n",
      "8/8 [==============================] - 0s 17ms/step - root_mean_squared_error: 3.2622 - loss: 10.6269 - regularization_loss: 2.0276 - total_loss: 12.6545 - val_root_mean_squared_error: 3.1684 - val_loss: 10.0290 - val_regularization_loss: 2.0269 - val_total_loss: 12.0559\n",
      "Epoch 22/30\n",
      "8/8 [==============================] - 0s 16ms/step - root_mean_squared_error: 3.2376 - loss: 10.4672 - regularization_loss: 2.0263 - total_loss: 12.4935 - val_root_mean_squared_error: 3.1438 - val_loss: 9.8741 - val_regularization_loss: 2.0256 - val_total_loss: 11.8998\n",
      "Epoch 23/30\n",
      "8/8 [==============================] - 0s 16ms/step - root_mean_squared_error: 3.2126 - loss: 10.3056 - regularization_loss: 2.0250 - total_loss: 12.3307 - val_root_mean_squared_error: 3.1188 - val_loss: 9.7176 - val_regularization_loss: 2.0244 - val_total_loss: 11.7420\n",
      "Epoch 24/30\n",
      "8/8 [==============================] - 0s 16ms/step - root_mean_squared_error: 3.1871 - loss: 10.1423 - regularization_loss: 2.0238 - total_loss: 12.1660 - val_root_mean_squared_error: 3.0933 - val_loss: 9.5594 - val_regularization_loss: 2.0232 - val_total_loss: 11.5826\n",
      "Epoch 25/30\n",
      "8/8 [==============================] - 0s 16ms/step - root_mean_squared_error: 3.1611 - loss: 9.9772 - regularization_loss: 2.0226 - total_loss: 11.9997 - val_root_mean_squared_error: 3.0674 - val_loss: 9.3998 - val_regularization_loss: 2.0220 - val_total_loss: 11.4217\n",
      "Epoch 26/30\n",
      "8/8 [==============================] - 0s 15ms/step - root_mean_squared_error: 3.1346 - loss: 9.8105 - regularization_loss: 2.0214 - total_loss: 11.8319 - val_root_mean_squared_error: 3.0410 - val_loss: 9.2388 - val_regularization_loss: 2.0208 - val_total_loss: 11.2596\n",
      "Epoch 27/30\n",
      "8/8 [==============================] - 0s 16ms/step - root_mean_squared_error: 3.1077 - loss: 9.6424 - regularization_loss: 2.0203 - total_loss: 11.6627 - val_root_mean_squared_error: 3.0142 - val_loss: 9.0765 - val_regularization_loss: 2.0197 - val_total_loss: 11.0962\n",
      "Epoch 28/30\n",
      "8/8 [==============================] - 0s 16ms/step - root_mean_squared_error: 3.0803 - loss: 9.4731 - regularization_loss: 2.0191 - total_loss: 11.4922 - val_root_mean_squared_error: 2.9870 - val_loss: 8.9133 - val_regularization_loss: 2.0186 - val_total_loss: 10.9319\n",
      "Epoch 29/30\n",
      "8/8 [==============================] - 0s 16ms/step - root_mean_squared_error: 3.0525 - loss: 9.3027 - regularization_loss: 2.0180 - total_loss: 11.3207 - val_root_mean_squared_error: 2.9594 - val_loss: 8.7492 - val_regularization_loss: 2.0175 - val_total_loss: 10.7666\n",
      "Epoch 30/30\n",
      "8/8 [==============================] - 0s 15ms/step - root_mean_squared_error: 3.0243 - loss: 9.1313 - regularization_loss: 2.0170 - total_loss: 11.1483 - val_root_mean_squared_error: 2.9314 - val_loss: 8.5843 - val_regularization_loss: 2.0164 - val_total_loss: 10.6007\n",
      "Learning rate = 0.01\n",
      "Epoch 1/30\n",
      "8/8 [==============================] - 1s 29ms/step - root_mean_squared_error: 3.3446 - loss: 10.8784 - regularization_loss: 2.0212 - total_loss: 12.8996 - val_root_mean_squared_error: 2.7048 - val_loss: 7.3085 - val_regularization_loss: 2.0153 - val_total_loss: 9.3238\n",
      "Epoch 2/30\n",
      "8/8 [==============================] - 0s 15ms/step - root_mean_squared_error: 2.2532 - loss: 4.8129 - regularization_loss: 2.0145 - total_loss: 6.8273 - val_root_mean_squared_error: 1.4972 - val_loss: 2.2398 - val_regularization_loss: 2.0143 - val_total_loss: 4.2541\n",
      "Epoch 3/30\n",
      "8/8 [==============================] - 0s 15ms/step - root_mean_squared_error: 1.2996 - loss: 1.6457 - regularization_loss: 2.0112 - total_loss: 3.6569 - val_root_mean_squared_error: 1.1413 - val_loss: 1.3041 - val_regularization_loss: 2.0057 - val_total_loss: 3.3098\n",
      "Epoch 4/30\n",
      "8/8 [==============================] - 0s 15ms/step - root_mean_squared_error: 1.1291 - loss: 1.2722 - regularization_loss: 1.9975 - total_loss: 3.2697 - val_root_mean_squared_error: 1.1359 - val_loss: 1.2925 - val_regularization_loss: 1.9881 - val_total_loss: 3.2806\n",
      "Epoch 5/30\n",
      "8/8 [==============================] - 0s 16ms/step - root_mean_squared_error: 1.1227 - loss: 1.2589 - regularization_loss: 1.9788 - total_loss: 3.2377 - val_root_mean_squared_error: 1.1365 - val_loss: 1.2938 - val_regularization_loss: 1.9689 - val_total_loss: 3.2626\n",
      "Epoch 6/30\n",
      "8/8 [==============================] - 0s 17ms/step - root_mean_squared_error: 1.1212 - loss: 1.2557 - regularization_loss: 1.9595 - total_loss: 3.2152 - val_root_mean_squared_error: 1.1362 - val_loss: 1.2930 - val_regularization_loss: 1.9496 - val_total_loss: 3.2426\n",
      "Epoch 7/30\n",
      "8/8 [==============================] - 0s 16ms/step - root_mean_squared_error: 1.1199 - loss: 1.2528 - regularization_loss: 1.9403 - total_loss: 3.1931 - val_root_mean_squared_error: 1.1357 - val_loss: 1.2921 - val_regularization_loss: 1.9305 - val_total_loss: 3.2226\n",
      "Epoch 8/30\n",
      "8/8 [==============================] - 0s 18ms/step - root_mean_squared_error: 1.1186 - loss: 1.2499 - regularization_loss: 1.9213 - total_loss: 3.1713 - val_root_mean_squared_error: 1.1353 - val_loss: 1.2911 - val_regularization_loss: 1.9116 - val_total_loss: 3.2027\n",
      "Epoch 9/30\n",
      "8/8 [==============================] - 0s 16ms/step - root_mean_squared_error: 1.1173 - loss: 1.2471 - regularization_loss: 1.9026 - total_loss: 3.1496 - val_root_mean_squared_error: 1.1349 - val_loss: 1.2901 - val_regularization_loss: 1.8930 - val_total_loss: 3.1831\n",
      "Epoch 10/30\n",
      "8/8 [==============================] - 0s 15ms/step - root_mean_squared_error: 1.1161 - loss: 1.2442 - regularization_loss: 1.8840 - total_loss: 3.1282 - val_root_mean_squared_error: 1.1345 - val_loss: 1.2892 - val_regularization_loss: 1.8745 - val_total_loss: 3.1637\n",
      "Epoch 11/30\n",
      "8/8 [==============================] - 0s 15ms/step - root_mean_squared_error: 1.1148 - loss: 1.2413 - regularization_loss: 1.8656 - total_loss: 3.1070 - val_root_mean_squared_error: 1.1341 - val_loss: 1.2883 - val_regularization_loss: 1.8563 - val_total_loss: 3.1445\n",
      "Epoch 12/30\n",
      "8/8 [==============================] - 0s 15ms/step - root_mean_squared_error: 1.1134 - loss: 1.2384 - regularization_loss: 1.8475 - total_loss: 3.0859 - val_root_mean_squared_error: 1.1337 - val_loss: 1.2873 - val_regularization_loss: 1.8382 - val_total_loss: 3.1255\n",
      "Epoch 13/30\n",
      "8/8 [==============================] - 0s 17ms/step - root_mean_squared_error: 1.1121 - loss: 1.2354 - regularization_loss: 1.8295 - total_loss: 3.0649 - val_root_mean_squared_error: 1.1333 - val_loss: 1.2864 - val_regularization_loss: 1.8204 - val_total_loss: 3.1068\n",
      "Epoch 14/30\n",
      "8/8 [==============================] - 0s 15ms/step - root_mean_squared_error: 1.1107 - loss: 1.2323 - regularization_loss: 1.8118 - total_loss: 3.0441 - val_root_mean_squared_error: 1.1329 - val_loss: 1.2855 - val_regularization_loss: 1.8027 - val_total_loss: 3.0882\n",
      "Epoch 15/30\n",
      "8/8 [==============================] - 0s 15ms/step - root_mean_squared_error: 1.1093 - loss: 1.2291 - regularization_loss: 1.7942 - total_loss: 3.0234 - val_root_mean_squared_error: 1.1324 - val_loss: 1.2845 - val_regularization_loss: 1.7853 - val_total_loss: 3.0698\n",
      "Epoch 16/30\n",
      "8/8 [==============================] - 0s 16ms/step - root_mean_squared_error: 1.1078 - loss: 1.2258 - regularization_loss: 1.7769 - total_loss: 3.0027 - val_root_mean_squared_error: 1.1320 - val_loss: 1.2836 - val_regularization_loss: 1.7680 - val_total_loss: 3.0516\n",
      "Epoch 17/30\n",
      "8/8 [==============================] - 0s 16ms/step - root_mean_squared_error: 1.1062 - loss: 1.2224 - regularization_loss: 1.7597 - total_loss: 2.9822 - val_root_mean_squared_error: 1.1316 - val_loss: 1.2826 - val_regularization_loss: 1.7510 - val_total_loss: 3.0336\n",
      "Epoch 18/30\n",
      "8/8 [==============================] - 0s 34ms/step - root_mean_squared_error: 1.1046 - loss: 1.2189 - regularization_loss: 1.7428 - total_loss: 2.9617 - val_root_mean_squared_error: 1.1312 - val_loss: 1.2816 - val_regularization_loss: 1.7341 - val_total_loss: 3.0158\n",
      "Epoch 19/30\n",
      "8/8 [==============================] - 0s 17ms/step - root_mean_squared_error: 1.1030 - loss: 1.2152 - regularization_loss: 1.7260 - total_loss: 2.9413 - val_root_mean_squared_error: 1.1307 - val_loss: 1.2806 - val_regularization_loss: 1.7175 - val_total_loss: 2.9981\n",
      "Epoch 20/30\n",
      "8/8 [==============================] - 0s 15ms/step - root_mean_squared_error: 1.1013 - loss: 1.2114 - regularization_loss: 1.7094 - total_loss: 2.9209 - val_root_mean_squared_error: 1.1303 - val_loss: 1.2796 - val_regularization_loss: 1.7010 - val_total_loss: 2.9806\n",
      "Epoch 21/30\n",
      "8/8 [==============================] - 0s 17ms/step - root_mean_squared_error: 1.0995 - loss: 1.2075 - regularization_loss: 1.6931 - total_loss: 2.9006 - val_root_mean_squared_error: 1.1298 - val_loss: 1.2786 - val_regularization_loss: 1.6847 - val_total_loss: 2.9633\n",
      "Epoch 22/30\n",
      "8/8 [==============================] - 0s 17ms/step - root_mean_squared_error: 1.0976 - loss: 1.2034 - regularization_loss: 1.6769 - total_loss: 2.8803 - val_root_mean_squared_error: 1.1294 - val_loss: 1.2775 - val_regularization_loss: 1.6686 - val_total_loss: 2.9461\n",
      "Epoch 23/30\n",
      "8/8 [==============================] - 0s 16ms/step - root_mean_squared_error: 1.0957 - loss: 1.1992 - regularization_loss: 1.6609 - total_loss: 2.8600 - val_root_mean_squared_error: 1.1289 - val_loss: 1.2764 - val_regularization_loss: 1.6527 - val_total_loss: 2.9291\n",
      "Epoch 24/30\n",
      "8/8 [==============================] - 0s 15ms/step - root_mean_squared_error: 1.0936 - loss: 1.1947 - regularization_loss: 1.6450 - total_loss: 2.8398 - val_root_mean_squared_error: 1.1284 - val_loss: 1.2753 - val_regularization_loss: 1.6370 - val_total_loss: 2.9123\n",
      "Epoch 25/30\n",
      "8/8 [==============================] - 0s 15ms/step - root_mean_squared_error: 1.0916 - loss: 1.1902 - regularization_loss: 1.6294 - total_loss: 2.8196 - val_root_mean_squared_error: 1.1279 - val_loss: 1.2742 - val_regularization_loss: 1.6214 - val_total_loss: 2.8956\n",
      "Epoch 26/30\n",
      "8/8 [==============================] - 0s 16ms/step - root_mean_squared_error: 1.0894 - loss: 1.1855 - regularization_loss: 1.6139 - total_loss: 2.7994 - val_root_mean_squared_error: 1.1274 - val_loss: 1.2730 - val_regularization_loss: 1.6061 - val_total_loss: 2.8791\n",
      "Epoch 27/30\n",
      "8/8 [==============================] - 0s 16ms/step - root_mean_squared_error: 1.0872 - loss: 1.1806 - regularization_loss: 1.5987 - total_loss: 2.7793 - val_root_mean_squared_error: 1.1268 - val_loss: 1.2718 - val_regularization_loss: 1.5909 - val_total_loss: 2.8627\n",
      "Epoch 28/30\n",
      "8/8 [==============================] - 0s 16ms/step - root_mean_squared_error: 1.0848 - loss: 1.1756 - regularization_loss: 1.5836 - total_loss: 2.7592 - val_root_mean_squared_error: 1.1263 - val_loss: 1.2705 - val_regularization_loss: 1.5759 - val_total_loss: 2.8464\n",
      "Epoch 29/30\n",
      "8/8 [==============================] - 0s 17ms/step - root_mean_squared_error: 1.0825 - loss: 1.1705 - regularization_loss: 1.5687 - total_loss: 2.7391 - val_root_mean_squared_error: 1.1257 - val_loss: 1.2692 - val_regularization_loss: 1.5610 - val_total_loss: 2.8303\n",
      "Epoch 30/30\n",
      "8/8 [==============================] - 0s 16ms/step - root_mean_squared_error: 1.0800 - loss: 1.1652 - regularization_loss: 1.5539 - total_loss: 2.7191 - val_root_mean_squared_error: 1.1251 - val_loss: 1.2679 - val_regularization_loss: 1.5464 - val_total_loss: 2.8143\n",
      "Learning rate = 0.1\n",
      "Epoch 1/30\n",
      "8/8 [==============================] - 1s 29ms/step - root_mean_squared_error: 2.2890 - loss: 4.8440 - regularization_loss: 1.9580 - total_loss: 6.8020 - val_root_mean_squared_error: 1.2647 - val_loss: 1.6042 - val_regularization_loss: 1.8719 - val_total_loss: 3.4762\n",
      "Epoch 2/30\n",
      "8/8 [==============================] - 0s 15ms/step - root_mean_squared_error: 1.1772 - loss: 1.3735 - regularization_loss: 1.7797 - total_loss: 3.1532 - val_root_mean_squared_error: 1.1611 - val_loss: 1.3514 - val_regularization_loss: 1.6927 - val_total_loss: 3.0440\n",
      "Epoch 3/30\n",
      "8/8 [==============================] - 0s 15ms/step - root_mean_squared_error: 1.1116 - loss: 1.2325 - regularization_loss: 1.6127 - total_loss: 2.8452 - val_root_mean_squared_error: 1.1348 - val_loss: 1.2903 - val_regularization_loss: 1.5327 - val_total_loss: 2.8230\n",
      "Epoch 4/30\n",
      "8/8 [==============================] - 0s 16ms/step - root_mean_squared_error: 1.0980 - loss: 1.2040 - regularization_loss: 1.4626 - total_loss: 2.6665 - val_root_mean_squared_error: 1.1288 - val_loss: 1.2762 - val_regularization_loss: 1.3897 - val_total_loss: 2.6659\n",
      "Epoch 5/30\n",
      "8/8 [==============================] - 0s 15ms/step - root_mean_squared_error: 1.0939 - loss: 1.1954 - regularization_loss: 1.3280 - total_loss: 2.5234 - val_root_mean_squared_error: 1.1296 - val_loss: 1.2776 - val_regularization_loss: 1.2616 - val_total_loss: 2.5392\n",
      "Epoch 6/30\n",
      "8/8 [==============================] - 0s 17ms/step - root_mean_squared_error: 1.0907 - loss: 1.1873 - regularization_loss: 1.2071 - total_loss: 2.3944 - val_root_mean_squared_error: 1.1282 - val_loss: 1.2742 - val_regularization_loss: 1.1470 - val_total_loss: 2.4212\n",
      "Epoch 7/30\n",
      "8/8 [==============================] - 0s 16ms/step - root_mean_squared_error: 1.0778 - loss: 1.1586 - regularization_loss: 1.0984 - total_loss: 2.2570 - val_root_mean_squared_error: 1.1217 - val_loss: 1.2598 - val_regularization_loss: 1.0444 - val_total_loss: 2.3042\n",
      "Epoch 8/30\n",
      "8/8 [==============================] - 0s 16ms/step - root_mean_squared_error: 1.0611 - loss: 1.1232 - regularization_loss: 1.0006 - total_loss: 2.1238 - val_root_mean_squared_error: 1.1154 - val_loss: 1.2458 - val_regularization_loss: 0.9520 - val_total_loss: 2.1978\n",
      "Epoch 9/30\n",
      "8/8 [==============================] - 0s 16ms/step - root_mean_squared_error: 1.0468 - loss: 1.0934 - regularization_loss: 0.9124 - total_loss: 2.0059 - val_root_mean_squared_error: 1.1093 - val_loss: 1.2321 - val_regularization_loss: 0.8686 - val_total_loss: 2.1007\n",
      "Epoch 10/30\n",
      "8/8 [==============================] - 0s 15ms/step - root_mean_squared_error: 1.0346 - loss: 1.0682 - regularization_loss: 0.8330 - total_loss: 1.9012 - val_root_mean_squared_error: 1.1028 - val_loss: 1.2175 - val_regularization_loss: 0.7933 - val_total_loss: 2.0108\n",
      "Epoch 11/30\n",
      "8/8 [==============================] - 0s 15ms/step - root_mean_squared_error: 1.0236 - loss: 1.0455 - regularization_loss: 0.7614 - total_loss: 1.8069 - val_root_mean_squared_error: 1.0959 - val_loss: 1.2021 - val_regularization_loss: 0.7254 - val_total_loss: 1.9276\n",
      "Epoch 12/30\n",
      "8/8 [==============================] - 0s 16ms/step - root_mean_squared_error: 1.0131 - loss: 1.0243 - regularization_loss: 0.6967 - total_loss: 1.7211 - val_root_mean_squared_error: 1.0890 - val_loss: 1.1867 - val_regularization_loss: 0.6641 - val_total_loss: 1.8508\n",
      "Epoch 13/30\n",
      "8/8 [==============================] - 0s 15ms/step - root_mean_squared_error: 1.0034 - loss: 1.0047 - regularization_loss: 0.6383 - total_loss: 1.6430 - val_root_mean_squared_error: 1.0823 - val_loss: 1.1720 - val_regularization_loss: 0.6087 - val_total_loss: 1.7807\n",
      "Epoch 14/30\n",
      "8/8 [==============================] - 0s 16ms/step - root_mean_squared_error: 0.9944 - loss: 0.9867 - regularization_loss: 0.5855 - total_loss: 1.5722 - val_root_mean_squared_error: 1.0762 - val_loss: 1.1586 - val_regularization_loss: 0.5585 - val_total_loss: 1.7171\n",
      "Epoch 15/30\n",
      "8/8 [==============================] - 0s 16ms/step - root_mean_squared_error: 0.9863 - loss: 0.9708 - regularization_loss: 0.5375 - total_loss: 1.5083 - val_root_mean_squared_error: 1.0708 - val_loss: 1.1467 - val_regularization_loss: 0.5129 - val_total_loss: 1.6597\n",
      "Epoch 16/30\n",
      "8/8 [==============================] - 0s 16ms/step - root_mean_squared_error: 0.9792 - loss: 0.9569 - regularization_loss: 0.4939 - total_loss: 1.4508 - val_root_mean_squared_error: 1.0661 - val_loss: 1.1364 - val_regularization_loss: 0.4715 - val_total_loss: 1.6079\n",
      "Epoch 17/30\n",
      "8/8 [==============================] - 0s 16ms/step - root_mean_squared_error: 0.9730 - loss: 0.9448 - regularization_loss: 0.4543 - total_loss: 1.3991 - val_root_mean_squared_error: 1.0620 - val_loss: 1.1276 - val_regularization_loss: 0.4339 - val_total_loss: 1.5615\n",
      "Epoch 18/30\n",
      "8/8 [==============================] - 0s 18ms/step - root_mean_squared_error: 0.9676 - loss: 0.9343 - regularization_loss: 0.4184 - total_loss: 1.3527 - val_root_mean_squared_error: 1.0585 - val_loss: 1.1200 - val_regularization_loss: 0.3996 - val_total_loss: 1.5196\n",
      "Epoch 19/30\n",
      "8/8 [==============================] - 0s 15ms/step - root_mean_squared_error: 0.9629 - loss: 0.9252 - regularization_loss: 0.3856 - total_loss: 1.3109 - val_root_mean_squared_error: 1.0555 - val_loss: 1.1135 - val_regularization_loss: 0.3685 - val_total_loss: 1.4820\n",
      "Epoch 20/30\n",
      "8/8 [==============================] - 0s 17ms/step - root_mean_squared_error: 0.9588 - loss: 0.9174 - regularization_loss: 0.3559 - total_loss: 1.2733 - val_root_mean_squared_error: 1.0530 - val_loss: 1.1079 - val_regularization_loss: 0.3403 - val_total_loss: 1.4482\n",
      "Epoch 21/30\n",
      "8/8 [==============================] - 0s 15ms/step - root_mean_squared_error: 0.9552 - loss: 0.9105 - regularization_loss: 0.3289 - total_loss: 1.2394 - val_root_mean_squared_error: 1.0507 - val_loss: 1.1030 - val_regularization_loss: 0.3146 - val_total_loss: 1.4176\n",
      "Epoch 22/30\n",
      "8/8 [==============================] - 0s 16ms/step - root_mean_squared_error: 0.9520 - loss: 0.9045 - regularization_loss: 0.3044 - total_loss: 1.2088 - val_root_mean_squared_error: 1.0488 - val_loss: 1.0987 - val_regularization_loss: 0.2913 - val_total_loss: 1.3901\n",
      "Epoch 23/30\n",
      "8/8 [==============================] - 0s 16ms/step - root_mean_squared_error: 0.9492 - loss: 0.8991 - regularization_loss: 0.2821 - total_loss: 1.1812 - val_root_mean_squared_error: 1.0471 - val_loss: 1.0950 - val_regularization_loss: 0.2702 - val_total_loss: 1.3652\n",
      "Epoch 24/30\n",
      "8/8 [==============================] - 0s 15ms/step - root_mean_squared_error: 0.9466 - loss: 0.8943 - regularization_loss: 0.2619 - total_loss: 1.1562 - val_root_mean_squared_error: 1.0456 - val_loss: 1.0917 - val_regularization_loss: 0.2509 - val_total_loss: 1.3427\n",
      "Epoch 25/30\n",
      "8/8 [==============================] - 0s 15ms/step - root_mean_squared_error: 0.9444 - loss: 0.8901 - regularization_loss: 0.2435 - total_loss: 1.1336 - val_root_mean_squared_error: 1.0443 - val_loss: 1.0888 - val_regularization_loss: 0.2335 - val_total_loss: 1.3223\n",
      "Epoch 26/30\n",
      "8/8 [==============================] - 0s 16ms/step - root_mean_squared_error: 0.9423 - loss: 0.8863 - regularization_loss: 0.2268 - total_loss: 1.1131 - val_root_mean_squared_error: 1.0431 - val_loss: 1.0862 - val_regularization_loss: 0.2176 - val_total_loss: 1.3039\n",
      "Epoch 27/30\n",
      "8/8 [==============================] - 0s 15ms/step - root_mean_squared_error: 0.9405 - loss: 0.8828 - regularization_loss: 0.2116 - total_loss: 1.0944 - val_root_mean_squared_error: 1.0421 - val_loss: 1.0839 - val_regularization_loss: 0.2033 - val_total_loss: 1.2872\n",
      "Epoch 28/30\n",
      "8/8 [==============================] - 0s 15ms/step - root_mean_squared_error: 0.9388 - loss: 0.8796 - regularization_loss: 0.1979 - total_loss: 1.0775 - val_root_mean_squared_error: 1.0411 - val_loss: 1.0818 - val_regularization_loss: 0.1902 - val_total_loss: 1.2720\n",
      "Epoch 29/30\n",
      "8/8 [==============================] - 0s 15ms/step - root_mean_squared_error: 0.9373 - loss: 0.8768 - regularization_loss: 0.1854 - total_loss: 1.0622 - val_root_mean_squared_error: 1.0403 - val_loss: 1.0800 - val_regularization_loss: 0.1783 - val_total_loss: 1.2583\n",
      "Epoch 30/30\n",
      "8/8 [==============================] - 0s 16ms/step - root_mean_squared_error: 0.9359 - loss: 0.8742 - regularization_loss: 0.1740 - total_loss: 1.0482 - val_root_mean_squared_error: 1.0396 - val_loss: 1.0783 - val_regularization_loss: 0.1675 - val_total_loss: 1.2458\n",
      "Learning rate = 1\n",
      "Epoch 1/30\n",
      "8/8 [==============================] - 1s 30ms/step - root_mean_squared_error: 261.1108 - loss: 62347.5883 - regularization_loss: 78.2082 - total_loss: 62425.8000 - val_root_mean_squared_error: 6.6873 - val_loss: 44.7779 - val_regularization_loss: 140.2825 - val_total_loss: 185.0604\n",
      "Epoch 2/30\n",
      "8/8 [==============================] - 0s 17ms/step - root_mean_squared_error: 217.2314 - loss: 42385.1809 - regularization_loss: 138.8803 - total_loss: 42524.0623 - val_root_mean_squared_error: 14.8475 - val_loss: 215.7061 - val_regularization_loss: 137.0531 - val_total_loss: 352.7592\n",
      "Epoch 3/30\n",
      "8/8 [==============================] - 0s 17ms/step - root_mean_squared_error: 7.9714 - loss: 60.3700 - regularization_loss: 135.8791 - total_loss: 196.2491 - val_root_mean_squared_error: 5.8840 - val_loss: 34.6001 - val_regularization_loss: 133.8884 - val_total_loss: 168.4885\n",
      "Epoch 4/30\n",
      "8/8 [==============================] - 0s 16ms/step - root_mean_squared_error: 5.9402 - loss: 35.2283 - regularization_loss: 131.7936 - total_loss: 167.0219 - val_root_mean_squared_error: 5.8270 - val_loss: 33.9321 - val_regularization_loss: 129.7231 - val_total_loss: 163.6553\n",
      "Epoch 5/30\n",
      "8/8 [==============================] - 0s 16ms/step - root_mean_squared_error: 5.8634 - loss: 34.3161 - regularization_loss: 128.0028 - total_loss: 162.3189 - val_root_mean_squared_error: 5.7570 - val_loss: 33.1219 - val_regularization_loss: 126.2777 - val_total_loss: 159.3996\n",
      "Epoch 6/30\n",
      "8/8 [==============================] - 0s 15ms/step - root_mean_squared_error: 5.7489 - loss: 32.9284 - regularization_loss: 124.8067 - total_loss: 157.7351 - val_root_mean_squared_error: 5.6863 - val_loss: 32.3179 - val_regularization_loss: 123.3175 - val_total_loss: 155.6354\n",
      "Epoch 7/30\n",
      "8/8 [==============================] - 0s 17ms/step - root_mean_squared_error: 4.9920 - loss: 23.6262 - regularization_loss: 122.0462 - total_loss: 145.6724 - val_root_mean_squared_error: 5.4253 - val_loss: 29.4254 - val_regularization_loss: 120.7793 - val_total_loss: 150.2047\n",
      "Epoch 8/30\n",
      "8/8 [==============================] - 0s 16ms/step - root_mean_squared_error: 3.3424 - loss: 11.0041 - regularization_loss: 119.6054 - total_loss: 130.6096 - val_root_mean_squared_error: 5.3498 - val_loss: 28.6177 - val_regularization_loss: 118.3960 - val_total_loss: 147.0137\n",
      "Epoch 9/30\n",
      "8/8 [==============================] - 0s 16ms/step - root_mean_squared_error: 2.8812 - loss: 8.1469 - regularization_loss: 117.3328 - total_loss: 125.4796 - val_root_mean_squared_error: 5.2618 - val_loss: 27.6909 - val_regularization_loss: 116.2461 - val_total_loss: 143.9370\n",
      "Epoch 10/30\n",
      "8/8 [==============================] - 0s 16ms/step - root_mean_squared_error: 2.4158 - loss: 5.7361 - regularization_loss: 115.2898 - total_loss: 121.0260 - val_root_mean_squared_error: 5.1815 - val_loss: 26.8531 - val_regularization_loss: 114.3086 - val_total_loss: 141.1618\n",
      "Epoch 11/30\n",
      "8/8 [==============================] - 0s 15ms/step - root_mean_squared_error: 2.1029 - loss: 4.3671 - regularization_loss: 113.4359 - total_loss: 117.8030 - val_root_mean_squared_error: 4.9837 - val_loss: 24.8597 - val_regularization_loss: 112.5366 - val_total_loss: 137.3963\n",
      "Epoch 12/30\n",
      "8/8 [==============================] - 0s 16ms/step - root_mean_squared_error: 1.9503 - loss: 3.7733 - regularization_loss: 111.7258 - total_loss: 115.4990 - val_root_mean_squared_error: 4.9421 - val_loss: 24.4497 - val_regularization_loss: 110.8871 - val_total_loss: 135.3368\n",
      "Epoch 13/30\n",
      "8/8 [==============================] - 0s 16ms/step - root_mean_squared_error: 1.8735 - loss: 3.4873 - regularization_loss: 110.1275 - total_loss: 113.6148 - val_root_mean_squared_error: 4.9326 - val_loss: 24.3520 - val_regularization_loss: 109.3409 - val_total_loss: 133.6929\n",
      "Epoch 14/30\n",
      "8/8 [==============================] - 0s 15ms/step - root_mean_squared_error: 1.8235 - loss: 3.3053 - regularization_loss: 108.6284 - total_loss: 111.9338 - val_root_mean_squared_error: 4.9302 - val_loss: 24.3249 - val_regularization_loss: 107.8893 - val_total_loss: 132.2142\n",
      "Epoch 15/30\n",
      "8/8 [==============================] - 0s 16ms/step - root_mean_squared_error: 1.7857 - loss: 3.1703 - regularization_loss: 107.2190 - total_loss: 110.3892 - val_root_mean_squared_error: 4.9296 - val_loss: 24.3142 - val_regularization_loss: 106.5220 - val_total_loss: 130.8362\n",
      "Epoch 16/30\n",
      "8/8 [==============================] - 0s 15ms/step - root_mean_squared_error: 1.7544 - loss: 3.0598 - regularization_loss: 105.8893 - total_loss: 108.9491 - val_root_mean_squared_error: 4.9292 - val_loss: 24.3066 - val_regularization_loss: 105.2309 - val_total_loss: 129.5375\n",
      "Epoch 17/30\n",
      "8/8 [==============================] - 0s 15ms/step - root_mean_squared_error: 1.7257 - loss: 2.9606 - regularization_loss: 104.6327 - total_loss: 107.5932 - val_root_mean_squared_error: 4.9280 - val_loss: 24.2920 - val_regularization_loss: 104.0097 - val_total_loss: 128.3017\n",
      "Epoch 18/30\n",
      "8/8 [==============================] - 0s 20ms/step - root_mean_squared_error: 1.6992 - loss: 2.8705 - regularization_loss: 103.4431 - total_loss: 106.3136 - val_root_mean_squared_error: 4.9259 - val_loss: 24.2688 - val_regularization_loss: 102.8530 - val_total_loss: 127.1218\n",
      "Epoch 19/30\n",
      "8/8 [==============================] - 0s 18ms/step - root_mean_squared_error: 1.6748 - loss: 2.7887 - regularization_loss: 102.3158 - total_loss: 105.1045 - val_root_mean_squared_error: 4.9238 - val_loss: 24.2457 - val_regularization_loss: 101.7554 - val_total_loss: 126.0011\n",
      "Epoch 20/30\n",
      "8/8 [==============================] - 0s 16ms/step - root_mean_squared_error: 1.6518 - loss: 2.7136 - regularization_loss: 101.2452 - total_loss: 103.9587 - val_root_mean_squared_error: 4.9215 - val_loss: 24.2216 - val_regularization_loss: 100.7118 - val_total_loss: 124.9333\n",
      "Epoch 21/30\n",
      "8/8 [==============================] - 0s 16ms/step - root_mean_squared_error: 1.6313 - loss: 2.6475 - regularization_loss: 100.2261 - total_loss: 102.8736 - val_root_mean_squared_error: 4.9191 - val_loss: 24.1965 - val_regularization_loss: 99.7175 - val_total_loss: 123.9140\n",
      "Epoch 22/30\n",
      "8/8 [==============================] - 0s 16ms/step - root_mean_squared_error: 1.6130 - loss: 2.5891 - regularization_loss: 99.2545 - total_loss: 101.8437 - val_root_mean_squared_error: 4.9163 - val_loss: 24.1691 - val_regularization_loss: 98.7688 - val_total_loss: 122.9379\n",
      "Epoch 23/30\n",
      "8/8 [==============================] - 0s 17ms/step - root_mean_squared_error: 1.5965 - loss: 2.5374 - regularization_loss: 98.3266 - total_loss: 100.8640 - val_root_mean_squared_error: 4.9135 - val_loss: 24.1406 - val_regularization_loss: 97.8619 - val_total_loss: 122.0025\n",
      "Epoch 24/30\n",
      "8/8 [==============================] - 0s 16ms/step - root_mean_squared_error: 1.5800 - loss: 2.4864 - regularization_loss: 97.4406 - total_loss: 99.9269 - val_root_mean_squared_error: 4.9107 - val_loss: 24.1139 - val_regularization_loss: 96.9963 - val_total_loss: 121.1103\n",
      "Epoch 25/30\n",
      "8/8 [==============================] - 0s 18ms/step - root_mean_squared_error: 1.5583 - loss: 2.4209 - regularization_loss: 96.5966 - total_loss: 99.0175 - val_root_mean_squared_error: 4.9066 - val_loss: 24.0823 - val_regularization_loss: 96.1718 - val_total_loss: 120.2542\n",
      "Epoch 26/30\n",
      "8/8 [==============================] - 0s 19ms/step - root_mean_squared_error: 1.5221 - loss: 2.3100 - regularization_loss: 95.7925 - total_loss: 98.1025 - val_root_mean_squared_error: 4.9000 - val_loss: 24.0226 - val_regularization_loss: 95.3829 - val_total_loss: 119.4055\n",
      "Epoch 27/30\n",
      "8/8 [==============================] - 0s 16ms/step - root_mean_squared_error: 1.4839 - loss: 2.1981 - regularization_loss: 95.0033 - total_loss: 97.2014 - val_root_mean_squared_error: 4.8930 - val_loss: 23.9495 - val_regularization_loss: 94.6031 - val_total_loss: 118.5526\n",
      "Epoch 28/30\n",
      "8/8 [==============================] - 0s 15ms/step - root_mean_squared_error: 1.4556 - loss: 2.1141 - regularization_loss: 94.2352 - total_loss: 96.3492 - val_root_mean_squared_error: 4.8865 - val_loss: 23.8887 - val_regularization_loss: 93.8514 - val_total_loss: 117.7401\n",
      "Epoch 29/30\n",
      "8/8 [==============================] - 0s 17ms/step - root_mean_squared_error: 1.4298 - loss: 2.0382 - regularization_loss: 93.4992 - total_loss: 95.5374 - val_root_mean_squared_error: 4.8808 - val_loss: 23.8399 - val_regularization_loss: 93.1297 - val_total_loss: 116.9696\n",
      "Epoch 30/30\n",
      "8/8 [==============================] - 0s 15ms/step - root_mean_squared_error: 1.4039 - loss: 1.9652 - regularization_loss: 92.7933 - total_loss: 94.7585 - val_root_mean_squared_error: 4.8745 - val_loss: 23.7831 - val_regularization_loss: 92.4383 - val_total_loss: 116.2214\n"
     ]
    }
   ],
   "source": [
    "# Store the training histories in a dictionary\n",
    "# This can probably be done better or more securely than here, because we are creating \n",
    "# variable names from values, but it serves the purpose here of plotting the tuning\n",
    "\n",
    "histories_tr = {}\n",
    "\n",
    "# For each learning rate:\n",
    "\n",
    "# - Create an instance of the model class that can be used as the model\n",
    "# - Compile the model to set its initial parameters\n",
    "# - Train the model using .fit, minimizing the loss on the neural network predictions of the user ratings\n",
    "\n",
    "for val in learning_rates_logarithmic:\n",
    "    print('Learning rate = {}'.format(val))\n",
    "    model_tr = MovielensModelTunedRanking()\n",
    "    model_tr.compile(optimizer=tf.keras.optimizers.Adagrad(learning_rate=val))\n",
    "\n",
    "    lr = str(val)\n",
    "    histories_tr[lr] = model_tr.fit(cached_train, epochs=epochs, validation_data=cached_validation)"
   ]
  },
  {
   "cell_type": "markdown",
   "metadata": {
    "gradient": {
     "editing": false
    },
    "id": "w_mymY1K_Dlz"
   },
   "source": [
    "As above, we can view and plot the tuning history, now for multiple hyperparameter tuning grid points."
   ]
  },
  {
   "cell_type": "code",
   "execution_count": null,
   "metadata": {
    "colab": {
     "base_uri": "https://localhost:8080/"
    },
    "gradient": {
     "editing": false
    },
    "id": "yWoxGpqX99tl",
    "outputId": "0ef9d914-47d8-4593-d9f1-5d18c0e18972"
   },
   "outputs": [
    {
     "data": {
      "text/plain": [
       "{'0.001': <tensorflow.python.keras.callbacks.History at 0x7f5ae843d630>,\n",
       " '0.01': <tensorflow.python.keras.callbacks.History at 0x7f5ae83b0a58>,\n",
       " '0.1': <tensorflow.python.keras.callbacks.History at 0x7f5afc087ac8>,\n",
       " '1': <tensorflow.python.keras.callbacks.History at 0x7f5ae872bac8>}"
      ]
     },
     "execution_count": 39,
     "metadata": {},
     "output_type": "execute_result"
    }
   ],
   "source": [
    "# All 4 histories\n",
    "histories_tr"
   ]
  },
  {
   "cell_type": "code",
   "execution_count": null,
   "metadata": {
    "colab": {
     "base_uri": "https://localhost:8080/"
    },
    "gradient": {
     "editing": false
    },
    "id": "XgssZ1Tm-JDv",
    "outputId": "83900cad-51a5-4642-89ba-c0754ab8c1a3"
   },
   "outputs": [
    {
     "name": "stdout",
     "output_type": "stream",
     "text": [
      "{'loss': [1.762627124786377, 1.27882719039917, 1.2089080810546875,\n",
      "          1.1910356283187866, 1.1852569580078125, 1.1688036918640137,\n",
      "          1.1348143815994263, 1.1025407314300537, 1.0754719972610474,\n",
      "          1.0513532161712646, 1.028888463973999, 1.0077794790267944,\n",
      "          0.9882305264472961, 0.9706097841262817, 0.9550227522850037,\n",
      "          0.9414154887199402, 0.9296673536300659, 0.9195032119750977,\n",
      "          0.9106879234313965, 0.9030314683914185, 0.8963359594345093,\n",
      "          0.8904510140419006, 0.8852168321609497, 0.8805525302886963,\n",
      "          0.8763761520385742, 0.8726167678833008, 0.8692119121551514,\n",
      "          0.8661321997642517, 0.8633233904838562, 0.8607590198516846],\n",
      " 'regularization_loss': [1.8833727836608887, 1.709684133529663,\n",
      "                         1.5512652397155762, 1.4084283113479614,\n",
      "                         1.2802670001983643, 1.1646971702575684,\n",
      "                         1.0602525472640991, 0.9661356806755066,\n",
      "                         0.8814136385917664, 0.8051096796989441,\n",
      "                         0.7363383173942566, 0.6742603182792664,\n",
      "                         0.6181073784828186, 0.5672097206115723,\n",
      "                         0.5210040211677551, 0.4790118634700775,\n",
      "                         0.44083353877067566, 0.4061235785484314,\n",
      "                         0.37457412481307983, 0.3459088206291199,\n",
      "                         0.31986862421035767, 0.2962194085121155,\n",
      "                         0.27474555373191833, 0.25524279475212097,\n",
      "                         0.23753470182418823, 0.22145286202430725,\n",
      "                         0.20684660971164703, 0.1935809850692749,\n",
      "                         0.18152524530887604, 0.1705697625875473],\n",
      " 'root_mean_squared_error': [2.289046049118042, 1.1771577596664429,\n",
      "                             1.1115610599517822, 1.0980154275894165,\n",
      "                             1.093927264213562, 1.0907137393951416,\n",
      "                             1.077783226966858, 1.0610603094100952,\n",
      "                             1.046777606010437, 1.0346107482910156,\n",
      "                             1.0235512256622314, 1.0131421089172363,\n",
      "                             1.0033774375915527, 0.9943932294845581,\n",
      "                             0.9863340854644775, 0.9792006611824036,\n",
      "                             0.9729844927787781, 0.9675800800323486,\n",
      "                             0.9628666043281555, 0.958757758140564,\n",
      "                             0.9551514983177185, 0.9519810676574707,\n",
      "                             0.9491576552391052, 0.9466348886489868,\n",
      "                             0.9443740248680115, 0.9423385262489319,\n",
      "                             0.9404929280281067, 0.9388144612312317,\n",
      "                             0.9372864961624146, 0.9358880519866943],\n",
      " 'total_loss': [3.6459999084472656, 2.988511323928833, 2.7601733207702637,\n",
      "                2.599463939666748, 2.4655239582061768, 2.333500862121582,\n",
      "                2.1950669288635254, 2.068676471710205, 1.956885576248169,\n",
      "                1.8564629554748535, 1.7652268409729004, 1.682039737701416,\n",
      "                1.6063379049301147, 1.537819504737854, 1.4760267734527588,\n",
      "                1.4204273223876953, 1.370500922203064, 1.3256268501281738,\n",
      "                1.285262107849121, 1.2489402294158936, 1.2162046432495117,\n",
      "                1.1866704225540161, 1.1599624156951904, 1.1357953548431396,\n",
      "                1.1139109134674072, 1.0940696001052856, 1.0760585069656372,\n",
      "                1.0597131252288818, 1.0448486804962158, 1.031328797340393],\n",
      " 'val_loss': [1.6042264699935913, 1.3513578176498413, 1.2903485298156738,\n",
      "              1.2762088775634766, 1.2776464223861694, 1.27419912815094,\n",
      "              1.259826421737671, 1.2458175420761108, 1.232138752937317,\n",
      "              1.2175116539001465, 1.2021178007125854, 1.1866992712020874,\n",
      "              1.1720060110092163, 1.1586028337478638, 1.1467399597167969,\n",
      "              1.1364425420761108, 1.1275955438613892, 1.1200101375579834,\n",
      "              1.1134916543960571, 1.1078695058822632, 1.1029906272888184,\n",
      "              1.09873628616333, 1.0950082540512085, 1.091720461845398,\n",
      "              1.0888092517852783, 1.0862199068069458, 1.0839091539382935,\n",
      "              1.0818350315093994, 1.0799734592437744, 1.0782928466796875],\n",
      " 'val_regularization_loss': [1.8719346523284912, 1.6926913261413574,\n",
      "                             1.5326679944992065, 1.38970148563385,\n",
      "                             1.2615903615951538, 1.1470091342926025,\n",
      "                             1.0444021224975586, 0.9519760012626648,\n",
      "                             0.8685702085494995, 0.7933182120323181,\n",
      "                             0.7254354953765869, 0.6641483306884766,\n",
      "                             0.6087190508842468, 0.5584917664527893,\n",
      "                             0.5129101276397705, 0.4714999198913574,\n",
      "                             0.4338560402393341, 0.3996390402317047,\n",
      "                             0.3685440123081207, 0.34029173851013184,\n",
      "                             0.31462952494621277, 0.2913235127925873,\n",
      "                             0.27016207575798035, 0.2509452700614929,\n",
      "                             0.23349589109420776, 0.2176496833562851,\n",
      "                             0.20325830578804016, 0.19018563628196716,\n",
      "                             0.17830677330493927, 0.16751188039779663],\n",
      " 'val_root_mean_squared_error': [1.2646777629852295, 1.1610608100891113,\n",
      "                                 1.1348239183425903, 1.1287872791290283,\n",
      "                                 1.1296191215515137, 1.1281509399414062,\n",
      "                                 1.121716022491455, 1.1154413223266602,\n",
      "                                 1.109337568283081, 1.1028119325637817,\n",
      "                                 1.0959229469299316, 1.0889877080917358,\n",
      "                                 1.0823380947113037, 1.0762399435043335,\n",
      "                                 1.0708181858062744, 1.066096544265747,\n",
      "                                 1.0620325803756714, 1.0585448741912842,\n",
      "                                 1.0555487871170044, 1.0529675483703613,\n",
      "                                 1.050732135772705, 1.0487874746322632,\n",
      "                                 1.0470881462097168, 1.0455944538116455,\n",
      "                                 1.0442761182785034, 1.043107509613037,\n",
      "                                 1.0420681238174438, 1.0411385297775269,\n",
      "                                 1.0403069257736206, 1.0395591259002686],\n",
      " 'val_total_loss': [3.476161003112793, 3.0440492630004883, 2.82301664352417,\n",
      "                    2.665910243988037, 2.5392367839813232, 2.421208381652832,\n",
      "                    2.3042285442352295, 2.197793483734131, 2.1007089614868164,\n",
      "                    2.0108299255371094, 1.9275532960891724, 1.850847601890564,\n",
      "                    1.7807250022888184, 1.7170946598052979, 1.6596500873565674,\n",
      "                    1.6079424619674683, 1.5614515542984009, 1.5196491479873657,\n",
      "                    1.4820356369018555, 1.448161244392395, 1.4176201820373535,\n",
      "                    1.3900598287582397, 1.3651703596115112, 1.342665672302246,\n",
      "                    1.3223052024841309, 1.303869605064392, 1.2871674299240112,\n",
      "                    1.272020697593689, 1.2582802772521973, 1.245804786682129]}\n"
     ]
    }
   ],
   "source": [
    "# History for learning rate 0.1\n",
    "pprint.pprint(histories_tr['0.1'].history, compact=True)"
   ]
  },
  {
   "cell_type": "code",
   "execution_count": null,
   "metadata": {
    "colab": {
     "base_uri": "https://localhost:8080/"
    },
    "gradient": {
     "editing": false
    },
    "id": "03HKT4aLKr4i",
    "outputId": "03f7636d-4e71-40f2-a382-0c90e6750c03"
   },
   "outputs": [
    {
     "name": "stdout",
     "output_type": "stream",
     "text": [
      "Root mean squared error in user rating from training   for learning rate 0.001 = 3.02431321144104\n",
      "Root mean squared error in user rating from validation for learning rate 0.001 = 2.9313621520996094\n",
      "Root mean squared error in user rating from training   for learning rate 0.01 = 1.0800449848175049\n",
      "Root mean squared error in user rating from validation for learning rate 0.01 = 1.1250864267349243\n",
      "Root mean squared error in user rating from training   for learning rate 0.1 = 0.9358880519866943\n",
      "Root mean squared error in user rating from validation for learning rate 0.1 = 1.0395591259002686\n",
      "Root mean squared error in user rating from training   for learning rate 1 = 1.4039241075515747\n",
      "Root mean squared error in user rating from validation for learning rate 1 = 4.874517440795898\n"
     ]
    }
   ],
   "source": [
    "for val in learning_rates_logarithmic:\n",
    "    lr = str(val)\n",
    "\n",
    "    rmse_tr = histories_tr[lr].history['root_mean_squared_error'][-1]\n",
    "    print('Root mean squared error in user rating from training   for learning rate {} = {}'.format(lr, rmse_tr))\n",
    "\n",
    "    val_rmse_tr = histories_tr[lr].history['val_root_mean_squared_error'][-1]\n",
    "    print('Root mean squared error in user rating from validation for learning rate {} = {}'.format(lr, val_rmse_tr))"
   ]
  },
  {
   "cell_type": "code",
   "execution_count": null,
   "metadata": {
    "gradient": {
     "editing": false
    },
    "id": "NT6elfwzLa67"
   },
   "outputs": [],
   "source": [
    "num_validation_runs = len(histories_tr['0.1'].history['root_mean_squared_error']) # Or any of the learning rates; they are all the same\n",
    "validation_freq = 1\n",
    "epochs_x = [(x + 1) * validation_freq for x in range(num_validation_runs)]"
   ]
  },
  {
   "cell_type": "code",
   "execution_count": null,
   "metadata": {
    "colab": {
     "base_uri": "https://localhost:8080/",
     "height": 308
    },
    "gradient": {
     "editing": false
    },
    "id": "M0tpT1fJLqO0",
    "outputId": "1576e6e6-bc69-4b15-8337-decb7bd6cd68"
   },
   "outputs": [
    {
     "data": {
      "text/plain": [
       "<matplotlib.legend.Legend at 0x7f5ae87b7f60>"
      ]
     },
     "execution_count": 43,
     "metadata": {},
     "output_type": "execute_result"
    },
    {
     "data": {
      "image/png": "[encoded data removed]",
      "text/plain": [
       "<Figure size 432x288 with 1 Axes>"
      ]
     },
     "metadata": {},
     "output_type": "display_data"
    }
   ],
   "source": [
    "for val in learning_rates_logarithmic:\n",
    "    lr = str(val)\n",
    "    plt.plot(epochs_x, histories_tr[lr].history['root_mean_squared_error'], label=lr)\n",
    "    plt.plot(epochs_x, histories_tr[lr].history['val_root_mean_squared_error'], label=lr, linestyle='dotted')\n",
    "\n",
    "plt.title('Root mean squared error in user rating vs. training epoch')\n",
    "plt.xlabel('Training epoch')\n",
    "plt.ylabel('Root mean squared error in user rating')\n",
    "plt.yscale('log')\n",
    "plt.legend()"
   ]
  },
  {
   "cell_type": "markdown",
   "metadata": {
    "gradient": {
     "editing": false
    },
    "id": "WegveKxPIAaV"
   },
   "source": [
    "It looks like learning rates closer in magnitude to 0.1 than 0.01 or 1 are best, so we zoom in on those.\n",
    "\n",
    "Again a production system would test more values so the results are less noisy, but this shows the idea.\n",
    "\n",
    "The RMSE has improved from about 1.1 in the basic model to about 0.9 here, although a little higher on the validation set."
   ]
  },
  {
   "cell_type": "code",
   "execution_count": null,
   "metadata": {
    "colab": {
     "base_uri": "https://localhost:8080/"
    },
    "gradient": {
     "editing": false
    },
    "id": "ZaSvBMAWEXxf",
    "outputId": "245286e0-0f53-4216-f735-2e5a56b72292",
    "scrolled": true
   },
   "outputs": [
    {
     "name": "stdout",
     "output_type": "stream",
     "text": [
      "Learning rate = 0.05\n",
      "Epoch 1/30\n",
      "8/8 [==============================] - 1s 30ms/step - root_mean_squared_error: 2.1155 - loss: 4.1128 - regularization_loss: 2.0002 - total_loss: 6.1129 - val_root_mean_squared_error: 1.1633 - val_loss: 1.3542 - val_regularization_loss: 1.9563 - val_total_loss: 3.3105\n",
      "Epoch 2/30\n",
      "8/8 [==============================] - 0s 16ms/step - root_mean_squared_error: 1.1256 - loss: 1.2646 - regularization_loss: 1.9082 - total_loss: 3.1728 - val_root_mean_squared_error: 1.1419 - val_loss: 1.3045 - val_regularization_loss: 1.8598 - val_total_loss: 3.1643\n",
      "Epoch 3/30\n",
      "8/8 [==============================] - 0s 16ms/step - root_mean_squared_error: 1.1172 - loss: 1.2469 - regularization_loss: 1.8152 - total_loss: 3.0621 - val_root_mean_squared_error: 1.1341 - val_loss: 1.2862 - val_regularization_loss: 1.7684 - val_total_loss: 3.0546\n",
      "Epoch 4/30\n",
      "8/8 [==============================] - 0s 16ms/step - root_mean_squared_error: 1.1181 - loss: 1.2494 - regularization_loss: 1.7271 - total_loss: 2.9764 - val_root_mean_squared_error: 1.1342 - val_loss: 1.2861 - val_regularization_loss: 1.6821 - val_total_loss: 2.9682\n",
      "Epoch 5/30\n",
      "8/8 [==============================] - 0s 17ms/step - root_mean_squared_error: 1.1184 - loss: 1.2492 - regularization_loss: 1.6436 - total_loss: 2.8928 - val_root_mean_squared_error: 1.1337 - val_loss: 1.2848 - val_regularization_loss: 1.6010 - val_total_loss: 2.8858\n",
      "Epoch 6/30\n",
      "8/8 [==============================] - 0s 16ms/step - root_mean_squared_error: 1.1109 - loss: 1.2320 - regularization_loss: 1.5648 - total_loss: 2.7967 - val_root_mean_squared_error: 1.1314 - val_loss: 1.2793 - val_regularization_loss: 1.5246 - val_total_loss: 2.8040\n",
      "Epoch 7/30\n",
      "8/8 [==============================] - 0s 16ms/step - root_mean_squared_error: 1.1004 - loss: 1.2088 - regularization_loss: 1.4903 - total_loss: 2.6991 - val_root_mean_squared_error: 1.1296 - val_loss: 1.2750 - val_regularization_loss: 1.4525 - val_total_loss: 2.7274\n",
      "Epoch 8/30\n",
      "8/8 [==============================] - 0s 15ms/step - root_mean_squared_error: 1.0904 - loss: 1.1873 - regularization_loss: 1.4200 - total_loss: 2.6072 - val_root_mean_squared_error: 1.1280 - val_loss: 1.2711 - val_regularization_loss: 1.3842 - val_total_loss: 2.6553\n",
      "Epoch 9/30\n",
      "8/8 [==============================] - 0s 16ms/step - root_mean_squared_error: 1.0815 - loss: 1.1680 - regularization_loss: 1.3535 - total_loss: 2.5215 - val_root_mean_squared_error: 1.1262 - val_loss: 1.2667 - val_regularization_loss: 1.3196 - val_total_loss: 2.5862\n",
      "Epoch 10/30\n",
      "8/8 [==============================] - 0s 16ms/step - root_mean_squared_error: 1.0730 - loss: 1.1498 - regularization_loss: 1.2906 - total_loss: 2.4404 - val_root_mean_squared_error: 1.1240 - val_loss: 1.2613 - val_regularization_loss: 1.2584 - val_total_loss: 2.5197\n",
      "Epoch 11/30\n",
      "8/8 [==============================] - 0s 15ms/step - root_mean_squared_error: 1.0647 - loss: 1.1320 - regularization_loss: 1.2310 - total_loss: 2.3630 - val_root_mean_squared_error: 1.1213 - val_loss: 1.2550 - val_regularization_loss: 1.2004 - val_total_loss: 2.4554\n",
      "Epoch 12/30\n",
      "8/8 [==============================] - 0s 15ms/step - root_mean_squared_error: 1.0564 - loss: 1.1145 - regularization_loss: 1.1745 - total_loss: 2.2889 - val_root_mean_squared_error: 1.1182 - val_loss: 1.2477 - val_regularization_loss: 1.1454 - val_total_loss: 2.3931\n",
      "Epoch 13/30\n",
      "8/8 [==============================] - 0s 15ms/step - root_mean_squared_error: 1.0482 - loss: 1.0970 - regularization_loss: 1.1209 - total_loss: 2.2179 - val_root_mean_squared_error: 1.1148 - val_loss: 1.2397 - val_regularization_loss: 1.0932 - val_total_loss: 2.3329\n",
      "Epoch 14/30\n",
      "8/8 [==============================] - 0s 15ms/step - root_mean_squared_error: 1.0399 - loss: 1.0798 - regularization_loss: 1.0700 - total_loss: 2.1498 - val_root_mean_squared_error: 1.1110 - val_loss: 1.2310 - val_regularization_loss: 1.0437 - val_total_loss: 2.2747\n",
      "Epoch 15/30\n",
      "8/8 [==============================] - 0s 16ms/step - root_mean_squared_error: 1.0317 - loss: 1.0628 - regularization_loss: 1.0217 - total_loss: 2.0845 - val_root_mean_squared_error: 1.1069 - val_loss: 1.2217 - val_regularization_loss: 0.9967 - val_total_loss: 2.2184\n",
      "Epoch 16/30\n",
      "8/8 [==============================] - 0s 15ms/step - root_mean_squared_error: 1.0237 - loss: 1.0463 - regularization_loss: 0.9759 - total_loss: 2.0223 - val_root_mean_squared_error: 1.1027 - val_loss: 1.2122 - val_regularization_loss: 0.9521 - val_total_loss: 2.1643\n",
      "Epoch 17/30\n",
      "8/8 [==============================] - 0s 15ms/step - root_mean_squared_error: 1.0160 - loss: 1.0307 - regularization_loss: 0.9324 - total_loss: 1.9630 - val_root_mean_squared_error: 1.0985 - val_loss: 1.2026 - val_regularization_loss: 0.9097 - val_total_loss: 2.1123\n",
      "Epoch 18/30\n",
      "8/8 [==============================] - 0s 15ms/step - root_mean_squared_error: 1.0088 - loss: 1.0159 - regularization_loss: 0.8910 - total_loss: 1.9069 - val_root_mean_squared_error: 1.0943 - val_loss: 1.1932 - val_regularization_loss: 0.8694 - val_total_loss: 2.0626\n",
      "Epoch 19/30\n",
      "8/8 [==============================] - 0s 15ms/step - root_mean_squared_error: 1.0020 - loss: 1.0023 - regularization_loss: 0.8516 - total_loss: 1.8540 - val_root_mean_squared_error: 1.0902 - val_loss: 1.1842 - val_regularization_loss: 0.8310 - val_total_loss: 2.0152\n",
      "Epoch 20/30\n",
      "8/8 [==============================] - 0s 16ms/step - root_mean_squared_error: 0.9958 - loss: 0.9899 - regularization_loss: 0.8141 - total_loss: 1.8040 - val_root_mean_squared_error: 1.0864 - val_loss: 1.1757 - val_regularization_loss: 0.7945 - val_total_loss: 1.9702\n",
      "Epoch 21/30\n",
      "8/8 [==============================] - 0s 15ms/step - root_mean_squared_error: 0.9900 - loss: 0.9784 - regularization_loss: 0.7784 - total_loss: 1.7568 - val_root_mean_squared_error: 1.0828 - val_loss: 1.1678 - val_regularization_loss: 0.7596 - val_total_loss: 1.9275\n",
      "Epoch 22/30\n",
      "8/8 [==============================] - 0s 15ms/step - root_mean_squared_error: 0.9846 - loss: 0.9679 - regularization_loss: 0.7444 - total_loss: 1.7122 - val_root_mean_squared_error: 1.0795 - val_loss: 1.1607 - val_regularization_loss: 0.7264 - val_total_loss: 1.8871\n",
      "Epoch 23/30\n",
      "8/8 [==============================] - 0s 15ms/step - root_mean_squared_error: 0.9797 - loss: 0.9582 - regularization_loss: 0.7119 - total_loss: 1.6701 - val_root_mean_squared_error: 1.0765 - val_loss: 1.1541 - val_regularization_loss: 0.6947 - val_total_loss: 1.8489\n",
      "Epoch 24/30\n",
      "8/8 [==============================] - 0s 15ms/step - root_mean_squared_error: 0.9753 - loss: 0.9495 - regularization_loss: 0.6809 - total_loss: 1.6304 - val_root_mean_squared_error: 1.0738 - val_loss: 1.1482 - val_regularization_loss: 0.6645 - val_total_loss: 1.8127\n",
      "Epoch 25/30\n",
      "8/8 [==============================] - 0s 16ms/step - root_mean_squared_error: 0.9712 - loss: 0.9417 - regularization_loss: 0.6513 - total_loss: 1.5930 - val_root_mean_squared_error: 1.0713 - val_loss: 1.1428 - val_regularization_loss: 0.6357 - val_total_loss: 1.7785\n",
      "Epoch 26/30\n",
      "8/8 [==============================] - 0s 17ms/step - root_mean_squared_error: 0.9676 - loss: 0.9346 - regularization_loss: 0.6231 - total_loss: 1.5577 - val_root_mean_squared_error: 1.0690 - val_loss: 1.1379 - val_regularization_loss: 0.6082 - val_total_loss: 1.7461\n",
      "Epoch 27/30\n",
      "8/8 [==============================] - 0s 16ms/step - root_mean_squared_error: 0.9643 - loss: 0.9282 - regularization_loss: 0.5962 - total_loss: 1.5244 - val_root_mean_squared_error: 1.0670 - val_loss: 1.1335 - val_regularization_loss: 0.5820 - val_total_loss: 1.7154\n",
      "Epoch 28/30\n",
      "8/8 [==============================] - 0s 16ms/step - root_mean_squared_error: 0.9612 - loss: 0.9224 - regularization_loss: 0.5706 - total_loss: 1.4930 - val_root_mean_squared_error: 1.0651 - val_loss: 1.1294 - val_regularization_loss: 0.5570 - val_total_loss: 1.6864\n",
      "Epoch 29/30\n",
      "8/8 [==============================] - 0s 15ms/step - root_mean_squared_error: 0.9585 - loss: 0.9171 - regularization_loss: 0.5462 - total_loss: 1.4632 - val_root_mean_squared_error: 1.0634 - val_loss: 1.1257 - val_regularization_loss: 0.5332 - val_total_loss: 1.6589\n",
      "Epoch 30/30\n",
      "8/8 [==============================] - 0s 15ms/step - root_mean_squared_error: 0.9560 - loss: 0.9123 - regularization_loss: 0.5229 - total_loss: 1.4351 - val_root_mean_squared_error: 1.0618 - val_loss: 1.1223 - val_regularization_loss: 0.5105 - val_total_loss: 1.6328\n",
      "Learning rate = 0.1\n",
      "Epoch 1/30\n",
      "8/8 [==============================] - 1s 32ms/step - root_mean_squared_error: 2.3914 - loss: 5.5133 - regularization_loss: 1.9663 - total_loss: 7.4796 - val_root_mean_squared_error: 1.1728 - val_loss: 1.3759 - val_regularization_loss: 1.8751 - val_total_loss: 3.2510\n",
      "Epoch 2/30\n",
      "8/8 [==============================] - 0s 15ms/step - root_mean_squared_error: 1.1379 - loss: 1.2900 - regularization_loss: 1.7909 - total_loss: 3.0809 - val_root_mean_squared_error: 1.1323 - val_loss: 1.2837 - val_regularization_loss: 1.7006 - val_total_loss: 2.9843\n",
      "Epoch 3/30\n",
      "8/8 [==============================] - 0s 15ms/step - root_mean_squared_error: 1.1202 - loss: 1.2532 - regularization_loss: 1.6219 - total_loss: 2.8751 - val_root_mean_squared_error: 1.1313 - val_loss: 1.2815 - val_regularization_loss: 1.5403 - val_total_loss: 2.8219\n",
      "Epoch 4/30\n",
      "8/8 [==============================] - 0s 15ms/step - root_mean_squared_error: 1.1149 - loss: 1.2414 - regularization_loss: 1.4694 - total_loss: 2.7109 - val_root_mean_squared_error: 1.1299 - val_loss: 1.2782 - val_regularization_loss: 1.3960 - val_total_loss: 2.6742\n",
      "Epoch 5/30\n",
      "8/8 [==============================] - 0s 17ms/step - root_mean_squared_error: 1.1078 - loss: 1.2254 - regularization_loss: 1.3324 - total_loss: 2.5578 - val_root_mean_squared_error: 1.1281 - val_loss: 1.2740 - val_regularization_loss: 1.2664 - val_total_loss: 2.5404\n",
      "Epoch 6/30\n",
      "8/8 [==============================] - 0s 16ms/step - root_mean_squared_error: 1.0980 - loss: 1.2036 - regularization_loss: 1.2095 - total_loss: 2.4131 - val_root_mean_squared_error: 1.1257 - val_loss: 1.2685 - val_regularization_loss: 1.1503 - val_total_loss: 2.4189\n",
      "Epoch 7/30\n",
      "8/8 [==============================] - 0s 16ms/step - root_mean_squared_error: 1.0856 - loss: 1.1764 - regularization_loss: 1.0995 - total_loss: 2.2759 - val_root_mean_squared_error: 1.1225 - val_loss: 1.2613 - val_regularization_loss: 1.0466 - val_total_loss: 2.3079\n",
      "Epoch 8/30\n",
      "8/8 [==============================] - 0s 18ms/step - root_mean_squared_error: 1.0716 - loss: 1.1463 - regularization_loss: 1.0012 - total_loss: 2.1474 - val_root_mean_squared_error: 1.1183 - val_loss: 1.2517 - val_regularization_loss: 0.9537 - val_total_loss: 2.2054\n",
      "Epoch 9/30\n",
      "8/8 [==============================] - 0s 37ms/step - root_mean_squared_error: 1.0574 - loss: 1.1161 - regularization_loss: 0.9131 - total_loss: 2.0292 - val_root_mean_squared_error: 1.1130 - val_loss: 1.2398 - val_regularization_loss: 0.8703 - val_total_loss: 2.1101\n",
      "Epoch 10/30\n",
      "8/8 [==============================] - 0s 16ms/step - root_mean_squared_error: 1.0438 - loss: 1.0875 - regularization_loss: 0.8340 - total_loss: 1.9215 - val_root_mean_squared_error: 1.1066 - val_loss: 1.2253 - val_regularization_loss: 0.7954 - val_total_loss: 2.0207\n",
      "Epoch 11/30\n",
      "8/8 [==============================] - 0s 16ms/step - root_mean_squared_error: 1.0310 - loss: 1.0612 - regularization_loss: 0.7628 - total_loss: 1.8240 - val_root_mean_squared_error: 1.0994 - val_loss: 1.2091 - val_regularization_loss: 0.7279 - val_total_loss: 1.9370\n",
      "Epoch 12/30\n",
      "8/8 [==============================] - 0s 15ms/step - root_mean_squared_error: 1.0193 - loss: 1.0371 - regularization_loss: 0.6988 - total_loss: 1.7359 - val_root_mean_squared_error: 1.0919 - val_loss: 1.1921 - val_regularization_loss: 0.6671 - val_total_loss: 1.8592\n",
      "Epoch 13/30\n",
      "8/8 [==============================] - 0s 16ms/step - root_mean_squared_error: 1.0089 - loss: 1.0161 - regularization_loss: 0.6409 - total_loss: 1.6571 - val_root_mean_squared_error: 1.0846 - val_loss: 1.1759 - val_regularization_loss: 0.6120 - val_total_loss: 1.7879\n",
      "Epoch 14/30\n",
      "8/8 [==============================] - 0s 15ms/step - root_mean_squared_error: 1.0001 - loss: 0.9985 - regularization_loss: 0.5885 - total_loss: 1.5870 - val_root_mean_squared_error: 1.0781 - val_loss: 1.1614 - val_regularization_loss: 0.5620 - val_total_loss: 1.7234\n",
      "Epoch 15/30\n",
      "8/8 [==============================] - 0s 15ms/step - root_mean_squared_error: 0.9925 - loss: 0.9834 - regularization_loss: 0.5409 - total_loss: 1.5243 - val_root_mean_squared_error: 1.0724 - val_loss: 1.1487 - val_regularization_loss: 0.5165 - val_total_loss: 1.6653\n",
      "Epoch 16/30\n",
      "8/8 [==============================] - 0s 16ms/step - root_mean_squared_error: 0.9856 - loss: 0.9696 - regularization_loss: 0.4975 - total_loss: 1.4671 - val_root_mean_squared_error: 1.0674 - val_loss: 1.1377 - val_regularization_loss: 0.4751 - val_total_loss: 1.6129\n",
      "Epoch 17/30\n",
      "8/8 [==============================] - 0s 15ms/step - root_mean_squared_error: 0.9789 - loss: 0.9565 - regularization_loss: 0.4579 - total_loss: 1.4144 - val_root_mean_squared_error: 1.0629 - val_loss: 1.1281 - val_regularization_loss: 0.4375 - val_total_loss: 1.5656\n",
      "Epoch 18/30\n",
      "8/8 [==============================] - 0s 15ms/step - root_mean_squared_error: 0.9728 - loss: 0.9446 - regularization_loss: 0.4219 - total_loss: 1.3665 - val_root_mean_squared_error: 1.0591 - val_loss: 1.1199 - val_regularization_loss: 0.4032 - val_total_loss: 1.5231\n",
      "Epoch 19/30\n",
      "8/8 [==============================] - 0s 16ms/step - root_mean_squared_error: 0.9674 - loss: 0.9341 - regularization_loss: 0.3891 - total_loss: 1.3232 - val_root_mean_squared_error: 1.0558 - val_loss: 1.1128 - val_regularization_loss: 0.3720 - val_total_loss: 1.4849\n",
      "Epoch 20/30\n",
      "8/8 [==============================] - 0s 15ms/step - root_mean_squared_error: 0.9627 - loss: 0.9252 - regularization_loss: 0.3593 - total_loss: 1.2845 - val_root_mean_squared_error: 1.0530 - val_loss: 1.1068 - val_regularization_loss: 0.3437 - val_total_loss: 1.4504\n",
      "Epoch 21/30\n",
      "8/8 [==============================] - 0s 16ms/step - root_mean_squared_error: 0.9587 - loss: 0.9176 - regularization_loss: 0.3322 - total_loss: 1.2498 - val_root_mean_squared_error: 1.0505 - val_loss: 1.1015 - val_regularization_loss: 0.3179 - val_total_loss: 1.4194\n",
      "Epoch 22/30\n",
      "8/8 [==============================] - 0s 16ms/step - root_mean_squared_error: 0.9553 - loss: 0.9110 - regularization_loss: 0.3075 - total_loss: 1.2185 - val_root_mean_squared_error: 1.0483 - val_loss: 1.0969 - val_regularization_loss: 0.2944 - val_total_loss: 1.3913\n",
      "Epoch 23/30\n",
      "8/8 [==============================] - 0s 17ms/step - root_mean_squared_error: 0.9523 - loss: 0.9052 - regularization_loss: 0.2851 - total_loss: 1.1903 - val_root_mean_squared_error: 1.0464 - val_loss: 1.0929 - val_regularization_loss: 0.2731 - val_total_loss: 1.3660\n",
      "Epoch 24/30\n",
      "8/8 [==============================] - 0s 16ms/step - root_mean_squared_error: 0.9495 - loss: 0.9001 - regularization_loss: 0.2647 - total_loss: 1.1648 - val_root_mean_squared_error: 1.0448 - val_loss: 1.0893 - val_regularization_loss: 0.2538 - val_total_loss: 1.3431\n",
      "Epoch 25/30\n",
      "8/8 [==============================] - 0s 16ms/step - root_mean_squared_error: 0.9471 - loss: 0.8955 - regularization_loss: 0.2462 - total_loss: 1.1417 - val_root_mean_squared_error: 1.0433 - val_loss: 1.0862 - val_regularization_loss: 0.2362 - val_total_loss: 1.3224\n",
      "Epoch 26/30\n",
      "8/8 [==============================] - 0s 15ms/step - root_mean_squared_error: 0.9449 - loss: 0.8914 - regularization_loss: 0.2294 - total_loss: 1.1208 - val_root_mean_squared_error: 1.0420 - val_loss: 1.0834 - val_regularization_loss: 0.2202 - val_total_loss: 1.3036\n",
      "Epoch 27/30\n",
      "8/8 [==============================] - 0s 16ms/step - root_mean_squared_error: 0.9429 - loss: 0.8876 - regularization_loss: 0.2142 - total_loss: 1.1018 - val_root_mean_squared_error: 1.0408 - val_loss: 1.0809 - val_regularization_loss: 0.2057 - val_total_loss: 1.2866\n",
      "Epoch 28/30\n",
      "8/8 [==============================] - 0s 17ms/step - root_mean_squared_error: 0.9411 - loss: 0.8842 - regularization_loss: 0.2003 - total_loss: 1.0845 - val_root_mean_squared_error: 1.0397 - val_loss: 1.0786 - val_regularization_loss: 0.1925 - val_total_loss: 1.2711\n",
      "Epoch 29/30\n",
      "8/8 [==============================] - 0s 16ms/step - root_mean_squared_error: 0.9395 - loss: 0.8812 - regularization_loss: 0.1877 - total_loss: 1.0688 - val_root_mean_squared_error: 1.0388 - val_loss: 1.0766 - val_regularization_loss: 0.1805 - val_total_loss: 1.2571\n",
      "Epoch 30/30\n",
      "8/8 [==============================] - 0s 17ms/step - root_mean_squared_error: 0.9380 - loss: 0.8784 - regularization_loss: 0.1762 - total_loss: 1.0545 - val_root_mean_squared_error: 1.0380 - val_loss: 1.0748 - val_regularization_loss: 0.1696 - val_total_loss: 1.2444\n",
      "Learning rate = 0.15\n",
      "Epoch 1/30\n",
      "8/8 [==============================] - 1s 30ms/step - root_mean_squared_error: 3.4389 - loss: 10.8493 - regularization_loss: 2.0222 - total_loss: 12.8715 - val_root_mean_squared_error: 1.1389 - val_loss: 1.2983 - val_regularization_loss: 1.9445 - val_total_loss: 3.2428\n",
      "Epoch 2/30\n",
      "8/8 [==============================] - 0s 15ms/step - root_mean_squared_error: 1.1299 - loss: 1.2732 - regularization_loss: 1.8204 - total_loss: 3.0937 - val_root_mean_squared_error: 1.1328 - val_loss: 1.2851 - val_regularization_loss: 1.6919 - val_total_loss: 2.9770\n",
      "Epoch 3/30\n",
      "8/8 [==============================] - 0s 15ms/step - root_mean_squared_error: 1.1155 - loss: 1.2419 - regularization_loss: 1.5846 - total_loss: 2.8265 - val_root_mean_squared_error: 1.1322 - val_loss: 1.2840 - val_regularization_loss: 1.4745 - val_total_loss: 2.7585\n",
      "Epoch 4/30\n",
      "8/8 [==============================] - 0s 16ms/step - root_mean_squared_error: 1.1027 - loss: 1.2132 - regularization_loss: 1.3826 - total_loss: 2.5959 - val_root_mean_squared_error: 1.1311 - val_loss: 1.2815 - val_regularization_loss: 1.2885 - val_total_loss: 2.5701\n",
      "Epoch 5/30\n",
      "8/8 [==============================] - 0s 16ms/step - root_mean_squared_error: 1.0859 - loss: 1.1763 - regularization_loss: 1.2103 - total_loss: 2.3866 - val_root_mean_squared_error: 1.1290 - val_loss: 1.2770 - val_regularization_loss: 1.1299 - val_total_loss: 2.4069\n",
      "Epoch 6/30\n",
      "8/8 [==============================] - 0s 16ms/step - root_mean_squared_error: 1.0674 - loss: 1.1367 - regularization_loss: 1.0631 - total_loss: 2.1998 - val_root_mean_squared_error: 1.1254 - val_loss: 1.2689 - val_regularization_loss: 0.9942 - val_total_loss: 2.2631\n",
      "Epoch 7/30\n",
      "8/8 [==============================] - 0s 16ms/step - root_mean_squared_error: 1.0496 - loss: 1.0992 - regularization_loss: 0.9369 - total_loss: 2.0361 - val_root_mean_squared_error: 1.1198 - val_loss: 1.2561 - val_regularization_loss: 0.8775 - val_total_loss: 2.1337\n",
      "Epoch 8/30\n",
      "8/8 [==============================] - 0s 17ms/step - root_mean_squared_error: 1.0327 - loss: 1.0641 - regularization_loss: 0.8283 - total_loss: 1.8924 - val_root_mean_squared_error: 1.1123 - val_loss: 1.2390 - val_regularization_loss: 0.7771 - val_total_loss: 2.0160\n",
      "Epoch 9/30\n",
      "8/8 [==============================] - 0s 15ms/step - root_mean_squared_error: 1.0166 - loss: 1.0312 - regularization_loss: 0.7347 - total_loss: 1.7660 - val_root_mean_squared_error: 1.1036 - val_loss: 1.2190 - val_regularization_loss: 0.6904 - val_total_loss: 1.9094\n",
      "Epoch 10/30\n",
      "8/8 [==============================] - 0s 15ms/step - root_mean_squared_error: 1.0020 - loss: 1.0019 - regularization_loss: 0.6538 - total_loss: 1.6556 - val_root_mean_squared_error: 1.0946 - val_loss: 1.1986 - val_regularization_loss: 0.6151 - val_total_loss: 1.8138\n",
      "Epoch 11/30\n",
      "8/8 [==============================] - 0s 15ms/step - root_mean_squared_error: 0.9895 - loss: 0.9770 - regularization_loss: 0.5834 - total_loss: 1.5604 - val_root_mean_squared_error: 1.0862 - val_loss: 1.1799 - val_regularization_loss: 0.5496 - val_total_loss: 1.7295\n",
      "Epoch 12/30\n",
      "8/8 [==============================] - 0s 16ms/step - root_mean_squared_error: 0.9791 - loss: 0.9568 - regularization_loss: 0.5220 - total_loss: 1.4788 - val_root_mean_squared_error: 1.0791 - val_loss: 1.1639 - val_regularization_loss: 0.4923 - val_total_loss: 1.6562\n",
      "Epoch 13/30\n",
      "8/8 [==============================] - 0s 16ms/step - root_mean_squared_error: 0.9708 - loss: 0.9406 - regularization_loss: 0.4683 - total_loss: 1.4089 - val_root_mean_squared_error: 1.0731 - val_loss: 1.1507 - val_regularization_loss: 0.4421 - val_total_loss: 1.5929\n",
      "Epoch 14/30\n",
      "8/8 [==============================] - 0s 15ms/step - root_mean_squared_error: 0.9640 - loss: 0.9275 - regularization_loss: 0.4212 - total_loss: 1.3488 - val_root_mean_squared_error: 1.0682 - val_loss: 1.1400 - val_regularization_loss: 0.3982 - val_total_loss: 1.5382\n",
      "Epoch 15/30\n",
      "8/8 [==============================] - 0s 16ms/step - root_mean_squared_error: 0.9585 - loss: 0.9169 - regularization_loss: 0.3800 - total_loss: 1.2968 - val_root_mean_squared_error: 1.0642 - val_loss: 1.1313 - val_regularization_loss: 0.3596 - val_total_loss: 1.4909\n",
      "Epoch 16/30\n",
      "8/8 [==============================] - 0s 16ms/step - root_mean_squared_error: 0.9538 - loss: 0.9080 - regularization_loss: 0.3438 - total_loss: 1.2519 - val_root_mean_squared_error: 1.0609 - val_loss: 1.1241 - val_regularization_loss: 0.3259 - val_total_loss: 1.4500\n",
      "Epoch 17/30\n",
      "8/8 [==============================] - 0s 17ms/step - root_mean_squared_error: 0.9499 - loss: 0.9006 - regularization_loss: 0.3121 - total_loss: 1.2127 - val_root_mean_squared_error: 1.0581 - val_loss: 1.1181 - val_regularization_loss: 0.2962 - val_total_loss: 1.4144\n",
      "Epoch 18/30\n",
      "8/8 [==============================] - 0s 16ms/step - root_mean_squared_error: 0.9466 - loss: 0.8943 - regularization_loss: 0.2843 - total_loss: 1.1786 - val_root_mean_squared_error: 1.0558 - val_loss: 1.1131 - val_regularization_loss: 0.2703 - val_total_loss: 1.3834\n",
      "Epoch 19/30\n",
      "8/8 [==============================] - 0s 15ms/step - root_mean_squared_error: 0.9437 - loss: 0.8889 - regularization_loss: 0.2599 - total_loss: 1.1488 - val_root_mean_squared_error: 1.0539 - val_loss: 1.1089 - val_regularization_loss: 0.2475 - val_total_loss: 1.3564\n",
      "Epoch 20/30\n",
      "8/8 [==============================] - 0s 15ms/step - root_mean_squared_error: 0.9412 - loss: 0.8842 - regularization_loss: 0.2385 - total_loss: 1.1227 - val_root_mean_squared_error: 1.0522 - val_loss: 1.1052 - val_regularization_loss: 0.2274 - val_total_loss: 1.3327\n",
      "Epoch 21/30\n",
      "8/8 [==============================] - 0s 16ms/step - root_mean_squared_error: 0.9390 - loss: 0.8801 - regularization_loss: 0.2196 - total_loss: 1.0997 - val_root_mean_squared_error: 1.0507 - val_loss: 1.1021 - val_regularization_loss: 0.2098 - val_total_loss: 1.3119\n",
      "Epoch 22/30\n",
      "8/8 [==============================] - 0s 16ms/step - root_mean_squared_error: 0.9371 - loss: 0.8765 - regularization_loss: 0.2030 - total_loss: 1.0795 - val_root_mean_squared_error: 1.0494 - val_loss: 1.0994 - val_regularization_loss: 0.1942 - val_total_loss: 1.2936\n",
      "Epoch 23/30\n",
      "8/8 [==============================] - 0s 37ms/step - root_mean_squared_error: 0.9354 - loss: 0.8733 - regularization_loss: 0.1884 - total_loss: 1.0616 - val_root_mean_squared_error: 1.0483 - val_loss: 1.0970 - val_regularization_loss: 0.1805 - val_total_loss: 1.2774\n",
      "Epoch 24/30\n",
      "8/8 [==============================] - 0s 18ms/step - root_mean_squared_error: 0.9338 - loss: 0.8704 - regularization_loss: 0.1754 - total_loss: 1.0458 - val_root_mean_squared_error: 1.0473 - val_loss: 1.0949 - val_regularization_loss: 0.1683 - val_total_loss: 1.2632\n",
      "Epoch 25/30\n",
      "8/8 [==============================] - 0s 15ms/step - root_mean_squared_error: 0.9325 - loss: 0.8678 - regularization_loss: 0.1640 - total_loss: 1.0318 - val_root_mean_squared_error: 1.0465 - val_loss: 1.0930 - val_regularization_loss: 0.1575 - val_total_loss: 1.2506\n",
      "Epoch 26/30\n",
      "8/8 [==============================] - 0s 15ms/step - root_mean_squared_error: 0.9312 - loss: 0.8655 - regularization_loss: 0.1538 - total_loss: 1.0193 - val_root_mean_squared_error: 1.0457 - val_loss: 1.0913 - val_regularization_loss: 0.1480 - val_total_loss: 1.2393\n",
      "Epoch 27/30\n",
      "8/8 [==============================] - 0s 16ms/step - root_mean_squared_error: 0.9301 - loss: 0.8635 - regularization_loss: 0.1448 - total_loss: 1.0082 - val_root_mean_squared_error: 1.0450 - val_loss: 1.0898 - val_regularization_loss: 0.1395 - val_total_loss: 1.2293\n",
      "Epoch 28/30\n",
      "8/8 [==============================] - 0s 16ms/step - root_mean_squared_error: 0.9291 - loss: 0.8616 - regularization_loss: 0.1367 - total_loss: 0.9983 - val_root_mean_squared_error: 1.0444 - val_loss: 1.0885 - val_regularization_loss: 0.1319 - val_total_loss: 1.2204\n",
      "Epoch 29/30\n",
      "8/8 [==============================] - 0s 16ms/step - root_mean_squared_error: 0.9281 - loss: 0.8598 - regularization_loss: 0.1295 - total_loss: 0.9894 - val_root_mean_squared_error: 1.0438 - val_loss: 1.0873 - val_regularization_loss: 0.1251 - val_total_loss: 1.2125\n",
      "Epoch 30/30\n",
      "8/8 [==============================] - 0s 15ms/step - root_mean_squared_error: 0.9273 - loss: 0.8582 - regularization_loss: 0.1231 - total_loss: 0.9814 - val_root_mean_squared_error: 1.0433 - val_loss: 1.0862 - val_regularization_loss: 0.1191 - val_total_loss: 1.2053\n"
     ]
    }
   ],
   "source": [
    "# Here we start a new dictionary of training histories, but these could also be appended to the above one\n",
    "histories_tr_li = {}\n",
    "\n",
    "# Learning rate linear grid\n",
    "learning_rates_linear = [0.05, 0.1, 0.15]\n",
    "\n",
    "for val in learning_rates_linear:\n",
    "    print('Learning rate = {}'.format(val))\n",
    "    model_tr = MovielensModelTunedRanking()\n",
    "    model_tr.compile(optimizer=tf.keras.optimizers.Adagrad(learning_rate=val))\n",
    "\n",
    "    lr = str(val)\n",
    "    histories_tr_li[lr] = model_tr.fit(cached_train, epochs=epochs, validation_data=cached_validation)"
   ]
  },
  {
   "cell_type": "code",
   "execution_count": null,
   "metadata": {
    "colab": {
     "base_uri": "https://localhost:8080/"
    },
    "gradient": {
     "editing": false
    },
    "id": "d2ojspFOEpb-",
    "outputId": "89d73d93-96b7-4336-f5f7-ecd8266477e6"
   },
   "outputs": [
    {
     "data": {
      "text/plain": [
       "{'0.05': <tensorflow.python.keras.callbacks.History at 0x7f5afc093828>,\n",
       " '0.1': <tensorflow.python.keras.callbacks.History at 0x7f5a784bf898>,\n",
       " '0.15': <tensorflow.python.keras.callbacks.History at 0x7f5a785fd160>}"
      ]
     },
     "execution_count": 45,
     "metadata": {},
     "output_type": "execute_result"
    }
   ],
   "source": [
    "histories_tr_li"
   ]
  },
  {
   "cell_type": "code",
   "execution_count": null,
   "metadata": {
    "colab": {
     "base_uri": "https://localhost:8080/"
    },
    "gradient": {
     "editing": false
    },
    "id": "ujCXSvC6MLa4",
    "outputId": "f3a5dcd8-0a59-4a46-9498-ea81f6b7413e"
   },
   "outputs": [
    {
     "name": "stdout",
     "output_type": "stream",
     "text": [
      "Root mean squared error in user rating from training   for learning rate 0.05 = 0.9559524655342102\n",
      "Root mean squared error in user rating from validation for learning rate 0.05 = 1.0618358850479126\n",
      "Root mean squared error in user rating from training   for learning rate 0.1 = 0.9380072951316833\n",
      "Root mean squared error in user rating from validation for learning rate 0.1 = 1.0379561185836792\n",
      "Root mean squared error in user rating from training   for learning rate 0.15 = 0.9272826910018921\n",
      "Root mean squared error in user rating from validation for learning rate 0.15 = 1.0433213710784912\n"
     ]
    }
   ],
   "source": [
    "for val in learning_rates_linear:\n",
    "    lr = str(val)\n",
    "\n",
    "    rmse_tr = histories_tr_li[lr].history['root_mean_squared_error'][-1]\n",
    "    print('Root mean squared error in user rating from training   for learning rate {} = {}'.format(lr, rmse_tr))\n",
    "\n",
    "    val_rmse_tr = histories_tr_li[lr].history['val_root_mean_squared_error'][-1]\n",
    "    print('Root mean squared error in user rating from validation for learning rate {} = {}'.format(lr, val_rmse_tr))"
   ]
  },
  {
   "cell_type": "code",
   "execution_count": null,
   "metadata": {
    "gradient": {
     "editing": false
    },
    "id": "SJmfaxQ1MeTl"
   },
   "outputs": [],
   "source": [
    "num_validation_runs = len(histories_tr_li['0.1'].history['root_mean_squared_error'])\n",
    "validation_freq = 1\n",
    "epochs_x = [(x + 1) * validation_freq for x in range(num_validation_runs)]"
   ]
  },
  {
   "cell_type": "code",
   "execution_count": null,
   "metadata": {
    "colab": {
     "base_uri": "https://localhost:8080/",
     "height": 308
    },
    "gradient": {
     "editing": false
    },
    "id": "31udS6_AMniY",
    "outputId": "fdc30bc0-ae31-4d06-cc1b-2ddd83ebf1e9"
   },
   "outputs": [
    {
     "data": {
      "text/plain": [
       "<matplotlib.legend.Legend at 0x7f5a782680f0>"
      ]
     },
     "execution_count": 48,
     "metadata": {},
     "output_type": "execute_result"
    },
    {
     "data": {
      "image/png": "[encoded data removed]",
      "text/plain": [
       "<Figure size 432x288 with 1 Axes>"
      ]
     },
     "metadata": {},
     "output_type": "display_data"
    }
   ],
   "source": [
    "for val in learning_rates_linear:\n",
    "    lr = str(val)\n",
    "    plt.plot(epochs_x, histories_tr_li[lr].history['root_mean_squared_error'], label=lr)\n",
    "    plt.plot(epochs_x, histories_tr_li[lr].history['val_root_mean_squared_error'], label=lr, linestyle='dotted')\n",
    "\n",
    "plt.title('Root mean squared error in user rating vs. training epoch')\n",
    "plt.xlabel('Training epoch')\n",
    "plt.ylabel('Root mean squared error in user rating')\n",
    "plt.yscale('log')\n",
    "plt.legend()"
   ]
  },
  {
   "cell_type": "markdown",
   "metadata": {
    "gradient": {
     "editing": false
    },
    "id": "jB1WWJdbK6AW"
   },
   "source": [
    "The best performances for the linear grid search look quite similar to each other, so let's stick with learning rate 0.1 and train the final model."
   ]
  },
  {
   "cell_type": "code",
   "execution_count": null,
   "metadata": {
    "colab": {
     "base_uri": "https://localhost:8080/"
    },
    "gradient": {
     "editing": false
    },
    "id": "AF5eXjeMGZ2b",
    "outputId": "2e2562d1-fbd2-4d16-81f2-29b8a68dc5fa",
    "scrolled": true
   },
   "outputs": [
    {
     "name": "stdout",
     "output_type": "stream",
     "text": [
      "Epoch 1/50\n",
      "8/8 [==============================] - 1s 30ms/step - root_mean_squared_error: 2.3640 - loss: 5.1172 - regularization_loss: 1.9729 - total_loss: 7.0902 - val_root_mean_squared_error: 1.1673 - val_loss: 1.3654 - val_regularization_loss: 1.8838 - val_total_loss: 3.2491\n",
      "Epoch 2/50\n",
      "8/8 [==============================] - 0s 16ms/step - root_mean_squared_error: 1.1214 - loss: 1.2550 - regularization_loss: 1.7940 - total_loss: 3.0491 - val_root_mean_squared_error: 1.1339 - val_loss: 1.2881 - val_regularization_loss: 1.7036 - val_total_loss: 2.9917\n",
      "Epoch 3/50\n",
      "8/8 [==============================] - 0s 15ms/step - root_mean_squared_error: 1.1120 - loss: 1.2346 - regularization_loss: 1.6250 - total_loss: 2.8596 - val_root_mean_squared_error: 1.1319 - val_loss: 1.2833 - val_regularization_loss: 1.5437 - val_total_loss: 2.8270\n",
      "Epoch 4/50\n",
      "8/8 [==============================] - 0s 15ms/step - root_mean_squared_error: 1.1028 - loss: 1.2141 - regularization_loss: 1.4733 - total_loss: 2.6873 - val_root_mean_squared_error: 1.1299 - val_loss: 1.2788 - val_regularization_loss: 1.4004 - val_total_loss: 2.6792\n",
      "Epoch 5/50\n",
      "8/8 [==============================] - 0s 15ms/step - root_mean_squared_error: 1.0906 - loss: 1.1871 - regularization_loss: 1.3374 - total_loss: 2.5245 - val_root_mean_squared_error: 1.1274 - val_loss: 1.2730 - val_regularization_loss: 1.2721 - val_total_loss: 2.5451\n",
      "Epoch 6/50\n",
      "8/8 [==============================] - 0s 16ms/step - root_mean_squared_error: 1.0758 - loss: 1.1549 - regularization_loss: 1.2159 - total_loss: 2.3708 - val_root_mean_squared_error: 1.1238 - val_loss: 1.2650 - val_regularization_loss: 1.1574 - val_total_loss: 2.4224\n",
      "Epoch 7/50\n",
      "8/8 [==============================] - 0s 15ms/step - root_mean_squared_error: 1.0598 - loss: 1.1209 - regularization_loss: 1.1072 - total_loss: 2.2280 - val_root_mean_squared_error: 1.1191 - val_loss: 1.2541 - val_regularization_loss: 1.0547 - val_total_loss: 2.3088\n",
      "Epoch 8/50\n",
      "8/8 [==============================] - 0s 15ms/step - root_mean_squared_error: 1.0441 - loss: 1.0879 - regularization_loss: 1.0096 - total_loss: 2.0975 - val_root_mean_squared_error: 1.1130 - val_loss: 1.2404 - val_regularization_loss: 0.9623 - val_total_loss: 2.2027\n",
      "Epoch 9/50\n",
      "8/8 [==============================] - 0s 16ms/step - root_mean_squared_error: 1.0292 - loss: 1.0571 - regularization_loss: 0.9218 - total_loss: 1.9790 - val_root_mean_squared_error: 1.1060 - val_loss: 1.2244 - val_regularization_loss: 0.8791 - val_total_loss: 2.1035\n",
      "Epoch 10/50\n",
      "8/8 [==============================] - 0s 17ms/step - root_mean_squared_error: 1.0156 - loss: 1.0295 - regularization_loss: 0.8427 - total_loss: 1.8722 - val_root_mean_squared_error: 1.0984 - val_loss: 1.2074 - val_regularization_loss: 0.8039 - val_total_loss: 2.0114\n",
      "Epoch 11/50\n",
      "8/8 [==============================] - 0s 15ms/step - root_mean_squared_error: 1.0037 - loss: 1.0056 - regularization_loss: 0.7711 - total_loss: 1.7768 - val_root_mean_squared_error: 1.0910 - val_loss: 1.1908 - val_regularization_loss: 0.7358 - val_total_loss: 1.9266\n",
      "Epoch 12/50\n",
      "8/8 [==============================] - 0s 17ms/step - root_mean_squared_error: 0.9937 - loss: 0.9858 - regularization_loss: 0.7062 - total_loss: 1.6921 - val_root_mean_squared_error: 1.0842 - val_loss: 1.1755 - val_regularization_loss: 0.6740 - val_total_loss: 1.8495\n",
      "Epoch 13/50\n",
      "8/8 [==============================] - 0s 16ms/step - root_mean_squared_error: 0.9857 - loss: 0.9699 - regularization_loss: 0.6473 - total_loss: 1.6172 - val_root_mean_squared_error: 1.0782 - val_loss: 1.1623 - val_regularization_loss: 0.6177 - val_total_loss: 1.7799\n",
      "Epoch 14/50\n",
      "8/8 [==============================] - 0s 16ms/step - root_mean_squared_error: 0.9792 - loss: 0.9573 - regularization_loss: 0.5936 - total_loss: 1.5508 - val_root_mean_squared_error: 1.0732 - val_loss: 1.1511 - val_regularization_loss: 0.5664 - val_total_loss: 1.7176\n",
      "Epoch 15/50\n",
      "8/8 [==============================] - 0s 16ms/step - root_mean_squared_error: 0.9738 - loss: 0.9467 - regularization_loss: 0.5447 - total_loss: 1.4913 - val_root_mean_squared_error: 1.0690 - val_loss: 1.1418 - val_regularization_loss: 0.5198 - val_total_loss: 1.6616\n",
      "Epoch 16/50\n",
      "8/8 [==============================] - 0s 15ms/step - root_mean_squared_error: 0.9689 - loss: 0.9371 - regularization_loss: 0.5002 - total_loss: 1.4372 - val_root_mean_squared_error: 1.0654 - val_loss: 1.1339 - val_regularization_loss: 0.4774 - val_total_loss: 1.6112\n",
      "Epoch 17/50\n",
      "8/8 [==============================] - 0s 17ms/step - root_mean_squared_error: 0.9642 - loss: 0.9280 - regularization_loss: 0.4597 - total_loss: 1.3877 - val_root_mean_squared_error: 1.0623 - val_loss: 1.1270 - val_regularization_loss: 0.4389 - val_total_loss: 1.5659\n",
      "Epoch 18/50\n",
      "8/8 [==============================] - 0s 15ms/step - root_mean_squared_error: 0.9599 - loss: 0.9197 - regularization_loss: 0.4230 - total_loss: 1.3426 - val_root_mean_squared_error: 1.0596 - val_loss: 1.1211 - val_regularization_loss: 0.4040 - val_total_loss: 1.5251\n",
      "Epoch 19/50\n",
      "8/8 [==============================] - 0s 15ms/step - root_mean_squared_error: 0.9559 - loss: 0.9122 - regularization_loss: 0.3896 - total_loss: 1.3018 - val_root_mean_squared_error: 1.0573 - val_loss: 1.1160 - val_regularization_loss: 0.3723 - val_total_loss: 1.4883\n",
      "Epoch 20/50\n",
      "8/8 [==============================] - 0s 16ms/step - root_mean_squared_error: 0.9525 - loss: 0.9057 - regularization_loss: 0.3593 - total_loss: 1.2650 - val_root_mean_squared_error: 1.0553 - val_loss: 1.1115 - val_regularization_loss: 0.3435 - val_total_loss: 1.4550\n",
      "Epoch 21/50\n",
      "8/8 [==============================] - 0s 15ms/step - root_mean_squared_error: 0.9495 - loss: 0.8999 - regularization_loss: 0.3318 - total_loss: 1.2317 - val_root_mean_squared_error: 1.0535 - val_loss: 1.1076 - val_regularization_loss: 0.3174 - val_total_loss: 1.4250\n",
      "Epoch 22/50\n",
      "8/8 [==============================] - 0s 15ms/step - root_mean_squared_error: 0.9468 - loss: 0.8949 - regularization_loss: 0.3068 - total_loss: 1.2017 - val_root_mean_squared_error: 1.0519 - val_loss: 1.1042 - val_regularization_loss: 0.2937 - val_total_loss: 1.3979\n",
      "Epoch 23/50\n",
      "8/8 [==============================] - 0s 16ms/step - root_mean_squared_error: 0.9445 - loss: 0.8904 - regularization_loss: 0.2842 - total_loss: 1.1746 - val_root_mean_squared_error: 1.0505 - val_loss: 1.1011 - val_regularization_loss: 0.2721 - val_total_loss: 1.3733\n",
      "Epoch 24/50\n",
      "8/8 [==============================] - 0s 16ms/step - root_mean_squared_error: 0.9423 - loss: 0.8865 - regularization_loss: 0.2636 - total_loss: 1.1501 - val_root_mean_squared_error: 1.0493 - val_loss: 1.0984 - val_regularization_loss: 0.2526 - val_total_loss: 1.3511\n",
      "Epoch 25/50\n",
      "8/8 [==============================] - 0s 16ms/step - root_mean_squared_error: 0.9405 - loss: 0.8829 - regularization_loss: 0.2450 - total_loss: 1.1279 - val_root_mean_squared_error: 1.0482 - val_loss: 1.0960 - val_regularization_loss: 0.2349 - val_total_loss: 1.3309\n",
      "Epoch 26/50\n",
      "8/8 [==============================] - 0s 16ms/step - root_mean_squared_error: 0.9387 - loss: 0.8797 - regularization_loss: 0.2280 - total_loss: 1.1077 - val_root_mean_squared_error: 1.0472 - val_loss: 1.0939 - val_regularization_loss: 0.2188 - val_total_loss: 1.3127\n",
      "Epoch 27/50\n",
      "8/8 [==============================] - 0s 15ms/step - root_mean_squared_error: 0.9372 - loss: 0.8768 - regularization_loss: 0.2126 - total_loss: 1.0894 - val_root_mean_squared_error: 1.0464 - val_loss: 1.0920 - val_regularization_loss: 0.2042 - val_total_loss: 1.2961\n",
      "Epoch 28/50\n",
      "8/8 [==============================] - 0s 16ms/step - root_mean_squared_error: 0.9358 - loss: 0.8741 - regularization_loss: 0.1987 - total_loss: 1.0728 - val_root_mean_squared_error: 1.0456 - val_loss: 1.0902 - val_regularization_loss: 0.1909 - val_total_loss: 1.2811\n",
      "Epoch 29/50\n",
      "8/8 [==============================] - 0s 16ms/step - root_mean_squared_error: 0.9345 - loss: 0.8717 - regularization_loss: 0.1860 - total_loss: 1.0577 - val_root_mean_squared_error: 1.0449 - val_loss: 1.0887 - val_regularization_loss: 0.1788 - val_total_loss: 1.2675\n",
      "Epoch 30/50\n",
      "8/8 [==============================] - 0s 15ms/step - root_mean_squared_error: 0.9333 - loss: 0.8695 - regularization_loss: 0.1744 - total_loss: 1.0439 - val_root_mean_squared_error: 1.0442 - val_loss: 1.0872 - val_regularization_loss: 0.1678 - val_total_loss: 1.2551\n",
      "Epoch 31/50\n",
      "8/8 [==============================] - 0s 16ms/step - root_mean_squared_error: 0.9322 - loss: 0.8675 - regularization_loss: 0.1639 - total_loss: 1.0314 - val_root_mean_squared_error: 1.0437 - val_loss: 1.0860 - val_regularization_loss: 0.1579 - val_total_loss: 1.2438\n",
      "Epoch 32/50\n",
      "8/8 [==============================] - 0s 16ms/step - root_mean_squared_error: 0.9312 - loss: 0.8656 - regularization_loss: 0.1544 - total_loss: 1.0200 - val_root_mean_squared_error: 1.0431 - val_loss: 1.0848 - val_regularization_loss: 0.1488 - val_total_loss: 1.2336\n",
      "Epoch 33/50\n",
      "8/8 [==============================] - 0s 19ms/step - root_mean_squared_error: 0.9303 - loss: 0.8639 - regularization_loss: 0.1457 - total_loss: 1.0096 - val_root_mean_squared_error: 1.0427 - val_loss: 1.0837 - val_regularization_loss: 0.1406 - val_total_loss: 1.2243\n",
      "Epoch 34/50\n",
      "8/8 [==============================] - 0s 18ms/step - root_mean_squared_error: 0.9294 - loss: 0.8623 - regularization_loss: 0.1378 - total_loss: 1.0001 - val_root_mean_squared_error: 1.0422 - val_loss: 1.0828 - val_regularization_loss: 0.1330 - val_total_loss: 1.2158\n",
      "Epoch 35/50\n",
      "8/8 [==============================] - 0s 15ms/step - root_mean_squared_error: 0.9286 - loss: 0.8608 - regularization_loss: 0.1307 - total_loss: 0.9915 - val_root_mean_squared_error: 1.0418 - val_loss: 1.0819 - val_regularization_loss: 0.1262 - val_total_loss: 1.2081\n",
      "Epoch 36/50\n",
      "8/8 [==============================] - 0s 15ms/step - root_mean_squared_error: 0.9279 - loss: 0.8594 - regularization_loss: 0.1241 - total_loss: 0.9836 - val_root_mean_squared_error: 1.0414 - val_loss: 1.0810 - val_regularization_loss: 0.1200 - val_total_loss: 1.2010\n",
      "Epoch 37/50\n",
      "8/8 [==============================] - 0s 15ms/step - root_mean_squared_error: 0.9272 - loss: 0.8582 - regularization_loss: 0.1181 - total_loss: 0.9763 - val_root_mean_squared_error: 1.0411 - val_loss: 1.0803 - val_regularization_loss: 0.1143 - val_total_loss: 1.1946\n",
      "Epoch 38/50\n",
      "8/8 [==============================] - 0s 16ms/step - root_mean_squared_error: 0.9266 - loss: 0.8570 - regularization_loss: 0.1127 - total_loss: 0.9697 - val_root_mean_squared_error: 1.0408 - val_loss: 1.0796 - val_regularization_loss: 0.1091 - val_total_loss: 1.1887\n",
      "Epoch 39/50\n",
      "8/8 [==============================] - 0s 16ms/step - root_mean_squared_error: 0.9260 - loss: 0.8559 - regularization_loss: 0.1078 - total_loss: 0.9636 - val_root_mean_squared_error: 1.0405 - val_loss: 1.0789 - val_regularization_loss: 0.1044 - val_total_loss: 1.1833\n",
      "Epoch 40/50\n",
      "8/8 [==============================] - 0s 15ms/step - root_mean_squared_error: 0.9254 - loss: 0.8549 - regularization_loss: 0.1032 - total_loss: 0.9581 - val_root_mean_squared_error: 1.0402 - val_loss: 1.0783 - val_regularization_loss: 0.1001 - val_total_loss: 1.1784\n",
      "Epoch 41/50\n",
      "8/8 [==============================] - 0s 15ms/step - root_mean_squared_error: 0.9249 - loss: 0.8539 - regularization_loss: 0.0991 - total_loss: 0.9530 - val_root_mean_squared_error: 1.0400 - val_loss: 1.0777 - val_regularization_loss: 0.0962 - val_total_loss: 1.1739\n",
      "Epoch 42/50\n",
      "8/8 [==============================] - 0s 15ms/step - root_mean_squared_error: 0.9244 - loss: 0.8530 - regularization_loss: 0.0953 - total_loss: 0.9483 - val_root_mean_squared_error: 1.0397 - val_loss: 1.0772 - val_regularization_loss: 0.0926 - val_total_loss: 1.1698\n",
      "Epoch 43/50\n",
      "8/8 [==============================] - 0s 40ms/step - root_mean_squared_error: 0.9240 - loss: 0.8521 - regularization_loss: 0.0919 - total_loss: 0.9440 - val_root_mean_squared_error: 1.0395 - val_loss: 1.0767 - val_regularization_loss: 0.0893 - val_total_loss: 1.1660\n",
      "Epoch 44/50\n",
      "8/8 [==============================] - 0s 17ms/step - root_mean_squared_error: 0.9235 - loss: 0.8513 - regularization_loss: 0.0887 - total_loss: 0.9400 - val_root_mean_squared_error: 1.0393 - val_loss: 1.0763 - val_regularization_loss: 0.0863 - val_total_loss: 1.1625\n",
      "Epoch 45/50\n",
      "8/8 [==============================] - 0s 17ms/step - root_mean_squared_error: 0.9231 - loss: 0.8506 - regularization_loss: 0.0858 - total_loss: 0.9364 - val_root_mean_squared_error: 1.0391 - val_loss: 1.0759 - val_regularization_loss: 0.0835 - val_total_loss: 1.1594\n",
      "Epoch 46/50\n",
      "8/8 [==============================] - 0s 15ms/step - root_mean_squared_error: 0.9227 - loss: 0.8499 - regularization_loss: 0.0832 - total_loss: 0.9330 - val_root_mean_squared_error: 1.0390 - val_loss: 1.0755 - val_regularization_loss: 0.0810 - val_total_loss: 1.1564\n",
      "Epoch 47/50\n",
      "8/8 [==============================] - 0s 17ms/step - root_mean_squared_error: 0.9223 - loss: 0.8492 - regularization_loss: 0.0807 - total_loss: 0.9299 - val_root_mean_squared_error: 1.0388 - val_loss: 1.0751 - val_regularization_loss: 0.0786 - val_total_loss: 1.1537\n",
      "Epoch 48/50\n",
      "8/8 [==============================] - 0s 16ms/step - root_mean_squared_error: 0.9220 - loss: 0.8485 - regularization_loss: 0.0785 - total_loss: 0.9270 - val_root_mean_squared_error: 1.0386 - val_loss: 1.0747 - val_regularization_loss: 0.0765 - val_total_loss: 1.1512\n",
      "Epoch 49/50\n",
      "8/8 [==============================] - 0s 16ms/step - root_mean_squared_error: 0.9217 - loss: 0.8479 - regularization_loss: 0.0764 - total_loss: 0.9243 - val_root_mean_squared_error: 1.0385 - val_loss: 1.0744 - val_regularization_loss: 0.0745 - val_total_loss: 1.1489\n",
      "Epoch 50/50\n",
      "8/8 [==============================] - 0s 18ms/step - root_mean_squared_error: 0.9213 - loss: 0.8473 - regularization_loss: 0.0745 - total_loss: 0.9219 - val_root_mean_squared_error: 1.0383 - val_loss: 1.0741 - val_regularization_loss: 0.0727 - val_total_loss: 1.1468\n"
     ]
    }
   ],
   "source": [
    "model_tr = MovielensModelTunedRanking()\n",
    "model_tr.compile(optimizer=tf.keras.optimizers.Adagrad(learning_rate=0.1))\n",
    "history_tr = model_tr.fit(cached_train, epochs=50, validation_data=cached_validation)"
   ]
  },
  {
   "cell_type": "code",
   "execution_count": null,
   "metadata": {
    "colab": {
     "base_uri": "https://localhost:8080/"
    },
    "gradient": {
     "editing": false
    },
    "id": "3GrSMwIYNAl7",
    "outputId": "bdb1cc54-d0ba-4aad-d4f2-4bd8fdb433f8"
   },
   "outputs": [
    {
     "name": "stdout",
     "output_type": "stream",
     "text": [
      "Root mean squared error in user rating from training: 0.92\n",
      "Root mean squared error in user rating from validation: 1.04\n"
     ]
    }
   ],
   "source": [
    "rmse_tr = history_tr.history['root_mean_squared_error'][-1]\n",
    "print(f'Root mean squared error in user rating from training: {rmse_tr:.2f}')\n",
    "\n",
    "val_rmse_tr = history_tr.history['val_root_mean_squared_error'][-1]\n",
    "print(f'Root mean squared error in user rating from validation: {val_rmse_tr:.2f}')"
   ]
  },
  {
   "cell_type": "code",
   "execution_count": null,
   "metadata": {
    "gradient": {
     "editing": false
    },
    "id": "WG0EsFs3NRx1"
   },
   "outputs": [],
   "source": [
    "num_validation_runs = len(history_tr.history['root_mean_squared_error'])\n",
    "validation_freq = 1\n",
    "epochs_x = [(x + 1) * validation_freq for x in range(num_validation_runs)]"
   ]
  },
  {
   "cell_type": "code",
   "execution_count": null,
   "metadata": {
    "colab": {
     "base_uri": "https://localhost:8080/",
     "height": 308
    },
    "gradient": {
     "editing": false
    },
    "id": "Wmi3EAi3NYrM",
    "outputId": "0825f5e6-f49a-4513-abad-b493e5da70d5"
   },
   "outputs": [
    {
     "data": {
      "text/plain": [
       "<matplotlib.legend.Legend at 0x7f5a48714c50>"
      ]
     },
     "execution_count": 52,
     "metadata": {},
     "output_type": "execute_result"
    },
    {
     "data": {
      "image/png": "[encoded data removed]",
      "text/plain": [
       "<Figure size 432x288 with 1 Axes>"
      ]
     },
     "metadata": {},
     "output_type": "display_data"
    }
   ],
   "source": [
    "plt.plot(epochs_x, history_tr.history['root_mean_squared_error'], label='Training')\n",
    "plt.plot(epochs_x, history_tr.history['val_root_mean_squared_error'], label='Validation')\n",
    "plt.title('Root mean squared error in user rating vs. training epoch')\n",
    "plt.xlabel('Training epoch')\n",
    "plt.ylabel('Root mean squared error in user rating')\n",
    "plt.legend()"
   ]
  },
  {
   "cell_type": "markdown",
   "metadata": {
    "gradient": {
     "editing": false
    },
    "id": "QdiaiJ38IdwD"
   },
   "source": [
    "As mentioned, this is a very basic hyperparameter tuning. Some obvious improvements to this use of a grid for tuning include:\n",
    "\n",
    "- Use a larger grid of learning rates (log + linear fine-tuning)\n",
    "- More epochs in model.fit(): 100s, not 30 or 50\n",
    "- Use `keras.tuner` and/or TensorFlow callbacks to retain the best model, and retrain it with both the training and validation data once found\n",
    "- Use callbacks to stop training when the improvement rate drops below a threshold (early stopping), instead of training for a fixed number of epochs\n",
    "- Tune layer size or number of layers, as in [the TFRS multitask tutorial](https://www.tensorflow.org/recommenders/examples/multitask)\n",
    "- Tune the L2 regularization factor, currently set to the default 0.01\n",
    "- The [regularizer](https://www.tensorflow.org/tutorials/keras/overfit_and_underfit#strategies_to_prevent_overfitting) can be dropout as well as L2 (aka. weight decay), or it can be both\n",
    "- Tune embedding size (vary the number of dimensions from 32 and the number of  categories that can be fit: more is better unless it causes overfitting or too-slow training)\n",
    "- Optimizers other than Adagrad, e.g., SGD, RMSprop, Adam, Nadam\n",
    "- Activation functions other than ReLU, e.g., SELU with LecunNormal weight initialization\n",
    "- Keras tuner or [TensorBoard HParams](https://www.tensorflow.org/tensorboard/hyperparameter_tuning_with_hparams) for multi-parameter search, or smart search. The I/O would need to match the recommender model, but often smart search will find better hyperparameter sets then manual tuning, even by experts\n",
    "- Add [other metrics](https://www.tensorflow.org/guide/effective_tf2#tfmetrics_aggregates_data_and_tfsummary_logs_them) besides RMSE to the plotted tuning history\n",
    "\n",
    "One thing that is clear from the above code, however, is that managing and plotting much more extensive tuning from a single notebook can quickly become unwieldy, error-prone, and hard to reproduce due to the combinatorial explosion of parameters and their differing types and amounts. So the desirability of eking out further model performance needs to be balanced against this.\n",
    "\n",
    "There are various further improvements beyond tuning that should therefore also be considered - see the appendix."
   ]
  },
  {
   "cell_type": "markdown",
   "metadata": {
    "gradient": {
     "editing": false
    },
    "id": "Q6X66dBfK-5o"
   },
   "source": [
    "As in previous sections, we can see a summary of the final model architecture."
   ]
  },
  {
   "cell_type": "code",
   "execution_count": null,
   "metadata": {
    "colab": {
     "base_uri": "https://localhost:8080/"
    },
    "gradient": {
     "editing": false
    },
    "id": "mfS8RD5aQK8M",
    "outputId": "756dc9ae-d628-445b-b222-57f7e96da255"
   },
   "outputs": [
    {
     "name": "stdout",
     "output_type": "stream",
     "text": [
      "Model: \"movielens_model_tuned_ranking_7\"\n",
      "_________________________________________________________________\n",
      "Layer (type)                 Output Shape              Param #   \n",
      "=================================================================\n",
      "sequential_24 (Sequential)   (None, 32)                53280     \n",
      "_________________________________________________________________\n",
      "sequential_25 (Sequential)   (None, 32)                30208     \n",
      "_________________________________________________________________\n",
      "sequential_26 (Sequential)   (None, 1)                 33153     \n",
      "_________________________________________________________________\n",
      "ranking_8 (Ranking)          multiple                  2         \n",
      "=================================================================\n",
      "Total params: 116,643\n",
      "Trainable params: 116,641\n",
      "Non-trainable params: 2\n",
      "_________________________________________________________________\n"
     ]
    }
   ],
   "source": [
    "model_tr.summary()"
   ]
  },
  {
   "cell_type": "markdown",
   "metadata": {
    "gradient": {
     "editing": false
    },
    "id": "0YzUHtmUWcKB"
   },
   "source": [
    "As with the basic model, the performance of the model on the unseen testing data is similar to the validation performance, at about RMSE ~ 1."
   ]
  },
  {
   "cell_type": "code",
   "execution_count": null,
   "metadata": {
    "colab": {
     "base_uri": "https://localhost:8080/"
    },
    "gradient": {
     "editing": false
    },
    "id": "9hw7_atTIUul",
    "outputId": "f992c83a-ef5d-4215-a5dc-58210995158c"
   },
   "outputs": [
    {
     "name": "stdout",
     "output_type": "stream",
     "text": [
      "5/5 [==============================] - 0s 4ms/step - root_mean_squared_error: 1.0260 - loss: 1.0544 - regularization_loss: 0.0727 - total_loss: 1.1271\n"
     ]
    }
   ],
   "source": [
    "eval_tr = model_tr.evaluate(cached_test, return_dict=True)"
   ]
  },
  {
   "cell_type": "code",
   "execution_count": null,
   "metadata": {
    "colab": {
     "base_uri": "https://localhost:8080/"
    },
    "gradient": {
     "editing": false
    },
    "id": "8M151XaeN3PU",
    "outputId": "71b14698-3b31-4c8a-9778-0ec80dbed269"
   },
   "outputs": [
    {
     "name": "stdout",
     "output_type": "stream",
     "text": [
      "Root mean squared error in user rating from evaluation: 1.03\n"
     ]
    }
   ],
   "source": [
    "rmse_eval_tr = eval_tr['root_mean_squared_error']\n",
    "print(f'Root mean squared error in user rating from evaluation: {rmse_eval_tr:.2f}')"
   ]
  },
  {
   "cell_type": "markdown",
   "metadata": {
    "gradient": {
     "editing": false
    },
    "id": "5m5kalp0IdiT"
   },
   "source": [
    "And as above, new data can now be sent to the model."
   ]
  },
  {
   "cell_type": "code",
   "execution_count": null,
   "metadata": {
    "colab": {
     "base_uri": "https://localhost:8080/"
    },
    "gradient": {
     "editing": false
    },
    "id": "NFlR-80oPCwE",
    "outputId": "06095776-9182-40dc-f069-a45140fc8f1b"
   },
   "outputs": [
    {
     "data": {
      "text/plain": [
       "(array([[ 0.02849846,  0.0176121 , -0.00894195, ..., -0.04526925,\n",
       "         -0.01119535,  0.00639677],\n",
       "        [-0.04739385,  0.03865167,  0.02980467, ...,  0.0179348 ,\n",
       "          0.03060083, -0.02724645],\n",
       "        [ 0.01094703, -0.01979085, -0.01319928, ..., -0.00660934,\n",
       "         -0.00511613,  0.00533506],\n",
       "        ...,\n",
       "        [-0.0411031 ,  0.00898093, -0.04372801, ..., -0.03874222,\n",
       "         -0.02124953, -0.02406938],\n",
       "        [-0.00822344, -0.02573305,  0.04053061, ...,  0.01533296,\n",
       "          0.04250797, -0.0078328 ],\n",
       "        [-0.0378443 ,  0.022497  ,  0.00351272, ..., -0.01329498,\n",
       "         -0.02220261, -0.01760115]], dtype=float32),\n",
       " array([[ 0.02721014,  0.02484442,  0.0145153 , ..., -0.04539186,\n",
       "          0.07511394,  0.06882158],\n",
       "        [ 0.06826174,  0.00559263, -0.01384696, ..., -0.04238057,\n",
       "         -0.00072053,  0.0022185 ],\n",
       "        [ 0.05204289,  0.04300666,  0.01135077, ..., -0.01102841,\n",
       "          0.04134514,  0.03032939],\n",
       "        ...,\n",
       "        [ 0.03491384,  0.00594732,  0.00053158, ..., -0.03236166,\n",
       "          0.0206691 , -0.01033043],\n",
       "        [ 0.0011001 ,  0.00900595, -0.03581786, ...,  0.01399285,\n",
       "         -0.02616364, -0.03695054],\n",
       "        [ 0.06225461, -0.01253602,  0.01089026, ...,  0.02603948,\n",
       "         -0.00786771,  0.07225379]], dtype=float32),\n",
       " array([[3.9811127],\n",
       "        [3.874377 ],\n",
       "        [3.8659406],\n",
       "        ...,\n",
       "        [3.5851712],\n",
       "        [2.9206936],\n",
       "        [3.7663796]], dtype=float32))"
      ]
     },
     "execution_count": 56,
     "metadata": {},
     "output_type": "execute_result"
    }
   ],
   "source": [
    "# Again returns the embeddings and predicted ratings\n",
    "model_tr.predict(cached_test)"
   ]
  },
  {
   "cell_type": "markdown",
   "metadata": {
    "gradient": {
     "editing": false
    }
   },
   "source": [
    "### 4.3: Model as Gradient Workflow\n",
    "\n",
    "**This section requires the user to input their settings - see below.**  \n",
    "**Gradient Workflows is still a maturing product and it is expected that all of the setup steps currently given here will disappear in time.**\n",
    "\n",
    "Having completed creating and training the models in our notebook here, in principle we have a model that can be deployed into production.\n",
    "\n",
    "What can be seen from the above, however, is that even though we only trained 3 models - the wide grid, narrow grid, and final, already the notebook is quite long, and there are quite a few loops and things to keep track of. Adding further models, data preparation, feature engineering, etc., will quickly result in this getting out of hand, with too many things to keep track of. Considering that a typical real project might have 100s of models, when we get to that scale, a more rigorous way of working is indicated.\n",
    "\n",
    "There are good reasons to start with a notebook, which is why we have done so here, but when a project gets large, we can switch from Gradient's Notebook way of working to its Workflows. This does, however, require more setup and structure than a notebook.\n",
    "\n",
    "This section shows an example of a Workflow, where we put the code we need into a script, and instead of training the model from the notebook, we run that. Our script is `workflow_train_model.py`, and we show training the final model from section 4.2 above. The code is a subset of the notebook, with a few minor changes for lines that work in cells but not a .py (or vice versa), for example, `!pip install -q tensorflow-recommenders==0.4.0` becomes `subprocess.run('pip install -q tensorflow-recommenders==0.4.0', shell=True, check=True, stdout=subprocess.PIPE, universal_newlines=True)`. Another example would be `%` or `%%` line and cell magics.\n",
    "\n",
    "Since they run via script and parameter files (YAML), Workflows can be used without requiring a notebook at all. Here, to preserve continuity and keep the project within one end-to-end setting, we call the Workflow from the notebook. This involves setting up access to it and calling the YAML file with the settings, which in turn calls `workflow_train_model.py`.\n",
    "\n",
    "Aside from the advantages or organization, reproducibility, etc., Gradient also allows the setup to be straightforwardly extended to using GPU instead of CPU, by choosing a GPU instance, and using multiple machines instead of a single machine, by using multinode instead of single node. Since Gradient can use the Paperspace infrastructure, the user does not need to set up their own GPUs or be an expert in distributed computing to access this power."
   ]
  },
  {
   "cell_type": "markdown",
   "metadata": {
    "gradient": {
     "editing": false
    }
   },
   "source": [
    "#### Workflow setup\n",
    "\n",
    "To run the Workflow requires the user to supply the following settings:\n",
    "\n",
    " - `api_key` = API key to access Gradient. This is part of setting up one's user account\n",
    " - `workflow_train_id` = Currently Workflows need to be created in the GUI or CLI\n",
    " - `workflow_deploy_id` = Similarly for deployment Workflow in section 5\n",
    " \n",
    "To obtain these, follow the steps under *Additional requirements to run Gradient Workflows and model deployment (sections 4.3+)* near the start of the notebook.\n",
    "\n",
    "If you are using a Gradient private cluster, you should also specify `cluster_id`. If cluster ID is not specified, the Gradient public cluster will be used.\n",
    "\n",
    "When all is set up, add your settings to the next cell, then run it.\n",
    "\n",
    "They will look similar to this:\n",
    "\n",
    "`cluster_id = 'cdefghijk'` (optional)  \n",
    "`workflow_id_train = '6789abcd-01ef-23gh-45ij-678901klmnop'`  \n",
    "`workflow_id_deploy = '6789abcd-01ef-23gh-45ij-678901klmnoq'`"
   ]
  },
  {
   "cell_type": "code",
   "execution_count": null,
   "metadata": {
    "gradient": {
     "editing": false
    }
   },
   "outputs": [],
   "source": [
    "workflow_id_train = '6c325f57-9979-402e-8560-fe09951990cc' # Created workflows in GUI/CLI\n",
    "workflow_id_deploy = '1f116f34-388e-4e47-8f47-570cd2218795'"
   ]
  },
  {
   "cell_type": "markdown",
   "metadata": {
    "gradient": {
     "editing": false
    }
   },
   "source": [
    "The API key could also be given here as a string, but since it is a credential that allows access to the system for you as a user, it is better to not do so. Gradient will in future support accessing its Secrets from the Notebook via the SDK. For now, we can read the key, supplied by the user, from a file. Best is to create key.txt with the key in it, upload it here, then delete when done. The API key looks like `0123456789abcdef0123456789abcd`."
   ]
  },
  {
   "cell_type": "code",
   "execution_count": null,
   "metadata": {
    "gradient": {
     "editing": false
    }
   },
   "outputs": [],
   "source": [
    "file = './key.txt'\n",
    "\n",
    "with open(file) as f:\n",
    "    out = f.readlines()\n",
    "\n",
    "api_key = ''.join(out).strip('\\n')"
   ]
  },
  {
   "cell_type": "markdown",
   "metadata": {
    "gradient": {
     "editing": false
    }
   },
   "source": [
    "#### Access Gradient\n",
    "Aside from its graphical interface (GUI), Gradient has command line and SDK interfaces that allow interaction to achieve most of the same things that can be done with the GUI. The lines here set up access to the SDK.\n",
    "\n",
    "Here, we install the Gradient SDK using pip. If you are running the notebook on your own machine rather than the Gradient Notebook, then this will also work."
   ]
  },
  {
   "cell_type": "code",
   "execution_count": null,
   "metadata": {
    "gradient": {
     "editing": false
    },
    "scrolled": true
   },
   "outputs": [
    {
     "name": "stdout",
     "output_type": "stream",
     "text": [
      "/usr/lib/python3/dist-packages/secretstorage/dhcrypto.py:15: CryptographyDeprecationWarning: int_from_bytes is deprecated, use int.from_bytes instead\n",
      "  from cryptography.utils import int_from_bytes\n",
      "/usr/lib/python3/dist-packages/secretstorage/util.py:19: CryptographyDeprecationWarning: int_from_bytes is deprecated, use int.from_bytes instead\n",
      "  from cryptography.utils import int_from_bytes\n",
      "Requirement already satisfied: gradient in /usr/local/lib/python3.6/dist-packages (1.7.1)\n",
      "Requirement already satisfied: requests[security] in /usr/local/lib/python3.6/dist-packages (from gradient) (2.25.1)\n",
      "Requirement already satisfied: halo in /usr/local/lib/python3.6/dist-packages (from gradient) (0.0.31)\n",
      "Requirement already satisfied: progressbar2 in /usr/local/lib/python3.6/dist-packages (from gradient) (3.53.1)\n",
      "Requirement already satisfied: marshmallow<3.0 in /usr/local/lib/python3.6/dist-packages (from gradient) (2.21.0)\n",
      "Requirement already satisfied: click-help-colors in /usr/local/lib/python3.6/dist-packages (from gradient) (0.9.1)\n",
      "Requirement already satisfied: attrs<=19 in /usr/local/lib/python3.6/dist-packages (from gradient) (18.2.0)\n",
      "Requirement already satisfied: gradient-utils>=0.1.2 in /usr/local/lib/python3.6/dist-packages (from gradient) (0.3.2)\n",
      "Requirement already satisfied: click-completion in /usr/local/lib/python3.6/dist-packages (from gradient) (0.5.2)\n",
      "Requirement already satisfied: click==7.1.2 in /usr/local/lib/python3.6/dist-packages (from gradient) (7.1.2)\n",
      "Requirement already satisfied: python-dateutil==2.* in /usr/local/lib/python3.6/dist-packages (from gradient) (2.8.1)\n",
      "Requirement already satisfied: terminaltables in /usr/local/lib/python3.6/dist-packages (from gradient) (3.1.0)\n",
      "Requirement already satisfied: websocket-client==0.57.* in /usr/local/lib/python3.6/dist-packages (from gradient) (0.57.0)\n",
      "Requirement already satisfied: click-didyoumean in /usr/local/lib/python3.6/dist-packages (from gradient) (0.0.3)\n",
      "Requirement already satisfied: six in /usr/local/lib/python3.6/dist-packages (from gradient) (1.15.0)\n",
      "Requirement already satisfied: colorama==0.4.3 in /usr/local/lib/python3.6/dist-packages (from gradient) (0.4.3)\n",
      "Requirement already satisfied: PyYAML==5.* in /usr/local/lib/python3.6/dist-packages (from gradient) (5.4.1)\n",
      "Requirement already satisfied: requests-toolbelt in /usr/local/lib/python3.6/dist-packages (from gradient) (0.9.1)\n",
      "Requirement already satisfied: hyperopt==0.1.2 in /usr/local/lib/python3.6/dist-packages (from gradient-utils>=0.1.2->gradient) (0.1.2)\n",
      "Collecting numpy==1.18.5\n",
      "  Using cached numpy-1.18.5-cp36-cp36m-manylinux1_x86_64.whl (20.1 MB)\n",
      "Requirement already satisfied: pymongo<4.0.0,>=3.11.0 in /usr/local/lib/python3.6/dist-packages (from gradient-utils>=0.1.2->gradient) (3.12.0)\n",
      "Requirement already satisfied: wheel<0.36.0,>=0.35.1 in /usr/local/lib/python3.6/dist-packages (from gradient-utils>=0.1.2->gradient) (0.35.1)\n",
      "Requirement already satisfied: prometheus-client<0.10,>=0.8 in /usr/local/lib/python3.6/dist-packages (from gradient-utils>=0.1.2->gradient) (0.9.0)\n",
      "Requirement already satisfied: networkx in /usr/local/lib/python3.6/dist-packages (from hyperopt==0.1.2->gradient-utils>=0.1.2->gradient) (2.5.1)\n",
      "Requirement already satisfied: scipy in /usr/local/lib/python3.6/dist-packages (from hyperopt==0.1.2->gradient-utils>=0.1.2->gradient) (1.5.4)\n",
      "Requirement already satisfied: tqdm in /usr/local/lib/python3.6/dist-packages (from hyperopt==0.1.2->gradient-utils>=0.1.2->gradient) (4.62.0)\n",
      "Requirement already satisfied: future in /usr/local/lib/python3.6/dist-packages (from hyperopt==0.1.2->gradient-utils>=0.1.2->gradient) (0.18.2)\n",
      "Requirement already satisfied: shellingham in /usr/local/lib/python3.6/dist-packages (from click-completion->gradient) (1.4.0)\n",
      "Requirement already satisfied: jinja2 in /usr/local/lib/python3.6/dist-packages (from click-completion->gradient) (2.11.2)\n",
      "Requirement already satisfied: log-symbols>=0.0.14 in /usr/local/lib/python3.6/dist-packages (from halo->gradient) (0.0.14)\n",
      "Requirement already satisfied: termcolor>=1.1.0 in /usr/local/lib/python3.6/dist-packages (from halo->gradient) (1.1.0)\n",
      "Requirement already satisfied: spinners>=0.0.24 in /usr/local/lib/python3.6/dist-packages (from halo->gradient) (0.0.24)\n",
      "Requirement already satisfied: MarkupSafe>=0.23 in /usr/local/lib/python3.6/dist-packages (from jinja2->click-completion->gradient) (1.1.1)\n",
      "Requirement already satisfied: decorator<5,>=4.3 in /usr/local/lib/python3.6/dist-packages (from networkx->hyperopt==0.1.2->gradient-utils>=0.1.2->gradient) (4.4.2)\n",
      "Requirement already satisfied: python-utils>=2.3.0 in /usr/local/lib/python3.6/dist-packages (from progressbar2->gradient) (2.5.6)\n",
      "Requirement already satisfied: chardet<5,>=3.0.2 in /usr/local/lib/python3.6/dist-packages (from requests[security]->gradient) (4.0.0)\n",
      "Requirement already satisfied: certifi>=2017.4.17 in /usr/local/lib/python3.6/dist-packages (from requests[security]->gradient) (2020.12.5)\n",
      "Requirement already satisfied: idna<3,>=2.5 in /usr/lib/python3/dist-packages (from requests[security]->gradient) (2.6)\n",
      "Requirement already satisfied: urllib3<1.27,>=1.21.1 in /usr/local/lib/python3.6/dist-packages (from requests[security]->gradient) (1.26.2)\n",
      "Requirement already satisfied: cryptography>=1.3.4 in /usr/local/lib/python3.6/dist-packages (from requests[security]->gradient) (3.4.7)\n",
      "Requirement already satisfied: pyOpenSSL>=0.14 in /usr/local/lib/python3.6/dist-packages (from requests[security]->gradient) (20.0.1)\n",
      "Requirement already satisfied: cffi>=1.12 in /usr/local/lib/python3.6/dist-packages (from cryptography>=1.3.4->requests[security]->gradient) (1.14.4)\n",
      "Requirement already satisfied: pycparser in /usr/local/lib/python3.6/dist-packages (from cffi>=1.12->cryptography>=1.3.4->requests[security]->gradient) (2.20)\n",
      "Installing collected packages: numpy\n",
      "  Attempting uninstall: numpy\n",
      "    Found existing installation: numpy 1.19.5\n",
      "    Uninstalling numpy-1.19.5:\n",
      "      Successfully uninstalled numpy-1.19.5\n",
      "\u001b[31mERROR: pip's dependency resolver does not currently take into account all the packages that are installed. This behaviour is the source of the following dependency conflicts.\n",
      "tensorflow 2.4.0 requires numpy~=1.19.2, but you have numpy 1.18.5 which is incompatible.\n",
      "tensorflow-gpu 2.4.1 requires numpy~=1.19.2, but you have numpy 1.18.5 which is incompatible.\u001b[0m\n",
      "Successfully installed numpy-1.18.5\n",
      "\u001b[33mWARNING: Running pip as the 'root' user can result in broken permissions and conflicting behaviour with the system package manager. It is recommended to use a virtual environment instead: https://pip.pypa.io/warnings/venv\u001b[0m\n"
     ]
    }
   ],
   "source": [
    "!pip install -U gradient # -U means upgrade any existing installed packages that this would have installed"
   ]
  },
  {
   "cell_type": "markdown",
   "metadata": {
    "gradient": {
     "editing": false
    }
   },
   "source": [
    "Functionality such as Workflows and deployments are under `SdkClient`. Aside from the ones shown, there are about [20 more](https://paperspace.github.io/gradient-cli/gradient.api_sdk.clients.html)."
   ]
  },
  {
   "cell_type": "code",
   "execution_count": null,
   "metadata": {
    "gradient": {
     "editing": false
    }
   },
   "outputs": [],
   "source": [
    "# Access Gradient from the SDK, i.e., this notebook\n",
    "from gradient import sdk_client\n",
    "\n",
    "# Enable SDK to access YAML file\n",
    "import yaml\n",
    "\n",
    "# SDK clients\n",
    "# All can be accessed from client, or shorthanded for convenience as here\n",
    "client = sdk_client.SdkClient(api_key)\n",
    "deployments_client = sdk_client.DeploymentsClient(api_key)\n",
    "workflows_client  = sdk_client.WorkflowsClient(api_key)"
   ]
  },
  {
   "cell_type": "markdown",
   "metadata": {
    "gradient": {
     "editing": false
    }
   },
   "source": [
    "When running workflows in Gradient, they can be associated with a user's project, which here we created above as part of the currently required manual setup steps.\n",
    "\n",
    "In other notebooks, you may want to create a project from the notebook, which can be done with\n",
    "\n",
    "`project_id = client.projects.create('My project')`\n",
    "\n",
    "With a project ID, you can also see information about project contents, such as the workflows\n",
    "\n",
    "`workflows = workflows_client.list(project_id=project_id)\n",
    "print(workflows)`\n",
    "\n",
    "After a project is created, it will also be visible under the Projects tab in the GUI, and to the command line."
   ]
  },
  {
   "cell_type": "markdown",
   "metadata": {
    "gradient": {
     "editing": false
    }
   },
   "source": [
    "#### Run the Workflow\n",
    "\n",
    "Now we are setup, we can run the Workflow by referring to its YAML file, `workflow-train-model.yaml`. Use of YAML is part of what makes this production-grade, as opposed to just for experimenting.\n",
    "\n",
    "The YAML file contains two jobs: `CloneRepo` and `RecommenderTrain`. The first one accesses the GitHub repository to obtain the training script, and the second runs the model training. For more details about YAML, see part 4 of the blog series, and the [Workflows documentation](https://docs.paperspace.com/gradient/explore-train-deploy/workflows)."
   ]
  },
  {
   "cell_type": "code",
   "execution_count": null,
   "metadata": {
    "gradient": {
     "editing": false
    }
   },
   "outputs": [],
   "source": [
    "# Train model\n",
    "spec_path = './workflow-train-model.yaml'\n",
    "\n",
    "yaml_spec = open(spec_path, 'r')\n",
    "train_spec = yaml.safe_load(yaml_spec)\n",
    "\n",
    "# If you are using a Gradient private cluster, add the cluster_id here as another argument\n",
    "workflow_param_train = {\n",
    "    'workflow_id' : workflow_id_train,\n",
    "    'spec': train_spec,\n",
    "    'inputs': None\n",
    "}\n",
    "\n",
    "workflow_run_train = workflows_client.run_workflow(**workflow_param_train) # \"**\" is used because parameters is a dictionary"
   ]
  },
  {
   "cell_type": "markdown",
   "metadata": {
    "gradient": {
     "editing": false
    }
   },
   "source": [
    "If you have your team name, project ID, and Workflow ID, you can access the Workflow directly at its URL in the GUI:\n",
    "\n",
    "`https://console.paperspace.com/<team name>/projects/<project_id>/workflows/<workflow ID>`\n",
    "\n",
    "e.g., like\n",
    "\n",
    "`https://console.paperspace.com/my_team/projects/pqrstuvwx/workflows/6789abcd-01ef-23gh-45ij-678901klmnop`\n",
    "\n",
    "Or navigate there via the Workflows tab.\n",
    "\n",
    "Information about the Workflow can also be retrieved from the output of its invocation above (`workflow_run_train`)."
   ]
  },
  {
   "cell_type": "code",
   "execution_count": null,
   "metadata": {
    "gradient": {
     "editing": false
    }
   },
   "outputs": [
    {
     "data": {
      "text/plain": [
       "{'id': 10,\n",
       " 'cluster': {'id': 'clg07azjl'},\n",
       " 'spec': {'jobs': {'CloneRecRepo': {'uses': 'git-checkout@v1',\n",
       "    'with': {'url': 'https://github.com/gradient-ai/Deep-Learning-Recommender-TF'},\n",
       "    'outputs': {'repoRec': {'type': 'volume'}}},\n",
       "   'RecommenderTrain': {'env': {'HP_FINAL_LR': '0.1', 'HP_FINAL_EPOCHS': '50'},\n",
       "    'uses': 'script@v1',\n",
       "    'with': {'image': 'tensorflow/tensorflow:2.4.1-jupyter',\n",
       "     'script': 'cp -R /inputs/repoRec /Deep-Learning-Recommender-TF\\ncd /Deep-Learning-Recommender-TF\\npython workflow_train_model.py'},\n",
       "    'needs': ['CloneRecRepo'],\n",
       "    'inputs': {'repoRec': 'CloneRecRepo.outputs.repoRec'},\n",
       "    'outputs': {'trainedRecommender': {'type': 'dataset',\n",
       "      'with': {'ref': 'recommender'}}}}},\n",
       "  'defaults': {'env': {'PAPERSPACE_API_KEY': 'secret:api_key_recommender'},\n",
       "   'resources': {'instance-type': 'P4000'}}},\n",
       " 'status': {'phase': 'SUBMITTING',\n",
       "  'logId': 'wfr5574a82d07a24e11ac423cdfbefdd042',\n",
       "  'jobs': {'RecommenderTrain': {'phase': 'SUBMITTING',\n",
       "    'logId': 'wfrjaa920d9c0be743f592b8b11f91083c30',\n",
       "    'outputs': {'trainedRecommender': {'dataset': {'id': 'recommender:5vvsad5',\n",
       "       'isCommitted': False}}}},\n",
       "   'CloneRecRepo': {'phase': 'SUBMITTING',\n",
       "    'logId': 'wfrjd8d8078fe7af47529d389ac51296e43f'}}}}"
      ]
     },
     "execution_count": 64,
     "metadata": {},
     "output_type": "execute_result"
    }
   ],
   "source": [
    "workflow_run_train"
   ]
  },
  {
   "cell_type": "markdown",
   "metadata": {
    "gradient": {
     "editing": false
    }
   },
   "source": [
    "Like most Gradient functionality, invoking the Workflow from the GUI or SDK has an equivalent in the command line. Here we don't run it, since it would just rerun the same computation, but for reference, it is:\n",
    "\n",
    "`gradient workflows run \\`  \n",
    "`  --id <workflow_id_train> \\`  \n",
    "`  --clusterId <cluster_id> \\`  \n",
    "`  --path <path_to_yaml_file>`\n",
    "\n",
    "i.e., like\n",
    "\n",
    "`gradient workflows run \\`  \n",
    "` --id 6789abcd-01ef-23gh-45ij-678901klmnop \\`  \n",
    "` --clusterId cdefghijk \\`  \n",
    "` --path ./workflow-train-model.yaml`\n",
    "  \n",
    "There are other parameters available which we did not use here. See the [API documentation on Workflows](https://paperspace.github.io/gradient-cli/gradient.api_sdk.clients.html#module-gradient.api_sdk.clients.workflow_client) for information on those, and the [command line](https://paperspace.github.io/gradient-cli/gradient.cli.html) section under Workflows for more on CLI equivalents."
   ]
  },
  {
   "cell_type": "markdown",
   "metadata": {
    "gradient": {
     "editing": false
    }
   },
   "source": [
    "# NOT YET SUPPORTED HERE TO END\n",
    "\n",
    "Section 5 is pending support of model deployment from Workflows, and availability of deployments on public clusters. These will both be available circa Q4 2021, so we show the rest of the Notebook for completeness, but it will not yet run correctly."
   ]
  },
  {
   "cell_type": "markdown",
   "metadata": {
    "gradient": {
     "editing": false
    },
    "id": "Wf7US2o2LYDL"
   },
   "source": [
    "## 5: Deploy the final model\n",
    "\n",
    "A major part of any production data science end-to-end dataflow is that the trained model must be deployed so that it can generate output on new data being fed to it (inference). Many enterprise projects fail at the production stage, even if a model was successfully trained and showed good performance.\n",
    "\n",
    "In this project, the necessity of using a lower level model representation, i.e., the subclassing API, for recommender systems also adds to the potential complexity of deployment. Solving many real business problems will also require the subclassing API because of some custom requirement or business logic, and face similar issues.\n",
    "\n",
    "While it is possible to take one or more of the models generated from the notebook in sections 4.1 and 4.2 above, and then setup TensorFlow Serving to deploy, the process is so much easier on Gradient that we do not attempt this, and instead go directly to deploying the final model from section 4.3.\n",
    "\n",
    "In an enterprise production system, after model deployment comes dealing with model output to make it actionable to the business, model monitoring (especially for concept / data / model drift), retraining or updating the model when it does drift, and periodic updates with stakeholders to be sure the model is still being used and providing value. Some of these are mentioned again in the appendices below regarding improvements to the analysis and extensions to the project."
   ]
  },
  {
   "cell_type": "markdown",
   "metadata": {
    "gradient": {
     "editing": false
    }
   },
   "source": [
    "### 5.1: Create and start model deployment using Workflows\n",
    "\n",
    "Running `workflow_train_model.py` from section 4.3 above produces a saved model, which we will deploy here.\n",
    "\n",
    "For reference, the lines in the Workflow's `workflow_train_model.py` to save the model are the standard `model.save` form from TensorFlow. The output directory is the location specified in the `workflow-train-model.yaml` file\n",
    "\n",
    "`export_path = '/outputs/trainedRecommender'`  \n",
    "`print('export_path = {}\\n'.format(export_path))`  \n",
    "`model_tr.save(export_path)`\n",
    "\n",
    "Viewing this in the GUI, one can see that the model is on disk and has the usual TensorFlow SavedModel structure:\n",
    "\n",
    " - `saved_model.pb` = code for the model, including its architecture\n",
    " - `variables/` = trained model weights\n",
    " - `assets/` = internal information for restoring the model if needed, here empty so not shown. An example would be a text file for initializing a vocabulary.\n",
    " \n",
    "The model is present and ready to be deployed. The process is similar to running the training, and shows the advantage of using this setup: the machine, cluster configuration, and container are all already available, and the deployments will be organized and versioned similar to how the models are.\n",
    "\n",
    "As with the training, there is a corresponding YAML file, `workflow-deploy-model.yaml` that here contains 3 jobs: `UploadModel`, `CreateDeployment`, and `StartDeployment`. `UploadModel` accesses the desired model version and makes it accessible to the Workflow, then create and start are separate steps since in general not all created deployments will want to be started immediately, and a deployment may want to be stopped without being deleted.\n",
    "\n",
    "Unlike the training, in the deployment here, a further `.py` Python script is not needed.\n",
    "\n",
    "As with training, there are more parameters available, as described in the [API documentation for deployment creation](https://paperspace.github.io/gradient-cli/gradient.api_sdk.clients.html#module-gradient.api_sdk.clients.deployment_client)."
   ]
  },
  {
   "cell_type": "code",
   "execution_count": null,
   "metadata": {
    "gradient": {
     "editing": false
    }
   },
   "outputs": [],
   "source": [
    "spec_path = './workflow-deploy-model.yaml'\n",
    "\n",
    "yaml_spec = open(spec_path, 'r')\n",
    "deploy_spec = yaml.safe_load(yaml_spec)\n",
    "\n",
    "workflow_param_deploy = {\n",
    "    'workflow_id' : workflow_id_deploy,\n",
    "    'spec': deploy_spec,\n",
    "    'inputs': None\n",
    "}\n",
    "\n",
    "workflow_run_deploy = workflows_client.run_workflow(**workflow_param_deploy)"
   ]
  },
  {
   "cell_type": "markdown",
   "metadata": {
    "gradient": {
     "editing": false
    }
   },
   "source": [
    "As with training, we can view the deployment details."
   ]
  },
  {
   "cell_type": "code",
   "execution_count": null,
   "metadata": {
    "gradient": {
     "editing": false
    }
   },
   "outputs": [],
   "source": [
    "workflow_run_deploy"
   ]
  },
  {
   "cell_type": "markdown",
   "metadata": {
    "gradient": {
     "editing": false
    }
   },
   "source": [
    "### 5.2: Send predictions to the model\n",
    "\n",
    "When a model is deployed with Gradient Deployments (or TensorFlow Serving), there is a choice between using the Google gRPC API and the http [REST API](https://www.tensorflow.org/tfx/serving/api_rest#predict_api).\n",
    "\n",
    "Here, we use the REST API.\n",
    "\n",
    "With this API, to send new data (requests) to the deployed model, and have it return predicted movie ratings for that data (predictions), the requests must be formatted as JSON rather than TensorFlow tensors. So we can't just use the same format as the loaded TFDS dataset, or the `cached_train` that we passed in during training above.\n",
    "\n",
    "As a reminder, the raw data loaded in looked like this:"
   ]
  },
  {
   "cell_type": "code",
   "execution_count": null,
   "metadata": {
    "colab": {
     "base_uri": "https://localhost:8080/"
    },
    "gradient": {
     "editing": false
    },
    "id": "pFn7DEMhLGHj",
    "outputId": "6c0bef38-87d7-4f8d-a390-7ec83d8116dd"
   },
   "outputs": [],
   "source": [
    "for x in ratings_raw.take(2).as_numpy_iterator():\n",
    "    pprint.pprint(x)"
   ]
  },
  {
   "cell_type": "markdown",
   "metadata": {
    "gradient": {
     "editing": false
    },
    "id": "WM0-SD87Leza"
   },
   "source": [
    "and the data passed to the model during training looked like this:"
   ]
  },
  {
   "cell_type": "code",
   "execution_count": null,
   "metadata": {
    "colab": {
     "base_uri": "https://localhost:8080/"
    },
    "gradient": {
     "editing": false
    },
    "id": "2mKEL5fYLiPO",
    "outputId": "f8260544-0980-45a2-c2d6-79e1056e2f2b"
   },
   "outputs": [],
   "source": [
    "for x in cached_train.take(2).as_numpy_iterator():\n",
    "    pprint.pprint(x)"
   ]
  },
  {
   "cell_type": "markdown",
   "metadata": {
    "gradient": {
     "editing": false
    },
    "id": "dki19It0KzXR"
   },
   "source": [
    "But for JSON, the data needs to look more like this:\n",
    "\n",
    "```\n",
    "{\n",
    " \"instances\": [\n",
    "   {\n",
    "     \"tag\": \"foo\",\n",
    "     \"signal\": [1, 2, 3, 4, 5],\n",
    "     \"sensor\": [[1, 2], [3, 4]]\n",
    "   },\n",
    "   {\n",
    "     \"tag\": \"bar\",\n",
    "     \"signal\": [3, 4, 1, 2, 5]],\n",
    "     \"sensor\": [[4, 5], [6, 8]]\n",
    "   }\n",
    " ]\n",
    "}\n",
    "```\n",
    "\n",
    "From [the TFX API page](https://www.tensorflow.org/tfx/serving/api_rest#specifying_input_tensors_in_row_format): \"For multiple named inputs, each item is expected to be an object containing input name/tensor value pair, one for each named input. ... a request with two instances, each with a set of three named input tensors\".\n",
    "\n",
    "To create JSON-formatted data, the easiest way at the scale of data in this notebook is to use Python's json module. Then to send it, the requests module is used to enable it to be sent to the REST API via POST."
   ]
  },
  {
   "cell_type": "code",
   "execution_count": null,
   "metadata": {
    "gradient": {
     "editing": true
    },
    "id": "tjvE00XnPtRP"
   },
   "outputs": [],
   "source": [
    "import requests\n",
    "import json"
   ]
  },
  {
   "cell_type": "markdown",
   "metadata": {
    "gradient": {
     "editing": false
    },
    "id": "wRUt3IqsND5k"
   },
   "source": [
    "The correct format of a some data rows (instances) then looks like this:"
   ]
  },
  {
   "cell_type": "code",
   "execution_count": null,
   "metadata": {
    "gradient": {
     "editing": false
    },
    "id": "s0MOEitGXtaM"
   },
   "outputs": [],
   "source": [
    "test_rows_1 = {'movie_title': 'Devils Advocate, The (1997)',\n",
    " 'timestamp': 892870992,\n",
    " 'user_id': '587'}\n",
    "\n",
    "test_rows_2 = {'movie_title': 'Donnie Brasco (1997)',\n",
    " 'timestamp': 891499278,\n",
    " 'user_id': '782'}\n",
    "\n",
    "test_rows_3 = {'movie_title': 'Craft, The (1996)',\n",
    " 'timestamp': 891700850,\n",
    " 'user_id': '280'}"
   ]
  },
  {
   "cell_type": "markdown",
   "metadata": {
    "gradient": {
     "editing": false
    },
    "id": "GcIMvYUlNNIa"
   },
   "source": [
    "And it can be converted to JSON with .dumps (dump string), with the instances as a list."
   ]
  },
  {
   "cell_type": "code",
   "execution_count": null,
   "metadata": {
    "colab": {
     "base_uri": "https://localhost:8080/",
     "height": 69
    },
    "gradient": {
     "editing": false
    },
    "id": "OYHYMjEPM56U",
    "outputId": "b5b1d6b6-a8ea-45a2-8585-837924748186"
   },
   "outputs": [],
   "source": [
    "data = json.dumps({'signature_name': 'serving_default', 'instances': [test_rows_1, test_rows_2, test_rows_3]})\n",
    "data"
   ]
  },
  {
   "cell_type": "markdown",
   "metadata": {
    "gradient": {
     "editing": false
    },
    "id": "uW5bnvRTNU_j"
   },
   "source": [
    "Then the data can be sent to the deployed model via POST, and the returned output extracted from the full response by `.json()`. We can get the model's endpoint from the deployment properties, as shown above."
   ]
  },
  {
   "cell_type": "code",
   "execution_count": null,
   "metadata": {
    "colab": {
     "base_uri": "https://localhost:8080/"
    },
    "gradient": {
     "editing": false
    },
    "id": "ry8Qk0roM59h",
    "outputId": "ad54ad32-2381-475c-c4a3-5cc49128748f"
   },
   "outputs": [],
   "source": [
    "endpoint = deployment[0].endpoint\n",
    "headers = {'content-type': 'application/json'}\n",
    "json_response = requests.post(endpoint, data=data, headers=headers)\n",
    "pprint.pprint(json_response.json(), compact=True)"
   ]
  },
  {
   "cell_type": "markdown",
   "metadata": {
    "gradient": {
     "editing": false
    },
    "id": "Cys2R1B0Nwz4"
   },
   "source": [
    "As with `.predict()` in training above, this has returned both the embeddings and the predictions. We can also extract just the predictions."
   ]
  },
  {
   "cell_type": "code",
   "execution_count": null,
   "metadata": {
    "colab": {
     "base_uri": "https://localhost:8080/"
    },
    "gradient": {
     "editing": false
    },
    "id": "-VV6ZKFuZHNt",
    "outputId": "79cd51bb-2624-4985-a00e-3572cbebaaa5"
   },
   "outputs": [],
   "source": [
    "predictions = json.loads(json_response.text)['predictions']\n",
    "\n",
    "print(predictions[0]['output_3'])\n",
    "print(predictions[1]['output_3'])\n",
    "print(predictions[2]['output_3'])"
   ]
  },
  {
   "cell_type": "markdown",
   "metadata": {
    "gradient": {
     "editing": false
    },
    "id": "0SFYXBQ9NzUj"
   },
   "source": [
    "One thing to note about the above of course is that we wrote the example lines of new data here to send to the model, instead of loading them. This could be improved by, say loading more data from TFDS. In this particular case, more steps would be required in converting the byte-encoded fields into the above format before passing to JSON, because byte-encoded fields are not JSON serializable."
   ]
  },
  {
   "cell_type": "markdown",
   "metadata": {
    "gradient": {
     "editing": false
    }
   },
   "source": [
    "### 5.3: Stop deployment\n",
    "\n",
    "Once we are done with the deployment, we can stop it again to avoid leaving it consuming compute resources."
   ]
  },
  {
   "cell_type": "code",
   "execution_count": null,
   "metadata": {
    "gradient": {
     "editing": false
    }
   },
   "outputs": [],
   "source": [
    "deployments_client.stop(deployment_id)"
   ]
  },
  {
   "cell_type": "markdown",
   "metadata": {
    "gradient": {
     "editing": false
    },
    "id": "tAE5YcD_IW0u"
   },
   "source": [
    "## 6: Conclusions\n",
    "\n",
    "We have shown an end-to-end example of deep learning recommender models in TensorFlow, using the TensorFlow Recommenders (TFRS) library, and the implementation of this using Paperspace Gradient.\n",
    "\n",
    "The main takeaways are:\n",
    "\n",
    " - We showed a real-world-style example of machine learning on Gradient\n",
    " - This is within an end-to-end dataflow incorporating both Gradient Notebooks and Workflows\n",
    " - Modern data science methodology based on Gradient's integrations with Git was used\n",
    " - We used TensorFlow 2 and TensorFlow Recommenders (TFRS) to train a recommender model that includes deep learning\n",
    " - We used training data that reflects what real-world projects deal with (not just demo data)\n",
    " - We constructed a custom model using the full TensorFlow subclassing API\n",
    " - Feature engineering and hyperparameter tuning improved model performance versus a basic model (RMSE between predicted and user ratings from ~ 1.1 to ~ 1)\n",
    " - The model was deployed using Gradient Deployments and its TensorFlow Serving integrations\n",
    " - Accompanying material is available: the 6 part blog series, and Git repository\n",
    " - We have aimed at a broad technical audience: data scientists who are not engineers, engineers who are not data scientists, those who span the two disciplines, and others\n",
    "\n",
    "The project is not a complete enterprise-grade recommender system: they would typically take teams of several people months to construct, but it aims to be more than just a simple demonstration or toy model, by showcasing real data science techniques."
   ]
  },
  {
   "cell_type": "markdown",
   "metadata": {
    "gradient": {
     "editing": false
    },
    "id": "efApI0Ii6srB"
   },
   "source": [
    "# Next steps\n",
    "\n",
    "Now that you have seen recommender systems, deep learning, and Paperspace Gradient, if you are interested in taking some next steps, some options are:\n",
    "\n",
    " - Sign up for [Paperspace](https://paperspace.com), if not done already\n",
    " - Run this notebook on [Gradient](https://gradient.paperspace.com), if not done already\n",
    " - Read the accompanying [blog series](https://blog.paperspace.com) to this notebook\n",
    " - See more projects on our [ML Showcase](https://ml-showcase.paperspace.com)\n",
    " - View the Gradient [documentation](https://docs.paperspace.com) or [API reference](https://paperspace.github.io/gradient-cli)\n",
    " - Learn more about recommenders at [TFRS](https://www.tensorflow.org/recommenders)\n",
    " - Check out more links and references in the [final part]() of the blog\n",
    " - [Contact sales](https://info.paperspace.com/contact-sales)"
   ]
  },
  {
   "cell_type": "markdown",
   "metadata": {
    "gradient": {
     "editing": false
    },
    "id": "Flxm19Sos2Xz"
   },
   "source": [
    "# Appendices\n",
    "\n",
    "These show ways the project can be extended, either generically, or in ways specifically aided by Paperspace Gradient."
   ]
  },
  {
   "cell_type": "markdown",
   "metadata": {
    "gradient": {
     "editing": false
    },
    "id": "z2-iK1-LHo-1"
   },
   "source": [
    "## Appendix 1: Improvements to the analysis\n",
    "\n",
    "These are some ways that the analysis could be improved while telling the same story. These are given in the order in which they would appear in the dataflow.\n",
    "\n",
    "They are relatively briefly described here. For more details, see the final part of the blog.\n",
    "\n",
    "A few minor detail improvements were also included in various code comments throughout the notebook.\n",
    "\n",
    " - Add more to the business story: here it is showing the generic concept of a deep learning recommender improving upon a basic model, but it is not translated into specific quantified business value for a given use case.\n",
    " - Use a bigger dataset: Aside from movielens-100k, the available datasets include 1M, 20M, and 25M. 20M and 25M contain less demographic information but still include user ratings.\n",
    " - Data larger than 25M can be produced via simulation if we wish to show scaling to bigger sizes, e.g., the [original MovieLens site](https://grouplens.org/datasets/movielens) contains a synthetic dataset called MovieLens-1B, which can go to numbers of interactions in the billions.\n",
    " - Add data exploration for information and sanity checking.\n",
    " - Use more [features](https://www.tensorflow.org/recommenders/examples/featurization) and [context](https://www.tensorflow.org/recommenders/examples/context_features) from the dataset to improve model performance, including preprocessing with word embedding, text tokenization, normalizaton of numerical values, and timestamps.\n",
    " - Feature selection / engineering, e.g., day of week or time of day.\n",
    " - Hyperparameter tuning improvements noted in section 4.2 above.\n",
    " - Turning metric calculation off in training for [retrieval models](https://www.tensorflow.org/recommenders/examples/basic_retrieval) (compute_metrics in task as False) can make training faster.\n",
    " - Examine the model output predicted ratings in more detail - most are currently around 3-4, and since most reviews are 3-5 out of 5, just saying 3.5ish every time might give the best RMSE.\n",
    " - Remove all randomness in execution of the ML models, making their results exactly reproducible. This may not be possible in some environments such as a distributed system.\n",
    " - Use Paperspace's GPU instances for faster training of large models."
   ]
  },
  {
   "cell_type": "markdown",
   "metadata": {
    "gradient": {
     "editing": false
    },
    "id": "q3ltn-uGIGkU"
   },
   "source": [
    "## Appendix 2: Extensions to the project\n",
    "\n",
    "These are possible extensions to the analysis that would add to the story, again in approximate dataflow order.\n",
    "\n",
    "### Generic\n",
    "\n",
    " - Address [fairness, bias, etc.](https://www.tensorflow.org/tfx/guide/fairness_indicators), in feature selection and model training.\n",
    " - Show dealing with missing data and out-of-vocabulary categoricals.\n",
    " - Show improving performance via [feature crosses](https://www.tensorflow.org/recommenders/examples/dcn).\n",
    " - Add the retrieval model and hence a [combined model](https://www.tensorflow.org/recommenders/examples/multitask) for both retrieval and ranking.\n",
    " - Show dealing with the \"cold start\" problem of what to recommend to a new user who hasn't watched any movies but whose information we possess.\n",
    " - Use data from common tasks to help model rarer tasks via transfer learning.\n",
    " - Add an option to exclude already-watched shows or movies from a user's recommendations, or add extra variety versus the baseline choices.\n",
    " - Visualize the trained model with TensorBoard or [TFMA](https://www.tensorflow.org/tfx/model_analysis/metrics).\n",
    " - Provide [explanations](https://www.tensorflow.org/recommenders/examples/dcn) for the models' choices of recommendations.\n",
    " - For retrieval, deploy with [ScaNN approximate nearest neighbors](https://www.tensorflow.org/recommenders/examples/efficient_serving) to speed up model inference. Tune the layer for better performance/accuracy tradeoff.\n",
    " - Monitor the deployed model for drift and/or anomalies using a monitoring tool.\n",
    "\n",
    "### Paperspace Gradient-specific\n",
    "\n",
    " - Show the relation between working in Notebooks, Workflows, and Gradient's GradientCI GitHub integration capabilities, e.g., versioning of notebooks, when they are supported by Workflows.\n",
    " - Show getting the data from somewhere that is not TensorFlow's prepackaged datasets (TFDS), that Gradient easily connects to, e.g., Amazon S3.\n",
    " - Show distributed training with Gradient's multinode capability.\n",
    " - Combine multinode, GPU, and GradientCI to show distributed GPU training that follows good versioning practices and GitHub integration.\n",
    " - Show full specification of the end-to-end data flow (software, versions, licenses, security) in a way that makes it easy for an enterprise IT department to approve it.\n",
    " - Show production of an audit trail from the end-to-end process, making it auditable and hence FAccT (fair, accountable, and transparent).\n",
    " - Show how other users can query the deployed model.\n",
    " - Show retraining being triggered with Gradient's jobs function, e.g., if deployed model has drifted.\n",
    " - Show rollback to an earlier deployed model.\n",
    " - Show a GUI application (e.g., Streamlit) that accesses the deployed model's API endpoint, making its functionality accessible to non-technical as well as technical users."
   ]
  }
 ],
 "metadata": {
  "colab": {
   "collapsed_sections": [
    "tnDTzpDQ_hUS",
    "tAE5YcD_IW0u",
    "efApI0Ii6srB"
   ],
   "name": "deep_learning_recommender_tf.ipynb",
   "provenance": [],
   "toc_visible": true
  },
  "kernelspec": {
   "display_name": "Python 3",
   "language": "python",
   "name": "python3"
  },
  "language_info": {
   "codemirror_mode": {
    "name": "ipython",
    "version": 3
   },
   "file_extension": ".py",
   "mimetype": "text/x-python",
   "name": "python",
   "nbconvert_exporter": "python",
   "pygments_lexer": "ipython3",
   "version": "3.6.9"
  }
 },
 "nbformat": 4,
 "nbformat_minor": 4
}
